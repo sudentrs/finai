{
 "cells": [
  {
   "cell_type": "code",
   "execution_count": 4,
   "metadata": {},
   "outputs": [],
   "source": [
    "import os\n",
    "from sec_edgar_downloader import Downloader\n",
    "from datetime import datetime"
   ]
  },
  {
   "cell_type": "code",
   "execution_count": null,
   "metadata": {},
   "outputs": [],
   "source": []
  },
  {
   "cell_type": "code",
   "execution_count": null,
   "metadata": {},
   "outputs": [],
   "source": [
    "import os\n",
    "from sec_edgar_downloader import Downloader\n",
    "from datetime import datetime\n",
    "\n",
    "# Define the directory to save the filings\n",
    "DOWNLOAD_DIR = \"sec_filings\"\n",
    "\n",
    "# Create the downloader instance\n",
    "dl = Downloader(DOWNLOAD_DIR)\n",
    "\n",
    "# Define the company's Ticker or CIK\n",
    "ticker = \"AAPL\"  # Example: Apple Inc.\n",
    "\n",
    "# Define the starting year and current year\n",
    "start_year = 2000\n",
    "end_year = datetime.now().year\n",
    "\n",
    "# Function to download filings for a specific year\n",
    "def download_filings_by_year(ticker, filing_type, start_year, end_year):\n",
    "    \"\"\"\n",
    "    Download all filings for a given ticker between start_year and end_year.\n",
    "\n",
    "    :param ticker: Company ticker or CIK.\n",
    "    :param filing_type: '10-K' or '10-Q'.\n",
    "    :param start_year: Year to start fetching reports from.\n",
    "    :param end_year: The last year to fetch reports.\n",
    "    \"\"\"\n",
    "    for year in range(start_year, end_year + 1):\n",
    "        try:\n",
    "            print(f\"Downloading {filing_type} filings for {ticker} in {year}...\")\n",
    "            dl.get(filing_type, ticker, after=f\"{year}-01-01\", before=f\"{year}-12-31\")\n",
    "        except Exception as e:\n",
    "            print(f\"Error downloading {filing_type} for {year}: {e}\")\n",
    "\n",
    "# Download 10-K and 10-Q reports for each year\n",
    "download_filings_by_year(ticker, \"10-K\", start_year, end_year)\n",
    "download_filings_by_year(ticker, \"10-Q\", start_year, end_year)\n",
    "\n",
    "# Print the directory where the files are saved\n",
    "print(f\"Files are saved in: {os.path.abspath(DOWNLOAD_DIR)}\")\n"
   ]
  }
 ],
 "metadata": {
  "kernelspec": {
   "display_name": "pythonenv",
   "language": "python",
   "name": "python3"
  },
  "language_info": {
   "codemirror_mode": {
    "name": "ipython",
    "version": 3
   },
   "file_extension": ".py",
   "mimetype": "text/x-python",
   "name": "python",
   "nbconvert_exporter": "python",
   "pygments_lexer": "ipython3",
   "version": "3.12.9"
  }
 },
 "nbformat": 4,
 "nbformat_minor": 2
}
