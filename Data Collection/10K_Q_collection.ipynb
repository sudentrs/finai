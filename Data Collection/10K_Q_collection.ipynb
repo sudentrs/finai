{
 "cells": [
  {
   "cell_type": "code",
   "execution_count": 11,
   "metadata": {},
   "outputs": [],
   "source": [
    "import os\n",
    "from sec_edgar_downloader import Downloader\n",
    "from datetime import datetime\n",
    "import glob\n",
    "from bs4 import BeautifulSoup"
   ]
  },
  {
   "cell_type": "code",
   "execution_count": 2,
   "metadata": {},
   "outputs": [],
   "source": [
    "# the directory to save the filings\n",
    "DOWNLOAD_DIR = \"sec_filings\""
   ]
  },
  {
   "cell_type": "code",
   "execution_count": 4,
   "metadata": {},
   "outputs": [],
   "source": [
    "# create the downloader instance\n",
    "email_address = \"sude.tiras@sabanciuniv.edu\"  # Replace with your email address\n",
    "dl = Downloader(DOWNLOAD_DIR, email_address)"
   ]
  },
  {
   "cell_type": "code",
   "execution_count": 5,
   "metadata": {},
   "outputs": [
    {
     "name": "stdout",
     "output_type": "stream",
     "text": [
      "Downloading 10-K filings for AAPL in 2022...\n",
      "Downloading 10-K filings for AAPL in 2023...\n",
      "Downloading 10-K filings for AAPL in 2024...\n",
      "Downloading 10-K filings for AAPL in 2025...\n",
      "Downloading 10-Q filings for AAPL in 2022...\n",
      "Downloading 10-Q filings for AAPL in 2023...\n",
      "Downloading 10-Q filings for AAPL in 2024...\n",
      "Downloading 10-Q filings for AAPL in 2025...\n",
      "Files are saved in: c:\\Users\\sudet\\Desktop\\finai\\finai\\Data Collection\\sec_filings\n"
     ]
    }
   ],
   "source": [
    "# Define the company's Ticker or CIK\n",
    "ticker = \"AAPL\"  # Example: Apple Inc.\n",
    "\n",
    "# Define the starting year and current year\n",
    "start_year = 2022\n",
    "end_year = datetime.now().year\n",
    "\n",
    "# Function to download filings for a specific year\n",
    "def download_filings_by_year(ticker, filing_type, start_year, end_year):\n",
    "    \"\"\"\n",
    "    Download all filings for a given ticker between start_year and end_year.\n",
    "\n",
    "    :param ticker: Company ticker or CIK.\n",
    "    :param filing_type: '10-K' or '10-Q'.\n",
    "    :param start_year: Year to start fetching reports from.\n",
    "    :param end_year: The last year to fetch reports.\n",
    "    \"\"\"\n",
    "    for year in range(start_year, end_year + 1):\n",
    "        try:\n",
    "            print(f\"Downloading {filing_type} filings for {ticker} in {year}...\")\n",
    "            dl.get(filing_type, ticker, after=f\"{year}-01-01\", before=f\"{year}-12-31\")\n",
    "        except Exception as e:\n",
    "            print(f\"Error downloading {filing_type} for {year}: {e}\")\n",
    "\n",
    "# Download 10-K and 10-Q reports for each year\n",
    "download_filings_by_year(ticker, \"10-K\", start_year, end_year)\n",
    "download_filings_by_year(ticker, \"10-Q\", start_year, end_year)\n",
    "\n",
    "# Print the directory where the files are saved\n",
    "print(f\"Files are saved in: {os.path.abspath(DOWNLOAD_DIR)}\")\n"
   ]
  },
  {
   "cell_type": "code",
   "execution_count": 10,
   "metadata": {},
   "outputs": [
    {
     "name": "stdout",
     "output_type": "stream",
     "text": [
      "Processing filings for CIK: AAPL\n",
      "Extracting: sec-edgar-filings\\AAPL\\10-K\\0000320193-22-000108\\full-submission.txt\n",
      "Saved cleaned file: sec-edgar-filings\\AAPL\\10-K\\0000320193-22-000108\\full-submission_cleaned.txt\n",
      "Extracting: sec-edgar-filings\\AAPL\\10-K\\0000320193-23-000106\\full-submission.txt\n",
      "Saved cleaned file: sec-edgar-filings\\AAPL\\10-K\\0000320193-23-000106\\full-submission_cleaned.txt\n",
      "Extracting: sec-edgar-filings\\AAPL\\10-K\\0000320193-24-000123\\full-submission.txt\n",
      "Saved cleaned file: sec-edgar-filings\\AAPL\\10-K\\0000320193-24-000123\\full-submission_cleaned.txt\n",
      "Extracting: sec-edgar-filings\\AAPL\\10-Q\\0000320193-22-000007\\full-submission.txt\n",
      "Saved cleaned file: sec-edgar-filings\\AAPL\\10-Q\\0000320193-22-000007\\full-submission_cleaned.txt\n",
      "Extracting: sec-edgar-filings\\AAPL\\10-Q\\0000320193-22-000059\\full-submission.txt\n",
      "Saved cleaned file: sec-edgar-filings\\AAPL\\10-Q\\0000320193-22-000059\\full-submission_cleaned.txt\n",
      "Extracting: sec-edgar-filings\\AAPL\\10-Q\\0000320193-22-000070\\full-submission.txt\n",
      "Saved cleaned file: sec-edgar-filings\\AAPL\\10-Q\\0000320193-22-000070\\full-submission_cleaned.txt\n",
      "Extracting: sec-edgar-filings\\AAPL\\10-Q\\0000320193-23-000006\\full-submission.txt\n",
      "Saved cleaned file: sec-edgar-filings\\AAPL\\10-Q\\0000320193-23-000006\\full-submission_cleaned.txt\n",
      "Extracting: sec-edgar-filings\\AAPL\\10-Q\\0000320193-23-000064\\full-submission.txt\n",
      "Saved cleaned file: sec-edgar-filings\\AAPL\\10-Q\\0000320193-23-000064\\full-submission_cleaned.txt\n",
      "Extracting: sec-edgar-filings\\AAPL\\10-Q\\0000320193-23-000077\\full-submission.txt\n",
      "Saved cleaned file: sec-edgar-filings\\AAPL\\10-Q\\0000320193-23-000077\\full-submission_cleaned.txt\n",
      "Extracting: sec-edgar-filings\\AAPL\\10-Q\\0000320193-24-000006\\full-submission.txt\n",
      "Saved cleaned file: sec-edgar-filings\\AAPL\\10-Q\\0000320193-24-000006\\full-submission_cleaned.txt\n",
      "Extracting: sec-edgar-filings\\AAPL\\10-Q\\0000320193-24-000069\\full-submission.txt\n",
      "Saved cleaned file: sec-edgar-filings\\AAPL\\10-Q\\0000320193-24-000069\\full-submission_cleaned.txt\n",
      "Extracting: sec-edgar-filings\\AAPL\\10-Q\\0000320193-24-000081\\full-submission.txt\n",
      "Saved cleaned file: sec-edgar-filings\\AAPL\\10-Q\\0000320193-24-000081\\full-submission_cleaned.txt\n",
      "Extracting: sec-edgar-filings\\AAPL\\10-Q\\0000320193-25-000008\\full-submission.txt\n",
      "Saved cleaned file: sec-edgar-filings\\AAPL\\10-Q\\0000320193-25-000008\\full-submission_cleaned.txt\n"
     ]
    }
   ],
   "source": [
    "import os\n",
    "import glob\n",
    "from bs4 import BeautifulSoup\n",
    "\n",
    "\n",
    "# Directory where SEC filings are stored\n",
    "SEC_FILINGS_DIR = \"sec-edgar-filings\"\n",
    "\n",
    "# Function to extract readable text from SEC filing\n",
    "def extract_clean_text(file_path):\n",
    "    with open(file_path, \"r\", encoding=\"utf-8\", errors=\"ignore\") as file:\n",
    "        content = file.read()\n",
    "        \n",
    "        # Parse HTML/XML content\n",
    "        soup = BeautifulSoup(content, \"lxml\")\n",
    "        \n",
    "        # Extract all readable text from document body\n",
    "        for tag in [\"script\", \"style\", \"ix:header\", \"ix:nonNumeric\", \"ix:nonFraction\"]:\n",
    "            [s.extract() for s in soup.find_all(tag)]\n",
    "        \n",
    "        # Convert to plain text\n",
    "        text = soup.get_text(separator=\"\\n\")\n",
    "        \n",
    "        # Remove excessive blank lines\n",
    "        text = \"\\n\".join([line.strip() for line in text.split(\"\\n\") if line.strip()])\n",
    "        \n",
    "        return text\n",
    "\n",
    "# Process all SEC filing files\n",
    "for company_folder in glob.glob(f\"{SEC_FILINGS_DIR}/*\"):\n",
    "    cik = os.path.basename(company_folder)\n",
    "    print(f\"Processing filings for CIK: {cik}\")\n",
    "\n",
    "    for filing_type in [\"10-K\", \"10-Q\"]:\n",
    "        filing_dir = os.path.join(company_folder, filing_type)\n",
    "        if not os.path.exists(filing_dir):\n",
    "            continue\n",
    "        \n",
    "        for file in glob.glob(f\"{filing_dir}/*/*.txt\"):\n",
    "            try:\n",
    "                print(f\"Extracting: {file}\")\n",
    "                clean_text = extract_clean_text(file)\n",
    "\n",
    "                # Save cleaned text\n",
    "                output_file = file.replace(\".txt\", \"_cleaned.txt\")\n",
    "                with open(output_file, \"w\", encoding=\"utf-8\") as out:\n",
    "                    out.write(clean_text)\n",
    "\n",
    "                print(f\"Saved cleaned file: {output_file}\")\n",
    "            except Exception as e:\n",
    "                print(f\"Error processing {file}: {e}\")\n"
   ]
  }
 ],
 "metadata": {
  "kernelspec": {
   "display_name": "pythonenv",
   "language": "python",
   "name": "python3"
  },
  "language_info": {
   "codemirror_mode": {
    "name": "ipython",
    "version": 3
   },
   "file_extension": ".py",
   "mimetype": "text/x-python",
   "name": "python",
   "nbconvert_exporter": "python",
   "pygments_lexer": "ipython3",
   "version": "3.12.9"
  }
 },
 "nbformat": 4,
 "nbformat_minor": 2
}
