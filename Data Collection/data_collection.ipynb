{
 "cells": [
  {
   "cell_type": "code",
   "execution_count": 2,
   "metadata": {},
   "outputs": [],
   "source": [
    "import os\n",
    "from sec_edgar_downloader import Downloader"
   ]
  },
  {
   "cell_type": "code",
   "execution_count": 3,
   "metadata": {},
   "outputs": [],
   "source": [
    "DOWNLOAD_DIR = \"sec-edgar-filings\"\n",
    "if not os.path.exists(DOWNLOAD_DIR):\n",
    "    os.makedirs(DOWNLOAD_DIR)"
   ]
  },
  {
   "cell_type": "code",
   "execution_count": 4,
   "metadata": {},
   "outputs": [],
   "source": [
    "email_address = \"sude.tiras@sabanciuniv.edu\"  # Replace with your email address\n",
    "dl = Downloader(DOWNLOAD_DIR, email_address)"
   ]
  },
  {
   "cell_type": "code",
   "execution_count": 5,
   "metadata": {},
   "outputs": [
    {
     "data": {
      "text/plain": [
       "'\\nimport os\\nimport time\\nimport requests\\nimport pandas as pd\\nfrom tqdm import tqdm\\nfrom sec_edgar_downloader import Downloader\\n\\n# Load tickers from CSV\\nfile_path = \"companies.csv\"  # Update this path if needed\\ntickers_df = pd.read_csv(file_path, header=None)\\ntickers_df = tickers_df.head(500)\\ntickers = tickers_df.iloc[1:, 1].tolist()  # Extract tickers (ignoring header)\\n\\n# Define forms and years to download\\nyears = range(2023, 2025)  # Adjust as needed\\nforms = [\"10-Q\"]  # Forms to download\\n\\n# Function to download filings for each company\\ndef download_filings(dl, cik, ticker, forms, years):\\n    for form in forms:\\n        for year in years:\\n            print(f\"Downloading {form} for {ticker} ({year})...\")\\n            dl.get(form, cik, after=f\"{year}-01-01\", before=f\"{year}-12-31\")\\n\\n# Download filings for each company\\nfor ticker in tqdm(tickers, desc=\"Downloading SEC Filings\"):\\n    try:\\n        download_filings(dl, ticker, ticker, forms, years)\\n        time.sleep(1)  # Avoid SEC rate limits\\n    except Exception as e:\\n        print(f\"Error downloading {ticker}: {e}\")\\n\\nprint(\"Download complete!\")\\n'"
      ]
     },
     "execution_count": 5,
     "metadata": {},
     "output_type": "execute_result"
    }
   ],
   "source": [
    "\"\"\"\n",
    "import os\n",
    "import time\n",
    "import requests\n",
    "import pandas as pd\n",
    "from tqdm import tqdm\n",
    "from sec_edgar_downloader import Downloader\n",
    "\n",
    "# Load tickers from CSV\n",
    "file_path = \"companies.csv\"  # Update this path if needed\n",
    "tickers_df = pd.read_csv(file_path, header=None)\n",
    "tickers_df = tickers_df.head(500)\n",
    "tickers = tickers_df.iloc[1:, 1].tolist()  # Extract tickers (ignoring header)\n",
    "\n",
    "# Define forms and years to download\n",
    "years = range(2023, 2025)  # Adjust as needed\n",
    "forms = [\"10-Q\"]  # Forms to download\n",
    "\n",
    "# Function to download filings for each company\n",
    "def download_filings(dl, cik, ticker, forms, years):\n",
    "    for form in forms:\n",
    "        for year in years:\n",
    "            print(f\"Downloading {form} for {ticker} ({year})...\")\n",
    "            dl.get(form, cik, after=f\"{year}-01-01\", before=f\"{year}-12-31\")\n",
    "\n",
    "# Download filings for each company\n",
    "for ticker in tqdm(tickers, desc=\"Downloading SEC Filings\"):\n",
    "    try:\n",
    "        download_filings(dl, ticker, ticker, forms, years)\n",
    "        time.sleep(1)  # Avoid SEC rate limits\n",
    "    except Exception as e:\n",
    "        print(f\"Error downloading {ticker}: {e}\")\n",
    "\n",
    "print(\"Download complete!\")\n",
    "\"\"\""
   ]
  },
  {
   "cell_type": "code",
   "execution_count": null,
   "metadata": {},
   "outputs": [
    {
     "name": "stderr",
     "output_type": "stream",
     "text": [
      "Downloading SEC Filings:   0%|          | 0/499 [00:00<?, ?it/s]"
     ]
    },
    {
     "name": "stdout",
     "output_type": "stream",
     "text": [
      "Downloading 10-Q for META (2000)...\n",
      "Downloading 10-Q for NVDA (2000)...\n",
      "Downloading 10-Q for AMZN (2000)...\n",
      "Downloading 10-Q for MSFT (2000)...\n",
      "Downloading 10-Q for AVGO (2000)...\n",
      "Downloading 10-Q for GOOGL (2000)...\n",
      "Downloading 10-Q for AAPL (2000)...\n",
      "Downloading 10-Q for TSM (2000)...\n",
      "Downloading 10-Q for TSLA (2000)...\n",
      "Downloading 10-Q for BRK-B (2000)...\n",
      "Downloading 10-Q for JPM (2000)...\n",
      "Downloading 10-Q for WMT (2000)...\n",
      "Downloading 10-Q for MA (2000)...\n",
      "Downloading 10-Q for XOM (2000)...\n",
      "Downloading 10-Q for PG (2000)...\n",
      "Downloading 10-Q for UNH (2000)...\n",
      "Downloading 10-Q for LLY (2000)...\n",
      "Downloading 10-Q for SPY (2000)...\n",
      "Downloading 10-Q for V (2000)...\n",
      "Downloading 10-Q for COST (2000)...\n",
      "Downloading 10-Q for SPY (2001)...\n",
      "Downloading 10-Q for AVGO (2001)...\n",
      "Downloading 10-Q for SPY (2002)...\n",
      "Downloading 10-Q for V (2001)...\n",
      "Downloading 10-Q for AVGO (2002)...\n",
      "Downloading 10-Q for GOOGL (2001)...\n",
      "Downloading 10-Q for NVDA (2001)...\n",
      "Downloading 10-Q for TSM (2001)...\n",
      "Downloading 10-Q for TSLA (2001)...\n",
      "Downloading 10-Q for SPY (2003)...\n",
      "Downloading 10-Q for COST (2001)...\n",
      "Downloading 10-Q for AAPL (2001)...\n",
      "Downloading 10-Q for AMZN (2001)...\n",
      "Downloading 10-Q for BRK-B (2001)...\n",
      "Downloading 10-Q for MA (2001)...\n",
      "Downloading 10-Q for AVGO (2003)...\n",
      "Downloading 10-Q for UNH (2001)...\n",
      "Downloading 10-Q for LLY (2001)...\n",
      "Downloading 10-Q for WMT (2001)...\n",
      "Downloading 10-Q for MSFT (2001)...\n",
      "Downloading 10-Q for META (2001)...\n",
      "Downloading 10-Q for SPY (2004)...\n",
      "Downloading 10-Q for XOM (2001)...\n",
      "Downloading 10-Q for GOOGL (2002)...\n",
      "Downloading 10-Q for AVGO (2004)...\n",
      "Downloading 10-Q for PG (2001)...\n",
      "Downloading 10-Q for V (2002)...\n",
      "Downloading 10-Q for NVDA (2002)...\n",
      "Downloading 10-Q for TSM (2002)...\n",
      "Downloading 10-Q for SPY (2005)...\n",
      "Downloading 10-Q for TSLA (2002)...\n",
      "Downloading 10-Q for AAPL (2002)...\n",
      "Downloading 10-Q for COST (2002)...\n",
      "Downloading 10-Q for BRK-B (2002)...\n",
      "Downloading 10-Q for AMZN (2002)...\n",
      "Downloading 10-Q for MA (2002)...\n",
      "Downloading 10-Q for AVGO (2005)...\n",
      "Downloading 10-Q for SPY (2006)...\n",
      "Downloading 10-Q for V (2003)...\n",
      "Downloading 10-Q for UNH (2002)...\n",
      "Downloading 10-Q for AVGO (2006)...\n",
      "Downloading 10-Q for GOOGL (2003)...\n",
      "Downloading 10-Q for MSFT (2002)...\n",
      "Downloading 10-Q for WMT (2002)...\n",
      "Downloading 10-Q for LLY (2002)...\n",
      "Downloading 10-Q for NVDA (2003)...\n",
      "Downloading 10-Q for TSM (2003)...\n",
      "Downloading 10-Q for SPY (2007)...\n",
      "Downloading 10-Q for TSLA (2003)...\n",
      "Downloading 10-Q for AAPL (2003)...\n",
      "Downloading 10-Q for COST (2003)...\n",
      "Downloading 10-Q for META (2002)...\n",
      "Downloading 10-Q for XOM (2002)...\n",
      "Downloading 10-Q for AMZN (2003)...\n",
      "Downloading 10-Q for MA (2003)...\n",
      "Downloading 10-Q for BRK-B (2003)...\n",
      "Downloading 10-Q for AVGO (2007)...\n",
      "Downloading 10-Q for SPY (2008)...\n",
      "Downloading 10-Q for PG (2002)...\n",
      "Downloading 10-Q for AVGO (2008)...\n",
      "Downloading 10-Q for V (2004)...\n",
      "Downloading 10-Q for GOOGL (2004)...\n",
      "Downloading 10-Q for NVDA (2004)...\n",
      "Downloading 10-Q for SPY (2009)...\n",
      "Downloading 10-Q for TSLA (2004)...\n",
      "Downloading 10-Q for TSM (2004)...\n",
      "Downloading 10-Q for AAPL (2004)...Downloading 10-Q for COST (2004)...\n",
      "\n",
      "Downloading 10-Q for BRK-B (2004)...\n",
      "Downloading 10-Q for AMZN (2004)...\n",
      "Downloading 10-Q for MA (2004)...\n",
      "Downloading 10-Q for AVGO (2009)...\n",
      "Downloading 10-Q for MSFT (2003)...\n",
      "Downloading 10-Q for UNH (2003)...\n",
      "Downloading 10-Q for LLY (2003)...\n",
      "Downloading 10-Q for WMT (2003)...\n",
      "Downloading 10-Q for SPY (2010)...\n",
      "Downloading 10-Q for META (2003)...\n",
      "Downloading 10-Q for XOM (2003)...\n",
      "Downloading 10-Q for V (2005)...\n",
      "Downloading 10-Q for AVGO (2010)...\n",
      "Downloading 10-Q for GOOGL (2005)...\n",
      "Downloading 10-Q for NVDA (2005)...\n",
      "Downloading 10-Q for SPY (2011)...\n",
      "Downloading 10-Q for TSLA (2005)...\n",
      "Downloading 10-Q for AAPL (2005)...\n",
      "Downloading 10-Q for TSM (2005)...\n",
      "Downloading 10-Q for MA (2005)...\n",
      "Downloading 10-Q for AMZN (2005)...\n",
      "Downloading 10-Q for BRK-B (2005)...\n",
      "Downloading 10-Q for AVGO (2011)...\n",
      "Downloading 10-Q for SPY (2012)...\n",
      "Downloading 10-Q for PG (2003)...\n",
      "Downloading 10-Q for V (2006)...\n",
      "Downloading 10-Q for GOOGL (2006)...\n",
      "Downloading 10-Q for AVGO (2012)...\n",
      "Downloading 10-Q for NVDA (2006)...\n",
      "Downloading 10-Q for UNH (2004)...\n",
      "Downloading 10-Q for LLY (2004)...\n",
      "Downloading 10-Q for WMT (2004)...\n",
      "Downloading 10-Q for MSFT (2004)...\n",
      "Downloading 10-Q for SPY (2013)...\n",
      "Downloading 10-Q for XOM (2004)...\n",
      "Downloading 10-Q for TSLA (2006)...\n",
      "Downloading 10-Q for TSM (2006)...\n",
      "Downloading 10-Q for META (2004)...\n",
      "Downloading 10-Q for BRK-B (2006)...Downloading 10-Q for AAPL (2006)...\n",
      "Downloading 10-Q for AMZN (2006)...\n",
      "\n",
      "Downloading 10-Q for MA (2006)...\n",
      "Downloading 10-Q for AVGO (2013)...\n",
      "Downloading 10-Q for SPY (2014)...\n",
      "Downloading 10-Q for GOOGL (2007)...\n",
      "Downloading 10-Q for AVGO (2014)...\n",
      "Downloading 10-Q for V (2007)...\n",
      "Downloading 10-Q for NVDA (2007)...\n",
      "Downloading 10-Q for COST (2005)...\n",
      "Downloading 10-Q for SPY (2015)...\n",
      "Downloading 10-Q for TSM (2007)...\n",
      "Downloading 10-Q for BRK-B (2007)...\n",
      "Downloading 10-Q for TSLA (2007)...\n",
      "Downloading 10-Q for AMZN (2007)...\n",
      "Downloading 10-Q for MA (2007)...\n",
      "Downloading 10-Q for AAPL (2007)...\n",
      "Downloading 10-Q for AVGO (2015)...\n",
      "Downloading 10-Q for LLY (2005)...\n",
      "Downloading 10-Q for WMT (2005)...\n",
      "Downloading 10-Q for MSFT (2005)...\n",
      "Downloading 10-Q for XOM (2005)...\n",
      "Downloading 10-Q for SPY (2016)...\n",
      "Downloading 10-Q for META (2005)...\n",
      "Downloading 10-Q for AVGO (2016)...\n",
      "Downloading 10-Q for NVDA (2008)...\n",
      "Downloading 10-Q for V (2008)...\n",
      "Downloading 10-Q for GOOGL (2008)...\n",
      "Downloading 10-Q for TSM (2008)...\n",
      "Downloading 10-Q for SPY (2017)...\n",
      "Downloading 10-Q for BRK-B (2008)...\n",
      "Downloading 10-Q for AMZN (2008)...\n",
      "Downloading 10-Q for COST (2006)...\n",
      "Downloading 10-Q for TSLA (2008)...\n",
      "Downloading 10-Q for MA (2008)...\n",
      "Downloading 10-Q for AAPL (2008)...\n",
      "Downloading 10-Q for AVGO (2017)...\n",
      "Downloading 10-Q for SPY (2018)...\n",
      "Downloading 10-Q for V (2009)...\n",
      "Downloading 10-Q for LLY (2006)...\n",
      "Downloading 10-Q for WMT (2006)...\n",
      "Downloading 10-Q for GOOGL (2009)...\n",
      "Downloading 10-Q for AVGO (2018)...\n",
      "Downloading 10-Q for NVDA (2009)...\n",
      "Downloading 10-Q for MSFT (2006)...\n",
      "Downloading 10-Q for TSLA (2009)...\n",
      "Downloading 10-Q for META (2006)...\n",
      "Downloading 10-Q for TSM (2009)...\n",
      "Downloading 10-Q for XOM (2006)...\n",
      "Downloading 10-Q for SPY (2019)...\n",
      "Downloading 10-Q for AAPL (2009)...\n",
      "Downloading 10-Q for AMZN (2009)...\n",
      "Downloading 10-Q for MA (2009)...\n",
      "Downloading 10-Q for BRK-B (2009)...\n",
      "Downloading 10-Q for COST (2007)...\n",
      "Downloading 10-Q for PG (2004)...\n",
      "Downloading 10-Q for AVGO (2019)...\n",
      "Downloading 10-Q for SPY (2020)...\n",
      "Downloading 10-Q for V (2010)...\n",
      "Downloading 10-Q for AVGO (2020)...\n",
      "Downloading 10-Q for GOOGL (2010)...\n",
      "Downloading 10-Q for TSLA (2010)...\n",
      "Downloading 10-Q for TSM (2010)...\n",
      "Downloading 10-Q for NVDA (2010)...\n",
      "Downloading 10-Q for SPY (2021)...\n",
      "Downloading 10-Q for BRK-B (2010)...\n",
      "Downloading 10-Q for AAPL (2010)...\n",
      "Downloading 10-Q for COST (2008)...\n",
      "Downloading 10-Q for AMZN (2010)...\n",
      "Downloading 10-Q for WMT (2007)...\n"
     ]
    },
    {
     "name": "stderr",
     "output_type": "stream",
     "text": [
      "Downloading SEC Filings:   0%|          | 1/499 [00:44<6:12:26, 44.87s/it]"
     ]
    },
    {
     "name": "stdout",
     "output_type": "stream",
     "text": [
      "Downloading 10-Q for AVGO (2021)...\n",
      "Downloading 10-Q for LLY (2007)...\n",
      "Downloading 10-Q for MSFT (2007)...\n",
      "Downloading 10-Q for META (2007)...\n",
      "Downloading 10-Q for XOM (2007)...\n",
      "Downloading 10-Q for V (2011)...\n"
     ]
    },
    {
     "name": "stderr",
     "output_type": "stream",
     "text": [
      "Downloading SEC Filings:   0%|          | 2/499 [00:47<2:43:27, 19.73s/it]"
     ]
    },
    {
     "name": "stdout",
     "output_type": "stream",
     "text": [
      "Downloading 10-Q for TSM (2011)...\n",
      "Downloading 10-Q for ORCL (2000)...\n",
      "Downloading 10-Q for NVDA (2011)...\n",
      "Downloading 10-Q for TSLA (2011)...\n",
      "Downloading 10-Q for GOOGL (2011)...\n",
      "Downloading 10-Q for PG (2005)...\n",
      "Downloading 10-Q for AAPL (2011)...\n",
      "Downloading 10-Q for BRK-B (2011)...\n",
      "Downloading 10-Q for JNJ (2000)...\n",
      "Downloading 10-Q for COST (2009)...\n",
      "Downloading 10-Q for AMZN (2011)...\n",
      "Downloading 10-Q for UNH (2005)...\n",
      "Downloading 10-Q for V (2012)...\n",
      "Downloading 10-Q for WMT (2008)...\n",
      "Downloading 10-Q for MA (2010)...\n",
      "Downloading 10-Q for META (2008)...\n",
      "Downloading 10-Q for TSM (2012)...\n",
      "Downloading 10-Q for MSFT (2008)...\n",
      "Downloading 10-Q for NVDA (2012)...\n",
      "Downloading 10-Q for LLY (2008)...\n",
      "Downloading 10-Q for TSLA (2012)...\n",
      "Downloading 10-Q for ORCL (2001)...\n",
      "Downloading 10-Q for GOOGL (2012)...\n",
      "Downloading 10-Q for BRK-B (2012)...\n",
      "Downloading 10-Q for XOM (2008)...\n",
      "Downloading 10-Q for AAPL (2012)...\n",
      "Downloading 10-Q for AMZN (2012)...\n",
      "Downloading 10-Q for COST (2010)...\n",
      "Downloading 10-Q for V (2013)...\n",
      "Downloading 10-Q for UNH (2006)...\n",
      "Downloading 10-Q for JNJ (2001)...\n",
      "Downloading 10-Q for MA (2011)...\n",
      "Downloading 10-Q for TSM (2013)...\n",
      "Downloading 10-Q for NVDA (2013)...\n",
      "Downloading 10-Q for TSLA (2013)...\n",
      "Downloading 10-Q for PG (2006)...\n",
      "Downloading 10-Q for ORCL (2002)...\n",
      "Downloading 10-Q for GOOGL (2013)...\n",
      "Downloading 10-Q for BRK-B (2013)...\n",
      "Downloading 10-Q for AAPL (2013)...\n",
      "Downloading 10-Q for WMT (2009)...\n",
      "Downloading 10-Q for COST (2011)...\n",
      "Downloading 10-Q for AMZN (2013)...\n",
      "Downloading 10-Q for META (2009)...\n",
      "Downloading 10-Q for LLY (2009)...\n",
      "Downloading 10-Q for MSFT (2009)...\n",
      "Downloading 10-Q for V (2014)...\n",
      "Downloading 10-Q for XOM (2009)...\n",
      "Downloading 10-Q for MA (2012)...\n",
      "Downloading 10-Q for TSLA (2014)...\n",
      "Downloading 10-Q for TSM (2014)...\n",
      "Downloading 10-Q for NVDA (2014)...\n",
      "Downloading 10-Q for ORCL (2003)...\n",
      "Downloading 10-Q for GOOGL (2014)...\n",
      "Downloading 10-Q for JNJ (2002)...\n",
      "Downloading 10-Q for UNH (2007)...\n",
      "Downloading 10-Q for AMZN (2014)...\n",
      "Downloading 10-Q for BRK-B (2014)...\n",
      "Downloading 10-Q for COST (2012)...\n",
      "Downloading 10-Q for AAPL (2014)...\n",
      "Downloading 10-Q for V (2015)...\n",
      "Downloading 10-Q for WMT (2010)...\n",
      "Downloading 10-Q for MA (2013)...\n",
      "Downloading 10-Q for TSLA (2015)...Downloading 10-Q for TSM (2015)...\n",
      "\n",
      "Downloading 10-Q for META (2010)...\n",
      "Downloading 10-Q for LLY (2010)...\n",
      "Downloading 10-Q for MSFT (2010)...\n",
      "Downloading 10-Q for GOOGL (2015)...\n",
      "Downloading 10-Q for NVDA (2015)...\n",
      "Downloading 10-Q for PG (2007)...\n",
      "Downloading 10-Q for ORCL (2004)...\n",
      "Downloading 10-Q for XOM (2010)...\n",
      "Downloading 10-Q for BRK-B (2015)...\n",
      "Downloading 10-Q for COST (2013)...\n",
      "Downloading 10-Q for AAPL (2015)...\n",
      "Downloading 10-Q for AMZN (2015)...\n",
      "Downloading 10-Q for UNH (2008)...\n",
      "Downloading 10-Q for MA (2014)...\n",
      "Downloading 10-Q for JNJ (2003)...\n",
      "Downloading 10-Q for V (2016)...\n",
      "Downloading 10-Q for TSLA (2016)...\n",
      "Downloading 10-Q for GOOGL (2016)...\n",
      "Downloading 10-Q for ORCL (2005)...\n",
      "Downloading 10-Q for NVDA (2016)...\n",
      "Downloading 10-Q for TSM (2016)...\n",
      "Downloading 10-Q for WMT (2011)...\n",
      "Downloading 10-Q for BRK-B (2016)...\n",
      "Downloading 10-Q for AAPL (2016)...\n",
      "Downloading 10-Q for COST (2014)...\n",
      "Downloading 10-Q for AMZN (2016)...\n",
      "Downloading 10-Q for META (2011)...\n",
      "Downloading 10-Q for LLY (2011)...\n",
      "Downloading 10-Q for XOM (2011)...\n",
      "Downloading 10-Q for MA (2015)...\n",
      "Downloading 10-Q for MSFT (2011)...\n",
      "Downloading 10-Q for V (2017)...\n",
      "Downloading 10-Q for BRK-B (2017)...\n",
      "Downloading 10-Q for ORCL (2006)...\n",
      "Downloading 10-Q for TSLA (2017)...\n",
      "Downloading 10-Q for NVDA (2017)...\n",
      "Downloading 10-Q for PG (2008)...\n",
      "Downloading 10-Q for TSM (2017)...\n",
      "Downloading 10-Q for JNJ (2004)...\n",
      "Downloading 10-Q for GOOGL (2017)...\n",
      "Downloading 10-Q for UNH (2009)...\n",
      "Downloading 10-Q for COST (2015)...\n",
      "Downloading 10-Q for AAPL (2017)...\n",
      "Downloading 10-Q for AMZN (2017)...\n",
      "Downloading 10-Q for V (2018)...\n",
      "Downloading 10-Q for WMT (2012)...\n",
      "Downloading 10-Q for MA (2016)...\n",
      "Downloading 10-Q for TSLA (2018)...\n",
      "Downloading 10-Q for ORCL (2007)...\n",
      "Downloading 10-Q for BRK-B (2018)...\n",
      "Downloading 10-Q for NVDA (2018)...\n",
      "Downloading 10-Q for TSM (2018)...\n",
      "Downloading 10-Q for LLY (2012)...\n",
      "Downloading 10-Q for META (2012)...\n",
      "Downloading 10-Q for COST (2016)...\n",
      "Downloading 10-Q for GOOGL (2018)...\n",
      "Downloading 10-Q for XOM (2012)...\n",
      "Downloading 10-Q for AMZN (2018)...\n",
      "Downloading 10-Q for MSFT (2012)...\n",
      "Downloading 10-Q for AAPL (2018)...\n",
      "Downloading 10-Q for V (2019)...\n",
      "Downloading 10-Q for JNJ (2005)...\n",
      "Downloading 10-Q for UNH (2010)...\n",
      "Downloading 10-Q for MA (2017)...\n",
      "Downloading 10-Q for TSLA (2019)...\n",
      "Downloading 10-Q for WMT (2013)...\n",
      "Downloading 10-Q for ORCL (2008)...\n",
      "Downloading 10-Q for NVDA (2019)...\n",
      "Downloading 10-Q for BRK-B (2019)...\n",
      "Downloading 10-Q for TSM (2019)...\n",
      "Downloading 10-Q for PG (2009)...\n",
      "Downloading 10-Q for GOOGL (2019)...\n",
      "Downloading 10-Q for COST (2017)...\n",
      "Downloading 10-Q for AMZN (2019)...\n",
      "Downloading 10-Q for LLY (2013)...\n",
      "Downloading 10-Q for META (2013)...\n",
      "Downloading 10-Q for V (2020)...\n",
      "Downloading 10-Q for AAPL (2019)...\n",
      "Downloading 10-Q for MSFT (2013)...\n",
      "Downloading 10-Q for XOM (2013)...\n",
      "Downloading 10-Q for NVDA (2020)...\n",
      "Downloading 10-Q for TSLA (2020)...\n",
      "Downloading 10-Q for TSM (2020)...\n",
      "Downloading 10-Q for MA (2018)...\n",
      "Downloading 10-Q for ORCL (2009)...\n",
      "Downloading 10-Q for BRK-B (2020)...\n",
      "Downloading 10-Q for JNJ (2006)...\n",
      "Downloading 10-Q for AMZN (2020)...\n",
      "Downloading 10-Q for GOOGL (2020)...\n",
      "Downloading 10-Q for COST (2018)...\n",
      "Downloading 10-Q for WMT (2014)...\n",
      "Downloading 10-Q for V (2021)...\n",
      "Downloading 10-Q for AAPL (2020)...\n",
      "Downloading 10-Q for UNH (2011)...\n",
      "Downloading 10-Q for LLY (2014)...\n",
      "Downloading 10-Q for NVDA (2021)...\n",
      "Downloading 10-Q for TSM (2021)...\n",
      "Downloading 10-Q for TSLA (2021)...\n",
      "Downloading 10-Q for PG (2010)...\n",
      "Downloading 10-Q for ORCL (2010)...\n",
      "Downloading 10-Q for MA (2019)...\n",
      "Downloading 10-Q for BRK-B (2021)...\n",
      "Downloading 10-Q for META (2014)...\n",
      "Downloading 10-Q for XOM (2014)...\n",
      "Downloading 10-Q for MSFT (2014)...\n",
      "Downloading 10-Q for AMZN (2021)...\n",
      "Downloading 10-Q for GOOGL (2021)...\n"
     ]
    },
    {
     "name": "stderr",
     "output_type": "stream",
     "text": [
      "Downloading SEC Filings:   1%|          | 3/499 [01:30<4:14:02, 30.73s/it]"
     ]
    },
    {
     "name": "stdout",
     "output_type": "stream",
     "text": [
      "Downloading 10-Q for COST (2019)...\n",
      "Downloading 10-Q for AAPL (2021)...\n",
      "Downloading 10-Q for JNJ (2007)...\n"
     ]
    },
    {
     "name": "stderr",
     "output_type": "stream",
     "text": [
      "Downloading SEC Filings:   1%|          | 5/499 [01:32<1:40:39, 12.23s/it]"
     ]
    },
    {
     "name": "stdout",
     "output_type": "stream",
     "text": [
      "Downloading 10-Q for WMT (2015)...\n",
      "Downloading 10-Q for NFLX (2000)...\n",
      "Downloading 10-Q for ORCL (2011)...\n",
      "Downloading 10-Q for MA (2020)...\n"
     ]
    },
    {
     "name": "stderr",
     "output_type": "stream",
     "text": [
      "Downloading SEC Filings:   1%|▏         | 7/499 [01:33<52:13,  6.37s/it]  "
     ]
    },
    {
     "name": "stdout",
     "output_type": "stream",
     "text": [
      "Downloading 10-Q for UNH (2012)...\n"
     ]
    },
    {
     "name": "stderr",
     "output_type": "stream",
     "text": [
      "Downloading SEC Filings:   2%|▏         | 8/499 [01:34<39:38,  4.85s/it]"
     ]
    },
    {
     "name": "stdout",
     "output_type": "stream",
     "text": [
      "Downloading 10-Q for LLY (2015)...\n",
      "Downloading 10-Q for ABBV (2000)...\n"
     ]
    },
    {
     "name": "stderr",
     "output_type": "stream",
     "text": [
      "Downloading SEC Filings:   2%|▏         | 9/499 [01:34<29:42,  3.64s/it]"
     ]
    },
    {
     "name": "stdout",
     "output_type": "stream",
     "text": [
      "Downloading 10-Q for HD (2000)...Downloading 10-Q for NVO (2000)...\n",
      "\n"
     ]
    },
    {
     "name": "stderr",
     "output_type": "stream",
     "text": [
      "Downloading SEC Filings:   2%|▏         | 10/499 [01:35<22:34,  2.77s/it]"
     ]
    },
    {
     "name": "stdout",
     "output_type": "stream",
     "text": [
      "Downloading 10-Q for COST (2020)...\n",
      "Downloading 10-Q for BABA (2000)...\n",
      "Downloading 10-Q for META (2015)...\n",
      "Downloading 10-Q for SAP (2000)...\n",
      "Downloading 10-Q for XOM (2015)...\n",
      "Downloading 10-Q for MSFT (2015)...\n",
      "Downloading 10-Q for PG (2011)...\n",
      "Downloading 10-Q for KO (2000)...\n",
      "Downloading 10-Q for BABA (2001)...\n",
      "Downloading 10-Q for ORCL (2012)...\n",
      "Downloading 10-Q for MA (2021)...\n",
      "Downloading 10-Q for BAC (2000)...\n",
      "Downloading 10-Q for SAP (2001)...\n",
      "Downloading 10-Q for ABBV (2001)...\n",
      "Downloading 10-Q for JNJ (2008)...\n",
      "Downloading 10-Q for NVO (2001)...\n",
      "Downloading 10-Q for HD (2001)...\n",
      "Downloading 10-Q for BABA (2002)...\n",
      "Downloading 10-Q for WMT (2016)...\n",
      "Downloading 10-Q for SAP (2002)...\n",
      "Downloading 10-Q for LLY (2016)...\n",
      "Downloading 10-Q for UNH (2013)...\n",
      "Downloading 10-Q for BABA (2003)...\n"
     ]
    },
    {
     "name": "stderr",
     "output_type": "stream",
     "text": [
      "Downloading SEC Filings:   2%|▏         | 11/499 [01:41<31:11,  3.83s/it]"
     ]
    },
    {
     "name": "stdout",
     "output_type": "stream",
     "text": [
      "Downloading 10-Q for ORCL (2013)...\n",
      "Downloading 10-Q for SAP (2003)...\n",
      "Downloading 10-Q for ABBV (2002)...\n",
      "Downloading 10-Q for MSFT (2016)...\n",
      "Downloading 10-Q for XOM (2016)...\n",
      "Downloading 10-Q for META (2016)...\n",
      "Downloading 10-Q for KO (2001)...\n",
      "Downloading 10-Q for HD (2002)...Downloading 10-Q for NVO (2002)...\n",
      "\n",
      "Downloading 10-Q for NFLX (2001)...\n",
      "Downloading 10-Q for BABA (2004)...\n",
      "Downloading 10-Q for TMUS (2000)...\n",
      "Downloading 10-Q for SAP (2004)...\n",
      "Downloading 10-Q for JNJ (2009)...\n",
      "Downloading 10-Q for PG (2012)...\n",
      "Downloading 10-Q for BABA (2005)...\n",
      "Downloading 10-Q for WMT (2017)...\n",
      "Downloading 10-Q for ORCL (2014)...\n",
      "Downloading 10-Q for ABBV (2003)...\n",
      "Downloading 10-Q for SAP (2005)...\n",
      "Downloading 10-Q for COST (2021)...\n",
      "Downloading 10-Q for LLY (2017)...\n",
      "Downloading 10-Q for UNH (2014)...\n",
      "Downloading 10-Q for NVO (2003)...\n",
      "Downloading 10-Q for HD (2003)...\n",
      "Downloading 10-Q for BABA (2006)...\n",
      "Downloading 10-Q for MSFT (2017)...\n",
      "Downloading 10-Q for TMUS (2001)...\n",
      "Downloading 10-Q for SAP (2006)...\n",
      "Downloading 10-Q for XOM (2017)...\n",
      "Downloading 10-Q for META (2017)...\n",
      "Downloading 10-Q for KO (2002)...\n",
      "Downloading 10-Q for BABA (2007)...\n",
      "Downloading 10-Q for ORCL (2015)...\n"
     ]
    },
    {
     "name": "stderr",
     "output_type": "stream",
     "text": [
      "Downloading SEC Filings:   2%|▏         | 12/499 [01:50<42:09,  5.19s/it]"
     ]
    },
    {
     "name": "stdout",
     "output_type": "stream",
     "text": [
      "Downloading 10-Q for JNJ (2010)...\n",
      "Downloading 10-Q for ABBV (2004)...\n",
      "Downloading 10-Q for SAP (2007)...\n",
      "Downloading 10-Q for NFLX (2002)...\n",
      "Downloading 10-Q for HD (2004)...\n",
      "Downloading 10-Q for NVO (2004)...\n",
      "Downloading 10-Q for BABA (2008)...\n",
      "Downloading 10-Q for WMT (2018)...\n",
      "Downloading 10-Q for TMUS (2002)...\n",
      "Downloading 10-Q for ASML (2000)...\n",
      "Downloading 10-Q for SAP (2008)...\n",
      "Downloading 10-Q for PG (2013)...\n",
      "Downloading 10-Q for UNH (2015)...\n",
      "Downloading 10-Q for LLY (2018)...\n",
      "Downloading 10-Q for BABA (2009)...\n",
      "Downloading 10-Q for ORCL (2016)...\n",
      "Downloading 10-Q for MSFT (2018)...\n",
      "Downloading 10-Q for ABBV (2005)...\n",
      "Downloading 10-Q for ASML (2001)...\n",
      "Downloading 10-Q for SAP (2009)...\n",
      "Downloading 10-Q for XOM (2018)...\n",
      "Downloading 10-Q for KO (2003)...\n",
      "Downloading 10-Q for META (2018)...\n",
      "Downloading 10-Q for HD (2005)...\n",
      "Downloading 10-Q for NVO (2005)...\n",
      "Downloading 10-Q for BABA (2010)...\n",
      "Downloading 10-Q for TMUS (2003)...\n",
      "Downloading 10-Q for JNJ (2011)...\n",
      "Downloading 10-Q for ASML (2002)...\n",
      "Downloading 10-Q for SAP (2010)...\n",
      "Downloading 10-Q for BABA (2011)...\n",
      "Downloading 10-Q for WMT (2019)...\n",
      "Downloading 10-Q for ORCL (2017)...\n",
      "Downloading 10-Q for ASML (2003)...\n",
      "Downloading 10-Q for SAP (2011)...\n",
      "Downloading 10-Q for ABBV (2006)...\n",
      "Downloading 10-Q for LLY (2019)...\n",
      "Downloading 10-Q for UNH (2016)...\n",
      "Downloading 10-Q for NFLX (2003)...\n",
      "Downloading 10-Q for HD (2006)...\n",
      "Downloading 10-Q for NVO (2006)...\n",
      "Downloading 10-Q for BABA (2012)...\n",
      "Downloading 10-Q for MSFT (2019)...\n",
      "Downloading 10-Q for TMUS (2004)...\n",
      "Downloading 10-Q for SAP (2012)...\n",
      "Downloading 10-Q for ASML (2004)...\n",
      "Downloading 10-Q for XOM (2019)...\n",
      "Downloading 10-Q for KO (2004)...\n",
      "Downloading 10-Q for PG (2014)...\n",
      "Downloading 10-Q for META (2019)...\n",
      "Downloading 10-Q for JPM (2001)...\n",
      "Downloading 10-Q for BABA (2013)...\n",
      "Downloading 10-Q for ABBV (2007)...\n",
      "Downloading 10-Q for JNJ (2012)...\n",
      "Downloading 10-Q for ORCL (2018)...\n",
      "Downloading 10-Q for ASML (2005)...\n",
      "Downloading 10-Q for SAP (2013)...\n",
      "Downloading 10-Q for NVO (2007)...\n",
      "Downloading 10-Q for HD (2007)...\n",
      "Downloading 10-Q for BABA (2014)...\n",
      "Downloading 10-Q for TMUS (2005)...\n",
      "Downloading 10-Q for ASML (2006)...\n",
      "Downloading 10-Q for SAP (2014)...\n",
      "Downloading 10-Q for WMT (2020)...\n",
      "Downloading 10-Q for LLY (2020)...\n",
      "Downloading 10-Q for UNH (2017)...\n",
      "Downloading 10-Q for BABA (2015)...\n",
      "Downloading 10-Q for ABBV (2008)...\n",
      "Downloading 10-Q for MSFT (2020)...\n",
      "Downloading 10-Q for ORCL (2019)...\n",
      "Downloading 10-Q for ASML (2007)...\n",
      "Downloading 10-Q for SAP (2015)...\n",
      "Downloading 10-Q for META (2020)...\n",
      "Downloading 10-Q for XOM (2020)...\n",
      "Downloading 10-Q for KO (2005)...\n",
      "Downloading 10-Q for NVO (2008)...\n",
      "Downloading 10-Q for HD (2008)...\n",
      "Downloading 10-Q for NFLX (2004)...\n",
      "Downloading 10-Q for BABA (2016)...\n",
      "Downloading 10-Q for JNJ (2013)...\n",
      "Downloading 10-Q for TMUS (2006)...\n",
      "Downloading 10-Q for ASML (2008)...\n",
      "Downloading 10-Q for SAP (2016)...\n",
      "Downloading 10-Q for BAC (2001)...\n",
      "Downloading 10-Q for PG (2015)...\n",
      "Downloading 10-Q for BABA (2017)...\n",
      "Downloading 10-Q for ABBV (2009)...\n",
      "Downloading 10-Q for ORCL (2020)...\n",
      "Downloading 10-Q for WMT (2021)...\n",
      "Downloading 10-Q for SAP (2017)...\n",
      "Downloading 10-Q for ASML (2009)...\n",
      "Downloading 10-Q for LLY (2021)...\n",
      "Downloading 10-Q for NVO (2009)...\n",
      "Downloading 10-Q for HD (2009)...\n",
      "Downloading 10-Q for UNH (2018)...\n",
      "Downloading 10-Q for BABA (2018)...\n",
      "Downloading 10-Q for TMUS (2007)...\n",
      "Downloading 10-Q for MSFT (2021)...\n",
      "Downloading 10-Q for ASML (2010)...\n",
      "Downloading 10-Q for SAP (2018)...\n",
      "Downloading 10-Q for META (2021)...\n",
      "Downloading 10-Q for KO (2006)...\n",
      "Downloading 10-Q for XOM (2021)...\n",
      "Downloading 10-Q for BABA (2019)...\n",
      "Downloading 10-Q for JNJ (2014)...\n",
      "Downloading 10-Q for ABBV (2010)...\n",
      "Downloading 10-Q for ORCL (2021)...\n",
      "Downloading 10-Q for ASML (2011)...\n",
      "Downloading 10-Q for SAP (2019)...\n",
      "Downloading 10-Q for NVO (2010)...\n",
      "Downloading 10-Q for NFLX (2005)...\n",
      "Downloading 10-Q for HD (2010)...\n",
      "Downloading 10-Q for BABA (2020)...\n"
     ]
    },
    {
     "name": "stderr",
     "output_type": "stream",
     "text": [
      "Downloading SEC Filings:   3%|▎         | 13/499 [02:17<1:34:07, 11.62s/it]"
     ]
    },
    {
     "name": "stdout",
     "output_type": "stream",
     "text": [
      "Downloading 10-Q for TMUS (2008)...\n",
      "Downloading 10-Q for SAP (2020)...\n",
      "Downloading 10-Q for ASML (2012)...\n"
     ]
    },
    {
     "name": "stderr",
     "output_type": "stream",
     "text": [
      "Downloading SEC Filings:   3%|▎         | 14/499 [02:18<1:08:16,  8.45s/it]"
     ]
    },
    {
     "name": "stdout",
     "output_type": "stream",
     "text": [
      "Downloading 10-Q for PG (2016)...\n",
      "Downloading 10-Q for UNH (2019)...\n"
     ]
    },
    {
     "name": "stderr",
     "output_type": "stream",
     "text": [
      "Downloading SEC Filings:   3%|▎         | 15/499 [02:19<50:30,  6.26s/it]  "
     ]
    },
    {
     "name": "stdout",
     "output_type": "stream",
     "text": [
      "Downloading 10-Q for BABA (2021)...\n",
      "Downloading 10-Q for ABBV (2011)...\n",
      "Downloading 10-Q for SAP (2021)...\n",
      "Downloading 10-Q for ASML (2013)...\n",
      "Downloading 10-Q for RCIT (2000)...\n"
     ]
    },
    {
     "name": "stderr",
     "output_type": "stream",
     "text": [
      "Downloading SEC Filings:   3%|▎         | 16/499 [02:21<40:00,  4.97s/it]"
     ]
    },
    {
     "name": "stdout",
     "output_type": "stream",
     "text": [
      "Downloading 10-Q for CVX (2000)...\n",
      "Downloading 10-Q for KO (2007)...\n",
      "Downloading 10-Q for NVO (2011)...\n",
      "Downloading 10-Q for HD (2011)...\n",
      "Downloading 10-Q for TM (2000)...\n",
      "Downloading 10-Q for CRM (2000)...\n"
     ]
    },
    {
     "name": "stderr",
     "output_type": "stream",
     "text": [
      "Downloading SEC Filings:   4%|▎         | 18/499 [02:24<25:37,  3.20s/it]"
     ]
    },
    {
     "name": "stdout",
     "output_type": "stream",
     "text": [
      "Downloading 10-Q for RCIT (2001)...\n",
      "Downloading 10-Q for ASML (2014)...\n",
      "Downloading 10-Q for JNJ (2015)...\n",
      "Downloading 10-Q for TMUS (2009)...\n",
      "Downloading 10-Q for TM (2001)...\n",
      "Downloading 10-Q for CSCO (2000)...\n",
      "Downloading 10-Q for RCIT (2002)...\n",
      "Downloading 10-Q for MRK (2000)...\n",
      "Downloading 10-Q for ABBV (2012)...\n",
      "Downloading 10-Q for ASML (2015)...\n",
      "Downloading 10-Q for CVX (2001)...\n",
      "Downloading 10-Q for NVO (2012)...\n",
      "Downloading 10-Q for UNH (2020)...\n",
      "Downloading 10-Q for HD (2012)...\n",
      "Downloading 10-Q for NFLX (2006)...\n",
      "Downloading 10-Q for TM (2002)...\n",
      "Downloading 10-Q for RCIT (2003)...\n",
      "Downloading 10-Q for KO (2008)...\n",
      "Downloading 10-Q for ASML (2016)...\n",
      "Downloading 10-Q for PG (2017)...\n",
      "Downloading 10-Q for TMUS (2010)...\n"
     ]
    },
    {
     "name": "stderr",
     "output_type": "stream",
     "text": [
      "Downloading SEC Filings:   4%|▍         | 19/499 [02:28<27:08,  3.39s/it]"
     ]
    },
    {
     "name": "stdout",
     "output_type": "stream",
     "text": [
      "Downloading 10-Q for TM (2003)...\n",
      "Downloading 10-Q for RCIT (2004)...\n"
     ]
    },
    {
     "name": "stderr",
     "output_type": "stream",
     "text": [
      "Downloading SEC Filings:   4%|▍         | 20/499 [02:29<21:00,  2.63s/it]"
     ]
    },
    {
     "name": "stdout",
     "output_type": "stream",
     "text": [
      "Downloading 10-Q for MRK (2001)...\n",
      "Downloading 10-Q for ASML (2017)...\n",
      "Downloading 10-Q for ABBV (2013)...\n",
      "Downloading 10-Q for JNJ (2016)...\n",
      "Downloading 10-Q for CVX (2002)...\n",
      "Downloading 10-Q for NVO (2013)...\n",
      "Downloading 10-Q for HD (2013)...\n",
      "Downloading 10-Q for PM (2000)...\n",
      "Downloading 10-Q for TM (2004)...\n",
      "Downloading 10-Q for RCIT (2005)...\n",
      "Downloading 10-Q for CSCO (2001)...\n",
      "Downloading 10-Q for ASML (2018)...\n",
      "Downloading 10-Q for AZN (2000)...\n",
      "Downloading 10-Q for TM (2005)...\n",
      "Downloading 10-Q for RCIT (2006)...\n",
      "Downloading 10-Q for TMUS (2011)...\n",
      "Downloading 10-Q for UNH (2021)...\n",
      "Downloading 10-Q for ASML (2019)...\n",
      "Downloading 10-Q for MRK (2002)...\n",
      "Downloading 10-Q for KO (2009)...\n",
      "Downloading 10-Q for ABBV (2014)...\n",
      "Downloading 10-Q for CVX (2003)...\n",
      "Downloading 10-Q for NFLX (2007)...\n",
      "Downloading 10-Q for HD (2014)...\n",
      "Downloading 10-Q for PM (2001)...\n",
      "Downloading 10-Q for NVO (2014)...\n",
      "Downloading 10-Q for RCIT (2007)...Downloading 10-Q for TM (2006)...\n",
      "\n",
      "Downloading 10-Q for CRM (2001)...\n",
      "Downloading 10-Q for ASML (2020)...\n",
      "Downloading 10-Q for PG (2018)...\n",
      "Downloading 10-Q for AZN (2001)...\n",
      "Downloading 10-Q for JNJ (2017)...\n",
      "Downloading 10-Q for RCIT (2008)...\n",
      "Downloading 10-Q for TM (2007)...\n",
      "Downloading 10-Q for TMUS (2012)...\n",
      "Downloading 10-Q for CSCO (2002)...Downloading 10-Q for ASML (2021)...\n",
      "\n",
      "Downloading 10-Q for MRK (2003)...\n",
      "Downloading 10-Q for CVX (2004)...\n",
      "Downloading 10-Q for ABBV (2015)...\n",
      "Downloading 10-Q for PM (2002)...\n",
      "Downloading 10-Q for HD (2015)...\n",
      "Downloading 10-Q for RCIT (2009)...\n",
      "Downloading 10-Q for NVO (2015)...\n",
      "Downloading 10-Q for TM (2008)...\n"
     ]
    },
    {
     "name": "stderr",
     "output_type": "stream",
     "text": [
      "Downloading SEC Filings:   4%|▍         | 22/499 [02:39<27:31,  3.46s/it]"
     ]
    },
    {
     "name": "stdout",
     "output_type": "stream",
     "text": [
      "Downloading 10-Q for KO (2010)...\n",
      "Downloading 10-Q for AZN (2002)...\n",
      "Downloading 10-Q for RCIT (2010)...\n",
      "Downloading 10-Q for TMUS (2013)...Downloading 10-Q for TM (2009)...\n",
      "\n",
      "Downloading 10-Q for IBM (2000)...\n",
      "Downloading 10-Q for ABT (2000)...\n",
      "Downloading 10-Q for MRK (2004)...\n",
      "Downloading 10-Q for CVX (2005)...\n",
      "Downloading 10-Q for NFLX (2008)...\n",
      "Downloading 10-Q for JNJ (2018)...\n",
      "Downloading 10-Q for BAC (2002)...\n",
      "Downloading 10-Q for HD (2016)...\n",
      "Downloading 10-Q for RCIT (2011)...\n",
      "Downloading 10-Q for PM (2003)...\n",
      "Downloading 10-Q for NVO (2016)...\n",
      "Downloading 10-Q for TM (2010)...\n",
      "Downloading 10-Q for CSCO (2003)...\n",
      "Downloading 10-Q for AZN (2003)...\n",
      "Downloading 10-Q for PG (2019)...\n",
      "Downloading 10-Q for RCIT (2012)...\n",
      "Downloading 10-Q for TMUS (2014)...\n",
      "Downloading 10-Q for TM (2011)...\n",
      "Downloading 10-Q for MRK (2005)...\n",
      "Downloading 10-Q for KO (2011)...\n",
      "Downloading 10-Q for CVX (2006)...\n",
      "Downloading 10-Q for RCIT (2013)...\n",
      "Downloading 10-Q for PM (2004)...\n",
      "Downloading 10-Q for HD (2017)...\n",
      "Downloading 10-Q for NVO (2017)...\n",
      "Downloading 10-Q for TM (2012)...\n",
      "Downloading 10-Q for CRM (2002)...\n",
      "Downloading 10-Q for AZN (2004)...\n",
      "Downloading 10-Q for ABBV (2016)...\n",
      "Downloading 10-Q for JNJ (2019)...\n",
      "Downloading 10-Q for RCIT (2014)...\n",
      "Downloading 10-Q for TM (2013)...\n",
      "Downloading 10-Q for CSCO (2004)...\n",
      "Downloading 10-Q for MRK (2006)...\n",
      "Downloading 10-Q for NFLX (2009)...\n",
      "Downloading 10-Q for CVX (2007)...\n",
      "Downloading 10-Q for NVO (2018)...\n",
      "Downloading 10-Q for RCIT (2015)...\n",
      "Downloading 10-Q for TM (2014)...\n",
      "Downloading 10-Q for PM (2005)...\n",
      "Downloading 10-Q for HD (2018)...\n",
      "Downloading 10-Q for AZN (2005)...\n",
      "Downloading 10-Q for KO (2012)...\n",
      "Downloading 10-Q for ABBV (2017)...\n",
      "Downloading 10-Q for PG (2020)...\n",
      "Downloading 10-Q for RCIT (2016)...\n",
      "Downloading 10-Q for TM (2015)...\n",
      "Downloading 10-Q for MRK (2007)...\n",
      "Downloading 10-Q for ABT (2001)...\n",
      "Downloading 10-Q for CVX (2008)...\n",
      "Downloading 10-Q for TMUS (2015)...\n",
      "Downloading 10-Q for RCIT (2017)...\n",
      "Downloading 10-Q for JNJ (2020)...\n",
      "Downloading 10-Q for NVO (2019)...\n",
      "Downloading 10-Q for TM (2016)...\n",
      "Downloading 10-Q for PM (2006)...\n",
      "Downloading 10-Q for CSCO (2005)...\n",
      "Downloading 10-Q for HD (2019)...\n",
      "Downloading 10-Q for AZN (2006)...\n",
      "Downloading 10-Q for ABBV (2018)...\n",
      "Downloading 10-Q for RCIT (2018)...\n",
      "Downloading 10-Q for IBM (2001)...\n",
      "Downloading 10-Q for TM (2017)...\n",
      "Downloading 10-Q for MRK (2008)...\n",
      "Downloading 10-Q for KO (2013)...\n",
      "Downloading 10-Q for NFLX (2010)...\n",
      "Downloading 10-Q for CVX (2009)...\n",
      "Downloading 10-Q for RCIT (2019)...\n",
      "Downloading 10-Q for NVO (2020)...\n",
      "Downloading 10-Q for TM (2018)...\n",
      "Downloading 10-Q for PM (2007)...\n",
      "Downloading 10-Q for HD (2020)...\n",
      "Downloading 10-Q for CRM (2003)...\n",
      "Downloading 10-Q for AZN (2007)...\n",
      "Downloading 10-Q for ABBV (2019)...\n",
      "Downloading 10-Q for RCIT (2020)...\n",
      "Downloading 10-Q for PG (2021)...\n",
      "Downloading 10-Q for JNJ (2021)...\n",
      "Downloading 10-Q for TM (2019)...\n",
      "Downloading 10-Q for CSCO (2006)...\n",
      "Downloading 10-Q for MRK (2009)...\n",
      "Downloading 10-Q for CVX (2010)...\n",
      "Downloading 10-Q for RCIT (2021)...\n",
      "Downloading 10-Q for NVO (2021)...\n",
      "Downloading 10-Q for PM (2008)...\n",
      "Downloading 10-Q for TM (2020)...\n",
      "Downloading 10-Q for HD (2021)...\n",
      "Downloading 10-Q for KO (2014)...\n",
      "Downloading 10-Q for AZN (2008)...\n"
     ]
    },
    {
     "name": "stderr",
     "output_type": "stream",
     "text": [
      "Downloading SEC Filings:   5%|▍         | 23/499 [03:05<1:19:47, 10.06s/it]"
     ]
    },
    {
     "name": "stdout",
     "output_type": "stream",
     "text": [
      "Downloading 10-Q for ABBV (2020)...\n",
      "Downloading 10-Q for TM (2021)...\n",
      "Downloading 10-Q for TMUS (2016)...\n",
      "Downloading 10-Q for ABT (2002)...\n",
      "Downloading 10-Q for MRK (2010)...\n",
      "Downloading 10-Q for WFC (2000)...\n",
      "Downloading 10-Q for NFLX (2011)...\n",
      "Downloading 10-Q for CVX (2011)...\n"
     ]
    },
    {
     "name": "stderr",
     "output_type": "stream",
     "text": [
      "Downloading SEC Filings:   5%|▌         | 26/499 [03:08<31:10,  3.95s/it]  "
     ]
    },
    {
     "name": "stdout",
     "output_type": "stream",
     "text": [
      "Downloading 10-Q for PM (2009)...\n",
      "Downloading 10-Q for CSCO (2007)...\n",
      "Downloading 10-Q for AZN (2009)...\n",
      "Downloading 10-Q for ABBV (2021)...\n"
     ]
    },
    {
     "name": "stderr",
     "output_type": "stream",
     "text": [
      "Downloading SEC Filings:   5%|▌         | 27/499 [03:09<25:28,  3.24s/it]"
     ]
    },
    {
     "name": "stdout",
     "output_type": "stream",
     "text": [
      "Downloading 10-Q for NVS (2000)...\n",
      "Downloading 10-Q for MCD (2000)...\n",
      "Downloading 10-Q for LIN (2000)...\n",
      "Downloading 10-Q for PEP (2000)...\n",
      "Downloading 10-Q for PM (2010)...\n",
      "Downloading 10-Q for LIN (2001)...\n"
     ]
    },
    {
     "name": "stderr",
     "output_type": "stream",
     "text": [
      "Downloading SEC Filings:   6%|▌         | 28/499 [03:13<26:27,  3.37s/it]"
     ]
    },
    {
     "name": "stdout",
     "output_type": "stream",
     "text": [
      "Downloading 10-Q for CRM (2004)...\n",
      "Downloading 10-Q for AZN (2010)...\n"
     ]
    },
    {
     "name": "stderr",
     "output_type": "stream",
     "text": [
      "Downloading SEC Filings:   6%|▌         | 29/499 [03:13<19:04,  2.44s/it]"
     ]
    },
    {
     "name": "stdout",
     "output_type": "stream",
     "text": [
      "Downloading 10-Q for NVS (2001)...\n",
      "Downloading 10-Q for IBM (2002)...\n",
      "Downloading 10-Q for CVX (2012)...\n",
      "Downloading 10-Q for LIN (2002)...\n",
      "Downloading 10-Q for CSCO (2008)...\n",
      "Downloading 10-Q for ACN (2000)...\n",
      "Downloading 10-Q for GE (2000)...\n",
      "Downloading 10-Q for NFLX (2012)...\n",
      "Downloading 10-Q for BAC (2003)...\n",
      "Downloading 10-Q for PM (2011)...\n",
      "Downloading 10-Q for LIN (2003)...\n",
      "Downloading 10-Q for AZN (2011)...\n",
      "Downloading 10-Q for TMUS (2017)...\n",
      "Downloading 10-Q for NVS (2002)...\n",
      "Downloading 10-Q for ABT (2003)...\n",
      "Downloading 10-Q for LIN (2004)...\n",
      "Downloading 10-Q for KO (2015)...\n",
      "Downloading 10-Q for MCD (2001)...\n",
      "Downloading 10-Q for MRK (2011)...\n",
      "Downloading 10-Q for LIN (2005)...\n",
      "Downloading 10-Q for CSCO (2009)...\n",
      "Downloading 10-Q for PEP (2001)...\n",
      "Downloading 10-Q for ACN (2001)...\n",
      "Downloading 10-Q for AZN (2012)...\n",
      "Downloading 10-Q for NVS (2003)...\n",
      "Downloading 10-Q for LIN (2006)...\n",
      "Downloading 10-Q for NFLX (2013)...\n",
      "Downloading 10-Q for LIN (2007)...\n",
      "Downloading 10-Q for AZN (2013)...\n",
      "Downloading 10-Q for CRM (2005)...\n",
      "Downloading 10-Q for PM (2012)...\n",
      "Downloading 10-Q for CVX (2013)...\n",
      "Downloading 10-Q for NVS (2004)...\n",
      "Downloading 10-Q for LIN (2008)...\n",
      "Downloading 10-Q for GE (2001)...\n",
      "Downloading 10-Q for ACN (2002)...\n",
      "Downloading 10-Q for IBM (2003)...\n",
      "Downloading 10-Q for LIN (2009)...\n",
      "Downloading 10-Q for AZN (2014)...\n",
      "Downloading 10-Q for MCD (2002)...\n",
      "Downloading 10-Q for PEP (2002)...\n",
      "Downloading 10-Q for NVS (2005)...\n",
      "Downloading 10-Q for LIN (2010)...\n",
      "Downloading 10-Q for WFC (2001)...\n",
      "Downloading 10-Q for NFLX (2014)...\n",
      "Downloading 10-Q for ABT (2004)...\n",
      "Downloading 10-Q for LIN (2011)...\n",
      "Downloading 10-Q for TMUS (2018)...\n",
      "Downloading 10-Q for AZN (2015)...\n",
      "Downloading 10-Q for ACN (2003)...\n",
      "Downloading 10-Q for MRK (2012)...\n",
      "Downloading 10-Q for NVS (2006)...\n",
      "Downloading 10-Q for LIN (2012)...\n",
      "Downloading 10-Q for CSCO (2010)...\n",
      "Downloading 10-Q for LIN (2013)...\n",
      "Downloading 10-Q for CRM (2006)...\n",
      "Downloading 10-Q for AZN (2016)...\n",
      "Downloading 10-Q for LIN (2014)...\n",
      "Downloading 10-Q for NVS (2007)...\n",
      "Downloading 10-Q for GE (2002)...\n",
      "Downloading 10-Q for ACN (2004)...\n",
      "Downloading 10-Q for NFLX (2015)...\n",
      "Downloading 10-Q for LIN (2015)...\n",
      "Downloading 10-Q for MCD (2003)...\n",
      "Downloading 10-Q for PEP (2003)...\n",
      "Downloading 10-Q for LIN (2016)...\n",
      "Downloading 10-Q for AZN (2017)...\n",
      "Downloading 10-Q for NVS (2008)...\n",
      "Downloading 10-Q for CVX (2014)...\n",
      "Downloading 10-Q for LIN (2017)...\n",
      "Downloading 10-Q for ABT (2005)...\n",
      "Downloading 10-Q for IBM (2004)...\n",
      "Downloading 10-Q for KO (2016)...\n",
      "Downloading 10-Q for ACN (2005)...\n",
      "Downloading 10-Q for NVS (2009)...\n",
      "Downloading 10-Q for AZN (2018)...\n",
      "Downloading 10-Q for NFLX (2016)...\n",
      "Downloading 10-Q for LIN (2018)...\n",
      "Downloading 10-Q for BAC (2004)...\n",
      "Downloading 10-Q for NVS (2010)...\n",
      "Downloading 10-Q for CRM (2007)...\n",
      "Downloading 10-Q for MCD (2004)...\n",
      "Downloading 10-Q for GE (2003)...\n",
      "Downloading 10-Q for ACN (2006)...\n",
      "Downloading 10-Q for AZN (2019)...\n",
      "Downloading 10-Q for PEP (2004)...\n",
      "Downloading 10-Q for MRK (2013)...\n",
      "Downloading 10-Q for NVS (2011)...\n",
      "Downloading 10-Q for LIN (2019)...\n",
      "Downloading 10-Q for CSCO (2011)...\n",
      "Downloading 10-Q for NFLX (2017)...\n",
      "Downloading 10-Q for AZN (2020)...\n",
      "Downloading 10-Q for NVS (2012)...\n",
      "Downloading 10-Q for ABT (2006)...\n",
      "Downloading 10-Q for ACN (2007)...\n",
      "Downloading 10-Q for WFC (2002)...\n",
      "Downloading 10-Q for TMUS (2019)...\n",
      "Downloading 10-Q for AZN (2021)...\n",
      "Downloading 10-Q for NVS (2013)...\n",
      "Downloading 10-Q for MCD (2005)...\n",
      "Downloading 10-Q for CRM (2008)...\n",
      "Downloading 10-Q for PEP (2005)...\n",
      "Downloading 10-Q for GE (2004)...\n",
      "Downloading 10-Q for ACN (2008)...\n",
      "Downloading 10-Q for NFLX (2018)...\n"
     ]
    },
    {
     "name": "stderr",
     "output_type": "stream",
     "text": [
      "Downloading SEC Filings:   6%|▌         | 30/499 [04:09<2:23:37, 18.38s/it]"
     ]
    },
    {
     "name": "stdout",
     "output_type": "stream",
     "text": [
      "Downloading 10-Q for IBM (2005)...\n",
      "Downloading 10-Q for NVS (2014)...\n",
      "Downloading 10-Q for PM (2013)...\n",
      "Downloading 10-Q for JPM (2002)...\n",
      "Downloading 10-Q for CVX (2015)...\n",
      "Downloading 10-Q for SHEL (2000)...\n",
      "Downloading 10-Q for NVS (2015)...\n",
      "Downloading 10-Q for ABT (2007)...\n",
      "Downloading 10-Q for ACN (2009)...\n",
      "Downloading 10-Q for SHEL (2001)...\n",
      "Downloading 10-Q for NFLX (2019)...\n",
      "Downloading 10-Q for NVS (2016)...\n",
      "Downloading 10-Q for SHEL (2002)...\n",
      "Downloading 10-Q for GE (2005)...\n",
      "Downloading 10-Q for PEP (2006)...\n",
      "Downloading 10-Q for KO (2017)...\n",
      "Downloading 10-Q for MCD (2006)...\n",
      "Downloading 10-Q for CRM (2009)...\n",
      "Downloading 10-Q for ABT (2008)...\n",
      "Downloading 10-Q for IBM (2006)...\n",
      "Downloading 10-Q for CSCO (2012)...\n",
      "Downloading 10-Q for MRK (2014)...\n",
      "Downloading 10-Q for LIN (2020)...\n",
      "Downloading 10-Q for CVX (2016)...\n",
      "Downloading 10-Q for PM (2014)...\n",
      "Downloading 10-Q for ACN (2010)...\n",
      "Downloading 10-Q for NVS (2017)...\n",
      "Downloading 10-Q for TMUS (2020)...\n",
      "Downloading 10-Q for NFLX (2020)...\n",
      "Downloading 10-Q for NVS (2018)...\n",
      "Downloading 10-Q for NVS (2019)...\n",
      "Downloading 10-Q for WFC (2003)...\n",
      "Downloading 10-Q for NVS (2020)...\n",
      "Downloading 10-Q for NFLX (2021)...\n",
      "Downloading 10-Q for IBM (2007)...\n",
      "Downloading 10-Q for CVX (2017)...\n",
      "Downloading 10-Q for ACN (2011)...\n",
      "Downloading 10-Q for LIN (2021)...\n",
      "Downloading 10-Q for NVS (2021)...\n",
      "Downloading 10-Q for SHEL (2003)...\n"
     ]
    },
    {
     "name": "stderr",
     "output_type": "stream",
     "text": [
      "Downloading SEC Filings:   6%|▌         | 31/499 [04:35<2:41:28, 20.70s/it]"
     ]
    },
    {
     "name": "stdout",
     "output_type": "stream",
     "text": [
      "Downloading 10-Q for CSCO (2013)...\n",
      "Downloading 10-Q for SHEL (2004)...\n",
      "Downloading 10-Q for PM (2015)...\n",
      "Downloading 10-Q for TMO (2000)...\n",
      "Downloading 10-Q for HSBC (2000)...\n",
      "Downloading 10-Q for BAC (2005)...\n",
      "Downloading 10-Q for SHEL (2005)...\n",
      "Downloading 10-Q for MRK (2015)...\n",
      "Downloading 10-Q for SHEL (2006)...\n",
      "Downloading 10-Q for PEP (2007)...\n"
     ]
    },
    {
     "name": "stderr",
     "output_type": "stream",
     "text": [
      "Downloading SEC Filings:   7%|▋         | 33/499 [04:44<1:43:30, 13.33s/it]"
     ]
    },
    {
     "name": "stdout",
     "output_type": "stream",
     "text": [
      "Downloading 10-Q for HSBC (2001)...\n",
      "Downloading 10-Q for ABT (2009)...\n",
      "Downloading 10-Q for ACN (2012)...\n",
      "Downloading 10-Q for ADBE (2000)...\n",
      "Downloading 10-Q for CVX (2018)...\n",
      "Downloading 10-Q for SHEL (2007)...\n",
      "Downloading 10-Q for GE (2006)...\n",
      "Downloading 10-Q for MCD (2007)...\n",
      "Downloading 10-Q for TMO (2001)...\n",
      "Downloading 10-Q for IBM (2008)...\n",
      "Downloading 10-Q for SHEL (2008)...\n",
      "Downloading 10-Q for WFC (2004)...\n",
      "Downloading 10-Q for HSBC (2002)...\n",
      "Downloading 10-Q for CRM (2010)...\n",
      "Downloading 10-Q for PEP (2008)...\n",
      "Downloading 10-Q for SHEL (2009)...\n",
      "Downloading 10-Q for SHEL (2010)...\n",
      "Downloading 10-Q for ABT (2010)...\n",
      "Downloading 10-Q for HSBC (2003)...\n",
      "Downloading 10-Q for GE (2007)...\n",
      "Downloading 10-Q for ADBE (2001)...\n",
      "Downloading 10-Q for TMO (2002)...\n",
      "Downloading 10-Q for SHEL (2011)...\n",
      "Downloading 10-Q for KO (2018)...\n",
      "Downloading 10-Q for CSCO (2014)...\n",
      "Downloading 10-Q for MRK (2016)...\n",
      "Downloading 10-Q for MCD (2008)...\n",
      "Downloading 10-Q for PM (2016)...\n",
      "Downloading 10-Q for CVX (2019)...\n",
      "Downloading 10-Q for PEP (2009)...\n",
      "Downloading 10-Q for HSBC (2004)...\n",
      "Downloading 10-Q for SHEL (2012)...\n",
      "Downloading 10-Q for ACN (2013)...\n",
      "Downloading 10-Q for IBM (2009)...\n",
      "Downloading 10-Q for SHEL (2013)...\n",
      "Downloading 10-Q for GE (2008)...\n",
      "Downloading 10-Q for ADBE (2002)...\n",
      "Downloading 10-Q for HSBC (2005)...\n",
      "Downloading 10-Q for SHEL (2014)...\n",
      "Downloading 10-Q for TMO (2003)...\n",
      "Downloading 10-Q for ABT (2011)...\n",
      "Downloading 10-Q for WFC (2005)...\n",
      "Downloading 10-Q for SHEL (2015)...\n",
      "Downloading 10-Q for HSBC (2006)...\n",
      "Downloading 10-Q for PEP (2010)...\n",
      "Downloading 10-Q for BAC (2006)...\n",
      "Downloading 10-Q for SHEL (2016)...\n",
      "Downloading 10-Q for MCD (2009)...\n",
      "Downloading 10-Q for HSBC (2007)...\n",
      "Downloading 10-Q for ADBE (2003)...\n",
      "Downloading 10-Q for CRM (2011)...\n",
      "Downloading 10-Q for GE (2009)...\n",
      "Downloading 10-Q for SHEL (2017)...\n",
      "Downloading 10-Q for ACN (2014)...\n",
      "Downloading 10-Q for MRK (2017)...\n",
      "Downloading 10-Q for SHEL (2018)...\n",
      "Downloading 10-Q for IBM (2010)...\n",
      "Downloading 10-Q for PM (2017)...\n",
      "Downloading 10-Q for HSBC (2008)...\n",
      "Downloading 10-Q for SHEL (2019)...\n",
      "Downloading 10-Q for CVX (2020)...\n",
      "Downloading 10-Q for SHEL (2020)...\n",
      "Downloading 10-Q for ABT (2012)...\n",
      "Downloading 10-Q for TMO (2004)...\n",
      "Downloading 10-Q for HSBC (2009)...\n",
      "Downloading 10-Q for PEP (2011)...\n",
      "Downloading 10-Q for ADBE (2004)...\n",
      "Downloading 10-Q for SHEL (2021)...\n",
      "Downloading 10-Q for MCD (2010)...\n",
      "Downloading 10-Q for WFC (2006)...\n",
      "Downloading 10-Q for KO (2019)...\n",
      "Downloading 10-Q for GE (2010)...\n"
     ]
    },
    {
     "name": "stderr",
     "output_type": "stream",
     "text": [
      "Downloading SEC Filings:   7%|▋         | 34/499 [05:40<3:04:07, 23.76s/it]"
     ]
    },
    {
     "name": "stdout",
     "output_type": "stream",
     "text": [
      "Downloading 10-Q for HSBC (2010)...\n",
      "Downloading 10-Q for ACN (2015)...\n",
      "Downloading 10-Q for QQQ (2000)...\n",
      "Downloading 10-Q for QQQ (2001)...\n",
      "Downloading 10-Q for PM (2018)...\n",
      "Downloading 10-Q for TMO (2005)...\n",
      "Downloading 10-Q for QQQ (2002)...\n",
      "Downloading 10-Q for HSBC (2011)...\n",
      "Downloading 10-Q for QQQ (2003)...\n",
      "Downloading 10-Q for MRK (2018)...\n",
      "Downloading 10-Q for ADBE (2005)...\n",
      "Downloading 10-Q for QQQ (2004)...\n",
      "Downloading 10-Q for IBM (2011)...\n",
      "Downloading 10-Q for PEP (2012)...\n",
      "Downloading 10-Q for QQQ (2005)...\n",
      "Downloading 10-Q for CVX (2021)...\n",
      "Downloading 10-Q for HSBC (2012)...\n",
      "Downloading 10-Q for QQQ (2006)...\n",
      "Downloading 10-Q for QQQ (2007)...\n",
      "Downloading 10-Q for CRM (2012)...\n",
      "Downloading 10-Q for QQQ (2008)...\n",
      "Downloading 10-Q for BAC (2007)...\n",
      "Downloading 10-Q for QQQ (2009)...\n",
      "Downloading 10-Q for HSBC (2013)...\n",
      "Downloading 10-Q for QQQ (2010)...\n",
      "Downloading 10-Q for QQQ (2011)...\n",
      "Downloading 10-Q for TMO (2006)...\n",
      "Downloading 10-Q for WFC (2007)...\n",
      "Downloading 10-Q for ABT (2013)...\n",
      "Downloading 10-Q for ACN (2016)...\n",
      "Downloading 10-Q for QQQ (2012)...\n",
      "Downloading 10-Q for MCD (2011)...\n",
      "Downloading 10-Q for HSBC (2014)...\n",
      "Downloading 10-Q for QQQ (2013)...\n",
      "Downloading 10-Q for QQQ (2014)...\n",
      "Downloading 10-Q for QQQ (2015)...\n",
      "Downloading 10-Q for PM (2019)...\n",
      "Downloading 10-Q for QQQ (2016)...\n",
      "Downloading 10-Q for QQQ (2017)...\n",
      "Downloading 10-Q for HSBC (2015)...\n",
      "Downloading 10-Q for QQQ (2018)...\n",
      "Downloading 10-Q for QQQ (2019)...\n",
      "Downloading 10-Q for KO (2020)...\n",
      "Downloading 10-Q for ADBE (2006)...\n"
     ]
    },
    {
     "name": "stderr",
     "output_type": "stream",
     "text": [
      "Downloading SEC Filings:   7%|▋         | 35/499 [06:13<3:23:36, 26.33s/it]"
     ]
    },
    {
     "name": "stdout",
     "output_type": "stream",
     "text": [
      "Downloading 10-Q for QQQ (2020)...\n",
      "Downloading 10-Q for JPM (2003)...\n",
      "Downloading 10-Q for QQQ (2021)...\n",
      "Downloading 10-Q for TMO (2007)...\n",
      "Downloading 10-Q for MRK (2019)...\n",
      "Downloading 10-Q for HSBC (2016)...\n",
      "Downloading 10-Q for T (2000)...\n"
     ]
    },
    {
     "name": "stderr",
     "output_type": "stream",
     "text": [
      "Downloading SEC Filings:   7%|▋         | 36/499 [06:15<2:32:23, 19.75s/it]"
     ]
    },
    {
     "name": "stdout",
     "output_type": "stream",
     "text": [
      "Downloading 10-Q for CSCO (2015)...\n",
      "Downloading 10-Q for PLTR (2000)...\n",
      "Downloading 10-Q for PEP (2013)...\n",
      "Downloading 10-Q for PLTR (2001)...\n",
      "Downloading 10-Q for HSBC (2017)...\n",
      "Downloading 10-Q for PLTR (2002)...\n",
      "Downloading 10-Q for GE (2011)...\n",
      "Downloading 10-Q for MCD (2012)...\n",
      "Downloading 10-Q for CRM (2013)...\n",
      "Downloading 10-Q for PLTR (2003)...\n",
      "Downloading 10-Q for ACN (2017)...\n",
      "Downloading 10-Q for PLTR (2004)...\n",
      "Downloading 10-Q for IBM (2012)...\n",
      "Downloading 10-Q for PLTR (2005)...\n",
      "Downloading 10-Q for ABT (2014)...\n",
      "Downloading 10-Q for WFC (2008)...\n",
      "Downloading 10-Q for HSBC (2018)...\n",
      "Downloading 10-Q for PLTR (2006)...\n",
      "Downloading 10-Q for ADBE (2007)...\n",
      "Downloading 10-Q for PLTR (2007)...\n",
      "Downloading 10-Q for TMO (2008)...\n",
      "Downloading 10-Q for T (2001)...\n",
      "Downloading 10-Q for PLTR (2008)...\n",
      "Downloading 10-Q for PLTR (2009)...\n",
      "Downloading 10-Q for HSBC (2019)...\n",
      "Downloading 10-Q for PLTR (2010)...\n",
      "Downloading 10-Q for BAC (2008)...\n",
      "Downloading 10-Q for PLTR (2011)...\n",
      "Downloading 10-Q for PLTR (2012)...\n",
      "Downloading 10-Q for PLTR (2013)...\n",
      "Downloading 10-Q for HSBC (2020)...\n",
      "Downloading 10-Q for PLTR (2014)...\n",
      "Downloading 10-Q for KO (2021)...\n",
      "Downloading 10-Q for PLTR (2015)...\n",
      "Downloading 10-Q for PLTR (2016)...\n",
      "Downloading 10-Q for T (2002)...\n",
      "Downloading 10-Q for PLTR (2017)...\n",
      "Downloading 10-Q for HSBC (2021)...\n",
      "Downloading 10-Q for PLTR (2018)...\n",
      "Downloading 10-Q for PM (2020)...\n",
      "Downloading 10-Q for PLTR (2019)...\n",
      "Downloading 10-Q for ADBE (2008)...\n",
      "Downloading 10-Q for PLTR (2020)...\n",
      "Downloading 10-Q for TMO (2009)...\n"
     ]
    },
    {
     "name": "stderr",
     "output_type": "stream",
     "text": [
      "Downloading SEC Filings:   7%|▋         | 37/499 [06:48<2:58:48, 23.22s/it]"
     ]
    },
    {
     "name": "stdout",
     "output_type": "stream",
     "text": [
      "Downloading 10-Q for ACN (2018)...\n",
      "Downloading 10-Q for WFC (2009)...\n",
      "Downloading 10-Q for IBM (2013)...\n",
      "Downloading 10-Q for VZ (2000)...\n",
      "Downloading 10-Q for PEP (2014)...\n",
      "Downloading 10-Q for PLTR (2021)...\n",
      "Downloading 10-Q for GE (2012)...\n",
      "Downloading 10-Q for MCD (2013)...\n",
      "Downloading 10-Q for MRK (2020)...\n",
      "Downloading 10-Q for T (2003)...\n",
      "Downloading 10-Q for ABT (2015)...\n",
      "Downloading 10-Q for CSCO (2016)...\n",
      "Downloading 10-Q for ADBE (2009)...\n",
      "Downloading 10-Q for TMO (2010)...\n",
      "Downloading 10-Q for ACN (2019)...\n",
      "Downloading 10-Q for VZ (2001)...\n",
      "Downloading 10-Q for T (2004)...\n",
      "Downloading 10-Q for CRM (2014)...\n",
      "Downloading 10-Q for PM (2021)...\n",
      "Downloading 10-Q for BAC (2009)...\n"
     ]
    },
    {
     "name": "stderr",
     "output_type": "stream",
     "text": [
      "Downloading SEC Filings:   8%|▊         | 38/499 [07:12<3:01:36, 23.64s/it]"
     ]
    },
    {
     "name": "stdout",
     "output_type": "stream",
     "text": [
      "Downloading 10-Q for IBM (2014)...\n",
      "Downloading 10-Q for WFC (2010)...\n",
      "Downloading 10-Q for PEP (2015)...\n",
      "Downloading 10-Q for MS (2000)...\n",
      "Downloading 10-Q for TMUS (2021)...\n",
      "Downloading 10-Q for ABT (2016)...\n",
      "Downloading 10-Q for VZ (2002)...\n",
      "Downloading 10-Q for MRK (2021)...\n",
      "Downloading 10-Q for T (2005)...\n",
      "Downloading 10-Q for MCD (2014)...\n",
      "Downloading 10-Q for ACN (2020)...\n",
      "Downloading 10-Q for ADBE (2010)...\n",
      "Downloading 10-Q for TMO (2011)...\n",
      "Downloading 10-Q for GE (2013)...\n"
     ]
    },
    {
     "name": "stderr",
     "output_type": "stream",
     "text": [
      "Downloading SEC Filings:   8%|▊         | 39/499 [07:29<2:44:59, 21.52s/it]"
     ]
    },
    {
     "name": "stdout",
     "output_type": "stream",
     "text": [
      "Downloading 10-Q for T (2006)...\n",
      "Downloading 10-Q for VZ (2003)...\n",
      "Downloading 10-Q for CSCO (2017)...\n",
      "Downloading 10-Q for AXP (2000)...\n",
      "Downloading 10-Q for PEP (2016)...\n",
      "Downloading 10-Q for ABT (2017)...\n"
     ]
    },
    {
     "name": "stderr",
     "output_type": "stream",
     "text": [
      "Downloading SEC Filings:   8%|▊         | 41/499 [07:43<1:44:52, 13.74s/it]"
     ]
    },
    {
     "name": "stdout",
     "output_type": "stream",
     "text": [
      "Downloading 10-Q for TMO (2012)...\n",
      "Downloading 10-Q for AXP (2001)...\n",
      "Downloading 10-Q for ISRG (2000)...\n",
      "Downloading 10-Q for DIS (2000)...\n",
      "Downloading 10-Q for DIS (2001)...\n",
      "Downloading 10-Q for MCD (2015)...\n",
      "Downloading 10-Q for DIS (2002)...\n",
      "Downloading 10-Q for VZ (2004)...\n",
      "Downloading 10-Q for DIS (2003)...\n",
      "Downloading 10-Q for ISRG (2001)...\n",
      "Downloading 10-Q for DIS (2004)...\n",
      "Downloading 10-Q for T (2007)...\n",
      "Downloading 10-Q for AXP (2002)...\n",
      "Downloading 10-Q for DIS (2005)...\n",
      "Downloading 10-Q for JPM (2004)...\n",
      "Downloading 10-Q for ACN (2021)...\n",
      "Downloading 10-Q for DIS (2006)...\n",
      "Downloading 10-Q for DIS (2007)...\n",
      "Downloading 10-Q for ADBE (2011)...\n",
      "Downloading 10-Q for ABT (2018)...\n",
      "Downloading 10-Q for BAC (2010)...\n",
      "Downloading 10-Q for PEP (2017)...\n",
      "Downloading 10-Q for DIS (2008)...\n",
      "Downloading 10-Q for ISRG (2002)...\n",
      "Downloading 10-Q for IBM (2015)...\n",
      "Downloading 10-Q for CSCO (2018)...\n",
      "Downloading 10-Q for DIS (2009)...\n",
      "Downloading 10-Q for DIS (2010)...\n",
      "Downloading 10-Q for AXP (2003)...\n",
      "Downloading 10-Q for DIS (2011)...\n",
      "Downloading 10-Q for WFC (2011)...\n",
      "Downloading 10-Q for TMO (2013)...\n",
      "Downloading 10-Q for VZ (2005)...\n",
      "Downloading 10-Q for DIS (2012)...\n",
      "Downloading 10-Q for ISRG (2003)...\n",
      "Downloading 10-Q for T (2008)...\n",
      "Downloading 10-Q for DIS (2013)...\n",
      "Downloading 10-Q for DIS (2014)...\n"
     ]
    },
    {
     "name": "stderr",
     "output_type": "stream",
     "text": [
      "Downloading SEC Filings:   8%|▊         | 42/499 [08:11<2:17:54, 18.11s/it]"
     ]
    },
    {
     "name": "stdout",
     "output_type": "stream",
     "text": [
      "Downloading 10-Q for DIS (2015)...\n",
      "Downloading 10-Q for AXP (2004)...\n",
      "Downloading 10-Q for DIS (2016)...\n",
      "Downloading 10-Q for FMX (2000)...\n",
      "Downloading 10-Q for ISRG (2004)...\n",
      "Downloading 10-Q for DIS (2017)...\n",
      "Downloading 10-Q for FMX (2001)...\n",
      "Downloading 10-Q for PEP (2018)...\n",
      "Downloading 10-Q for ABT (2019)...\n",
      "Downloading 10-Q for DIS (2018)...\n",
      "Downloading 10-Q for FMX (2002)...\n"
     ]
    },
    {
     "name": "stderr",
     "output_type": "stream",
     "text": [
      "Downloading SEC Filings:   9%|▊         | 43/499 [08:19<1:54:08, 15.02s/it]"
     ]
    },
    {
     "name": "stdout",
     "output_type": "stream",
     "text": [
      "Downloading 10-Q for MCD (2016)...\n",
      "Downloading 10-Q for DIS (2019)...\n",
      "Downloading 10-Q for FMX (2003)...\n",
      "Downloading 10-Q for AMGN (2000)...\n",
      "Downloading 10-Q for FMX (2004)...\n",
      "Downloading 10-Q for T (2009)...\n",
      "Downloading 10-Q for FMX (2005)...\n",
      "Downloading 10-Q for VZ (2006)...\n",
      "Downloading 10-Q for ISRG (2005)...\n",
      "Downloading 10-Q for AXP (2005)...\n",
      "Downloading 10-Q for FMX (2006)...\n",
      "Downloading 10-Q for FMX (2007)...\n",
      "Downloading 10-Q for FMX (2008)...\n",
      "Downloading 10-Q for FMX (2009)...\n",
      "Downloading 10-Q for FMX (2010)...\n",
      "Downloading 10-Q for AMGN (2001)...\n",
      "Downloading 10-Q for MS (2001)...\n",
      "Downloading 10-Q for GE (2014)...\n",
      "Downloading 10-Q for FMX (2011)...\n",
      "Downloading 10-Q for FMX (2012)...\n",
      "Downloading 10-Q for CSCO (2019)...\n",
      "Downloading 10-Q for AXP (2006)...\n",
      "Downloading 10-Q for FMX (2013)...\n",
      "Downloading 10-Q for FMX (2014)...\n",
      "Downloading 10-Q for DIS (2020)...\n",
      "Downloading 10-Q for PEP (2019)...\n",
      "Downloading 10-Q for FMX (2015)...\n",
      "Downloading 10-Q for ABT (2020)...\n",
      "Downloading 10-Q for FMX (2016)...\n",
      "Downloading 10-Q for AMGN (2002)...\n",
      "Downloading 10-Q for VZ (2007)...\n",
      "Downloading 10-Q for T (2010)...\n",
      "Downloading 10-Q for FMX (2017)...\n",
      "Downloading 10-Q for MCD (2017)...\n",
      "Downloading 10-Q for FMX (2018)...\n",
      "Downloading 10-Q for FMX (2019)...\n",
      "Downloading 10-Q for AXP (2007)...\n",
      "Downloading 10-Q for FMX (2020)...\n",
      "Downloading 10-Q for FMX (2021)...\n"
     ]
    },
    {
     "name": "stderr",
     "output_type": "stream",
     "text": [
      "Downloading SEC Filings:   9%|▉         | 44/499 [09:11<3:17:35, 26.06s/it]"
     ]
    },
    {
     "name": "stdout",
     "output_type": "stream",
     "text": [
      "Downloading 10-Q for ISRG (2006)...\n",
      "Downloading 10-Q for AMGN (2003)...\n",
      "Downloading 10-Q for RTX (2000)...\n",
      "Downloading 10-Q for ADBE (2012)...\n",
      "Downloading 10-Q for TMO (2014)...\n",
      "Downloading 10-Q for VZ (2008)...\n",
      "Downloading 10-Q for AXP (2008)...\n",
      "Downloading 10-Q for RTX (2001)...\n",
      "Downloading 10-Q for AMGN (2004)...\n",
      "Downloading 10-Q for ISRG (2007)...\n",
      "Downloading 10-Q for RTX (2002)...\n",
      "Downloading 10-Q for AXP (2009)...\n",
      "Downloading 10-Q for ABT (2021)...\n",
      "Downloading 10-Q for AMGN (2005)...\n",
      "Downloading 10-Q for VZ (2009)...\n",
      "Downloading 10-Q for CSCO (2020)...\n",
      "Downloading 10-Q for IBM (2016)...\n",
      "Downloading 10-Q for ISRG (2008)...\n",
      "Downloading 10-Q for PEP (2020)...\n",
      "Downloading 10-Q for BAC (2011)...\n",
      "Downloading 10-Q for TMO (2015)...\n",
      "Downloading 10-Q for RTX (2003)...\n",
      "Downloading 10-Q for AMGN (2006)...\n",
      "Downloading 10-Q for AXP (2010)...\n",
      "Downloading 10-Q for ISRG (2009)...\n",
      "Downloading 10-Q for RTX (2004)...\n",
      "Downloading 10-Q for DIS (2021)...\n"
     ]
    },
    {
     "name": "stderr",
     "output_type": "stream",
     "text": [
      "Downloading SEC Filings:   9%|▉         | 45/499 [10:01<4:10:54, 33.16s/it]"
     ]
    },
    {
     "name": "stdout",
     "output_type": "stream",
     "text": [
      "Downloading 10-Q for GE (2015)...\n",
      "Downloading 10-Q for QCOM (2000)...\n",
      "Downloading 10-Q for ADBE (2013)...\n",
      "Downloading 10-Q for VZ (2010)...\n",
      "Downloading 10-Q for AMGN (2007)...\n",
      "Downloading 10-Q for T (2011)...\n",
      "Downloading 10-Q for ISRG (2010)...\n",
      "Downloading 10-Q for TMO (2016)...\n",
      "Downloading 10-Q for RTX (2005)...\n",
      "Downloading 10-Q for WFC (2012)...\n",
      "Downloading 10-Q for MCD (2018)...\n",
      "Downloading 10-Q for QCOM (2001)...\n",
      "Downloading 10-Q for IBM (2017)...\n",
      "Downloading 10-Q for AMGN (2008)...\n",
      "Downloading 10-Q for AXP (2011)...\n",
      "Downloading 10-Q for MS (2002)...\n",
      "Downloading 10-Q for RTX (2006)...\n",
      "Downloading 10-Q for PEP (2021)...\n",
      "Downloading 10-Q for JPM (2005)...\n",
      "Downloading 10-Q for QCOM (2002)...\n",
      "Downloading 10-Q for RTX (2007)...\n",
      "Downloading 10-Q for ISRG (2011)...\n",
      "Downloading 10-Q for VZ (2011)...\n",
      "Downloading 10-Q for AMGN (2009)...\n",
      "Downloading 10-Q for T (2012)...\n",
      "Downloading 10-Q for TMO (2017)...\n",
      "Downloading 10-Q for QCOM (2003)...\n",
      "Downloading 10-Q for RTX (2008)...\n",
      "Downloading 10-Q for ISRG (2012)...\n",
      "Downloading 10-Q for IBM (2018)...\n",
      "Downloading 10-Q for CSCO (2021)...\n",
      "Downloading 10-Q for AMGN (2010)...\n",
      "Downloading 10-Q for RTX (2009)...\n",
      "Downloading 10-Q for QCOM (2004)...\n",
      "Downloading 10-Q for MCD (2019)...\n",
      "Downloading 10-Q for VZ (2012)...\n",
      "Downloading 10-Q for AXP (2012)...\n",
      "Downloading 10-Q for ISRG (2013)...\n",
      "Downloading 10-Q for TMO (2018)...\n",
      "Downloading 10-Q for T (2013)...\n",
      "Downloading 10-Q for ADBE (2014)...\n"
     ]
    },
    {
     "name": "stderr",
     "output_type": "stream",
     "text": [
      "Downloading SEC Filings:   9%|▉         | 46/499 [10:58<5:05:13, 40.43s/it]"
     ]
    },
    {
     "name": "stdout",
     "output_type": "stream",
     "text": [
      "Downloading 10-Q for RTX (2010)...\n",
      "Downloading 10-Q for QCOM (2005)...\n",
      "Downloading 10-Q for BX (2000)...\n",
      "Downloading 10-Q for BX (2001)...\n",
      "Downloading 10-Q for AMGN (2011)...\n",
      "Downloading 10-Q for BX (2002)...\n",
      "Downloading 10-Q for ISRG (2014)...\n",
      "Downloading 10-Q for BX (2003)...\n",
      "Downloading 10-Q for QCOM (2006)...\n",
      "Downloading 10-Q for IBM (2019)...\n",
      "Downloading 10-Q for BX (2004)...\n",
      "Downloading 10-Q for BAC (2012)...\n",
      "Downloading 10-Q for BX (2005)...\n",
      "Downloading 10-Q for VZ (2013)...\n",
      "Downloading 10-Q for BX (2006)...\n",
      "Downloading 10-Q for MCD (2020)...\n",
      "Downloading 10-Q for BX (2007)...\n",
      "Downloading 10-Q for QCOM (2007)...\n",
      "Downloading 10-Q for ISRG (2015)...\n",
      "Downloading 10-Q for TMO (2019)...\n",
      "Downloading 10-Q for AMGN (2012)...\n",
      "Downloading 10-Q for RTX (2011)...\n",
      "Downloading 10-Q for MS (2003)...\n",
      "Downloading 10-Q for QCOM (2008)...\n",
      "Downloading 10-Q for AXP (2013)...\n",
      "Downloading 10-Q for T (2014)...\n",
      "Downloading 10-Q for BX (2008)...\n",
      "Downloading 10-Q for ISRG (2016)...\n",
      "Downloading 10-Q for VZ (2014)...\n",
      "Downloading 10-Q for QCOM (2009)...\n"
     ]
    },
    {
     "name": "stderr",
     "output_type": "stream",
     "text": [
      "Downloading SEC Filings:   9%|▉         | 47/499 [11:47<5:22:10, 42.77s/it]"
     ]
    },
    {
     "name": "stdout",
     "output_type": "stream",
     "text": [
      "Downloading 10-Q for AMGN (2013)...\n",
      "Downloading 10-Q for NOW (2000)...\n",
      "Downloading 10-Q for BX (2009)...\n",
      "Downloading 10-Q for NOW (2001)...\n",
      "Downloading 10-Q for ISRG (2017)...\n",
      "Downloading 10-Q for NOW (2002)...\n",
      "Downloading 10-Q for IBM (2020)...\n",
      "Downloading 10-Q for QCOM (2010)...\n",
      "Downloading 10-Q for AXP (2014)...\n",
      "Downloading 10-Q for NOW (2003)...\n",
      "Downloading 10-Q for BX (2010)...\n",
      "Downloading 10-Q for NOW (2004)...\n",
      "Downloading 10-Q for RTX (2012)...\n",
      "Downloading 10-Q for MCD (2021)...\n",
      "Downloading 10-Q for VZ (2015)...\n",
      "Downloading 10-Q for NOW (2005)...\n",
      "Downloading 10-Q for ISRG (2018)...\n",
      "Downloading 10-Q for NOW (2006)...\n",
      "Downloading 10-Q for JPM (2006)...\n",
      "Downloading 10-Q for WFC (2013)...\n",
      "Downloading 10-Q for T (2015)...\n",
      "Downloading 10-Q for NOW (2007)...\n",
      "Downloading 10-Q for TMO (2020)...\n",
      "Downloading 10-Q for ADBE (2015)...\n",
      "Downloading 10-Q for AMGN (2014)...\n",
      "Downloading 10-Q for NOW (2008)...\n",
      "Downloading 10-Q for QCOM (2011)...\n"
     ]
    },
    {
     "name": "stderr",
     "output_type": "stream",
     "text": [
      "Downloading SEC Filings:  10%|▉         | 48/499 [12:25<5:10:55, 41.37s/it]"
     ]
    },
    {
     "name": "stdout",
     "output_type": "stream",
     "text": [
      "Downloading 10-Q for NOW (2009)...\n",
      "Downloading 10-Q for GE (2016)...\n",
      "Downloading 10-Q for AXP (2015)...\n",
      "Downloading 10-Q for GS (2000)...\n",
      "Downloading 10-Q for NOW (2010)...\n",
      "Downloading 10-Q for ISRG (2019)...\n",
      "Downloading 10-Q for NOW (2011)...\n",
      "Downloading 10-Q for IBM (2021)...\n",
      "Downloading 10-Q for VZ (2016)...\n",
      "Downloading 10-Q for BX (2011)...\n",
      "Downloading 10-Q for NOW (2012)...\n",
      "Downloading 10-Q for T (2016)...\n",
      "Downloading 10-Q for AMGN (2015)...\n",
      "Downloading 10-Q for QCOM (2012)...\n"
     ]
    },
    {
     "name": "stderr",
     "output_type": "stream",
     "text": [
      "Downloading SEC Filings:  10%|▉         | 49/499 [13:17<5:33:52, 44.52s/it]"
     ]
    },
    {
     "name": "stdout",
     "output_type": "stream",
     "text": [
      "Downloading 10-Q for MS (2004)...\n",
      "Downloading 10-Q for INTU (2000)...\n",
      "Downloading 10-Q for NOW (2013)...\n",
      "Downloading 10-Q for ISRG (2020)...\n",
      "Downloading 10-Q for RTX (2013)...\n",
      "Downloading 10-Q for VZ (2017)...\n",
      "Downloading 10-Q for TMO (2021)...\n",
      "Downloading 10-Q for INTU (2001)...\n",
      "Downloading 10-Q for BX (2012)...\n",
      "Downloading 10-Q for AXP (2016)...\n",
      "Downloading 10-Q for INTU (2002)...\n",
      "Downloading 10-Q for T (2017)...\n",
      "Downloading 10-Q for QCOM (2013)...\n",
      "Downloading 10-Q for RTX (2014)...\n",
      "Downloading 10-Q for NOW (2014)...\n",
      "Downloading 10-Q for INTU (2003)...\n",
      "Downloading 10-Q for INTU (2004)...\n",
      "Downloading 10-Q for GS (2001)...\n",
      "Downloading 10-Q for T (2018)...\n"
     ]
    },
    {
     "name": "stderr",
     "output_type": "stream",
     "text": [
      "Downloading SEC Filings:  10%|█         | 50/499 [15:18<8:24:37, 67.43s/it]"
     ]
    },
    {
     "name": "stdout",
     "output_type": "stream",
     "text": [
      "Downloading 10-Q for INTU (2005)...\n",
      "Downloading 10-Q for QCOM (2014)...\n",
      "Downloading 10-Q for AMGN (2016)...\n",
      "Downloading 10-Q for VZ (2018)...\n",
      "Downloading 10-Q for ISRG (2021)...\n",
      "Downloading 10-Q for TXN (2000)...\n",
      "Downloading 10-Q for AXP (2017)...\n",
      "Downloading 10-Q for NOW (2015)...\n",
      "Downloading 10-Q for INTU (2006)...\n",
      "Downloading 10-Q for TXN (2001)...\n",
      "Downloading 10-Q for JPM (2007)...\n"
     ]
    },
    {
     "name": "stderr",
     "output_type": "stream",
     "text": [
      "Downloading SEC Filings:  10%|█         | 51/499 [15:40<6:42:03, 53.85s/it]"
     ]
    },
    {
     "name": "stdout",
     "output_type": "stream",
     "text": [
      "Downloading 10-Q for TXN (2002)...\n",
      "Downloading 10-Q for INTU (2007)...\n"
     ]
    },
    {
     "name": "stderr",
     "output_type": "stream",
     "text": [
      "Downloading SEC Filings:  10%|█         | 52/499 [15:44<4:50:13, 38.96s/it]"
     ]
    },
    {
     "name": "stdout",
     "output_type": "stream",
     "text": [
      "Downloading 10-Q for CAT (2000)...\n",
      "Downloading 10-Q for MS (2005)...\n",
      "Downloading 10-Q for RTX (2015)...\n",
      "Downloading 10-Q for PGR (2000)...\n",
      "Downloading 10-Q for T (2019)...\n",
      "Downloading 10-Q for NOW (2016)...\n",
      "Downloading 10-Q for ADBE (2016)...\n",
      "Downloading 10-Q for BX (2013)...\n",
      "Downloading 10-Q for VZ (2019)...\n",
      "Downloading 10-Q for INTU (2008)...\n",
      "Downloading 10-Q for TXN (2003)...\n",
      "Downloading 10-Q for AMGN (2017)...\n",
      "Downloading 10-Q for AXP (2018)...\n",
      "Downloading 10-Q for QCOM (2015)...\n",
      "Downloading 10-Q for CAT (2001)...\n",
      "Downloading 10-Q for PGR (2001)...\n",
      "Downloading 10-Q for INTU (2009)...\n",
      "Downloading 10-Q for TXN (2004)...\n",
      "Downloading 10-Q for RTX (2016)...\n",
      "Downloading 10-Q for NOW (2017)...\n",
      "Downloading 10-Q for GE (2017)...\n",
      "Downloading 10-Q for CAT (2002)...\n",
      "Downloading 10-Q for T (2020)...\n",
      "Downloading 10-Q for AMGN (2018)...\n",
      "Downloading 10-Q for PGR (2002)...\n",
      "Downloading 10-Q for INTU (2010)...\n",
      "Downloading 10-Q for TXN (2005)...\n",
      "Downloading 10-Q for BX (2014)...\n",
      "Downloading 10-Q for CRM (2015)...\n",
      "Downloading 10-Q for RTX (2017)...\n",
      "Downloading 10-Q for ADBE (2017)...\n",
      "Downloading 10-Q for BAC (2013)...\n",
      "Downloading 10-Q for AXP (2019)...\n",
      "Downloading 10-Q for VZ (2020)...\n",
      "Downloading 10-Q for QCOM (2016)...\n",
      "Downloading 10-Q for TXN (2006)...\n",
      "Downloading 10-Q for PGR (2003)...\n",
      "Downloading 10-Q for GS (2002)...\n",
      "Downloading 10-Q for AMGN (2019)...\n",
      "Downloading 10-Q for CAT (2003)...\n",
      "Downloading 10-Q for INTU (2011)...\n",
      "Downloading 10-Q for WFC (2014)...\n",
      "Downloading 10-Q for NOW (2018)...\n",
      "Downloading 10-Q for GE (2018)...\n",
      "Downloading 10-Q for T (2021)...\n",
      "Downloading 10-Q for BX (2015)...\n",
      "Downloading 10-Q for GE (2019)...\n"
     ]
    },
    {
     "name": "stderr",
     "output_type": "stream",
     "text": [
      "Downloading SEC Filings:  11%|█         | 53/499 [16:48<5:44:36, 46.36s/it]"
     ]
    },
    {
     "name": "stdout",
     "output_type": "stream",
     "text": [
      "Downloading 10-Q for PDD (2000)...\n",
      "Downloading 10-Q for PDD (2001)...\n",
      "Downloading 10-Q for PDD (2002)...\n",
      "Downloading 10-Q for PDD (2003)...\n",
      "Downloading 10-Q for PDD (2004)...\n",
      "Downloading 10-Q for PDD (2005)...\n",
      "Downloading 10-Q for PDD (2006)...\n",
      "Downloading 10-Q for PDD (2007)...\n",
      "Downloading 10-Q for PDD (2008)...\n",
      "Downloading 10-Q for PDD (2009)...\n",
      "Downloading 10-Q for PDD (2010)...\n",
      "Downloading 10-Q for BX (2016)...\n",
      "Downloading 10-Q for PDD (2011)...\n",
      "Downloading 10-Q for PDD (2012)...\n",
      "Downloading 10-Q for PDD (2013)...\n",
      "Downloading 10-Q for PDD (2014)...\n",
      "Downloading 10-Q for PDD (2015)...\n",
      "Downloading 10-Q for PDD (2016)...\n",
      "Downloading 10-Q for PDD (2017)...\n",
      "Downloading 10-Q for PDD (2018)...\n",
      "Downloading 10-Q for PDD (2019)...\n",
      "Downloading 10-Q for PDD (2020)...\n",
      "Downloading 10-Q for PDD (2021)...\n"
     ]
    },
    {
     "name": "stderr",
     "output_type": "stream",
     "text": [
      "Downloading SEC Filings:  11%|█         | 54/499 [17:07<4:42:48, 38.13s/it]"
     ]
    },
    {
     "name": "stdout",
     "output_type": "stream",
     "text": [
      "Downloading 10-Q for WFC (2015)...\n",
      "Downloading 10-Q for AMD (2000)...\n",
      "Downloading 10-Q for BX (2017)...\n",
      "Downloading 10-Q for AMD (2001)...\n",
      "Downloading 10-Q for GE (2020)...\n",
      "Downloading 10-Q for AMD (2002)...\n",
      "Downloading 10-Q for AMD (2003)...\n",
      "Downloading 10-Q for AMD (2004)...\n",
      "Downloading 10-Q for BX (2018)...\n",
      "Downloading 10-Q for GE (2021)...\n",
      "Downloading 10-Q for NOW (2019)...\n",
      "Downloading 10-Q for WFC (2016)...\n",
      "Downloading 10-Q for AMD (2005)...\n",
      "Downloading 10-Q for AMD (2006)...\n"
     ]
    },
    {
     "name": "stderr",
     "output_type": "stream",
     "text": [
      "Downloading SEC Filings:  11%|█         | 55/499 [17:58<5:12:16, 42.20s/it]"
     ]
    },
    {
     "name": "stdout",
     "output_type": "stream",
     "text": [
      "Downloading 10-Q for RY (2000)...\n",
      "Downloading 10-Q for NOW (2020)...\n",
      "Downloading 10-Q for AMD (2007)...\n",
      "Downloading 10-Q for BX (2019)...\n",
      "Downloading 10-Q for AMD (2008)...\n",
      "Downloading 10-Q for NOW (2021)...\n",
      "Downloading 10-Q for RY (2001)...\n",
      "Downloading 10-Q for WFC (2017)...\n",
      "Downloading 10-Q for AMD (2009)...\n"
     ]
    },
    {
     "name": "stderr",
     "output_type": "stream",
     "text": [
      "Downloading SEC Filings:  11%|█         | 56/499 [18:13<4:11:00, 34.00s/it]"
     ]
    },
    {
     "name": "stdout",
     "output_type": "stream",
     "text": [
      "Downloading 10-Q for HDB (2000)...\n",
      "Downloading 10-Q for BX (2020)...\n",
      "Downloading 10-Q for HDB (2001)...\n",
      "Downloading 10-Q for AMD (2010)...\n",
      "Downloading 10-Q for HDB (2002)...\n",
      "Downloading 10-Q for HDB (2003)...\n",
      "Downloading 10-Q for HDB (2004)...\n",
      "Downloading 10-Q for HDB (2005)...\n",
      "Downloading 10-Q for HDB (2006)...\n",
      "Downloading 10-Q for HDB (2007)...\n",
      "Downloading 10-Q for HDB (2008)...\n",
      "Downloading 10-Q for AMD (2011)...\n",
      "Downloading 10-Q for HDB (2009)...\n",
      "Downloading 10-Q for HDB (2010)...\n",
      "Downloading 10-Q for RY (2002)...\n",
      "Downloading 10-Q for HDB (2011)...\n",
      "Downloading 10-Q for HDB (2012)...\n",
      "Downloading 10-Q for HDB (2013)...\n",
      "Downloading 10-Q for HDB (2014)...\n",
      "Downloading 10-Q for WFC (2018)...\n",
      "Downloading 10-Q for HDB (2015)...\n",
      "Downloading 10-Q for HDB (2016)...\n",
      "Downloading 10-Q for HDB (2017)...\n",
      "Downloading 10-Q for HDB (2018)...\n",
      "Downloading 10-Q for AMD (2012)...\n",
      "Downloading 10-Q for HDB (2019)...\n",
      "Downloading 10-Q for HDB (2020)...\n",
      "Downloading 10-Q for BX (2021)...\n",
      "Downloading 10-Q for HDB (2021)...\n"
     ]
    },
    {
     "name": "stderr",
     "output_type": "stream",
     "text": [
      "Downloading SEC Filings:  11%|█▏        | 57/499 [18:29<3:30:16, 28.54s/it]"
     ]
    },
    {
     "name": "stdout",
     "output_type": "stream",
     "text": [
      "Downloading 10-Q for NEE (2000)...\n",
      "Downloading 10-Q for RY (2003)...\n",
      "Downloading 10-Q for AMD (2013)...\n",
      "Downloading 10-Q for NEE (2001)...\n",
      "Downloading 10-Q for NEE (2002)...\n"
     ]
    },
    {
     "name": "stderr",
     "output_type": "stream",
     "text": [
      "Downloading SEC Filings:  12%|█▏        | 58/499 [18:39<2:48:51, 22.97s/it]"
     ]
    },
    {
     "name": "stdout",
     "output_type": "stream",
     "text": [
      "Downloading 10-Q for MUFG (2000)...\n",
      "Downloading 10-Q for AMD (2014)...\n",
      "Downloading 10-Q for MUFG (2001)...\n",
      "Downloading 10-Q for MUFG (2002)...\n",
      "Downloading 10-Q for MUFG (2003)...\n",
      "Downloading 10-Q for NEE (2003)...\n",
      "Downloading 10-Q for RY (2004)...\n",
      "Downloading 10-Q for WFC (2019)...\n",
      "Downloading 10-Q for MUFG (2004)...\n",
      "Downloading 10-Q for MUFG (2005)...\n",
      "Downloading 10-Q for AMD (2015)...\n",
      "Downloading 10-Q for MUFG (2006)...\n",
      "Downloading 10-Q for MUFG (2007)...\n",
      "Downloading 10-Q for NEE (2004)...\n",
      "Downloading 10-Q for MUFG (2008)...\n",
      "Downloading 10-Q for MUFG (2009)...\n",
      "Downloading 10-Q for MUFG (2010)...\n",
      "Downloading 10-Q for AMD (2016)...\n",
      "Downloading 10-Q for MUFG (2011)...\n",
      "Downloading 10-Q for RY (2005)...\n",
      "Downloading 10-Q for MUFG (2012)...\n",
      "Downloading 10-Q for MUFG (2013)...\n",
      "Downloading 10-Q for NEE (2005)...\n",
      "Downloading 10-Q for MUFG (2014)...\n",
      "Downloading 10-Q for MUFG (2015)...\n",
      "Downloading 10-Q for AMD (2017)...\n",
      "Downloading 10-Q for MUFG (2016)...\n",
      "Downloading 10-Q for MUFG (2017)...\n",
      "Downloading 10-Q for NEE (2006)...\n",
      "Downloading 10-Q for WFC (2020)...\n",
      "Downloading 10-Q for MUFG (2018)...\n",
      "Downloading 10-Q for MUFG (2019)...\n",
      "Downloading 10-Q for AMD (2018)...\n",
      "Downloading 10-Q for RY (2006)...\n",
      "Downloading 10-Q for MUFG (2020)...\n",
      "Downloading 10-Q for MUFG (2021)...\n",
      "Downloading 10-Q for NEE (2007)...\n"
     ]
    },
    {
     "name": "stderr",
     "output_type": "stream",
     "text": [
      "Downloading SEC Filings:  12%|█▏        | 59/499 [19:05<2:55:56, 23.99s/it]"
     ]
    },
    {
     "name": "stdout",
     "output_type": "stream",
     "text": [
      "Downloading 10-Q for SPGI (2000)...\n",
      "Downloading 10-Q for AMD (2019)...\n",
      "Downloading 10-Q for SPGI (2001)...\n",
      "Downloading 10-Q for NEE (2008)...\n",
      "Downloading 10-Q for RY (2007)...\n",
      "Downloading 10-Q for SPGI (2002)...\n",
      "Downloading 10-Q for AMD (2020)...\n",
      "Downloading 10-Q for NEE (2009)...\n",
      "Downloading 10-Q for SPGI (2003)...\n",
      "Downloading 10-Q for WFC (2021)...\n",
      "Downloading 10-Q for SPGI (2004)...\n",
      "Downloading 10-Q for AMD (2021)...\n",
      "Downloading 10-Q for NEE (2010)...\n",
      "Downloading 10-Q for SPGI (2005)...\n",
      "Downloading 10-Q for RY (2008)...\n"
     ]
    },
    {
     "name": "stderr",
     "output_type": "stream",
     "text": [
      "Downloading SEC Filings:  12%|█▏        | 60/499 [19:27<2:49:50, 23.21s/it]"
     ]
    },
    {
     "name": "stdout",
     "output_type": "stream",
     "text": [
      "Downloading 10-Q for SPGI (2006)...\n",
      "Downloading 10-Q for UBER (2000)...\n",
      "Downloading 10-Q for UBER (2001)...\n",
      "Downloading 10-Q for UBER (2002)...\n",
      "Downloading 10-Q for NEE (2011)...\n",
      "Downloading 10-Q for SPGI (2007)...\n",
      "Downloading 10-Q for UBER (2003)...\n",
      "Downloading 10-Q for UBER (2004)...\n",
      "Downloading 10-Q for UBER (2005)...\n",
      "Downloading 10-Q for SPGI (2008)...\n",
      "Downloading 10-Q for UBER (2006)...\n",
      "Downloading 10-Q for RY (2009)...\n",
      "Downloading 10-Q for UBER (2007)...\n",
      "Downloading 10-Q for UBER (2008)...\n",
      "Downloading 10-Q for SPGI (2009)...\n",
      "Downloading 10-Q for UBER (2009)...\n",
      "Downloading 10-Q for UBER (2010)...\n",
      "Downloading 10-Q for UBER (2011)...\n",
      "Downloading 10-Q for SPGI (2010)...\n",
      "Downloading 10-Q for UBER (2012)...\n",
      "Downloading 10-Q for UBER (2013)...\n",
      "Downloading 10-Q for NEE (2012)...\n",
      "Downloading 10-Q for UBER (2014)...\n",
      "Downloading 10-Q for UBER (2015)...\n",
      "Downloading 10-Q for RY (2010)...\n",
      "Downloading 10-Q for UBER (2016)...\n",
      "Downloading 10-Q for UBER (2017)...\n",
      "Downloading 10-Q for SPGI (2011)...\n",
      "Downloading 10-Q for UBER (2018)...\n",
      "Downloading 10-Q for UBER (2019)...\n",
      "Downloading 10-Q for SPGI (2012)...\n",
      "Downloading 10-Q for RY (2011)...\n"
     ]
    },
    {
     "name": "stderr",
     "output_type": "stream",
     "text": [
      "Downloading SEC Filings:  12%|█▏        | 61/499 [20:11<3:34:48, 29.43s/it]"
     ]
    },
    {
     "name": "stdout",
     "output_type": "stream",
     "text": [
      "Downloading 10-Q for SPGI (2013)...\n",
      "Downloading 10-Q for DHR (2000)...\n",
      "Downloading 10-Q for NEE (2013)...\n",
      "Downloading 10-Q for DHR (2001)...\n",
      "Downloading 10-Q for UBER (2020)...\n",
      "Downloading 10-Q for SPGI (2014)...\n",
      "Downloading 10-Q for DHR (2002)...\n",
      "Downloading 10-Q for RY (2012)...\n",
      "Downloading 10-Q for SPGI (2015)...\n",
      "Downloading 10-Q for DHR (2003)...\n",
      "Downloading 10-Q for NEE (2014)...\n",
      "Downloading 10-Q for SPGI (2016)...\n",
      "Downloading 10-Q for UBER (2021)...\n",
      "Downloading 10-Q for DHR (2004)...\n",
      "Downloading 10-Q for RY (2013)...\n",
      "Downloading 10-Q for SPGI (2017)...\n",
      "Downloading 10-Q for DHR (2005)...\n",
      "Downloading 10-Q for NEE (2015)...\n",
      "Downloading 10-Q for DHR (2006)...\n"
     ]
    },
    {
     "name": "stderr",
     "output_type": "stream",
     "text": [
      "Downloading SEC Filings:  12%|█▏        | 62/499 [20:45<3:45:09, 30.91s/it]"
     ]
    },
    {
     "name": "stdout",
     "output_type": "stream",
     "text": [
      "Downloading 10-Q for SPGI (2018)...\n",
      "Downloading 10-Q for PFE (2000)...\n",
      "Downloading 10-Q for DHR (2007)...\n",
      "Downloading 10-Q for RY (2014)...\n",
      "Downloading 10-Q for PFE (2001)...\n",
      "Downloading 10-Q for DHR (2008)...\n",
      "Downloading 10-Q for PFE (2002)...\n",
      "Downloading 10-Q for SPGI (2019)...\n",
      "Downloading 10-Q for DHR (2009)...\n",
      "Downloading 10-Q for RY (2015)...\n",
      "Downloading 10-Q for NEE (2016)...\n",
      "Downloading 10-Q for PFE (2003)...\n",
      "Downloading 10-Q for DHR (2010)...\n",
      "Downloading 10-Q for SPGI (2020)...\n",
      "Downloading 10-Q for PFE (2004)...\n",
      "Downloading 10-Q for DHR (2011)...\n",
      "Downloading 10-Q for RY (2016)...\n",
      "Downloading 10-Q for NEE (2017)...\n",
      "Downloading 10-Q for PFE (2005)...\n",
      "Error downloading 10-Q for RTX in 2017: ('Connection aborted.', RemoteDisconnected('Remote end closed connection without response'))\n",
      "Downloading 10-Q for RTX (2018)...\n",
      "Error downloading 10-Q for ADBE in 2017: ('Connection aborted.', ConnectionResetError(10054, 'Varolan bir bağlantı uzaktaki bir ana bilgisayar tarafından zorla kapatıldı', None, 10054, None))\n",
      "Downloading 10-Q for ADBE (2018)...\n",
      "Error downloading 10-Q for JPM in 2007: ('Connection aborted.', ConnectionResetError(10054, 'Varolan bir bağlantı uzaktaki bir ana bilgisayar tarafından zorla kapatıldı', None, 10054, None))\n",
      "Downloading 10-Q for JPM (2008)...\n",
      "Error downloading 10-Q for MS in 2005: ('Connection aborted.', ConnectionResetError(10054, 'Varolan bir bağlantı uzaktaki bir ana bilgisayar tarafından zorla kapatıldı', None, 10054, None))\n",
      "Downloading 10-Q for MS (2006)...\n",
      "Error downloading 10-Q for CRM in 2015: ('Connection aborted.', ConnectionResetError(10054, 'Varolan bir bağlantı uzaktaki bir ana bilgisayar tarafından zorla kapatıldı', None, 10054, None))\n",
      "Downloading 10-Q for CRM (2016)...\n",
      "Error downloading 10-Q for AXP in 2019: ('Connection aborted.', ConnectionResetError(10054, 'Varolan bir bağlantı uzaktaki bir ana bilgisayar tarafından zorla kapatıldı', None, 10054, None))\n",
      "Downloading 10-Q for AXP (2020)...\n",
      "Error downloading 10-Q for BAC in 2013: ('Connection aborted.', ConnectionResetError(10054, 'Varolan bir bağlantı uzaktaki bir ana bilgisayar tarafından zorla kapatıldı', None, 10054, None))\n",
      "Downloading 10-Q for BAC (2014)...\n",
      "Error downloading 10-Q for VZ in 2020: ('Connection aborted.', ConnectionResetError(10054, 'Varolan bir bağlantı uzaktaki bir ana bilgisayar tarafından zorla kapatıldı', None, 10054, None))\n",
      "Downloading 10-Q for VZ (2021)...\n",
      "Error downloading 10-Q for QCOM in 2016: ('Connection aborted.', ConnectionResetError(10054, 'Varolan bir bağlantı uzaktaki bir ana bilgisayar tarafından zorla kapatıldı', None, 10054, None))\n",
      "Downloading 10-Q for QCOM (2017)...\n",
      "Error downloading 10-Q for TXN in 2006: ('Connection aborted.', ConnectionResetError(10054, 'Varolan bir bağlantı uzaktaki bir ana bilgisayar tarafından zorla kapatıldı', None, 10054, None))\n",
      "Downloading 10-Q for TXN (2007)...\n",
      "Error downloading 10-Q for PGR in 2003: ('Connection aborted.', ConnectionResetError(10054, 'Varolan bir bağlantı uzaktaki bir ana bilgisayar tarafından zorla kapatıldı', None, 10054, None))\n",
      "Downloading 10-Q for PGR (2004)...\n",
      "Error downloading 10-Q for GS in 2002: ('Connection aborted.', ConnectionResetError(10054, 'Varolan bir bağlantı uzaktaki bir ana bilgisayar tarafından zorla kapatıldı', None, 10054, None))\n",
      "Downloading 10-Q for GS (2003)...\n",
      "Error downloading 10-Q for AMGN in 2019: ('Connection aborted.', ConnectionResetError(10054, 'Varolan bir bağlantı uzaktaki bir ana bilgisayar tarafından zorla kapatıldı', None, 10054, None))\n",
      "Downloading 10-Q for AMGN (2020)...\n",
      "Error downloading 10-Q for CAT in 2003: ('Connection aborted.', ConnectionResetError(10054, 'Varolan bir bağlantı uzaktaki bir ana bilgisayar tarafından zorla kapatıldı', None, 10054, None))\n",
      "Downloading 10-Q for CAT (2004)...\n",
      "Error downloading 10-Q for INTU in 2011: ('Connection aborted.', ConnectionResetError(10054, 'Varolan bir bağlantı uzaktaki bir ana bilgisayar tarafından zorla kapatıldı', None, 10054, None))\n",
      "Downloading 10-Q for INTU (2012)...\n",
      "Downloading 10-Q for RY (2017)...\n",
      "Downloading 10-Q for NEE (2018)...\n",
      "Downloading 10-Q for PFE (2006)...\n",
      "Downloading 10-Q for DHR (2012)...\n",
      "Downloading 10-Q for PGR (2005)...\n",
      "Downloading 10-Q for TXN (2008)...\n",
      "Downloading 10-Q for QCOM (2018)...\n",
      "Downloading 10-Q for SPGI (2021)...\n",
      "Downloading 10-Q for INTU (2013)...\n",
      "Downloading 10-Q for CAT (2005)...\n",
      "Downloading 10-Q for AMGN (2021)...\n",
      "Downloading 10-Q for PGR (2006)...\n",
      "Downloading 10-Q for TXN (2009)...\n",
      "Downloading 10-Q for CRM (2017)...\n",
      "Downloading 10-Q for PFE (2007)...\n",
      "Downloading 10-Q for RTX (2019)...\n",
      "Downloading 10-Q for AXP (2021)...\n",
      "Downloading 10-Q for NEE (2019)...\n",
      "Downloading 10-Q for DHR (2013)...\n",
      "Downloading 10-Q for RY (2018)...\n",
      "Downloading 10-Q for PGR (2007)...\n"
     ]
    },
    {
     "name": "stderr",
     "output_type": "stream",
     "text": [
      "Downloading SEC Filings:  13%|█▎        | 63/499 [22:29<6:24:15, 52.88s/it]"
     ]
    },
    {
     "name": "stdout",
     "output_type": "stream",
     "text": [
      "Downloading 10-Q for TXN (2010)...\n",
      "Downloading 10-Q for INTU (2014)...\n",
      "Downloading 10-Q for SNY (2000)...\n",
      "Downloading 10-Q for CAT (2006)...\n"
     ]
    },
    {
     "name": "stderr",
     "output_type": "stream",
     "text": [
      "Downloading SEC Filings:  13%|█▎        | 65/499 [22:43<3:28:32, 28.83s/it]"
     ]
    },
    {
     "name": "stdout",
     "output_type": "stream",
     "text": [
      "Downloading 10-Q for SNY (2001)...\n",
      "Downloading 10-Q for PFE (2008)...\n",
      "Downloading 10-Q for UL (2000)...\n",
      "Downloading 10-Q for QCOM (2019)...\n",
      "Downloading 10-Q for EADSY (2000)...\n",
      "Downloading 10-Q for SNY (2002)...\n",
      "Downloading 10-Q for PGR (2008)...\n",
      "Downloading 10-Q for EADSY (2001)...\n",
      "Downloading 10-Q for UL (2001)...\n",
      "Downloading 10-Q for EADSY (2002)...\n",
      "Downloading 10-Q for SNY (2003)...\n",
      "Downloading 10-Q for EADSY (2003)...\n",
      "Downloading 10-Q for RTX (2020)...\n",
      "Downloading 10-Q for EADSY (2004)...\n",
      "Downloading 10-Q for UL (2002)...\n",
      "Downloading 10-Q for EADSY (2005)...\n",
      "Downloading 10-Q for TXN (2011)...\n",
      "Downloading 10-Q for SNY (2004)...\n",
      "Downloading 10-Q for EADSY (2006)...\n",
      "Downloading 10-Q for UL (2003)...\n",
      "Downloading 10-Q for EADSY (2007)...\n",
      "Downloading 10-Q for SNY (2005)...\n",
      "Downloading 10-Q for EADSY (2008)...\n",
      "Downloading 10-Q for CAT (2007)...\n",
      "Downloading 10-Q for PGR (2009)...\n",
      "Downloading 10-Q for UL (2004)...Downloading 10-Q for EADSY (2009)...\n",
      "\n",
      "Downloading 10-Q for SNY (2006)...\n",
      "Downloading 10-Q for EADSY (2010)...\n",
      "Downloading 10-Q for ADBE (2019)...\n",
      "Downloading 10-Q for RY (2019)...\n",
      "Downloading 10-Q for EADSY (2011)...\n",
      "Downloading 10-Q for UL (2005)...\n",
      "Downloading 10-Q for EADSY (2012)...\n",
      "Downloading 10-Q for SNY (2007)...\n",
      "Downloading 10-Q for DHR (2014)...\n",
      "Downloading 10-Q for EADSY (2013)...\n",
      "Downloading 10-Q for UL (2006)...\n",
      "Downloading 10-Q for EADSY (2014)...\n",
      "Downloading 10-Q for SNY (2008)...\n",
      "Downloading 10-Q for PFE (2009)...\n",
      "Downloading 10-Q for EADSY (2015)...\n",
      "Downloading 10-Q for UL (2007)...\n",
      "Downloading 10-Q for EADSY (2016)...\n",
      "Downloading 10-Q for SNY (2009)...\n",
      "Downloading 10-Q for GS (2004)...\n",
      "Downloading 10-Q for EADSY (2017)...\n",
      "Downloading 10-Q for EADSY (2018)...\n",
      "Downloading 10-Q for TXN (2012)...\n",
      "Downloading 10-Q for UL (2008)...\n",
      "Downloading 10-Q for EADSY (2019)...\n",
      "Downloading 10-Q for SNY (2010)...\n",
      "Downloading 10-Q for PGR (2010)...\n",
      "Downloading 10-Q for NEE (2020)...\n",
      "Downloading 10-Q for EADSY (2020)...\n",
      "Downloading 10-Q for CRM (2018)...\n"
     ]
    },
    {
     "name": "stderr",
     "output_type": "stream",
     "text": [
      "Downloading SEC Filings:  13%|█▎        | 66/499 [23:22<3:49:59, 31.87s/it]"
     ]
    },
    {
     "name": "stdout",
     "output_type": "stream",
     "text": [
      "Downloading 10-Q for EADSY (2021)...\n",
      "Downloading 10-Q for UL (2009)...\n",
      "Downloading 10-Q for SNY (2011)...\n"
     ]
    },
    {
     "name": "stderr",
     "output_type": "stream",
     "text": [
      "Downloading SEC Filings:  13%|█▎        | 67/499 [23:24<2:45:16, 22.96s/it]"
     ]
    },
    {
     "name": "stdout",
     "output_type": "stream",
     "text": [
      "Downloading 10-Q for CAT (2008)...\n",
      "Downloading 10-Q for QCOM (2020)...\n",
      "Downloading 10-Q for UNP (2000)...\n",
      "Downloading 10-Q for GILD (2000)...\n",
      "Downloading 10-Q for UL (2010)...\n",
      "Downloading 10-Q for SNY (2012)...\n",
      "Downloading 10-Q for SNY (2013)...\n",
      "Downloading 10-Q for UL (2011)...\n",
      "Downloading 10-Q for SNY (2014)...\n",
      "Downloading 10-Q for UL (2012)...\n",
      "Downloading 10-Q for MS (2007)...\n",
      "Downloading 10-Q for GILD (2001)...\n",
      "Downloading 10-Q for UNP (2001)...\n",
      "Downloading 10-Q for SNY (2015)...\n",
      "Downloading 10-Q for UL (2013)...\n",
      "Downloading 10-Q for PFE (2010)...\n",
      "Downloading 10-Q for RY (2020)...\n",
      "Downloading 10-Q for TXN (2013)...\n",
      "Downloading 10-Q for SNY (2016)...\n",
      "Downloading 10-Q for UL (2014)...\n",
      "Downloading 10-Q for RTX (2021)...\n",
      "Downloading 10-Q for SNY (2017)...\n",
      "Downloading 10-Q for UL (2015)...\n",
      "Downloading 10-Q for GILD (2002)...\n",
      "Downloading 10-Q for INTU (2015)...\n",
      "Downloading 10-Q for SNY (2018)...\n",
      "Downloading 10-Q for UNP (2002)...\n",
      "Downloading 10-Q for UL (2016)...\n",
      "Downloading 10-Q for DHR (2015)...\n",
      "Downloading 10-Q for SNY (2019)...\n",
      "Downloading 10-Q for PGR (2011)...\n",
      "Downloading 10-Q for ADBE (2020)...\n",
      "Downloading 10-Q for UL (2017)...\n",
      "Downloading 10-Q for QCOM (2021)...\n",
      "Downloading 10-Q for SNY (2020)...\n",
      "Downloading 10-Q for GILD (2003)...\n",
      "Downloading 10-Q for UL (2018)...\n",
      "Downloading 10-Q for SNY (2021)...\n",
      "Downloading 10-Q for PFE (2011)...\n",
      "Downloading 10-Q for TXN (2014)...\n",
      "Downloading 10-Q for UL (2019)...\n",
      "Downloading 10-Q for UNP (2003)...\n"
     ]
    },
    {
     "name": "stderr",
     "output_type": "stream",
     "text": [
      "Downloading SEC Filings:  14%|█▎        | 68/499 [24:10<3:35:05, 29.94s/it]"
     ]
    },
    {
     "name": "stdout",
     "output_type": "stream",
     "text": [
      "Downloading 10-Q for CAT (2009)...\n",
      "Downloading 10-Q for UL (2020)...\n",
      "Downloading 10-Q for BKNG (2000)...\n",
      "Downloading 10-Q for GILD (2004)...\n",
      "Downloading 10-Q for UL (2021)...\n",
      "Downloading 10-Q for CRM (2019)...\n"
     ]
    },
    {
     "name": "stderr",
     "output_type": "stream",
     "text": [
      "Downloading SEC Filings:  14%|█▍        | 69/499 [24:24<2:59:11, 25.00s/it]"
     ]
    },
    {
     "name": "stdout",
     "output_type": "stream",
     "text": [
      "Downloading 10-Q for JPM (2009)...\n",
      "Downloading 10-Q for RY (2021)...\n"
     ]
    },
    {
     "name": "stderr",
     "output_type": "stream",
     "text": [
      "Downloading SEC Filings:  14%|█▍        | 70/499 [24:27<2:11:06, 18.34s/it]"
     ]
    },
    {
     "name": "stdout",
     "output_type": "stream",
     "text": [
      "Downloading 10-Q for UNP (2004)...\n",
      "Downloading 10-Q for BLK (2000)...\n",
      "Downloading 10-Q for INTU (2016)...\n"
     ]
    },
    {
     "name": "stderr",
     "output_type": "stream",
     "text": [
      "Downloading SEC Filings:  14%|█▍        | 71/499 [24:31<1:42:01, 14.30s/it]"
     ]
    },
    {
     "name": "stdout",
     "output_type": "stream",
     "text": [
      "Downloading 10-Q for SONY (2000)...\n",
      "Downloading 10-Q for BLK (2001)...\n",
      "Downloading 10-Q for BKNG (2001)...\n",
      "Downloading 10-Q for BSX (2000)...\n",
      "Downloading 10-Q for SONY (2001)...\n",
      "Downloading 10-Q for GILD (2005)...\n",
      "Downloading 10-Q for BLK (2002)...\n",
      "Downloading 10-Q for SONY (2002)...\n",
      "Downloading 10-Q for TXN (2015)...\n",
      "Downloading 10-Q for BLK (2003)...\n",
      "Downloading 10-Q for UNP (2005)...\n",
      "Downloading 10-Q for ADBE (2021)...\n",
      "Downloading 10-Q for DHR (2016)...\n",
      "Downloading 10-Q for SONY (2003)...\n",
      "Downloading 10-Q for BLK (2004)...\n",
      "Downloading 10-Q for BKNG (2002)...\n",
      "Downloading 10-Q for PGR (2012)...\n",
      "Downloading 10-Q for PFE (2012)...\n",
      "Downloading 10-Q for SONY (2004)...\n",
      "Downloading 10-Q for BLK (2005)...\n",
      "Downloading 10-Q for BSX (2001)...\n",
      "Downloading 10-Q for GILD (2006)...\n",
      "Downloading 10-Q for CAT (2010)...\n",
      "Downloading 10-Q for SONY (2005)...\n",
      "Downloading 10-Q for BLK (2006)...\n",
      "Downloading 10-Q for GS (2005)...\n",
      "Downloading 10-Q for SONY (2006)...\n",
      "Downloading 10-Q for UNP (2006)...\n",
      "Downloading 10-Q for BLK (2007)...\n",
      "Downloading 10-Q for NEE (2021)...\n",
      "Downloading 10-Q for BKNG (2003)...\n",
      "Downloading 10-Q for INTU (2017)...\n",
      "Downloading 10-Q for SONY (2007)...\n",
      "Downloading 10-Q for BLK (2008)...\n",
      "Downloading 10-Q for CRM (2020)...\n"
     ]
    },
    {
     "name": "stderr",
     "output_type": "stream",
     "text": [
      "Downloading SEC Filings:  14%|█▍        | 72/499 [25:30<3:16:46, 27.65s/it]"
     ]
    },
    {
     "name": "stdout",
     "output_type": "stream",
     "text": [
      "Downloading 10-Q for TXN (2016)...\n",
      "Downloading 10-Q for SONY (2008)...\n",
      "Downloading 10-Q for BSX (2002)...\n",
      "Downloading 10-Q for BLK (2009)...\n",
      "Downloading 10-Q for SYK (2000)...\n",
      "Downloading 10-Q for GILD (2007)...\n",
      "Downloading 10-Q for SONY (2009)...\n",
      "Downloading 10-Q for BLK (2010)...\n",
      "Downloading 10-Q for UNP (2007)...\n",
      "Downloading 10-Q for BKNG (2004)...\n",
      "Downloading 10-Q for DHR (2017)...\n",
      "Downloading 10-Q for SONY (2010)...\n",
      "Downloading 10-Q for BLK (2011)...\n",
      "Downloading 10-Q for SONY (2011)...\n",
      "Downloading 10-Q for SYK (2001)...\n",
      "Downloading 10-Q for BLK (2012)...\n",
      "Downloading 10-Q for BSX (2003)...\n",
      "Downloading 10-Q for SONY (2012)...\n",
      "Downloading 10-Q for GILD (2008)...\n",
      "Downloading 10-Q for BLK (2013)...\n",
      "Downloading 10-Q for SONY (2013)...\n",
      "Downloading 10-Q for BKNG (2005)...\n",
      "Downloading 10-Q for UNP (2008)...\n",
      "Downloading 10-Q for TXN (2017)...\n",
      "Downloading 10-Q for BLK (2014)...\n",
      "Downloading 10-Q for PGR (2013)...\n",
      "Downloading 10-Q for MS (2008)...\n",
      "Downloading 10-Q for SYK (2002)...\n",
      "Downloading 10-Q for SONY (2014)...\n",
      "Downloading 10-Q for BLK (2015)...\n",
      "Downloading 10-Q for DHR (2018)...\n",
      "Downloading 10-Q for BSX (2004)...\n",
      "Downloading 10-Q for SONY (2015)...\n",
      "Downloading 10-Q for GILD (2009)...\n",
      "Downloading 10-Q for INTU (2018)...\n",
      "Downloading 10-Q for BKNG (2006)...\n",
      "Downloading 10-Q for BLK (2016)...\n",
      "Downloading 10-Q for SONY (2016)...\n"
     ]
    },
    {
     "name": "stderr",
     "output_type": "stream",
     "text": [
      "Downloading SEC Filings:  15%|█▍        | 73/499 [26:05<3:31:13, 29.75s/it]"
     ]
    },
    {
     "name": "stdout",
     "output_type": "stream",
     "text": [
      "Downloading 10-Q for PFE (2013)...\n",
      "Downloading 10-Q for UNP (2009)...\n",
      "Downloading 10-Q for BLK (2017)...\n",
      "Downloading 10-Q for SONY (2017)...\n",
      "Downloading 10-Q for TTE (2000)...\n",
      "Downloading 10-Q for SYK (2003)...\n",
      "Downloading 10-Q for TTE (2001)...\n",
      "Downloading 10-Q for SONY (2018)...Downloading 10-Q for BLK (2018)...\n",
      "\n",
      "Downloading 10-Q for TTE (2002)...\n",
      "Downloading 10-Q for TXN (2018)...\n",
      "Downloading 10-Q for TTE (2003)...\n",
      "Downloading 10-Q for BSX (2005)...\n",
      "Downloading 10-Q for BLK (2019)...\n",
      "Downloading 10-Q for SONY (2019)...\n",
      "Downloading 10-Q for TTE (2004)...\n",
      "Downloading 10-Q for BKNG (2007)...\n",
      "Downloading 10-Q for TTE (2005)...\n",
      "Downloading 10-Q for GILD (2010)...\n",
      "Downloading 10-Q for BLK (2020)...Downloading 10-Q for SONY (2020)...\n",
      "\n",
      "Downloading 10-Q for TTE (2006)...\n",
      "Downloading 10-Q for UNP (2010)...\n",
      "Downloading 10-Q for TTE (2007)...\n",
      "Downloading 10-Q for SONY (2021)...\n",
      "Downloading 10-Q for SYK (2004)...\n",
      "Downloading 10-Q for BLK (2021)...\n"
     ]
    },
    {
     "name": "stderr",
     "output_type": "stream",
     "text": [
      "Downloading SEC Filings:  15%|█▍        | 74/499 [26:29<3:18:30, 28.03s/it]"
     ]
    },
    {
     "name": "stdout",
     "output_type": "stream",
     "text": [
      "Downloading 10-Q for TTE (2008)...\n",
      "Downloading 10-Q for TTE (2009)...\n"
     ]
    },
    {
     "name": "stderr",
     "output_type": "stream",
     "text": [
      "Downloading SEC Filings:  15%|█▌        | 76/499 [26:31<1:40:05, 14.20s/it]"
     ]
    },
    {
     "name": "stdout",
     "output_type": "stream",
     "text": [
      "Downloading 10-Q for HON (2000)...\n",
      "Downloading 10-Q for BSX (2006)...\n",
      "Downloading 10-Q for TTE (2010)...\n",
      "Downloading 10-Q for CRM (2021)...\n",
      "Downloading 10-Q for CMCSA (2000)...\n",
      "Downloading 10-Q for BKNG (2008)...\n",
      "Downloading 10-Q for SCHW (2000)...\n",
      "Downloading 10-Q for TTE (2011)...\n",
      "Downloading 10-Q for PGR (2014)...\n",
      "Downloading 10-Q for TTE (2012)...\n",
      "Downloading 10-Q for TTE (2013)...\n",
      "Downloading 10-Q for DHR (2019)...\n",
      "Downloading 10-Q for CMCSA (2001)...\n",
      "Downloading 10-Q for INTU (2019)...\n",
      "Downloading 10-Q for TXN (2019)...\n",
      "Downloading 10-Q for TTE (2014)...\n",
      "Downloading 10-Q for TTE (2015)...\n",
      "Downloading 10-Q for GILD (2011)...\n",
      "Downloading 10-Q for SYK (2005)...\n",
      "Downloading 10-Q for UNP (2011)...\n",
      "Downloading 10-Q for TTE (2016)...\n",
      "Downloading 10-Q for CMCSA (2002)...\n",
      "Downloading 10-Q for BKNG (2009)...\n",
      "Downloading 10-Q for HON (2001)...\n",
      "Downloading 10-Q for BSX (2007)...\n",
      "Downloading 10-Q for SCHW (2001)...\n",
      "Downloading 10-Q for TTE (2017)...\n",
      "Downloading 10-Q for TTE (2018)...\n",
      "Downloading 10-Q for CMCSA (2003)...\n",
      "Downloading 10-Q for TTE (2019)...\n",
      "Downloading 10-Q for PFE (2014)...\n",
      "Downloading 10-Q for GS (2006)...\n",
      "Downloading 10-Q for TTE (2020)...\n",
      "Downloading 10-Q for TTE (2021)...\n",
      "Downloading 10-Q for SYK (2006)...\n"
     ]
    },
    {
     "name": "stderr",
     "output_type": "stream",
     "text": [
      "Downloading SEC Filings:  15%|█▌        | 77/499 [26:51<1:52:04, 15.93s/it]"
     ]
    },
    {
     "name": "stdout",
     "output_type": "stream",
     "text": [
      "Downloading 10-Q for CAT (2011)...\n",
      "Downloading 10-Q for BKNG (2010)...\n",
      "Downloading 10-Q for DHR (2020)...\n",
      "Downloading 10-Q for HON (2002)...\n",
      "Downloading 10-Q for BSX (2008)...\n",
      "Downloading 10-Q for PGR (2015)...\n",
      "Downloading 10-Q for LOW (2000)...\n",
      "Downloading 10-Q for SCHW (2002)...\n",
      "Downloading 10-Q for TXN (2020)...\n",
      "Downloading 10-Q for GILD (2012)...\n",
      "Downloading 10-Q for UNP (2012)...\n",
      "Downloading 10-Q for CMCSA (2004)...\n",
      "Downloading 10-Q for INTU (2020)...\n"
     ]
    },
    {
     "name": "stderr",
     "output_type": "stream",
     "text": [
      "Downloading SEC Filings:  16%|█▌        | 78/499 [27:00<1:37:36, 13.91s/it]"
     ]
    },
    {
     "name": "stdout",
     "output_type": "stream",
     "text": [
      "Downloading 10-Q for LOW (2001)...\n",
      "Downloading 10-Q for TJX (2000)...\n",
      "Downloading 10-Q for SYK (2007)...\n",
      "Downloading 10-Q for BKNG (2011)...\n",
      "Downloading 10-Q for BSX (2009)...\n",
      "Downloading 10-Q for HON (2003)...\n",
      "Downloading 10-Q for SCHW (2003)...\n",
      "Downloading 10-Q for CMCSA (2005)...\n",
      "Downloading 10-Q for LOW (2002)...\n",
      "Downloading 10-Q for TJX (2001)...\n",
      "Downloading 10-Q for UNP (2013)...\n",
      "Downloading 10-Q for SYK (2008)...\n",
      "Downloading 10-Q for CAT (2012)...\n",
      "Downloading 10-Q for HON (2004)...\n",
      "Downloading 10-Q for SCHW (2004)...\n",
      "Downloading 10-Q for TXN (2021)...\n",
      "Downloading 10-Q for LOW (2003)...\n",
      "Downloading 10-Q for DHR (2021)...\n",
      "Downloading 10-Q for TJX (2002)...\n",
      "Downloading 10-Q for PFE (2015)...\n",
      "Downloading 10-Q for BSX (2010)...\n",
      "Downloading 10-Q for PGR (2016)...\n",
      "Downloading 10-Q for CMCSA (2006)...\n",
      "Downloading 10-Q for INTU (2021)...\n",
      "Downloading 10-Q for GILD (2013)...\n",
      "Downloading 10-Q for JPM (2010)...\n",
      "Downloading 10-Q for MS (2009)...\n",
      "Downloading 10-Q for BKNG (2012)...\n",
      "Downloading 10-Q for SYK (2009)...\n",
      "Downloading 10-Q for LOW (2004)...\n",
      "Downloading 10-Q for HON (2005)...\n",
      "Downloading 10-Q for SCHW (2005)...\n",
      "Downloading 10-Q for TJX (2003)...\n",
      "Downloading 10-Q for CMCSA (2007)...\n",
      "Downloading 10-Q for LOW (2005)...\n",
      "Downloading 10-Q for UNP (2014)...\n",
      "Downloading 10-Q for BSX (2011)...\n",
      "Downloading 10-Q for TJX (2004)...\n",
      "Downloading 10-Q for SCHW (2006)...\n",
      "Downloading 10-Q for HON (2006)...\n",
      "Downloading 10-Q for SYK (2010)...\n",
      "Downloading 10-Q for CMCSA (2008)...\n",
      "Downloading 10-Q for GILD (2014)...\n"
     ]
    },
    {
     "name": "stderr",
     "output_type": "stream",
     "text": [
      "Downloading SEC Filings:  16%|█▌        | 79/499 [28:21<3:57:34, 33.94s/it]"
     ]
    },
    {
     "name": "stdout",
     "output_type": "stream",
     "text": [
      "Downloading 10-Q for BKNG (2013)...\n",
      "Downloading 10-Q for LOW (2006)...\n",
      "Downloading 10-Q for DE (2000)...\n",
      "Downloading 10-Q for TJX (2005)...\n",
      "Downloading 10-Q for SCHW (2007)...\n"
     ]
    },
    {
     "name": "stderr",
     "output_type": "stream",
     "text": [
      "Downloading SEC Filings:  16%|█▌        | 80/499 [28:34<3:13:13, 27.67s/it]"
     ]
    },
    {
     "name": "stdout",
     "output_type": "stream",
     "text": [
      "Downloading 10-Q for LOW (2007)...\n",
      "Downloading 10-Q for GS (2007)...\n",
      "Downloading 10-Q for DE (2001)...\n",
      "Downloading 10-Q for CMCSA (2009)...\n",
      "Downloading 10-Q for C (2000)...\n",
      "Downloading 10-Q for HON (2007)...\n",
      "Downloading 10-Q for TJX (2006)...\n",
      "Downloading 10-Q for SYK (2011)...\n",
      "Downloading 10-Q for LOW (2008)...\n",
      "Downloading 10-Q for BSX (2012)...\n",
      "Downloading 10-Q for GILD (2015)...\n",
      "Downloading 10-Q for DE (2002)...\n",
      "Downloading 10-Q for BKNG (2014)...\n",
      "Downloading 10-Q for TJX (2007)...\n",
      "Downloading 10-Q for SCHW (2008)...\n",
      "Downloading 10-Q for UNP (2015)...\n",
      "Downloading 10-Q for HON (2008)...\n",
      "Downloading 10-Q for PGR (2017)...\n",
      "Downloading 10-Q for CMCSA (2010)...\n",
      "Downloading 10-Q for LOW (2009)...\n",
      "Downloading 10-Q for TJX (2008)...\n"
     ]
    },
    {
     "name": "stderr",
     "output_type": "stream",
     "text": [
      "Downloading SEC Filings:  16%|█▌        | 81/499 [29:31<4:13:19, 36.36s/it]"
     ]
    },
    {
     "name": "stdout",
     "output_type": "stream",
     "text": [
      "Downloading 10-Q for SCHW (2009)...\n",
      "Downloading 10-Q for DE (2003)...\n",
      "Downloading 10-Q for BHP (2000)...\n",
      "Downloading 10-Q for TJX (2009)...\n",
      "Downloading 10-Q for LOW (2010)...\n",
      "Downloading 10-Q for HON (2009)...\n",
      "Downloading 10-Q for PFE (2016)...\n",
      "Downloading 10-Q for BHP (2001)...\n",
      "Downloading 10-Q for SYK (2012)...\n",
      "Downloading 10-Q for BHP (2002)...\n",
      "Downloading 10-Q for SCHW (2010)...\n",
      "Downloading 10-Q for TJX (2010)...\n",
      "Downloading 10-Q for BHP (2003)...\n",
      "Downloading 10-Q for GILD (2016)...\n",
      "Downloading 10-Q for LOW (2011)...\n",
      "Downloading 10-Q for CMCSA (2011)...\n",
      "Downloading 10-Q for UNP (2016)...\n",
      "Downloading 10-Q for PGR (2018)...\n",
      "Downloading 10-Q for BKNG (2015)...\n",
      "Downloading 10-Q for BSX (2013)...\n",
      "Downloading 10-Q for HON (2010)...\n",
      "Downloading 10-Q for DE (2004)...\n",
      "Downloading 10-Q for MS (2010)...\n",
      "Downloading 10-Q for BHP (2004)...\n",
      "Downloading 10-Q for BHP (2005)...\n",
      "Downloading 10-Q for SCHW (2011)...\n",
      "Downloading 10-Q for SYK (2013)...\n",
      "Downloading 10-Q for LOW (2012)...\n",
      "Downloading 10-Q for TJX (2011)...\n",
      "Downloading 10-Q for BHP (2006)...\n",
      "Downloading 10-Q for DE (2005)...\n",
      "Downloading 10-Q for CAT (2013)...\n",
      "Downloading 10-Q for HON (2011)...\n",
      "Downloading 10-Q for BHP (2007)...\n",
      "Downloading 10-Q for BKNG (2016)...\n",
      "Downloading 10-Q for UNP (2017)...\n",
      "Downloading 10-Q for CMCSA (2012)...\n",
      "Downloading 10-Q for C (2001)...\n",
      "Downloading 10-Q for BHP (2008)...\n",
      "Downloading 10-Q for PFE (2017)...\n",
      "Downloading 10-Q for GS (2008)...\n",
      "Downloading 10-Q for TJX (2012)...\n",
      "Downloading 10-Q for GILD (2017)...\n",
      "Downloading 10-Q for DE (2006)...\n",
      "Downloading 10-Q for LOW (2013)...\n",
      "Downloading 10-Q for BHP (2009)...\n",
      "Downloading 10-Q for SCHW (2012)...\n",
      "Downloading 10-Q for BHP (2010)...\n",
      "Downloading 10-Q for BKNG (2017)...\n",
      "Downloading 10-Q for DE (2007)...\n",
      "Downloading 10-Q for BHP (2011)...\n",
      "Downloading 10-Q for HON (2012)...\n",
      "Downloading 10-Q for SYK (2014)...\n",
      "Downloading 10-Q for UNP (2018)...\n",
      "Downloading 10-Q for LOW (2014)...\n",
      "Downloading 10-Q for TJX (2013)...\n",
      "Downloading 10-Q for BHP (2012)...\n",
      "Downloading 10-Q for PGR (2019)...\n",
      "Downloading 10-Q for BSX (2014)...\n",
      "Downloading 10-Q for BHP (2013)...\n",
      "Downloading 10-Q for DE (2008)...\n",
      "Downloading 10-Q for GILD (2018)...\n",
      "Downloading 10-Q for BHP (2014)...\n",
      "Downloading 10-Q for BKNG (2018)...\n",
      "Downloading 10-Q for SCHW (2013)...\n",
      "Downloading 10-Q for BHP (2015)...\n",
      "Downloading 10-Q for LOW (2015)...\n",
      "Downloading 10-Q for DE (2009)...\n",
      "Downloading 10-Q for TJX (2014)...\n",
      "Downloading 10-Q for CMCSA (2013)...\n",
      "Downloading 10-Q for UNP (2019)...\n",
      "Downloading 10-Q for SYK (2015)...\n",
      "Downloading 10-Q for BHP (2016)...\n",
      "Downloading 10-Q for HON (2013)...\n",
      "Downloading 10-Q for BHP (2017)...\n",
      "Downloading 10-Q for DE (2010)...\n",
      "Downloading 10-Q for BHP (2018)...\n",
      "Downloading 10-Q for PGR (2020)...\n",
      "Downloading 10-Q for LOW (2016)...\n",
      "Downloading 10-Q for GILD (2019)...\n",
      "Downloading 10-Q for PFE (2018)...\n",
      "Downloading 10-Q for SCHW (2014)...\n",
      "Downloading 10-Q for BHP (2019)...\n",
      "Downloading 10-Q for SYK (2016)...\n",
      "Downloading 10-Q for BSX (2015)...\n",
      "Downloading 10-Q for TJX (2015)...\n",
      "Downloading 10-Q for UNP (2020)...\n",
      "Downloading 10-Q for BHP (2020)...\n",
      "Downloading 10-Q for BKNG (2019)...\n",
      "Downloading 10-Q for C (2002)...\n",
      "Downloading 10-Q for BHP (2021)...\n",
      "Downloading 10-Q for DE (2011)...\n"
     ]
    },
    {
     "name": "stderr",
     "output_type": "stream",
     "text": [
      "Downloading SEC Filings:  16%|█▋        | 82/499 [32:11<8:31:54, 73.66s/it]"
     ]
    },
    {
     "name": "stdout",
     "output_type": "stream",
     "text": [
      "Downloading 10-Q for GS (2009)...\n",
      "Downloading 10-Q for JPM (2011)...\n",
      "Downloading 10-Q for VRTX (2000)...\n",
      "Downloading 10-Q for CMCSA (2014)...\n",
      "Downloading 10-Q for SYK (2017)...\n",
      "Downloading 10-Q for HON (2014)...\n",
      "Downloading 10-Q for LOW (2017)...\n",
      "Downloading 10-Q for BAC (2015)...\n",
      "Downloading 10-Q for TJX (2016)...\n",
      "Downloading 10-Q for BSX (2016)...\n",
      "Downloading 10-Q for PGR (2021)...\n",
      "Downloading 10-Q for VRTX (2001)...\n",
      "Downloading 10-Q for UNP (2021)...\n",
      "Downloading 10-Q for BKNG (2020)...\n",
      "Downloading 10-Q for SCHW (2015)...\n",
      "Downloading 10-Q for CAT (2014)...\n",
      "Downloading 10-Q for DE (2012)...\n",
      "Downloading 10-Q for LOW (2018)...\n",
      "Downloading 10-Q for SYK (2018)...\n",
      "Downloading 10-Q for VRTX (2002)...\n",
      "Downloading 10-Q for MS (2011)...\n",
      "Downloading 10-Q for GILD (2020)...\n",
      "Downloading 10-Q for TJX (2017)...\n",
      "Downloading 10-Q for VRTX (2003)...\n"
     ]
    },
    {
     "name": "stderr",
     "output_type": "stream",
     "text": [
      "Downloading SEC Filings:  17%|█▋        | 83/499 [33:27<8:35:54, 74.41s/it]"
     ]
    },
    {
     "name": "stdout",
     "output_type": "stream",
     "text": [
      "Downloading 10-Q for LOW (2019)...\n",
      "Downloading 10-Q for CMCSA (2015)...\n",
      "Downloading 10-Q for HON (2015)...\n",
      "Downloading 10-Q for BMY (2000)...\n",
      "Downloading 10-Q for BSX (2017)...\n",
      "Downloading 10-Q for VRTX (2004)...\n",
      "Downloading 10-Q for PFE (2019)...\n"
     ]
    },
    {
     "name": "stderr",
     "output_type": "stream",
     "text": [
      "Downloading SEC Filings:  17%|█▋        | 84/499 [33:36<6:18:39, 54.74s/it]"
     ]
    },
    {
     "name": "stdout",
     "output_type": "stream",
     "text": [
      "Downloading 10-Q for SYK (2019)...\n",
      "Downloading 10-Q for BUD (2000)...\n",
      "Downloading 10-Q for BMY (2001)...\n",
      "Downloading 10-Q for BUD (2001)...\n",
      "Downloading 10-Q for TJX (2018)...\n",
      "Downloading 10-Q for VRTX (2005)...\n",
      "Downloading 10-Q for LOW (2020)...\n",
      "Downloading 10-Q for BUD (2002)...\n",
      "Downloading 10-Q for BUD (2003)...\n",
      "Downloading 10-Q for BUD (2004)...\n",
      "Downloading 10-Q for BUD (2005)...\n",
      "Downloading 10-Q for BUD (2006)...\n",
      "Downloading 10-Q for BKNG (2021)...\n",
      "Downloading 10-Q for BUD (2007)...\n",
      "Downloading 10-Q for HON (2016)...\n",
      "Downloading 10-Q for BSX (2018)...\n",
      "Downloading 10-Q for C (2003)...\n",
      "Downloading 10-Q for BUD (2008)...\n",
      "Downloading 10-Q for BMY (2002)...\n",
      "Downloading 10-Q for BUD (2009)...\n",
      "Downloading 10-Q for BUD (2010)...\n",
      "Downloading 10-Q for VRTX (2006)...\n",
      "Downloading 10-Q for BUD (2011)...\n",
      "Downloading 10-Q for SYK (2020)...\n",
      "Downloading 10-Q for BUD (2012)...\n",
      "Downloading 10-Q for BUD (2013)...\n",
      "Downloading 10-Q for GILD (2021)...\n",
      "Downloading 10-Q for SCHW (2016)...\n",
      "Downloading 10-Q for BUD (2014)...\n",
      "Downloading 10-Q for BMY (2003)...\n",
      "Downloading 10-Q for LOW (2021)...\n",
      "Downloading 10-Q for BUD (2015)...\n",
      "Downloading 10-Q for BUD (2016)...\n",
      "Downloading 10-Q for TJX (2019)...\n",
      "Downloading 10-Q for BUD (2017)...\n",
      "Downloading 10-Q for DE (2013)...\n",
      "Downloading 10-Q for BUD (2018)...\n",
      "Downloading 10-Q for BUD (2019)...\n",
      "Downloading 10-Q for VRTX (2007)...\n",
      "Downloading 10-Q for GS (2010)...\n",
      "Downloading 10-Q for BUD (2020)...\n",
      "Downloading 10-Q for CMCSA (2016)...\n",
      "Downloading 10-Q for BUD (2021)...\n"
     ]
    },
    {
     "name": "stderr",
     "output_type": "stream",
     "text": [
      "Downloading SEC Filings:  17%|█▋        | 85/499 [34:11<5:36:57, 48.84s/it]"
     ]
    },
    {
     "name": "stdout",
     "output_type": "stream",
     "text": [
      "Downloading 10-Q for HON (2017)...\n",
      "Downloading 10-Q for SHOP (2000)...\n",
      "Downloading 10-Q for SHOP (2001)...\n",
      "Downloading 10-Q for SHOP (2002)...\n",
      "Downloading 10-Q for BMY (2004)...\n"
     ]
    },
    {
     "name": "stderr",
     "output_type": "stream",
     "text": [
      "Downloading SEC Filings:  17%|█▋        | 86/499 [34:20<4:13:53, 36.88s/it]"
     ]
    },
    {
     "name": "stdout",
     "output_type": "stream",
     "text": [
      "Downloading 10-Q for BSX (2019)...\n",
      "Downloading 10-Q for SHOP (2003)...\n",
      "Downloading 10-Q for VRTX (2008)...\n",
      "Downloading 10-Q for SHOP (2004)...\n"
     ]
    },
    {
     "name": "stderr",
     "output_type": "stream",
     "text": [
      "Downloading SEC Filings:  17%|█▋        | 87/499 [34:24<3:04:41, 26.90s/it]"
     ]
    },
    {
     "name": "stdout",
     "output_type": "stream",
     "text": [
      "Downloading 10-Q for AMAT (2000)...\n",
      "Downloading 10-Q for PFE (2020)...\n",
      "Downloading 10-Q for SHOP (2005)...\n",
      "Downloading 10-Q for SHOP (2006)...\n",
      "Downloading 10-Q for RTNTF (2000)...\n",
      "Downloading 10-Q for SHOP (2007)...\n",
      "Downloading 10-Q for SCHW (2017)...\n",
      "Downloading 10-Q for RTNTF (2001)...\n",
      "Downloading 10-Q for SHOP (2008)...\n"
     ]
    },
    {
     "name": "stderr",
     "output_type": "stream",
     "text": [
      "Downloading SEC Filings:  18%|█▊        | 88/499 [34:31<2:23:53, 21.01s/it]"
     ]
    },
    {
     "name": "stdout",
     "output_type": "stream",
     "text": [
      "Downloading 10-Q for RTNTF (2002)...\n",
      "Downloading 10-Q for SHOP (2009)...\n",
      "Downloading 10-Q for RTNTF (2003)...\n",
      "Downloading 10-Q for SHOP (2010)...\n",
      "Downloading 10-Q for COP (2000)...\n",
      "Downloading 10-Q for BMY (2005)...\n",
      "Downloading 10-Q for RTNTF (2004)...\n",
      "Downloading 10-Q for SHOP (2011)...\n",
      "Downloading 10-Q for RTNTF (2005)...\n",
      "Downloading 10-Q for AMAT (2001)...\n",
      "Downloading 10-Q for SYK (2021)...\n",
      "Downloading 10-Q for SHOP (2012)...\n",
      "Downloading 10-Q for RTNTF (2006)...\n",
      "Downloading 10-Q for DE (2014)...\n",
      "Downloading 10-Q for VRTX (2009)...\n",
      "Downloading 10-Q for SHOP (2013)...\n",
      "Downloading 10-Q for HON (2018)...\n",
      "Downloading 10-Q for COP (2001)...\n",
      "Downloading 10-Q for RTNTF (2007)...\n",
      "Downloading 10-Q for SHOP (2014)...\n",
      "Downloading 10-Q for RTNTF (2008)...\n",
      "Downloading 10-Q for SHOP (2015)...\n",
      "Downloading 10-Q for SHOP (2016)...\n",
      "Downloading 10-Q for RTNTF (2009)...\n",
      "Downloading 10-Q for COP (2002)...\n",
      "Downloading 10-Q for SHOP (2017)...\n",
      "Downloading 10-Q for AMAT (2002)...\n",
      "Downloading 10-Q for RTNTF (2010)...\n",
      "Downloading 10-Q for SHOP (2018)...\n",
      "Downloading 10-Q for RTNTF (2011)...\n",
      "Downloading 10-Q for BMY (2006)...\n",
      "Downloading 10-Q for SHOP (2019)...\n",
      "Downloading 10-Q for RTNTF (2012)...\n",
      "Downloading 10-Q for SHOP (2020)...\n",
      "Downloading 10-Q for RTNTF (2013)...\n",
      "Downloading 10-Q for SHOP (2021)...\n",
      "Downloading 10-Q for COP (2003)...\n",
      "Downloading 10-Q for RTNTF (2014)...\n"
     ]
    },
    {
     "name": "stderr",
     "output_type": "stream",
     "text": [
      "Downloading SEC Filings:  18%|█▊        | 89/499 [34:55<2:30:08, 21.97s/it]"
     ]
    },
    {
     "name": "stdout",
     "output_type": "stream",
     "text": [
      "Downloading 10-Q for AMAT (2003)...\n",
      "Downloading 10-Q for RTNTF (2015)...\n",
      "Downloading 10-Q for ARM (2000)...\n",
      "Downloading 10-Q for VRTX (2010)...\n",
      "Downloading 10-Q for BSX (2020)...\n",
      "Downloading 10-Q for RTNTF (2016)...\n",
      "Downloading 10-Q for TJX (2020)...\n",
      "Downloading 10-Q for ARM (2001)...\n",
      "Downloading 10-Q for RTNTF (2017)...\n",
      "Downloading 10-Q for ARM (2002)...\n",
      "Downloading 10-Q for BMY (2007)...\n",
      "Downloading 10-Q for ARM (2003)...\n",
      "Downloading 10-Q for RTNTF (2018)...\n",
      "Downloading 10-Q for ARM (2004)...\n",
      "Downloading 10-Q for RTNTF (2019)...\n",
      "Downloading 10-Q for ARM (2005)...\n",
      "Downloading 10-Q for AMAT (2004)...\n"
     ]
    },
    {
     "name": "stderr",
     "output_type": "stream",
     "text": [
      "Downloading SEC Filings:  18%|█▊        | 90/499 [35:08<2:09:55, 19.06s/it]"
     ]
    },
    {
     "name": "stdout",
     "output_type": "stream",
     "text": [
      "Downloading 10-Q for RTNTF (2020)...\n",
      "Downloading 10-Q for ARM (2006)...\n",
      "Downloading 10-Q for COP (2004)...\n",
      "Downloading 10-Q for HON (2019)...\n",
      "Downloading 10-Q for RTNTF (2021)...\n",
      "Downloading 10-Q for SCHW (2018)...\n",
      "Downloading 10-Q for ARM (2007)...\n",
      "Downloading 10-Q for ADP (2000)...\n"
     ]
    },
    {
     "name": "stderr",
     "output_type": "stream",
     "text": [
      "Downloading SEC Filings:  18%|█▊        | 91/499 [35:14<1:44:26, 15.36s/it]"
     ]
    },
    {
     "name": "stdout",
     "output_type": "stream",
     "text": [
      "Downloading 10-Q for ARM (2008)...\n",
      "Downloading 10-Q for ARM (2009)...\n",
      "Downloading 10-Q for FI (2000)...\n",
      "Downloading 10-Q for ARM (2010)...\n",
      "Downloading 10-Q for ARM (2011)...\n",
      "Downloading 10-Q for C (2004)...\n",
      "Downloading 10-Q for CMCSA (2017)...\n",
      "Downloading 10-Q for AMAT (2005)...\n",
      "Downloading 10-Q for BMY (2008)...\n",
      "Downloading 10-Q for ARM (2012)...\n",
      "Downloading 10-Q for ARM (2013)...\n",
      "Downloading 10-Q for ADP (2001)...\n",
      "Downloading 10-Q for ARM (2014)...\n",
      "Downloading 10-Q for COP (2005)...\n",
      "Downloading 10-Q for ARM (2015)...\n",
      "Downloading 10-Q for FI (2001)...\n",
      "Downloading 10-Q for VRTX (2011)...\n",
      "Downloading 10-Q for ARM (2016)...\n",
      "Downloading 10-Q for ARM (2017)...\n",
      "Downloading 10-Q for PFE (2021)...\n",
      "Downloading 10-Q for ARM (2018)...\n",
      "Downloading 10-Q for AMAT (2006)...\n",
      "Downloading 10-Q for ARM (2019)...\n",
      "Downloading 10-Q for ARM (2020)...\n",
      "Downloading 10-Q for ADP (2002)...\n",
      "Downloading 10-Q for FI (2002)...\n",
      "Downloading 10-Q for ARM (2021)...\n",
      "Downloading 10-Q for MS (2012)...\n"
     ]
    },
    {
     "name": "stderr",
     "output_type": "stream",
     "text": [
      "Downloading SEC Filings:  18%|█▊        | 92/499 [35:36<1:57:37, 17.34s/it]"
     ]
    },
    {
     "name": "stdout",
     "output_type": "stream",
     "text": [
      "Downloading 10-Q for BMY (2009)...\n",
      "Downloading 10-Q for COP (2006)...\n",
      "Downloading 10-Q for MDT (2000)...\n",
      "Downloading 10-Q for BSX (2021)...\n",
      "Downloading 10-Q for AMAT (2007)...\n",
      "Downloading 10-Q for MDT (2001)...\n",
      "Downloading 10-Q for FI (2003)...\n",
      "Downloading 10-Q for ADP (2003)...\n",
      "Downloading 10-Q for MDT (2002)...\n",
      "Downloading 10-Q for TJX (2021)...\n",
      "Downloading 10-Q for HON (2020)...\n",
      "Downloading 10-Q for MDT (2003)...\n",
      "Downloading 10-Q for DE (2015)...\n",
      "Downloading 10-Q for COP (2007)...\n",
      "Downloading 10-Q for BMY (2010)...\n",
      "Downloading 10-Q for FI (2004)...\n",
      "Downloading 10-Q for MDT (2004)...\n",
      "Downloading 10-Q for SCHW (2019)...\n",
      "Downloading 10-Q for VRTX (2012)...\n",
      "Downloading 10-Q for AMAT (2008)...\n",
      "Downloading 10-Q for CMCSA (2018)...\n",
      "Downloading 10-Q for ADP (2004)...\n",
      "Downloading 10-Q for MDT (2005)...\n",
      "Downloading 10-Q for MDT (2006)...\n",
      "Downloading 10-Q for CAT (2015)...\n",
      "Downloading 10-Q for BAC (2016)...\n",
      "Downloading 10-Q for FI (2005)...\n",
      "Downloading 10-Q for MDT (2007)...\n",
      "Downloading 10-Q for COP (2008)...\n",
      "Downloading 10-Q for AMAT (2009)...\n",
      "Downloading 10-Q for MDT (2008)...\n",
      "Downloading 10-Q for ADP (2005)...\n",
      "Downloading 10-Q for MDT (2009)...\n",
      "Downloading 10-Q for FI (2006)...\n",
      "Downloading 10-Q for MDT (2010)...\n",
      "Downloading 10-Q for JPM (2012)...\n",
      "Downloading 10-Q for MDT (2011)...\n",
      "Downloading 10-Q for COP (2009)...\n",
      "Downloading 10-Q for AMAT (2010)...\n"
     ]
    },
    {
     "name": "stderr",
     "output_type": "stream",
     "text": [
      "Downloading SEC Filings:  19%|█▊        | 93/499 [37:15<4:42:50, 41.80s/it]"
     ]
    },
    {
     "name": "stdout",
     "output_type": "stream",
     "text": [
      "Downloading 10-Q for ADP (2006)...\n",
      "Downloading 10-Q for GS (2011)...\n",
      "Downloading 10-Q for MDT (2012)...\n",
      "Downloading 10-Q for CB (2000)...\n",
      "Downloading 10-Q for PANW (2000)...\n",
      "Downloading 10-Q for VRTX (2013)...\n",
      "Downloading 10-Q for FI (2007)...\n",
      "Downloading 10-Q for MDT (2013)...\n",
      "Downloading 10-Q for SCHW (2020)...\n",
      "Downloading 10-Q for PANW (2001)...\n",
      "Downloading 10-Q for BMY (2011)...\n"
     ]
    },
    {
     "name": "stderr",
     "output_type": "stream",
     "text": [
      "Downloading SEC Filings:  19%|█▉        | 95/499 [37:37<3:05:48, 27.60s/it]"
     ]
    },
    {
     "name": "stdout",
     "output_type": "stream",
     "text": [
      "Downloading 10-Q for MDT (2014)...\n",
      "Downloading 10-Q for PANW (2002)...\n",
      "Downloading 10-Q for BA (2000)...\n",
      "Downloading 10-Q for MDT (2015)...\n",
      "Downloading 10-Q for PANW (2003)...\n",
      "Downloading 10-Q for ADP (2007)...\n",
      "Downloading 10-Q for FI (2008)...\n",
      "Downloading 10-Q for PANW (2004)...\n",
      "Downloading 10-Q for CB (2001)...\n",
      "Downloading 10-Q for HON (2021)...\n",
      "Downloading 10-Q for CMCSA (2019)...\n",
      "Downloading 10-Q for PANW (2005)...\n",
      "Downloading 10-Q for AMAT (2011)...\n",
      "Downloading 10-Q for C (2005)...\n",
      "Downloading 10-Q for PANW (2006)...\n",
      "Downloading 10-Q for COP (2010)...\n",
      "Downloading 10-Q for BA (2001)...\n",
      "Downloading 10-Q for FI (2009)...\n",
      "Downloading 10-Q for PANW (2007)...\n",
      "Downloading 10-Q for DE (2016)...\n",
      "Downloading 10-Q for ADP (2008)...\n",
      "Downloading 10-Q for PANW (2008)...\n",
      "Downloading 10-Q for CB (2002)...\n",
      "Downloading 10-Q for PANW (2009)...\n",
      "Downloading 10-Q for MDT (2016)...\n",
      "Downloading 10-Q for BA (2002)...\n",
      "Downloading 10-Q for PANW (2010)...\n",
      "Downloading 10-Q for FI (2010)...\n",
      "Downloading 10-Q for BMY (2012)...\n",
      "Downloading 10-Q for VRTX (2014)...\n",
      "Downloading 10-Q for PANW (2011)...\n",
      "Downloading 10-Q for ADP (2009)...\n",
      "Downloading 10-Q for CB (2003)...\n",
      "Downloading 10-Q for PANW (2012)...\n",
      "Downloading 10-Q for COP (2011)...\n",
      "Downloading 10-Q for CAT (2016)...\n",
      "Downloading 10-Q for SCHW (2021)...\n",
      "Downloading 10-Q for AMAT (2012)...\n",
      "Downloading 10-Q for DE (2017)...\n",
      "Downloading 10-Q for BA (2003)...\n",
      "Downloading 10-Q for FI (2011)...\n",
      "Downloading 10-Q for PANW (2013)...\n",
      "Downloading 10-Q for CB (2004)...\n",
      "Downloading 10-Q for ADP (2010)...\n",
      "Downloading 10-Q for CMCSA (2020)...\n",
      "Downloading 10-Q for MDT (2017)...\n",
      "Downloading 10-Q for BA (2004)...\n",
      "Downloading 10-Q for BMY (2013)...\n",
      "Downloading 10-Q for COP (2012)...\n",
      "Downloading 10-Q for MS (2013)...\n",
      "Downloading 10-Q for PANW (2014)...\n",
      "Downloading 10-Q for AMAT (2013)...\n",
      "Downloading 10-Q for FI (2012)...\n",
      "Downloading 10-Q for CB (2005)...\n",
      "Downloading 10-Q for VRTX (2015)...\n",
      "Downloading 10-Q for ADP (2011)...\n",
      "Downloading 10-Q for BA (2005)...\n",
      "Downloading 10-Q for CB (2006)...\n",
      "Downloading 10-Q for DE (2018)...\n",
      "Downloading 10-Q for CMCSA (2021)...\n",
      "Downloading 10-Q for FI (2013)...\n"
     ]
    },
    {
     "name": "stderr",
     "output_type": "stream",
     "text": [
      "Downloading SEC Filings:  19%|█▉        | 96/499 [39:16<5:04:19, 45.31s/it]"
     ]
    },
    {
     "name": "stdout",
     "output_type": "stream",
     "text": [
      "Downloading 10-Q for BA (2006)...\n",
      "Downloading 10-Q for COP (2013)...\n",
      "Downloading 10-Q for ADP (2012)...\n",
      "Downloading 10-Q for HTHIY (2000)...\n",
      "Downloading 10-Q for VRTX (2016)...\n",
      "Downloading 10-Q for GS (2012)...\n",
      "Downloading 10-Q for HTHIY (2001)...\n",
      "Downloading 10-Q for HTHIY (2002)...\n",
      "Downloading 10-Q for PANW (2015)...\n",
      "Downloading 10-Q for CB (2007)...\n",
      "Downloading 10-Q for HTHIY (2003)...\n",
      "Downloading 10-Q for AMAT (2014)...\n",
      "Downloading 10-Q for HTHIY (2004)...\n",
      "Downloading 10-Q for HTHIY (2005)...\n",
      "Downloading 10-Q for C (2006)...\n",
      "Downloading 10-Q for HTHIY (2006)...\n",
      "Downloading 10-Q for HTHIY (2007)...\n",
      "Downloading 10-Q for HTHIY (2008)...\n",
      "Downloading 10-Q for BA (2007)...\n",
      "Downloading 10-Q for HTHIY (2009)...\n",
      "Downloading 10-Q for HTHIY (2010)...\n",
      "Downloading 10-Q for FI (2014)...\n",
      "Downloading 10-Q for CB (2008)...\n",
      "Downloading 10-Q for HTHIY (2011)...\n",
      "Downloading 10-Q for MDT (2018)...\n",
      "Downloading 10-Q for HTHIY (2012)...\n",
      "Downloading 10-Q for HTHIY (2013)...\n",
      "Downloading 10-Q for HTHIY (2014)...\n",
      "Downloading 10-Q for HTHIY (2015)...\n",
      "Downloading 10-Q for ADP (2013)...\n",
      "Downloading 10-Q for BMY (2014)...\n",
      "Downloading 10-Q for HTHIY (2016)...\n",
      "Downloading 10-Q for BA (2008)...\n",
      "Downloading 10-Q for HTHIY (2017)...\n",
      "Downloading 10-Q for HTHIY (2018)...\n"
     ]
    },
    {
     "name": "stderr",
     "output_type": "stream",
     "text": [
      "Downloading SEC Filings:  20%|█▉        | 98/499 [39:49<3:24:39, 30.62s/it]"
     ]
    },
    {
     "name": "stdout",
     "output_type": "stream",
     "text": [
      "Downloading 10-Q for HTHIY (2019)...\n",
      "Downloading 10-Q for CB (2009)...\n",
      "Downloading 10-Q for HTHIY (2020)...\n",
      "Downloading 10-Q for MMC (2000)...\n",
      "Downloading 10-Q for HTHIY (2021)...\n",
      "Downloading 10-Q for SBUX (2000)...\n",
      "Downloading 10-Q for PANW (2016)...\n"
     ]
    },
    {
     "name": "stderr",
     "output_type": "stream",
     "text": [
      "Downloading SEC Filings:  20%|█▉        | 99/499 [39:55<2:38:19, 23.75s/it]"
     ]
    },
    {
     "name": "stdout",
     "output_type": "stream",
     "text": [
      "Downloading 10-Q for AMAT (2015)...\n",
      "Downloading 10-Q for FI (2015)...\n",
      "Downloading 10-Q for VRTX (2017)...\n",
      "Downloading 10-Q for AIQUY (2000)...\n",
      "Downloading 10-Q for BA (2009)...\n",
      "Downloading 10-Q for AIQUY (2001)...\n",
      "Downloading 10-Q for DE (2019)...\n",
      "Downloading 10-Q for AIQUY (2002)...\n",
      "Downloading 10-Q for MMC (2001)...\n",
      "Downloading 10-Q for COP (2014)...\n",
      "Downloading 10-Q for SBUX (2001)...\n",
      "Downloading 10-Q for AIQUY (2003)...\n",
      "Downloading 10-Q for CB (2010)...\n",
      "Downloading 10-Q for AIQUY (2004)...\n",
      "Downloading 10-Q for BAC (2017)...\n",
      "Downloading 10-Q for AIQUY (2005)...\n",
      "Downloading 10-Q for AIQUY (2006)...\n",
      "Downloading 10-Q for AIQUY (2007)...\n",
      "Downloading 10-Q for MMC (2002)...\n",
      "Downloading 10-Q for AIQUY (2008)...\n",
      "Downloading 10-Q for BA (2010)...\n",
      "Downloading 10-Q for SBUX (2002)...\n",
      "Downloading 10-Q for FI (2016)...\n",
      "Downloading 10-Q for AIQUY (2009)...\n",
      "Downloading 10-Q for PANW (2017)...\n",
      "Downloading 10-Q for AIQUY (2010)...\n",
      "Downloading 10-Q for AIQUY (2011)...\n",
      "Downloading 10-Q for AMAT (2016)...\n",
      "Downloading 10-Q for CAT (2017)...\n",
      "Downloading 10-Q for MDT (2019)...\n",
      "Downloading 10-Q for AIQUY (2012)...\n",
      "Downloading 10-Q for AIQUY (2013)...\n",
      "Downloading 10-Q for MMC (2003)...\n",
      "Downloading 10-Q for AIQUY (2014)...\n",
      "Downloading 10-Q for SBUX (2003)...\n",
      "Downloading 10-Q for ADP (2014)...\n",
      "Downloading 10-Q for AIQUY (2015)...\n",
      "Downloading 10-Q for COP (2015)...\n",
      "Downloading 10-Q for AIQUY (2016)...\n",
      "Downloading 10-Q for AIQUY (2017)...\n",
      "Downloading 10-Q for FI (2017)...\n",
      "Downloading 10-Q for AIQUY (2018)...\n",
      "Downloading 10-Q for BA (2011)...\n",
      "Downloading 10-Q for AIQUY (2019)...\n",
      "Downloading 10-Q for MMC (2004)...\n",
      "Downloading 10-Q for VRTX (2018)...\n",
      "Downloading 10-Q for PANW (2018)...\n",
      "Downloading 10-Q for AIQUY (2020)...\n",
      "Downloading 10-Q for SBUX (2004)...\n",
      "Downloading 10-Q for AIQUY (2021)...\n",
      "Downloading 10-Q for DE (2020)...\n",
      "Downloading 10-Q for AMAT (2017)...\n"
     ]
    },
    {
     "name": "stderr",
     "output_type": "stream",
     "text": [
      "Downloading SEC Filings:  20%|██        | 100/499 [40:25<2:49:49, 25.54s/it]"
     ]
    },
    {
     "name": "stdout",
     "output_type": "stream",
     "text": [
      "Downloading 10-Q for BMY (2015)...\n",
      "Downloading 10-Q for CB (2011)...\n",
      "Downloading 10-Q for ETN (2000)...\n",
      "Downloading 10-Q for MMC (2005)...\n",
      "Downloading 10-Q for ETN (2001)...\n",
      "Downloading 10-Q for SBUX (2005)...\n",
      "Downloading 10-Q for FI (2018)...\n",
      "Downloading 10-Q for ADP (2015)...\n",
      "Downloading 10-Q for ETN (2002)...\n",
      "Downloading 10-Q for COP (2016)...\n",
      "Downloading 10-Q for ETN (2003)...\n",
      "Downloading 10-Q for PANW (2019)...\n",
      "Downloading 10-Q for CAT (2018)...\n",
      "Downloading 10-Q for SBUX (2006)...\n",
      "Downloading 10-Q for MMC (2006)...\n",
      "Downloading 10-Q for ETN (2004)...\n",
      "Downloading 10-Q for VRTX (2019)...\n",
      "Downloading 10-Q for ETN (2005)...\n",
      "Downloading 10-Q for AMAT (2018)...\n",
      "Downloading 10-Q for BA (2012)...\n",
      "Downloading 10-Q for ETN (2006)...\n",
      "Downloading 10-Q for C (2007)...\n",
      "Downloading 10-Q for MDT (2020)...\n",
      "Downloading 10-Q for ETN (2007)...\n",
      "Downloading 10-Q for DE (2021)...\n",
      "Downloading 10-Q for SBUX (2007)...\n",
      "Downloading 10-Q for MMC (2007)...\n",
      "Downloading 10-Q for MS (2014)...\n",
      "Downloading 10-Q for JPM (2013)...\n",
      "Downloading 10-Q for ADP (2016)...\n",
      "Downloading 10-Q for FI (2019)...\n",
      "Downloading 10-Q for BMY (2016)...\n",
      "Downloading 10-Q for ETN (2008)...\n",
      "Downloading 10-Q for CB (2012)...\n",
      "Downloading 10-Q for COP (2017)...\n",
      "Downloading 10-Q for GS (2013)...\n",
      "Downloading 10-Q for ETN (2009)...\n",
      "Downloading 10-Q for PANW (2020)...\n",
      "Downloading 10-Q for SBUX (2008)...\n",
      "Downloading 10-Q for ETN (2010)...\n",
      "Downloading 10-Q for BAC (2018)...\n",
      "Downloading 10-Q for MMC (2008)...\n",
      "Downloading 10-Q for AMAT (2019)...\n",
      "Downloading 10-Q for ETN (2011)...\n",
      "Downloading 10-Q for ETN (2012)...\n",
      "Downloading 10-Q for VRTX (2020)...\n",
      "Downloading 10-Q for SBUX (2009)...\n",
      "Downloading 10-Q for ADP (2017)...\n",
      "Downloading 10-Q for BA (2013)...\n",
      "Downloading 10-Q for MMC (2009)...\n",
      "Downloading 10-Q for BMY (2017)...\n",
      "Downloading 10-Q for COP (2018)...\n",
      "Downloading 10-Q for ETN (2013)...\n",
      "Downloading 10-Q for MDT (2021)...\n"
     ]
    },
    {
     "name": "stderr",
     "output_type": "stream",
     "text": [
      "Downloading SEC Filings:  20%|██        | 101/499 [41:22<3:48:50, 34.50s/it]"
     ]
    },
    {
     "name": "stdout",
     "output_type": "stream",
     "text": [
      "Downloading 10-Q for PANW (2021)...\n",
      "Downloading 10-Q for LMT (2000)...\n",
      "Downloading 10-Q for SBUX (2010)...\n",
      "Downloading 10-Q for AMAT (2020)...\n",
      "Downloading 10-Q for MMC (2010)...\n",
      "Downloading 10-Q for CB (2013)...\n",
      "Downloading 10-Q for LMT (2001)...\n",
      "Downloading 10-Q for CAT (2019)...\n",
      "Downloading 10-Q for FI (2020)...\n",
      "Downloading 10-Q for SBUX (2011)...\n",
      "Downloading 10-Q for LMT (2002)...\n",
      "Downloading 10-Q for ADP (2018)...\n",
      "Downloading 10-Q for MMC (2011)...\n",
      "Downloading 10-Q for VRTX (2021)...\n",
      "Downloading 10-Q for BMY (2018)...\n",
      "Downloading 10-Q for AMAT (2021)...\n",
      "Downloading 10-Q for LMT (2003)...\n",
      "Downloading 10-Q for COP (2019)...\n",
      "Downloading 10-Q for SBUX (2012)...\n",
      "Downloading 10-Q for FI (2021)...\n",
      "Downloading 10-Q for LMT (2004)...\n"
     ]
    },
    {
     "name": "stderr",
     "output_type": "stream",
     "text": [
      "Downloading SEC Filings:  20%|██        | 102/499 [41:58<3:51:30, 34.99s/it]"
     ]
    },
    {
     "name": "stdout",
     "output_type": "stream",
     "text": [
      "Downloading 10-Q for ETN (2014)...\n",
      "Downloading 10-Q for NKE (2000)...\n",
      "Downloading 10-Q for BA (2014)...\n",
      "Downloading 10-Q for ADP (2019)...\n",
      "Downloading 10-Q for C (2008)...\n",
      "Downloading 10-Q for MMC (2012)...\n"
     ]
    },
    {
     "name": "stderr",
     "output_type": "stream",
     "text": [
      "Downloading SEC Filings:  21%|██        | 103/499 [42:07<3:00:56, 27.41s/it]"
     ]
    },
    {
     "name": "stdout",
     "output_type": "stream",
     "text": [
      "Downloading 10-Q for LMT (2005)...\n",
      "Downloading 10-Q for PLD (2000)...\n",
      "Downloading 10-Q for BMY (2019)...\n",
      "Downloading 10-Q for CB (2014)...\n",
      "Downloading 10-Q for NKE (2001)...\n",
      "Downloading 10-Q for SBUX (2013)...\n"
     ]
    },
    {
     "name": "stderr",
     "output_type": "stream",
     "text": [
      "Downloading SEC Filings:  21%|██        | 104/499 [42:19<2:29:32, 22.72s/it]"
     ]
    },
    {
     "name": "stdout",
     "output_type": "stream",
     "text": [
      "Downloading 10-Q for BAC (2019)...\n"
     ]
    },
    {
     "name": "stderr",
     "output_type": "stream",
     "text": [
      "Downloading SEC Filings:  21%|██        | 105/499 [42:22<1:52:19, 17.11s/it]"
     ]
    },
    {
     "name": "stdout",
     "output_type": "stream",
     "text": [
      "Downloading 10-Q for CFRUY (2000)...\n",
      "Downloading 10-Q for CFRUY (2001)...\n"
     ]
    },
    {
     "name": "stderr",
     "output_type": "stream",
     "text": [
      "Downloading SEC Filings:  21%|██        | 106/499 [42:27<1:27:07, 13.30s/it]"
     ]
    },
    {
     "name": "stdout",
     "output_type": "stream",
     "text": [
      "Downloading 10-Q for COP (2020)...\n",
      "Downloading 10-Q for PLD (2001)...\n",
      "Downloading 10-Q for ADI (2000)...\n",
      "Downloading 10-Q for CFRUY (2002)...\n",
      "Downloading 10-Q for LMT (2006)...\n",
      "Downloading 10-Q for CFRUY (2003)...\n",
      "Downloading 10-Q for NKE (2002)...\n",
      "Downloading 10-Q for KKR (2000)...\n",
      "Downloading 10-Q for CFRUY (2004)...\n",
      "Downloading 10-Q for CFRUY (2005)...\n",
      "Downloading 10-Q for ADP (2020)...\n",
      "Downloading 10-Q for CFRUY (2006)...\n",
      "Downloading 10-Q for KKR (2001)...\n",
      "Downloading 10-Q for CFRUY (2007)...\n",
      "Downloading 10-Q for ADI (2001)...\n",
      "Downloading 10-Q for CFRUY (2008)...\n",
      "Downloading 10-Q for KKR (2002)...\n",
      "Downloading 10-Q for ETN (2015)...\n",
      "Downloading 10-Q for PLD (2002)...\n",
      "Downloading 10-Q for LMT (2007)...\n",
      "Downloading 10-Q for CFRUY (2009)...\n",
      "Downloading 10-Q for SBUX (2014)...\n",
      "Downloading 10-Q for BA (2015)...\n",
      "Downloading 10-Q for NKE (2003)...\n",
      "Downloading 10-Q for CFRUY (2010)...\n",
      "Downloading 10-Q for KKR (2003)...\n",
      "Downloading 10-Q for BMY (2020)...\n",
      "Downloading 10-Q for CFRUY (2011)...\n",
      "Downloading 10-Q for CFRUY (2012)...\n",
      "Downloading 10-Q for MMC (2013)...\n",
      "Downloading 10-Q for KKR (2004)...\n",
      "Downloading 10-Q for CFRUY (2013)...\n",
      "Downloading 10-Q for ADI (2002)...\n",
      "Downloading 10-Q for CFRUY (2014)...\n",
      "Downloading 10-Q for GS (2014)...\n",
      "Downloading 10-Q for CB (2015)...\n",
      "Downloading 10-Q for CFRUY (2015)...\n",
      "Downloading 10-Q for KKR (2005)...\n",
      "Downloading 10-Q for COP (2021)...\n",
      "Downloading 10-Q for MS (2015)...\n",
      "Downloading 10-Q for CFRUY (2016)...\n",
      "Downloading 10-Q for LMT (2008)...\n",
      "Downloading 10-Q for NKE (2004)...\n",
      "Downloading 10-Q for CFRUY (2017)...\n",
      "Downloading 10-Q for PLD (2003)...\n",
      "Downloading 10-Q for KKR (2006)...\n",
      "Downloading 10-Q for CAT (2020)...\n",
      "Downloading 10-Q for CFRUY (2018)...\n",
      "Downloading 10-Q for CFRUY (2019)...\n",
      "Downloading 10-Q for KKR (2007)...\n",
      "Downloading 10-Q for CFRUY (2020)...\n",
      "Downloading 10-Q for ADI (2003)...\n",
      "Downloading 10-Q for CFRUY (2021)...\n",
      "Downloading 10-Q for KKR (2008)...\n"
     ]
    },
    {
     "name": "stderr",
     "output_type": "stream",
     "text": [
      "Downloading SEC Filings:  21%|██▏       | 107/499 [43:11<2:27:00, 22.50s/it]"
     ]
    },
    {
     "name": "stdout",
     "output_type": "stream",
     "text": [
      "Downloading 10-Q for ETN (2016)...\n",
      "Downloading 10-Q for SPOT (2000)...\n",
      "Downloading 10-Q for KKR (2009)...\n",
      "Downloading 10-Q for LMT (2009)...\n",
      "Downloading 10-Q for NKE (2005)...\n",
      "Downloading 10-Q for BA (2016)...\n",
      "Downloading 10-Q for PLD (2004)...\n",
      "Downloading 10-Q for SPOT (2001)...\n",
      "Downloading 10-Q for KKR (2010)...\n",
      "Downloading 10-Q for SPOT (2002)...\n",
      "Downloading 10-Q for SPOT (2003)...\n",
      "Downloading 10-Q for ADI (2004)...\n",
      "Downloading 10-Q for SPOT (2004)...\n",
      "Downloading 10-Q for SPOT (2005)...\n",
      "Downloading 10-Q for ADP (2021)...\n",
      "Downloading 10-Q for NKE (2006)...\n",
      "Downloading 10-Q for SPOT (2006)...\n",
      "Downloading 10-Q for SPOT (2007)...\n",
      "Downloading 10-Q for LMT (2010)...\n",
      "Downloading 10-Q for SPOT (2008)...\n",
      "Downloading 10-Q for PLD (2005)...\n",
      "Downloading 10-Q for KKR (2011)...\n",
      "Downloading 10-Q for SPOT (2009)...\n",
      "Downloading 10-Q for SPOT (2010)...\n",
      "Downloading 10-Q for ADI (2005)...\n",
      "Downloading 10-Q for SPOT (2011)...\n",
      "Downloading 10-Q for SPOT (2012)...\n",
      "Downloading 10-Q for NKE (2007)...\n",
      "Downloading 10-Q for SPOT (2013)...\n",
      "Downloading 10-Q for CB (2016)...\n",
      "Downloading 10-Q for SBUX (2015)...\n",
      "Downloading 10-Q for SPOT (2014)...\n",
      "Downloading 10-Q for SPOT (2015)...\n",
      "Downloading 10-Q for PLD (2006)...\n",
      "Downloading 10-Q for SPOT (2016)...\n",
      "Downloading 10-Q for BMY (2021)...\n",
      "Downloading 10-Q for SPOT (2017)...\n",
      "Downloading 10-Q for ADI (2006)...\n",
      "Downloading 10-Q for ETN (2017)...\n",
      "Downloading 10-Q for SPOT (2018)...\n",
      "Downloading 10-Q for NKE (2008)...\n",
      "Downloading 10-Q for SPOT (2019)...\n",
      "Downloading 10-Q for C (2009)...\n",
      "Downloading 10-Q for SPOT (2020)...\n",
      "Downloading 10-Q for LMT (2011)...\n",
      "Downloading 10-Q for SPOT (2021)...\n",
      "Downloading 10-Q for KKR (2012)...\n"
     ]
    },
    {
     "name": "stderr",
     "output_type": "stream",
     "text": [
      "Downloading SEC Filings:  22%|██▏       | 108/499 [43:42<2:42:52, 24.99s/it]"
     ]
    },
    {
     "name": "stdout",
     "output_type": "stream",
     "text": [
      "Downloading 10-Q for ADI (2007)...\n"
     ]
    },
    {
     "name": "stderr",
     "output_type": "stream",
     "text": [
      "Downloading SEC Filings:  22%|██▏       | 109/499 [43:43<1:55:36, 17.79s/it]"
     ]
    },
    {
     "name": "stdout",
     "output_type": "stream",
     "text": [
      "Downloading 10-Q for PLD (2007)...\n",
      "Downloading 10-Q for ANET (2000)...\n",
      "Downloading 10-Q for NKE (2009)...\n",
      "Downloading 10-Q for BA (2017)...\n",
      "Downloading 10-Q for TD (2000)...\n",
      "Downloading 10-Q for BAC (2020)...\n",
      "Downloading 10-Q for MMC (2014)...\n",
      "Downloading 10-Q for ANET (2001)...\n",
      "Downloading 10-Q for CB (2017)...\n",
      "Downloading 10-Q for ANET (2002)...\n",
      "Downloading 10-Q for ADI (2008)...\n",
      "Downloading 10-Q for ANET (2003)...\n"
     ]
    },
    {
     "name": "stderr",
     "output_type": "stream",
     "text": [
      "Downloading SEC Filings:  22%|██▏       | 111/499 [43:54<1:12:43, 11.25s/it]"
     ]
    },
    {
     "name": "stdout",
     "output_type": "stream",
     "text": [
      "Downloading 10-Q for CAT (2021)...\n",
      "Downloading 10-Q for ETN (2018)...\n",
      "Downloading 10-Q for NKE (2010)...\n",
      "Downloading 10-Q for PLD (2008)...\n",
      "Downloading 10-Q for LMT (2012)...\n",
      "Downloading 10-Q for ANET (2004)...\n",
      "Downloading 10-Q for MELI (2000)...\n",
      "Downloading 10-Q for UBS (2000)...\n",
      "Downloading 10-Q for MELI (2001)...\n",
      "Downloading 10-Q for TD (2001)...\n",
      "Downloading 10-Q for ANET (2005)...\n",
      "Downloading 10-Q for UBS (2001)...\n",
      "Downloading 10-Q for MELI (2002)...\n",
      "Downloading 10-Q for SBUX (2016)...\n",
      "Downloading 10-Q for MELI (2003)...\n",
      "Downloading 10-Q for ADI (2009)...\n",
      "Downloading 10-Q for ANET (2006)...\n",
      "Downloading 10-Q for UBS (2002)...\n",
      "Downloading 10-Q for MELI (2004)...\n",
      "Downloading 10-Q for MELI (2005)...\n",
      "Downloading 10-Q for ANET (2007)...\n",
      "Downloading 10-Q for UBS (2003)...\n",
      "Downloading 10-Q for MELI (2006)...\n",
      "Downloading 10-Q for PLD (2009)...\n",
      "Downloading 10-Q for MELI (2007)...\n",
      "Downloading 10-Q for BA (2018)...\n",
      "Downloading 10-Q for ANET (2008)...\n",
      "Downloading 10-Q for MMC (2015)...\n",
      "Downloading 10-Q for UBS (2004)...\n",
      "Downloading 10-Q for KKR (2013)...\n",
      "Downloading 10-Q for LMT (2013)...\n",
      "Downloading 10-Q for NKE (2011)...\n",
      "Downloading 10-Q for ANET (2009)...\n",
      "Downloading 10-Q for TD (2002)...\n",
      "Downloading 10-Q for UBS (2005)...\n",
      "Downloading 10-Q for ADI (2010)...\n",
      "Downloading 10-Q for MELI (2008)...\n",
      "Downloading 10-Q for ETN (2019)...\n",
      "Downloading 10-Q for ANET (2010)...\n",
      "Downloading 10-Q for UBS (2006)...\n",
      "Downloading 10-Q for PLD (2010)...\n",
      "Downloading 10-Q for ANET (2011)...\n",
      "Downloading 10-Q for UBS (2007)...\n",
      "Downloading 10-Q for ANET (2012)...\n",
      "Downloading 10-Q for UBS (2008)...\n",
      "Downloading 10-Q for MELI (2009)...\n",
      "Downloading 10-Q for JPM (2014)...\n",
      "Downloading 10-Q for ANET (2013)...\n",
      "Downloading 10-Q for UBS (2009)...\n",
      "Downloading 10-Q for CB (2018)...\n",
      "Downloading 10-Q for TD (2003)...\n",
      "Downloading 10-Q for ANET (2014)...\n",
      "Downloading 10-Q for LMT (2014)...\n",
      "Downloading 10-Q for UBS (2010)...\n",
      "Downloading 10-Q for NKE (2012)...\n",
      "Downloading 10-Q for ADI (2011)...\n",
      "Downloading 10-Q for MMC (2016)...\n",
      "Downloading 10-Q for UBS (2011)...\n",
      "Downloading 10-Q for ETN (2020)...\n",
      "Downloading 10-Q for MELI (2010)...\n",
      "Downloading 10-Q for PLD (2011)...\n",
      "Downloading 10-Q for UBS (2012)...\n",
      "Downloading 10-Q for UBS (2013)...\n",
      "Downloading 10-Q for TD (2004)...\n",
      "Downloading 10-Q for SBUX (2017)...\n",
      "Downloading 10-Q for UBS (2014)...\n",
      "Downloading 10-Q for BA (2019)...\n",
      "Downloading 10-Q for UBS (2015)...\n",
      "Downloading 10-Q for ANET (2015)...\n"
     ]
    },
    {
     "name": "stderr",
     "output_type": "stream",
     "text": [
      "Downloading SEC Filings:  22%|██▏       | 112/499 [44:46<2:30:19, 23.31s/it]"
     ]
    },
    {
     "name": "stdout",
     "output_type": "stream",
     "text": [
      "Downloading 10-Q for LMT (2015)...\n",
      "Downloading 10-Q for MELI (2011)...\n",
      "Downloading 10-Q for UBS (2016)...\n",
      "Downloading 10-Q for KKR (2014)...\n",
      "Downloading 10-Q for IBN (2000)...\n",
      "Downloading 10-Q for ETN (2021)...\n",
      "Downloading 10-Q for UBS (2017)...\n",
      "Downloading 10-Q for BAC (2021)...\n",
      "Downloading 10-Q for TD (2005)...\n",
      "Downloading 10-Q for IBN (2001)...\n",
      "Downloading 10-Q for PLD (2012)...\n",
      "Downloading 10-Q for ADI (2012)...\n",
      "Downloading 10-Q for UBS (2018)...\n",
      "Downloading 10-Q for NKE (2013)...\n",
      "Downloading 10-Q for GS (2015)...\n",
      "Downloading 10-Q for MMC (2017)...\n",
      "Downloading 10-Q for IBN (2002)...\n",
      "Downloading 10-Q for UBS (2019)...\n",
      "Downloading 10-Q for IBN (2003)...\n",
      "Downloading 10-Q for MELI (2012)...\n",
      "Downloading 10-Q for UBS (2020)...\n",
      "Downloading 10-Q for ANET (2016)...\n",
      "Downloading 10-Q for LMT (2016)...\n",
      "Downloading 10-Q for SBUX (2018)...\n",
      "Downloading 10-Q for IBN (2004)...\n",
      "Downloading 10-Q for C (2010)...\n",
      "Downloading 10-Q for CB (2019)...\n",
      "Downloading 10-Q for UBS (2021)...\n",
      "Downloading 10-Q for IBN (2005)...\n",
      "Downloading 10-Q for TD (2006)...\n"
     ]
    },
    {
     "name": "stderr",
     "output_type": "stream",
     "text": [
      "Downloading SEC Filings:  23%|██▎       | 113/499 [45:13<2:36:23, 24.31s/it]"
     ]
    },
    {
     "name": "stdout",
     "output_type": "stream",
     "text": [
      "Downloading 10-Q for IBN (2006)...\n",
      "Downloading 10-Q for BA (2020)...\n",
      "Downloading 10-Q for RIO (2000)...\n",
      "Downloading 10-Q for PLD (2013)...\n",
      "Downloading 10-Q for IBN (2007)...\n",
      "Downloading 10-Q for ADI (2013)...\n",
      "Downloading 10-Q for RIO (2001)...\n",
      "Downloading 10-Q for MMC (2018)...\n",
      "Downloading 10-Q for IBN (2008)...\n"
     ]
    },
    {
     "name": "stderr",
     "output_type": "stream",
     "text": [
      "Downloading SEC Filings:  23%|██▎       | 114/499 [45:19<2:01:54, 19.00s/it]"
     ]
    },
    {
     "name": "stdout",
     "output_type": "stream",
     "text": [
      "Downloading 10-Q for MELI (2013)...\n",
      "Downloading 10-Q for RIO (2002)...\n",
      "Downloading 10-Q for LMT (2017)...\n",
      "Downloading 10-Q for MS (2016)...\n",
      "Downloading 10-Q for NKE (2014)...\n",
      "Downloading 10-Q for ANET (2017)...\n",
      "Downloading 10-Q for SBUX (2019)...\n",
      "Downloading 10-Q for IBN (2009)...\n",
      "Downloading 10-Q for MU (2000)...\n",
      "Downloading 10-Q for RIO (2003)...\n",
      "Downloading 10-Q for TD (2007)...\n",
      "Downloading 10-Q for IBN (2010)...\n",
      "Downloading 10-Q for RIO (2004)...\n",
      "Downloading 10-Q for CB (2020)...\n",
      "Downloading 10-Q for RIO (2005)...\n",
      "Downloading 10-Q for IBN (2011)...\n",
      "Downloading 10-Q for IBN (2012)...\n",
      "Downloading 10-Q for RIO (2006)...\n",
      "Downloading 10-Q for MU (2001)...\n",
      "Downloading 10-Q for IBN (2013)...\n",
      "Downloading 10-Q for RIO (2007)...\n",
      "Downloading 10-Q for TD (2008)...\n",
      "Downloading 10-Q for LMT (2018)...\n",
      "Downloading 10-Q for IBN (2014)...\n",
      "Downloading 10-Q for RIO (2008)...\n",
      "Downloading 10-Q for ANET (2018)...\n",
      "Downloading 10-Q for IBN (2015)...\n",
      "Downloading 10-Q for RIO (2009)...\n",
      "Downloading 10-Q for MU (2002)...\n",
      "Downloading 10-Q for ADI (2014)...\n",
      "Downloading 10-Q for IBN (2016)...\n",
      "Downloading 10-Q for RIO (2010)...\n",
      "Downloading 10-Q for MELI (2014)...\n",
      "Downloading 10-Q for BA (2021)...\n",
      "Downloading 10-Q for NKE (2015)...\n",
      "Downloading 10-Q for RIO (2011)...\n",
      "Downloading 10-Q for IBN (2017)...\n",
      "Downloading 10-Q for TD (2009)...\n",
      "Downloading 10-Q for RIO (2012)...\n",
      "Downloading 10-Q for IBN (2018)...\n",
      "Downloading 10-Q for MU (2003)...\n",
      "Downloading 10-Q for MMC (2019)...\n",
      "Downloading 10-Q for RIO (2013)...\n",
      "Downloading 10-Q for IBN (2019)...\n",
      "Downloading 10-Q for PLD (2014)...\n",
      "Downloading 10-Q for RIO (2014)...\n",
      "Downloading 10-Q for IBN (2020)...\n",
      "Downloading 10-Q for KKR (2015)...\n",
      "Downloading 10-Q for MELI (2015)...\n",
      "Downloading 10-Q for RIO (2015)...\n",
      "Downloading 10-Q for LMT (2019)...\n",
      "Downloading 10-Q for IBN (2021)...\n",
      "Downloading 10-Q for ADI (2015)...\n",
      "Downloading 10-Q for MU (2004)...\n",
      "Downloading 10-Q for TD (2010)...\n",
      "Downloading 10-Q for ANET (2019)...\n",
      "Downloading 10-Q for RIO (2016)...\n",
      "Downloading 10-Q for CB (2021)...\n"
     ]
    },
    {
     "name": "stderr",
     "output_type": "stream",
     "text": [
      "Downloading SEC Filings:  23%|██▎       | 115/499 [45:56<2:36:48, 24.50s/it]"
     ]
    },
    {
     "name": "stdout",
     "output_type": "stream",
     "text": [
      "Downloading 10-Q for RIO (2017)...\n",
      "Downloading 10-Q for UPS (2000)...\n"
     ]
    },
    {
     "name": "stderr",
     "output_type": "stream",
     "text": [
      "Downloading SEC Filings:  23%|██▎       | 116/499 [46:03<2:01:35, 19.05s/it]"
     ]
    },
    {
     "name": "stdout",
     "output_type": "stream",
     "text": [
      "Downloading 10-Q for RIO (2018)...\n",
      "Downloading 10-Q for NKE (2016)...\n",
      "Downloading 10-Q for SO (2000)...\n",
      "Downloading 10-Q for MU (2005)...\n",
      "Downloading 10-Q for SBUX (2020)...\n",
      "Downloading 10-Q for RIO (2019)...\n",
      "Downloading 10-Q for RIO (2020)...\n",
      "Downloading 10-Q for TD (2011)...\n",
      "Downloading 10-Q for MMC (2020)...\n",
      "Downloading 10-Q for PLD (2015)...\n",
      "Downloading 10-Q for UPS (2001)...\n",
      "Downloading 10-Q for RIO (2021)...\n"
     ]
    },
    {
     "name": "stderr",
     "output_type": "stream",
     "text": [
      "Downloading SEC Filings:  23%|██▎       | 117/499 [46:17<1:51:29, 17.51s/it]"
     ]
    },
    {
     "name": "stdout",
     "output_type": "stream",
     "text": [
      "Downloading 10-Q for MU (2006)...\n",
      "Downloading 10-Q for MO (2000)...\n",
      "Downloading 10-Q for SO (2001)...\n",
      "Downloading 10-Q for ANET (2020)...\n",
      "Downloading 10-Q for ADI (2016)...\n",
      "Downloading 10-Q for UPS (2002)...\n",
      "Downloading 10-Q for TD (2012)...\n",
      "Downloading 10-Q for MELI (2016)...\n",
      "Downloading 10-Q for LMT (2020)...\n",
      "Downloading 10-Q for NKE (2017)...\n",
      "Downloading 10-Q for MU (2007)...\n",
      "Downloading 10-Q for MO (2001)...\n"
     ]
    },
    {
     "name": "stderr",
     "output_type": "stream",
     "text": [
      "Downloading SEC Filings:  24%|██▎       | 118/499 [46:33<1:49:12, 17.20s/it]"
     ]
    },
    {
     "name": "stdout",
     "output_type": "stream",
     "text": [
      "Downloading 10-Q for KKR (2016)...\n"
     ]
    },
    {
     "name": "stderr",
     "output_type": "stream",
     "text": [
      "Downloading SEC Filings:  24%|██▍       | 119/499 [46:36<1:20:55, 12.78s/it]"
     ]
    },
    {
     "name": "stdout",
     "output_type": "stream",
     "text": [
      "Downloading 10-Q for SO (2002)...\n",
      "Downloading 10-Q for PLD (2016)...\n",
      "Downloading 10-Q for AMT (2000)...\n",
      "Downloading 10-Q for UPS (2003)...\n",
      "Downloading 10-Q for SAN (2000)...\n",
      "Downloading 10-Q for TD (2013)...\n",
      "Downloading 10-Q for ANET (2021)...\n",
      "Downloading 10-Q for SAN (2001)...\n",
      "Downloading 10-Q for MMC (2021)...\n",
      "Downloading 10-Q for MO (2002)...\n",
      "Downloading 10-Q for MELI (2017)...\n",
      "Downloading 10-Q for MU (2008)...\n",
      "Downloading 10-Q for SAN (2002)...\n",
      "Downloading 10-Q for AMT (2001)...\n",
      "Downloading 10-Q for SAN (2003)...\n",
      "Downloading 10-Q for SO (2003)...\n",
      "Downloading 10-Q for NKE (2018)...\n",
      "Downloading 10-Q for UPS (2004)...\n",
      "Downloading 10-Q for C (2011)...\n",
      "Downloading 10-Q for TD (2014)...\n",
      "Downloading 10-Q for MO (2003)...\n",
      "Downloading 10-Q for ADI (2017)...\n",
      "Downloading 10-Q for SAN (2004)...\n",
      "Downloading 10-Q for LMT (2021)...\n",
      "Downloading 10-Q for MU (2009)...\n",
      "Downloading 10-Q for AMT (2002)...\n",
      "Downloading 10-Q for SAN (2005)...\n",
      "Downloading 10-Q for SBUX (2021)...\n",
      "Downloading 10-Q for PLD (2017)...\n"
     ]
    },
    {
     "name": "stderr",
     "output_type": "stream",
     "text": [
      "Downloading SEC Filings:  24%|██▍       | 120/499 [47:00<1:41:51, 16.12s/it]"
     ]
    },
    {
     "name": "stdout",
     "output_type": "stream",
     "text": [
      "Downloading 10-Q for MELI (2018)...\n",
      "Downloading 10-Q for SAN (2006)...\n",
      "Downloading 10-Q for KKR (2017)...\n",
      "Downloading 10-Q for SMFG (2000)...\n"
     ]
    },
    {
     "name": "stderr",
     "output_type": "stream",
     "text": [
      "Downloading SEC Filings:  24%|██▍       | 121/499 [47:04<1:18:43, 12.50s/it]"
     ]
    },
    {
     "name": "stdout",
     "output_type": "stream",
     "text": [
      "Downloading 10-Q for SMFG (2001)...\n",
      "Downloading 10-Q for UPS (2005)...\n",
      "Downloading 10-Q for SAN (2007)...\n",
      "Downloading 10-Q for SMFG (2002)...\n",
      "Downloading 10-Q for ICE (2000)...\n",
      "Downloading 10-Q for MO (2004)...\n",
      "Downloading 10-Q for SMFG (2003)...\n",
      "Downloading 10-Q for AMT (2003)...\n",
      "Downloading 10-Q for MS (2017)...\n",
      "Downloading 10-Q for SO (2004)...\n",
      "Downloading 10-Q for TD (2015)...\n",
      "Downloading 10-Q for SMFG (2004)...\n",
      "Downloading 10-Q for NKE (2019)...\n",
      "Downloading 10-Q for SAN (2008)...\n",
      "Downloading 10-Q for ICE (2001)...\n",
      "Downloading 10-Q for GS (2016)...\n",
      "Downloading 10-Q for SMFG (2005)...\n",
      "Downloading 10-Q for SMFG (2006)...\n",
      "Downloading 10-Q for ADI (2018)...\n",
      "Downloading 10-Q for SAN (2009)...\n",
      "Downloading 10-Q for ICE (2002)...\n",
      "Downloading 10-Q for SMFG (2007)...\n"
     ]
    },
    {
     "name": "stderr",
     "output_type": "stream",
     "text": [
      "Downloading SEC Filings:  24%|██▍       | 122/499 [47:13<1:12:07, 11.48s/it]"
     ]
    },
    {
     "name": "stdout",
     "output_type": "stream",
     "text": [
      "Downloading 10-Q for MU (2010)...\n",
      "Downloading 10-Q for UPS (2006)...\n",
      "Downloading 10-Q for SMFG (2008)...\n",
      "Downloading 10-Q for ICE (2003)...\n",
      "Downloading 10-Q for ELV (2000)...\n",
      "Downloading 10-Q for SAN (2010)...\n",
      "Downloading 10-Q for SMFG (2009)...\n",
      "Downloading 10-Q for AMT (2004)...\n",
      "Downloading 10-Q for MO (2005)...\n",
      "Downloading 10-Q for PLD (2018)...\n",
      "Downloading 10-Q for SMFG (2010)...\n",
      "Downloading 10-Q for MELI (2019)...\n",
      "Downloading 10-Q for ICE (2004)...\n",
      "Downloading 10-Q for SAN (2011)...\n",
      "Downloading 10-Q for ELV (2001)...\n",
      "Downloading 10-Q for SMFG (2011)...\n",
      "Downloading 10-Q for JPM (2015)...\n",
      "Downloading 10-Q for KKR (2018)...\n",
      "Downloading 10-Q for SO (2005)...\n",
      "Downloading 10-Q for SMFG (2012)...\n",
      "Downloading 10-Q for TD (2016)...\n",
      "Downloading 10-Q for ICE (2005)...\n",
      "Downloading 10-Q for SAN (2012)...\n",
      "Downloading 10-Q for SMFG (2013)...\n",
      "Downloading 10-Q for ADI (2019)...\n",
      "Downloading 10-Q for MU (2011)...\n",
      "Downloading 10-Q for NKE (2020)...\n",
      "Downloading 10-Q for UPS (2007)...\n",
      "Downloading 10-Q for ICE (2006)...\n",
      "Downloading 10-Q for SMFG (2014)...\n",
      "Downloading 10-Q for ELV (2002)...\n",
      "Downloading 10-Q for SAN (2013)...\n",
      "Downloading 10-Q for AMT (2005)...\n"
     ]
    },
    {
     "name": "stderr",
     "output_type": "stream",
     "text": [
      "Downloading SEC Filings:  25%|██▍       | 123/499 [47:25<1:12:36, 11.59s/it]"
     ]
    },
    {
     "name": "stdout",
     "output_type": "stream",
     "text": [
      "Downloading 10-Q for SMFG (2015)...\n",
      "Downloading 10-Q for MO (2006)...\n",
      "Downloading 10-Q for ICE (2007)...\n",
      "Downloading 10-Q for LRCX (2000)...\n",
      "Downloading 10-Q for SMFG (2016)...\n",
      "Downloading 10-Q for SAN (2014)...\n",
      "Downloading 10-Q for SMFG (2017)...\n",
      "Downloading 10-Q for PLD (2019)...\n",
      "Downloading 10-Q for ICE (2008)...\n",
      "Downloading 10-Q for SMFG (2018)...\n",
      "Downloading 10-Q for SMFG (2019)...\n",
      "Downloading 10-Q for SAN (2015)...\n",
      "Downloading 10-Q for ICE (2009)...\n",
      "Downloading 10-Q for SMFG (2020)...\n",
      "Downloading 10-Q for TD (2017)...\n",
      "Downloading 10-Q for AMT (2006)...\n",
      "Downloading 10-Q for SMFG (2021)...\n",
      "Downloading 10-Q for MELI (2020)...\n",
      "Downloading 10-Q for ELV (2003)...\n"
     ]
    },
    {
     "name": "stderr",
     "output_type": "stream",
     "text": [
      "Downloading SEC Filings:  25%|██▍       | 124/499 [47:35<1:09:32, 11.13s/it]"
     ]
    },
    {
     "name": "stdout",
     "output_type": "stream",
     "text": [
      "Downloading 10-Q for SAN (2016)...\n",
      "Downloading 10-Q for ICE (2010)...\n",
      "Downloading 10-Q for SO (2006)...\n",
      "Downloading 10-Q for UPS (2008)...\n",
      "Downloading 10-Q for LRCX (2001)...\n",
      "Downloading 10-Q for MO (2007)...\n",
      "Downloading 10-Q for WELL (2000)...\n",
      "Downloading 10-Q for ADI (2020)...\n",
      "Downloading 10-Q for ICE (2011)...\n",
      "Downloading 10-Q for SAN (2017)...\n",
      "Downloading 10-Q for NKE (2021)...\n",
      "Downloading 10-Q for ICE (2012)...\n",
      "Downloading 10-Q for SAN (2018)...\n",
      "Downloading 10-Q for AMT (2007)...\n",
      "Downloading 10-Q for ELV (2004)...\n",
      "Downloading 10-Q for PLD (2020)...\n",
      "Downloading 10-Q for MU (2012)...\n",
      "Downloading 10-Q for LRCX (2002)...\n",
      "Downloading 10-Q for WELL (2001)...\n",
      "Downloading 10-Q for ICE (2013)...\n",
      "Downloading 10-Q for MO (2008)...\n",
      "Downloading 10-Q for SAN (2019)...\n",
      "Downloading 10-Q for TD (2018)...\n",
      "Downloading 10-Q for MELI (2021)...\n",
      "Downloading 10-Q for UPS (2009)...\n",
      "Downloading 10-Q for KKR (2019)...\n",
      "Downloading 10-Q for SAN (2020)...\n",
      "Downloading 10-Q for ADI (2021)...\n",
      "Downloading 10-Q for SO (2007)...\n",
      "Downloading 10-Q for ICE (2014)...\n",
      "Downloading 10-Q for SAN (2021)...\n",
      "Downloading 10-Q for ELV (2005)...\n",
      "Downloading 10-Q for AMT (2008)...\n",
      "Downloading 10-Q for WELL (2002)...\n",
      "Downloading 10-Q for LRCX (2003)...\n"
     ]
    },
    {
     "name": "stderr",
     "output_type": "stream",
     "text": [
      "Downloading SEC Filings:  25%|██▌       | 126/499 [47:56<1:01:23,  9.88s/it]"
     ]
    },
    {
     "name": "stdout",
     "output_type": "stream",
     "text": [
      "Downloading 10-Q for MO (2009)...\n",
      "Downloading 10-Q for CME (2000)...\n",
      "Downloading 10-Q for TD (2019)...\n",
      "Downloading 10-Q for ENB (2000)...\n",
      "Downloading 10-Q for UPS (2010)...\n",
      "Downloading 10-Q for ENB (2001)...\n",
      "Downloading 10-Q for AMT (2009)...\n",
      "Downloading 10-Q for CME (2001)...\n",
      "Downloading 10-Q for PLD (2021)...\n",
      "Downloading 10-Q for WELL (2003)...\n",
      "Downloading 10-Q for ELV (2006)...\n",
      "Downloading 10-Q for LRCX (2004)...\n"
     ]
    },
    {
     "name": "stderr",
     "output_type": "stream",
     "text": [
      "Downloading SEC Filings:  25%|██▌       | 127/499 [48:05<1:00:38,  9.78s/it]"
     ]
    },
    {
     "name": "stdout",
     "output_type": "stream",
     "text": [
      "Downloading 10-Q for ENB (2002)...\n",
      "Downloading 10-Q for SO (2008)...\n",
      "Downloading 10-Q for DUK (2000)...\n",
      "Downloading 10-Q for CME (2002)...\n",
      "Downloading 10-Q for ENB (2003)...\n",
      "Downloading 10-Q for MO (2010)...\n",
      "Downloading 10-Q for MU (2013)...\n",
      "Downloading 10-Q for WELL (2004)...\n",
      "Downloading 10-Q for TD (2020)...\n",
      "Downloading 10-Q for ENB (2004)...\n",
      "Downloading 10-Q for AMT (2010)...\n",
      "Downloading 10-Q for DUK (2001)...\n",
      "Downloading 10-Q for LRCX (2005)...\n",
      "Downloading 10-Q for ELV (2007)...\n",
      "Downloading 10-Q for ENB (2005)...\n",
      "Downloading 10-Q for CME (2003)...\n",
      "Downloading 10-Q for DUK (2002)...\n",
      "Downloading 10-Q for ENB (2006)...\n",
      "Downloading 10-Q for UPS (2011)...\n",
      "Downloading 10-Q for KKR (2020)...\n",
      "Downloading 10-Q for WELL (2005)...\n",
      "Downloading 10-Q for ENB (2007)...\n",
      "Downloading 10-Q for SO (2009)...\n"
     ]
    },
    {
     "name": "stderr",
     "output_type": "stream",
     "text": [
      "Downloading SEC Filings:  26%|██▌       | 128/499 [48:21<1:12:18, 11.69s/it]"
     ]
    },
    {
     "name": "stdout",
     "output_type": "stream",
     "text": [
      "Downloading 10-Q for LRCX (2006)...\n",
      "Downloading 10-Q for MO (2011)...\n",
      "Downloading 10-Q for DUK (2003)...\n",
      "Downloading 10-Q for ELV (2008)...\n",
      "Downloading 10-Q for TD (2021)...\n",
      "Downloading 10-Q for ENB (2008)...\n",
      "Downloading 10-Q for WM (2000)...\n"
     ]
    },
    {
     "name": "stderr",
     "output_type": "stream",
     "text": [
      "Downloading SEC Filings:  26%|██▌       | 129/499 [48:26<58:22,  9.47s/it]  "
     ]
    },
    {
     "name": "stdout",
     "output_type": "stream",
     "text": [
      "Downloading 10-Q for AMT (2011)...\n",
      "Downloading 10-Q for KLAC (2000)...\n",
      "Downloading 10-Q for CME (2004)...\n",
      "Downloading 10-Q for ENB (2009)...\n",
      "Downloading 10-Q for MU (2014)...\n",
      "Downloading 10-Q for WELL (2006)...\n",
      "Downloading 10-Q for DUK (2004)...\n",
      "Downloading 10-Q for ENB (2010)...\n",
      "Downloading 10-Q for LRCX (2007)...\n",
      "Downloading 10-Q for ICE (2015)...\n",
      "Downloading 10-Q for ELV (2009)...\n",
      "Downloading 10-Q for ENB (2011)...\n",
      "Downloading 10-Q for DUK (2005)...\n"
     ]
    },
    {
     "name": "stderr",
     "output_type": "stream",
     "text": [
      "Downloading SEC Filings:  26%|██▌       | 130/499 [48:35<57:44,  9.39s/it]"
     ]
    },
    {
     "name": "stdout",
     "output_type": "stream",
     "text": [
      "Downloading 10-Q for UPS (2012)...\n",
      "Downloading 10-Q for KLAC (2001)...\n",
      "Downloading 10-Q for ENB (2012)...\n",
      "Downloading 10-Q for SO (2010)...\n",
      "Downloading 10-Q for WM (2001)...\n",
      "Downloading 10-Q for BTI (2000)...\n",
      "Downloading 10-Q for DUK (2006)...\n",
      "Downloading 10-Q for CME (2005)...\n",
      "Downloading 10-Q for WELL (2007)...\n",
      "Downloading 10-Q for LRCX (2008)...\n",
      "Downloading 10-Q for ENB (2013)...\n",
      "Downloading 10-Q for BTI (2001)...\n",
      "Downloading 10-Q for KKR (2021)...\n",
      "Downloading 10-Q for ENB (2014)...\n",
      "Downloading 10-Q for AMT (2012)...\n",
      "Downloading 10-Q for KLAC (2002)...\n",
      "Downloading 10-Q for BTI (2002)...\n",
      "Downloading 10-Q for ELV (2010)...\n",
      "Downloading 10-Q for ENB (2015)...\n",
      "Downloading 10-Q for MO (2012)...\n",
      "Downloading 10-Q for GS (2017)...\n",
      "Downloading 10-Q for MS (2018)...\n",
      "Downloading 10-Q for C (2012)...\n",
      "Downloading 10-Q for BTI (2003)...\n",
      "Downloading 10-Q for WM (2002)...\n",
      "Downloading 10-Q for WELL (2008)...\n",
      "Downloading 10-Q for ENB (2016)...\n",
      "Downloading 10-Q for CME (2006)...\n",
      "Downloading 10-Q for ICE (2016)...\n",
      "Downloading 10-Q for LRCX (2009)...\n",
      "Downloading 10-Q for BTI (2004)...\n",
      "Downloading 10-Q for DUK (2007)...\n",
      "Downloading 10-Q for ENB (2017)...\n",
      "Downloading 10-Q for KLAC (2003)...\n",
      "Downloading 10-Q for UPS (2013)...\n",
      "Downloading 10-Q for BTI (2005)...\n",
      "Downloading 10-Q for SO (2011)...\n",
      "Downloading 10-Q for ENB (2018)...\n",
      "Downloading 10-Q for ELV (2011)...\n",
      "Downloading 10-Q for BTI (2006)...\n",
      "Downloading 10-Q for WELL (2009)...\n",
      "Downloading 10-Q for MU (2015)...\n",
      "Downloading 10-Q for WM (2003)...\n",
      "Downloading 10-Q for AMT (2013)...\n",
      "Downloading 10-Q for CME (2007)...\n",
      "Downloading 10-Q for LRCX (2010)...\n",
      "Downloading 10-Q for MO (2013)...\n",
      "Downloading 10-Q for BTI (2007)...\n",
      "Downloading 10-Q for KLAC (2004)...\n",
      "Downloading 10-Q for DUK (2008)...\n",
      "Downloading 10-Q for BTI (2008)...\n",
      "Downloading 10-Q for ICE (2017)...\n",
      "Downloading 10-Q for BTI (2009)...\n",
      "Downloading 10-Q for WELL (2010)...\n",
      "Downloading 10-Q for BTI (2010)...\n",
      "Downloading 10-Q for ELV (2012)...\n",
      "Downloading 10-Q for KLAC (2005)...\n",
      "Downloading 10-Q for LRCX (2011)...\n",
      "Downloading 10-Q for WM (2004)...\n",
      "Downloading 10-Q for CME (2008)...\n",
      "Downloading 10-Q for BTI (2011)...\n",
      "Downloading 10-Q for BTI (2012)...\n",
      "Downloading 10-Q for DUK (2009)...\n"
     ]
    },
    {
     "name": "stderr",
     "output_type": "stream",
     "text": [
      "Downloading SEC Filings:  26%|██▋       | 131/499 [49:17<1:57:28, 19.15s/it]"
     ]
    },
    {
     "name": "stdout",
     "output_type": "stream",
     "text": [
      "Downloading 10-Q for BTI (2013)...\n",
      "Downloading 10-Q for MU (2016)...\n",
      "Downloading 10-Q for UPS (2014)...\n",
      "Downloading 10-Q for SHW (2000)...\n",
      "Downloading 10-Q for KLAC (2006)...\n",
      "Downloading 10-Q for AMT (2014)...\n",
      "Downloading 10-Q for BTI (2014)...\n",
      "Downloading 10-Q for WELL (2011)...\n",
      "Downloading 10-Q for ICE (2018)...\n",
      "Downloading 10-Q for CME (2009)...\n",
      "Downloading 10-Q for ENB (2019)...\n",
      "Downloading 10-Q for WM (2005)...\n",
      "Downloading 10-Q for BTI (2015)...\n",
      "Downloading 10-Q for SHW (2001)...\n",
      "Downloading 10-Q for LRCX (2012)...\n",
      "Downloading 10-Q for MO (2014)...\n",
      "Downloading 10-Q for BTI (2016)...\n",
      "Downloading 10-Q for KLAC (2007)...\n",
      "Downloading 10-Q for ELV (2013)...\n",
      "Downloading 10-Q for DUK (2010)...\n",
      "Downloading 10-Q for BTI (2017)...\n",
      "Downloading 10-Q for BTI (2018)...\n",
      "Downloading 10-Q for SHW (2002)...\n",
      "Downloading 10-Q for WM (2006)...\n",
      "Downloading 10-Q for CME (2010)...\n",
      "Downloading 10-Q for BTI (2019)...\n",
      "Downloading 10-Q for SO (2012)...\n",
      "Downloading 10-Q for BTI (2020)...\n",
      "Downloading 10-Q for WELL (2012)...\n",
      "Downloading 10-Q for KLAC (2008)...\n",
      "Downloading 10-Q for BTI (2021)...\n",
      "Downloading 10-Q for SHW (2003)...\n"
     ]
    },
    {
     "name": "stderr",
     "output_type": "stream",
     "text": [
      "Downloading SEC Filings:  26%|██▋       | 132/499 [49:42<2:08:25, 21.00s/it]"
     ]
    },
    {
     "name": "stdout",
     "output_type": "stream",
     "text": [
      "Downloading 10-Q for WM (2007)...\n",
      "Downloading 10-Q for MDLZ (2000)...\n",
      "Downloading 10-Q for CME (2011)...\n",
      "Downloading 10-Q for KLAC (2009)...\n",
      "Downloading 10-Q for SHW (2004)...\n",
      "Downloading 10-Q for MU (2017)...\n",
      "Downloading 10-Q for LRCX (2013)...\n",
      "Downloading 10-Q for MDLZ (2001)...\n",
      "Downloading 10-Q for WELL (2013)...\n",
      "Downloading 10-Q for AMT (2015)...\n",
      "Downloading 10-Q for WM (2008)...\n",
      "Downloading 10-Q for DUK (2011)...\n",
      "Downloading 10-Q for ICE (2019)...\n",
      "Downloading 10-Q for MDLZ (2002)...\n",
      "Downloading 10-Q for SHW (2005)...\n",
      "Downloading 10-Q for UPS (2015)...\n",
      "Downloading 10-Q for KLAC (2010)...\n",
      "Downloading 10-Q for SO (2013)...\n",
      "Downloading 10-Q for JPM (2016)...\n",
      "Downloading 10-Q for CME (2012)...\n",
      "Downloading 10-Q for MDLZ (2003)...\n",
      "Downloading 10-Q for SHW (2006)...\n",
      "Downloading 10-Q for ENB (2020)...\n",
      "Downloading 10-Q for GS (2018)...\n",
      "Downloading 10-Q for WM (2009)...\n",
      "Downloading 10-Q for ELV (2014)...\n",
      "Downloading 10-Q for KLAC (2011)...\n",
      "Downloading 10-Q for MO (2015)...\n",
      "Downloading 10-Q for WELL (2014)...\n",
      "Downloading 10-Q for MDLZ (2004)...\n",
      "Downloading 10-Q for LRCX (2014)...\n",
      "Downloading 10-Q for SHW (2007)...\n",
      "Downloading 10-Q for AMT (2016)...\n",
      "Downloading 10-Q for MU (2018)...\n",
      "Downloading 10-Q for WM (2010)...\n",
      "Downloading 10-Q for MS (2019)...\n",
      "Downloading 10-Q for UPS (2016)...\n",
      "Downloading 10-Q for MDLZ (2005)...\n",
      "Downloading 10-Q for SHW (2008)...\n",
      "Downloading 10-Q for KLAC (2012)...\n",
      "Downloading 10-Q for CME (2013)...\n",
      "Downloading 10-Q for DUK (2012)...\n",
      "Downloading 10-Q for ENB (2021)...\n",
      "Downloading 10-Q for LRCX (2015)...\n",
      "Downloading 10-Q for SHW (2009)...\n",
      "Downloading 10-Q for AMT (2017)...\n",
      "Downloading 10-Q for MDLZ (2006)...\n",
      "Downloading 10-Q for SO (2014)...\n",
      "Downloading 10-Q for ELV (2015)...\n",
      "Downloading 10-Q for MU (2019)...\n",
      "Downloading 10-Q for WELL (2015)...\n",
      "Downloading 10-Q for UPS (2017)...\n",
      "Downloading 10-Q for SHW (2010)...\n",
      "Downloading 10-Q for MO (2016)...\n",
      "Downloading 10-Q for MDLZ (2007)...\n",
      "Downloading 10-Q for ICE (2020)...\n",
      "Downloading 10-Q for CME (2014)...\n",
      "Downloading 10-Q for LRCX (2016)...\n",
      "Downloading 10-Q for WM (2011)...\n",
      "Downloading 10-Q for AMT (2018)...\n",
      "Downloading 10-Q for KLAC (2013)...\n",
      "Downloading 10-Q for MDLZ (2008)...\n",
      "Downloading 10-Q for MU (2020)...\n",
      "Downloading 10-Q for ELV (2016)...\n",
      "Downloading 10-Q for CME (2015)...\n",
      "Downloading 10-Q for LRCX (2017)...\n",
      "Downloading 10-Q for WELL (2016)...\n",
      "Downloading 10-Q for AMT (2019)...\n",
      "Downloading 10-Q for MDLZ (2009)...\n",
      "Downloading 10-Q for SHW (2011)...\n",
      "Downloading 10-Q for UPS (2018)...\n"
     ]
    },
    {
     "name": "stderr",
     "output_type": "stream",
     "text": [
      "Downloading SEC Filings:  27%|██▋       | 133/499 [51:40<5:05:44, 50.12s/it]"
     ]
    },
    {
     "name": "stdout",
     "output_type": "stream",
     "text": [
      "Downloading 10-Q for WM (2012)...\n",
      "Downloading 10-Q for MDLZ (2010)...\n",
      "Downloading 10-Q for ELV (2017)...\n",
      "Downloading 10-Q for MU (2021)...\n",
      "Downloading 10-Q for APP (2000)...\n",
      "Downloading 10-Q for CME (2016)...\n",
      "Downloading 10-Q for APP (2001)...\n",
      "Downloading 10-Q for APP (2002)...\n",
      "Downloading 10-Q for ICE (2021)...\n",
      "Downloading 10-Q for APP (2003)...\n",
      "Downloading 10-Q for SHW (2012)...\n",
      "Downloading 10-Q for APP (2004)...\n",
      "Downloading 10-Q for MO (2017)...\n",
      "Downloading 10-Q for APP (2005)...\n",
      "Downloading 10-Q for APP (2006)...\n",
      "Downloading 10-Q for APP (2007)...\n",
      "Downloading 10-Q for APP (2008)...\n",
      "Downloading 10-Q for APP (2009)...\n",
      "Downloading 10-Q for KLAC (2014)...\n",
      "Downloading 10-Q for AMT (2020)...\n",
      "Downloading 10-Q for APP (2010)...\n",
      "Downloading 10-Q for MDLZ (2011)...\n",
      "Downloading 10-Q for LRCX (2018)...\n",
      "Downloading 10-Q for WELL (2017)...\n",
      "Downloading 10-Q for APP (2011)...\n",
      "Downloading 10-Q for CME (2017)...\n",
      "Downloading 10-Q for WM (2013)...\n",
      "Downloading 10-Q for APP (2012)...\n",
      "Downloading 10-Q for APP (2013)...\n",
      "Downloading 10-Q for UPS (2019)...\n",
      "Downloading 10-Q for APP (2014)...\n",
      "Downloading 10-Q for APP (2015)...\n",
      "Downloading 10-Q for APP (2016)...\n",
      "Downloading 10-Q for SHW (2013)...\n",
      "Downloading 10-Q for DUK (2013)...\n",
      "Downloading 10-Q for APP (2017)...\n",
      "Downloading 10-Q for MO (2018)...\n",
      "Downloading 10-Q for ELV (2018)...\n",
      "Downloading 10-Q for APP (2018)...\n",
      "Downloading 10-Q for APP (2019)...\n",
      "Downloading 10-Q for APP (2020)...\n",
      "Downloading 10-Q for APP (2021)...\n",
      "Downloading 10-Q for MDLZ (2012)...\n",
      "Downloading 10-Q for CME (2018)...\n",
      "Downloading 10-Q for WELL (2018)...\n",
      "Downloading 10-Q for MS (2020)...\n",
      "Downloading 10-Q for LRCX (2019)...\n",
      "Downloading 10-Q for GS (2019)...\n",
      "Downloading 10-Q for WM (2014)...\n",
      "Downloading 10-Q for C (2013)...\n",
      "Downloading 10-Q for AMT (2021)...\n",
      "Downloading 10-Q for SHW (2014)...\n",
      "Downloading 10-Q for ELV (2019)...\n",
      "Downloading 10-Q for CME (2019)...\n",
      "Downloading 10-Q for MO (2019)...\n",
      "Downloading 10-Q for KLAC (2015)...\n",
      "Downloading 10-Q for MDLZ (2013)...\n"
     ]
    },
    {
     "name": "stderr",
     "output_type": "stream",
     "text": [
      "Downloading SEC Filings:  27%|██▋       | 134/499 [53:32<6:57:36, 68.65s/it]"
     ]
    },
    {
     "name": "stdout",
     "output_type": "stream",
     "text": [
      "Downloading 10-Q for SO (2015)...\n",
      "Downloading 10-Q for WELL (2019)...\n",
      "Downloading 10-Q for UPS (2020)...\n",
      "Downloading 10-Q for RELX (2000)...\n",
      "Downloading 10-Q for SHW (2015)...\n",
      "Downloading 10-Q for WM (2015)...\n",
      "Downloading 10-Q for RELX (2001)...\n"
     ]
    },
    {
     "name": "stderr",
     "output_type": "stream",
     "text": [
      "Downloading SEC Filings:  27%|██▋       | 135/499 [53:44<5:14:02, 51.77s/it]"
     ]
    },
    {
     "name": "stdout",
     "output_type": "stream",
     "text": [
      "Downloading 10-Q for CME (2020)...\n",
      "Downloading 10-Q for CI (2000)...\n",
      "Downloading 10-Q for RELX (2002)...\n",
      "Downloading 10-Q for CI (2001)...\n"
     ]
    },
    {
     "name": "stderr",
     "output_type": "stream",
     "text": [
      "Downloading SEC Filings:  27%|██▋       | 136/499 [53:54<3:57:36, 39.28s/it]"
     ]
    },
    {
     "name": "stdout",
     "output_type": "stream",
     "text": [
      "Downloading 10-Q for CI (2002)...\n",
      "Downloading 10-Q for LRCX (2020)...\n",
      "Downloading 10-Q for CI (2003)...\n",
      "Downloading 10-Q for AON (2000)...\n",
      "Downloading 10-Q for RELX (2003)...\n",
      "Downloading 10-Q for CI (2004)...\n",
      "Downloading 10-Q for CI (2005)...\n",
      "Downloading 10-Q for CI (2006)...\n",
      "Downloading 10-Q for SHW (2016)...\n",
      "Downloading 10-Q for RELX (2004)...\n",
      "Downloading 10-Q for CI (2007)...\n",
      "Downloading 10-Q for CI (2008)...\n",
      "Downloading 10-Q for AON (2001)...\n",
      "Downloading 10-Q for CI (2009)...\n",
      "Downloading 10-Q for KLAC (2016)...\n",
      "Downloading 10-Q for CI (2010)...\n",
      "Downloading 10-Q for RELX (2005)...\n",
      "Downloading 10-Q for UPS (2021)...\n",
      "Downloading 10-Q for CI (2011)...\n"
     ]
    },
    {
     "name": "stderr",
     "output_type": "stream",
     "text": [
      "Downloading SEC Filings:  27%|██▋       | 137/499 [54:08<3:10:38, 31.60s/it]"
     ]
    },
    {
     "name": "stdout",
     "output_type": "stream",
     "text": [
      "Downloading 10-Q for CME (2021)...\n",
      "Downloading 10-Q for MO (2020)...\n",
      "Downloading 10-Q for CI (2012)...\n",
      "Downloading 10-Q for WM (2016)...\n",
      "Downloading 10-Q for ELV (2020)...\n",
      "Downloading 10-Q for CI (2013)...\n",
      "Downloading 10-Q for INTC (2000)...\n",
      "Downloading 10-Q for AON (2002)...\n",
      "Downloading 10-Q for RELX (2006)...\n",
      "Downloading 10-Q for CI (2014)...\n",
      "Downloading 10-Q for CI (2015)...\n",
      "Downloading 10-Q for CI (2016)...\n",
      "Downloading 10-Q for JPM (2017)...\n",
      "Downloading 10-Q for RELX (2007)...\n",
      "Downloading 10-Q for CI (2017)...\n",
      "Downloading 10-Q for SHW (2017)...\n",
      "Downloading 10-Q for LRCX (2021)...\n",
      "Downloading 10-Q for CI (2018)...\n",
      "Downloading 10-Q for CI (2019)...\n",
      "Downloading 10-Q for INTC (2001)...\n",
      "Downloading 10-Q for AON (2003)...\n",
      "Downloading 10-Q for RELX (2008)...\n",
      "Downloading 10-Q for RELX (2009)...\n",
      "Downloading 10-Q for MDLZ (2014)...\n",
      "Downloading 10-Q for KLAC (2017)...\n",
      "Downloading 10-Q for AON (2004)...\n",
      "Downloading 10-Q for WM (2017)...\n",
      "Downloading 10-Q for INTC (2002)...\n",
      "Downloading 10-Q for RELX (2010)...\n",
      "Downloading 10-Q for RELX (2011)...\n",
      "Downloading 10-Q for SHW (2018)...\n",
      "Downloading 10-Q for AON (2005)...\n"
     ]
    },
    {
     "name": "stderr",
     "output_type": "stream",
     "text": [
      "Downloading SEC Filings:  28%|██▊       | 138/499 [55:01<3:49:24, 38.13s/it]"
     ]
    },
    {
     "name": "stdout",
     "output_type": "stream",
     "text": [
      "Downloading 10-Q for MO (2021)...\n",
      "Downloading 10-Q for RELX (2012)...\n",
      "Downloading 10-Q for INTC (2003)...\n",
      "Downloading 10-Q for WELL (2020)...\n"
     ]
    },
    {
     "name": "stderr",
     "output_type": "stream",
     "text": [
      "Downloading SEC Filings:  28%|██▊       | 139/499 [55:03<2:43:05, 27.18s/it]"
     ]
    },
    {
     "name": "stdout",
     "output_type": "stream",
     "text": [
      "Downloading 10-Q for ELV (2021)...\n",
      "Downloading 10-Q for BP (2000)...\n",
      "Downloading 10-Q for AJG (2000)...\n",
      "Downloading 10-Q for CI (2020)...\n",
      "Downloading 10-Q for RELX (2013)...\n",
      "Downloading 10-Q for BP (2001)...\n",
      "Downloading 10-Q for KLAC (2018)...\n",
      "Downloading 10-Q for BP (2002)...\n",
      "Downloading 10-Q for RELX (2014)...\n",
      "Downloading 10-Q for AON (2006)...\n",
      "Downloading 10-Q for MDLZ (2015)...\n",
      "Downloading 10-Q for WM (2018)...\n",
      "Downloading 10-Q for INTC (2004)...\n",
      "Downloading 10-Q for AJG (2001)...\n",
      "Downloading 10-Q for BP (2003)...\n",
      "Downloading 10-Q for SHW (2019)...\n",
      "Downloading 10-Q for RELX (2015)...\n",
      "Downloading 10-Q for MS (2021)...\n",
      "Downloading 10-Q for BP (2004)...\n",
      "Downloading 10-Q for RELX (2016)...\n",
      "Downloading 10-Q for BP (2005)...\n",
      "Downloading 10-Q for AJG (2002)...\n",
      "Downloading 10-Q for AON (2007)...\n",
      "Downloading 10-Q for INTC (2005)...\n",
      "Downloading 10-Q for BP (2006)...\n",
      "Downloading 10-Q for RELX (2017)...\n",
      "Downloading 10-Q for BP (2007)...\n"
     ]
    },
    {
     "name": "stderr",
     "output_type": "stream",
     "text": [
      "Downloading SEC Filings:  28%|██▊       | 140/499 [55:47<3:12:21, 32.15s/it]"
     ]
    },
    {
     "name": "stdout",
     "output_type": "stream",
     "text": [
      "Downloading 10-Q for RELX (2018)...\n",
      "Downloading 10-Q for CRWD (2000)...\n",
      "Downloading 10-Q for AJG (2003)...\n",
      "Downloading 10-Q for BP (2008)...\n",
      "Downloading 10-Q for CRWD (2001)...\n",
      "Downloading 10-Q for AON (2008)...\n",
      "Downloading 10-Q for KLAC (2019)...\n",
      "Downloading 10-Q for CRWD (2002)...\n",
      "Downloading 10-Q for WM (2019)...\n",
      "Downloading 10-Q for INTC (2006)...\n",
      "Downloading 10-Q for RELX (2019)...\n",
      "Downloading 10-Q for BP (2009)...\n",
      "Downloading 10-Q for CRWD (2003)...\n",
      "Downloading 10-Q for CRWD (2004)...\n",
      "Downloading 10-Q for CRWD (2005)...\n",
      "Downloading 10-Q for BP (2010)...\n",
      "Downloading 10-Q for RELX (2020)...\n",
      "Downloading 10-Q for CRWD (2006)...\n",
      "Downloading 10-Q for AJG (2004)...\n",
      "Downloading 10-Q for CRWD (2007)...\n",
      "Downloading 10-Q for BP (2011)...\n",
      "Downloading 10-Q for MDLZ (2016)...\n",
      "Downloading 10-Q for AON (2009)...\n",
      "Downloading 10-Q for DUK (2014)...\n",
      "Downloading 10-Q for CRWD (2008)...\n",
      "Downloading 10-Q for RELX (2021)...\n",
      "Downloading 10-Q for SHW (2020)...\n",
      "Downloading 10-Q for CRWD (2009)...\n",
      "Downloading 10-Q for BP (2012)...\n",
      "Downloading 10-Q for INTC (2007)...\n",
      "Downloading 10-Q for C (2014)...\n",
      "Downloading 10-Q for CRWD (2010)...\n",
      "Downloading 10-Q for GS (2020)...\n"
     ]
    },
    {
     "name": "stderr",
     "output_type": "stream",
     "text": [
      "Downloading SEC Filings:  28%|██▊       | 141/499 [56:05<2:47:09, 28.02s/it]"
     ]
    },
    {
     "name": "stdout",
     "output_type": "stream",
     "text": [
      "Downloading 10-Q for BP (2013)...\n",
      "Downloading 10-Q for CRWD (2011)...\n"
     ]
    },
    {
     "name": "stderr",
     "output_type": "stream",
     "text": [
      "Downloading SEC Filings:  29%|██▊       | 143/499 [56:06<1:23:14, 14.03s/it]"
     ]
    },
    {
     "name": "stdout",
     "output_type": "stream",
     "text": [
      "Downloading 10-Q for CRWD (2012)...\n",
      "Downloading 10-Q for AJG (2005)...\n",
      "Downloading 10-Q for CVS (2000)...\n",
      "Downloading 10-Q for BN (2000)...\n",
      "Downloading 10-Q for MCK (2000)...\n",
      "Downloading 10-Q for BP (2014)...\n",
      "Downloading 10-Q for CRWD (2013)...\n",
      "Downloading 10-Q for CRWD (2014)...\n",
      "Downloading 10-Q for BN (2001)...\n",
      "Downloading 10-Q for BP (2015)...\n",
      "Downloading 10-Q for CRWD (2015)...\n",
      "Downloading 10-Q for AON (2010)...\n",
      "Downloading 10-Q for WELL (2021)...\n",
      "Downloading 10-Q for CRWD (2016)...\n",
      "Downloading 10-Q for INTC (2008)...\n",
      "Downloading 10-Q for BN (2002)...\n",
      "Downloading 10-Q for CRWD (2017)...\n",
      "Downloading 10-Q for BP (2016)...\n",
      "Downloading 10-Q for CVS (2001)...\n",
      "Downloading 10-Q for AJG (2006)...\n",
      "Downloading 10-Q for MDLZ (2017)...\n",
      "Downloading 10-Q for MCK (2001)...\n",
      "Downloading 10-Q for CRWD (2018)...\n",
      "Downloading 10-Q for SHW (2021)...\n",
      "Downloading 10-Q for BN (2003)...\n",
      "Downloading 10-Q for BP (2017)...\n",
      "Downloading 10-Q for CRWD (2019)...\n",
      "Downloading 10-Q for CI (2021)...\n",
      "Downloading 10-Q for WM (2020)...\n",
      "Downloading 10-Q for BN (2004)...\n",
      "Downloading 10-Q for BP (2018)...\n",
      "Downloading 10-Q for KLAC (2020)...\n",
      "Downloading 10-Q for BN (2005)...\n",
      "Downloading 10-Q for BP (2019)...\n",
      "Downloading 10-Q for AJG (2007)...\n",
      "Downloading 10-Q for MCK (2002)...\n",
      "Downloading 10-Q for CVS (2002)...\n",
      "Downloading 10-Q for INTC (2009)...\n",
      "Downloading 10-Q for BN (2006)...\n",
      "Downloading 10-Q for AON (2011)...\n",
      "Downloading 10-Q for BP (2020)...\n",
      "Downloading 10-Q for BN (2007)...\n",
      "Downloading 10-Q for BP (2021)...\n",
      "Downloading 10-Q for MDLZ (2018)...\n",
      "Downloading 10-Q for CVS (2003)...\n",
      "Downloading 10-Q for BN (2008)...\n",
      "Downloading 10-Q for MCK (2003)...\n"
     ]
    },
    {
     "name": "stderr",
     "output_type": "stream",
     "text": [
      "Downloading SEC Filings:  29%|██▉       | 144/499 [56:50<2:15:57, 22.98s/it]"
     ]
    },
    {
     "name": "stdout",
     "output_type": "stream",
     "text": [
      "Downloading 10-Q for AJG (2008)...\n"
     ]
    },
    {
     "name": "stderr",
     "output_type": "stream",
     "text": [
      "Downloading SEC Filings:  29%|██▉       | 145/499 [56:52<1:38:00, 16.61s/it]"
     ]
    },
    {
     "name": "stdout",
     "output_type": "stream",
     "text": [
      "Downloading 10-Q for EQIX (2000)...\n",
      "Downloading 10-Q for BN (2009)...\n",
      "Downloading 10-Q for WM (2021)...\n",
      "Downloading 10-Q for GSK (2000)...\n"
     ]
    },
    {
     "name": "stderr",
     "output_type": "stream",
     "text": [
      "Downloading SEC Filings:  29%|██▉       | 146/499 [56:55<1:13:55, 12.57s/it]"
     ]
    },
    {
     "name": "stdout",
     "output_type": "stream",
     "text": [
      "Downloading 10-Q for INTC (2010)...\n",
      "Downloading 10-Q for BN (2010)...\n",
      "Downloading 10-Q for HCA (2000)...\n",
      "Downloading 10-Q for CVS (2004)...\n",
      "Downloading 10-Q for MCK (2004)...\n"
     ]
    },
    {
     "name": "stderr",
     "output_type": "stream",
     "text": [
      "Downloading SEC Filings:  29%|██▉       | 147/499 [56:59<59:09, 10.08s/it]  "
     ]
    },
    {
     "name": "stdout",
     "output_type": "stream",
     "text": [
      "Downloading 10-Q for BN (2011)...\n",
      "Downloading 10-Q for AJG (2009)...\n",
      "Downloading 10-Q for EQIX (2001)...\n",
      "Downloading 10-Q for GSK (2001)...\n",
      "Downloading 10-Q for MMM (2000)...\n",
      "Downloading 10-Q for BN (2012)...\n",
      "Downloading 10-Q for CVS (2005)...\n",
      "Downloading 10-Q for BN (2013)...\n",
      "Downloading 10-Q for HCA (2001)...\n",
      "Downloading 10-Q for MCK (2005)...\n",
      "Downloading 10-Q for GSK (2002)...\n",
      "Downloading 10-Q for BN (2014)...\n",
      "Downloading 10-Q for AJG (2010)...\n",
      "Downloading 10-Q for EQIX (2002)...\n",
      "Downloading 10-Q for MMM (2001)...\n",
      "Downloading 10-Q for AON (2012)...\n",
      "Downloading 10-Q for BN (2015)...\n",
      "Downloading 10-Q for INTC (2011)...\n"
     ]
    },
    {
     "name": "stderr",
     "output_type": "stream",
     "text": [
      "Downloading SEC Filings:  30%|██▉       | 148/499 [57:29<1:33:49, 16.04s/it]"
     ]
    },
    {
     "name": "stdout",
     "output_type": "stream",
     "text": [
      "Downloading 10-Q for MDLZ (2019)...\n",
      "Downloading 10-Q for CVS (2006)...\n",
      "Downloading 10-Q for GSK (2003)...\n",
      "Downloading 10-Q for BN (2016)...\n",
      "Downloading 10-Q for MCK (2006)...\n",
      "Downloading 10-Q for KLAC (2021)...\n",
      "Downloading 10-Q for MCO (2000)...\n",
      "Downloading 10-Q for HCA (2002)...\n",
      "Downloading 10-Q for BN (2017)...\n",
      "Downloading 10-Q for MMM (2002)...\n",
      "Downloading 10-Q for EQIX (2003)...\n",
      "Downloading 10-Q for BN (2018)...\n",
      "Downloading 10-Q for GSK (2004)...\n",
      "Downloading 10-Q for AJG (2011)...\n",
      "Downloading 10-Q for CVS (2007)...\n",
      "Downloading 10-Q for BN (2019)...\n",
      "Downloading 10-Q for MCO (2001)...\n",
      "Downloading 10-Q for MCK (2007)...\n",
      "Downloading 10-Q for HCA (2003)...\n",
      "Downloading 10-Q for BN (2020)...\n",
      "Downloading 10-Q for MMM (2003)...\n",
      "Downloading 10-Q for GSK (2005)...\n",
      "Downloading 10-Q for EQIX (2004)...\n",
      "Downloading 10-Q for BN (2021)...\n",
      "Downloading 10-Q for MCO (2002)...\n",
      "Downloading 10-Q for CVS (2008)...\n"
     ]
    },
    {
     "name": "stderr",
     "output_type": "stream",
     "text": [
      "Downloading SEC Filings:  30%|██▉       | 149/499 [57:56<1:51:52, 19.18s/it]"
     ]
    },
    {
     "name": "stdout",
     "output_type": "stream",
     "text": [
      "Downloading 10-Q for JPM (2018)...\n",
      "Downloading 10-Q for MCK (2008)...\n",
      "Downloading 10-Q for GSK (2006)...\n",
      "Downloading 10-Q for SO (2016)...\n",
      "Downloading 10-Q for BBVA (2000)...\n",
      "Downloading 10-Q for MMM (2004)...\n",
      "Downloading 10-Q for HCA (2004)...\n",
      "Downloading 10-Q for BBVA (2001)...\n",
      "Downloading 10-Q for CRWD (2020)...\n",
      "Downloading 10-Q for AJG (2012)...\n",
      "Downloading 10-Q for MCO (2003)...\n",
      "Downloading 10-Q for EQIX (2005)...\n",
      "Downloading 10-Q for BBVA (2002)...\n",
      "Downloading 10-Q for CVS (2009)...\n",
      "Downloading 10-Q for GSK (2007)...\n"
     ]
    },
    {
     "name": "stderr",
     "output_type": "stream",
     "text": [
      "Downloading SEC Filings:  30%|███       | 150/499 [58:05<1:34:38, 16.27s/it]"
     ]
    },
    {
     "name": "stdout",
     "output_type": "stream",
     "text": [
      "Downloading 10-Q for AON (2013)...\n",
      "Downloading 10-Q for MCK (2009)...\n",
      "Downloading 10-Q for MDLZ (2020)...\n",
      "Downloading 10-Q for BBVA (2003)...\n",
      "Downloading 10-Q for RACE (2000)...\n",
      "Downloading 10-Q for MMM (2005)...\n"
     ]
    },
    {
     "name": "stderr",
     "output_type": "stream",
     "text": [
      "Downloading SEC Filings:  30%|███       | 151/499 [58:10<1:14:34, 12.86s/it]"
     ]
    },
    {
     "name": "stdout",
     "output_type": "stream",
     "text": [
      "Downloading 10-Q for RACE (2001)...\n",
      "Downloading 10-Q for HCA (2005)...\n",
      "Downloading 10-Q for CTAS (2000)...\n",
      "Downloading 10-Q for RACE (2002)...\n",
      "Downloading 10-Q for BBVA (2004)...\n",
      "Downloading 10-Q for RACE (2003)...\n",
      "Downloading 10-Q for GSK (2008)...\n",
      "Downloading 10-Q for MCO (2004)...\n",
      "Downloading 10-Q for RACE (2004)...\n",
      "Downloading 10-Q for BBVA (2005)...\n",
      "Downloading 10-Q for INTC (2012)...\n",
      "Downloading 10-Q for EQIX (2006)...\n",
      "Downloading 10-Q for RACE (2005)...\n",
      "Downloading 10-Q for CVS (2010)...\n",
      "Downloading 10-Q for RACE (2006)...\n",
      "Downloading 10-Q for BBVA (2006)...\n",
      "Downloading 10-Q for AJG (2013)...\n",
      "Downloading 10-Q for MCK (2010)...\n",
      "Downloading 10-Q for RACE (2007)...\n",
      "Downloading 10-Q for CRWD (2021)...\n",
      "Downloading 10-Q for CTAS (2001)...\n",
      "Downloading 10-Q for RACE (2008)...\n",
      "Downloading 10-Q for MMM (2006)...\n",
      "Downloading 10-Q for GSK (2009)...\n",
      "Downloading 10-Q for BBVA (2007)...\n",
      "Downloading 10-Q for RACE (2009)...\n",
      "Downloading 10-Q for HCA (2006)...\n",
      "Downloading 10-Q for DUK (2015)...\n",
      "Downloading 10-Q for RACE (2010)...\n",
      "Downloading 10-Q for MCO (2005)...\n",
      "Downloading 10-Q for BBVA (2008)...\n",
      "Downloading 10-Q for RACE (2011)...\n",
      "Downloading 10-Q for RACE (2012)...\n",
      "Downloading 10-Q for RACE (2013)...\n",
      "Downloading 10-Q for EQIX (2007)...\n",
      "Downloading 10-Q for CTAS (2002)...\n",
      "Downloading 10-Q for BBVA (2009)...\n",
      "Downloading 10-Q for GSK (2010)...\n",
      "Downloading 10-Q for RACE (2014)...\n",
      "Downloading 10-Q for AON (2014)...\n",
      "Downloading 10-Q for RACE (2015)...\n",
      "Downloading 10-Q for BBVA (2010)...\n",
      "Downloading 10-Q for RACE (2016)...\n",
      "Downloading 10-Q for HCA (2007)...\n",
      "Downloading 10-Q for MMM (2007)...\n",
      "Downloading 10-Q for MCK (2011)...\n",
      "Downloading 10-Q for CVS (2011)...\n",
      "Downloading 10-Q for RACE (2017)...\n",
      "Downloading 10-Q for BBVA (2011)...\n",
      "Downloading 10-Q for MCO (2006)...\n",
      "Downloading 10-Q for RACE (2018)...\n",
      "Downloading 10-Q for GSK (2011)...\n",
      "Downloading 10-Q for CTAS (2003)...\n",
      "Downloading 10-Q for RACE (2019)...\n",
      "Downloading 10-Q for BBVA (2012)...\n",
      "Downloading 10-Q for RACE (2020)...\n",
      "Downloading 10-Q for RACE (2021)...\n"
     ]
    },
    {
     "name": "stderr",
     "output_type": "stream",
     "text": [
      "Downloading SEC Filings:  30%|███       | 152/499 [58:51<2:03:09, 21.29s/it]"
     ]
    },
    {
     "name": "stdout",
     "output_type": "stream",
     "text": [
      "Downloading 10-Q for BBVA (2013)...\n",
      "Downloading 10-Q for AJG (2014)...\n",
      "Downloading 10-Q for GSK (2012)...\n",
      "Downloading 10-Q for EQIX (2008)...\n",
      "Downloading 10-Q for BBVA (2014)...\n",
      "Downloading 10-Q for INFY (2000)...\n",
      "Downloading 10-Q for CTAS (2004)...\n",
      "Downloading 10-Q for HCA (2008)...\n",
      "Downloading 10-Q for MMM (2008)...\n",
      "Downloading 10-Q for INFY (2001)...\n",
      "Downloading 10-Q for MCO (2007)...\n",
      "Downloading 10-Q for BBVA (2015)...\n",
      "Downloading 10-Q for INFY (2002)...\n",
      "Downloading 10-Q for MDLZ (2021)...\n",
      "Downloading 10-Q for INTC (2013)...\n",
      "Downloading 10-Q for INFY (2003)...\n",
      "Downloading 10-Q for SO (2017)...\n",
      "Downloading 10-Q for CVS (2012)...\n",
      "Downloading 10-Q for BBVA (2016)...\n",
      "Downloading 10-Q for MCK (2012)...\n",
      "Downloading 10-Q for INFY (2004)...\n",
      "Downloading 10-Q for GSK (2013)...\n",
      "Downloading 10-Q for INFY (2005)...\n",
      "Downloading 10-Q for BBVA (2017)...\n",
      "Downloading 10-Q for CTAS (2005)...\n",
      "Downloading 10-Q for EQIX (2009)...\n",
      "Downloading 10-Q for MCO (2008)...\n",
      "Downloading 10-Q for HCA (2009)...\n",
      "Downloading 10-Q for MMM (2009)...\n",
      "Downloading 10-Q for AJG (2015)...\n",
      "Error downloading 10-Q for INFY in 2005: ('Connection aborted.', RemoteDisconnected('Remote end closed connection without response'))\n",
      "Downloading 10-Q for INFY (2006)...\n",
      "Error downloading 10-Q for JPM in 2018: ('Connection aborted.', ConnectionResetError(10054, 'Varolan bir bağlantı uzaktaki bir ana bilgisayar tarafından zorla kapatıldı', None, 10054, None))Error downloading 10-Q for SO in 2017: ('Connection aborted.', ConnectionResetError(10054, 'Varolan bir bağlantı uzaktaki bir ana bilgisayar tarafından zorla kapatıldı', None, 10054, None))\n",
      "Downloading 10-Q for SO (2018)...\n",
      "\n",
      "Downloading 10-Q for JPM (2019)...\n",
      "Error downloading 10-Q for GSK in 2013: ('Connection aborted.', ConnectionResetError(10054, 'Varolan bir bağlantı uzaktaki bir ana bilgisayar tarafından zorla kapatıldı', None, 10054, None))\n",
      "Downloading 10-Q for GSK (2014)...\n",
      "Error downloading 10-Q for BBVA in 2017: ('Connection aborted.', ConnectionResetError(10054, 'Varolan bir bağlantı uzaktaki bir ana bilgisayar tarafından zorla kapatıldı', None, 10054, None))\n",
      "Downloading 10-Q for BBVA (2018)...\n",
      "Error downloading 10-Q for EQIX in 2009: ('Connection aborted.', ConnectionResetError(10054, 'Varolan bir bağlantı uzaktaki bir ana bilgisayar tarafından zorla kapatıldı', None, 10054, None))\n",
      "Downloading 10-Q for EQIX (2010)...\n",
      "Error downloading 10-Q for CTAS in 2005: ('Connection aborted.', ConnectionResetError(10054, 'Varolan bir bağlantı uzaktaki bir ana bilgisayar tarafından zorla kapatıldı', None, 10054, None))\n",
      "Downloading 10-Q for CTAS (2006)...\n",
      "Error downloading 10-Q for MCO in 2008: ('Connection aborted.', ConnectionResetError(10054, 'Varolan bir bağlantı uzaktaki bir ana bilgisayar tarafından zorla kapatıldı', None, 10054, None))\n",
      "Downloading 10-Q for MCO (2009)...\n",
      "Downloading 10-Q for INFY (2007)...\n",
      "Downloading 10-Q for CVS (2013)...\n",
      "Downloading 10-Q for INFY (2008)...\n",
      "Downloading 10-Q for BBVA (2019)...\n",
      "Downloading 10-Q for AON (2015)...\n",
      "Downloading 10-Q for INFY (2009)...\n",
      "Downloading 10-Q for HCA (2010)...\n",
      "Downloading 10-Q for INFY (2010)...\n",
      "Downloading 10-Q for MCK (2013)...\n"
     ]
    },
    {
     "name": "stderr",
     "output_type": "stream",
     "text": [
      "Downloading SEC Filings:  31%|███       | 153/499 [59:22<2:19:41, 24.23s/it]"
     ]
    },
    {
     "name": "stdout",
     "output_type": "stream",
     "text": [
      "Downloading 10-Q for BBVA (2020)...\n",
      "Downloading 10-Q for INFY (2011)...\n",
      "Downloading 10-Q for GSK (2015)...\n",
      "Downloading 10-Q for MMM (2010)...\n",
      "Downloading 10-Q for INFY (2012)...\n",
      "Downloading 10-Q for PBR (2000)...\n",
      "Downloading 10-Q for CTAS (2007)...\n",
      "Downloading 10-Q for BBVA (2021)...\n",
      "Downloading 10-Q for INFY (2013)...\n",
      "Downloading 10-Q for MCO (2010)...\n"
     ]
    },
    {
     "name": "stderr",
     "output_type": "stream",
     "text": [
      "Downloading SEC Filings:  31%|███       | 154/499 [59:32<1:53:58, 19.82s/it]"
     ]
    },
    {
     "name": "stdout",
     "output_type": "stream",
     "text": [
      "Downloading 10-Q for INFY (2014)...\n"
     ]
    },
    {
     "name": "stderr",
     "output_type": "stream",
     "text": [
      "Downloading SEC Filings:  31%|███       | 155/499 [59:35<1:24:27, 14.73s/it]"
     ]
    },
    {
     "name": "stdout",
     "output_type": "stream",
     "text": [
      "Downloading 10-Q for INFY (2015)...\n",
      "Downloading 10-Q for GEV (2000)...\n",
      "Downloading 10-Q for PBR (2001)...\n",
      "Downloading 10-Q for INFY (2016)...\n",
      "Downloading 10-Q for GSK (2016)...\n",
      "Downloading 10-Q for PH (2000)...\n",
      "Downloading 10-Q for EQIX (2011)...\n",
      "Downloading 10-Q for GEV (2001)...\n",
      "Downloading 10-Q for INFY (2017)...\n",
      "Downloading 10-Q for HCA (2011)...\n",
      "Downloading 10-Q for GEV (2002)...\n",
      "Downloading 10-Q for INFY (2018)...\n",
      "Downloading 10-Q for GEV (2003)...\n",
      "Downloading 10-Q for INFY (2019)...\n",
      "Downloading 10-Q for CTAS (2008)...\n",
      "Downloading 10-Q for GEV (2004)...\n",
      "Downloading 10-Q for PBR (2002)...\n",
      "Downloading 10-Q for INFY (2020)...\n",
      "Downloading 10-Q for GEV (2005)...\n",
      "Downloading 10-Q for GSK (2017)...\n",
      "Downloading 10-Q for INFY (2021)...\n",
      "Downloading 10-Q for GEV (2006)...\n"
     ]
    },
    {
     "name": "stderr",
     "output_type": "stream",
     "text": [
      "Downloading SEC Filings:  31%|███▏      | 156/499 [59:48<1:22:05, 14.36s/it]"
     ]
    },
    {
     "name": "stdout",
     "output_type": "stream",
     "text": [
      "Downloading 10-Q for GEV (2007)...\n",
      "Downloading 10-Q for PH (2001)...\n",
      "Downloading 10-Q for GEV (2008)...\n",
      "Downloading 10-Q for AJG (2016)...\n",
      "Downloading 10-Q for PBR (2003)...\n",
      "Downloading 10-Q for CVS (2014)...\n",
      "Downloading 10-Q for DUK (2016)...\n",
      "Downloading 10-Q for REGN (2000)...\n",
      "Downloading 10-Q for GEV (2009)...\n",
      "Downloading 10-Q for AON (2016)...\n",
      "Downloading 10-Q for GEV (2010)...\n",
      "Downloading 10-Q for CTAS (2009)...\n",
      "Downloading 10-Q for GSK (2018)...\n",
      "Downloading 10-Q for MCO (2011)...\n",
      "Downloading 10-Q for GEV (2011)...\n",
      "Downloading 10-Q for INTC (2014)...\n",
      "Downloading 10-Q for GEV (2012)...\n",
      "Downloading 10-Q for PBR (2004)...\n",
      "Downloading 10-Q for GEV (2013)...\n",
      "Downloading 10-Q for PH (2002)...\n",
      "Downloading 10-Q for GEV (2014)...\n",
      "Downloading 10-Q for GEV (2015)...\n",
      "Downloading 10-Q for MMM (2011)...\n",
      "Downloading 10-Q for REGN (2001)...\n",
      "Downloading 10-Q for GEV (2016)...\n",
      "Downloading 10-Q for GSK (2019)...\n",
      "Downloading 10-Q for PBR (2005)...\n",
      "Downloading 10-Q for GEV (2017)...\n",
      "Downloading 10-Q for CTAS (2010)...\n",
      "Downloading 10-Q for GEV (2018)...\n",
      "Downloading 10-Q for GEV (2019)...\n",
      "Downloading 10-Q for GEV (2020)...\n",
      "Downloading 10-Q for PBR (2006)...\n",
      "Downloading 10-Q for GEV (2021)...\n",
      "Downloading 10-Q for PH (2003)...\n"
     ]
    },
    {
     "name": "stderr",
     "output_type": "stream",
     "text": [
      "Downloading SEC Filings:  31%|███▏      | 157/499 [1:01:01<3:02:14, 31.97s/it]"
     ]
    },
    {
     "name": "stdout",
     "output_type": "stream",
     "text": [
      "Downloading 10-Q for GSK (2020)...\n",
      "Downloading 10-Q for REGN (2002)...\n",
      "Downloading 10-Q for CVS (2015)...\n",
      "Downloading 10-Q for ABNB (2000)...\n",
      "Downloading 10-Q for PBR (2007)...\n",
      "Downloading 10-Q for CTAS (2011)...\n",
      "Downloading 10-Q for ABNB (2001)...\n",
      "Downloading 10-Q for GSK (2021)...\n",
      "Downloading 10-Q for ABNB (2002)...\n",
      "Downloading 10-Q for PH (2004)...\n",
      "Downloading 10-Q for PBR (2008)...\n",
      "Downloading 10-Q for REGN (2003)...\n",
      "Downloading 10-Q for MCK (2014)...\n",
      "Downloading 10-Q for HCA (2012)...\n",
      "Downloading 10-Q for ABNB (2003)...\n",
      "Downloading 10-Q for EQIX (2012)...\n"
     ]
    },
    {
     "name": "stderr",
     "output_type": "stream",
     "text": [
      "Downloading SEC Filings:  32%|███▏      | 158/499 [1:01:19<2:37:02, 27.63s/it]"
     ]
    },
    {
     "name": "stdout",
     "output_type": "stream",
     "text": [
      "Downloading 10-Q for ABNB (2004)...\n",
      "Downloading 10-Q for PBR (2009)...\n",
      "Downloading 10-Q for MCO (2012)...\n",
      "Downloading 10-Q for TRI (2000)...\n",
      "Downloading 10-Q for TRI (2001)...\n",
      "Downloading 10-Q for ABNB (2005)...\n",
      "Downloading 10-Q for PH (2005)...\n",
      "Downloading 10-Q for TRI (2002)...\n",
      "Downloading 10-Q for AJG (2017)...\n",
      "Downloading 10-Q for ABNB (2006)...\n",
      "Error occurred while downloading filing for accession number {}: {} 0000050863-14-000032 HTTPSConnectionPool(host='www.sec.gov', port=443): Max retries exceeded with url: /Archives/edgar/data/50863/000005086314000032/0000050863-14-000032.txt (Caused by ConnectTimeoutError(<urllib3.connection.HTTPSConnection object at 0x00000145251B8560>, 'Connection to www.sec.gov timed out. (connect timeout=None)'))\n",
      "Downloading 10-Q for INTC (2015)...\n",
      "Downloading 10-Q for CVS (2016)...\n",
      "Downloading 10-Q for PBR (2010)...\n",
      "Downloading 10-Q for TRI (2003)...\n",
      "Downloading 10-Q for CTAS (2012)...\n",
      "Downloading 10-Q for REGN (2004)...\n",
      "Downloading 10-Q for AON (2017)...\n",
      "Downloading 10-Q for TRI (2004)...\n",
      "Downloading 10-Q for ABNB (2007)...\n",
      "Downloading 10-Q for GS (2021)...\n",
      "Downloading 10-Q for TRI (2005)...\n",
      "Downloading 10-Q for MMM (2012)...\n",
      "Downloading 10-Q for ABNB (2008)...\n",
      "Downloading 10-Q for TRI (2006)...\n",
      "Downloading 10-Q for PBR (2011)...\n",
      "Downloading 10-Q for TRI (2007)...\n",
      "Downloading 10-Q for PH (2006)...\n",
      "Downloading 10-Q for HCA (2013)...\n",
      "Downloading 10-Q for TRI (2008)...\n",
      "Downloading 10-Q for ABNB (2009)...\n",
      "Downloading 10-Q for REGN (2005)...\n",
      "Downloading 10-Q for TRI (2009)...\n",
      "Downloading 10-Q for PBR (2012)...\n",
      "Downloading 10-Q for EQIX (2013)...\n",
      "Downloading 10-Q for ABNB (2010)...\n",
      "Downloading 10-Q for TRI (2010)...\n",
      "Downloading 10-Q for TRI (2011)...\n",
      "Downloading 10-Q for ABNB (2011)...\n",
      "Downloading 10-Q for TRI (2012)...\n",
      "Downloading 10-Q for PBR (2013)...\n",
      "Downloading 10-Q for MCO (2013)...\n",
      "Downloading 10-Q for TRI (2013)...\n",
      "Downloading 10-Q for PH (2007)...\n",
      "Downloading 10-Q for ABNB (2012)...\n",
      "Downloading 10-Q for TRI (2014)...\n",
      "Downloading 10-Q for CVS (2017)...\n",
      "Downloading 10-Q for TRI (2015)...\n",
      "Downloading 10-Q for REGN (2006)...\n",
      "Downloading 10-Q for AJG (2018)...\n",
      "Downloading 10-Q for ABNB (2013)...\n",
      "Downloading 10-Q for PBR (2014)...\n",
      "Downloading 10-Q for TRI (2016)...\n",
      "Downloading 10-Q for AON (2018)...\n",
      "Downloading 10-Q for TRI (2017)...\n",
      "Downloading 10-Q for ABNB (2014)...\n",
      "Downloading 10-Q for INTC (2016)...\n",
      "Downloading 10-Q for TRI (2018)...\n",
      "Downloading 10-Q for TRI (2019)...\n",
      "Downloading 10-Q for MCK (2015)...\n",
      "Downloading 10-Q for ABNB (2015)...\n",
      "Downloading 10-Q for PBR (2015)...\n",
      "Downloading 10-Q for PH (2008)...\n",
      "Downloading 10-Q for TRI (2020)...\n",
      "Downloading 10-Q for TRI (2021)...\n",
      "Downloading 10-Q for CTAS (2013)...\n",
      "Downloading 10-Q for ABNB (2016)...\n"
     ]
    },
    {
     "name": "stderr",
     "output_type": "stream",
     "text": [
      "Downloading SEC Filings:  32%|███▏      | 159/499 [1:02:03<3:05:17, 32.70s/it]"
     ]
    },
    {
     "name": "stdout",
     "output_type": "stream",
     "text": [
      "Downloading 10-Q for REGN (2007)...\n",
      "Downloading 10-Q for MMM (2013)...\n",
      "Downloading 10-Q for ABNB (2017)...\n",
      "Downloading 10-Q for PBR (2016)...\n",
      "Downloading 10-Q for DASH (2000)...\n",
      "Downloading 10-Q for DASH (2001)...\n",
      "Downloading 10-Q for HCA (2014)...\n",
      "Downloading 10-Q for ABNB (2018)...\n",
      "Downloading 10-Q for DASH (2002)...\n",
      "Downloading 10-Q for DASH (2003)...\n",
      "Downloading 10-Q for ABNB (2019)...\n",
      "Downloading 10-Q for PBR (2017)...\n",
      "Downloading 10-Q for AJG (2019)...\n",
      "Downloading 10-Q for PH (2009)...\n",
      "Downloading 10-Q for REGN (2008)...\n",
      "Downloading 10-Q for DASH (2004)...\n",
      "Downloading 10-Q for CVS (2018)...\n",
      "Downloading 10-Q for ABNB (2020)...\n",
      "Downloading 10-Q for DASH (2005)...\n",
      "Downloading 10-Q for DASH (2006)...\n",
      "Downloading 10-Q for MCK (2016)...\n",
      "Downloading 10-Q for PBR (2018)...\n",
      "Downloading 10-Q for DASH (2007)...\n",
      "Downloading 10-Q for ABNB (2021)...\n",
      "Downloading 10-Q for SO (2019)...\n",
      "Downloading 10-Q for DASH (2008)...\n",
      "Downloading 10-Q for AON (2019)...\n",
      "Downloading 10-Q for MCO (2014)...\n",
      "Downloading 10-Q for DASH (2009)...\n",
      "Downloading 10-Q for PBR (2019)...\n",
      "Downloading 10-Q for EQIX (2014)...\n",
      "Downloading 10-Q for DASH (2010)...\n",
      "Downloading 10-Q for REGN (2009)...\n",
      "Downloading 10-Q for DASH (2011)...\n",
      "Downloading 10-Q for INTC (2017)...\n",
      "Downloading 10-Q for PH (2010)...\n",
      "Downloading 10-Q for DASH (2012)...\n",
      "Downloading 10-Q for DASH (2013)...\n",
      "Downloading 10-Q for DASH (2014)...\n",
      "Downloading 10-Q for CTAS (2014)...\n",
      "Error downloading 10-Q for PBR in 2019: ('Connection aborted.', RemoteDisconnected('Remote end closed connection without response'))\n",
      "Downloading 10-Q for PBR (2020)...\n",
      "Error occurred while downloading filing for accession number {}: {} 0001193125-14-387388 HTTPSConnectionPool(host='www.sec.gov', port=443): Max retries exceeded with url: /Archives/edgar/data/1059556/000119312514387388/0001193125-14-387388.txt (Caused by ConnectTimeoutError(<urllib3.connection.HTTPSConnection object at 0x00000145298F0500>, 'Connection to www.sec.gov timed out. (connect timeout=None)'))\n",
      "Error occurred while downloading filing for accession number {}: {} 0001193125-14-402944 HTTPSConnectionPool(host='www.sec.gov', port=443): Max retries exceeded with url: /Archives/edgar/data/1101239/000119312514402944/0001193125-14-402944.txt (Caused by ConnectTimeoutError(<urllib3.connection.HTTPSConnection object at 0x0000014527FCD6A0>, 'Connection to www.sec.gov timed out. (connect timeout=None)'))\n",
      "Error downloading 10-Q for CTAS in 2014: HTTPSConnectionPool(host='data.sec.gov', port=443): Max retries exceeded with url: /submissions/CIK0000723254-submissions-001.json (Caused by ConnectTimeoutError(<urllib3.connection.HTTPSConnection object at 0x000001452820BCE0>, 'Connection to data.sec.gov timed out. (connect timeout=None)'))\n",
      "Downloading 10-Q for CTAS (2015)...\n",
      "Error occurred while downloading filing for accession number {}: {} 0001193125-14-303273 HTTPSConnectionPool(host='www.sec.gov', port=443): Max retries exceeded with url: /Archives/edgar/data/1101239/000119312514303273/0001193125-14-303273.txt (Caused by ConnectTimeoutError(<urllib3.connection.HTTPSConnection object at 0x0000014526E06030>, 'Connection to www.sec.gov timed out. (connect timeout=None)'))\n",
      "Error downloading 10-Q for PBR in 2020: ('Connection aborted.', RemoteDisconnected('Remote end closed connection without response'))\n",
      "Downloading 10-Q for PBR (2021)...\n",
      "Downloading 10-Q for DASH (2015)...\n",
      "Downloading 10-Q for DASH (2016)...\n",
      "Downloading 10-Q for DASH (2017)...\n",
      "Error occurred while downloading filing for accession number {}: {}Error occurred while downloading filing for accession number {}: {} 0001193125-10-251281 HTTPSConnectionPool(host='www.sec.gov', port=443): Max retries exceeded with url: /Archives/edgar/data/76334/000119312510251281/0001193125-10-251281.txt (Caused by NameResolutionError(\"<urllib3.connection.HTTPSConnection object at 0x0000014527CDCB90>: Failed to resolve 'www.sec.gov' ([Errno 11001] getaddrinfo failed)\"))\n",
      "Error occurred while downloading filing for accession number {}: {} 0001193125-14-179863 HTTPSConnectionPool(host='www.sec.gov', port=443): Max retries exceeded with url: /Archives/edgar/data/1101239/000119312514179863/0001193125-14-179863.txt (Caused by NameResolutionError(\"<urllib3.connection.HTTPSConnection object at 0x0000014527CDC650>: Failed to resolve 'www.sec.gov' ([Errno 11001] getaddrinfo failed)\"))\n",
      "Downloading 10-Q for EQIX (2015)...\n",
      "Error occurred while downloading filing for accession number {}: {} 0000050863-17-000041 HTTPSConnectionPool(host='www.sec.gov', port=443): Max retries exceeded with url: /Archives/edgar/data/50863/000005086317000041/0000050863-17-000041.txt (Caused by NameResolutionError(\"<urllib3.connection.HTTPSConnection object at 0x000001452A9FBC80>: Failed to resolve 'www.sec.gov' ([Errno 11001] getaddrinfo failed)\"))\n",
      " 0001193125-21-313689 HTTPSConnectionPool(host='www.sec.gov', port=443): Max retries exceeded with url: /Archives/edgar/data/886982/000119312521313689/0001193125-21-313689.txt (Caused by NameResolutionError(\"<urllib3.connection.HTTPSConnection object at 0x00000145277366F0>: Failed to resolve 'www.sec.gov' ([Errno 11001] getaddrinfo failed)\"))\n",
      "Downloading 10-Q for DASH (2018)...\n"
     ]
    },
    {
     "name": "stderr",
     "output_type": "stream",
     "text": [
      "Downloading SEC Filings:  32%|███▏      | 160/499 [1:03:53<5:14:48, 55.72s/it]"
     ]
    },
    {
     "name": "stdout",
     "output_type": "stream",
     "text": [
      "Error downloading 10-Q for CTAS in 2015: HTTPSConnectionPool(host='data.sec.gov', port=443): Max retries exceeded with url: /submissions/CIK0000723254.json (Caused by SSLError(SSLEOFError(8, '[SSL: UNEXPECTED_EOF_WHILE_READING] EOF occurred in violation of protocol (_ssl.c:1010)')))\n",
      "Downloading 10-Q for CTAS (2016)...\n",
      "Error occurred while downloading filing for accession number {}: {} 0001193125-14-289987 ('Connection aborted.', RemoteDisconnected('Remote end closed connection without response'))\n"
     ]
    },
    {
     "name": "stderr",
     "output_type": "stream",
     "text": [
      "Downloading SEC Filings:  32%|███▏      | 161/499 [1:04:00<3:51:51, 41.16s/it]"
     ]
    },
    {
     "name": "stdout",
     "output_type": "stream",
     "text": [
      "Error occurred while downloading filing for accession number {}: {}Error occurred while downloading filing for accession number {}: {} 0001193125-21-235309 HTTPSConnectionPool(host='www.sec.gov', port=443): Max retries exceeded with url: /Archives/edgar/data/886982/000119312521235309/0001193125-21-235309.txt (Caused by NameResolutionError(\"<urllib3.connection.HTTPSConnection object at 0x00000145273B9F70>: Failed to resolve 'www.sec.gov' ([Errno 11001] getaddrinfo failed)\"))\n",
      "Error occurred while downloading filing for accession number {}: {} 0000050863-17-000029 HTTPSConnectionPool(host='www.sec.gov', port=443): Max retries exceeded with url: /Archives/edgar/data/50863/000005086317000029/0000050863-17-000029.txt (Caused by NameResolutionError(\"<urllib3.connection.HTTPSConnection object at 0x00000145273BB470>: Failed to resolve 'www.sec.gov' ([Errno 11001] getaddrinfo failed)\"))\n",
      "Downloading 10-Q for INTC (2018)...\n",
      "Error occurred while downloading filing for accession number {}: {} 0001628280-21-010389 HTTPSConnectionPool(host='www.sec.gov', port=443): Max retries exceeded with url: /Archives/edgar/data/1559720/000162828021010389/0001628280-21-010389.txt (Caused by NameResolutionError(\"<urllib3.connection.HTTPSConnection object at 0x00000145273BB140>: Failed to resolve 'www.sec.gov' ([Errno 11001] getaddrinfo failed)\"))\n",
      "Error occurred while downloading filing for accession number {}: {} 0001193125-14-173598 HTTPSConnectionPool(host='www.sec.gov', port=443): Max retries exceeded with url: /Archives/edgar/data/1059556/000119312514173598/0001193125-14-173598.txt (Caused by NameResolutionError(\"<urllib3.connection.HTTPSConnection object at 0x00000145297ED2B0>: Failed to resolve 'www.sec.gov' ([Errno 11001] getaddrinfo failed)\"))\n",
      "Downloading 10-Q for MCO (2015)...\n",
      " 0001193125-10-107930 HTTPSConnectionPool(host='www.sec.gov', port=443): Max retries exceeded with url: /Archives/edgar/data/76334/000119312510107930/0001193125-10-107930.txt (Caused by NameResolutionError(\"<urllib3.connection.HTTPSConnection object at 0x00000145273B9D90>: Failed to resolve 'www.sec.gov' ([Errno 11001] getaddrinfo failed)\"))\n",
      "Error downloading CL: HTTPSConnectionPool(host='www.sec.gov', port=443): Max retries exceeded with url: /files/company_tickers_exchange.json (Caused by NameResolutionError(\"<urllib3.connection.HTTPSConnection object at 0x0000014532287800>: Failed to resolve 'www.sec.gov' ([Errno 11001] getaddrinfo failed)\"))\n",
      "Downloading 10-Q for DASH (2019)...\n",
      "Downloading 10-Q for DASH (2020)...\n",
      "Downloading 10-Q for DASH (2021)...\n",
      "Downloading 10-Q for MCK (2017)...\n",
      "Downloading 10-Q for FTNT (2000)...\n",
      "Downloading 10-Q for PH (2011)...\n",
      "Downloading 10-Q for FTNT (2001)...\n",
      "Downloading 10-Q for FTNT (2002)...\n",
      "Downloading 10-Q for HCA (2015)...\n",
      "Downloading 10-Q for CTAS (2017)...\n",
      "Downloading 10-Q for MMM (2014)...\n",
      "Downloading 10-Q for FTNT (2003)...\n",
      "Downloading 10-Q for AJG (2020)...\n",
      "Downloading 10-Q for EQIX (2016)...\n",
      "Downloading 10-Q for FTNT (2004)...\n",
      "Downloading 10-Q for PH (2012)...\n",
      "Downloading 10-Q for CVS (2019)...\n",
      "Downloading 10-Q for FTNT (2005)...\n",
      "Downloading 10-Q for MCK (2018)...\n"
     ]
    },
    {
     "name": "stderr",
     "output_type": "stream",
     "text": [
      "Downloading SEC Filings:  33%|███▎      | 164/499 [1:04:51<2:23:14, 25.65s/it]"
     ]
    },
    {
     "name": "stdout",
     "output_type": "stream",
     "text": [
      "Downloading 10-Q for FTNT (2006)...\n",
      "Downloading 10-Q for ORLY (2000)...\n",
      "Downloading 10-Q for INTC (2019)...\n",
      "Downloading 10-Q for MCO (2016)...\n",
      "Downloading 10-Q for TT (2000)...\n",
      "Downloading 10-Q for DUK (2017)...\n",
      "Downloading 10-Q for FTNT (2007)...\n",
      "Downloading 10-Q for TT (2001)...\n",
      "Downloading 10-Q for FTNT (2008)...\n",
      "Downloading 10-Q for TT (2002)...\n",
      "Downloading 10-Q for REGN (2010)...\n",
      "Downloading 10-Q for AON (2020)...\n",
      "Downloading 10-Q for ORLY (2001)...\n",
      "Downloading 10-Q for FTNT (2009)...\n",
      "Downloading 10-Q for TT (2003)...\n",
      "Downloading 10-Q for CTAS (2018)...\n",
      "Downloading 10-Q for HCA (2016)...\n",
      "Downloading 10-Q for TT (2004)...\n",
      "Downloading 10-Q for FTNT (2010)...\n",
      "Downloading 10-Q for BAM (2000)...\n",
      "Downloading 10-Q for BAM (2001)...\n",
      "Downloading 10-Q for EQIX (2017)...\n",
      "Downloading 10-Q for ORLY (2002)...\n",
      "Downloading 10-Q for BAM (2002)...\n",
      "Downloading 10-Q for TT (2005)...\n",
      "Downloading 10-Q for BAM (2003)...\n",
      "Downloading 10-Q for BAM (2004)...\n",
      "Downloading 10-Q for BAM (2005)...\n",
      "Downloading 10-Q for TT (2006)...\n",
      "Downloading 10-Q for BAM (2006)...\n",
      "Downloading 10-Q for REGN (2011)...\n",
      "Downloading 10-Q for PH (2013)...\n",
      "Downloading 10-Q for FTNT (2011)...\n",
      "Downloading 10-Q for BAM (2007)...\n",
      "Downloading 10-Q for ORLY (2003)...\n",
      "Downloading 10-Q for BAM (2008)...\n",
      "Downloading 10-Q for TT (2007)...\n",
      "Downloading 10-Q for BAM (2009)...\n",
      "Downloading 10-Q for JPM (2020)...\n",
      "Downloading 10-Q for MCK (2019)...\n",
      "Downloading 10-Q for TT (2008)...\n",
      "Downloading 10-Q for BAM (2010)...\n",
      "Downloading 10-Q for BAM (2011)...\n",
      "Downloading 10-Q for MCO (2017)...\n",
      "Downloading 10-Q for TT (2009)...\n",
      "Downloading 10-Q for HCA (2017)...\n",
      "Downloading 10-Q for BAM (2012)...\n",
      "Downloading 10-Q for FTNT (2012)...\n",
      "Downloading 10-Q for BAM (2013)...\n",
      "Downloading 10-Q for ORLY (2004)...\n",
      "Downloading 10-Q for DUK (2018)...\n",
      "Downloading 10-Q for CTAS (2019)...\n",
      "Downloading 10-Q for BAM (2014)...\n",
      "Downloading 10-Q for BAM (2015)...\n",
      "Downloading 10-Q for BAM (2016)...\n",
      "Downloading 10-Q for BAM (2017)...\n",
      "Downloading 10-Q for REGN (2012)...\n",
      "Downloading 10-Q for BAM (2018)...\n",
      "Downloading 10-Q for ORLY (2005)...\n",
      "Downloading 10-Q for BAM (2019)...\n",
      "Downloading 10-Q for TT (2010)...\n",
      "Downloading 10-Q for BAM (2020)...\n",
      "Downloading 10-Q for PH (2014)...\n",
      "Downloading 10-Q for BAM (2021)...\n"
     ]
    },
    {
     "name": "stderr",
     "output_type": "stream",
     "text": [
      "Downloading SEC Filings:  33%|███▎      | 165/499 [1:06:34<4:15:39, 45.93s/it]"
     ]
    },
    {
     "name": "stdout",
     "output_type": "stream",
     "text": [
      "Downloading 10-Q for ITW (2000)...\n",
      "Downloading 10-Q for AJG (2021)...\n",
      "Downloading 10-Q for MCK (2020)...\n",
      "Downloading 10-Q for EQIX (2018)...\n",
      "Downloading 10-Q for MMM (2015)...\n",
      "Downloading 10-Q for ORLY (2006)...\n",
      "Downloading 10-Q for MCO (2018)...\n",
      "Downloading 10-Q for HCA (2018)...\n",
      "Downloading 10-Q for AON (2021)...\n",
      "Downloading 10-Q for ITW (2001)...\n",
      "Downloading 10-Q for REGN (2013)...\n",
      "Downloading 10-Q for SO (2020)...\n",
      "Downloading 10-Q for TT (2011)...\n",
      "Downloading 10-Q for FTNT (2013)...\n",
      "Downloading 10-Q for INTC (2020)...\n",
      "Downloading 10-Q for ORLY (2007)...\n",
      "Downloading 10-Q for CTAS (2020)...\n",
      "Downloading 10-Q for ITW (2002)...\n",
      "Downloading 10-Q for PH (2015)...\n",
      "Downloading 10-Q for ORLY (2008)...\n",
      "Downloading 10-Q for CVS (2020)...\n",
      "Downloading 10-Q for MCO (2019)...\n",
      "Downloading 10-Q for HCA (2019)...\n",
      "Downloading 10-Q for ITW (2003)...\n",
      "Downloading 10-Q for ORLY (2009)...\n",
      "Downloading 10-Q for TT (2012)...\n",
      "Downloading 10-Q for REGN (2014)...\n",
      "Downloading 10-Q for C (2015)...\n",
      "Downloading 10-Q for MCK (2021)...\n",
      "Downloading 10-Q for FTNT (2014)...\n",
      "Downloading 10-Q for ORLY (2010)...\n",
      "Downloading 10-Q for EQIX (2019)...\n"
     ]
    },
    {
     "name": "stderr",
     "output_type": "stream",
     "text": [
      "Downloading SEC Filings:  33%|███▎      | 167/499 [1:09:09<5:03:05, 54.78s/it]"
     ]
    },
    {
     "name": "stdout",
     "output_type": "stream",
     "text": [
      "Downloading 10-Q for APH (2000)...\n",
      "Downloading 10-Q for ITW (2004)...\n",
      "Downloading 10-Q for APO (2000)...\n",
      "Downloading 10-Q for CTAS (2021)...\n",
      "Downloading 10-Q for APO (2001)...\n",
      "Downloading 10-Q for APO (2002)...\n",
      "Downloading 10-Q for APO (2003)...\n",
      "Downloading 10-Q for APO (2004)...\n",
      "Downloading 10-Q for APH (2001)...\n",
      "Downloading 10-Q for APO (2005)...\n",
      "Downloading 10-Q for MMM (2016)...\n",
      "Downloading 10-Q for APO (2006)...\n",
      "Downloading 10-Q for INTC (2021)...\n",
      "Downloading 10-Q for APO (2007)...\n",
      "Downloading 10-Q for APO (2008)...\n",
      "Downloading 10-Q for APO (2009)...\n",
      "Downloading 10-Q for PH (2016)...\n",
      "Downloading 10-Q for ITW (2005)...\n",
      "Downloading 10-Q for APH (2002)...\n",
      "Downloading 10-Q for APO (2010)...\n",
      "Downloading 10-Q for ORLY (2011)...\n",
      "Downloading 10-Q for APO (2011)...\n",
      "Downloading 10-Q for APO (2012)...\n",
      "Downloading 10-Q for APO (2013)...\n"
     ]
    },
    {
     "name": "stderr",
     "output_type": "stream",
     "text": [
      "Downloading SEC Filings:  34%|███▎      | 168/499 [1:10:22<5:31:34, 60.10s/it]"
     ]
    },
    {
     "name": "stdout",
     "output_type": "stream",
     "text": [
      "Downloading 10-Q for APO (2014)...\n",
      "Downloading 10-Q for APO (2015)...\n",
      "Downloading 10-Q for APH (2003)...\n",
      "Downloading 10-Q for APO (2016)...\n",
      "Downloading 10-Q for TDG (2000)...\n",
      "Downloading 10-Q for APO (2017)...\n",
      "Downloading 10-Q for APO (2018)...\n",
      "Downloading 10-Q for TDG (2001)...\n",
      "Downloading 10-Q for APO (2019)...\n",
      "Downloading 10-Q for ITW (2006)...\n",
      "Downloading 10-Q for APO (2020)...\n",
      "Downloading 10-Q for HCA (2020)...\n",
      "Downloading 10-Q for APO (2021)...\n",
      "Downloading 10-Q for TDG (2002)...\n",
      "Downloading 10-Q for APH (2004)...\n",
      "Downloading 10-Q for EQIX (2020)...\n"
     ]
    },
    {
     "name": "stderr",
     "output_type": "stream",
     "text": [
      "Downloading SEC Filings:  34%|███▍      | 169/499 [1:10:44<4:29:51, 49.06s/it]"
     ]
    },
    {
     "name": "stdout",
     "output_type": "stream",
     "text": [
      "Downloading 10-Q for MCO (2020)...\n"
     ]
    },
    {
     "name": "stderr",
     "output_type": "stream",
     "text": [
      "Downloading SEC Filings:  34%|███▍      | 170/499 [1:10:48<3:17:02, 35.94s/it]"
     ]
    },
    {
     "name": "stdout",
     "output_type": "stream",
     "text": [
      "Downloading 10-Q for TDG (2003)...\n",
      "Downloading 10-Q for ZTS (2000)...\n",
      "Downloading 10-Q for ECL (2000)...\n",
      "Downloading 10-Q for REGN (2015)...\n",
      "Downloading 10-Q for TDG (2004)...\n",
      "Downloading 10-Q for FTNT (2015)...\n",
      "Downloading 10-Q for ZTS (2001)...\n",
      "Downloading 10-Q for APH (2005)...\n",
      "Downloading 10-Q for PH (2017)...\n",
      "Downloading 10-Q for ORLY (2012)...\n",
      "Downloading 10-Q for CVS (2021)...\n",
      "Downloading 10-Q for TDG (2005)...\n",
      "Downloading 10-Q for ZTS (2002)...\n",
      "Downloading 10-Q for DUK (2019)...\n",
      "Downloading 10-Q for ZTS (2003)...\n",
      "Downloading 10-Q for TDG (2006)...\n",
      "Downloading 10-Q for ECL (2001)...\n",
      "Downloading 10-Q for ITW (2007)...\n",
      "Downloading 10-Q for APH (2006)...\n",
      "Downloading 10-Q for ZTS (2004)...\n",
      "Downloading 10-Q for ZTS (2005)...\n",
      "Downloading 10-Q for TDG (2007)...\n",
      "Downloading 10-Q for TT (2013)...\n",
      "Downloading 10-Q for ZTS (2006)...\n",
      "Downloading 10-Q for ECL (2002)...\n",
      "Downloading 10-Q for MMM (2017)...\n",
      "Downloading 10-Q for ZTS (2007)...\n",
      "Downloading 10-Q for APH (2007)...\n",
      "Downloading 10-Q for ORLY (2013)...\n",
      "Downloading 10-Q for ITW (2008)...\n",
      "Downloading 10-Q for HCA (2021)...\n",
      "Downloading 10-Q for TDG (2008)...\n",
      "Downloading 10-Q for ZTS (2008)...\n",
      "Downloading 10-Q for REGN (2016)...\n",
      "Downloading 10-Q for FTNT (2016)...\n",
      "Downloading 10-Q for PH (2018)...\n"
     ]
    },
    {
     "name": "stderr",
     "output_type": "stream",
     "text": [
      "Downloading SEC Filings:  34%|███▍      | 171/499 [1:12:04<4:20:12, 47.60s/it]"
     ]
    },
    {
     "name": "stdout",
     "output_type": "stream",
     "text": [
      "Downloading 10-Q for ZTS (2009)...\n",
      "Downloading 10-Q for ECL (2003)...\n",
      "Downloading 10-Q for SE (2000)...\n",
      "Downloading 10-Q for ZTS (2010)...\n",
      "Downloading 10-Q for SE (2001)...\n",
      "Downloading 10-Q for APH (2008)...\n",
      "Downloading 10-Q for SE (2002)...\n",
      "Downloading 10-Q for TDG (2009)...\n",
      "Downloading 10-Q for ZTS (2011)...\n",
      "Downloading 10-Q for SE (2003)...\n",
      "Downloading 10-Q for SE (2004)...\n",
      "Downloading 10-Q for SE (2005)...\n",
      "Downloading 10-Q for ZTS (2012)...\n",
      "Downloading 10-Q for SE (2006)...\n",
      "Downloading 10-Q for SE (2007)...\n",
      "Downloading 10-Q for ECL (2004)...\n",
      "Downloading 10-Q for APH (2009)...\n",
      "Downloading 10-Q for ITW (2009)...\n",
      "Downloading 10-Q for ORLY (2014)...\n",
      "Downloading 10-Q for SE (2008)...\n",
      "Downloading 10-Q for ZTS (2013)...\n",
      "Downloading 10-Q for TDG (2010)...\n",
      "Downloading 10-Q for SE (2009)...\n",
      "Downloading 10-Q for SE (2010)...\n",
      "Downloading 10-Q for SE (2011)...\n",
      "Downloading 10-Q for SE (2012)...\n",
      "Downloading 10-Q for MMM (2018)...\n",
      "Downloading 10-Q for SE (2013)...\n"
     ]
    },
    {
     "name": "stderr",
     "output_type": "stream",
     "text": [
      "Downloading SEC Filings:  34%|███▍      | 172/499 [1:12:34<3:51:45, 42.53s/it]"
     ]
    },
    {
     "name": "stdout",
     "output_type": "stream",
     "text": [
      "Downloading 10-Q for SO (2021)...\n",
      "Downloading 10-Q for SE (2014)...\n",
      "Downloading 10-Q for SE (2015)...\n",
      "Downloading 10-Q for RSG (2000)...\n",
      "Downloading 10-Q for ECL (2005)...\n",
      "Downloading 10-Q for SE (2016)...\n",
      "Downloading 10-Q for APH (2010)...\n",
      "Downloading 10-Q for SE (2017)...\n",
      "Downloading 10-Q for SE (2018)...\n",
      "Downloading 10-Q for TDG (2011)...\n",
      "Downloading 10-Q for SE (2019)...\n",
      "Downloading 10-Q for PH (2019)...\n",
      "Downloading 10-Q for SE (2020)...\n",
      "Downloading 10-Q for SE (2021)...\n"
     ]
    },
    {
     "name": "stderr",
     "output_type": "stream",
     "text": [
      "Downloading SEC Filings:  35%|███▍      | 174/499 [1:12:59<2:21:48, 26.18s/it]"
     ]
    },
    {
     "name": "stdout",
     "output_type": "stream",
     "text": [
      "Downloading 10-Q for RSG (2001)...\n",
      "Downloading 10-Q for ECL (2006)...\n",
      "Downloading 10-Q for ITW (2010)...\n",
      "Downloading 10-Q for IBKR (2000)...\n",
      "Downloading 10-Q for EPD (2000)...\n",
      "Downloading 10-Q for IBKR (2001)...\n",
      "Downloading 10-Q for REGN (2017)...\n",
      "Downloading 10-Q for IBKR (2002)...\n",
      "Downloading 10-Q for ORLY (2015)...\n",
      "Downloading 10-Q for APH (2011)...\n",
      "Downloading 10-Q for RSG (2002)...\n",
      "Downloading 10-Q for ECL (2007)...\n",
      "Downloading 10-Q for EPD (2001)...\n",
      "Downloading 10-Q for IBKR (2003)...\n",
      "Downloading 10-Q for IBKR (2004)...\n",
      "Downloading 10-Q for IBKR (2005)...\n",
      "Downloading 10-Q for MMM (2019)...\n",
      "Downloading 10-Q for RSG (2003)...\n",
      "Downloading 10-Q for EPD (2002)...\n",
      "Downloading 10-Q for IBKR (2006)...\n",
      "Downloading 10-Q for ECL (2008)...\n",
      "Downloading 10-Q for FTNT (2017)...\n",
      "Downloading 10-Q for IBKR (2007)...\n",
      "Downloading 10-Q for ITW (2011)...\n",
      "Downloading 10-Q for RSG (2004)...\n",
      "Downloading 10-Q for ORLY (2016)...\n",
      "Downloading 10-Q for ECL (2009)...\n",
      "Downloading 10-Q for EPD (2003)...\n",
      "Downloading 10-Q for IBKR (2008)...\n",
      "Downloading 10-Q for PH (2020)...\n",
      "Downloading 10-Q for ZTS (2014)...\n",
      "Downloading 10-Q for RSG (2005)...\n",
      "Downloading 10-Q for APH (2012)...\n",
      "Downloading 10-Q for EPD (2004)...\n",
      "Downloading 10-Q for ITW (2012)...\n",
      "Downloading 10-Q for ECL (2010)...\n",
      "Downloading 10-Q for REGN (2018)...\n",
      "Downloading 10-Q for IBKR (2009)...\n",
      "Downloading 10-Q for ORLY (2017)...\n",
      "Downloading 10-Q for DUK (2020)...\n",
      "Downloading 10-Q for RSG (2006)...\n",
      "Downloading 10-Q for TT (2014)...\n",
      "Downloading 10-Q for MCO (2021)...\n",
      "Downloading 10-Q for IBKR (2010)...\n",
      "Downloading 10-Q for PH (2021)...\n",
      "Downloading 10-Q for EQIX (2021)...\n",
      "Downloading 10-Q for RSG (2007)...\n",
      "Downloading 10-Q for MMM (2020)...\n",
      "Downloading 10-Q for APH (2013)...\n",
      "Downloading 10-Q for FTNT (2018)...\n",
      "Downloading 10-Q for ORLY (2018)...\n",
      "Downloading 10-Q for ZTS (2015)...\n"
     ]
    },
    {
     "name": "stderr",
     "output_type": "stream",
     "text": [
      "Downloading SEC Filings:  35%|███▌      | 175/499 [1:16:06<6:40:39, 74.19s/it]"
     ]
    },
    {
     "name": "stdout",
     "output_type": "stream",
     "text": [
      "Error occurred while downloading filing for accession number {}: {} 0001326160-20-000201 ('Connection broken: IncompleteRead(6134 bytes read, 4106 more expected)', IncompleteRead(6134 bytes read, 4106 more expected))\n",
      "Error occurred while downloading filing for accession number {}: {} 0001061219-04-000080 ('Connection aborted.', RemoteDisconnected('Remote end closed connection without response'))\n",
      "Downloading 10-Q for EPD (2005)...\n",
      "Error occurred while downloading filing for accession number {}: {} 0000950144-07-004309 Response ended prematurely\n",
      "Downloading 10-Q for RSG (2008)...\n",
      "Error occurred while downloading filing for accession number {}: {} 0000831001-15-000111 ('Connection broken: IncompleteRead(4103055 bytes read, 1653232 more expected)', IncompleteRead(4103055 bytes read, 1653232 more expected))\n",
      "Error occurred while downloading filing for accession number {}: {} 0001381197-10-000009 ('Connection aborted.', ConnectionAbortedError(10053, 'Kurulan bir bağlantı, ana makinenizdeki yazılım tarafından iptal edildi', None, 10053, None))\n",
      "Downloading 10-Q for IBKR (2011)...\n",
      "Error occurred while downloading filing for accession number {}: {} 0001193125-11-027069 ('Connection broken: IncompleteRead(1832 bytes read, 8408 more expected)', IncompleteRead(1832 bytes read, 8408 more expected))\n",
      "Downloading 10-Q for TDG (2012)...\n",
      "Error occurred while downloading filing for accession number {}: {} 0001532176-18-000028 ('Connection broken: IncompleteRead(3010 bytes read, 7230 more expected)', IncompleteRead(3010 bytes read, 7230 more expected))\n",
      "Error occurred while downloading filing for accession number {}: {} 0001059556-21-000030 ('Connection broken: IncompleteRead(7976 bytes read, 2264 more expected)', IncompleteRead(7976 bytes read, 2264 more expected))\n",
      "Error occurred while downloading filing for accession number {}: {} 0001262039-18-000040 ('Connection broken: IncompleteRead(4899 bytes read, 5341 more expected)', IncompleteRead(4899 bytes read, 5341 more expected))\n",
      "Error occurred while downloading filing for accession number {}: {} 0001466258-14-000044 ('Connection broken: IncompleteRead(8310 bytes read, 1930 more expected)', IncompleteRead(8310 bytes read, 1930 more expected))\n",
      "Error occurred while downloading filing for accession number {}: {} 0000076334-21-000111 ('Connection broken: IncompleteRead(803871 bytes read, 74406 more expected)', IncompleteRead(803871 bytes read, 74406 more expected))\n",
      "Error occurred while downloading filing for accession number {}: {} 0001628280-21-015030 ('Connection broken: IncompleteRead(208806 bytes read, 3308392 more expected)', IncompleteRead(208806 bytes read, 3308392 more expected))\n",
      "Error occurred while downloading filing for accession number {}: {} 0000049826-12-000065 ('Connection broken: IncompleteRead(487641 bytes read, 229374 more expected)', IncompleteRead(487641 bytes read, 229374 more expected))\n",
      "Error occurred while downloading filing for accession number {}: {} 0000898173-18-000198 ('Connection aborted.', ConnectionAbortedError(10053, 'Kurulan bir bağlantı, ana makinenizdeki yazılım tarafından iptal edildi', None, 10053, None))\n",
      "Error occurred while downloading filing for accession number {}: {} 0001558370-20-011804 ('Connection broken: IncompleteRead(1643080 bytes read, 454016 more expected)', IncompleteRead(1643080 bytes read, 454016 more expected))\n",
      "Error downloading 10-Q for ZTS in 2015: ('Connection aborted.', ConnectionAbortedError(10053, 'Kurulan bir bağlantı, ana makinenizdeki yazılım tarafından iptal edildi', None, 10053, None))\n",
      "Downloading 10-Q for ZTS (2016)...\n",
      "Error occurred while downloading filing for accession number {}: {} 0001104659-13-079916 ('Connection broken: IncompleteRead(243476 bytes read, 644825 more expected)', IncompleteRead(243476 bytes read, 644825 more expected))\n",
      "Error occurred while downloading filing for accession number {}: {} 0000092122-21-000037 ('Connection broken: IncompleteRead(210482 bytes read, 2343328 more expected)', IncompleteRead(210482 bytes read, 2343328 more expected))\n",
      "Error downloading 10-Q for IBKR in 2011: HTTPSConnectionPool(host='data.sec.gov', port=443): Max retries exceeded with url: /submissions/CIK0001381197.json (Caused by NameResolutionError(\"<urllib3.connection.HTTPSConnection object at 0x000001452A731D60>: Failed to resolve 'data.sec.gov' ([Errno 11001] getaddrinfo failed)\"))\n",
      "Downloading 10-Q for IBKR (2012)...\n",
      "Error occurred while downloading filing for accession number {}: {} 0001104659-10-025985 ('Connection broken: IncompleteRead(136356 bytes read, 172952 more expected)', IncompleteRead(136356 bytes read, 172952 more expected))\n",
      "Downloading 10-Q for ECL (2011)...\n",
      "Error downloading 10-Q for TDG in 2012: HTTPSConnectionPool(host='data.sec.gov', port=443): Max retries exceeded with url: /submissions/CIK0001260221.json (Caused by NameResolutionError(\"<urllib3.connection.HTTPSConnection object at 0x00000145272223C0>: Failed to resolve 'data.sec.gov' ([Errno 11001] getaddrinfo failed)\"))\n",
      "Downloading 10-Q for TDG (2013)...\n",
      "Error downloading 10-Q for EPD in 2005: HTTPSConnectionPool(host='data.sec.gov', port=443): Max retries exceeded with url: /submissions/CIK0001061219.json (Caused by NameResolutionError(\"<urllib3.connection.HTTPSConnection object at 0x0000014528439400>: Failed to resolve 'data.sec.gov' ([Errno 11001] getaddrinfo failed)\"))\n",
      "Downloading 10-Q for EPD (2006)...\n",
      "Error occurred while downloading filing for accession number {}: {} 0001532176-18-000020 HTTPSConnectionPool(host='www.sec.gov', port=443): Max retries exceeded with url: /Archives/edgar/data/872589/000153217618000020/0001532176-18-000020.txt (Caused by NameResolutionError(\"<urllib3.connection.HTTPSConnection object at 0x0000014527B9E7E0>: Failed to resolve 'www.sec.gov' ([Errno 11001] getaddrinfo failed)\"))\n",
      "Downloading 10-Q for REGN (2019)...\n",
      "Error occurred while downloading filing for accession number {}: {} 0001326160-20-000152 HTTPSConnectionPool(host='www.sec.gov', port=443): Max retries exceeded with url: /Archives/edgar/data/1326160/000132616020000152/0001326160-20-000152.txt (Caused by NameResolutionError(\"<urllib3.connection.HTTPSConnection object at 0x000001452824FFE0>: Failed to resolve 'www.sec.gov' ([Errno 11001] getaddrinfo failed)\"))\n",
      "Downloading 10-Q for DUK (2021)...\n",
      "Error occurred while downloading filing for accession number {}: {} 0000831001-15-000056 HTTPSConnectionPool(host='www.sec.gov', port=443): Max retries exceeded with url: /Archives/edgar/data/831001/000083100115000056/0000831001-15-000056.txt (Caused by NameResolutionError(\"<urllib3.connection.HTTPSConnection object at 0x0000014529AD3F20>: Failed to resolve 'www.sec.gov' ([Errno 11001] getaddrinfo failed)\"))\n",
      "Downloading 10-Q for C (2016)...\n",
      "Error occurred while downloading filing for accession number {}: {} 0000019617-20-000438 ('Connection broken: IncompleteRead(5437906 bytes read, 299184 more expected)', IncompleteRead(5437906 bytes read, 299184 more expected))\n",
      "Error downloading 10-Q for RSG in 2008: HTTPSConnectionPool(host='data.sec.gov', port=443): Max retries exceeded with url: /submissions/CIK0001060391.json (Caused by NameResolutionError(\"<urllib3.connection.HTTPSConnection object at 0x0000014527FB4980>: Failed to resolve 'data.sec.gov' ([Errno 11001] getaddrinfo failed)\"))\n",
      "Downloading 10-Q for RSG (2009)...\n"
     ]
    },
    {
     "name": "stderr",
     "output_type": "stream",
     "text": [
      "Downloading SEC Filings:  35%|███▌      | 176/499 [1:16:06<4:40:23, 52.09s/it]"
     ]
    },
    {
     "name": "stdout",
     "output_type": "stream",
     "text": [
      "Error occurred while downloading filing for accession number {}: {} 0001466258-14-000021 HTTPSConnectionPool(host='www.sec.gov', port=443): Max retries exceeded with url: /Archives/edgar/data/1466258/000146625814000021/0001466258-14-000021.txt (Caused by NameResolutionError(\"<urllib3.connection.HTTPSConnection object at 0x0000014527DDC260>: Failed to resolve 'www.sec.gov' ([Errno 11001] getaddrinfo failed)\"))\n",
      "Downloading 10-Q for TT (2015)...\n",
      "Error occurred while downloading filing for accession number {}: {} 0000076334-21-000029 HTTPSConnectionPool(host='www.sec.gov', port=443): Max retries exceeded with url: /Archives/edgar/data/76334/000007633421000029/0000076334-21-000029.txt (Caused by NameResolutionError(\"<urllib3.connection.HTTPSConnection object at 0x0000014523C07BF0>: Failed to resolve 'www.sec.gov' ([Errno 11001] getaddrinfo failed)\"))\n",
      "Error occurred while downloading filing for accession number {}: {} 0001262039-18-000029 HTTPSConnectionPool(host='www.sec.gov', port=443): Max retries exceeded with url: /Archives/edgar/data/1262039/000126203918000029/0001262039-18-000029.txt (Caused by NameResolutionError(\"<urllib3.connection.HTTPSConnection object at 0x000001452CA33560>: Failed to resolve 'www.sec.gov' ([Errno 11001] getaddrinfo failed)\"))\n"
     ]
    },
    {
     "name": "stderr",
     "output_type": "stream",
     "text": [
      "Downloading SEC Filings:  35%|███▌      | 177/499 [1:16:07<3:16:59, 36.71s/it]"
     ]
    },
    {
     "name": "stdout",
     "output_type": "stream",
     "text": [
      "Error downloading 10-Q for ZTS in 2016: HTTPSConnectionPool(host='data.sec.gov', port=443): Max retries exceeded with url: /submissions/CIK0001555280.json (Caused by NameResolutionError(\"<urllib3.connection.HTTPSConnection object at 0x0000014527B9F380>: Failed to resolve 'data.sec.gov' ([Errno 11001] getaddrinfo failed)\"))\n",
      "Downloading 10-Q for ZTS (2017)...\n",
      "Error occurred while downloading filing for accession number {}: {} 0001628280-21-008434 HTTPSConnectionPool(host='www.sec.gov', port=443): Max retries exceeded with url: /Archives/edgar/data/1101239/000162828021008434/0001628280-21-008434.txt (Caused by NameResolutionError(\"<urllib3.connection.HTTPSConnection object at 0x000001452A9BB680>: Failed to resolve 'www.sec.gov' ([Errno 11001] getaddrinfo failed)\"))\n",
      "Error occurred while downloading filing for accession number {}: {} 0001558370-20-008507 HTTPSConnectionPool(host='www.sec.gov', port=443): Max retries exceeded with url: /Archives/edgar/data/66740/000155837020008507/0001558370-20-008507.txt (Caused by NameResolutionError(\"<urllib3.connection.HTTPSConnection object at 0x000001452A9B8980>: Failed to resolve 'www.sec.gov' ([Errno 11001] getaddrinfo failed)\"))\n",
      "Error occurred while downloading filing for accession number {}: {} 0001059556-21-000025 HTTPSConnectionPool(host='www.sec.gov', port=443): Max retries exceeded with url: /Archives/edgar/data/1059556/000105955621000025/0001059556-21-000025.txt (Caused by NameResolutionError(\"<urllib3.connection.HTTPSConnection object at 0x000001452A9B8260>: Failed to resolve 'www.sec.gov' ([Errno 11001] getaddrinfo failed)\"))\n",
      "Error occurred while downloading filing for accession number {}: {} 0000898173-18-000168 HTTPSConnectionPool(host='www.sec.gov', port=443): Max retries exceeded with url: /Archives/edgar/data/898173/000089817318000168/0000898173-18-000168.txt (Caused by NameResolutionError(\"<urllib3.connection.HTTPSConnection object at 0x000001452A9B9190>: Failed to resolve 'www.sec.gov' ([Errno 11001] getaddrinfo failed)\"))\n",
      "Error occurred while downloading filing for accession number {}: {} 0001104659-13-059242 HTTPSConnectionPool(host='www.sec.gov', port=443): Max retries exceeded with url: /Archives/edgar/data/820313/000110465913059242/0001104659-13-059242.txt (Caused by NameResolutionError(\"<urllib3.connection.HTTPSConnection object at 0x000001452A9B9580>: Failed to resolve 'www.sec.gov' ([Errno 11001] getaddrinfo failed)\"))\n",
      "Error downloading GD: HTTPSConnectionPool(host='www.sec.gov', port=443): Max retries exceeded with url: /files/company_tickers_exchange.json (Caused by NameResolutionError(\"<urllib3.connection.HTTPSConnection object at 0x000001452A9BBDA0>: Failed to resolve 'www.sec.gov' ([Errno 11001] getaddrinfo failed)\"))\n",
      "Error occurred while downloading filing for accession number {}: {} 0000049826-12-000037 HTTPSConnectionPool(host='www.sec.gov', port=443): Max retries exceeded with url: /Archives/edgar/data/49826/000004982612000037/0000049826-12-000037.txt (Caused by NameResolutionError(\"<urllib3.connection.HTTPSConnection object at 0x000001452A9BA2D0>: Failed to resolve 'www.sec.gov' ([Errno 11001] getaddrinfo failed)\"))\n",
      "Downloading 10-Q for ITW (2013)...\n",
      "Error downloading 10-Q for ECL in 2011: HTTPSConnectionPool(host='data.sec.gov', port=443): Max retries exceeded with url: /submissions/CIK0000031462.json (Caused by NameResolutionError(\"<urllib3.connection.HTTPSConnection object at 0x000001452A9B9FA0>: Failed to resolve 'data.sec.gov' ([Errno 11001] getaddrinfo failed)\"))\n",
      "Downloading 10-Q for ECL (2012)...\n",
      "Error downloading 10-Q for IBKR in 2012: HTTPSConnectionPool(host='data.sec.gov', port=443): Max retries exceeded with url: /submissions/CIK0001381197.json (Caused by NameResolutionError(\"<urllib3.connection.HTTPSConnection object at 0x000001452A9BB0E0>: Failed to resolve 'data.sec.gov' ([Errno 11001] getaddrinfo failed)\"))\n",
      "Downloading 10-Q for IBKR (2013)...\n"
     ]
    },
    {
     "name": "stderr",
     "output_type": "stream",
     "text": [
      "Downloading SEC Filings:  36%|███▌      | 179/499 [1:16:08<1:46:47, 20.02s/it]"
     ]
    },
    {
     "name": "stdout",
     "output_type": "stream",
     "text": [
      "Error downloading 10-Q for TDG in 2013: HTTPSConnectionPool(host='data.sec.gov', port=443): Max retries exceeded with url: /submissions/CIK0001260221.json (Caused by NameResolutionError(\"<urllib3.connection.HTTPSConnection object at 0x0000014527A07830>: Failed to resolve 'data.sec.gov' ([Errno 11001] getaddrinfo failed)\"))\n",
      "Downloading 10-Q for TDG (2014)...\n",
      "Error downloading 10-Q for EPD in 2006: HTTPSConnectionPool(host='data.sec.gov', port=443): Max retries exceeded with url: /submissions/CIK0001061219.json (Caused by NameResolutionError(\"<urllib3.connection.HTTPSConnection object at 0x000001452842CF20>: Failed to resolve 'data.sec.gov' ([Errno 11001] getaddrinfo failed)\"))\n",
      "Downloading 10-Q for EPD (2007)...\n",
      "Error occurred while downloading filing for accession number {}: {} 0000019617-20-000372 HTTPSConnectionPool(host='www.sec.gov', port=443): Max retries exceeded with url: /Archives/edgar/data/19617/000001961720000372/0000019617-20-000372.txt (Caused by NameResolutionError(\"<urllib3.connection.HTTPSConnection object at 0x000001452842E6C0>: Failed to resolve 'www.sec.gov' ([Errno 11001] getaddrinfo failed)\"))\n",
      "Error downloading 10-Q for C in 2016: HTTPSConnectionPool(host='data.sec.gov', port=443): Max retries exceeded with url: /submissions/CIK0000831001.json (Caused by NameResolutionError(\"<urllib3.connection.HTTPSConnection object at 0x000001452A9B90D0>: Failed to resolve 'data.sec.gov' ([Errno 11001] getaddrinfo failed)\"))\n",
      "Downloading 10-Q for C (2017)...\n",
      "Error downloading 10-Q for REGN in 2019: HTTPSConnectionPool(host='data.sec.gov', port=443): Max retries exceeded with url: /submissions/CIK0000872589.json (Caused by NameResolutionError(\"<urllib3.connection.HTTPSConnection object at 0x0000014523C228A0>: Failed to resolve 'data.sec.gov' ([Errno 11001] getaddrinfo failed)\"))\n",
      "Downloading 10-Q for REGN (2020)...\n",
      "Error downloading 10-Q for DUK in 2021: HTTPSConnectionPool(host='data.sec.gov', port=443): Max retries exceeded with url: /submissions/CIK0001326160.json (Caused by NameResolutionError(\"<urllib3.connection.HTTPSConnection object at 0x000001452A9BACC0>: Failed to resolve 'data.sec.gov' ([Errno 11001] getaddrinfo failed)\"))\n",
      "Error downloading 10-Q for RSG in 2009: HTTPSConnectionPool(host='data.sec.gov', port=443): Max retries exceeded with url: /submissions/CIK0001060391.json (Caused by NameResolutionError(\"<urllib3.connection.HTTPSConnection object at 0x000001452A9B9EB0>: Failed to resolve 'data.sec.gov' ([Errno 11001] getaddrinfo failed)\"))\n",
      "Downloading 10-Q for RSG (2010)...\n"
     ]
    },
    {
     "name": "stderr",
     "output_type": "stream",
     "text": [
      "Downloading SEC Filings:  36%|███▌      | 180/499 [1:16:08<1:20:31, 15.15s/it]"
     ]
    },
    {
     "name": "stdout",
     "output_type": "stream",
     "text": [
      "Error downloading 10-Q for TT in 2015: HTTPSConnectionPool(host='data.sec.gov', port=443): Max retries exceeded with url: /submissions/CIK0001466258.json (Caused by NameResolutionError(\"<urllib3.connection.HTTPSConnection object at 0x000001452842F8C0>: Failed to resolve 'data.sec.gov' ([Errno 11001] getaddrinfo failed)\"))\n",
      "Downloading 10-Q for TT (2016)...\n",
      "Error downloading NOC: HTTPSConnectionPool(host='www.sec.gov', port=443): Max retries exceeded with url: /files/company_tickers_exchange.json (Caused by NameResolutionError(\"<urllib3.connection.HTTPSConnection object at 0x000001452842EA80>: Failed to resolve 'www.sec.gov' ([Errno 11001] getaddrinfo failed)\"))\n",
      "Error occurred while downloading filing for accession number {}: {} 0001262039-18-000019 HTTPSConnectionPool(host='www.sec.gov', port=443): Max retries exceeded with url: /Archives/edgar/data/1262039/000126203918000019/0001262039-18-000019.txt (Caused by NameResolutionError(\"<urllib3.connection.HTTPSConnection object at 0x000001452842E600>: Failed to resolve 'www.sec.gov' ([Errno 11001] getaddrinfo failed)\"))\n",
      "Downloading 10-Q for FTNT (2019)...\n"
     ]
    },
    {
     "name": "stderr",
     "output_type": "stream",
     "text": [
      "Downloading SEC Filings:  36%|███▋      | 181/499 [1:16:09<1:00:16, 11.37s/it]"
     ]
    },
    {
     "name": "stdout",
     "output_type": "stream",
     "text": [
      "Error occurred while downloading filing for accession number {}: {} 0001558370-20-004478 HTTPSConnectionPool(host='www.sec.gov', port=443): Max retries exceeded with url: /Archives/edgar/data/66740/000155837020004478/0001558370-20-004478.txt (Caused by NameResolutionError(\"<urllib3.connection.HTTPSConnection object at 0x000001452842C8C0>: Failed to resolve 'www.sec.gov' ([Errno 11001] getaddrinfo failed)\"))\n",
      "Downloading 10-Q for MMM (2021)...\n",
      "Error occurred while downloading filing for accession number {}: {} 0000898173-18-000103 HTTPSConnectionPool(host='www.sec.gov', port=443): Max retries exceeded with url: /Archives/edgar/data/898173/000089817318000103/0000898173-18-000103.txt (Caused by NameResolutionError(\"<urllib3.connection.HTTPSConnection object at 0x000001452842E780>: Failed to resolve 'www.sec.gov' ([Errno 11001] getaddrinfo failed)\"))\n",
      "Downloading 10-Q for ORLY (2019)...\n",
      "Error occurred while downloading filing for accession number {}: {} 0001059556-21-000015 HTTPSConnectionPool(host='www.sec.gov', port=443): Max retries exceeded with url: /Archives/edgar/data/1059556/000105955621000015/0001059556-21-000015.txt (Caused by NameResolutionError(\"<urllib3.connection.HTTPSConnection object at 0x000001452842EB40>: Failed to resolve 'www.sec.gov' ([Errno 11001] getaddrinfo failed)\"))\n",
      "Error downloading 10-Q for ZTS in 2017: HTTPSConnectionPool(host='data.sec.gov', port=443): Max retries exceeded with url: /submissions/CIK0001555280.json (Caused by NameResolutionError(\"<urllib3.connection.HTTPSConnection object at 0x0000014523C21A90>: Failed to resolve 'data.sec.gov' ([Errno 11001] getaddrinfo failed)\"))\n",
      "Downloading 10-Q for ZTS (2018)...\n",
      "Error downloading SCCO: HTTPSConnectionPool(host='www.sec.gov', port=443): Max retries exceeded with url: /files/company_tickers_exchange.json (Caused by NameResolutionError(\"<urllib3.connection.HTTPSConnection object at 0x000001452A9BB830>: Failed to resolve 'www.sec.gov' ([Errno 11001] getaddrinfo failed)\"))\n",
      "Error occurred while downloading filing for accession number {}: {} 0001104659-13-037040 HTTPSConnectionPool(host='www.sec.gov', port=443): Max retries exceeded with url: /Archives/edgar/data/820313/000110465913037040/0001104659-13-037040.txt (Caused by NameResolutionError(\"<urllib3.connection.HTTPSConnection object at 0x000001452A9BA600>: Failed to resolve 'www.sec.gov' ([Errno 11001] getaddrinfo failed)\"))\n",
      "Downloading 10-Q for APH (2014)...\n",
      "Error downloading BMO: HTTPSConnectionPool(host='www.sec.gov', port=443): Max retries exceeded with url: /files/company_tickers_exchange.json (Caused by NameResolutionError(\"<urllib3.connection.HTTPSConnection object at 0x000001452842D0D0>: Failed to resolve 'www.sec.gov' ([Errno 11001] getaddrinfo failed)\"))\n",
      "Error downloading 10-Q for ITW in 2013: HTTPSConnectionPool(host='data.sec.gov', port=443): Max retries exceeded with url: /submissions/CIK0000049826.json (Caused by NameResolutionError(\"<urllib3.connection.HTTPSConnection object at 0x000001452842D2E0>: Failed to resolve 'data.sec.gov' ([Errno 11001] getaddrinfo failed)\"))\n",
      "Downloading 10-Q for ITW (2014)...\n",
      "Error downloading 10-Q for IBKR in 2013: HTTPSConnectionPool(host='data.sec.gov', port=443): Max retries exceeded with url: /submissions/CIK0001381197.json (Caused by NameResolutionError(\"<urllib3.connection.HTTPSConnection object at 0x000001452A8DBB00>: Failed to resolve 'data.sec.gov' ([Errno 11001] getaddrinfo failed)\"))\n",
      "Downloading 10-Q for IBKR (2014)...\n",
      "Error downloading 10-Q for ECL in 2012: HTTPSConnectionPool(host='data.sec.gov', port=443): Max retries exceeded with url: /submissions/CIK0000031462.json (Caused by NameResolutionError(\"<urllib3.connection.HTTPSConnection object at 0x000001452A8DAD80>: Failed to resolve 'data.sec.gov' ([Errno 11001] getaddrinfo failed)\"))\n",
      "Downloading 10-Q for ECL (2013)...\n"
     ]
    },
    {
     "name": "stderr",
     "output_type": "stream",
     "text": [
      "Downloading SEC Filings:  37%|███▋      | 184/499 [1:16:10<29:07,  5.55s/it]  "
     ]
    },
    {
     "name": "stdout",
     "output_type": "stream",
     "text": [
      "Error downloading 10-Q for C in 2017: HTTPSConnectionPool(host='data.sec.gov', port=443): Max retries exceeded with url: /submissions/CIK0000831001.json (Caused by NameResolutionError(\"<urllib3.connection.HTTPSConnection object at 0x0000014523C21AF0>: Failed to resolve 'data.sec.gov' ([Errno 11001] getaddrinfo failed)\"))\n",
      "Downloading 10-Q for C (2018)...\n",
      "Error occurred while downloading filing for accession number {}: {} 0000019617-20-000299 HTTPSConnectionPool(host='www.sec.gov', port=443): Max retries exceeded with url: /Archives/edgar/data/19617/000001961720000299/0000019617-20-000299.txt (Caused by NameResolutionError(\"<urllib3.connection.HTTPSConnection object at 0x000001452A9ED3A0>: Failed to resolve 'www.sec.gov' ([Errno 11001] getaddrinfo failed)\"))\n",
      "Downloading 10-Q for JPM (2021)...\n",
      "Error downloading 10-Q for TDG in 2014: HTTPSConnectionPool(host='data.sec.gov', port=443): Max retries exceeded with url: /submissions/CIK0001260221.json (Caused by NameResolutionError(\"<urllib3.connection.HTTPSConnection object at 0x000001452A9ED070>: Failed to resolve 'data.sec.gov' ([Errno 11001] getaddrinfo failed)\"))\n",
      "Downloading 10-Q for TDG (2015)...\n",
      "Error downloading 10-Q for REGN in 2020: HTTPSConnectionPool(host='data.sec.gov', port=443): Max retries exceeded with url: /submissions/CIK0000872589.json (Caused by NameResolutionError(\"<urllib3.connection.HTTPSConnection object at 0x000001452A9EE870>: Failed to resolve 'data.sec.gov' ([Errno 11001] getaddrinfo failed)\"))\n",
      "Downloading 10-Q for REGN (2021)...\n",
      "Error downloading 10-Q for RSG in 2010: HTTPSConnectionPool(host='data.sec.gov', port=443): Max retries exceeded with url: /submissions/CIK0001060391.json (Caused by NameResolutionError(\"<urllib3.connection.HTTPSConnection object at 0x0000014527E4CA70>: Failed to resolve 'data.sec.gov' ([Errno 11001] getaddrinfo failed)\"))\n",
      "Downloading 10-Q for RSG (2011)...\n",
      "Error downloading 10-Q for EPD in 2007: HTTPSConnectionPool(host='data.sec.gov', port=443): Max retries exceeded with url: /submissions/CIK0001061219.json (Caused by NameResolutionError(\"<urllib3.connection.HTTPSConnection object at 0x000001452A9EEC00>: Failed to resolve 'data.sec.gov' ([Errno 11001] getaddrinfo failed)\"))\n",
      "Downloading 10-Q for EPD (2008)...\n",
      "Error downloading GLD: HTTPSConnectionPool(host='www.sec.gov', port=443): Max retries exceeded with url: /files/company_tickers_exchange.json (Caused by NameResolutionError(\"<urllib3.connection.HTTPSConnection object at 0x0000014527E4E5A0>: Failed to resolve 'www.sec.gov' ([Errno 11001] getaddrinfo failed)\"))\n"
     ]
    },
    {
     "name": "stderr",
     "output_type": "stream",
     "text": [
      "Downloading SEC Filings:  37%|███▋      | 185/499 [1:16:11<23:33,  4.50s/it]"
     ]
    },
    {
     "name": "stdout",
     "output_type": "stream",
     "text": [
      "Error downloading 10-Q for TT in 2016: HTTPSConnectionPool(host='data.sec.gov', port=443): Max retries exceeded with url: /submissions/CIK0001466258.json (Caused by NameResolutionError(\"<urllib3.connection.HTTPSConnection object at 0x000001452A9EEB40>: Failed to resolve 'data.sec.gov' ([Errno 11001] getaddrinfo failed)\"))\n",
      "Downloading 10-Q for TT (2017)...\n",
      "Error downloading EOG: HTTPSConnectionPool(host='www.sec.gov', port=443): Max retries exceeded with url: /files/company_tickers_exchange.json (Caused by NameResolutionError(\"<urllib3.connection.HTTPSConnection object at 0x000001452A9EC710>: Failed to resolve 'www.sec.gov' ([Errno 11001] getaddrinfo failed)\"))\n",
      "Error downloading 10-Q for FTNT in 2019: HTTPSConnectionPool(host='data.sec.gov', port=443): Max retries exceeded with url: /submissions/CIK0001262039.json (Caused by NameResolutionError(\"<urllib3.connection.HTTPSConnection object at 0x000001452A9EF080>: Failed to resolve 'data.sec.gov' ([Errno 11001] getaddrinfo failed)\"))\n",
      "Downloading 10-Q for FTNT (2020)...\n"
     ]
    },
    {
     "name": "stderr",
     "output_type": "stream",
     "text": [
      "Downloading SEC Filings:  37%|███▋      | 186/499 [1:16:11<19:03,  3.65s/it]"
     ]
    },
    {
     "name": "stdout",
     "output_type": "stream",
     "text": [
      "Error downloading MSI: HTTPSConnectionPool(host='www.sec.gov', port=443): Max retries exceeded with url: /files/company_tickers_exchange.json (Caused by NameResolutionError(\"<urllib3.connection.HTTPSConnection object at 0x0000014527E4F3B0>: Failed to resolve 'www.sec.gov' ([Errno 11001] getaddrinfo failed)\"))\n",
      "Error downloading 10-Q for MMM in 2021: HTTPSConnectionPool(host='data.sec.gov', port=443): Max retries exceeded with url: /submissions/CIK0000066740.json (Caused by NameResolutionError(\"<urllib3.connection.HTTPSConnection object at 0x000001452A9ECDD0>: Failed to resolve 'data.sec.gov' ([Errno 11001] getaddrinfo failed)\"))\n",
      "Error downloading 10-Q for ORLY in 2019: HTTPSConnectionPool(host='data.sec.gov', port=443): Max retries exceeded with url: /submissions/CIK0000898173.json (Caused by NameResolutionError(\"<urllib3.connection.HTTPSConnection object at 0x000001452A9EC2C0>: Failed to resolve 'data.sec.gov' ([Errno 11001] getaddrinfo failed)\"))\n",
      "Downloading 10-Q for ORLY (2020)...\n",
      "Error downloading 10-Q for ZTS in 2018: HTTPSConnectionPool(host='data.sec.gov', port=443): Max retries exceeded with url: /submissions/CIK0001555280.json (Caused by NameResolutionError(\"<urllib3.connection.HTTPSConnection object at 0x0000014527E4E2A0>: Failed to resolve 'data.sec.gov' ([Errno 11001] getaddrinfo failed)\"))\n",
      "Downloading 10-Q for ZTS (2019)...\n",
      "Error downloading MFG: HTTPSConnectionPool(host='www.sec.gov', port=443): Max retries exceeded with url: /files/company_tickers_exchange.json (Caused by NameResolutionError(\"<urllib3.connection.HTTPSConnection object at 0x0000014527E4CB00>: Failed to resolve 'www.sec.gov' ([Errno 11001] getaddrinfo failed)\"))\n",
      "Error downloading 10-Q for APH in 2014: HTTPSConnectionPool(host='data.sec.gov', port=443): Max retries exceeded with url: /submissions/CIK0000820313.json (Caused by NameResolutionError(\"<urllib3.connection.HTTPSConnection object at 0x0000014527E4D850>: Failed to resolve 'data.sec.gov' ([Errno 11001] getaddrinfo failed)\"))\n",
      "Downloading 10-Q for APH (2015)...\n",
      "Error downloading MAR: HTTPSConnectionPool(host='www.sec.gov', port=443): Max retries exceeded with url: /files/company_tickers_exchange.json (Caused by NameResolutionError(\"<urllib3.connection.HTTPSConnection object at 0x0000014526F6FBF0>: Failed to resolve 'www.sec.gov' ([Errno 11001] getaddrinfo failed)\"))\n",
      "Error downloading 10-Q for ITW in 2014: HTTPSConnectionPool(host='data.sec.gov', port=443): Max retries exceeded with url: /submissions/CIK0000049826.json (Caused by NameResolutionError(\"<urllib3.connection.HTTPSConnection object at 0x0000014526F6FB90>: Failed to resolve 'data.sec.gov' ([Errno 11001] getaddrinfo failed)\"))\n",
      "Downloading 10-Q for ITW (2015)...\n",
      "Error downloading 10-Q for ECL in 2013: HTTPSConnectionPool(host='data.sec.gov', port=443): Max retries exceeded with url: /submissions/CIK0000031462.json (Caused by NameResolutionError(\"<urllib3.connection.HTTPSConnection object at 0x00000145276A3DA0>: Failed to resolve 'data.sec.gov' ([Errno 11001] getaddrinfo failed)\"))\n",
      "Downloading 10-Q for ECL (2014)...\n",
      "Error downloading 10-Q for IBKR in 2014: HTTPSConnectionPool(host='data.sec.gov', port=443): Max retries exceeded with url: /submissions/CIK0001381197.json (Caused by NameResolutionError(\"<urllib3.connection.HTTPSConnection object at 0x00000145276A3740>: Failed to resolve 'data.sec.gov' ([Errno 11001] getaddrinfo failed)\"))\n",
      "Downloading 10-Q for IBKR (2015)...\n"
     ]
    },
    {
     "name": "stderr",
     "output_type": "stream",
     "text": [
      "Downloading SEC Filings:  38%|███▊      | 190/499 [1:16:12<09:02,  1.75s/it]"
     ]
    },
    {
     "name": "stdout",
     "output_type": "stream",
     "text": [
      "Error downloading 10-Q for JPM in 2021: HTTPSConnectionPool(host='data.sec.gov', port=443): Max retries exceeded with url: /submissions/CIK0000019617.json (Caused by NameResolutionError(\"<urllib3.connection.HTTPSConnection object at 0x00000145276A22A0>: Failed to resolve 'data.sec.gov' ([Errno 11001] getaddrinfo failed)\"))Error downloading 10-Q for RSG in 2011: HTTPSConnectionPool(host='data.sec.gov', port=443): Max retries exceeded with url: /submissions/CIK0001060391.json (Caused by NameResolutionError(\"<urllib3.connection.HTTPSConnection object at 0x000001452722FB00>: Failed to resolve 'data.sec.gov' ([Errno 11001] getaddrinfo failed)\"))\n",
      "Downloading 10-Q for RSG (2012)...\n",
      "\n",
      "Error downloading 10-Q for EPD in 2008: HTTPSConnectionPool(host='data.sec.gov', port=443): Max retries exceeded with url: /submissions/CIK0001061219.json (Caused by NameResolutionError(\"<urllib3.connection.HTTPSConnection object at 0x00000145276A1190>: Failed to resolve 'data.sec.gov' ([Errno 11001] getaddrinfo failed)\"))\n",
      "Downloading 10-Q for EPD (2009)...\n",
      "Error downloading 10-Q for C in 2018: HTTPSConnectionPool(host='data.sec.gov', port=443): Max retries exceeded with url: /submissions/CIK0000831001.json (Caused by NameResolutionError(\"<urllib3.connection.HTTPSConnection object at 0x00000145276A3F50>: Failed to resolve 'data.sec.gov' ([Errno 11001] getaddrinfo failed)\"))\n",
      "Downloading 10-Q for C (2019)...\n",
      "Error downloading 10-Q for REGN in 2021: HTTPSConnectionPool(host='data.sec.gov', port=443): Max retries exceeded with url: /submissions/CIK0000872589.json (Caused by NameResolutionError(\"<urllib3.connection.HTTPSConnection object at 0x000001452722F650>: Failed to resolve 'data.sec.gov' ([Errno 11001] getaddrinfo failed)\"))\n",
      "Error downloading CP: HTTPSConnectionPool(host='www.sec.gov', port=443): Max retries exceeded with url: /files/company_tickers_exchange.json (Caused by NameResolutionError(\"<urllib3.connection.HTTPSConnection object at 0x0000014529867FB0>: Failed to resolve 'www.sec.gov' ([Errno 11001] getaddrinfo failed)\"))\n",
      "Error downloading 10-Q for TDG in 2015: HTTPSConnectionPool(host='data.sec.gov', port=443): Max retries exceeded with url: /submissions/CIK0001260221.json (Caused by NameResolutionError(\"<urllib3.connection.HTTPSConnection object at 0x000001452722EFF0>: Failed to resolve 'data.sec.gov' ([Errno 11001] getaddrinfo failed)\"))\n",
      "Downloading 10-Q for TDG (2016)...\n"
     ]
    },
    {
     "name": "stderr",
     "output_type": "stream",
     "text": [
      "Downloading SEC Filings:  39%|███▊      | 193/499 [1:16:13<05:48,  1.14s/it]"
     ]
    },
    {
     "name": "stdout",
     "output_type": "stream",
     "text": [
      "Error downloading 10-Q for TT in 2017: HTTPSConnectionPool(host='data.sec.gov', port=443): Max retries exceeded with url: /submissions/CIK0001466258.json (Caused by NameResolutionError(\"<urllib3.connection.HTTPSConnection object at 0x000001452722E3F0>: Failed to resolve 'data.sec.gov' ([Errno 11001] getaddrinfo failed)\"))\n",
      "Downloading 10-Q for TT (2018)...\n",
      "Error downloading 10-Q for FTNT in 2020: HTTPSConnectionPool(host='data.sec.gov', port=443): Max retries exceeded with url: /submissions/CIK0001262039.json (Caused by NameResolutionError(\"<urllib3.connection.HTTPSConnection object at 0x0000014527E4E060>: Failed to resolve 'data.sec.gov' ([Errno 11001] getaddrinfo failed)\"))\n",
      "Downloading 10-Q for FTNT (2021)...\n",
      "Error downloading NTES: HTTPSConnectionPool(host='www.sec.gov', port=443): Max retries exceeded with url: /files/company_tickers_exchange.json (Caused by NameResolutionError(\"<urllib3.connection.HTTPSConnection object at 0x0000014529867DD0>: Failed to resolve 'www.sec.gov' ([Errno 11001] getaddrinfo failed)\"))\n"
     ]
    },
    {
     "name": "stderr",
     "output_type": "stream",
     "text": [
      "Downloading SEC Filings:  39%|███▉      | 194/499 [1:16:13<05:27,  1.07s/it]"
     ]
    },
    {
     "name": "stdout",
     "output_type": "stream",
     "text": [
      "Error downloading CMG: HTTPSConnectionPool(host='www.sec.gov', port=443): Max retries exceeded with url: /files/company_tickers_exchange.json (Caused by NameResolutionError(\"<urllib3.connection.HTTPSConnection object at 0x00000145298669C0>: Failed to resolve 'www.sec.gov' ([Errno 11001] getaddrinfo failed)\"))Error downloading 10-Q for ORLY in 2020: HTTPSConnectionPool(host='data.sec.gov', port=443): Max retries exceeded with url: /submissions/CIK0000898173.json (Caused by NameResolutionError(\"<urllib3.connection.HTTPSConnection object at 0x0000014529864260>: Failed to resolve 'data.sec.gov' ([Errno 11001] getaddrinfo failed)\"))\n",
      "Downloading 10-Q for ORLY (2021)...\n",
      "Error downloading 10-Q for ZTS in 2019: HTTPSConnectionPool(host='data.sec.gov', port=443): Max retries exceeded with url: /submissions/CIK0001555280.json (Caused by NameResolutionError(\"<urllib3.connection.HTTPSConnection object at 0x00000145322E4230>: Failed to resolve 'data.sec.gov' ([Errno 11001] getaddrinfo failed)\"))\n",
      "Downloading 10-Q for ZTS (2020)...\n",
      "\n",
      "Error downloading 10-Q for APH in 2015: HTTPSConnectionPool(host='data.sec.gov', port=443): Max retries exceeded with url: /submissions/CIK0000820313.json (Caused by NameResolutionError(\"<urllib3.connection.HTTPSConnection object at 0x000001452A78F410>: Failed to resolve 'data.sec.gov' ([Errno 11001] getaddrinfo failed)\"))\n",
      "Downloading 10-Q for APH (2016)...\n",
      "Error downloading PNC: HTTPSConnectionPool(host='www.sec.gov', port=443): Max retries exceeded with url: /files/company_tickers_exchange.json (Caused by NameResolutionError(\"<urllib3.connection.HTTPSConnection object at 0x0000014529865FA0>: Failed to resolve 'www.sec.gov' ([Errno 11001] getaddrinfo failed)\"))\n",
      "Error downloading PYPL: HTTPSConnectionPool(host='www.sec.gov', port=443): Max retries exceeded with url: /files/company_tickers_exchange.json (Caused by NameResolutionError(\"<urllib3.connection.HTTPSConnection object at 0x0000014529865580>: Failed to resolve 'www.sec.gov' ([Errno 11001] getaddrinfo failed)\"))\n",
      "Error downloading 10-Q for ORLY in 2021: HTTPSConnectionPool(host='data.sec.gov', port=443): Max retries exceeded with url: /submissions/CIK0000898173.json (Caused by NameResolutionError(\"<urllib3.connection.HTTPSConnection object at 0x000001452A78EED0>: Failed to resolve 'data.sec.gov' ([Errno 11001] getaddrinfo failed)\"))\n",
      "Error downloading 10-Q for ITW in 2015: HTTPSConnectionPool(host='data.sec.gov', port=443): Max retries exceeded with url: /submissions/CIK0000049826.json (Caused by NameResolutionError(\"<urllib3.connection.HTTPSConnection object at 0x000001452A78E1E0>: Failed to resolve 'data.sec.gov' ([Errno 11001] getaddrinfo failed)\"))\n",
      "Downloading 10-Q for ITW (2016)...\n",
      "Error downloading 10-Q for IBKR in 2015: HTTPSConnectionPool(host='data.sec.gov', port=443): Max retries exceeded with url: /submissions/CIK0001381197.json (Caused by NameResolutionError(\"<urllib3.connection.HTTPSConnection object at 0x000001452A78D070>: Failed to resolve 'data.sec.gov' ([Errno 11001] getaddrinfo failed)\"))\n",
      "Downloading 10-Q for IBKR (2016)...\n",
      "Error downloading 10-Q for ECL in 2014: HTTPSConnectionPool(host='data.sec.gov', port=443): Max retries exceeded with url: /submissions/CIK0000031462.json (Caused by NameResolutionError(\"<urllib3.connection.HTTPSConnection object at 0x000001452A78CC20>: Failed to resolve 'data.sec.gov' ([Errno 11001] getaddrinfo failed)\"))\n",
      "Downloading 10-Q for ECL (2015)...\n"
     ]
    },
    {
     "name": "stderr",
     "output_type": "stream",
     "text": [
      "Downloading SEC Filings:  40%|███▉      | 198/499 [1:16:14<03:30,  1.43it/s]"
     ]
    },
    {
     "name": "stdout",
     "output_type": "stream",
     "text": [
      "Error downloading 10-Q for EPD in 2009: HTTPSConnectionPool(host='data.sec.gov', port=443): Max retries exceeded with url: /submissions/CIK0001061219.json (Caused by NameResolutionError(\"<urllib3.connection.HTTPSConnection object at 0x00000145265A6540>: Failed to resolve 'data.sec.gov' ([Errno 11001] getaddrinfo failed)\"))Error downloading 10-Q for RSG in 2012: HTTPSConnectionPool(host='data.sec.gov', port=443): Max retries exceeded with url: /submissions/CIK0001060391.json (Caused by NameResolutionError(\"<urllib3.connection.HTTPSConnection object at 0x00000145265A7290>: Failed to resolve 'data.sec.gov' ([Errno 11001] getaddrinfo failed)\"))\n",
      "Downloading 10-Q for RSG (2013)...\n",
      "\n",
      "Downloading 10-Q for EPD (2010)...\n",
      "Error downloading SNPS: HTTPSConnectionPool(host='www.sec.gov', port=443): Max retries exceeded with url: /files/company_tickers_exchange.json (Caused by NameResolutionError(\"<urllib3.connection.HTTPSConnection object at 0x00000145265A6960>: Failed to resolve 'www.sec.gov' ([Errno 11001] getaddrinfo failed)\"))\n",
      "Error downloading MSTR: HTTPSConnectionPool(host='www.sec.gov', port=443): Max retries exceeded with url: /files/company_tickers_exchange.json (Caused by NameResolutionError(\"<urllib3.connection.HTTPSConnection object at 0x000001452A647410>: Failed to resolve 'www.sec.gov' ([Errno 11001] getaddrinfo failed)\"))\n",
      "Error downloading 10-Q for TDG in 2016: HTTPSConnectionPool(host='data.sec.gov', port=443): Max retries exceeded with url: /submissions/CIK0001260221.json (Caused by NameResolutionError(\"<urllib3.connection.HTTPSConnection object at 0x00000145265A65A0>: Failed to resolve 'data.sec.gov' ([Errno 11001] getaddrinfo failed)\"))\n",
      "Downloading 10-Q for TDG (2017)...\n",
      "Error downloading 10-Q for C in 2019: HTTPSConnectionPool(host='data.sec.gov', port=443): Max retries exceeded with url: /submissions/CIK0000831001.json (Caused by NameResolutionError(\"<urllib3.connection.HTTPSConnection object at 0x00000145265A5F10>: Failed to resolve 'data.sec.gov' ([Errno 11001] getaddrinfo failed)\"))\n",
      "Downloading 10-Q for C (2020)...\n",
      "Error downloading APD: HTTPSConnectionPool(host='www.sec.gov', port=443): Max retries exceeded with url: /files/company_tickers_exchange.json (Caused by NameResolutionError(\"<urllib3.connection.HTTPSConnection object at 0x000001452A646630>: Failed to resolve 'www.sec.gov' ([Errno 11001] getaddrinfo failed)\"))\n"
     ]
    },
    {
     "name": "stderr",
     "output_type": "stream",
     "text": [
      "Downloading SEC Filings:  40%|████      | 201/499 [1:16:15<02:29,  1.99it/s]"
     ]
    },
    {
     "name": "stdout",
     "output_type": "stream",
     "text": [
      "Error downloading 10-Q for TT in 2018: HTTPSConnectionPool(host='data.sec.gov', port=443): Max retries exceeded with url: /submissions/CIK0001466258.json (Caused by NameResolutionError(\"<urllib3.connection.HTTPSConnection object at 0x000001452A646570>: Failed to resolve 'data.sec.gov' ([Errno 11001] getaddrinfo failed)\"))\n",
      "Downloading 10-Q for TT (2019)...\n",
      "Error downloading 10-Q for FTNT in 2021: HTTPSConnectionPool(host='data.sec.gov', port=443): Max retries exceeded with url: /submissions/CIK0001262039.json (Caused by NameResolutionError(\"<urllib3.connection.HTTPSConnection object at 0x000001452A646EA0>: Failed to resolve 'data.sec.gov' ([Errno 11001] getaddrinfo failed)\"))\n",
      "Error downloading WMB: HTTPSConnectionPool(host='www.sec.gov', port=443): Max retries exceeded with url: /files/company_tickers_exchange.json (Caused by NameResolutionError(\"<urllib3.connection.HTTPSConnection object at 0x000001452A6464E0>: Failed to resolve 'www.sec.gov' ([Errno 11001] getaddrinfo failed)\"))\n"
     ]
    },
    {
     "name": "stderr",
     "output_type": "stream",
     "text": [
      "Downloading SEC Filings:  41%|████      | 203/499 [1:16:15<02:18,  2.14it/s]"
     ]
    },
    {
     "name": "stdout",
     "output_type": "stream",
     "text": [
      "Error downloading USB: HTTPSConnectionPool(host='www.sec.gov', port=443): Max retries exceeded with url: /files/company_tickers_exchange.json (Caused by NameResolutionError(\"<urllib3.connection.HTTPSConnection object at 0x00000145278218B0>: Failed to resolve 'www.sec.gov' ([Errno 11001] getaddrinfo failed)\"))\n",
      "Error downloading EQNR: HTTPSConnectionPool(host='www.sec.gov', port=443): Max retries exceeded with url: /files/company_tickers_exchange.json (Caused by NameResolutionError(\"<urllib3.connection.HTTPSConnection object at 0x0000014527823AD0>: Failed to resolve 'www.sec.gov' ([Errno 11001] getaddrinfo failed)\"))\n",
      "Error downloading CEG: HTTPSConnectionPool(host='www.sec.gov', port=443): Max retries exceeded with url: /files/company_tickers_exchange.json (Caused by NameResolutionError(\"<urllib3.connection.HTTPSConnection object at 0x0000014527822180>: Failed to resolve 'www.sec.gov' ([Errno 11001] getaddrinfo failed)\"))\n",
      "Error downloading 10-Q for ZTS in 2020: HTTPSConnectionPool(host='data.sec.gov', port=443): Max retries exceeded with url: /submissions/CIK0001555280.json (Caused by NameResolutionError(\"<urllib3.connection.HTTPSConnection object at 0x0000014527820C20>: Failed to resolve 'data.sec.gov' ([Errno 11001] getaddrinfo failed)\"))\n",
      "Downloading 10-Q for ZTS (2021)...\n",
      "Error downloading TOELY: HTTPSConnectionPool(host='www.sec.gov', port=443): Max retries exceeded with url: /files/company_tickers_exchange.json (Caused by NameResolutionError(\"<urllib3.connection.HTTPSConnection object at 0x0000014527820BC0>: Failed to resolve 'www.sec.gov' ([Errno 11001] getaddrinfo failed)\"))\n",
      "Error downloading 10-Q for APH in 2016: HTTPSConnectionPool(host='data.sec.gov', port=443): Max retries exceeded with url: /submissions/CIK0000820313.json (Caused by NameResolutionError(\"<urllib3.connection.HTTPSConnection object at 0x00000145285C3E00>: Failed to resolve 'data.sec.gov' ([Errno 11001] getaddrinfo failed)\"))\n",
      "Downloading 10-Q for APH (2017)...\n",
      "Error downloading CDNS: HTTPSConnectionPool(host='www.sec.gov', port=443): Max retries exceeded with url: /files/company_tickers_exchange.json (Caused by NameResolutionError(\"<urllib3.connection.HTTPSConnection object at 0x00000145285C1C70>: Failed to resolve 'www.sec.gov' ([Errno 11001] getaddrinfo failed)\"))\n",
      "Error downloading 10-Q for ITW in 2016: HTTPSConnectionPool(host='data.sec.gov', port=443): Max retries exceeded with url: /submissions/CIK0000049826.json (Caused by NameResolutionError(\"<urllib3.connection.HTTPSConnection object at 0x00000145285C1DC0>: Failed to resolve 'data.sec.gov' ([Errno 11001] getaddrinfo failed)\"))\n",
      "Downloading 10-Q for ITW (2017)...\n",
      "Error downloading 10-Q for IBKR in 2016: HTTPSConnectionPool(host='data.sec.gov', port=443): Max retries exceeded with url: /submissions/CIK0001381197.json (Caused by NameResolutionError(\"<urllib3.connection.HTTPSConnection object at 0x00000145285C22D0>: Failed to resolve 'data.sec.gov' ([Errno 11001] getaddrinfo failed)\"))\n",
      "Downloading 10-Q for IBKR (2017)...\n",
      "Error downloading 10-Q for ECL in 2015: HTTPSConnectionPool(host='data.sec.gov', port=443): Max retries exceeded with url: /submissions/CIK0000031462.json (Caused by NameResolutionError(\"<urllib3.connection.HTTPSConnection object at 0x00000145285C3860>: Failed to resolve 'data.sec.gov' ([Errno 11001] getaddrinfo failed)\"))\n",
      "Downloading 10-Q for ECL (2016)...\n"
     ]
    },
    {
     "name": "stderr",
     "output_type": "stream",
     "text": [
      "Downloading SEC Filings:  42%|████▏     | 208/499 [1:16:17<01:41,  2.87it/s]"
     ]
    },
    {
     "name": "stdout",
     "output_type": "stream",
     "text": [
      "Error downloading 10-Q for RSG in 2013: HTTPSConnectionPool(host='data.sec.gov', port=443): Max retries exceeded with url: /submissions/CIK0001060391.json (Caused by NameResolutionError(\"<urllib3.connection.HTTPSConnection object at 0x00000145285C30B0>: Failed to resolve 'data.sec.gov' ([Errno 11001] getaddrinfo failed)\"))\n",
      "Downloading 10-Q for RSG (2014)...\n",
      "Error downloading WDAY: HTTPSConnectionPool(host='www.sec.gov', port=443): Max retries exceeded with url: /files/company_tickers_exchange.json (Caused by NameResolutionError(\"<urllib3.connection.HTTPSConnection object at 0x00000145285C2C90>: Failed to resolve 'www.sec.gov' ([Errno 11001] getaddrinfo failed)\"))\n",
      "Error downloading 10-Q for EPD in 2010: HTTPSConnectionPool(host='data.sec.gov', port=443): Max retries exceeded with url: /submissions/CIK0001061219.json (Caused by NameResolutionError(\"<urllib3.connection.HTTPSConnection object at 0x000001452630A000>: Failed to resolve 'data.sec.gov' ([Errno 11001] getaddrinfo failed)\"))\n",
      "Downloading 10-Q for EPD (2011)...\n",
      "Error downloading 10-Q for TDG in 2017: HTTPSConnectionPool(host='data.sec.gov', port=443): Max retries exceeded with url: /submissions/CIK0001260221.json (Caused by NameResolutionError(\"<urllib3.connection.HTTPSConnection object at 0x00000145285C39E0>: Failed to resolve 'data.sec.gov' ([Errno 11001] getaddrinfo failed)\"))\n",
      "Downloading 10-Q for TDG (2018)...\n",
      "Error downloading 10-Q for C in 2020: HTTPSConnectionPool(host='data.sec.gov', port=443): Max retries exceeded with url: /submissions/CIK0000831001.json (Caused by NameResolutionError(\"<urllib3.connection.HTTPSConnection object at 0x0000014526309A30>: Failed to resolve 'data.sec.gov' ([Errno 11001] getaddrinfo failed)\"))\n",
      "Downloading 10-Q for C (2021)...\n",
      "Error downloading CRH: HTTPSConnectionPool(host='www.sec.gov', port=443): Max retries exceeded with url: /files/company_tickers_exchange.json (Caused by NameResolutionError(\"<urllib3.connection.HTTPSConnection object at 0x0000014526308FE0>: Failed to resolve 'www.sec.gov' ([Errno 11001] getaddrinfo failed)\"))\n",
      "Error downloading BDX: HTTPSConnectionPool(host='www.sec.gov', port=443): Max retries exceeded with url: /files/company_tickers_exchange.json (Caused by NameResolutionError(\"<urllib3.connection.HTTPSConnection object at 0x0000014526308680>: Failed to resolve 'www.sec.gov' ([Errno 11001] getaddrinfo failed)\"))\n"
     ]
    },
    {
     "name": "stderr",
     "output_type": "stream",
     "text": [
      "Downloading SEC Filings:  42%|████▏     | 211/499 [1:16:17<01:21,  3.54it/s]"
     ]
    },
    {
     "name": "stdout",
     "output_type": "stream",
     "text": [
      "Error downloading 10-Q for TT in 2019: HTTPSConnectionPool(host='data.sec.gov', port=443): Max retries exceeded with url: /submissions/CIK0001466258.json (Caused by NameResolutionError(\"<urllib3.connection.HTTPSConnection object at 0x000001452630A870>: Failed to resolve 'data.sec.gov' ([Errno 11001] getaddrinfo failed)\"))\n",
      "Downloading 10-Q for TT (2020)...\n",
      "Error downloading MBGYY: HTTPSConnectionPool(host='www.sec.gov', port=443): Max retries exceeded with url: /files/company_tickers_exchange.json (Caused by NameResolutionError(\"<urllib3.connection.HTTPSConnection object at 0x000001452630AD80>: Failed to resolve 'www.sec.gov' ([Errno 11001] getaddrinfo failed)\"))\n",
      "Error downloading JD: HTTPSConnectionPool(host='www.sec.gov', port=443): Max retries exceeded with url: /files/company_tickers_exchange.json (Caused by NameResolutionError(\"<urllib3.connection.HTTPSConnection object at 0x0000014527821310>: Failed to resolve 'www.sec.gov' ([Errno 11001] getaddrinfo failed)\"))\n",
      "Downloading 10-Q for CNQ (2000)...\n",
      "Downloading 10-Q for DEO (2000)...\n",
      "Downloading 10-Q for CNQ (2001)...\n",
      "Downloading 10-Q for DEO (2001)...\n",
      "Downloading 10-Q for DELL (2000)...\n",
      "Downloading 10-Q for ING (2000)...\n",
      "Downloading 10-Q for EMR (2000)...\n",
      "Downloading 10-Q for CNQ (2002)...\n",
      "Downloading 10-Q for DEO (2002)...\n",
      "Downloading 10-Q for NGG (2000)...\n",
      "Downloading 10-Q for COF (2000)...\n",
      "Downloading 10-Q for BAESY (2000)...\n",
      "Downloading 10-Q for CNQ (2003)...\n",
      "Downloading 10-Q for BAESY (2001)...\n",
      "Downloading 10-Q for DELL (2001)...\n",
      "Downloading 10-Q for ING (2001)...\n",
      "Downloading 10-Q for DEO (2003)...\n",
      "Downloading 10-Q for BAESY (2002)...\n",
      "Downloading 10-Q for CNQ (2004)...\n",
      "Downloading 10-Q for DEO (2004)...\n",
      "Downloading 10-Q for BAESY (2003)...\n",
      "Downloading 10-Q for NGG (2001)...\n",
      "Downloading 10-Q for CNQ (2005)...\n",
      "Downloading 10-Q for ITW (2018)...\n",
      "Downloading 10-Q for DEO (2005)...\n",
      "Downloading 10-Q for ET (2000)...\n",
      "Downloading 10-Q for BAESY (2004)...\n",
      "Downloading 10-Q for DELL (2002)...\n",
      "Downloading 10-Q for ROP (2000)...\n",
      "Downloading 10-Q for CNQ (2006)...\n",
      "Downloading 10-Q for ING (2002)...\n",
      "Downloading 10-Q for BAESY (2005)...\n",
      "Downloading 10-Q for DEO (2006)...\n",
      "Downloading 10-Q for CNQ (2007)...\n",
      "Downloading 10-Q for DELL (2003)...\n",
      "Downloading 10-Q for NGG (2002)...\n",
      "Downloading 10-Q for ET (2001)...\n",
      "Downloading 10-Q for BAESY (2006)...\n",
      "Downloading 10-Q for DEO (2007)...\n",
      "Downloading 10-Q for CNQ (2008)...\n",
      "Downloading 10-Q for EMR (2001)...\n",
      "Downloading 10-Q for ING (2003)...\n",
      "Downloading 10-Q for BAESY (2007)...\n",
      "Downloading 10-Q for DELL (2004)...\n",
      "Downloading 10-Q for DEO (2008)...\n",
      "Downloading 10-Q for CNQ (2009)...\n",
      "Downloading 10-Q for BAESY (2008)...\n",
      "Downloading 10-Q for ET (2002)...\n",
      "Downloading 10-Q for APH (2018)...\n",
      "Downloading 10-Q for NGG (2003)...\n",
      "Downloading 10-Q for CNQ (2010)...\n",
      "Downloading 10-Q for DEO (2009)...\n",
      "Downloading 10-Q for COF (2001)...\n",
      "Downloading 10-Q for BAESY (2009)...\n",
      "Downloading 10-Q for ING (2004)...\n",
      "Downloading 10-Q for ROP (2001)...\n",
      "Downloading 10-Q for CNQ (2011)...\n",
      "Downloading 10-Q for DEO (2010)...\n",
      "Downloading 10-Q for ET (2003)...\n",
      "Downloading 10-Q for DEO (2011)...\n",
      "Downloading 10-Q for ING (2005)...\n",
      "Downloading 10-Q for DEO (2012)...\n",
      "Downloading 10-Q for ET (2004)...\n",
      "Downloading 10-Q for BAESY (2010)...\n",
      "Downloading 10-Q for IBKR (2018)...\n",
      "Downloading 10-Q for ING (2006)...\n",
      "Downloading 10-Q for DEO (2013)...\n",
      "Downloading 10-Q for BAESY (2011)...\n",
      "Downloading 10-Q for DELL (2005)...\n",
      "Downloading 10-Q for CNQ (2012)...\n",
      "Downloading 10-Q for BAESY (2012)...\n",
      "Downloading 10-Q for ET (2005)...\n",
      "Downloading 10-Q for DEO (2014)...\n",
      "Downloading 10-Q for ROP (2002)...\n",
      "Downloading 10-Q for BAESY (2013)...\n",
      "Downloading 10-Q for DELL (2006)...\n",
      "Downloading 10-Q for DEO (2015)...\n",
      "Downloading 10-Q for ING (2007)...\n",
      "Downloading 10-Q for CNQ (2013)...\n",
      "Downloading 10-Q for EMR (2002)...\n",
      "Downloading 10-Q for BAESY (2014)...\n",
      "Downloading 10-Q for NGG (2004)...\n",
      "Downloading 10-Q for ET (2006)...\n",
      "Downloading 10-Q for DEO (2016)...\n",
      "Downloading 10-Q for BAESY (2015)...\n",
      "Downloading 10-Q for ITW (2019)...\n",
      "Downloading 10-Q for DELL (2007)...\n",
      "Downloading 10-Q for DEO (2017)...\n",
      "Downloading 10-Q for BAESY (2016)...\n",
      "Downloading 10-Q for ING (2008)...\n",
      "Downloading 10-Q for CNQ (2014)...\n",
      "Downloading 10-Q for ECL (2017)...\n"
     ]
    },
    {
     "name": "stderr",
     "output_type": "stream",
     "text": [
      "Downloading SEC Filings:  43%|████▎     | 213/499 [1:17:20<33:09,  6.96s/it]"
     ]
    },
    {
     "name": "stdout",
     "output_type": "stream",
     "text": [
      "Downloading 10-Q for BAESY (2017)...\n",
      "Downloading 10-Q for DEO (2018)...\n",
      "Downloading 10-Q for CNQ (2015)...\n",
      "Downloading 10-Q for NGG (2005)...\n",
      "Downloading 10-Q for COF (2002)...\n",
      "Downloading 10-Q for BAESY (2018)...\n",
      "Downloading 10-Q for ING (2009)...\n",
      "Downloading 10-Q for CNQ (2016)...\n",
      "Downloading 10-Q for DEO (2019)...\n",
      "Downloading 10-Q for ROP (2003)...\n",
      "Downloading 10-Q for DELL (2008)...\n",
      "Downloading 10-Q for EMR (2003)...\n",
      "Downloading 10-Q for BAESY (2019)...\n",
      "Downloading 10-Q for AZO (2000)...\n",
      "Downloading 10-Q for CNQ (2017)...\n",
      "Downloading 10-Q for DEO (2020)...\n",
      "Downloading 10-Q for NGG (2006)...\n",
      "Downloading 10-Q for BAESY (2020)...\n",
      "Downloading 10-Q for CNQ (2018)...\n",
      "Downloading 10-Q for ING (2010)...\n",
      "Downloading 10-Q for DEO (2021)...\n",
      "Downloading 10-Q for DELL (2009)...\n",
      "Downloading 10-Q for ET (2007)...\n",
      "Downloading 10-Q for BAESY (2021)...\n",
      "Downloading 10-Q for CNQ (2019)...\n"
     ]
    },
    {
     "name": "stderr",
     "output_type": "stream",
     "text": [
      "Downloading SEC Filings:  43%|████▎     | 214/499 [1:17:27<33:06,  6.97s/it]"
     ]
    },
    {
     "name": "stdout",
     "output_type": "stream",
     "text": [
      "Downloading 10-Q for NGG (2007)...\n"
     ]
    },
    {
     "name": "stderr",
     "output_type": "stream",
     "text": [
      "Downloading SEC Filings:  43%|████▎     | 215/499 [1:17:29<28:46,  6.08s/it]"
     ]
    },
    {
     "name": "stdout",
     "output_type": "stream",
     "text": [
      "Downloading 10-Q for CNQ (2020)...\n",
      "Downloading 10-Q for ING (2011)...\n",
      "Downloading 10-Q for APH (2019)...\n",
      "Downloading 10-Q for DELL (2010)...\n",
      "Downloading 10-Q for CNI (2000)...\n",
      "Downloading 10-Q for TT (2021)...\n",
      "Downloading 10-Q for BNS (2000)...\n",
      "Downloading 10-Q for ING (2012)...\n",
      "Downloading 10-Q for EMR (2004)...\n",
      "Downloading 10-Q for DELL (2011)...\n",
      "Downloading 10-Q for CNI (2001)...\n",
      "Downloading 10-Q for NGG (2008)...\n",
      "Downloading 10-Q for CNQ (2021)...\n",
      "Downloading 10-Q for ING (2013)...\n",
      "Downloading 10-Q for ITW (2020)...\n",
      "Downloading 10-Q for COF (2003)...\n"
     ]
    },
    {
     "name": "stderr",
     "output_type": "stream",
     "text": [
      "Downloading SEC Filings:  43%|████▎     | 216/499 [1:17:42<34:47,  7.38s/it]"
     ]
    },
    {
     "name": "stdout",
     "output_type": "stream",
     "text": [
      "Downloading 10-Q for ROP (2004)...\n",
      "Downloading 10-Q for AZO (2001)...\n",
      "Downloading 10-Q for DELL (2012)...\n",
      "Downloading 10-Q for CNI (2002)...\n",
      "Downloading 10-Q for NGG (2009)...\n",
      "Downloading 10-Q for SHECY (2000)...\n",
      "Downloading 10-Q for ING (2014)...\n",
      "Downloading 10-Q for DELL (2013)...\n",
      "Downloading 10-Q for SHECY (2001)...\n",
      "Downloading 10-Q for CNI (2003)...\n",
      "Downloading 10-Q for NGG (2010)...\n",
      "Downloading 10-Q for ET (2008)...\n",
      "Downloading 10-Q for BNS (2001)...\n",
      "Downloading 10-Q for ING (2015)...\n",
      "Downloading 10-Q for SHECY (2002)...\n",
      "Downloading 10-Q for RSG (2015)...\n",
      "Downloading 10-Q for NGG (2011)...\n",
      "Downloading 10-Q for SHECY (2003)...\n",
      "Downloading 10-Q for DELL (2014)...\n",
      "Downloading 10-Q for EMR (2005)...\n",
      "Downloading 10-Q for ING (2016)...\n",
      "Downloading 10-Q for SHECY (2004)...\n",
      "Downloading 10-Q for CNI (2004)...\n",
      "Downloading 10-Q for ROP (2005)...\n",
      "Downloading 10-Q for AZO (2002)...\n",
      "Downloading 10-Q for SHECY (2005)...\n",
      "Downloading 10-Q for ING (2017)...\n",
      "Downloading 10-Q for NGG (2012)...\n",
      "Downloading 10-Q for DELL (2015)...\n",
      "Downloading 10-Q for CNI (2005)...\n",
      "Downloading 10-Q for SHECY (2006)...\n",
      "Downloading 10-Q for SHECY (2007)...\n",
      "Downloading 10-Q for ING (2018)...\n",
      "Downloading 10-Q for NGG (2013)...\n",
      "Downloading 10-Q for DELL (2016)...\n",
      "Downloading 10-Q for CNI (2006)...\n",
      "Downloading 10-Q for SHECY (2008)...\n",
      "Downloading 10-Q for ECL (2018)...\n",
      "Downloading 10-Q for SHECY (2009)...\n",
      "Downloading 10-Q for IBKR (2019)...\n",
      "Downloading 10-Q for BNS (2002)...\n",
      "Downloading 10-Q for ING (2019)...\n",
      "Downloading 10-Q for CNI (2007)...Downloading 10-Q for NGG (2014)...\n",
      "\n",
      "Downloading 10-Q for SHECY (2010)...\n",
      "Downloading 10-Q for COF (2004)...\n",
      "Downloading 10-Q for AZO (2003)...\n",
      "Downloading 10-Q for EMR (2006)...\n",
      "Downloading 10-Q for SHECY (2011)...\n",
      "Downloading 10-Q for ROP (2006)...\n",
      "Downloading 10-Q for SHECY (2012)...\n",
      "Downloading 10-Q for ING (2020)...\n",
      "Downloading 10-Q for NGG (2015)...\n",
      "Downloading 10-Q for CNI (2008)...\n",
      "Downloading 10-Q for ET (2009)...\n",
      "Downloading 10-Q for SHECY (2013)...\n",
      "Downloading 10-Q for SHECY (2014)...\n",
      "Downloading 10-Q for ING (2021)...\n",
      "Downloading 10-Q for NGG (2016)...\n",
      "Downloading 10-Q for SHECY (2015)...\n",
      "Downloading 10-Q for CNI (2009)...\n",
      "Downloading 10-Q for SHECY (2016)...\n"
     ]
    },
    {
     "name": "stderr",
     "output_type": "stream",
     "text": [
      "Downloading SEC Filings:  43%|████▎     | 217/499 [1:18:56<1:40:21, 21.35s/it]"
     ]
    },
    {
     "name": "stdout",
     "output_type": "stream",
     "text": [
      "Downloading 10-Q for SHECY (2017)...\n",
      "Downloading 10-Q for NGG (2017)...\n",
      "Downloading 10-Q for AZO (2004)...\n",
      "Downloading 10-Q for BNS (2003)...\n",
      "Downloading 10-Q for MRVL (2000)...\n",
      "Downloading 10-Q for ROP (2007)...\n",
      "Downloading 10-Q for CNI (2010)...\n",
      "Downloading 10-Q for ITW (2021)...\n",
      "Downloading 10-Q for SHECY (2018)...\n",
      "Downloading 10-Q for MRVL (2001)...\n",
      "Downloading 10-Q for EMR (2007)...\n",
      "Downloading 10-Q for NGG (2018)...\n",
      "Downloading 10-Q for MRVL (2002)...\n",
      "Downloading 10-Q for COF (2005)...\n",
      "Downloading 10-Q for SHECY (2019)...\n",
      "Downloading 10-Q for CNI (2011)...\n",
      "Downloading 10-Q for MRVL (2003)...\n",
      "Downloading 10-Q for SHECY (2020)...\n",
      "Downloading 10-Q for MRVL (2004)...\n",
      "Downloading 10-Q for NGG (2019)...\n",
      "Downloading 10-Q for SHECY (2021)...\n",
      "Downloading 10-Q for MRVL (2005)...\n",
      "Downloading 10-Q for CNI (2012)...\n"
     ]
    },
    {
     "name": "stderr",
     "output_type": "stream",
     "text": [
      "Downloading SEC Filings:  44%|████▎     | 218/499 [1:19:27<1:50:41, 23.64s/it]"
     ]
    },
    {
     "name": "stdout",
     "output_type": "stream",
     "text": [
      "Downloading 10-Q for MRVL (2006)...\n",
      "Downloading 10-Q for RSG (2016)...\n",
      "Downloading 10-Q for NGG (2020)...\n",
      "Downloading 10-Q for ROP (2008)...\n",
      "Downloading 10-Q for MRVL (2007)...\n",
      "Downloading 10-Q for BNS (2004)...\n",
      "Downloading 10-Q for EMR (2008)...\n",
      "Downloading 10-Q for CNI (2013)...\n",
      "Downloading 10-Q for ET (2010)...\n",
      "Downloading 10-Q for KMI (2000)...\n",
      "Downloading 10-Q for MRVL (2008)...\n",
      "Downloading 10-Q for NGG (2021)...\n",
      "Downloading 10-Q for MRVL (2009)...\n",
      "Downloading 10-Q for KMI (2001)...\n",
      "Downloading 10-Q for MRVL (2010)...\n",
      "Downloading 10-Q for CNI (2014)...\n"
     ]
    },
    {
     "name": "stderr",
     "output_type": "stream",
     "text": [
      "Downloading SEC Filings:  44%|████▍     | 219/499 [1:19:40<1:37:55, 20.98s/it]"
     ]
    },
    {
     "name": "stdout",
     "output_type": "stream",
     "text": [
      "Downloading 10-Q for AZO (2005)...\n"
     ]
    },
    {
     "name": "stderr",
     "output_type": "stream",
     "text": [
      "Downloading SEC Filings:  44%|████▍     | 220/499 [1:19:42<1:14:07, 15.94s/it]"
     ]
    },
    {
     "name": "stdout",
     "output_type": "stream",
     "text": [
      "Downloading 10-Q for MRVL (2011)...\n",
      "Downloading 10-Q for ECL (2019)...\n",
      "Downloading 10-Q for MRVL (2012)...\n",
      "Downloading 10-Q for COF (2006)...\n",
      "Downloading 10-Q for BK (2000)...\n",
      "Downloading 10-Q for CNI (2015)...\n",
      "Downloading 10-Q for KMI (2002)...\n",
      "Downloading 10-Q for APH (2020)...\n",
      "Downloading 10-Q for TEAM (2000)...\n",
      "Downloading 10-Q for MRVL (2013)...\n",
      "Downloading 10-Q for BNS (2005)...\n",
      "Downloading 10-Q for ROP (2009)...\n",
      "Downloading 10-Q for MRVL (2014)...\n",
      "Downloading 10-Q for CNI (2016)...\n",
      "Downloading 10-Q for KMI (2003)...\n",
      "Downloading 10-Q for TEAM (2001)...\n",
      "Downloading 10-Q for EMR (2009)...\n",
      "Downloading 10-Q for MRVL (2015)...\n"
     ]
    },
    {
     "name": "stderr",
     "output_type": "stream",
     "text": [
      "Downloading SEC Filings:  44%|████▍     | 221/499 [1:20:00<1:16:22, 16.48s/it]"
     ]
    },
    {
     "name": "stdout",
     "output_type": "stream",
     "text": [
      "Downloading 10-Q for BK (2001)...\n",
      "Downloading 10-Q for MRVL (2016)...\n",
      "Downloading 10-Q for AZO (2006)...\n",
      "Downloading 10-Q for MRVL (2017)...\n",
      "Downloading 10-Q for KMI (2004)...\n",
      "Downloading 10-Q for AFL (2000)...\n",
      "Downloading 10-Q for CNI (2017)...\n",
      "Downloading 10-Q for MRVL (2018)...\n",
      "Downloading 10-Q for TEAM (2002)...\n",
      "Downloading 10-Q for KMI (2005)...\n",
      "Downloading 10-Q for MRVL (2019)...\n",
      "Downloading 10-Q for CNI (2018)...\n",
      "Downloading 10-Q for BK (2002)...\n",
      "Downloading 10-Q for MRVL (2020)...\n",
      "Downloading 10-Q for TEAM (2003)...\n",
      "Downloading 10-Q for MRVL (2021)...\n",
      "Downloading 10-Q for KMI (2006)...\n",
      "Downloading 10-Q for TEAM (2004)...\n",
      "Downloading 10-Q for IBKR (2020)...\n",
      "Downloading 10-Q for CNI (2019)...\n",
      "Downloading 10-Q for BNS (2006)...\n",
      "Downloading 10-Q for BK (2003)...\n",
      "Downloading 10-Q for COF (2007)...\n",
      "Downloading 10-Q for EMR (2010)...\n",
      "Downloading 10-Q for CNI (2020)...\n",
      "Downloading 10-Q for KMI (2007)...\n",
      "Downloading 10-Q for TEAM (2005)...\n",
      "Downloading 10-Q for ROP (2010)...\n",
      "Downloading 10-Q for AZO (2007)...\n",
      "Downloading 10-Q for AFL (2001)...\n",
      "Downloading 10-Q for TEAM (2006)...\n",
      "Downloading 10-Q for CNI (2021)...\n",
      "Downloading 10-Q for ET (2011)...\n",
      "Downloading 10-Q for BK (2004)...\n",
      "Downloading 10-Q for KMI (2008)...\n",
      "Downloading 10-Q for TEAM (2007)...\n",
      "Downloading 10-Q for APH (2021)...\n"
     ]
    },
    {
     "name": "stderr",
     "output_type": "stream",
     "text": [
      "Downloading SEC Filings:  44%|████▍     | 222/499 [1:20:49<1:57:41, 25.49s/it]"
     ]
    },
    {
     "name": "stdout",
     "output_type": "stream",
     "text": [
      "Downloading 10-Q for BNS (2007)...\n",
      "Downloading 10-Q for KMI (2009)...\n",
      "Downloading 10-Q for RSG (2017)...\n",
      "Downloading 10-Q for FDX (2000)...\n",
      "Downloading 10-Q for TEAM (2008)...\n",
      "Downloading 10-Q for AFL (2002)...\n",
      "Downloading 10-Q for AZO (2008)...\n",
      "Downloading 10-Q for BK (2005)...\n",
      "Downloading 10-Q for ECL (2020)...\n",
      "Downloading 10-Q for EMR (2011)...\n",
      "Downloading 10-Q for KMI (2010)...\n",
      "Downloading 10-Q for COF (2008)...\n",
      "Downloading 10-Q for TEAM (2009)...\n",
      "Downloading 10-Q for ROP (2011)...\n",
      "Downloading 10-Q for DELL (2017)...\n",
      "Downloading 10-Q for KMI (2011)...\n",
      "Downloading 10-Q for TEAM (2010)...\n",
      "Downloading 10-Q for BK (2006)...\n",
      "Downloading 10-Q for BNS (2008)...\n",
      "Downloading 10-Q for FDX (2001)...\n",
      "Downloading 10-Q for AZO (2009)...\n",
      "Downloading 10-Q for TEAM (2011)...\n",
      "Downloading 10-Q for BK (2007)...\n",
      "Downloading 10-Q for TEAM (2012)...\n",
      "Downloading 10-Q for AFL (2003)...\n",
      "Downloading 10-Q for TEAM (2013)...\n",
      "Downloading 10-Q for BNS (2009)...\n",
      "Downloading 10-Q for AZO (2010)...\n",
      "Downloading 10-Q for COF (2009)...\n",
      "Downloading 10-Q for ROP (2012)...\n",
      "Downloading 10-Q for FDX (2002)...\n",
      "Downloading 10-Q for TEAM (2014)...\n",
      "Downloading 10-Q for EMR (2012)...\n",
      "Downloading 10-Q for TEAM (2015)...\n",
      "Downloading 10-Q for BK (2008)...\n",
      "Downloading 10-Q for TEAM (2016)...\n",
      "Downloading 10-Q for BNS (2010)...\n",
      "Downloading 10-Q for ET (2012)...\n",
      "Downloading 10-Q for TEAM (2017)...\n"
     ]
    },
    {
     "name": "stderr",
     "output_type": "stream",
     "text": [
      "Downloading SEC Filings:  45%|████▍     | 223/499 [1:21:42<2:34:16, 33.54s/it]"
     ]
    },
    {
     "name": "stdout",
     "output_type": "stream",
     "text": [
      "Downloading 10-Q for FDX (2003)...\n",
      "Downloading 10-Q for TEAM (2018)...\n",
      "Downloading 10-Q for KMI (2012)...\n",
      "Downloading 10-Q for AZO (2011)...\n",
      "Downloading 10-Q for OKE (2000)...\n",
      "Downloading 10-Q for TEAM (2019)...\n",
      "Downloading 10-Q for ROP (2013)...\n",
      "Downloading 10-Q for TEAM (2020)...\n"
     ]
    },
    {
     "name": "stderr",
     "output_type": "stream",
     "text": [
      "Downloading SEC Filings:  45%|████▍     | 224/499 [1:22:26<2:46:47, 36.39s/it]"
     ]
    },
    {
     "name": "stdout",
     "output_type": "stream",
     "text": [
      "Downloading 10-Q for BNS (2011)...\n",
      "Downloading 10-Q for AFL (2004)...\n",
      "Downloading 10-Q for BK (2009)...\n",
      "Downloading 10-Q for COF (2010)...\n",
      "Downloading 10-Q for TEAM (2021)...\n",
      "Downloading 10-Q for TRV (2000)...\n",
      "Downloading 10-Q for EMR (2013)...\n",
      "Downloading 10-Q for FDX (2004)...\n"
     ]
    },
    {
     "name": "stderr",
     "output_type": "stream",
     "text": [
      "Downloading SEC Filings:  45%|████▌     | 225/499 [1:22:46<2:25:01, 31.76s/it]"
     ]
    },
    {
     "name": "stdout",
     "output_type": "stream",
     "text": [
      "Downloading 10-Q for CARR (2000)...\n",
      "Downloading 10-Q for RSG (2018)...\n",
      "Downloading 10-Q for OKE (2001)...\n",
      "Downloading 10-Q for CARR (2001)...\n",
      "Downloading 10-Q for AZO (2012)...\n",
      "Downloading 10-Q for BNS (2012)...\n",
      "Downloading 10-Q for CARR (2002)...\n",
      "Downloading 10-Q for CARR (2003)...\n",
      "Downloading 10-Q for TRV (2001)...\n",
      "Downloading 10-Q for ROP (2014)...\n",
      "Downloading 10-Q for CARR (2004)...\n",
      "Downloading 10-Q for FDX (2005)...\n",
      "Downloading 10-Q for CARR (2005)...\n",
      "Downloading 10-Q for CARR (2006)...\n",
      "Downloading 10-Q for ECL (2021)...\n",
      "Downloading 10-Q for CARR (2007)...\n",
      "Downloading 10-Q for EMR (2014)...\n",
      "Downloading 10-Q for CARR (2008)...\n",
      "Downloading 10-Q for OKE (2002)...\n",
      "Downloading 10-Q for BNS (2013)...\n",
      "Downloading 10-Q for CARR (2009)...\n",
      "Downloading 10-Q for AFL (2005)...\n",
      "Downloading 10-Q for CARR (2010)...\n",
      "Downloading 10-Q for CARR (2011)...\n",
      "Downloading 10-Q for CARR (2012)...\n",
      "Downloading 10-Q for TRV (2002)...\n",
      "Downloading 10-Q for EPD (2012)...\n",
      "Downloading 10-Q for FDX (2006)...\n",
      "Downloading 10-Q for AZO (2013)...\n",
      "Downloading 10-Q for CARR (2013)...\n",
      "Downloading 10-Q for IBKR (2021)...\n",
      "Downloading 10-Q for BK (2010)...\n",
      "Downloading 10-Q for BNS (2014)...\n",
      "Downloading 10-Q for CARR (2014)...\n",
      "Downloading 10-Q for OKE (2003)...\n",
      "Downloading 10-Q for ROP (2015)...\n",
      "Downloading 10-Q for CARR (2015)...\n",
      "Downloading 10-Q for CARR (2016)...\n",
      "Downloading 10-Q for CARR (2017)...\n",
      "Downloading 10-Q for CARR (2018)...\n",
      "Downloading 10-Q for CARR (2019)...\n",
      "Downloading 10-Q for CARR (2020)...\n",
      "Downloading 10-Q for TRV (2003)...\n",
      "Downloading 10-Q for AFL (2006)...\n",
      "Downloading 10-Q for DELL (2018)...\n",
      "Downloading 10-Q for BNS (2015)...\n",
      "Downloading 10-Q for OKE (2004)...\n",
      "Downloading 10-Q for FDX (2007)...\n",
      "Downloading 10-Q for ROP (2016)...\n",
      "Downloading 10-Q for AZO (2014)...\n",
      "Downloading 10-Q for EMR (2015)...\n",
      "Downloading 10-Q for BNS (2016)...\n",
      "Downloading 10-Q for TRV (2004)...\n",
      "Downloading 10-Q for OKE (2005)...\n",
      "Downloading 10-Q for FDX (2008)...\n",
      "Downloading 10-Q for AFL (2007)...\n",
      "Downloading 10-Q for KMI (2013)...\n",
      "Downloading 10-Q for BNS (2017)...\n",
      "Downloading 10-Q for ET (2013)...\n",
      "Downloading 10-Q for ROP (2017)...\n",
      "Downloading 10-Q for TRV (2005)...\n",
      "Downloading 10-Q for FDX (2009)...\n",
      "Downloading 10-Q for EMR (2016)...\n",
      "Downloading 10-Q for OKE (2006)...\n",
      "Downloading 10-Q for RSG (2019)...\n",
      "Downloading 10-Q for BNS (2018)...\n"
     ]
    },
    {
     "name": "stderr",
     "output_type": "stream",
     "text": [
      "Downloading SEC Filings:  45%|████▌     | 226/499 [1:24:43<4:18:27, 56.80s/it]"
     ]
    },
    {
     "name": "stdout",
     "output_type": "stream",
     "text": [
      "Downloading 10-Q for AZO (2015)...\n",
      "Downloading 10-Q for CARR (2021)...\n",
      "Downloading 10-Q for AFL (2008)...\n",
      "Downloading 10-Q for BCS (2000)...\n"
     ]
    },
    {
     "name": "stderr",
     "output_type": "stream",
     "text": [
      "Downloading SEC Filings:  45%|████▌     | 227/499 [1:24:56<3:19:01, 43.90s/it]"
     ]
    },
    {
     "name": "stdout",
     "output_type": "stream",
     "text": [
      "Downloading 10-Q for EPD (2013)...\n",
      "Downloading 10-Q for CSX (2000)...\n",
      "Downloading 10-Q for BCS (2001)...\n",
      "Downloading 10-Q for TRV (2006)...\n",
      "Downloading 10-Q for DELL (2019)...\n",
      "Downloading 10-Q for BNS (2019)...\n",
      "Downloading 10-Q for ROP (2018)...\n",
      "Downloading 10-Q for AFL (2009)...\n",
      "Downloading 10-Q for OKE (2007)...\n",
      "Downloading 10-Q for BCS (2002)...\n",
      "Downloading 10-Q for FDX (2010)...\n",
      "Downloading 10-Q for CSX (2001)...\n",
      "Downloading 10-Q for EMR (2017)...\n",
      "Downloading 10-Q for BNS (2020)...\n",
      "Downloading 10-Q for BCS (2003)...\n",
      "Downloading 10-Q for TRV (2007)...\n",
      "Downloading 10-Q for AZO (2016)...\n",
      "Downloading 10-Q for COF (2011)...\n",
      "Downloading 10-Q for OKE (2008)...\n",
      "Downloading 10-Q for CSX (2002)...\n",
      "Downloading 10-Q for BCS (2004)...\n",
      "Downloading 10-Q for ROP (2019)...\n",
      "Downloading 10-Q for BNS (2021)...\n"
     ]
    },
    {
     "name": "stderr",
     "output_type": "stream",
     "text": [
      "Downloading SEC Filings:  46%|████▌     | 228/499 [1:26:17<4:07:41, 54.84s/it]"
     ]
    },
    {
     "name": "stdout",
     "output_type": "stream",
     "text": [
      "Downloading 10-Q for ET (2014)...\n",
      "Downloading 10-Q for HLT (2000)...\n",
      "Downloading 10-Q for BCS (2005)...\n",
      "Downloading 10-Q for HLT (2001)...\n",
      "Downloading 10-Q for EMR (2018)...\n",
      "Downloading 10-Q for AZO (2017)...\n",
      "Downloading 10-Q for TRV (2008)...\n",
      "Downloading 10-Q for CSX (2003)...\n",
      "Downloading 10-Q for AFL (2010)...\n",
      "Downloading 10-Q for HLT (2002)...\n",
      "Downloading 10-Q for BCS (2006)...\n",
      "Downloading 10-Q for OKE (2009)...\n",
      "Downloading 10-Q for HLT (2003)...\n",
      "Downloading 10-Q for RSG (2020)...\n"
     ]
    },
    {
     "name": "stderr",
     "output_type": "stream",
     "text": [
      "Downloading SEC Filings:  46%|████▌     | 229/499 [1:26:36<3:18:24, 44.09s/it]"
     ]
    },
    {
     "name": "stdout",
     "output_type": "stream",
     "text": [
      "Downloading 10-Q for BK (2011)...\n",
      "Downloading 10-Q for BCS (2007)...\n",
      "Downloading 10-Q for HLT (2004)...\n",
      "Downloading 10-Q for BMWKY (2000)...\n",
      "Downloading 10-Q for BMWKY (2001)...\n",
      "Downloading 10-Q for HLT (2005)...\n",
      "Downloading 10-Q for CSX (2004)...\n",
      "Downloading 10-Q for BMWKY (2002)...\n",
      "Downloading 10-Q for BCS (2008)...\n",
      "Downloading 10-Q for BMWKY (2003)...\n",
      "Downloading 10-Q for HLT (2006)...\n",
      "Downloading 10-Q for BMWKY (2004)...\n",
      "Downloading 10-Q for BMWKY (2005)...\n",
      "Error occurred while downloading filing for accession number {}: {} 0001260221-18-000051 Response ended prematurely\n",
      "Downloading 10-Q for HLT (2007)...\n",
      "Downloading 10-Q for TRV (2009)...\n",
      "Downloading 10-Q for BMWKY (2006)...\n",
      "Downloading 10-Q for BCS (2009)...\n",
      "Downloading 10-Q for AZO (2018)...\n",
      "Downloading 10-Q for HLT (2008)...\n",
      "Downloading 10-Q for FDX (2011)...\n",
      "Downloading 10-Q for BMWKY (2007)...\n",
      "Downloading 10-Q for ROP (2020)...\n",
      "Downloading 10-Q for CSX (2005)...\n",
      "Downloading 10-Q for BCS (2010)...\n",
      "Downloading 10-Q for BMWKY (2008)...\n",
      "Downloading 10-Q for HLT (2009)...\n",
      "Downloading 10-Q for BMWKY (2009)...\n",
      "Downloading 10-Q for EMR (2019)...\n",
      "Downloading 10-Q for OKE (2010)...\n",
      "Downloading 10-Q for HLT (2010)...\n",
      "Downloading 10-Q for BMWKY (2010)...\n",
      "Downloading 10-Q for BMWKY (2011)...\n",
      "Downloading 10-Q for BCS (2011)...\n",
      "Downloading 10-Q for BMWKY (2012)...\n",
      "Downloading 10-Q for HLT (2011)...\n",
      "Downloading 10-Q for BMWKY (2013)...\n",
      "Downloading 10-Q for BMWKY (2014)...\n",
      "Downloading 10-Q for BMWKY (2015)...\n",
      "Downloading 10-Q for AFL (2011)...\n",
      "Downloading 10-Q for CSX (2006)...\n",
      "Downloading 10-Q for BCS (2012)...\n",
      "Downloading 10-Q for BMWKY (2016)...\n",
      "Downloading 10-Q for TDG (2019)...\n",
      "Downloading 10-Q for HLT (2012)...\n",
      "Downloading 10-Q for BMWKY (2017)...\n",
      "Downloading 10-Q for TRV (2010)...\n",
      "Downloading 10-Q for BMWKY (2018)...\n",
      "Downloading 10-Q for HLT (2013)...\n",
      "Downloading 10-Q for BMWKY (2019)...\n",
      "Downloading 10-Q for BCS (2013)...\n",
      "Downloading 10-Q for BMWKY (2020)...\n",
      "Downloading 10-Q for RSG (2021)...\n",
      "Downloading 10-Q for AZO (2019)...\n",
      "Downloading 10-Q for HLT (2014)...\n",
      "Downloading 10-Q for BMWKY (2021)...\n"
     ]
    },
    {
     "name": "stderr",
     "output_type": "stream",
     "text": [
      "Downloading SEC Filings:  46%|████▌     | 230/499 [1:27:56<4:06:38, 55.01s/it]"
     ]
    },
    {
     "name": "stdout",
     "output_type": "stream",
     "text": [
      "Downloading 10-Q for EPD (2014)...\n",
      "Downloading 10-Q for CSX (2007)...\n",
      "Downloading 10-Q for ROP (2021)...\n",
      "Downloading 10-Q for BCS (2014)...\n",
      "Downloading 10-Q for RCL (2000)...\n",
      "Downloading 10-Q for OKE (2011)...\n",
      "Downloading 10-Q for RCL (2001)...\n",
      "Downloading 10-Q for BCS (2015)...\n",
      "Downloading 10-Q for EMR (2020)...\n",
      "Downloading 10-Q for RCL (2002)...\n",
      "Downloading 10-Q for CSX (2008)...\n",
      "Downloading 10-Q for BCS (2016)...\n",
      "Downloading 10-Q for RCL (2003)...\n",
      "Downloading 10-Q for RCL (2004)...\n",
      "Downloading 10-Q for BK (2012)...\n",
      "Downloading 10-Q for BCS (2017)...\n",
      "Downloading 10-Q for RCL (2005)...\n",
      "Downloading 10-Q for AZO (2020)...\n"
     ]
    },
    {
     "name": "stderr",
     "output_type": "stream",
     "text": [
      "Downloading SEC Filings:  46%|████▋     | 231/499 [1:28:57<4:13:38, 56.79s/it]"
     ]
    },
    {
     "name": "stdout",
     "output_type": "stream",
     "text": [
      "Downloading 10-Q for BCS (2018)...\n",
      "Downloading 10-Q for CSX (2009)...\n",
      "Downloading 10-Q for TRV (2011)...\n",
      "Downloading 10-Q for AEP (2000)...\n",
      "Downloading 10-Q for EMR (2021)...\n",
      "Downloading 10-Q for BCS (2019)...\n",
      "Downloading 10-Q for OKE (2012)...\n",
      "Downloading 10-Q for BCS (2020)...\n",
      "Downloading 10-Q for FDX (2012)...\n",
      "Downloading 10-Q for AEP (2001)...\n",
      "Downloading 10-Q for RCL (2006)...\n",
      "Downloading 10-Q for CSX (2010)...\n",
      "Downloading 10-Q for DELL (2020)...\n",
      "Downloading 10-Q for BCS (2021)...\n",
      "Downloading 10-Q for TDG (2020)...\n"
     ]
    },
    {
     "name": "stderr",
     "output_type": "stream",
     "text": [
      "Downloading SEC Filings:  46%|████▋     | 232/499 [1:29:37<3:50:30, 51.80s/it]"
     ]
    },
    {
     "name": "stdout",
     "output_type": "stream",
     "text": [
      "Downloading 10-Q for AZO (2021)...\n",
      "Downloading 10-Q for ET (2015)...\n",
      "Downloading 10-Q for PCAR (2000)...\n",
      "Downloading 10-Q for AEP (2002)...\n",
      "Downloading 10-Q for RCL (2007)...\n",
      "Downloading 10-Q for PCAR (2001)...\n",
      "Downloading 10-Q for FDX (2013)...\n",
      "Downloading 10-Q for KMI (2014)...\n"
     ]
    },
    {
     "name": "stderr",
     "output_type": "stream",
     "text": [
      "Downloading SEC Filings:  47%|████▋     | 233/499 [1:30:09<3:22:21, 45.65s/it]"
     ]
    },
    {
     "name": "stdout",
     "output_type": "stream",
     "text": [
      "Downloading 10-Q for AFL (2012)...\n"
     ]
    },
    {
     "name": "stderr",
     "output_type": "stream",
     "text": [
      "Downloading SEC Filings:  47%|████▋     | 234/499 [1:30:12<2:25:24, 32.92s/it]"
     ]
    },
    {
     "name": "stdout",
     "output_type": "stream",
     "text": [
      "Downloading 10-Q for HLT (2015)...\n",
      "Downloading 10-Q for AEP (2003)...\n",
      "Downloading 10-Q for SLB (2000)...\n",
      "Downloading 10-Q for PSA (2000)...\n"
     ]
    },
    {
     "name": "stderr",
     "output_type": "stream",
     "text": [
      "Downloading SEC Filings:  47%|████▋     | 235/499 [1:30:27<2:01:54, 27.71s/it]"
     ]
    },
    {
     "name": "stdout",
     "output_type": "stream",
     "text": [
      "Downloading 10-Q for PCAR (2002)...\n",
      "Downloading 10-Q for CSX (2011)...\n",
      "Downloading 10-Q for RCL (2008)...\n",
      "Downloading 10-Q for PSA (2001)...\n",
      "Downloading 10-Q for PTCAY (2000)...\n",
      "Downloading 10-Q for PTCAY (2001)...\n",
      "Downloading 10-Q for PTCAY (2002)...\n",
      "Downloading 10-Q for SLB (2001)...\n",
      "Downloading 10-Q for PSA (2002)...\n",
      "Downloading 10-Q for PTCAY (2003)...\n",
      "Downloading 10-Q for PTCAY (2004)...\n",
      "Downloading 10-Q for PSA (2003)...\n",
      "Downloading 10-Q for PTCAY (2005)...\n",
      "Downloading 10-Q for AEP (2004)...\n",
      "Downloading 10-Q for PTCAY (2006)...\n",
      "Downloading 10-Q for PSA (2004)...\n",
      "Downloading 10-Q for PTCAY (2007)...\n",
      "Downloading 10-Q for PCAR (2003)...\n",
      "Downloading 10-Q for PTCAY (2008)...\n",
      "Downloading 10-Q for SLB (2002)...\n",
      "Downloading 10-Q for TDG (2021)...\n",
      "Downloading 10-Q for PTCAY (2009)...\n",
      "Downloading 10-Q for PSA (2005)...\n",
      "Downloading 10-Q for ET (2016)...\n",
      "Downloading 10-Q for PTCAY (2010)...\n",
      "Downloading 10-Q for RCL (2009)...\n",
      "Downloading 10-Q for PTCAY (2011)...\n",
      "Downloading 10-Q for PSA (2006)...\n",
      "Downloading 10-Q for PTCAY (2012)...\n",
      "Downloading 10-Q for PTCAY (2013)...\n",
      "Downloading 10-Q for SLB (2003)...\n",
      "Downloading 10-Q for PTCAY (2014)...\n",
      "Downloading 10-Q for PSA (2007)...\n",
      "Downloading 10-Q for PTCAY (2015)...\n",
      "Downloading 10-Q for CSX (2012)...\n",
      "Downloading 10-Q for PTCAY (2016)...\n",
      "Downloading 10-Q for AEP (2005)...\n",
      "Downloading 10-Q for PTCAY (2017)...\n",
      "Downloading 10-Q for PTCAY (2018)...\n",
      "Downloading 10-Q for PCAR (2004)...\n",
      "Downloading 10-Q for SLB (2004)...\n",
      "Downloading 10-Q for PTCAY (2019)...\n",
      "Downloading 10-Q for PSA (2008)...\n",
      "Downloading 10-Q for PTCAY (2020)...\n",
      "Downloading 10-Q for TRV (2012)...\n",
      "Downloading 10-Q for PTCAY (2021)...\n"
     ]
    },
    {
     "name": "stderr",
     "output_type": "stream",
     "text": [
      "Downloading SEC Filings:  47%|████▋     | 236/499 [1:31:45<3:06:48, 42.62s/it]"
     ]
    },
    {
     "name": "stdout",
     "output_type": "stream",
     "text": [
      "Downloading 10-Q for HLT (2016)...\n",
      "Downloading 10-Q for RCL (2010)...\n",
      "Downloading 10-Q for CAIXY (2000)...\n",
      "Downloading 10-Q for CAIXY (2001)...\n",
      "Downloading 10-Q for SLB (2005)...\n",
      "Downloading 10-Q for OKE (2013)...\n",
      "Downloading 10-Q for CAIXY (2002)...\n",
      "Downloading 10-Q for CAIXY (2003)...\n",
      "Downloading 10-Q for PCAR (2005)...\n",
      "Downloading 10-Q for PSA (2009)...\n",
      "Downloading 10-Q for CAIXY (2004)...\n"
     ]
    },
    {
     "name": "stderr",
     "output_type": "stream",
     "text": [
      "Downloading SEC Filings:  47%|████▋     | 237/499 [1:32:02<2:32:23, 34.90s/it]"
     ]
    },
    {
     "name": "stdout",
     "output_type": "stream",
     "text": [
      "Downloading 10-Q for CSX (2013)...\n",
      "Downloading 10-Q for CAIXY (2005)...\n",
      "Downloading 10-Q for SLB (2006)...\n",
      "Downloading 10-Q for COF (2012)...\n",
      "Downloading 10-Q for ET (2017)...\n",
      "Downloading 10-Q for CAIXY (2006)...\n",
      "Downloading 10-Q for CAIXY (2007)...\n",
      "Downloading 10-Q for ADSK (2000)...\n",
      "Downloading 10-Q for CAIXY (2008)...\n",
      "Downloading 10-Q for CAIXY (2009)...\n",
      "Downloading 10-Q for DELL (2021)...\n",
      "Downloading 10-Q for CAIXY (2010)...\n",
      "Downloading 10-Q for FDX (2014)...\n",
      "Downloading 10-Q for AEP (2006)...\n",
      "Downloading 10-Q for CAIXY (2011)...\n",
      "Downloading 10-Q for PCAR (2006)...\n",
      "Downloading 10-Q for PSA (2010)...\n",
      "Downloading 10-Q for CAIXY (2012)...\n",
      "Downloading 10-Q for ADSK (2001)...\n",
      "Downloading 10-Q for CAIXY (2013)...\n",
      "Downloading 10-Q for SLB (2007)...\n",
      "Downloading 10-Q for CAIXY (2014)...\n",
      "Downloading 10-Q for RCL (2011)...\n",
      "Downloading 10-Q for CAIXY (2015)...\n",
      "Downloading 10-Q for CAIXY (2016)...\n",
      "Downloading 10-Q for CAIXY (2017)...\n",
      "Downloading 10-Q for CAIXY (2018)...\n",
      "Downloading 10-Q for PCAR (2007)...\n",
      "Downloading 10-Q for ADSK (2002)...\n",
      "Downloading 10-Q for CAIXY (2019)...\n",
      "Downloading 10-Q for SLB (2008)...\n",
      "Downloading 10-Q for CAIXY (2020)...\n",
      "Downloading 10-Q for CAIXY (2021)...\n",
      "Downloading 10-Q for HLT (2017)...\n"
     ]
    },
    {
     "name": "stderr",
     "output_type": "stream",
     "text": [
      "Downloading SEC Filings:  48%|████▊     | 238/499 [1:32:55<2:55:24, 40.32s/it]"
     ]
    },
    {
     "name": "stdout",
     "output_type": "stream",
     "text": [
      "Downloading 10-Q for MNST (2000)...\n",
      "Downloading 10-Q for ADSK (2003)...\n",
      "Downloading 10-Q for SLB (2009)...\n",
      "Downloading 10-Q for PCAR (2008)...\n",
      "Downloading 10-Q for BK (2013)...\n",
      "Downloading 10-Q for AFL (2013)...\n",
      "Downloading 10-Q for MNST (2001)...\n",
      "Downloading 10-Q for ADSK (2004)...\n",
      "Downloading 10-Q for ET (2018)...\n",
      "Downloading 10-Q for PCAR (2009)...\n",
      "Downloading 10-Q for MNST (2002)...\n",
      "Downloading 10-Q for ADSK (2005)...\n",
      "Downloading 10-Q for AEP (2007)...\n",
      "Downloading 10-Q for SLB (2010)...\n",
      "Downloading 10-Q for MNST (2003)...\n",
      "Downloading 10-Q for PCAR (2010)...\n",
      "Downloading 10-Q for ADSK (2006)...\n",
      "Downloading 10-Q for HLT (2018)...\n",
      "Downloading 10-Q for PSA (2011)...\n",
      "Downloading 10-Q for MNST (2004)...\n",
      "Downloading 10-Q for ADSK (2007)...\n",
      "Downloading 10-Q for CSX (2014)...\n",
      "Downloading 10-Q for RCL (2012)...\n",
      "Downloading 10-Q for MNST (2005)...\n",
      "Downloading 10-Q for SLB (2011)...\n",
      "Downloading 10-Q for OKE (2014)...\n",
      "Downloading 10-Q for PCAR (2011)...\n",
      "Downloading 10-Q for AEP (2008)...\n",
      "Downloading 10-Q for EPD (2015)...\n",
      "Downloading 10-Q for ADSK (2008)...\n",
      "Downloading 10-Q for TRV (2013)...\n",
      "Downloading 10-Q for MNST (2006)...\n"
     ]
    },
    {
     "name": "stderr",
     "output_type": "stream",
     "text": [
      "Downloading SEC Filings:  48%|████▊     | 239/499 [1:34:30<4:06:11, 56.81s/it]"
     ]
    },
    {
     "name": "stdout",
     "output_type": "stream",
     "text": [
      "Downloading 10-Q for MPLX (2000)...\n",
      "Downloading 10-Q for ADSK (2009)...\n",
      "Downloading 10-Q for MNST (2007)...\n",
      "Downloading 10-Q for MPLX (2001)...\n",
      "Downloading 10-Q for ET (2019)...\n",
      "Downloading 10-Q for MPLX (2002)...\n",
      "Downloading 10-Q for SLB (2012)...\n",
      "Downloading 10-Q for MPLX (2003)...\n",
      "Downloading 10-Q for PSA (2012)...\n",
      "Downloading 10-Q for MPLX (2004)...\n",
      "Downloading 10-Q for MNST (2008)...\n",
      "Downloading 10-Q for PCAR (2012)...\n",
      "Downloading 10-Q for MPLX (2005)...\n",
      "Downloading 10-Q for KMI (2015)...\n",
      "Downloading 10-Q for FDX (2015)...\n",
      "Downloading 10-Q for MPLX (2006)...\n",
      "Downloading 10-Q for ADSK (2010)...\n",
      "Downloading 10-Q for RCL (2013)...\n",
      "Downloading 10-Q for HLT (2019)...\n",
      "Error downloading 10-Q for ADSK in 2010: ('Connection aborted.', RemoteDisconnected('Remote end closed connection without response'))\n",
      "Downloading 10-Q for ADSK (2011)...\n",
      "Error downloading 10-Q for RCL in 2013: ('Connection aborted.', ConnectionResetError(10054, 'Varolan bir bağlantı uzaktaki bir ana bilgisayar tarafından zorla kapatıldı', None, 10054, None))\n",
      "Downloading 10-Q for RCL (2014)...\n",
      "Error downloading 10-Q for MPLX in 2006: ('Connection aborted.', ConnectionResetError(10054, 'Varolan bir bağlantı uzaktaki bir ana bilgisayar tarafından zorla kapatıldı', None, 10054, None))\n",
      "Downloading 10-Q for MPLX (2007)...\n",
      "Downloading 10-Q for CSX (2015)...\n",
      "Downloading 10-Q for MPLX (2008)...\n",
      "Downloading 10-Q for MNST (2009)...\n",
      "Downloading 10-Q for MPLX (2009)...\n",
      "Downloading 10-Q for SLB (2013)...\n",
      "Downloading 10-Q for MPLX (2010)...\n",
      "Downloading 10-Q for PSA (2013)...\n",
      "Downloading 10-Q for ET (2020)...\n",
      "Downloading 10-Q for MPLX (2011)...\n",
      "Downloading 10-Q for COF (2013)...\n",
      "Downloading 10-Q for MPLX (2012)...\n",
      "Downloading 10-Q for AEP (2009)...\n",
      "Downloading 10-Q for MNST (2010)...\n",
      "Downloading 10-Q for EPD (2016)...\n",
      "Downloading 10-Q for OKE (2015)...\n",
      "Downloading 10-Q for MPLX (2013)...\n",
      "Downloading 10-Q for CSX (2016)...\n",
      "Downloading 10-Q for FDX (2016)...\n",
      "Downloading 10-Q for ADSK (2012)...\n",
      "Downloading 10-Q for HLT (2020)...\n",
      "Downloading 10-Q for SLB (2014)...\n",
      "Downloading 10-Q for ET (2021)...\n",
      "Downloading 10-Q for PCAR (2013)...\n",
      "Downloading 10-Q for BK (2014)...\n",
      "Downloading 10-Q for MNST (2011)...\n",
      "Downloading 10-Q for CSX (2017)...\n",
      "Downloading 10-Q for ADSK (2013)...\n",
      "Downloading 10-Q for FDX (2017)...\n",
      "Downloading 10-Q for AEP (2010)...\n",
      "Downloading 10-Q for OKE (2016)...\n",
      "Downloading 10-Q for PCAR (2014)...\n",
      "Downloading 10-Q for MPLX (2014)...\n",
      "Downloading 10-Q for RCL (2015)...\n",
      "Downloading 10-Q for TRV (2014)...\n",
      "Downloading 10-Q for EPD (2017)...\n",
      "Downloading 10-Q for PSA (2014)...\n",
      "Error occurred while downloading filing for accession number {}: {} 0001564590-14-001564 ('Connection aborted.', RemoteDisconnected('Remote end closed connection without response'))\n",
      "Downloading 10-Q for SLB (2015)...\n",
      "Downloading 10-Q for MNST (2012)...\n",
      "Downloading 10-Q for CSX (2018)...\n",
      "Downloading 10-Q for HLT (2021)...\n",
      "Downloading 10-Q for ADSK (2014)...\n",
      "Downloading 10-Q for PCAR (2015)...\n"
     ]
    },
    {
     "name": "stderr",
     "output_type": "stream",
     "text": [
      "Downloading SEC Filings:  48%|████▊     | 240/499 [1:38:35<8:08:32, 113.18s/it]"
     ]
    },
    {
     "name": "stdout",
     "output_type": "stream",
     "text": [
      "Downloading 10-Q for MPLX (2015)...\n",
      "Downloading 10-Q for MET (2000)...\n",
      "Downloading 10-Q for SLB (2016)...\n",
      "Downloading 10-Q for FDX (2018)...\n",
      "Downloading 10-Q for OKE (2017)...\n",
      "Downloading 10-Q for RCL (2016)...\n",
      "Downloading 10-Q for KMI (2016)...\n",
      "Downloading 10-Q for MET (2001)...\n",
      "Downloading 10-Q for MNST (2013)...\n",
      "Downloading 10-Q for CSX (2019)...\n",
      "Downloading 10-Q for PCAR (2016)...\n",
      "Downloading 10-Q for ADSK (2015)...\n",
      "Downloading 10-Q for EPD (2018)...\n",
      "Downloading 10-Q for MET (2002)...\n"
     ]
    },
    {
     "name": "stderr",
     "output_type": "stream",
     "text": [
      "Downloading SEC Filings:  48%|████▊     | 241/499 [1:39:50<7:17:23, 101.72s/it]"
     ]
    },
    {
     "name": "stdout",
     "output_type": "stream",
     "text": [
      "Downloading 10-Q for TRV (2015)...\n",
      "Downloading 10-Q for MPLX (2016)...\n",
      "Downloading 10-Q for PSA (2015)...\n",
      "Downloading 10-Q for LYG (2000)...\n",
      "Downloading 10-Q for FDX (2019)...\n",
      "Downloading 10-Q for LYG (2001)...\n",
      "Downloading 10-Q for SLB (2017)...\n",
      "Downloading 10-Q for RCL (2017)...\n",
      "Downloading 10-Q for MET (2003)...\n",
      "Downloading 10-Q for LYG (2002)...\n",
      "Downloading 10-Q for LYG (2003)...\n",
      "Downloading 10-Q for KMI (2017)...\n",
      "Downloading 10-Q for PCAR (2017)...\n",
      "Downloading 10-Q for ADSK (2016)...\n",
      "Downloading 10-Q for LYG (2004)...\n",
      "Downloading 10-Q for AEP (2011)...\n",
      "Downloading 10-Q for MET (2004)...\n",
      "Downloading 10-Q for CSX (2020)...\n",
      "Downloading 10-Q for LYG (2005)...\n",
      "Downloading 10-Q for EPD (2019)...\n",
      "Downloading 10-Q for PSA (2016)...\n",
      "Downloading 10-Q for LYG (2006)...\n",
      "Downloading 10-Q for SLB (2018)...\n",
      "Error downloading 10-Q for PSA in 2016: ('Connection aborted.', ConnectionResetError(10054, 'Varolan bir bağlantı uzaktaki bir ana bilgisayar tarafından zorla kapatıldı', None, 10054, None))\n",
      "Downloading 10-Q for PSA (2017)...\n",
      "Error downloading 10-Q for SLB in 2018: ('Connection aborted.', ConnectionResetError(10054, 'Varolan bir bağlantı uzaktaki bir ana bilgisayar tarafından zorla kapatıldı', None, 10054, None))\n",
      "Downloading 10-Q for SLB (2019)...\n",
      "Error downloading 10-Q for LYG in 2006: ('Connection aborted.', RemoteDisconnected('Remote end closed connection without response'))\n",
      "Downloading 10-Q for LYG (2007)...\n",
      "Downloading 10-Q for AFL (2014)...\n",
      "Downloading 10-Q for MET (2005)...\n",
      "Downloading 10-Q for RCL (2018)...\n",
      "Downloading 10-Q for MNST (2014)...\n",
      "Downloading 10-Q for LYG (2008)...\n",
      "Downloading 10-Q for ADSK (2017)...\n",
      "Downloading 10-Q for LYG (2009)...\n",
      "Downloading 10-Q for MET (2006)...\n",
      "Downloading 10-Q for LYG (2010)...\n",
      "Downloading 10-Q for LYG (2011)...\n",
      "Downloading 10-Q for TRV (2016)...\n",
      "Downloading 10-Q for FDX (2020)...\n",
      "Downloading 10-Q for LYG (2012)...\n",
      "Downloading 10-Q for RCL (2019)...\n",
      "Downloading 10-Q for COF (2014)...\n",
      "Downloading 10-Q for MET (2007)...\n",
      "Downloading 10-Q for SLB (2020)...\n",
      "Downloading 10-Q for LYG (2013)...\n",
      "Downloading 10-Q for PCAR (2018)...\n",
      "Downloading 10-Q for ADSK (2018)...\n",
      "Downloading 10-Q for LYG (2014)...\n",
      "Downloading 10-Q for CSX (2021)...\n",
      "Downloading 10-Q for PSA (2018)...\n",
      "Downloading 10-Q for MET (2008)...\n",
      "Downloading 10-Q for LYG (2015)...\n",
      "Downloading 10-Q for LYG (2016)...\n",
      "Downloading 10-Q for LYG (2017)...\n",
      "Downloading 10-Q for KMI (2018)...\n",
      "Downloading 10-Q for LYG (2018)...\n",
      "Downloading 10-Q for MET (2009)...\n",
      "Downloading 10-Q for MPLX (2017)...\n",
      "Downloading 10-Q for ADSK (2019)...\n",
      "Downloading 10-Q for LYG (2019)...\n",
      "Downloading 10-Q for SLB (2021)...\n",
      "Downloading 10-Q for EPD (2020)...\n",
      "Downloading 10-Q for MNST (2015)...\n",
      "Downloading 10-Q for LYG (2020)...\n",
      "Downloading 10-Q for PCAR (2019)...\n",
      "Downloading 10-Q for PSA (2019)...\n",
      "Downloading 10-Q for LYG (2021)...\n",
      "Downloading 10-Q for BK (2015)...\n",
      "Downloading 10-Q for FDX (2021)...\n"
     ]
    },
    {
     "name": "stderr",
     "output_type": "stream",
     "text": [
      "Downloading SEC Filings:  48%|████▊     | 242/499 [1:45:09<11:54:45, 166.87s/it]"
     ]
    },
    {
     "name": "stdout",
     "output_type": "stream",
     "text": [
      "Downloading 10-Q for TRV (2017)...\n"
     ]
    },
    {
     "name": "stderr",
     "output_type": "stream",
     "text": [
      "Downloading SEC Filings:  49%|████▊     | 243/499 [1:45:12<8:22:24, 117.75s/it] "
     ]
    },
    {
     "name": "stdout",
     "output_type": "stream",
     "text": [
      "Downloading 10-Q for ALL (2000)...\n",
      "Downloading 10-Q for PAYX (2000)...\n",
      "Downloading 10-Q for MET (2010)...\n",
      "Downloading 10-Q for RCL (2020)...\n",
      "Downloading 10-Q for ADSK (2020)...\n",
      "Downloading 10-Q for PAYX (2001)...\n",
      "Downloading 10-Q for ALL (2001)...\n"
     ]
    },
    {
     "name": "stderr",
     "output_type": "stream",
     "text": [
      "Downloading SEC Filings:  49%|████▉     | 244/499 [1:45:35<6:20:35, 89.55s/it] "
     ]
    },
    {
     "name": "stdout",
     "output_type": "stream",
     "text": [
      "Downloading 10-Q for IAU (2000)...\n",
      "Downloading 10-Q for IAU (2001)...\n",
      "Downloading 10-Q for PAYX (2002)...\n",
      "Downloading 10-Q for IAU (2002)...\n",
      "Downloading 10-Q for IAU (2003)...\n"
     ]
    },
    {
     "name": "stderr",
     "output_type": "stream",
     "text": [
      "Downloading SEC Filings:  49%|████▉     | 245/499 [1:45:44<4:36:10, 65.24s/it]"
     ]
    },
    {
     "name": "stdout",
     "output_type": "stream",
     "text": [
      "Downloading 10-Q for IAU (2004)...\n",
      "Downloading 10-Q for ALL (2002)...\n",
      "Downloading 10-Q for IAU (2005)...\n",
      "Downloading 10-Q for NSC (2000)...\n",
      "Downloading 10-Q for IAU (2006)...\n",
      "Downloading 10-Q for PAYX (2003)...\n",
      "Downloading 10-Q for EPD (2021)...\n",
      "Downloading 10-Q for PSA (2020)...\n",
      "Downloading 10-Q for IAU (2007)...\n",
      "Downloading 10-Q for ALL (2003)...\n",
      "Downloading 10-Q for TRV (2018)...\n",
      "Downloading 10-Q for NSC (2001)...\n",
      "Downloading 10-Q for KMI (2019)...\n",
      "Downloading 10-Q for IAU (2008)...\n",
      "Downloading 10-Q for ADSK (2021)...\n",
      "Downloading 10-Q for ALL (2004)...\n",
      "Downloading 10-Q for PAYX (2004)...\n",
      "Downloading 10-Q for IAU (2009)...\n",
      "Downloading 10-Q for NSC (2002)...\n",
      "Downloading 10-Q for MNST (2016)...\n",
      "Downloading 10-Q for PAYX (2005)...\n",
      "Downloading 10-Q for ALL (2005)...\n",
      "Downloading 10-Q for IAU (2010)...\n",
      "Downloading 10-Q for MPLX (2018)...\n",
      "Downloading 10-Q for PCAR (2020)...\n",
      "Downloading 10-Q for NSC (2003)...\n",
      "Downloading 10-Q for IAU (2011)...\n",
      "Downloading 10-Q for PAYX (2006)...\n",
      "Downloading 10-Q for ALL (2006)...\n",
      "Downloading 10-Q for PAYX (2007)...\n",
      "Downloading 10-Q for PSA (2021)...\n",
      "Downloading 10-Q for MNST (2017)...\n",
      "Downloading 10-Q for IAU (2012)...\n",
      "Downloading 10-Q for ALL (2007)...\n",
      "Downloading 10-Q for AEP (2012)...\n",
      "Downloading 10-Q for NSC (2004)...\n",
      "Downloading 10-Q for PAYX (2008)...\n",
      "Downloading 10-Q for IAU (2013)...\n"
     ]
    },
    {
     "name": "stderr",
     "output_type": "stream",
     "text": [
      "Downloading SEC Filings:  49%|████▉     | 246/499 [1:47:32<5:28:45, 77.97s/it]"
     ]
    },
    {
     "name": "stdout",
     "output_type": "stream",
     "text": [
      "Downloading 10-Q for ALL (2008)...\n",
      "Downloading 10-Q for NXPI (2000)...\n",
      "Downloading 10-Q for MNST (2018)...\n",
      "Downloading 10-Q for RCL (2021)...\n",
      "Downloading 10-Q for PAYX (2009)...\n",
      "Downloading 10-Q for IAU (2014)...\n",
      "Downloading 10-Q for ALL (2009)...\n",
      "Downloading 10-Q for NXPI (2001)...\n",
      "Downloading 10-Q for NXPI (2002)...\n",
      "Downloading 10-Q for NSC (2005)...\n",
      "Downloading 10-Q for NXPI (2003)...\n",
      "Downloading 10-Q for NXPI (2004)...\n",
      "Downloading 10-Q for NXPI (2005)...\n",
      "Downloading 10-Q for NXPI (2006)...\n",
      "Downloading 10-Q for PCAR (2021)...\n",
      "Downloading 10-Q for NXPI (2007)...\n",
      "Downloading 10-Q for PAYX (2010)...\n",
      "Downloading 10-Q for KMI (2020)...\n",
      "Downloading 10-Q for NXPI (2008)...\n",
      "Downloading 10-Q for IAU (2015)...\n",
      "Downloading 10-Q for MPLX (2019)...\n",
      "Downloading 10-Q for NXPI (2009)...\n",
      "Downloading 10-Q for ALL (2010)...\n",
      "Downloading 10-Q for TRV (2019)...\n",
      "Downloading 10-Q for NXPI (2010)...\n",
      "Downloading 10-Q for NSC (2006)...\n",
      "Downloading 10-Q for NXPI (2011)...\n",
      "Downloading 10-Q for NXPI (2012)...\n",
      "Downloading 10-Q for MNST (2019)...\n",
      "Downloading 10-Q for NXPI (2013)...\n",
      "Downloading 10-Q for NXPI (2014)...\n",
      "Downloading 10-Q for AFL (2015)...\n",
      "Downloading 10-Q for NXPI (2015)...\n",
      "Downloading 10-Q for MET (2011)...\n"
     ]
    },
    {
     "name": "stderr",
     "output_type": "stream",
     "text": [
      "Downloading SEC Filings:  49%|████▉     | 247/499 [1:48:51<5:28:45, 78.27s/it]"
     ]
    },
    {
     "name": "stdout",
     "output_type": "stream",
     "text": [
      "Downloading 10-Q for NXPI (2016)...\n",
      "Downloading 10-Q for NXPI (2017)...\n",
      "Downloading 10-Q for TFC (2000)...\n",
      "Downloading 10-Q for NXPI (2018)...\n",
      "Downloading 10-Q for IAU (2016)...\n",
      "Downloading 10-Q for NXPI (2019)...\n",
      "Downloading 10-Q for PAYX (2011)...\n",
      "Downloading 10-Q for NSC (2007)...\n",
      "Downloading 10-Q for TFC (2001)...\n",
      "Downloading 10-Q for IAU (2017)...\n"
     ]
    },
    {
     "name": "stderr",
     "output_type": "stream",
     "text": [
      "Downloading SEC Filings:  50%|████▉     | 248/499 [1:49:24<4:31:27, 64.89s/it]"
     ]
    },
    {
     "name": "stdout",
     "output_type": "stream",
     "text": [
      "Downloading 10-Q for TFC (2002)...\n",
      "Downloading 10-Q for ITUB (2000)...\n",
      "Downloading 10-Q for NSC (2008)...\n",
      "Downloading 10-Q for ITUB (2001)...\n",
      "Downloading 10-Q for PAYX (2012)...\n",
      "Downloading 10-Q for ITUB (2002)...\n",
      "Downloading 10-Q for IAU (2018)...\n",
      "Downloading 10-Q for BK (2016)...\n",
      "Downloading 10-Q for TFC (2003)...\n",
      "Downloading 10-Q for ITUB (2003)...\n",
      "Downloading 10-Q for NXPI (2020)...\n",
      "Downloading 10-Q for ITUB (2004)...\n"
     ]
    },
    {
     "name": "stderr",
     "output_type": "stream",
     "text": [
      "Downloading SEC Filings:  50%|████▉     | 249/499 [1:49:57<3:50:14, 55.26s/it]"
     ]
    },
    {
     "name": "stdout",
     "output_type": "stream",
     "text": [
      "Downloading 10-Q for ITUB (2005)...\n",
      "Downloading 10-Q for IAU (2019)...\n"
     ]
    },
    {
     "name": "stderr",
     "output_type": "stream",
     "text": [
      "Downloading SEC Filings:  50%|█████     | 251/499 [1:50:09<2:02:21, 29.60s/it]"
     ]
    },
    {
     "name": "stdout",
     "output_type": "stream",
     "text": [
      "Downloading 10-Q for CM (2000)...\n",
      "Downloading 10-Q for NSC (2009)...\n",
      "Downloading 10-Q for ITUB (2006)...\n",
      "Downloading 10-Q for TGT (2000)...\n",
      "Downloading 10-Q for FCX (2000)...\n",
      "Downloading 10-Q for TFC (2004)...\n",
      "Downloading 10-Q for PAYX (2013)...\n",
      "Downloading 10-Q for ITUB (2007)...\n",
      "Downloading 10-Q for MNST (2020)...\n",
      "Downloading 10-Q for ITUB (2008)...\n",
      "Downloading 10-Q for KMI (2021)...\n",
      "Downloading 10-Q for TGT (2001)...\n",
      "Downloading 10-Q for CM (2001)...\n",
      "Downloading 10-Q for FCX (2001)...\n",
      "Downloading 10-Q for IAU (2020)...\n",
      "Downloading 10-Q for ITUB (2009)...\n",
      "Downloading 10-Q for TFC (2005)...\n",
      "Downloading 10-Q for ITUB (2010)...\n",
      "Downloading 10-Q for MPLX (2020)...\n",
      "Downloading 10-Q for TGT (2002)...\n",
      "Downloading 10-Q for ITUB (2011)...\n",
      "Downloading 10-Q for TRV (2020)...\n",
      "Downloading 10-Q for CM (2002)...\n",
      "Downloading 10-Q for NSC (2010)...\n",
      "Downloading 10-Q for AFL (2016)...\n",
      "Downloading 10-Q for FCX (2002)...\n",
      "Downloading 10-Q for PAYX (2014)...\n",
      "Downloading 10-Q for ITUB (2012)...\n",
      "Downloading 10-Q for IAU (2021)...\n",
      "Downloading 10-Q for TFC (2006)...\n",
      "Downloading 10-Q for ITUB (2013)...\n",
      "Downloading 10-Q for TGT (2003)...\n",
      "Downloading 10-Q for CM (2003)...\n",
      "Downloading 10-Q for ITUB (2014)...\n",
      "Downloading 10-Q for ITUB (2015)...\n",
      "Downloading 10-Q for COF (2015)...\n",
      "Downloading 10-Q for FCX (2003)...\n",
      "Downloading 10-Q for TGT (2004)...\n"
     ]
    },
    {
     "name": "stderr",
     "output_type": "stream",
     "text": [
      "Downloading SEC Filings:  51%|█████     | 252/499 [1:51:58<3:40:18, 53.52s/it]"
     ]
    },
    {
     "name": "stdout",
     "output_type": "stream",
     "text": [
      "Downloading 10-Q for ALL (2011)...\n",
      "Error occurred while downloading filing for accession number {}: {} 0001039684-17-000045 Response ended prematurely\n",
      "Downloading 10-Q for OKE (2018)...\n",
      "Downloading 10-Q for CM (2004)...\n",
      "Downloading 10-Q for ITUB (2016)...\n",
      "Downloading 10-Q for TFC (2007)...\n",
      "Downloading 10-Q for CHTR (2000)...\n",
      "Downloading 10-Q for ITUB (2017)...\n",
      "Downloading 10-Q for TGT (2005)...\n",
      "Downloading 10-Q for NSC (2011)...\n",
      "Downloading 10-Q for FCX (2004)...\n",
      "Error downloading 10-Q for CM in 2004: ('Connection aborted.', ConnectionResetError(10054, 'Varolan bir bağlantı uzaktaki bir ana bilgisayar tarafından zorla kapatıldı', None, 10054, None))\n",
      "Downloading 10-Q for CM (2005)...\n",
      "Error downloading 10-Q for ITUB in 2017: ('Connection aborted.', ConnectionResetError(10054, 'Varolan bir bağlantı uzaktaki bir ana bilgisayar tarafından zorla kapatıldı', None, 10054, None))\n",
      "Downloading 10-Q for ITUB (2018)...\n",
      "Error downloading 10-Q for TGT in 2005: ('Connection aborted.', ConnectionResetError(10054, 'Varolan bir bağlantı uzaktaki bir ana bilgisayar tarafından zorla kapatıldı', None, 10054, None))\n",
      "Downloading 10-Q for TGT (2006)...\n",
      "Downloading 10-Q for ITUB (2019)...\n",
      "Downloading 10-Q for CHTR (2001)...\n",
      "Downloading 10-Q for TFC (2008)...\n",
      "Downloading 10-Q for ITUB (2020)...\n",
      "Downloading 10-Q for TRV (2021)...\n",
      "Downloading 10-Q for TGT (2007)...\n",
      "Downloading 10-Q for PAYX (2015)...\n",
      "Downloading 10-Q for CM (2006)...\n",
      "Downloading 10-Q for FCX (2005)...\n",
      "Downloading 10-Q for ITUB (2021)...\n"
     ]
    },
    {
     "name": "stderr",
     "output_type": "stream",
     "text": [
      "Downloading SEC Filings:  51%|█████     | 253/499 [1:53:47<4:47:06, 70.03s/it]"
     ]
    },
    {
     "name": "stdout",
     "output_type": "stream",
     "text": [
      "Downloading 10-Q for MNST (2021)...\n",
      "Downloading 10-Q for CHTR (2002)...\n",
      "Downloading 10-Q for NSC (2012)...\n",
      "Downloading 10-Q for CPRT (2000)...\n",
      "Downloading 10-Q for CM (2007)...\n",
      "Downloading 10-Q for TGT (2008)...\n",
      "Downloading 10-Q for BK (2017)...\n",
      "Downloading 10-Q for CPRT (2001)...\n",
      "Downloading 10-Q for FCX (2006)...\n",
      "Downloading 10-Q for CM (2008)...\n",
      "Downloading 10-Q for CHTR (2003)...\n",
      "Downloading 10-Q for TGT (2009)...\n",
      "Downloading 10-Q for OKE (2019)...\n",
      "Downloading 10-Q for CPRT (2002)...\n"
     ]
    },
    {
     "name": "stderr",
     "output_type": "stream",
     "text": [
      "Downloading SEC Filings:  51%|█████     | 254/499 [1:54:37<4:21:17, 63.99s/it]"
     ]
    },
    {
     "name": "stdout",
     "output_type": "stream",
     "text": [
      "Downloading 10-Q for MPLX (2021)...\n",
      "Downloading 10-Q for NSC (2013)...\n",
      "Downloading 10-Q for CM (2009)...\n",
      "Downloading 10-Q for FCX (2007)...\n",
      "Downloading 10-Q for JCI (2000)...\n",
      "Downloading 10-Q for CPRT (2003)...\n",
      "Downloading 10-Q for CHTR (2004)...\n",
      "Downloading 10-Q for PAYX (2016)...\n",
      "Downloading 10-Q for TGT (2010)...\n",
      "Downloading 10-Q for CM (2010)...\n",
      "Downloading 10-Q for TFC (2009)...\n",
      "Downloading 10-Q for JCI (2001)...\n",
      "Downloading 10-Q for CPRT (2004)...\n",
      "Downloading 10-Q for CHTR (2005)...\n",
      "Downloading 10-Q for CM (2011)...\n",
      "Downloading 10-Q for NSC (2014)...\n",
      "Downloading 10-Q for CPRT (2005)...\n"
     ]
    },
    {
     "name": "stderr",
     "output_type": "stream",
     "text": [
      "Downloading SEC Filings:  51%|█████     | 255/499 [1:55:19<3:53:51, 57.51s/it]"
     ]
    },
    {
     "name": "stdout",
     "output_type": "stream",
     "text": [
      "Downloading 10-Q for FCX (2008)...\n",
      "Downloading 10-Q for JCI (2002)...\n",
      "Downloading 10-Q for HWM (2000)...\n"
     ]
    },
    {
     "name": "stderr",
     "output_type": "stream",
     "text": [
      "Downloading SEC Filings:  51%|█████▏    | 256/499 [1:55:28<2:54:01, 42.97s/it]"
     ]
    },
    {
     "name": "stdout",
     "output_type": "stream",
     "text": [
      "Downloading 10-Q for PAYX (2017)...\n",
      "Downloading 10-Q for AEM (2000)...\n",
      "Downloading 10-Q for CHTR (2006)...\n",
      "Downloading 10-Q for AEM (2001)...\n",
      "Downloading 10-Q for CM (2012)...\n",
      "Downloading 10-Q for CPRT (2006)...\n",
      "Downloading 10-Q for AEM (2002)...\n",
      "Downloading 10-Q for AEM (2003)...\n",
      "Downloading 10-Q for TGT (2011)...\n",
      "Downloading 10-Q for AEM (2004)...\n",
      "Downloading 10-Q for HWM (2001)...\n",
      "Downloading 10-Q for AEM (2005)...\n",
      "Downloading 10-Q for JCI (2003)...\n",
      "Downloading 10-Q for TFC (2010)...\n",
      "Downloading 10-Q for CPRT (2007)...\n",
      "Downloading 10-Q for AEM (2006)...\n",
      "Downloading 10-Q for CM (2013)...\n",
      "Downloading 10-Q for AEM (2007)...\n",
      "Downloading 10-Q for CHTR (2007)...\n",
      "Downloading 10-Q for AEM (2008)...\n",
      "Downloading 10-Q for FCX (2009)...\n",
      "Downloading 10-Q for AEM (2009)...\n",
      "Downloading 10-Q for AEM (2010)...\n",
      "Downloading 10-Q for AEM (2011)...\n",
      "Downloading 10-Q for CPRT (2008)...\n",
      "Downloading 10-Q for AEM (2012)...\n",
      "Downloading 10-Q for CM (2014)...\n",
      "Downloading 10-Q for HWM (2002)...\n",
      "Downloading 10-Q for AEM (2013)...\n",
      "Downloading 10-Q for NSC (2015)...\n",
      "Downloading 10-Q for AEM (2014)...\n",
      "Downloading 10-Q for JCI (2004)...\n"
     ]
    },
    {
     "name": "stderr",
     "output_type": "stream",
     "text": [
      "Downloading SEC Filings:  52%|█████▏    | 257/499 [1:56:16<2:58:45, 44.32s/it]"
     ]
    },
    {
     "name": "stdout",
     "output_type": "stream",
     "text": [
      "Downloading 10-Q for PAYX (2018)...\n",
      "Downloading 10-Q for AEM (2015)...\n",
      "Downloading 10-Q for CHTR (2008)...\n",
      "Downloading 10-Q for AEM (2016)...\n",
      "Downloading 10-Q for NU (2000)...\n",
      "Downloading 10-Q for NU (2001)...\n",
      "Downloading 10-Q for AEM (2017)...\n",
      "Downloading 10-Q for CM (2015)...\n",
      "Downloading 10-Q for NU (2002)...\n",
      "Downloading 10-Q for AEM (2018)...\n",
      "Downloading 10-Q for CPRT (2009)...\n",
      "Downloading 10-Q for MET (2012)...\n",
      "Downloading 10-Q for NU (2003)...\n",
      "Downloading 10-Q for HWM (2003)...\n",
      "Downloading 10-Q for AEM (2019)...\n",
      "Downloading 10-Q for AEM (2020)...\n",
      "Downloading 10-Q for NU (2004)...\n",
      "Downloading 10-Q for TGT (2012)...\n",
      "Downloading 10-Q for AEM (2021)...\n",
      "Downloading 10-Q for NU (2005)...\n",
      "Downloading 10-Q for NU (2006)...\n"
     ]
    },
    {
     "name": "stderr",
     "output_type": "stream",
     "text": [
      "Downloading SEC Filings:  52%|█████▏    | 258/499 [1:56:36<2:28:43, 37.03s/it]"
     ]
    },
    {
     "name": "stdout",
     "output_type": "stream",
     "text": [
      "Downloading 10-Q for NU (2007)...\n",
      "Downloading 10-Q for CM (2016)...\n",
      "Downloading 10-Q for CPRT (2010)...\n",
      "Downloading 10-Q for JCI (2005)...\n",
      "Downloading 10-Q for FCX (2010)...\n",
      "Downloading 10-Q for NU (2008)...\n",
      "Downloading 10-Q for ALL (2012)...\n",
      "Downloading 10-Q for O (2000)...\n",
      "Downloading 10-Q for CHTR (2009)...\n",
      "Downloading 10-Q for NU (2009)...\n",
      "Downloading 10-Q for AFL (2017)...\n",
      "Downloading 10-Q for NU (2010)...\n",
      "Downloading 10-Q for HWM (2004)...\n",
      "Downloading 10-Q for NU (2011)...\n",
      "Downloading 10-Q for NU (2012)...\n",
      "Downloading 10-Q for OKE (2020)...\n",
      "Downloading 10-Q for NU (2013)...\n",
      "Downloading 10-Q for NSC (2016)...\n",
      "Downloading 10-Q for NU (2014)...\n",
      "Downloading 10-Q for O (2001)...\n",
      "Downloading 10-Q for NU (2015)...\n",
      "Downloading 10-Q for CPRT (2011)...\n",
      "Downloading 10-Q for BK (2018)...\n",
      "Downloading 10-Q for TFC (2011)...\n",
      "Downloading 10-Q for NU (2016)...\n",
      "Downloading 10-Q for CM (2017)...\n",
      "Downloading 10-Q for JCI (2006)...\n",
      "Downloading 10-Q for NU (2017)...\n",
      "Downloading 10-Q for NU (2018)...\n",
      "Downloading 10-Q for NU (2019)...\n",
      "Downloading 10-Q for PAYX (2019)...\n",
      "Downloading 10-Q for NU (2020)...\n",
      "Downloading 10-Q for CHTR (2010)...\n",
      "Downloading 10-Q for HWM (2005)...\n",
      "Downloading 10-Q for CM (2018)...\n",
      "Downloading 10-Q for O (2002)...\n",
      "Downloading 10-Q for NU (2021)...\n"
     ]
    },
    {
     "name": "stderr",
     "output_type": "stream",
     "text": [
      "Downloading SEC Filings:  52%|█████▏    | 259/499 [1:57:21<2:38:15, 39.57s/it]"
     ]
    },
    {
     "name": "stdout",
     "output_type": "stream",
     "text": [
      "Downloading 10-Q for CPRT (2012)...\n",
      "Downloading 10-Q for PSX (2000)...\n",
      "Downloading 10-Q for JCI (2007)...\n",
      "Downloading 10-Q for CM (2019)...\n",
      "Downloading 10-Q for PSX (2001)...\n",
      "Downloading 10-Q for O (2003)...\n",
      "Downloading 10-Q for PSX (2002)...\n",
      "Downloading 10-Q for CHTR (2011)...\n",
      "Downloading 10-Q for NSC (2017)...\n",
      "Downloading 10-Q for AEP (2013)...\n",
      "Downloading 10-Q for HWM (2006)...\n",
      "Downloading 10-Q for TGT (2013)...\n",
      "Downloading 10-Q for PSX (2003)...\n",
      "Downloading 10-Q for FCX (2011)...\n",
      "Downloading 10-Q for CM (2020)...\n",
      "Downloading 10-Q for JCI (2008)...\n",
      "Downloading 10-Q for PSX (2004)...\n",
      "Downloading 10-Q for O (2004)...\n",
      "Downloading 10-Q for PSX (2005)...\n",
      "Downloading 10-Q for PSX (2006)...\n",
      "Downloading 10-Q for HWM (2007)...\n",
      "Downloading 10-Q for CPRT (2013)...\n",
      "Downloading 10-Q for CM (2021)...\n",
      "Downloading 10-Q for TFC (2012)...\n",
      "Downloading 10-Q for PSX (2007)...\n",
      "Downloading 10-Q for JCI (2009)...\n",
      "Downloading 10-Q for O (2005)...\n",
      "Downloading 10-Q for NSC (2018)...\n",
      "Downloading 10-Q for PSX (2008)...\n",
      "Downloading 10-Q for TGT (2014)...\n",
      "Downloading 10-Q for PAYX (2020)...\n",
      "Downloading 10-Q for OKE (2021)...\n",
      "Downloading 10-Q for PSX (2009)...\n",
      "Downloading 10-Q for CHTR (2012)...\n"
     ]
    },
    {
     "name": "stderr",
     "output_type": "stream",
     "text": [
      "Downloading SEC Filings:  52%|█████▏    | 260/499 [1:59:06<3:55:52, 59.22s/it]"
     ]
    },
    {
     "name": "stdout",
     "output_type": "stream",
     "text": [
      "Downloading 10-Q for HWM (2008)...\n",
      "Downloading 10-Q for PSX (2010)...\n",
      "Downloading 10-Q for DLR (2000)...\n",
      "Downloading 10-Q for O (2006)...\n",
      "Downloading 10-Q for PSX (2011)...\n",
      "Downloading 10-Q for DLR (2001)...\n",
      "Downloading 10-Q for PSX (2012)...\n",
      "Downloading 10-Q for DLR (2002)...\n",
      "Downloading 10-Q for FCX (2012)...\n",
      "Downloading 10-Q for HWM (2009)...\n",
      "Downloading 10-Q for DLR (2003)...\n",
      "Downloading 10-Q for O (2007)...\n",
      "Downloading 10-Q for CPRT (2014)...\n",
      "Downloading 10-Q for JCI (2010)...\n",
      "Downloading 10-Q for NSC (2019)...\n",
      "Downloading 10-Q for DLR (2004)...\n",
      "Downloading 10-Q for CHTR (2013)...\n",
      "Downloading 10-Q for O (2008)...\n",
      "Downloading 10-Q for TGT (2015)...\n",
      "Error downloading 10-Q for TGT in 2015: ('Connection aborted.', RemoteDisconnected('Remote end closed connection without response'))\n",
      "Downloading 10-Q for TGT (2016)...\n",
      "Downloading 10-Q for PAYX (2021)...\n",
      "Downloading 10-Q for HWM (2010)...\n",
      "Downloading 10-Q for TGT (2017)...\n",
      "Downloading 10-Q for O (2009)...\n",
      "Downloading 10-Q for CPRT (2015)...\n",
      "Downloading 10-Q for DLR (2005)...\n",
      "Downloading 10-Q for JCI (2011)...\n",
      "Downloading 10-Q for NSC (2020)...\n",
      "Downloading 10-Q for PSX (2013)...\n",
      "Downloading 10-Q for MET (2013)...\n",
      "Downloading 10-Q for TGT (2018)...\n"
     ]
    },
    {
     "name": "stderr",
     "output_type": "stream",
     "text": [
      "Downloading SEC Filings:  52%|█████▏    | 261/499 [2:01:27<5:32:32, 83.83s/it]"
     ]
    },
    {
     "name": "stdout",
     "output_type": "stream",
     "text": [
      "Downloading 10-Q for O (2010)...\n",
      "Downloading 10-Q for COR (2000)...\n",
      "Downloading 10-Q for DLR (2006)...\n",
      "Downloading 10-Q for CPRT (2016)...\n",
      "Downloading 10-Q for COR (2001)...\n",
      "Downloading 10-Q for HWM (2011)...\n",
      "Downloading 10-Q for COR (2002)...\n",
      "Downloading 10-Q for DLR (2007)...\n",
      "Downloading 10-Q for O (2011)...\n",
      "Downloading 10-Q for NXPI (2021)...\n",
      "Downloading 10-Q for COR (2003)...\n",
      "Downloading 10-Q for DLR (2008)...\n",
      "Downloading 10-Q for TGT (2019)...\n",
      "Downloading 10-Q for NSC (2021)...\n",
      "Downloading 10-Q for ALL (2013)...\n",
      "Downloading 10-Q for PSX (2014)...\n",
      "Downloading 10-Q for CPRT (2017)...\n",
      "Downloading 10-Q for AFL (2018)...\n",
      "Downloading 10-Q for COR (2004)...\n",
      "Downloading 10-Q for HWM (2012)...\n",
      "Downloading 10-Q for DLR (2009)...\n",
      "Downloading 10-Q for CHTR (2014)...\n",
      "Downloading 10-Q for O (2012)...\n",
      "Downloading 10-Q for TGT (2020)...\n",
      "Downloading 10-Q for COR (2005)...\n",
      "Downloading 10-Q for JCI (2012)...\n",
      "Downloading 10-Q for FCX (2013)...\n",
      "Downloading 10-Q for TFC (2013)...\n",
      "Downloading 10-Q for DLR (2010)...\n"
     ]
    },
    {
     "name": "stderr",
     "output_type": "stream",
     "text": [
      "Downloading SEC Filings:  53%|█████▎    | 262/499 [2:03:24<6:09:30, 93.55s/it]"
     ]
    },
    {
     "name": "stdout",
     "output_type": "stream",
     "text": [
      "Downloading 10-Q for BK (2019)...\n",
      "Downloading 10-Q for GLNCY (2000)...\n",
      "Downloading 10-Q for COR (2006)...\n",
      "Downloading 10-Q for GLNCY (2001)...\n",
      "Downloading 10-Q for CPRT (2018)...\n",
      "Downloading 10-Q for GLNCY (2002)...\n"
     ]
    },
    {
     "name": "stderr",
     "output_type": "stream",
     "text": [
      "Downloading SEC Filings:  53%|█████▎    | 263/499 [2:03:41<4:38:37, 70.84s/it]"
     ]
    },
    {
     "name": "stdout",
     "output_type": "stream",
     "text": [
      "Downloading 10-Q for GLNCY (2003)...\n",
      "Downloading 10-Q for SNOW (2000)...\n",
      "Downloading 10-Q for GLNCY (2004)...\n",
      "Downloading 10-Q for SNOW (2001)...\n",
      "Downloading 10-Q for GLNCY (2005)...\n",
      "Downloading 10-Q for HWM (2013)...\n",
      "Downloading 10-Q for SNOW (2002)...\n",
      "Downloading 10-Q for GLNCY (2006)...\n",
      "Downloading 10-Q for DLR (2011)...\n",
      "Downloading 10-Q for GLNCY (2007)...\n",
      "Downloading 10-Q for SNOW (2003)...\n",
      "Downloading 10-Q for COR (2007)...\n",
      "Downloading 10-Q for SNOW (2004)...\n",
      "Downloading 10-Q for GLNCY (2008)...\n",
      "Downloading 10-Q for O (2013)...\n",
      "Downloading 10-Q for GLNCY (2009)...\n",
      "Downloading 10-Q for SNOW (2005)...\n",
      "Downloading 10-Q for GLNCY (2010)...\n",
      "Downloading 10-Q for SNOW (2006)...\n",
      "Downloading 10-Q for GLNCY (2011)...\n",
      "Downloading 10-Q for TGT (2021)...\n",
      "Downloading 10-Q for SNOW (2007)...\n",
      "Downloading 10-Q for GLNCY (2012)...\n",
      "Downloading 10-Q for SNOW (2008)...\n",
      "Downloading 10-Q for GLNCY (2013)...\n",
      "Downloading 10-Q for SNOW (2009)...\n",
      "Downloading 10-Q for GLNCY (2014)...\n",
      "Downloading 10-Q for CHTR (2015)...\n",
      "Downloading 10-Q for FCX (2014)...\n",
      "Downloading 10-Q for SNOW (2010)...\n",
      "Downloading 10-Q for GLNCY (2015)...\n",
      "Downloading 10-Q for COR (2008)...\n",
      "Downloading 10-Q for SNOW (2011)...\n",
      "Downloading 10-Q for GLNCY (2016)...\n",
      "Downloading 10-Q for SNOW (2012)...\n",
      "Downloading 10-Q for GLNCY (2017)...\n",
      "Downloading 10-Q for SNOW (2013)...\n",
      "Downloading 10-Q for GLNCY (2018)...\n",
      "Downloading 10-Q for GLNCY (2019)...\n",
      "Downloading 10-Q for SNOW (2014)...\n",
      "Downloading 10-Q for GLNCY (2020)...\n"
     ]
    },
    {
     "name": "stderr",
     "output_type": "stream",
     "text": [
      "Downloading SEC Filings:  53%|█████▎    | 264/499 [2:04:40<4:22:41, 67.07s/it]"
     ]
    },
    {
     "name": "stdout",
     "output_type": "stream",
     "text": [
      "Downloading 10-Q for COR (2009)...\n",
      "Downloading 10-Q for SNOW (2015)...\n",
      "Downloading 10-Q for GLNCY (2021)...\n",
      "Downloading 10-Q for SNOW (2016)...\n",
      "Downloading 10-Q for MFC (2000)...\n",
      "Downloading 10-Q for SNOW (2017)...\n"
     ]
    },
    {
     "name": "stderr",
     "output_type": "stream",
     "text": [
      "Downloading SEC Filings:  53%|█████▎    | 265/499 [2:04:46<3:10:06, 48.75s/it]"
     ]
    },
    {
     "name": "stdout",
     "output_type": "stream",
     "text": [
      "Downloading 10-Q for CPRT (2019)...\n",
      "Downloading 10-Q for SNOW (2018)...\n",
      "Downloading 10-Q for MFC (2001)...\n",
      "Downloading 10-Q for NEM (2000)...\n",
      "Downloading 10-Q for SNOW (2019)...\n",
      "Downloading 10-Q for SNOW (2020)...\n",
      "Downloading 10-Q for MFC (2002)...\n",
      "Downloading 10-Q for COR (2010)...\n",
      "Downloading 10-Q for NEM (2001)...\n",
      "Downloading 10-Q for MFC (2003)...\n"
     ]
    },
    {
     "name": "stderr",
     "output_type": "stream",
     "text": [
      "Downloading SEC Filings:  53%|█████▎    | 266/499 [2:05:12<2:42:36, 41.87s/it]"
     ]
    },
    {
     "name": "stdout",
     "output_type": "stream",
     "text": [
      "Downloading 10-Q for MFC (2004)...\n",
      "Downloading 10-Q for NEM (2002)...\n",
      "Downloading 10-Q for COIN (2000)...\n",
      "Downloading 10-Q for MFC (2005)...\n",
      "Downloading 10-Q for PSX (2015)...\n",
      "Downloading 10-Q for COIN (2001)...\n",
      "Downloading 10-Q for COIN (2002)...\n",
      "Downloading 10-Q for MFC (2006)...\n",
      "Downloading 10-Q for COIN (2003)...\n",
      "Downloading 10-Q for MFC (2007)...\n",
      "Downloading 10-Q for COIN (2004)...\n",
      "Downloading 10-Q for DLR (2012)...\n",
      "Downloading 10-Q for HWM (2014)...\n",
      "Downloading 10-Q for CPRT (2020)...\n",
      "Downloading 10-Q for MFC (2008)...\n",
      "Downloading 10-Q for SNOW (2021)...\n",
      "Downloading 10-Q for COIN (2005)...\n",
      "Downloading 10-Q for NEM (2003)...\n",
      "Downloading 10-Q for COIN (2006)...\n",
      "Downloading 10-Q for MFC (2009)...\n",
      "Downloading 10-Q for COIN (2007)...\n",
      "Downloading 10-Q for COIN (2008)...\n",
      "Downloading 10-Q for MFC (2010)...\n",
      "Downloading 10-Q for AFL (2019)...\n",
      "Downloading 10-Q for COIN (2009)...\n",
      "Downloading 10-Q for COIN (2010)...\n",
      "Downloading 10-Q for MFC (2011)...\n",
      "Downloading 10-Q for COIN (2011)...\n",
      "Downloading 10-Q for FCX (2015)...\n",
      "Downloading 10-Q for COIN (2012)...\n",
      "Downloading 10-Q for JCI (2013)...\n",
      "Downloading 10-Q for MFC (2012)...\n",
      "Downloading 10-Q for COIN (2013)...\n",
      "Downloading 10-Q for NEM (2004)...\n",
      "Downloading 10-Q for COIN (2014)...\n",
      "Downloading 10-Q for MFC (2013)...\n",
      "Downloading 10-Q for COIN (2015)...\n",
      "Downloading 10-Q for COR (2011)...\n",
      "Downloading 10-Q for COIN (2016)...\n",
      "Downloading 10-Q for COF (2016)...\n",
      "Downloading 10-Q for COIN (2017)...\n",
      "Downloading 10-Q for MFC (2014)...\n",
      "Downloading 10-Q for COIN (2018)...\n",
      "Downloading 10-Q for COIN (2019)...\n",
      "Downloading 10-Q for MFC (2015)...\n",
      "Downloading 10-Q for COIN (2020)...\n",
      "Downloading 10-Q for CHTR (2016)...\n",
      "Downloading 10-Q for COIN (2021)...\n",
      "Downloading 10-Q for MFC (2016)...\n",
      "Downloading 10-Q for MFC (2017)...\n",
      "Downloading 10-Q for CPRT (2021)...\n",
      "Downloading 10-Q for MFC (2018)...\n",
      "Downloading 10-Q for NEM (2005)...\n",
      "Downloading 10-Q for MFC (2019)...\n",
      "Downloading 10-Q for ALL (2014)...\n",
      "Downloading 10-Q for MFC (2020)...\n",
      "Downloading 10-Q for MFC (2021)...\n"
     ]
    },
    {
     "name": "stderr",
     "output_type": "stream",
     "text": [
      "Downloading SEC Filings:  54%|█████▎    | 267/499 [2:07:14<4:15:41, 66.13s/it]"
     ]
    },
    {
     "name": "stdout",
     "output_type": "stream",
     "text": [
      "Downloading 10-Q for NEM (2006)...\n",
      "Downloading 10-Q for PSX (2016)...\n",
      "Downloading 10-Q for COR (2012)...\n",
      "Downloading 10-Q for AIG (2000)...\n",
      "Downloading 10-Q for HWM (2015)...\n",
      "Downloading 10-Q for O (2014)...\n",
      "Downloading 10-Q for FCX (2016)...\n"
     ]
    },
    {
     "name": "stderr",
     "output_type": "stream",
     "text": [
      "Downloading SEC Filings:  54%|█████▎    | 268/499 [2:07:40<3:28:28, 54.15s/it]"
     ]
    },
    {
     "name": "stdout",
     "output_type": "stream",
     "text": [
      "Downloading 10-Q for NEM (2007)...\n",
      "Downloading 10-Q for BK (2020)...\n",
      "Downloading 10-Q for AMP (2000)...\n"
     ]
    },
    {
     "name": "stderr",
     "output_type": "stream",
     "text": [
      "Downloading SEC Filings:  54%|█████▍    | 269/499 [2:07:52<2:38:44, 41.41s/it]"
     ]
    },
    {
     "name": "stdout",
     "output_type": "stream",
     "text": [
      "Downloading 10-Q for AIG (2001)...\n",
      "Downloading 10-Q for TRP (2000)...\n",
      "Downloading 10-Q for TRP (2001)...\n",
      "Downloading 10-Q for AMP (2001)...\n",
      "Downloading 10-Q for TRP (2002)...\n",
      "Downloading 10-Q for JCI (2014)...\n",
      "Downloading 10-Q for TRP (2003)...\n",
      "Downloading 10-Q for AMP (2002)...\n",
      "Downloading 10-Q for TRP (2004)...\n",
      "Downloading 10-Q for COR (2013)...\n",
      "Downloading 10-Q for CHTR (2017)...\n",
      "Downloading 10-Q for TRP (2005)...\n",
      "Downloading 10-Q for TRP (2006)...\n",
      "Downloading 10-Q for AMP (2003)...\n",
      "Downloading 10-Q for TRP (2007)...\n",
      "Downloading 10-Q for MET (2014)...\n",
      "Downloading 10-Q for PSX (2017)...\n",
      "Downloading 10-Q for TRP (2008)...\n",
      "Downloading 10-Q for AIG (2002)...\n",
      "Downloading 10-Q for TRP (2009)...\n",
      "Downloading 10-Q for AMP (2004)...\n",
      "Downloading 10-Q for O (2015)...\n",
      "Downloading 10-Q for TRP (2010)...\n",
      "Downloading 10-Q for TRP (2011)...\n",
      "Downloading 10-Q for TRP (2012)...\n",
      "Downloading 10-Q for AMP (2005)...\n",
      "Downloading 10-Q for TRP (2013)...\n",
      "Downloading 10-Q for AFL (2020)...\n",
      "Downloading 10-Q for ALL (2015)...\n",
      "Downloading 10-Q for HWM (2016)...\n",
      "Downloading 10-Q for COR (2014)...\n",
      "Downloading 10-Q for TRP (2014)...\n",
      "Downloading 10-Q for NEM (2008)...\n",
      "Downloading 10-Q for TRP (2015)...\n",
      "Downloading 10-Q for TRP (2016)...\n",
      "Downloading 10-Q for AMP (2006)...\n",
      "Downloading 10-Q for AEP (2014)...\n",
      "Downloading 10-Q for AIG (2003)...\n",
      "Downloading 10-Q for TRP (2017)...\n",
      "Downloading 10-Q for TRP (2018)...\n",
      "Downloading 10-Q for FCX (2017)...\n",
      "Downloading 10-Q for TRP (2019)...\n",
      "Downloading 10-Q for O (2016)...\n",
      "Downloading 10-Q for TRP (2020)...\n",
      "Downloading 10-Q for TRP (2021)...\n",
      "Downloading 10-Q for NEM (2009)...\n",
      "Downloading 10-Q for DLR (2013)...\n"
     ]
    },
    {
     "name": "stderr",
     "output_type": "stream",
     "text": [
      "Downloading SEC Filings:  54%|█████▍    | 271/499 [2:09:07<2:16:42, 35.98s/it]"
     ]
    },
    {
     "name": "stdout",
     "output_type": "stream",
     "text": [
      "Downloading 10-Q for AMP (2007)...\n",
      "Downloading 10-Q for GM (2000)...\n",
      "Downloading 10-Q for KMB (2000)...\n",
      "Downloading 10-Q for CHTR (2018)...\n",
      "Downloading 10-Q for GM (2001)...\n",
      "Downloading 10-Q for AIG (2004)...\n",
      "Downloading 10-Q for COR (2015)...\n",
      "Downloading 10-Q for GM (2002)...\n",
      "Downloading 10-Q for KMB (2001)...\n",
      "Downloading 10-Q for TFC (2014)...\n",
      "Downloading 10-Q for AMP (2008)...\n",
      "Downloading 10-Q for GM (2003)...\n",
      "Downloading 10-Q for HWM (2017)...\n",
      "Downloading 10-Q for NEM (2010)...\n",
      "Downloading 10-Q for GM (2004)...\n",
      "Downloading 10-Q for KMB (2002)...\n",
      "Downloading 10-Q for GM (2005)...\n",
      "Downloading 10-Q for O (2017)...\n",
      "Downloading 10-Q for AIG (2005)...\n",
      "Downloading 10-Q for GM (2006)...\n",
      "Downloading 10-Q for COR (2016)...\n",
      "Downloading 10-Q for BK (2021)...\n",
      "Downloading 10-Q for AMP (2009)...\n",
      "Downloading 10-Q for KMB (2003)...\n",
      "Downloading 10-Q for PSX (2018)...\n",
      "Downloading 10-Q for GM (2007)...\n",
      "Downloading 10-Q for GM (2008)...\n",
      "Downloading 10-Q for GM (2009)...\n",
      "Downloading 10-Q for KMB (2004)...\n",
      "Downloading 10-Q for CHTR (2019)...\n",
      "Downloading 10-Q for GM (2010)...\n",
      "Downloading 10-Q for DLR (2014)...\n",
      "Error downloading 10-Q for KMB in 2004: ('Connection aborted.', RemoteDisconnected('Remote end closed connection without response'))\n",
      "Downloading 10-Q for KMB (2005)...\n",
      "Error downloading 10-Q for CHTR in 2019: ('Connection aborted.', ConnectionResetError(10054, 'Varolan bir bağlantı uzaktaki bir ana bilgisayar tarafından zorla kapatıldı', None, 10054, None))\n",
      "Downloading 10-Q for CHTR (2020)...\n",
      "Error downloading 10-Q for GM in 2010: ('Connection aborted.', ConnectionResetError(10054, 'Varolan bir bağlantı uzaktaki bir ana bilgisayar tarafından zorla kapatıldı', None, 10054, None))\n",
      "Downloading 10-Q for GM (2011)...\n",
      "Error downloading 10-Q for DLR in 2014: ('Connection aborted.', ConnectionResetError(10054, 'Varolan bir bağlantı uzaktaki bir ana bilgisayar tarafından zorla kapatıldı', None, 10054, None))\n",
      "Downloading 10-Q for DLR (2015)...\n",
      "Downloading 10-Q for AIG (2006)...\n",
      "Downloading 10-Q for AMP (2010)...\n",
      "Downloading 10-Q for COR (2017)...\n",
      "Downloading 10-Q for NEM (2011)...\n",
      "Downloading 10-Q for HWM (2018)...\n",
      "Downloading 10-Q for AFL (2021)...\n",
      "Downloading 10-Q for O (2018)...\n",
      "Downloading 10-Q for FCX (2018)...\n",
      "Downloading 10-Q for KMB (2006)...\n",
      "Downloading 10-Q for AIG (2007)...\n",
      "Downloading 10-Q for DLR (2016)...\n",
      "Downloading 10-Q for COR (2018)...\n",
      "Downloading 10-Q for KMB (2007)...\n",
      "Downloading 10-Q for O (2019)...\n",
      "Downloading 10-Q for CHTR (2021)...\n",
      "Downloading 10-Q for GM (2012)...\n",
      "Downloading 10-Q for AIG (2008)...\n"
     ]
    },
    {
     "name": "stderr",
     "output_type": "stream",
     "text": [
      "Downloading SEC Filings:  55%|█████▍    | 272/499 [2:12:57<5:56:46, 94.30s/it]"
     ]
    },
    {
     "name": "stdout",
     "output_type": "stream",
     "text": [
      "Downloading 10-Q for FCX (2019)...\n",
      "Downloading 10-Q for ALL (2016)...\n",
      "Downloading 10-Q for GWW (2000)...\n",
      "Downloading 10-Q for PSX (2019)...\n",
      "Downloading 10-Q for COR (2019)...\n",
      "Downloading 10-Q for KMB (2008)...\n",
      "Downloading 10-Q for GWW (2001)...\n",
      "Downloading 10-Q for HWM (2019)...\n",
      "Downloading 10-Q for AIG (2009)...\n",
      "Downloading 10-Q for GWW (2002)...\n",
      "Downloading 10-Q for JCI (2015)...\n",
      "Downloading 10-Q for COF (2017)...\n",
      "Downloading 10-Q for COR (2020)...\n",
      "Downloading 10-Q for TFC (2015)...\n",
      "Downloading 10-Q for KMB (2009)...\n",
      "Downloading 10-Q for GWW (2003)...\n",
      "Downloading 10-Q for O (2020)...\n",
      "Downloading 10-Q for FCX (2020)...\n",
      "Downloading 10-Q for GWW (2004)...\n",
      "Downloading 10-Q for MET (2015)...\n",
      "Downloading 10-Q for DLR (2017)...\n",
      "Downloading 10-Q for GWW (2005)...\n"
     ]
    },
    {
     "name": "stderr",
     "output_type": "stream",
     "text": [
      "Downloading SEC Filings:  55%|█████▍    | 273/499 [2:15:11<6:39:58, 106.19s/it]"
     ]
    },
    {
     "name": "stdout",
     "output_type": "stream",
     "text": [
      "Downloading 10-Q for KMB (2010)...\n",
      "Downloading 10-Q for WCN (2000)...\n",
      "Downloading 10-Q for AIG (2010)...\n",
      "Downloading 10-Q for WCN (2001)...\n",
      "Downloading 10-Q for GWW (2006)...\n"
     ]
    },
    {
     "name": "stderr",
     "output_type": "stream",
     "text": [
      "Downloading SEC Filings:  55%|█████▍    | 274/499 [2:15:35<5:05:35, 81.49s/it] "
     ]
    },
    {
     "name": "stdout",
     "output_type": "stream",
     "text": [
      "Downloading 10-Q for WCN (2002)...\n",
      "Downloading 10-Q for O (2021)...\n",
      "Downloading 10-Q for LNG (2000)...\n",
      "Downloading 10-Q for COR (2021)...\n",
      "Downloading 10-Q for NEM (2012)...\n",
      "Downloading 10-Q for HWM (2020)...\n",
      "Downloading 10-Q for WCN (2003)...\n",
      "Downloading 10-Q for FCX (2021)...\n",
      "Downloading 10-Q for DLR (2018)...\n",
      "Downloading 10-Q for WCN (2004)...\n",
      "Downloading 10-Q for WCN (2005)...\n",
      "Downloading 10-Q for GWW (2007)...\n",
      "Downloading 10-Q for KMB (2011)...\n",
      "Downloading 10-Q for LNG (2001)...\n",
      "Downloading 10-Q for WCN (2006)...\n",
      "Downloading 10-Q for WCN (2007)...\n",
      "Downloading 10-Q for PSX (2020)...\n",
      "Downloading 10-Q for GWW (2008)...\n",
      "Downloading 10-Q for WCN (2008)...\n",
      "Downloading 10-Q for LNG (2002)...\n",
      "Downloading 10-Q for WCN (2009)...\n",
      "Downloading 10-Q for GM (2013)...\n",
      "Downloading 10-Q for WCN (2010)...\n",
      "Downloading 10-Q for LNG (2003)...\n",
      "Downloading 10-Q for WCN (2011)...\n",
      "Downloading 10-Q for GWW (2009)...\n",
      "Downloading 10-Q for WCN (2012)...\n",
      "Downloading 10-Q for KMB (2012)...\n",
      "Downloading 10-Q for WCN (2013)...\n",
      "Downloading 10-Q for WCN (2014)...\n",
      "Downloading 10-Q for LNG (2004)...\n",
      "Downloading 10-Q for GWW (2010)...\n",
      "Downloading 10-Q for JCI (2016)...\n",
      "Downloading 10-Q for WCN (2015)...\n",
      "Downloading 10-Q for NEM (2013)...\n",
      "Downloading 10-Q for HWM (2021)...\n",
      "Downloading 10-Q for ALL (2017)...\n",
      "Downloading 10-Q for WCN (2016)...\n",
      "Downloading 10-Q for AMP (2011)...\n",
      "Downloading 10-Q for KMB (2013)...\n"
     ]
    },
    {
     "name": "stderr",
     "output_type": "stream",
     "text": [
      "Downloading SEC Filings:  55%|█████▌    | 275/499 [2:17:06<5:15:12, 84.43s/it]"
     ]
    },
    {
     "name": "stdout",
     "output_type": "stream",
     "text": [
      "Downloading 10-Q for DLR (2019)...\n",
      "Downloading 10-Q for LNG (2005)...\n",
      "Downloading 10-Q for NWG (2000)...\n",
      "Downloading 10-Q for TFC (2016)...\n",
      "Downloading 10-Q for GM (2014)...\n",
      "Downloading 10-Q for GWW (2011)...\n",
      "Downloading 10-Q for NWG (2001)...\n",
      "Downloading 10-Q for WCN (2017)...\n",
      "Downloading 10-Q for PSX (2021)...\n",
      "Downloading 10-Q for NWG (2002)...\n",
      "Downloading 10-Q for LNG (2006)...\n"
     ]
    },
    {
     "name": "stderr",
     "output_type": "stream",
     "text": [
      "Downloading SEC Filings:  56%|█████▌    | 277/499 [2:17:49<3:06:45, 50.48s/it]"
     ]
    },
    {
     "name": "stdout",
     "output_type": "stream",
     "text": [
      "Downloading 10-Q for TAK (2000)...\n",
      "Downloading 10-Q for HLN (2000)...\n",
      "Downloading 10-Q for NWG (2003)...\n",
      "Downloading 10-Q for AIG (2011)...\n",
      "Downloading 10-Q for TAK (2001)...\n",
      "Downloading 10-Q for HLN (2001)...\n",
      "Downloading 10-Q for TAK (2002)...\n",
      "Downloading 10-Q for HLN (2002)...\n",
      "Downloading 10-Q for HLN (2003)...\n",
      "Downloading 10-Q for TAK (2003)...\n",
      "Downloading 10-Q for GWW (2012)...\n",
      "Downloading 10-Q for HLN (2004)...\n",
      "Downloading 10-Q for TAK (2004)...\n",
      "Downloading 10-Q for NWG (2004)...\n",
      "Downloading 10-Q for HLN (2005)...\n",
      "Downloading 10-Q for TAK (2005)...\n",
      "Downloading 10-Q for HLN (2006)...\n",
      "Downloading 10-Q for TAK (2006)...\n",
      "Downloading 10-Q for JCI (2017)...\n",
      "Downloading 10-Q for HLN (2007)...\n",
      "Downloading 10-Q for TAK (2007)...\n",
      "Downloading 10-Q for DLR (2020)...\n",
      "Downloading 10-Q for TAK (2008)...\n",
      "Downloading 10-Q for HLN (2008)...\n"
     ]
    },
    {
     "name": "stderr",
     "output_type": "stream",
     "text": [
      "Downloading SEC Filings:  56%|█████▌    | 278/499 [2:18:33<2:58:53, 48.57s/it]"
     ]
    },
    {
     "name": "stdout",
     "output_type": "stream",
     "text": [
      "Downloading 10-Q for NWG (2005)...\n",
      "Downloading 10-Q for TAK (2009)...\n",
      "Downloading 10-Q for HLN (2009)...\n",
      "Downloading 10-Q for TAK (2010)...\n",
      "Downloading 10-Q for HLN (2010)...\n",
      "Downloading 10-Q for D (2000)...\n",
      "Downloading 10-Q for ALL (2018)...\n",
      "Downloading 10-Q for TAK (2011)...\n"
     ]
    },
    {
     "name": "stderr",
     "output_type": "stream",
     "text": [
      "Downloading SEC Filings:  56%|█████▌    | 279/499 [2:18:44<2:17:00, 37.37s/it]"
     ]
    },
    {
     "name": "stdout",
     "output_type": "stream",
     "text": [
      "Downloading 10-Q for AMP (2012)...\n",
      "Downloading 10-Q for HLN (2011)...\n",
      "Downloading 10-Q for KMB (2014)...\n",
      "Downloading 10-Q for MET (2016)...\n",
      "Downloading 10-Q for TAK (2012)...\n",
      "Downloading 10-Q for HLN (2012)...\n",
      "Downloading 10-Q for NWG (2006)...\n",
      "Downloading 10-Q for DB (2000)...\n",
      "Downloading 10-Q for TAK (2013)...\n",
      "Downloading 10-Q for HLN (2013)...\n",
      "Downloading 10-Q for TAK (2014)...\n",
      "Downloading 10-Q for HLN (2014)...\n",
      "Downloading 10-Q for TAK (2015)...\n",
      "Downloading 10-Q for HLN (2015)...\n",
      "Downloading 10-Q for GWW (2013)...\n",
      "Downloading 10-Q for TAK (2016)...\n",
      "Downloading 10-Q for TFC (2017)...\n",
      "Downloading 10-Q for HLN (2016)...\n",
      "Downloading 10-Q for NWG (2007)...\n",
      "Downloading 10-Q for TAK (2017)...\n",
      "Downloading 10-Q for HLN (2017)...\n",
      "Downloading 10-Q for TAK (2018)...\n",
      "Downloading 10-Q for HLN (2018)...\n",
      "Downloading 10-Q for D (2001)...\n",
      "Downloading 10-Q for TAK (2019)...\n",
      "Downloading 10-Q for HLN (2019)...\n",
      "Downloading 10-Q for TAK (2020)...\n",
      "Downloading 10-Q for NWG (2008)...\n",
      "Downloading 10-Q for HLN (2020)...\n",
      "Downloading 10-Q for TAK (2021)...\n",
      "Downloading 10-Q for DB (2001)...\n",
      "Downloading 10-Q for WCN (2018)...\n",
      "Downloading 10-Q for HLN (2021)...\n"
     ]
    },
    {
     "name": "stderr",
     "output_type": "stream",
     "text": [
      "Downloading SEC Filings:  56%|█████▋    | 281/499 [2:19:43<1:52:31, 30.97s/it]"
     ]
    },
    {
     "name": "stdout",
     "output_type": "stream",
     "text": [
      "Downloading 10-Q for ARES (2000)...\n",
      "Downloading 10-Q for NWG (2009)...\n",
      "Downloading 10-Q for GBTC (2000)...\n",
      "Downloading 10-Q for GBTC (2001)...\n",
      "Downloading 10-Q for D (2002)...\n",
      "Downloading 10-Q for ARES (2001)...\n",
      "Downloading 10-Q for GBTC (2002)...\n",
      "Downloading 10-Q for GBTC (2003)...\n",
      "Downloading 10-Q for GWW (2014)...\n",
      "Downloading 10-Q for NWG (2010)...\n",
      "Downloading 10-Q for GBTC (2004)...\n",
      "Downloading 10-Q for ARES (2002)...\n",
      "Downloading 10-Q for GBTC (2005)...\n",
      "Downloading 10-Q for DB (2002)...\n",
      "Downloading 10-Q for GBTC (2006)...\n",
      "Downloading 10-Q for ARES (2003)...\n",
      "Downloading 10-Q for NEM (2014)...\n",
      "Downloading 10-Q for GBTC (2007)...\n",
      "Downloading 10-Q for NWG (2011)...\n",
      "Downloading 10-Q for GBTC (2008)...\n",
      "Downloading 10-Q for ARES (2004)...\n",
      "Downloading 10-Q for GBTC (2009)...\n",
      "Downloading 10-Q for D (2003)...\n",
      "Downloading 10-Q for GBTC (2010)...\n",
      "Downloading 10-Q for ARES (2005)...\n",
      "Downloading 10-Q for GBTC (2011)...\n",
      "Downloading 10-Q for NWG (2012)...\n",
      "Downloading 10-Q for GBTC (2012)...\n",
      "Downloading 10-Q for WCN (2019)...\n",
      "Downloading 10-Q for ARES (2006)...\n",
      "Downloading 10-Q for GBTC (2013)...\n",
      "Downloading 10-Q for DB (2003)...\n",
      "Downloading 10-Q for GWW (2015)...\n",
      "Downloading 10-Q for GBTC (2014)...\n",
      "Downloading 10-Q for GBTC (2015)...\n",
      "Downloading 10-Q for NWG (2013)...\n",
      "Downloading 10-Q for ARES (2007)...\n",
      "Downloading 10-Q for GBTC (2016)...\n",
      "Downloading 10-Q for ALL (2019)...\n",
      "Downloading 10-Q for GM (2015)...\n",
      "Downloading 10-Q for ARES (2008)...\n",
      "Downloading 10-Q for GBTC (2017)...\n",
      "Downloading 10-Q for D (2004)...\n",
      "Downloading 10-Q for GBTC (2018)...\n",
      "Downloading 10-Q for NWG (2014)...\n",
      "Downloading 10-Q for GBTC (2019)...\n",
      "Downloading 10-Q for ARES (2009)...\n",
      "Downloading 10-Q for LNG (2007)...\n",
      "Downloading 10-Q for GBTC (2020)...\n",
      "Downloading 10-Q for DB (2004)...\n",
      "Downloading 10-Q for ARES (2010)...\n",
      "Downloading 10-Q for NWG (2015)...\n",
      "Downloading 10-Q for ARES (2011)...\n",
      "Downloading 10-Q for GWW (2016)...\n",
      "Downloading 10-Q for D (2005)...\n",
      "Downloading 10-Q for ARES (2012)...\n",
      "Downloading 10-Q for NWG (2016)...\n",
      "Downloading 10-Q for KMB (2015)...\n",
      "Downloading 10-Q for ARES (2013)...\n",
      "Downloading 10-Q for LNG (2008)...\n",
      "Downloading 10-Q for JCI (2018)...\n",
      "Downloading 10-Q for DB (2005)...\n",
      "Downloading 10-Q for GBTC (2021)...\n",
      "Downloading 10-Q for ARES (2014)...\n",
      "Downloading 10-Q for NWG (2017)...\n",
      "Downloading 10-Q for AIG (2012)...\n",
      "Downloading 10-Q for DLR (2021)...\n",
      "Downloading 10-Q for AEP (2015)...\n",
      "Downloading 10-Q for NWG (2018)...\n",
      "Downloading 10-Q for D (2006)...\n",
      "Downloading 10-Q for GWW (2017)...\n",
      "Downloading 10-Q for DB (2006)...\n",
      "Downloading 10-Q for LNG (2009)...\n",
      "Downloading 10-Q for NWG (2019)...\n",
      "Downloading 10-Q for WCN (2020)...\n",
      "Downloading 10-Q for AMP (2013)...\n",
      "Downloading 10-Q for GM (2016)...\n",
      "Downloading 10-Q for NWG (2020)...\n",
      "Downloading 10-Q for D (2007)...\n"
     ]
    },
    {
     "name": "stderr",
     "output_type": "stream",
     "text": [
      "Downloading SEC Filings:  57%|█████▋    | 282/499 [2:23:01<4:53:24, 81.13s/it]"
     ]
    },
    {
     "name": "stdout",
     "output_type": "stream",
     "text": [
      "Downloading 10-Q for LNG (2010)...\n",
      "Downloading 10-Q for DB (2007)...\n",
      "Downloading 10-Q for NWG (2021)...\n",
      "Downloading 10-Q for CMI (2000)...\n",
      "Downloading 10-Q for TFC (2018)...\n",
      "Downloading 10-Q for GWW (2018)...\n",
      "Downloading 10-Q for KMB (2016)...\n"
     ]
    },
    {
     "name": "stderr",
     "output_type": "stream",
     "text": [
      "Downloading SEC Filings:  57%|█████▋    | 283/499 [2:23:26<3:50:47, 64.11s/it]"
     ]
    },
    {
     "name": "stdout",
     "output_type": "stream",
     "text": [
      "Downloading 10-Q for ARES (2015)...\n",
      "Downloading 10-Q for CMI (2001)...\n",
      "Downloading 10-Q for E (2000)...\n",
      "Downloading 10-Q for NEM (2015)...\n",
      "Downloading 10-Q for E (2001)...\n",
      "Downloading 10-Q for D (2008)...\n",
      "Downloading 10-Q for DB (2008)...\n",
      "Downloading 10-Q for E (2002)...\n",
      "Downloading 10-Q for LNG (2011)...\n",
      "Downloading 10-Q for COF (2018)...\n",
      "Downloading 10-Q for E (2003)...\n"
     ]
    },
    {
     "name": "stderr",
     "output_type": "stream",
     "text": [
      "Downloading SEC Filings:  57%|█████▋    | 284/499 [2:23:40<2:56:52, 49.36s/it]"
     ]
    },
    {
     "name": "stdout",
     "output_type": "stream",
     "text": [
      "Downloading 10-Q for E (2004)...\n",
      "Downloading 10-Q for WCN (2021)...\n",
      "Downloading 10-Q for GM (2017)...\n",
      "Downloading 10-Q for E (2005)...\n",
      "Downloading 10-Q for KDP (2000)...\n",
      "Downloading 10-Q for CMI (2002)...\n",
      "Downloading 10-Q for E (2006)...\n",
      "Downloading 10-Q for E (2007)...\n",
      "Downloading 10-Q for KDP (2001)...\n",
      "Downloading 10-Q for E (2008)...\n",
      "Downloading 10-Q for E (2009)...\n",
      "Downloading 10-Q for MET (2017)...\n",
      "Downloading 10-Q for KDP (2002)...\n",
      "Downloading 10-Q for D (2009)...\n",
      "Downloading 10-Q for E (2010)...\n",
      "Downloading 10-Q for DB (2009)...\n",
      "Downloading 10-Q for E (2011)...\n",
      "Downloading 10-Q for GWW (2019)...\n",
      "Downloading 10-Q for E (2012)...\n",
      "Downloading 10-Q for CMI (2003)...\n",
      "Downloading 10-Q for KDP (2003)...\n",
      "Downloading 10-Q for KMB (2017)...\n",
      "Downloading 10-Q for JCI (2019)...\n",
      "Downloading 10-Q for E (2013)...\n",
      "Downloading 10-Q for E (2014)...\n",
      "Downloading 10-Q for LNG (2012)...\n",
      "Downloading 10-Q for KDP (2004)...\n",
      "Downloading 10-Q for E (2015)...\n",
      "Downloading 10-Q for E (2016)...\n",
      "Downloading 10-Q for E (2017)...\n",
      "Downloading 10-Q for KDP (2005)...\n",
      "Downloading 10-Q for E (2018)...\n",
      "Downloading 10-Q for DB (2010)...\n",
      "Downloading 10-Q for CMI (2004)...\n",
      "Downloading 10-Q for E (2019)...\n",
      "Downloading 10-Q for KDP (2006)...\n",
      "Downloading 10-Q for D (2010)...\n",
      "Downloading 10-Q for E (2020)...\n",
      "Downloading 10-Q for E (2021)...\n",
      "Downloading 10-Q for KDP (2007)...\n",
      "Downloading 10-Q for GM (2018)...\n"
     ]
    },
    {
     "name": "stderr",
     "output_type": "stream",
     "text": [
      "Downloading SEC Filings:  57%|█████▋    | 285/499 [2:25:01<3:29:20, 58.70s/it]"
     ]
    },
    {
     "name": "stdout",
     "output_type": "stream",
     "text": [
      "Downloading 10-Q for KDP (2008)...\n",
      "Downloading 10-Q for KVUE (2000)...\n",
      "Downloading 10-Q for GWW (2020)...\n",
      "Downloading 10-Q for KVUE (2001)...\n",
      "Downloading 10-Q for DB (2011)...\n",
      "Downloading 10-Q for KVUE (2002)...\n",
      "Downloading 10-Q for CMI (2005)...\n",
      "Downloading 10-Q for KVUE (2003)...\n",
      "Downloading 10-Q for KMB (2018)...\n"
     ]
    },
    {
     "name": "stderr",
     "output_type": "stream",
     "text": [
      "Downloading SEC Filings:  57%|█████▋    | 286/499 [2:25:14<2:40:09, 45.12s/it]"
     ]
    },
    {
     "name": "stdout",
     "output_type": "stream",
     "text": [
      "Downloading 10-Q for KVUE (2004)...\n",
      "Downloading 10-Q for KVUE (2005)...\n",
      "Downloading 10-Q for SRE (2000)...\n",
      "Downloading 10-Q for KVUE (2006)...\n",
      "Downloading 10-Q for KVUE (2007)...\n",
      "Downloading 10-Q for KDP (2009)...\n",
      "Downloading 10-Q for LNG (2013)...\n",
      "Downloading 10-Q for KVUE (2008)...\n",
      "Downloading 10-Q for KVUE (2009)...\n",
      "Downloading 10-Q for DB (2012)...\n",
      "Downloading 10-Q for KVUE (2010)...\n",
      "Downloading 10-Q for KVUE (2011)...\n",
      "Downloading 10-Q for KVUE (2012)...\n",
      "Downloading 10-Q for D (2011)...\n",
      "Downloading 10-Q for SRE (2001)...\n",
      "Downloading 10-Q for ALL (2020)...\n",
      "Downloading 10-Q for KVUE (2013)...\n",
      "Downloading 10-Q for GM (2019)...\n",
      "Downloading 10-Q for TFC (2019)...\n",
      "Downloading 10-Q for GWW (2021)...\n",
      "Downloading 10-Q for KVUE (2014)...\n",
      "Downloading 10-Q for KMB (2019)...\n",
      "Downloading 10-Q for KDP (2010)...\n",
      "Downloading 10-Q for KVUE (2015)...\n",
      "Downloading 10-Q for KVUE (2016)...\n",
      "Downloading 10-Q for DB (2013)...\n",
      "Downloading 10-Q for COF (2019)...\n",
      "Downloading 10-Q for KVUE (2017)...\n",
      "Downloading 10-Q for KVUE (2018)...\n",
      "Downloading 10-Q for CMI (2006)...\n",
      "Downloading 10-Q for KVUE (2019)...\n",
      "Downloading 10-Q for KVUE (2020)...\n",
      "Downloading 10-Q for SRE (2002)...\n",
      "Downloading 10-Q for NEM (2016)...\n",
      "Downloading 10-Q for KVUE (2021)...\n",
      "Downloading 10-Q for JCI (2020)...\n"
     ]
    },
    {
     "name": "stderr",
     "output_type": "stream",
     "text": [
      "Downloading SEC Filings:  58%|█████▊    | 287/499 [2:25:59<2:39:21, 45.10s/it]"
     ]
    },
    {
     "name": "stdout",
     "output_type": "stream",
     "text": [
      "Downloading 10-Q for ARES (2016)...\n",
      "Downloading 10-Q for ALC (2000)...\n",
      "Downloading 10-Q for ALC (2001)...\n",
      "Downloading 10-Q for DB (2014)...\n",
      "Downloading 10-Q for KDP (2011)...\n",
      "Downloading 10-Q for ALC (2002)...\n",
      "Downloading 10-Q for CMI (2007)...\n",
      "Downloading 10-Q for ALC (2003)...\n",
      "Downloading 10-Q for KMB (2020)...\n",
      "Downloading 10-Q for ALC (2004)...\n",
      "Downloading 10-Q for SRE (2003)...\n",
      "Downloading 10-Q for ALC (2005)...\n",
      "Downloading 10-Q for LNG (2014)...\n"
     ]
    },
    {
     "name": "stderr",
     "output_type": "stream",
     "text": [
      "Downloading SEC Filings:  58%|█████▊    | 288/499 [2:26:09<2:01:24, 34.52s/it]"
     ]
    },
    {
     "name": "stdout",
     "output_type": "stream",
     "text": [
      "Downloading 10-Q for ALC (2006)...\n",
      "Downloading 10-Q for ALC (2007)...\n",
      "Downloading 10-Q for FAST (2000)...\n",
      "Downloading 10-Q for TFC (2020)...\n",
      "Downloading 10-Q for ALC (2008)...\n",
      "Downloading 10-Q for MET (2018)...\n",
      "Downloading 10-Q for CMI (2008)...\n",
      "Downloading 10-Q for ALC (2009)...\n",
      "Downloading 10-Q for DB (2015)...\n",
      "Downloading 10-Q for ALC (2010)...\n",
      "Downloading 10-Q for ALC (2011)...\n",
      "Downloading 10-Q for AMP (2014)...\n",
      "Downloading 10-Q for ALC (2012)...\n",
      "Downloading 10-Q for SRE (2004)...\n",
      "Downloading 10-Q for FAST (2001)...\n",
      "Downloading 10-Q for ALC (2013)...\n",
      "Downloading 10-Q for ALC (2014)...\n",
      "Downloading 10-Q for ALC (2015)...\n",
      "Downloading 10-Q for ALC (2016)...\n",
      "Downloading 10-Q for CMI (2009)...\n",
      "Downloading 10-Q for ALC (2017)...\n",
      "Downloading 10-Q for FAST (2002)...\n",
      "Downloading 10-Q for DB (2016)...\n",
      "Downloading 10-Q for GM (2020)...\n",
      "Downloading 10-Q for ALC (2018)...\n",
      "Downloading 10-Q for ALC (2019)...\n",
      "Downloading 10-Q for ALC (2020)...\n",
      "Downloading 10-Q for KMB (2021)...\n",
      "Downloading 10-Q for ALC (2021)...\n"
     ]
    },
    {
     "name": "stderr",
     "output_type": "stream",
     "text": [
      "Downloading SEC Filings:  58%|█████▊    | 289/499 [2:26:57<2:14:28, 38.42s/it]"
     ]
    },
    {
     "name": "stdout",
     "output_type": "stream",
     "text": [
      "Downloading 10-Q for FAST (2003)...\n",
      "Downloading 10-Q for SRE (2005)...\n",
      "Downloading 10-Q for AIG (2013)...\n",
      "Downloading 10-Q for HES (2000)...\n",
      "Downloading 10-Q for DB (2017)...\n",
      "Downloading 10-Q for D (2012)...\n",
      "Downloading 10-Q for CMI (2010)...\n",
      "Downloading 10-Q for AEP (2016)...\n",
      "Downloading 10-Q for KDP (2012)...\n",
      "Downloading 10-Q for FAST (2004)...\n",
      "Downloading 10-Q for HES (2001)...\n",
      "Downloading 10-Q for DB (2018)...\n",
      "Downloading 10-Q for LNG (2015)...\n",
      "Downloading 10-Q for FAST (2005)...\n",
      "Downloading 10-Q for SRE (2006)...\n",
      "Downloading 10-Q for JCI (2021)...\n"
     ]
    },
    {
     "name": "stderr",
     "output_type": "stream",
     "text": [
      "Downloading SEC Filings:  58%|█████▊    | 290/499 [2:27:51<2:30:19, 43.16s/it]"
     ]
    },
    {
     "name": "stdout",
     "output_type": "stream",
     "text": [
      "Downloading 10-Q for HES (2002)...\n",
      "Downloading 10-Q for AMX (2000)...\n",
      "Downloading 10-Q for AMX (2001)...\n",
      "Downloading 10-Q for FAST (2006)...\n",
      "Downloading 10-Q for DB (2019)...\n",
      "Downloading 10-Q for AMX (2002)...\n",
      "Downloading 10-Q for AMX (2003)...\n",
      "Downloading 10-Q for AMX (2004)...\n",
      "Downloading 10-Q for HES (2003)...\n",
      "Downloading 10-Q for NEM (2017)...\n",
      "Downloading 10-Q for AMX (2005)...\n",
      "Downloading 10-Q for ARES (2017)...\n",
      "Downloading 10-Q for GM (2021)...\n",
      "Downloading 10-Q for FAST (2007)...\n",
      "Downloading 10-Q for AMX (2006)...\n",
      "Downloading 10-Q for AMX (2007)...\n",
      "Downloading 10-Q for AMX (2008)...\n",
      "Downloading 10-Q for SRE (2007)...\n",
      "Downloading 10-Q for DB (2020)...\n",
      "Downloading 10-Q for AMX (2009)...\n",
      "Downloading 10-Q for HES (2004)...\n",
      "Downloading 10-Q for AMX (2010)...\n",
      "Downloading 10-Q for FAST (2008)...\n",
      "Downloading 10-Q for AMX (2011)...\n",
      "Downloading 10-Q for CMI (2011)...\n",
      "Downloading 10-Q for AMX (2012)...\n",
      "Downloading 10-Q for LNG (2016)...\n",
      "Downloading 10-Q for AMX (2013)...\n",
      "Downloading 10-Q for AMX (2014)...\n",
      "Downloading 10-Q for DB (2021)...\n",
      "Downloading 10-Q for AMX (2015)...\n",
      "Downloading 10-Q for FAST (2009)...\n",
      "Downloading 10-Q for D (2013)...\n",
      "Downloading 10-Q for HES (2005)...\n",
      "Downloading 10-Q for AMX (2016)...\n",
      "Downloading 10-Q for AMX (2017)...\n",
      "Downloading 10-Q for AMX (2018)...\n",
      "Downloading 10-Q for KDP (2013)...\n",
      "Downloading 10-Q for AMP (2015)...\n",
      "Downloading 10-Q for AMX (2019)...\n",
      "Downloading 10-Q for AMX (2020)...\n"
     ]
    },
    {
     "name": "stderr",
     "output_type": "stream",
     "text": [
      "Downloading SEC Filings:  58%|█████▊    | 291/499 [2:29:09<3:06:15, 53.73s/it]"
     ]
    },
    {
     "name": "stdout",
     "output_type": "stream",
     "text": [
      "Downloading 10-Q for AMX (2021)...\n",
      "Downloading 10-Q for FAST (2010)...\n"
     ]
    },
    {
     "name": "stderr",
     "output_type": "stream",
     "text": [
      "Downloading SEC Filings:  59%|█████▊    | 292/499 [2:29:11<2:11:01, 37.98s/it]"
     ]
    },
    {
     "name": "stdout",
     "output_type": "stream",
     "text": [
      "Downloading 10-Q for HES (2006)...\n",
      "Downloading 10-Q for KR (2000)...\n",
      "Downloading 10-Q for SRE (2008)...\n",
      "Downloading 10-Q for SU (2000)...\n",
      "Downloading 10-Q for TFC (2021)...\n",
      "Downloading 10-Q for SU (2001)...\n"
     ]
    },
    {
     "name": "stderr",
     "output_type": "stream",
     "text": [
      "Downloading SEC Filings:  59%|█████▊    | 293/499 [2:29:17<1:37:38, 28.44s/it]"
     ]
    },
    {
     "name": "stdout",
     "output_type": "stream",
     "text": [
      "Downloading 10-Q for SU (2002)...\n",
      "Downloading 10-Q for LNG (2017)...\n",
      "Downloading 10-Q for SU (2003)...\n",
      "Downloading 10-Q for YUM (2000)...\n",
      "Downloading 10-Q for ARES (2018)...\n",
      "Downloading 10-Q for SU (2004)...\n",
      "Downloading 10-Q for FAST (2011)...\n",
      "Downloading 10-Q for HES (2007)...\n",
      "Downloading 10-Q for SU (2005)...\n",
      "Downloading 10-Q for KR (2001)...\n",
      "Downloading 10-Q for SU (2006)...\n",
      "Downloading 10-Q for AEP (2017)...\n",
      "Downloading 10-Q for SU (2007)...\n",
      "Downloading 10-Q for CMI (2012)...\n",
      "Downloading 10-Q for COF (2020)...\n",
      "Downloading 10-Q for ALL (2021)...\n",
      "Downloading 10-Q for SU (2008)...\n",
      "Downloading 10-Q for YUM (2001)...\n",
      "Downloading 10-Q for SU (2009)...\n",
      "Downloading 10-Q for SU (2010)...\n",
      "Downloading 10-Q for SRE (2009)...\n",
      "Downloading 10-Q for HES (2008)...\n",
      "Downloading 10-Q for KR (2002)...\n",
      "Downloading 10-Q for SU (2011)...\n",
      "Downloading 10-Q for SU (2012)...\n",
      "Downloading 10-Q for SU (2013)...\n",
      "Downloading 10-Q for NEM (2018)...\n",
      "Downloading 10-Q for YUM (2002)...\n",
      "Downloading 10-Q for FAST (2012)...\n",
      "Downloading 10-Q for SU (2014)...\n",
      "Downloading 10-Q for SU (2015)...\n",
      "Downloading 10-Q for SU (2016)...\n",
      "Downloading 10-Q for LNG (2018)...\n",
      "Downloading 10-Q for KR (2003)...\n",
      "Downloading 10-Q for SU (2017)...\n",
      "Downloading 10-Q for HES (2009)...\n",
      "Downloading 10-Q for SU (2018)...\n",
      "Downloading 10-Q for YUM (2003)...\n",
      "Downloading 10-Q for SU (2019)...\n",
      "Downloading 10-Q for SU (2020)...\n",
      "Downloading 10-Q for SU (2021)...\n"
     ]
    },
    {
     "name": "stderr",
     "output_type": "stream",
     "text": [
      "Downloading SEC Filings:  59%|█████▉    | 294/499 [2:30:31<2:24:11, 42.20s/it]"
     ]
    },
    {
     "name": "stdout",
     "output_type": "stream",
     "text": [
      "Downloading 10-Q for FAST (2013)...\n",
      "Downloading 10-Q for KR (2004)...\n",
      "Downloading 10-Q for OXY (2000)...\n",
      "Downloading 10-Q for SRE (2010)...\n",
      "Downloading 10-Q for HES (2010)...\n",
      "Downloading 10-Q for YUM (2004)...\n"
     ]
    },
    {
     "name": "stderr",
     "output_type": "stream",
     "text": [
      "Downloading SEC Filings:  59%|█████▉    | 295/499 [2:30:44<1:53:09, 33.28s/it]"
     ]
    },
    {
     "name": "stdout",
     "output_type": "stream",
     "text": [
      "Downloading 10-Q for EXC (2000)...\n",
      "Downloading 10-Q for D (2014)...\n",
      "Downloading 10-Q for OXY (2001)...\n",
      "Downloading 10-Q for YUM (2005)...\n",
      "Downloading 10-Q for KR (2005)...\n",
      "Downloading 10-Q for EXC (2001)...\n",
      "Downloading 10-Q for KDP (2014)...\n",
      "Downloading 10-Q for HES (2011)...\n",
      "Downloading 10-Q for FAST (2014)...\n",
      "Downloading 10-Q for OXY (2002)...\n",
      "Downloading 10-Q for YUM (2006)...\n",
      "Downloading 10-Q for KR (2006)...\n"
     ]
    },
    {
     "name": "stderr",
     "output_type": "stream",
     "text": [
      "Downloading SEC Filings:  59%|█████▉    | 296/499 [2:31:07<1:42:31, 30.31s/it]"
     ]
    },
    {
     "name": "stdout",
     "output_type": "stream",
     "text": [
      "Downloading 10-Q for CMI (2013)...\n",
      "Downloading 10-Q for TEL (2000)...\n",
      "Downloading 10-Q for EXC (2002)...\n",
      "Downloading 10-Q for OXY (2003)...\n",
      "Downloading 10-Q for TEL (2001)...\n",
      "Downloading 10-Q for YUM (2007)...\n",
      "Downloading 10-Q for TEL (2002)...\n",
      "Downloading 10-Q for LNG (2019)...\n",
      "Downloading 10-Q for KR (2007)...\n",
      "Downloading 10-Q for TEL (2003)...\n",
      "Downloading 10-Q for OXY (2004)...\n",
      "Downloading 10-Q for FAST (2015)...\n",
      "Downloading 10-Q for TEL (2004)...\n",
      "Downloading 10-Q for NEM (2019)...\n",
      "Downloading 10-Q for HES (2012)...\n",
      "Downloading 10-Q for YUM (2008)...\n",
      "Downloading 10-Q for TEL (2005)...\n",
      "Downloading 10-Q for EXC (2003)...\n",
      "Downloading 10-Q for KR (2008)...\n",
      "Downloading 10-Q for TEL (2006)...\n",
      "Downloading 10-Q for OXY (2005)...\n",
      "Downloading 10-Q for ARES (2019)...\n",
      "Downloading 10-Q for TEL (2007)...\n",
      "Downloading 10-Q for YUM (2009)...\n",
      "Downloading 10-Q for TEL (2008)...\n",
      "Downloading 10-Q for OXY (2006)...\n",
      "Downloading 10-Q for KR (2009)...\n",
      "Downloading 10-Q for EXC (2004)...\n",
      "Downloading 10-Q for LNG (2020)...\n"
     ]
    },
    {
     "name": "stderr",
     "output_type": "stream",
     "text": [
      "Downloading SEC Filings:  60%|█████▉    | 297/499 [2:31:49<1:54:11, 33.92s/it]"
     ]
    },
    {
     "name": "stdout",
     "output_type": "stream",
     "text": [
      "Downloading 10-Q for MET (2019)...\n",
      "Downloading 10-Q for HMC (2000)...\n",
      "Downloading 10-Q for HMC (2001)...\n",
      "Downloading 10-Q for D (2015)...\n",
      "Downloading 10-Q for YUM (2010)...\n",
      "Downloading 10-Q for HMC (2002)...\n",
      "Downloading 10-Q for COF (2021)...\n",
      "Downloading 10-Q for TEL (2009)...\n",
      "Downloading 10-Q for OXY (2007)...\n",
      "Downloading 10-Q for KDP (2015)...\n",
      "Downloading 10-Q for HMC (2003)...\n",
      "Downloading 10-Q for FAST (2016)...\n",
      "Downloading 10-Q for HMC (2004)...\n",
      "Downloading 10-Q for HMC (2005)...\n",
      "Downloading 10-Q for HMC (2006)...\n",
      "Downloading 10-Q for HMC (2007)...\n",
      "Downloading 10-Q for KR (2010)...\n",
      "Downloading 10-Q for HES (2013)...\n",
      "Downloading 10-Q for HMC (2008)...\n",
      "Downloading 10-Q for OXY (2008)...\n",
      "Downloading 10-Q for HMC (2009)...\n",
      "Downloading 10-Q for EXC (2005)...\n",
      "Downloading 10-Q for HMC (2010)...\n",
      "Downloading 10-Q for AIG (2014)...\n",
      "Downloading 10-Q for HMC (2011)...\n",
      "Downloading 10-Q for TEL (2010)...\n",
      "Downloading 10-Q for HMC (2012)...\n",
      "Downloading 10-Q for HMC (2013)...\n",
      "Downloading 10-Q for YUM (2011)...\n",
      "Downloading 10-Q for HMC (2014)...\n",
      "Downloading 10-Q for CMI (2014)...\n",
      "Downloading 10-Q for HMC (2015)...\n",
      "Downloading 10-Q for OXY (2009)...\n",
      "Downloading 10-Q for FAST (2017)...\n",
      "Downloading 10-Q for HMC (2016)...\n",
      "Downloading 10-Q for HMC (2017)...\n",
      "Downloading 10-Q for HMC (2018)...\n",
      "Downloading 10-Q for HMC (2019)...\n",
      "Downloading 10-Q for SRE (2011)...\n",
      "Downloading 10-Q for EXC (2006)...\n",
      "Downloading 10-Q for HMC (2020)...\n",
      "Downloading 10-Q for HMC (2021)...\n",
      "Downloading 10-Q for HES (2014)...\n"
     ]
    },
    {
     "name": "stderr",
     "output_type": "stream",
     "text": [
      "Downloading SEC Filings:  60%|█████▉    | 298/499 [2:32:50<2:20:08, 41.83s/it]"
     ]
    },
    {
     "name": "stdout",
     "output_type": "stream",
     "text": [
      "Downloading 10-Q for TEL (2011)...\n",
      "Downloading 10-Q for DHI (2000)...\n",
      "Downloading 10-Q for KR (2011)...\n",
      "Downloading 10-Q for OXY (2010)...\n",
      "Downloading 10-Q for ARES (2020)...\n",
      "Downloading 10-Q for KDP (2016)...\n",
      "Downloading 10-Q for FAST (2018)...\n",
      "Downloading 10-Q for AEP (2018)...\n",
      "Downloading 10-Q for DHI (2001)...\n",
      "Downloading 10-Q for EXC (2007)...\n",
      "Downloading 10-Q for YUM (2012)...\n",
      "Downloading 10-Q for CMI (2015)...\n",
      "Downloading 10-Q for DHI (2002)...\n",
      "Downloading 10-Q for OXY (2011)...\n",
      "Downloading 10-Q for D (2016)...\n",
      "Downloading 10-Q for FAST (2019)...\n",
      "Downloading 10-Q for DHI (2003)...\n",
      "Downloading 10-Q for EXC (2008)...\n",
      "Downloading 10-Q for KDP (2017)...\n",
      "Downloading 10-Q for KR (2012)...\n",
      "Downloading 10-Q for HES (2015)...\n",
      "Downloading 10-Q for CMI (2016)...\n",
      "Downloading 10-Q for DHI (2004)...\n",
      "Downloading 10-Q for YUM (2013)...\n",
      "Downloading 10-Q for FAST (2020)...\n",
      "Downloading 10-Q for TEL (2012)...\n",
      "Downloading 10-Q for EXC (2009)...\n",
      "Downloading 10-Q for OXY (2012)...\n",
      "Downloading 10-Q for DHI (2005)...\n"
     ]
    },
    {
     "name": "stderr",
     "output_type": "stream",
     "text": [
      "Downloading SEC Filings:  60%|█████▉    | 299/499 [2:33:47<2:35:09, 46.55s/it]"
     ]
    },
    {
     "name": "stdout",
     "output_type": "stream",
     "text": [
      "Downloading 10-Q for ROST (2000)...\n",
      "Downloading 10-Q for KR (2013)...\n",
      "Downloading 10-Q for HES (2016)...\n",
      "Downloading 10-Q for DHI (2006)...\n",
      "Downloading 10-Q for FAST (2021)...\n",
      "Downloading 10-Q for ROST (2001)...\n",
      "Downloading 10-Q for NEM (2020)...\n",
      "Downloading 10-Q for DHI (2007)...\n",
      "Downloading 10-Q for AIG (2015)...\n",
      "Downloading 10-Q for YUM (2014)...\n",
      "Downloading 10-Q for OXY (2013)...\n",
      "Downloading 10-Q for ROST (2002)...\n",
      "Downloading 10-Q for CMI (2017)...\n",
      "Downloading 10-Q for EXC (2010)...\n",
      "Downloading 10-Q for MET (2020)...\n",
      "Downloading 10-Q for SRE (2012)...\n"
     ]
    },
    {
     "name": "stderr",
     "output_type": "stream",
     "text": [
      "Downloading SEC Filings:  60%|██████    | 300/499 [2:34:05<2:06:10, 38.04s/it]"
     ]
    },
    {
     "name": "stdout",
     "output_type": "stream",
     "text": [
      "Downloading 10-Q for HES (2017)...\n",
      "Downloading 10-Q for FICO (2000)...\n",
      "Downloading 10-Q for AEP (2019)...\n",
      "Downloading 10-Q for DHI (2008)...\n",
      "Downloading 10-Q for ROST (2003)...\n",
      "Downloading 10-Q for LNG (2021)...\n",
      "Downloading 10-Q for FICO (2001)...\n",
      "Downloading 10-Q for ARES (2021)...\n",
      "Downloading 10-Q for DHI (2009)...\n",
      "Downloading 10-Q for KR (2014)...\n",
      "Downloading 10-Q for YUM (2015)...\n",
      "Downloading 10-Q for FICO (2002)...\n",
      "Downloading 10-Q for HES (2018)...\n",
      "Downloading 10-Q for D (2017)...\n",
      "Downloading 10-Q for DHI (2010)...\n",
      "Downloading 10-Q for CMI (2018)...\n",
      "Downloading 10-Q for KDP (2018)...\n",
      "Downloading 10-Q for TEL (2013)...\n",
      "Downloading 10-Q for FICO (2003)...\n",
      "Downloading 10-Q for YUM (2016)...\n",
      "Downloading 10-Q for KR (2015)...\n",
      "Downloading 10-Q for OXY (2014)...\n",
      "Downloading 10-Q for DHI (2011)...\n",
      "Downloading 10-Q for HES (2019)...\n",
      "Downloading 10-Q for ROST (2004)...\n",
      "Downloading 10-Q for FICO (2004)...\n",
      "Downloading 10-Q for NEM (2021)...\n",
      "Downloading 10-Q for AEP (2020)...\n",
      "Downloading 10-Q for ROST (2005)...\n",
      "Downloading 10-Q for FICO (2005)...\n",
      "Downloading 10-Q for KR (2016)...\n",
      "Downloading 10-Q for KDP (2019)...\n",
      "Downloading 10-Q for DHI (2012)...\n",
      "Downloading 10-Q for TEL (2014)...\n",
      "Downloading 10-Q for CMI (2019)...\n",
      "Downloading 10-Q for ROST (2006)...\n"
     ]
    },
    {
     "name": "stderr",
     "output_type": "stream",
     "text": [
      "Downloading SEC Filings:  60%|██████    | 301/499 [2:35:00<2:21:38, 42.92s/it]"
     ]
    },
    {
     "name": "stdout",
     "output_type": "stream",
     "text": [
      "Downloading 10-Q for HES (2020)...\n",
      "Downloading 10-Q for FICO (2006)...\n",
      "Downloading 10-Q for OXY (2015)...\n",
      "Downloading 10-Q for CCI (2000)...\n",
      "Downloading 10-Q for YUM (2017)...\n",
      "Downloading 10-Q for ROST (2007)...\n",
      "Downloading 10-Q for KR (2017)...\n",
      "Downloading 10-Q for FICO (2007)...\n",
      "Downloading 10-Q for CCI (2001)...\n",
      "Downloading 10-Q for ROST (2008)...\n",
      "Downloading 10-Q for OXY (2016)...\n",
      "Downloading 10-Q for DHI (2013)...\n",
      "Downloading 10-Q for FICO (2008)...\n",
      "Downloading 10-Q for CCI (2002)...\n",
      "Downloading 10-Q for YUM (2018)...\n",
      "Downloading 10-Q for HES (2021)...\n",
      "Downloading 10-Q for ROST (2009)...\n",
      "Downloading 10-Q for FICO (2009)...\n",
      "Downloading 10-Q for MET (2021)...\n",
      "Downloading 10-Q for OXY (2017)...\n",
      "Downloading 10-Q for CCI (2003)...\n",
      "Downloading 10-Q for EXC (2011)...\n",
      "Downloading 10-Q for KR (2018)...\n",
      "Downloading 10-Q for ROST (2010)...\n",
      "Downloading 10-Q for TEL (2015)...\n"
     ]
    },
    {
     "name": "stderr",
     "output_type": "stream",
     "text": [
      "Downloading SEC Filings:  61%|██████    | 302/499 [2:35:38<2:16:01, 41.43s/it]"
     ]
    },
    {
     "name": "stdout",
     "output_type": "stream",
     "text": [
      "Downloading 10-Q for FICO (2010)...\n",
      "Downloading 10-Q for CCI (2004)...\n",
      "Downloading 10-Q for DHI (2014)...\n",
      "Downloading 10-Q for MSCI (2000)...\n",
      "Downloading 10-Q for YUM (2019)...\n",
      "Downloading 10-Q for AIG (2016)...\n",
      "Downloading 10-Q for MSCI (2001)...\n",
      "Downloading 10-Q for OXY (2018)...\n",
      "Downloading 10-Q for CMI (2020)...\n",
      "Downloading 10-Q for D (2018)...\n",
      "Downloading 10-Q for MSCI (2002)...\n",
      "Downloading 10-Q for CCI (2005)...\n",
      "Downloading 10-Q for SRE (2013)...\n"
     ]
    },
    {
     "name": "stderr",
     "output_type": "stream",
     "text": [
      "Downloading SEC Filings:  61%|██████    | 303/499 [2:35:49<1:45:57, 32.44s/it]"
     ]
    },
    {
     "name": "stdout",
     "output_type": "stream",
     "text": [
      "Downloading 10-Q for KR (2019)...\n",
      "Downloading 10-Q for MSCI (2003)...\n",
      "Downloading 10-Q for FICO (2011)...\n",
      "Downloading 10-Q for MPC (2000)...\n",
      "Downloading 10-Q for KDP (2020)...\n",
      "Downloading 10-Q for ROST (2011)...\n",
      "Downloading 10-Q for MSCI (2004)...\n",
      "Downloading 10-Q for MPC (2001)...\n",
      "Downloading 10-Q for MSCI (2005)...\n",
      "Downloading 10-Q for CCI (2006)...\n",
      "Downloading 10-Q for MPC (2002)...\n",
      "Downloading 10-Q for MSCI (2006)...\n",
      "Downloading 10-Q for MPC (2003)...\n",
      "Downloading 10-Q for MSCI (2007)...\n",
      "Downloading 10-Q for MPC (2004)...\n"
     ]
    },
    {
     "name": "stderr",
     "output_type": "stream",
     "text": [
      "Downloading SEC Filings:  61%|██████    | 304/499 [2:36:00<1:24:38, 26.04s/it]"
     ]
    },
    {
     "name": "stdout",
     "output_type": "stream",
     "text": [
      "Downloading 10-Q for MSCI (2008)...\n",
      "Downloading 10-Q for OXY (2019)...\n",
      "Downloading 10-Q for TEL (2016)...\n",
      "Downloading 10-Q for FANG (2000)...\n",
      "Downloading 10-Q for YUM (2020)...\n",
      "Downloading 10-Q for CCI (2007)...\n",
      "Downloading 10-Q for MPC (2005)...\n",
      "Downloading 10-Q for FICO (2012)...\n",
      "Downloading 10-Q for ROST (2012)...\n",
      "Downloading 10-Q for KDP (2021)...\n",
      "Error downloading 10-Q for YUM in 2020: ('Connection aborted.', RemoteDisconnected('Remote end closed connection without response'))\n",
      "Downloading 10-Q for YUM (2021)...\n",
      "Error downloading 10-Q for TEL in 2016: ('Connection aborted.', RemoteDisconnected('Remote end closed connection without response'))\n",
      "Downloading 10-Q for TEL (2017)...\n",
      "Error downloading 10-Q for CCI in 2007: ('Connection aborted.', RemoteDisconnected('Remote end closed connection without response'))\n",
      "Downloading 10-Q for CCI (2008)...\n",
      "Error downloading 10-Q for FANG in 2000: ('Connection aborted.', RemoteDisconnected('Remote end closed connection without response'))\n",
      "Downloading 10-Q for FANG (2001)...\n",
      "Error downloading 10-Q for MSCI in 2008: ('Connection aborted.', RemoteDisconnected('Remote end closed connection without response'))\n",
      "Downloading 10-Q for MSCI (2009)...\n",
      "Error downloading 10-Q for MPC in 2005: ('Connection aborted.', ConnectionResetError(10054, 'Varolan bir bağlantı uzaktaki bir ana bilgisayar tarafından zorla kapatıldı', None, 10054, None))\n",
      "Downloading 10-Q for MPC (2006)...\n",
      "Error downloading 10-Q for FICO in 2012: ('Connection aborted.', ConnectionResetError(10054, 'Varolan bir bağlantı uzaktaki bir ana bilgisayar tarafından zorla kapatıldı', None, 10054, None))\n",
      "Downloading 10-Q for FICO (2013)...\n",
      "Downloading 10-Q for CMI (2021)...\n",
      "Error downloading 10-Q for ROST in 2012: ('Connection aborted.', ConnectionResetError(10054, 'Varolan bir bağlantı uzaktaki bir ana bilgisayar tarafından zorla kapatıldı', None, 10054, None))\n",
      "Downloading 10-Q for ROST (2013)...\n",
      "Downloading 10-Q for EXC (2012)...\n",
      "Downloading 10-Q for FANG (2002)...\n",
      "Downloading 10-Q for MPC (2007)...\n",
      "Downloading 10-Q for KR (2020)...\n",
      "Downloading 10-Q for FANG (2003)...\n",
      "Downloading 10-Q for MPC (2008)...\n",
      "Downloading 10-Q for CCI (2009)...\n",
      "Downloading 10-Q for FANG (2004)...\n",
      "Downloading 10-Q for MPC (2009)...\n",
      "Downloading 10-Q for MSCI (2010)...\n",
      "Downloading 10-Q for FANG (2005)...\n",
      "Downloading 10-Q for MPC (2010)...\n",
      "Downloading 10-Q for OXY (2020)...\n",
      "Downloading 10-Q for FANG (2006)...\n",
      "Downloading 10-Q for MPC (2011)...\n",
      "Downloading 10-Q for AEP (2021)...\n",
      "Downloading 10-Q for SRE (2014)...\n",
      "Downloading 10-Q for CCI (2010)...\n"
     ]
    },
    {
     "name": "stderr",
     "output_type": "stream",
     "text": [
      "Downloading SEC Filings:  61%|██████    | 305/499 [2:36:47<1:43:59, 32.16s/it]"
     ]
    },
    {
     "name": "stdout",
     "output_type": "stream",
     "text": [
      "Downloading 10-Q for FANG (2007)...\n",
      "Downloading 10-Q for DHI (2015)...\n",
      "Downloading 10-Q for TEL (2018)...\n",
      "Downloading 10-Q for NDAQ (2000)...\n"
     ]
    },
    {
     "name": "stderr",
     "output_type": "stream",
     "text": [
      "Downloading SEC Filings:  61%|██████▏   | 306/499 [2:36:51<1:16:25, 23.76s/it]"
     ]
    },
    {
     "name": "stdout",
     "output_type": "stream",
     "text": [
      "Downloading 10-Q for FANG (2008)...\n",
      "Downloading 10-Q for MSCI (2011)...\n",
      "Downloading 10-Q for BKR (2000)...\n",
      "Downloading 10-Q for FICO (2014)...\n"
     ]
    },
    {
     "name": "stderr",
     "output_type": "stream",
     "text": [
      "Downloading SEC Filings:  62%|██████▏   | 307/499 [2:36:53<55:42, 17.41s/it]  "
     ]
    },
    {
     "name": "stdout",
     "output_type": "stream",
     "text": [
      "Downloading 10-Q for NDAQ (2001)...\n",
      "Downloading 10-Q for FANG (2009)...\n",
      "Downloading 10-Q for BKR (2001)...\n",
      "Downloading 10-Q for NET (2000)...\n",
      "Downloading 10-Q for ROST (2014)...\n",
      "Downloading 10-Q for BKR (2002)...\n",
      "Downloading 10-Q for NET (2001)...\n",
      "Downloading 10-Q for FANG (2010)...\n",
      "Downloading 10-Q for BKR (2003)...\n",
      "Downloading 10-Q for KR (2021)...\n",
      "Downloading 10-Q for NET (2002)...\n",
      "Downloading 10-Q for FANG (2011)...\n",
      "Downloading 10-Q for NET (2003)...\n",
      "Downloading 10-Q for CCI (2011)...\n",
      "Downloading 10-Q for NET (2004)...\n",
      "Downloading 10-Q for NDAQ (2002)...\n",
      "Downloading 10-Q for BKR (2004)...\n",
      "Downloading 10-Q for MPC (2012)...\n",
      "Downloading 10-Q for NET (2005)...\n",
      "Downloading 10-Q for FANG (2012)...\n",
      "Downloading 10-Q for BKR (2005)...\n",
      "Downloading 10-Q for NET (2006)...\n",
      "Downloading 10-Q for BKR (2006)...\n",
      "Downloading 10-Q for NET (2007)...\n",
      "Downloading 10-Q for MSCI (2012)...\n",
      "Downloading 10-Q for BKR (2007)...\n",
      "Downloading 10-Q for NET (2008)...\n",
      "Downloading 10-Q for D (2019)...\n",
      "Downloading 10-Q for BKR (2008)...\n",
      "Downloading 10-Q for FANG (2013)...\n",
      "Downloading 10-Q for FICO (2015)...\n"
     ]
    },
    {
     "name": "stderr",
     "output_type": "stream",
     "text": [
      "Downloading SEC Filings:  62%|██████▏   | 308/499 [2:37:12<56:47, 17.84s/it]"
     ]
    },
    {
     "name": "stdout",
     "output_type": "stream",
     "text": [
      "Downloading 10-Q for NET (2009)...\n",
      "Downloading 10-Q for BKR (2009)...\n",
      "Downloading 10-Q for BKR (2010)...\n",
      "Downloading 10-Q for GRMN (2000)...\n",
      "Downloading 10-Q for NDAQ (2003)...\n",
      "Downloading 10-Q for NET (2010)...\n",
      "Downloading 10-Q for ROST (2015)...\n",
      "Downloading 10-Q for DHI (2016)...\n",
      "Downloading 10-Q for BKR (2011)...\n",
      "Downloading 10-Q for NET (2011)...\n",
      "Downloading 10-Q for GRMN (2001)...\n",
      "Downloading 10-Q for CCI (2012)...\n",
      "Downloading 10-Q for BKR (2012)...\n",
      "Downloading 10-Q for NET (2012)...\n"
     ]
    },
    {
     "name": "stderr",
     "output_type": "stream",
     "text": [
      "Downloading SEC Filings:  62%|██████▏   | 309/499 [2:37:17<43:50, 13.84s/it]"
     ]
    },
    {
     "name": "stdout",
     "output_type": "stream",
     "text": [
      "Downloading 10-Q for BKR (2013)...\n",
      "Downloading 10-Q for TEL (2019)...\n",
      "Downloading 10-Q for NET (2013)...\n",
      "Downloading 10-Q for BKR (2014)...\n",
      "Downloading 10-Q for AIG (2017)...\n",
      "Downloading 10-Q for AME (2000)...\n",
      "Downloading 10-Q for NET (2014)...\n",
      "Downloading 10-Q for BKR (2015)...\n"
     ]
    },
    {
     "name": "stderr",
     "output_type": "stream",
     "text": [
      "Downloading SEC Filings:  62%|██████▏   | 310/499 [2:37:22<35:32, 11.28s/it]"
     ]
    },
    {
     "name": "stdout",
     "output_type": "stream",
     "text": [
      "Downloading 10-Q for MPC (2013)...\n",
      "Downloading 10-Q for AMP (2016)...\n",
      "Downloading 10-Q for NDAQ (2004)...\n",
      "Downloading 10-Q for BKR (2016)...\n",
      "Downloading 10-Q for NET (2015)...\n",
      "Downloading 10-Q for GRMN (2002)...\n",
      "Downloading 10-Q for CTVA (2000)...\n",
      "Downloading 10-Q for BKR (2017)...\n",
      "Downloading 10-Q for NET (2016)...\n",
      "Downloading 10-Q for CTVA (2001)...\n",
      "Downloading 10-Q for OXY (2021)...\n",
      "Downloading 10-Q for NET (2017)...\n",
      "Downloading 10-Q for AME (2001)...\n",
      "Downloading 10-Q for CTVA (2002)...\n",
      "Downloading 10-Q for NET (2018)...\n",
      "Downloading 10-Q for CTVA (2003)...\n",
      "Downloading 10-Q for ROST (2016)...\n",
      "Downloading 10-Q for FICO (2016)...\n",
      "Downloading 10-Q for CTVA (2004)...\n",
      "Downloading 10-Q for NET (2019)...\n",
      "Downloading 10-Q for CTVA (2005)...\n",
      "Downloading 10-Q for CTVA (2006)...\n",
      "Downloading 10-Q for GRMN (2003)...\n",
      "Downloading 10-Q for FANG (2014)...\n",
      "Downloading 10-Q for MSCI (2013)...\n",
      "Downloading 10-Q for CTVA (2007)...\n",
      "Downloading 10-Q for NDAQ (2005)...\n",
      "Downloading 10-Q for CTVA (2008)...\n",
      "Downloading 10-Q for AME (2002)...\n",
      "Downloading 10-Q for CTVA (2009)...\n",
      "Downloading 10-Q for NET (2020)...\n",
      "Downloading 10-Q for BKR (2018)...\n",
      "Downloading 10-Q for CTVA (2010)...\n",
      "Downloading 10-Q for CTVA (2011)...\n",
      "Downloading 10-Q for DHI (2017)...\n",
      "Downloading 10-Q for CTVA (2012)...\n",
      "Downloading 10-Q for GRMN (2004)...\n",
      "Downloading 10-Q for TEL (2020)...\n",
      "Downloading 10-Q for CTVA (2013)...\n",
      "Downloading 10-Q for AME (2003)...\n",
      "Downloading 10-Q for CTVA (2014)...\n"
     ]
    },
    {
     "name": "stderr",
     "output_type": "stream",
     "text": [
      "Downloading SEC Filings:  62%|██████▏   | 311/499 [2:37:59<59:02, 18.84s/it]"
     ]
    },
    {
     "name": "stdout",
     "output_type": "stream",
     "text": [
      "Downloading 10-Q for NDAQ (2006)...\n",
      "Downloading 10-Q for CTVA (2015)...\n",
      "Downloading 10-Q for ROST (2017)...\n",
      "Downloading 10-Q for CCI (2013)...\n",
      "Downloading 10-Q for CTVA (2016)...\n",
      "Downloading 10-Q for AXON (2000)...\n",
      "Downloading 10-Q for CTVA (2017)...\n",
      "Downloading 10-Q for FICO (2017)...\n",
      "Downloading 10-Q for CTVA (2018)...\n",
      "Downloading 10-Q for GRMN (2005)...\n",
      "Downloading 10-Q for MPC (2014)...\n",
      "Downloading 10-Q for MSCI (2014)...\n",
      "Downloading 10-Q for AXON (2001)...\n",
      "Downloading 10-Q for CTVA (2019)...\n",
      "Downloading 10-Q for AME (2004)...\n",
      "Downloading 10-Q for AXON (2002)...\n",
      "Downloading 10-Q for SRE (2015)...\n",
      "Downloading 10-Q for NDAQ (2007)...\n",
      "Downloading 10-Q for AXON (2003)...\n",
      "Downloading 10-Q for BKR (2019)...\n",
      "Downloading 10-Q for GRMN (2006)...\n",
      "Downloading 10-Q for ROST (2018)...\n",
      "Downloading 10-Q for AXON (2004)...\n",
      "Downloading 10-Q for FANG (2015)...\n",
      "Downloading 10-Q for AME (2005)...\n",
      "Downloading 10-Q for AXON (2005)...\n",
      "Downloading 10-Q for FICO (2018)...\n",
      "Downloading 10-Q for TEL (2021)...\n",
      "Downloading 10-Q for DHI (2018)...\n",
      "Downloading 10-Q for CCI (2014)...\n",
      "Downloading 10-Q for NDAQ (2008)...\n",
      "Downloading 10-Q for D (2020)...\n",
      "Downloading 10-Q for GRMN (2007)...\n",
      "Downloading 10-Q for AMP (2017)...\n",
      "Downloading 10-Q for NET (2021)...\n",
      "Downloading 10-Q for AME (2006)...\n",
      "Downloading 10-Q for MSCI (2015)...\n",
      "Downloading 10-Q for CTVA (2020)...\n",
      "Downloading 10-Q for AXON (2006)...\n",
      "Downloading 10-Q for ROST (2019)...\n",
      "Downloading 10-Q for EXC (2013)...\n",
      "Downloading 10-Q for NDAQ (2009)...\n",
      "Downloading 10-Q for GRMN (2008)...\n",
      "Downloading 10-Q for MPC (2015)...\n",
      "Downloading 10-Q for AME (2007)...\n",
      "Downloading 10-Q for BKR (2020)...\n",
      "Downloading 10-Q for AXON (2007)...\n",
      "Downloading 10-Q for FICO (2019)...\n",
      "Downloading 10-Q for GRMN (2009)...\n",
      "Downloading 10-Q for AME (2008)...\n",
      "Downloading 10-Q for NDAQ (2010)...\n"
     ]
    },
    {
     "name": "stderr",
     "output_type": "stream",
     "text": [
      "Downloading SEC Filings:  63%|██████▎   | 312/499 [2:39:24<2:00:49, 38.77s/it]"
     ]
    },
    {
     "name": "stdout",
     "output_type": "stream",
     "text": [
      "Downloading 10-Q for MSCI (2016)...\n",
      "Downloading 10-Q for FLUT (2000)...\n",
      "Downloading 10-Q for FLUT (2001)...\n",
      "Downloading 10-Q for AXON (2008)...\n",
      "Downloading 10-Q for FLUT (2002)...\n"
     ]
    },
    {
     "name": "stderr",
     "output_type": "stream",
     "text": [
      "Downloading SEC Filings:  63%|██████▎   | 313/499 [2:39:27<1:27:28, 28.22s/it]"
     ]
    },
    {
     "name": "stdout",
     "output_type": "stream",
     "text": [
      "Downloading 10-Q for DHI (2019)...\n",
      "Downloading 10-Q for FLUT (2003)...\n",
      "Downloading 10-Q for FLUT (2004)...\n",
      "Downloading 10-Q for AME (2009)...\n",
      "Downloading 10-Q for VRSK (2000)...\n",
      "Downloading 10-Q for FLUT (2005)...\n",
      "Downloading 10-Q for ROST (2020)...\n",
      "Downloading 10-Q for GRMN (2010)...\n",
      "Downloading 10-Q for FLUT (2006)...\n",
      "Downloading 10-Q for VRSK (2001)...\n",
      "Downloading 10-Q for CTVA (2021)...\n",
      "Downloading 10-Q for FLUT (2007)...\n",
      "Downloading 10-Q for MPC (2016)...\n",
      "Downloading 10-Q for FLUT (2008)...\n",
      "Downloading 10-Q for BKR (2021)...\n",
      "Downloading 10-Q for AXON (2009)...\n",
      "Downloading 10-Q for NDAQ (2011)...\n",
      "Downloading 10-Q for FANG (2016)...\n",
      "Downloading 10-Q for VRSK (2002)...\n",
      "Downloading 10-Q for FLUT (2009)...\n",
      "Downloading 10-Q for FICO (2020)...\n",
      "Downloading 10-Q for FLUT (2010)...\n",
      "Downloading 10-Q for CCI (2015)...\n",
      "Downloading 10-Q for AME (2010)...\n",
      "Downloading 10-Q for MSCI (2017)...\n",
      "Downloading 10-Q for FLUT (2011)...\n",
      "Downloading 10-Q for VRSK (2003)...\n",
      "Downloading 10-Q for FLUT (2012)...\n",
      "Downloading 10-Q for FLUT (2013)...\n",
      "Downloading 10-Q for VRSK (2004)...\n",
      "Downloading 10-Q for FLUT (2014)...\n",
      "Downloading 10-Q for AXON (2010)...\n",
      "Downloading 10-Q for FLUT (2015)...\n",
      "Downloading 10-Q for GRMN (2011)...\n",
      "Downloading 10-Q for VRSK (2005)...\n",
      "Downloading 10-Q for FLUT (2016)...\n",
      "Downloading 10-Q for FLUT (2017)...\n",
      "Downloading 10-Q for FLUT (2018)...\n",
      "Downloading 10-Q for VRSK (2006)...\n",
      "Downloading 10-Q for ROST (2021)...\n",
      "Downloading 10-Q for FLUT (2019)...\n",
      "Downloading 10-Q for AMP (2018)...\n",
      "Downloading 10-Q for FLUT (2020)...\n",
      "Downloading 10-Q for VRSK (2007)...\n",
      "Downloading 10-Q for FLUT (2021)...\n"
     ]
    },
    {
     "name": "stderr",
     "output_type": "stream",
     "text": [
      "Downloading SEC Filings:  63%|██████▎   | 314/499 [2:39:57<1:28:18, 28.64s/it]"
     ]
    },
    {
     "name": "stdout",
     "output_type": "stream",
     "text": [
      "Downloading 10-Q for AXON (2011)...\n",
      "Downloading 10-Q for MPC (2017)...\n",
      "Downloading 10-Q for AME (2011)...\n",
      "Downloading 10-Q for VRSK (2008)...\n",
      "Downloading 10-Q for NDAQ (2012)...\n",
      "Downloading 10-Q for CTSH (2000)...\n",
      "Downloading 10-Q for AIG (2018)...\n",
      "Downloading 10-Q for VRSK (2009)...\n"
     ]
    },
    {
     "name": "stderr",
     "output_type": "stream",
     "text": [
      "Downloading SEC Filings:  63%|██████▎   | 315/499 [2:40:01<1:04:42, 21.10s/it]"
     ]
    },
    {
     "name": "stdout",
     "output_type": "stream",
     "text": [
      "Downloading 10-Q for CCI (2016)...\n",
      "Downloading 10-Q for DHI (2020)...\n",
      "Downloading 10-Q for TCOM (2000)...\n",
      "Downloading 10-Q for MSCI (2018)...\n",
      "Downloading 10-Q for TCOM (2001)...\n"
     ]
    },
    {
     "name": "stderr",
     "output_type": "stream",
     "text": [
      "Downloading SEC Filings:  63%|██████▎   | 316/499 [2:40:09<52:30, 17.21s/it]  "
     ]
    },
    {
     "name": "stdout",
     "output_type": "stream",
     "text": [
      "Downloading 10-Q for VRSK (2010)...\n",
      "Downloading 10-Q for TCOM (2002)...\n",
      "Downloading 10-Q for GRMN (2012)...\n",
      "Downloading 10-Q for TCOM (2003)...\n",
      "Downloading 10-Q for VALE (2000)...\n",
      "Downloading 10-Q for CTSH (2001)...\n",
      "Downloading 10-Q for TCOM (2004)...\n",
      "Downloading 10-Q for FICO (2021)...\n",
      "Downloading 10-Q for TCOM (2005)...\n",
      "Downloading 10-Q for TCOM (2006)...\n",
      "Downloading 10-Q for AXON (2012)...\n",
      "Downloading 10-Q for TCOM (2007)...\n",
      "Downloading 10-Q for VALE (2001)...\n",
      "Downloading 10-Q for VRSK (2011)...\n",
      "Downloading 10-Q for TCOM (2008)...\n",
      "Downloading 10-Q for AME (2012)...\n",
      "Downloading 10-Q for TCOM (2009)...\n"
     ]
    },
    {
     "name": "stderr",
     "output_type": "stream",
     "text": [
      "Downloading SEC Filings:  64%|██████▎   | 317/499 [2:40:16<43:23, 14.30s/it]"
     ]
    },
    {
     "name": "stdout",
     "output_type": "stream",
     "text": [
      "Downloading 10-Q for TCOM (2010)...\n",
      "Downloading 10-Q for CTSH (2002)...\n",
      "Downloading 10-Q for VALE (2002)...\n",
      "Downloading 10-Q for TCOM (2011)...\n",
      "Downloading 10-Q for EW (2000)...\n",
      "Downloading 10-Q for TCOM (2012)...\n",
      "Downloading 10-Q for FANG (2017)...\n",
      "Downloading 10-Q for TCOM (2013)...\n",
      "Downloading 10-Q for VALE (2003)...\n",
      "Downloading 10-Q for TCOM (2014)...\n",
      "Downloading 10-Q for GRMN (2013)...\n",
      "Downloading 10-Q for MSCI (2019)...\n",
      "Downloading 10-Q for CCI (2017)...\n",
      "Downloading 10-Q for NDAQ (2013)...\n",
      "Downloading 10-Q for TCOM (2015)...\n",
      "Downloading 10-Q for AXON (2013)...\n",
      "Downloading 10-Q for SRE (2016)...\n",
      "Downloading 10-Q for TCOM (2016)...\n",
      "Downloading 10-Q for D (2021)...\n",
      "Downloading 10-Q for CTSH (2003)...\n",
      "Downloading 10-Q for VALE (2004)...\n",
      "Downloading 10-Q for TCOM (2017)...\n",
      "Downloading 10-Q for TCOM (2018)...\n",
      "Downloading 10-Q for EW (2001)...\n",
      "Downloading 10-Q for TCOM (2019)...\n",
      "Downloading 10-Q for TCOM (2020)...\n",
      "Downloading 10-Q for VALE (2005)...\n"
     ]
    },
    {
     "name": "stderr",
     "output_type": "stream",
     "text": [
      "Downloading SEC Filings:  64%|██████▎   | 318/499 [2:40:42<53:47, 17.83s/it]"
     ]
    },
    {
     "name": "stdout",
     "output_type": "stream",
     "text": [
      "Downloading 10-Q for TCOM (2021)...\n",
      "Downloading 10-Q for AME (2013)...\n",
      "Downloading 10-Q for OTIS (2000)...\n"
     ]
    },
    {
     "name": "stderr",
     "output_type": "stream",
     "text": [
      "Downloading SEC Filings:  64%|██████▍   | 319/499 [2:40:48<42:46, 14.26s/it]"
     ]
    },
    {
     "name": "stdout",
     "output_type": "stream",
     "text": [
      "Downloading 10-Q for OTIS (2001)...\n",
      "Downloading 10-Q for CTSH (2004)...\n",
      "Downloading 10-Q for VALE (2006)...\n",
      "Downloading 10-Q for OTIS (2002)...\n",
      "Downloading 10-Q for EW (2002)...\n",
      "Downloading 10-Q for ATEYY (2000)...\n",
      "Downloading 10-Q for OTIS (2003)...\n",
      "Downloading 10-Q for ATEYY (2001)...\n",
      "Downloading 10-Q for OTIS (2004)...\n",
      "Downloading 10-Q for ATEYY (2002)...\n",
      "Downloading 10-Q for CCI (2018)...\n",
      "Downloading 10-Q for OTIS (2005)...\n",
      "Downloading 10-Q for VALE (2007)...\n",
      "Downloading 10-Q for ATEYY (2003)...\n",
      "Downloading 10-Q for DHI (2021)...\n",
      "Downloading 10-Q for OTIS (2006)...\n",
      "Downloading 10-Q for ATEYY (2004)...\n",
      "Downloading 10-Q for OTIS (2007)...\n",
      "Downloading 10-Q for ATEYY (2005)...\n",
      "Downloading 10-Q for AXON (2014)...\n",
      "Downloading 10-Q for OTIS (2008)...\n",
      "Downloading 10-Q for ATEYY (2006)...\n",
      "Downloading 10-Q for VALE (2008)...\n",
      "Downloading 10-Q for OTIS (2009)...\n",
      "Downloading 10-Q for EW (2003)...\n",
      "Downloading 10-Q for CTSH (2005)...\n",
      "Downloading 10-Q for ATEYY (2007)...\n",
      "Downloading 10-Q for OTIS (2010)...\n",
      "Downloading 10-Q for AME (2014)...\n",
      "Downloading 10-Q for ATEYY (2008)...\n",
      "Downloading 10-Q for VRSK (2012)...\n",
      "Downloading 10-Q for OTIS (2011)...\n",
      "Downloading 10-Q for ATEYY (2009)...\n"
     ]
    },
    {
     "name": "stderr",
     "output_type": "stream",
     "text": [
      "Downloading SEC Filings:  64%|██████▍   | 320/499 [2:41:20<58:36, 19.65s/it]"
     ]
    },
    {
     "name": "stdout",
     "output_type": "stream",
     "text": [
      "Downloading 10-Q for OTIS (2012)...\n",
      "Downloading 10-Q for VALE (2009)...\n",
      "Downloading 10-Q for ATEYY (2010)...\n",
      "Downloading 10-Q for OTIS (2013)...\n",
      "Downloading 10-Q for FANG (2018)...\n",
      "Downloading 10-Q for ATEYY (2011)...\n",
      "Downloading 10-Q for LHX (2000)...\n",
      "Downloading 10-Q for OTIS (2014)...\n",
      "Downloading 10-Q for MSCI (2020)...\n",
      "Downloading 10-Q for ATEYY (2012)...\n",
      "Downloading 10-Q for OTIS (2015)...\n",
      "Downloading 10-Q for ATEYY (2013)...\n",
      "Downloading 10-Q for VALE (2010)...\n",
      "Downloading 10-Q for OTIS (2016)...\n",
      "Downloading 10-Q for ATEYY (2014)...\n",
      "Downloading 10-Q for MPC (2018)...\n",
      "Downloading 10-Q for CTSH (2006)...\n",
      "Downloading 10-Q for OTIS (2017)...\n",
      "Downloading 10-Q for ATEYY (2015)...\n",
      "Downloading 10-Q for OTIS (2018)...\n",
      "Downloading 10-Q for EW (2004)...\n",
      "Downloading 10-Q for GRMN (2014)...\n",
      "Downloading 10-Q for ATEYY (2016)...\n",
      "Downloading 10-Q for OTIS (2019)...\n",
      "Downloading 10-Q for ATEYY (2017)...\n",
      "Downloading 10-Q for VALE (2011)...\n",
      "Downloading 10-Q for OTIS (2020)...\n",
      "Downloading 10-Q for ATEYY (2018)...\n",
      "Downloading 10-Q for CCI (2019)...\n",
      "Downloading 10-Q for ATEYY (2019)...\n",
      "Downloading 10-Q for LHX (2001)...\n",
      "Downloading 10-Q for ATEYY (2020)...\n",
      "Downloading 10-Q for NDAQ (2014)...\n",
      "Downloading 10-Q for AME (2015)...\n",
      "Downloading 10-Q for VALE (2012)...\n",
      "Downloading 10-Q for VRSK (2013)...\n",
      "Downloading 10-Q for ATEYY (2021)...\n",
      "Downloading 10-Q for EW (2005)...\n"
     ]
    },
    {
     "name": "stderr",
     "output_type": "stream",
     "text": [
      "Downloading SEC Filings:  64%|██████▍   | 321/499 [2:42:14<1:28:57, 29.98s/it]"
     ]
    },
    {
     "name": "stdout",
     "output_type": "stream",
     "text": [
      "Downloading 10-Q for CTSH (2007)...\n",
      "Downloading 10-Q for AMP (2019)...\n",
      "Downloading 10-Q for VALE (2013)...\n",
      "Downloading 10-Q for DFS (2000)...\n",
      "Downloading 10-Q for DFS (2001)...\n",
      "Downloading 10-Q for VALE (2014)...\n"
     ]
    },
    {
     "name": "stderr",
     "output_type": "stream",
     "text": [
      "Downloading SEC Filings:  65%|██████▍   | 322/499 [2:42:34<1:19:07, 26.82s/it]"
     ]
    },
    {
     "name": "stdout",
     "output_type": "stream",
     "text": [
      "Downloading 10-Q for DFS (2002)...\n",
      "Downloading 10-Q for EW (2006)...\n",
      "Downloading 10-Q for XEL (2000)...\n",
      "Downloading 10-Q for CTSH (2008)...\n",
      "Downloading 10-Q for GRMN (2015)...\n",
      "Downloading 10-Q for VALE (2015)...\n",
      "Downloading 10-Q for LHX (2002)...\n",
      "Downloading 10-Q for DFS (2003)...\n",
      "Downloading 10-Q for MSCI (2021)...\n",
      "Downloading 10-Q for AME (2016)...\n",
      "Downloading 10-Q for AXON (2015)...\n",
      "Downloading 10-Q for AIG (2019)...\n",
      "Downloading 10-Q for DFS (2004)...\n",
      "Downloading 10-Q for VALE (2016)...\n",
      "Downloading 10-Q for DFS (2005)...\n",
      "Downloading 10-Q for EW (2007)...\n",
      "Downloading 10-Q for FANG (2019)...\n",
      "Downloading 10-Q for XEL (2001)...\n",
      "Downloading 10-Q for VALE (2017)...\n",
      "Downloading 10-Q for CTSH (2009)...\n",
      "Downloading 10-Q for DFS (2006)...\n",
      "Downloading 10-Q for VRSK (2014)...\n",
      "Downloading 10-Q for NDAQ (2015)...\n",
      "Downloading 10-Q for LHX (2003)...\n",
      "Downloading 10-Q for CCI (2020)...\n",
      "Downloading 10-Q for DFS (2007)...\n",
      "Downloading 10-Q for VALE (2018)...\n",
      "Downloading 10-Q for EW (2008)...\n",
      "Downloading 10-Q for AME (2017)...\n",
      "Downloading 10-Q for GRMN (2016)...\n",
      "Downloading 10-Q for XEL (2002)...\n",
      "Downloading 10-Q for VALE (2019)...\n",
      "Downloading 10-Q for MPC (2019)...\n",
      "Downloading 10-Q for DFS (2008)...\n",
      "Downloading 10-Q for CTSH (2010)...\n",
      "Downloading 10-Q for VALE (2020)...\n",
      "Downloading 10-Q for EW (2009)...\n",
      "Downloading 10-Q for SRE (2017)...\n"
     ]
    },
    {
     "name": "stderr",
     "output_type": "stream",
     "text": [
      "Downloading SEC Filings:  65%|██████▍   | 323/499 [2:44:21<2:28:55, 50.77s/it]"
     ]
    },
    {
     "name": "stdout",
     "output_type": "stream",
     "text": [
      "Downloading 10-Q for TRGP (2000)...\n",
      "Downloading 10-Q for VALE (2021)...\n",
      "Downloading 10-Q for LHX (2004)...\n",
      "Downloading 10-Q for GRMN (2017)...\n",
      "Downloading 10-Q for XEL (2003)...\n",
      "Downloading 10-Q for CCI (2021)...\n",
      "Downloading 10-Q for TRGP (2001)...\n",
      "Downloading 10-Q for DFS (2009)...\n",
      "Downloading 10-Q for AXON (2016)...\n"
     ]
    },
    {
     "name": "stderr",
     "output_type": "stream",
     "text": [
      "Downloading SEC Filings:  65%|██████▍   | 324/499 [2:44:44<2:04:25, 42.66s/it]"
     ]
    },
    {
     "name": "stdout",
     "output_type": "stream",
     "text": [
      "Downloading 10-Q for OTIS (2021)...\n",
      "Downloading 10-Q for EW (2010)...\n",
      "Downloading 10-Q for TRGP (2002)...\n",
      "Downloading 10-Q for CPNG (2000)...\n",
      "Downloading 10-Q for AME (2018)...\n",
      "Downloading 10-Q for CPNG (2001)...\n",
      "Downloading 10-Q for TRGP (2003)...\n",
      "Downloading 10-Q for CTSH (2011)...\n",
      "Downloading 10-Q for CPNG (2002)...\n",
      "Downloading 10-Q for CPNG (2003)...\n",
      "Downloading 10-Q for LHX (2005)...\n",
      "Downloading 10-Q for TRGP (2004)...\n",
      "Downloading 10-Q for CPNG (2004)...\n",
      "Downloading 10-Q for XEL (2004)...\n",
      "Downloading 10-Q for CPNG (2005)...\n",
      "Downloading 10-Q for DFS (2010)...\n",
      "Downloading 10-Q for TRGP (2005)...\n",
      "Downloading 10-Q for CPNG (2006)...\n",
      "Downloading 10-Q for CPNG (2007)...\n",
      "Downloading 10-Q for GRMN (2018)...\n",
      "Downloading 10-Q for CPNG (2008)...\n",
      "Downloading 10-Q for TRGP (2006)...\n",
      "Downloading 10-Q for EW (2011)...\n",
      "Downloading 10-Q for CPNG (2009)...\n",
      "Downloading 10-Q for FANG (2020)...\n",
      "Downloading 10-Q for CPNG (2010)...\n",
      "Downloading 10-Q for TRGP (2007)...\n",
      "Downloading 10-Q for VRSK (2015)...\n",
      "Downloading 10-Q for CPNG (2011)...\n",
      "Downloading 10-Q for AXON (2017)...\n",
      "Downloading 10-Q for LHX (2006)...\n"
     ]
    },
    {
     "name": "stderr",
     "output_type": "stream",
     "text": [
      "Downloading SEC Filings:  65%|██████▌   | 325/499 [2:45:20<1:57:34, 40.54s/it]"
     ]
    },
    {
     "name": "stdout",
     "output_type": "stream",
     "text": [
      "Downloading 10-Q for AME (2019)...\n",
      "Downloading 10-Q for CPNG (2012)...\n",
      "Downloading 10-Q for TRGP (2008)...\n",
      "Downloading 10-Q for CTSH (2012)...\n",
      "Downloading 10-Q for CPNG (2013)...\n",
      "Downloading 10-Q for PEG (2000)...\n",
      "Downloading 10-Q for XEL (2005)...\n",
      "Downloading 10-Q for CPNG (2014)...\n",
      "Downloading 10-Q for TRGP (2009)...\n",
      "Downloading 10-Q for CPNG (2015)...\n",
      "Downloading 10-Q for CPNG (2016)...\n",
      "Downloading 10-Q for DFS (2011)...\n",
      "Downloading 10-Q for CPNG (2017)...\n",
      "Downloading 10-Q for TRGP (2010)...\n",
      "Downloading 10-Q for CPNG (2018)...\n",
      "Downloading 10-Q for CPNG (2019)...\n",
      "Downloading 10-Q for GRMN (2019)...\n",
      "Downloading 10-Q for TRGP (2011)...\n",
      "Downloading 10-Q for LHX (2007)...\n",
      "Downloading 10-Q for CPNG (2020)...\n",
      "Downloading 10-Q for AMP (2020)...\n",
      "Downloading 10-Q for CPNG (2021)...\n",
      "Downloading 10-Q for PEG (2001)...\n",
      "Downloading 10-Q for MPC (2020)...\n",
      "Downloading 10-Q for EW (2012)...\n",
      "Downloading 10-Q for AXON (2018)...\n",
      "Downloading 10-Q for XEL (2006)...\n",
      "Downloading 10-Q for VRSK (2016)...\n",
      "Downloading 10-Q for EXC (2014)...\n",
      "Downloading 10-Q for TRGP (2012)...\n",
      "Downloading 10-Q for LHX (2008)...\n",
      "Downloading 10-Q for PEG (2002)...\n",
      "Downloading 10-Q for GRMN (2020)...\n"
     ]
    },
    {
     "name": "stderr",
     "output_type": "stream",
     "text": [
      "Downloading SEC Filings:  65%|██████▌   | 326/499 [2:46:32<2:24:02, 49.95s/it]"
     ]
    },
    {
     "name": "stdout",
     "output_type": "stream",
     "text": [
      "Downloading 10-Q for URI (2000)...\n",
      "Downloading 10-Q for XEL (2007)...\n",
      "Downloading 10-Q for AME (2020)...\n",
      "Downloading 10-Q for PEG (2003)...\n",
      "Downloading 10-Q for LHX (2009)...\n",
      "Downloading 10-Q for NDAQ (2016)...\n",
      "Downloading 10-Q for URI (2001)...\n",
      "Downloading 10-Q for SRE (2018)...\n"
     ]
    },
    {
     "name": "stderr",
     "output_type": "stream",
     "text": [
      "Downloading SEC Filings:  66%|██████▌   | 327/499 [2:47:40<2:38:41, 55.36s/it]"
     ]
    },
    {
     "name": "stdout",
     "output_type": "stream",
     "text": [
      "Downloading 10-Q for XEL (2008)...\n",
      "Downloading 10-Q for LULU (2000)...\n",
      "Downloading 10-Q for PEG (2004)...\n",
      "Downloading 10-Q for LHX (2010)...\n",
      "Downloading 10-Q for LULU (2001)...\n",
      "Downloading 10-Q for GRMN (2021)...\n",
      "Downloading 10-Q for URI (2002)...\n",
      "Downloading 10-Q for LULU (2002)...\n",
      "Downloading 10-Q for TRGP (2013)...\n",
      "Downloading 10-Q for CTSH (2013)...\n",
      "Downloading 10-Q for LULU (2003)...\n",
      "Downloading 10-Q for FANG (2021)...\n",
      "Downloading 10-Q for VRSK (2017)...\n",
      "Downloading 10-Q for XEL (2009)...\n",
      "Downloading 10-Q for LULU (2004)...\n",
      "Downloading 10-Q for PEG (2005)...\n",
      "Downloading 10-Q for URI (2003)...\n",
      "Downloading 10-Q for LULU (2005)...\n",
      "Downloading 10-Q for LULU (2006)...\n",
      "Downloading 10-Q for LULU (2007)...\n",
      "Downloading 10-Q for LHX (2011)...\n",
      "Downloading 10-Q for EW (2013)...\n",
      "Downloading 10-Q for PEG (2006)...\n"
     ]
    },
    {
     "name": "stderr",
     "output_type": "stream",
     "text": [
      "Downloading SEC Filings:  66%|██████▌   | 328/499 [2:48:27<2:30:37, 52.85s/it]"
     ]
    },
    {
     "name": "stdout",
     "output_type": "stream",
     "text": [
      "Downloading 10-Q for AME (2021)...\n",
      "Downloading 10-Q for MPC (2021)...\n",
      "Downloading 10-Q for XEL (2010)...\n",
      "Downloading 10-Q for NDAQ (2017)...\n",
      "Downloading 10-Q for GEHC (2000)...\n",
      "Downloading 10-Q for LULU (2008)...\n",
      "Downloading 10-Q for URI (2004)...\n",
      "Downloading 10-Q for GEHC (2001)...\n",
      "Downloading 10-Q for GEHC (2002)...\n",
      "Downloading 10-Q for GEHC (2003)...\n",
      "Downloading 10-Q for PEG (2007)...\n",
      "Downloading 10-Q for AIG (2020)...\n",
      "Downloading 10-Q for GEHC (2004)...\n",
      "Downloading 10-Q for GEHC (2005)...\n",
      "Downloading 10-Q for GEHC (2006)...\n",
      "Downloading 10-Q for GEHC (2007)...\n",
      "Downloading 10-Q for LULU (2009)...\n",
      "Downloading 10-Q for GEHC (2008)...\n",
      "Downloading 10-Q for CTSH (2014)...\n",
      "Downloading 10-Q for URI (2005)...\n",
      "Downloading 10-Q for EW (2014)...\n",
      "Downloading 10-Q for DFS (2012)...\n",
      "Downloading 10-Q for GEHC (2009)...\n",
      "Downloading 10-Q for TRGP (2014)...\n",
      "Downloading 10-Q for GEHC (2010)...\n",
      "Downloading 10-Q for VRSK (2018)...\n",
      "Downloading 10-Q for URI (2006)...\n",
      "Downloading 10-Q for GEHC (2011)...\n",
      "Downloading 10-Q for GEHC (2012)...\n",
      "Downloading 10-Q for GEHC (2013)...\n",
      "Downloading 10-Q for LULU (2010)...\n",
      "Downloading 10-Q for LHX (2012)...\n",
      "Downloading 10-Q for PEG (2008)...\n",
      "Downloading 10-Q for GEHC (2014)...\n",
      "Downloading 10-Q for GEHC (2015)...\n",
      "Downloading 10-Q for GEHC (2016)...\n",
      "Downloading 10-Q for GEHC (2017)...\n",
      "Downloading 10-Q for GEHC (2018)...\n"
     ]
    },
    {
     "name": "stderr",
     "output_type": "stream",
     "text": [
      "Downloading SEC Filings:  66%|██████▌   | 329/499 [2:49:20<2:30:06, 52.98s/it]"
     ]
    },
    {
     "name": "stdout",
     "output_type": "stream",
     "text": [
      "Downloading 10-Q for GEHC (2019)...\n"
     ]
    },
    {
     "name": "stderr",
     "output_type": "stream",
     "text": [
      "Downloading SEC Filings:  66%|██████▌   | 330/499 [2:49:26<1:49:25, 38.85s/it]"
     ]
    },
    {
     "name": "stdout",
     "output_type": "stream",
     "text": [
      "Downloading 10-Q for GEHC (2020)...\n",
      "Downloading 10-Q for VLO (2000)...\n",
      "Downloading 10-Q for GEHC (2021)...\n",
      "Downloading 10-Q for AMP (2021)...\n",
      "Downloading 10-Q for LULU (2011)...\n",
      "Downloading 10-Q for VST (2000)...\n",
      "Downloading 10-Q for EW (2015)...\n",
      "Downloading 10-Q for PEG (2009)...\n"
     ]
    },
    {
     "name": "stderr",
     "output_type": "stream",
     "text": [
      "Downloading SEC Filings:  66%|██████▋   | 331/499 [2:49:38<1:26:37, 30.94s/it]"
     ]
    },
    {
     "name": "stdout",
     "output_type": "stream",
     "text": [
      "Downloading 10-Q for VST (2001)...\n",
      "Downloading 10-Q for URI (2007)...\n",
      "Downloading 10-Q for VST (2002)...\n",
      "Downloading 10-Q for GLW (2000)...\n",
      "Downloading 10-Q for VST (2003)...\n",
      "Downloading 10-Q for LHX (2013)...\n",
      "Downloading 10-Q for CTSH (2015)...\n",
      "Downloading 10-Q for VST (2004)...\n",
      "Downloading 10-Q for VLO (2001)...\n",
      "Downloading 10-Q for VST (2005)...\n",
      "Downloading 10-Q for VST (2006)...\n",
      "Downloading 10-Q for VST (2007)...\n",
      "Downloading 10-Q for VST (2008)...\n",
      "Downloading 10-Q for URI (2008)...\n",
      "Downloading 10-Q for GLW (2001)...\n",
      "Downloading 10-Q for VST (2009)...\n",
      "Downloading 10-Q for VST (2010)...\n",
      "Downloading 10-Q for VLO (2002)...\n",
      "Downloading 10-Q for LULU (2012)...\n",
      "Downloading 10-Q for VRSK (2019)...\n",
      "Downloading 10-Q for VST (2011)...\n",
      "Downloading 10-Q for VST (2012)...\n",
      "Downloading 10-Q for XEL (2011)...\n",
      "Downloading 10-Q for VST (2013)...\n",
      "Downloading 10-Q for URI (2009)...\n",
      "Downloading 10-Q for VST (2014)...\n",
      "Downloading 10-Q for VLO (2003)...\n",
      "Downloading 10-Q for VST (2015)...\n",
      "Downloading 10-Q for GLW (2002)...\n",
      "Downloading 10-Q for VST (2016)...\n",
      "Downloading 10-Q for VST (2017)...\n",
      "Downloading 10-Q for SRE (2019)...\n",
      "Downloading 10-Q for PEG (2010)...\n",
      "Downloading 10-Q for URI (2010)...\n",
      "Downloading 10-Q for VLO (2004)...\n",
      "Downloading 10-Q for LULU (2013)...\n",
      "Downloading 10-Q for NDAQ (2018)...\n",
      "Downloading 10-Q for GLW (2003)...\n",
      "Downloading 10-Q for LHX (2014)...\n"
     ]
    },
    {
     "name": "stderr",
     "output_type": "stream",
     "text": [
      "Downloading SEC Filings:  67%|██████▋   | 332/499 [2:50:56<2:04:48, 44.84s/it]"
     ]
    },
    {
     "name": "stdout",
     "output_type": "stream",
     "text": [
      "Downloading 10-Q for TRGP (2015)...\n",
      "Downloading 10-Q for VLO (2005)...\n",
      "Downloading 10-Q for URI (2011)...\n",
      "Downloading 10-Q for EW (2016)...\n",
      "Downloading 10-Q for F (2000)...\n",
      "Downloading 10-Q for CTSH (2016)...\n",
      "Downloading 10-Q for GLW (2004)...\n",
      "Downloading 10-Q for XEL (2012)...\n",
      "Downloading 10-Q for LULU (2014)...\n",
      "Downloading 10-Q for DFS (2013)...\n",
      "Downloading 10-Q for VLO (2006)...\n",
      "Downloading 10-Q for LHX (2015)...\n",
      "Downloading 10-Q for VRSK (2020)...\n",
      "Downloading 10-Q for URI (2012)...\n",
      "Downloading 10-Q for PEG (2011)...\n",
      "Downloading 10-Q for F (2001)...\n",
      "Downloading 10-Q for GLW (2005)...\n",
      "Downloading 10-Q for VLO (2007)...\n",
      "Downloading 10-Q for F (2002)...\n",
      "Downloading 10-Q for LULU (2015)...\n",
      "Downloading 10-Q for GLW (2006)...\n",
      "Downloading 10-Q for VST (2018)...\n",
      "Downloading 10-Q for VLO (2008)...\n",
      "Downloading 10-Q for NDAQ (2019)...\n",
      "Downloading 10-Q for CTSH (2017)...\n",
      "Downloading 10-Q for F (2003)...\n",
      "Downloading 10-Q for GLW (2007)...\n",
      "Downloading 10-Q for VLO (2009)...\n",
      "Downloading 10-Q for EW (2017)...\n",
      "Downloading 10-Q for LULU (2016)...\n",
      "Downloading 10-Q for TRGP (2016)...\n",
      "Downloading 10-Q for F (2004)...\n",
      "Downloading 10-Q for LHX (2016)...\n",
      "Downloading 10-Q for GLW (2008)...\n",
      "Downloading 10-Q for VLO (2010)...\n",
      "Downloading 10-Q for XEL (2013)...\n",
      "Downloading 10-Q for AIG (2021)...\n",
      "Downloading 10-Q for VRSK (2021)...\n",
      "Downloading 10-Q for CTSH (2018)...\n",
      "Downloading 10-Q for URI (2013)...\n",
      "Downloading 10-Q for F (2005)...\n",
      "Downloading 10-Q for SRE (2020)...\n",
      "Downloading 10-Q for GLW (2009)...\n",
      "Downloading 10-Q for LULU (2017)...\n",
      "Downloading 10-Q for EW (2018)...\n",
      "Downloading 10-Q for F (2006)...\n",
      "Downloading 10-Q for LHX (2017)...\n",
      "Downloading 10-Q for F (2007)...\n",
      "Downloading 10-Q for TRGP (2017)...\n",
      "Downloading 10-Q for XEL (2014)...\n",
      "Downloading 10-Q for GLW (2010)...\n",
      "Downloading 10-Q for LULU (2018)...\n",
      "Downloading 10-Q for VLO (2011)...\n",
      "Downloading 10-Q for EW (2019)...\n"
     ]
    },
    {
     "name": "stderr",
     "output_type": "stream",
     "text": [
      "Downloading SEC Filings:  67%|██████▋   | 333/499 [2:55:43<5:25:05, 117.50s/it]"
     ]
    },
    {
     "name": "stdout",
     "output_type": "stream",
     "text": [
      "Downloading 10-Q for NDAQ (2020)...\n",
      "Downloading 10-Q for PEG (2012)...\n",
      "Downloading 10-Q for EXC (2015)...\n",
      "Downloading 10-Q for CTSH (2019)...\n",
      "Downloading 10-Q for CCEP (2000)...\n",
      "Downloading 10-Q for F (2008)...\n",
      "Downloading 10-Q for CCEP (2001)...\n",
      "Downloading 10-Q for CCEP (2002)...\n",
      "Downloading 10-Q for CCEP (2003)...\n",
      "Downloading 10-Q for LHX (2018)...\n",
      "Downloading 10-Q for CCEP (2004)...\n",
      "Downloading 10-Q for CCEP (2005)...\n",
      "Downloading 10-Q for VST (2019)...\n",
      "Downloading 10-Q for CCEP (2006)...\n",
      "Downloading 10-Q for CCEP (2007)...\n",
      "Downloading 10-Q for CCEP (2008)...\n",
      "Downloading 10-Q for CCEP (2009)...\n",
      "Downloading 10-Q for URI (2014)...\n",
      "Downloading 10-Q for CCEP (2010)...\n",
      "Downloading 10-Q for F (2009)...\n",
      "Downloading 10-Q for CCEP (2011)...\n",
      "Downloading 10-Q for CCEP (2012)...\n",
      "Downloading 10-Q for CCEP (2013)...\n",
      "Downloading 10-Q for VLO (2012)...\n",
      "Downloading 10-Q for CCEP (2014)...\n",
      "Downloading 10-Q for LULU (2019)...\n",
      "Downloading 10-Q for CCEP (2015)...\n",
      "Downloading 10-Q for CCEP (2016)...\n",
      "Downloading 10-Q for CCEP (2017)...\n",
      "Downloading 10-Q for CCEP (2018)...\n",
      "Downloading 10-Q for CCEP (2019)...\n",
      "Downloading 10-Q for CCEP (2020)...\n",
      "Downloading 10-Q for TRGP (2018)...\n",
      "Downloading 10-Q for CCEP (2021)...\n"
     ]
    },
    {
     "name": "stderr",
     "output_type": "stream",
     "text": [
      "Downloading SEC Filings:  67%|██████▋   | 334/499 [2:57:24<5:09:33, 112.57s/it]"
     ]
    },
    {
     "name": "stdout",
     "output_type": "stream",
     "text": [
      "Downloading 10-Q for F (2010)...\n",
      "Downloading 10-Q for CBRE (2000)...\n",
      "Downloading 10-Q for CBRE (2001)...\n",
      "Downloading 10-Q for LULU (2020)...\n",
      "Downloading 10-Q for GLW (2011)...\n",
      "Downloading 10-Q for CBRE (2002)...\n"
     ]
    },
    {
     "name": "stderr",
     "output_type": "stream",
     "text": [
      "Downloading SEC Filings:  67%|██████▋   | 335/499 [2:57:47<3:54:48, 85.91s/it] "
     ]
    },
    {
     "name": "stdout",
     "output_type": "stream",
     "text": [
      "Downloading 10-Q for LHX (2019)...\n",
      "Downloading 10-Q for EW (2020)...\n",
      "Downloading 10-Q for DNZOY (2000)...\n",
      "Downloading 10-Q for DNZOY (2001)...\n",
      "Downloading 10-Q for DNZOY (2002)...\n",
      "Downloading 10-Q for DNZOY (2003)...\n",
      "Downloading 10-Q for CBRE (2003)...\n",
      "Downloading 10-Q for DNZOY (2004)...\n",
      "Downloading 10-Q for DNZOY (2005)...\n",
      "Downloading 10-Q for VLO (2013)...\n",
      "Downloading 10-Q for DNZOY (2006)...\n",
      "Downloading 10-Q for URI (2015)...\n",
      "Downloading 10-Q for DNZOY (2007)...\n",
      "Downloading 10-Q for CTSH (2020)...\n",
      "Downloading 10-Q for XEL (2015)...\n",
      "Downloading 10-Q for DNZOY (2008)...\n",
      "Downloading 10-Q for DNZOY (2009)...\n",
      "Downloading 10-Q for LULU (2021)...\n",
      "Downloading 10-Q for DNZOY (2010)...\n",
      "Downloading 10-Q for DNZOY (2011)...\n",
      "Downloading 10-Q for CBRE (2004)...\n",
      "Downloading 10-Q for DNZOY (2012)...\n",
      "Downloading 10-Q for DNZOY (2013)...\n",
      "Downloading 10-Q for DNZOY (2014)...\n",
      "Error occurred while downloading filing for accession number {}: {} 0001069183-18-000114 Response ended prematurely\n",
      "Downloading 10-Q for DNZOY (2015)...\n",
      "Downloading 10-Q for DNZOY (2016)...\n",
      "Downloading 10-Q for DNZOY (2017)...\n",
      "Downloading 10-Q for TRGP (2019)...\n",
      "Downloading 10-Q for DNZOY (2018)...\n",
      "Downloading 10-Q for CBRE (2005)...\n",
      "Downloading 10-Q for LHX (2020)...\n",
      "Downloading 10-Q for DNZOY (2019)...\n",
      "Downloading 10-Q for DNZOY (2020)...\n",
      "Downloading 10-Q for DNZOY (2021)...\n",
      "Downloading 10-Q for DFS (2014)...\n"
     ]
    },
    {
     "name": "stderr",
     "output_type": "stream",
     "text": [
      "Downloading SEC Filings:  67%|██████▋   | 336/499 [2:58:56<3:39:04, 80.64s/it]"
     ]
    },
    {
     "name": "stdout",
     "output_type": "stream",
     "text": [
      "Downloading 10-Q for GLW (2012)...\n",
      "Downloading 10-Q for VEEV (2000)...\n",
      "Downloading 10-Q for AXON (2019)...\n",
      "Downloading 10-Q for CBRE (2006)...\n",
      "Downloading 10-Q for VEEV (2001)...\n",
      "Downloading 10-Q for VEEV (2002)...\n",
      "Downloading 10-Q for VEEV (2003)...\n",
      "Downloading 10-Q for SRE (2021)...\n",
      "Downloading 10-Q for CBRE (2007)...\n",
      "Downloading 10-Q for VEEV (2004)...\n",
      "Downloading 10-Q for URI (2016)...\n",
      "Downloading 10-Q for F (2011)...\n",
      "Downloading 10-Q for VEEV (2005)...\n",
      "Downloading 10-Q for VST (2020)...\n"
     ]
    },
    {
     "name": "stderr",
     "output_type": "stream",
     "text": [
      "Downloading SEC Filings:  68%|██████▊   | 337/499 [2:59:52<3:18:08, 73.38s/it]"
     ]
    },
    {
     "name": "stdout",
     "output_type": "stream",
     "text": [
      "Downloading 10-Q for VEEV (2006)...\n",
      "Downloading 10-Q for SVNDY (2000)...\n",
      "Downloading 10-Q for SVNDY (2001)...\n",
      "Downloading 10-Q for VEEV (2007)...\n",
      "Downloading 10-Q for SVNDY (2002)...\n",
      "Downloading 10-Q for CBRE (2008)...\n",
      "Downloading 10-Q for SVNDY (2003)...\n",
      "Downloading 10-Q for VEEV (2008)...\n",
      "Downloading 10-Q for VLO (2014)...\n",
      "Downloading 10-Q for SVNDY (2004)...\n",
      "Downloading 10-Q for SVNDY (2005)...\n",
      "Downloading 10-Q for VEEV (2009)...\n",
      "Downloading 10-Q for GLW (2013)...\n",
      "Downloading 10-Q for SVNDY (2006)...\n",
      "Downloading 10-Q for XEL (2016)...\n",
      "Downloading 10-Q for NDAQ (2021)...\n",
      "Downloading 10-Q for SVNDY (2007)...\n"
     ]
    },
    {
     "name": "stderr",
     "output_type": "stream",
     "text": [
      "Downloading SEC Filings:  68%|██████▊   | 338/499 [3:00:16<2:37:16, 58.61s/it]"
     ]
    },
    {
     "name": "stdout",
     "output_type": "stream",
     "text": [
      "Downloading 10-Q for VEEV (2010)...\n",
      "Downloading 10-Q for SVNDY (2008)...\n",
      "Downloading 10-Q for SVNDY (2009)...\n",
      "Downloading 10-Q for EW (2021)...\n",
      "Downloading 10-Q for PRU (2000)...\n",
      "Downloading 10-Q for CBRE (2009)...\n",
      "Downloading 10-Q for SVNDY (2010)...\n",
      "Downloading 10-Q for TRGP (2020)...\n",
      "Downloading 10-Q for VEEV (2011)...\n",
      "Downloading 10-Q for SVNDY (2011)...\n",
      "Downloading 10-Q for URI (2017)...\n",
      "Downloading 10-Q for SVNDY (2012)...\n",
      "Downloading 10-Q for VEEV (2012)...\n",
      "Downloading 10-Q for SVNDY (2013)...\n",
      "Downloading 10-Q for AXON (2020)...\n",
      "Downloading 10-Q for SVNDY (2014)...\n",
      "Downloading 10-Q for PRU (2001)...\n",
      "Downloading 10-Q for VEEV (2013)...\n",
      "Downloading 10-Q for SVNDY (2015)...\n",
      "Downloading 10-Q for SVNDY (2016)...\n",
      "Downloading 10-Q for CBRE (2010)...\n",
      "Downloading 10-Q for SVNDY (2017)...\n",
      "Downloading 10-Q for CTSH (2021)...\n",
      "Downloading 10-Q for SVNDY (2018)...\n",
      "Downloading 10-Q for SVNDY (2019)...\n",
      "Downloading 10-Q for PRU (2002)...\n",
      "Downloading 10-Q for SVNDY (2020)...\n",
      "Downloading 10-Q for SVNDY (2021)...\n"
     ]
    },
    {
     "name": "stderr",
     "output_type": "stream",
     "text": [
      "Downloading SEC Filings:  68%|██████▊   | 339/499 [3:01:13<2:34:37, 57.98s/it]"
     ]
    },
    {
     "name": "stdout",
     "output_type": "stream",
     "text": [
      "Downloading 10-Q for VEEV (2014)...\n",
      "Downloading 10-Q for KHC (2000)...\n",
      "Downloading 10-Q for KHC (2001)...\n",
      "Downloading 10-Q for KHC (2002)...\n",
      "Downloading 10-Q for KHC (2003)...\n",
      "Downloading 10-Q for KHC (2004)...\n",
      "Downloading 10-Q for PRU (2003)...\n",
      "Downloading 10-Q for KHC (2005)...\n",
      "Downloading 10-Q for CBRE (2011)...\n",
      "Downloading 10-Q for KHC (2006)...\n",
      "Downloading 10-Q for KHC (2007)...\n",
      "Downloading 10-Q for KHC (2008)...\n",
      "Downloading 10-Q for KHC (2009)...\n",
      "Downloading 10-Q for VLO (2015)...\n",
      "Downloading 10-Q for KHC (2010)...\n",
      "Downloading 10-Q for KHC (2011)...\n",
      "Downloading 10-Q for KHC (2012)...\n",
      "Downloading 10-Q for KHC (2013)...\n",
      "Downloading 10-Q for URI (2018)...\n",
      "Downloading 10-Q for KHC (2014)...\n",
      "Downloading 10-Q for TRGP (2021)...\n",
      "Downloading 10-Q for PRU (2004)...\n",
      "Downloading 10-Q for KHC (2015)...\n",
      "Downloading 10-Q for VST (2021)...\n",
      "Downloading 10-Q for PRU (2005)...\n",
      "Downloading 10-Q for CBRE (2012)...\n",
      "Downloading 10-Q for AXON (2021)...\n",
      "Downloading 10-Q for VLO (2016)...\n",
      "Downloading 10-Q for KHC (2016)...\n",
      "Downloading 10-Q for URI (2019)...\n",
      "Downloading 10-Q for VEEV (2015)...\n"
     ]
    },
    {
     "name": "stderr",
     "output_type": "stream",
     "text": [
      "Downloading SEC Filings:  68%|██████▊   | 340/499 [3:03:46<3:49:26, 86.58s/it]"
     ]
    },
    {
     "name": "stdout",
     "output_type": "stream",
     "text": [
      "Downloading 10-Q for ARGX (2000)...\n",
      "Downloading 10-Q for GLW (2014)...\n",
      "Downloading 10-Q for PEG (2013)...\n"
     ]
    },
    {
     "name": "stderr",
     "output_type": "stream",
     "text": [
      "Downloading SEC Filings:  68%|██████▊   | 341/499 [3:04:04<2:53:35, 65.92s/it]"
     ]
    },
    {
     "name": "stdout",
     "output_type": "stream",
     "text": [
      "Downloading 10-Q for DFS (2015)...\n",
      "Downloading 10-Q for ARGX (2001)...\n",
      "Downloading 10-Q for ARGX (2002)...\n",
      "Downloading 10-Q for ARGX (2003)...\n",
      "Downloading 10-Q for PRU (2006)...\n",
      "Downloading 10-Q for ED (2000)...\n",
      "Downloading 10-Q for ARGX (2004)...\n",
      "Downloading 10-Q for ARGX (2005)...\n",
      "Downloading 10-Q for XEL (2017)...\n",
      "Downloading 10-Q for ARGX (2006)...\n",
      "Downloading 10-Q for ARGX (2007)...\n",
      "Downloading 10-Q for ARGX (2008)...\n",
      "Downloading 10-Q for ARGX (2009)...\n",
      "Downloading 10-Q for ARGX (2010)...\n",
      "Downloading 10-Q for ARGX (2011)...\n",
      "Downloading 10-Q for ED (2001)...\n",
      "Downloading 10-Q for ARGX (2012)...\n",
      "Downloading 10-Q for ARGX (2013)...\n",
      "Downloading 10-Q for ARGX (2014)...\n",
      "Downloading 10-Q for PRU (2007)...\n",
      "Downloading 10-Q for ARGX (2015)...\n",
      "Downloading 10-Q for ARGX (2016)...\n"
     ]
    },
    {
     "name": "stderr",
     "output_type": "stream",
     "text": [
      "Downloading SEC Filings:  69%|██████▊   | 342/499 [3:04:54<2:40:18, 61.27s/it]"
     ]
    },
    {
     "name": "stdout",
     "output_type": "stream",
     "text": [
      "Downloading 10-Q for VEEV (2016)...\n",
      "Downloading 10-Q for ARGX (2017)...\n",
      "Downloading 10-Q for ARGX (2018)...\n",
      "Downloading 10-Q for PWR (2000)...\n"
     ]
    },
    {
     "name": "stderr",
     "output_type": "stream",
     "text": [
      "Downloading SEC Filings:  69%|██████▊   | 343/499 [3:05:00<1:55:58, 44.61s/it]"
     ]
    },
    {
     "name": "stdout",
     "output_type": "stream",
     "text": [
      "Downloading 10-Q for ARGX (2019)...\n",
      "Downloading 10-Q for ED (2002)...\n",
      "Downloading 10-Q for ARGX (2020)...\n",
      "Downloading 10-Q for ARGX (2021)...\n",
      "Downloading 10-Q for RBLX (2000)...\n"
     ]
    },
    {
     "name": "stderr",
     "output_type": "stream",
     "text": [
      "Downloading SEC Filings:  69%|██████▉   | 344/499 [3:05:20<1:36:00, 37.16s/it]"
     ]
    },
    {
     "name": "stdout",
     "output_type": "stream",
     "text": [
      "Downloading 10-Q for RBLX (2001)...\n",
      "Downloading 10-Q for RBLX (2002)...\n",
      "Downloading 10-Q for CBRE (2013)...\n"
     ]
    },
    {
     "name": "stderr",
     "output_type": "stream",
     "text": [
      "Downloading SEC Filings:  69%|██████▉   | 345/499 [3:05:34<1:17:47, 30.31s/it]"
     ]
    },
    {
     "name": "stdout",
     "output_type": "stream",
     "text": [
      "Downloading 10-Q for SYY (2000)...\n",
      "Downloading 10-Q for PWR (2001)...\n",
      "Downloading 10-Q for VLO (2017)...\n",
      "Downloading 10-Q for RBLX (2003)...\n",
      "Downloading 10-Q for HSY (2000)...\n",
      "Downloading 10-Q for RBLX (2004)...\n",
      "Downloading 10-Q for GLW (2015)...\n",
      "Downloading 10-Q for PRU (2008)...\n",
      "Downloading 10-Q for RBLX (2005)...\n",
      "Downloading 10-Q for KHC (2017)...\n",
      "Downloading 10-Q for RBLX (2006)...\n",
      "Downloading 10-Q for ED (2003)...\n",
      "Downloading 10-Q for RBLX (2007)...\n",
      "Downloading 10-Q for SYY (2001)...\n",
      "Downloading 10-Q for RBLX (2008)...\n",
      "Downloading 10-Q for PWR (2002)...\n",
      "Downloading 10-Q for RBLX (2009)...\n",
      "Downloading 10-Q for HSY (2001)...\n",
      "Downloading 10-Q for RBLX (2010)...\n",
      "Downloading 10-Q for RBLX (2011)...\n",
      "Downloading 10-Q for RBLX (2012)...\n",
      "Downloading 10-Q for RBLX (2013)...\n",
      "Downloading 10-Q for SYY (2002)...\n",
      "Downloading 10-Q for ED (2004)...\n",
      "Downloading 10-Q for RBLX (2014)...\n",
      "Downloading 10-Q for PWR (2003)...\n",
      "Downloading 10-Q for RBLX (2015)...\n",
      "Downloading 10-Q for VLO (2018)...\n",
      "Downloading 10-Q for VEEV (2017)...\n",
      "Downloading 10-Q for HSY (2002)...\n",
      "Downloading 10-Q for URI (2020)...\n",
      "Downloading 10-Q for RBLX (2016)...\n",
      "Downloading 10-Q for PRU (2009)...\n"
     ]
    },
    {
     "name": "stderr",
     "output_type": "stream",
     "text": [
      "Downloading SEC Filings:  69%|██████▉   | 346/499 [3:06:12<1:23:19, 32.67s/it]"
     ]
    },
    {
     "name": "stdout",
     "output_type": "stream",
     "text": [
      "Downloading 10-Q for RBLX (2017)...\n",
      "Downloading 10-Q for GLW (2016)...\n",
      "Downloading 10-Q for RBLX (2018)...\n",
      "Downloading 10-Q for FIS (2000)...\n",
      "Downloading 10-Q for RBLX (2019)...\n",
      "Downloading 10-Q for SYY (2003)...\n",
      "Downloading 10-Q for RBLX (2020)...\n",
      "Downloading 10-Q for XEL (2018)...\n"
     ]
    },
    {
     "name": "stderr",
     "output_type": "stream",
     "text": [
      "Downloading SEC Filings:  70%|██████▉   | 347/499 [3:06:25<1:07:38, 26.70s/it]"
     ]
    },
    {
     "name": "stdout",
     "output_type": "stream",
     "text": [
      "Downloading 10-Q for FIS (2001)...\n",
      "Downloading 10-Q for RBLX (2021)...\n",
      "Downloading 10-Q for ED (2005)...\n",
      "Downloading 10-Q for WTKWY (2000)...\n",
      "Downloading 10-Q for PWR (2004)...\n",
      "Downloading 10-Q for HSY (2003)...\n",
      "Downloading 10-Q for WTKWY (2001)...\n",
      "Downloading 10-Q for WTKWY (2002)...\n",
      "Downloading 10-Q for WTKWY (2003)...\n",
      "Downloading 10-Q for WTKWY (2004)...\n",
      "Downloading 10-Q for FIS (2002)...\n",
      "Downloading 10-Q for WTKWY (2005)...\n",
      "Downloading 10-Q for SYY (2004)...\n",
      "Downloading 10-Q for WTKWY (2006)...\n",
      "Downloading 10-Q for WTKWY (2007)...\n",
      "Downloading 10-Q for PWR (2005)...\n",
      "Downloading 10-Q for WTKWY (2008)...\n",
      "Downloading 10-Q for ED (2006)...\n",
      "Downloading 10-Q for HSY (2004)...\n",
      "Downloading 10-Q for WTKWY (2009)...\n",
      "Downloading 10-Q for WTKWY (2010)...\n",
      "Downloading 10-Q for WTKWY (2011)...\n",
      "Downloading 10-Q for FIS (2003)...\n",
      "Downloading 10-Q for PRU (2010)...\n",
      "Downloading 10-Q for EXC (2016)...\n",
      "Downloading 10-Q for GLW (2017)...\n",
      "Downloading 10-Q for WTKWY (2012)...\n",
      "Downloading 10-Q for WTKWY (2013)...\n",
      "Downloading 10-Q for KHC (2018)...\n",
      "Downloading 10-Q for SYY (2005)...\n",
      "Downloading 10-Q for PWR (2006)...\n",
      "Downloading 10-Q for WTKWY (2014)...\n",
      "Downloading 10-Q for VEEV (2018)...\n",
      "Downloading 10-Q for WTKWY (2015)...\n",
      "Downloading 10-Q for VLO (2019)...\n",
      "Downloading 10-Q for WTKWY (2016)...\n",
      "Downloading 10-Q for HSY (2005)...\n",
      "Downloading 10-Q for WTKWY (2017)...\n",
      "Downloading 10-Q for ED (2007)...\n",
      "Downloading 10-Q for FIS (2004)...\n",
      "Downloading 10-Q for WTKWY (2018)...\n",
      "Downloading 10-Q for DFS (2016)...\n",
      "Downloading 10-Q for WTKWY (2019)...\n",
      "Downloading 10-Q for WTKWY (2020)...\n",
      "Downloading 10-Q for XEL (2019)...\n",
      "Downloading 10-Q for PWR (2007)...\n",
      "Downloading 10-Q for WTKWY (2021)...\n",
      "Downloading 10-Q for SYY (2006)...\n"
     ]
    },
    {
     "name": "stderr",
     "output_type": "stream",
     "text": [
      "Downloading SEC Filings:  70%|██████▉   | 348/499 [3:08:05<2:02:10, 48.54s/it]"
     ]
    },
    {
     "name": "stdout",
     "output_type": "stream",
     "text": [
      "Downloading 10-Q for HSY (2006)...\n",
      "Downloading 10-Q for EA (2000)...\n",
      "Downloading 10-Q for FIS (2005)...\n",
      "Downloading 10-Q for ED (2008)...\n",
      "Downloading 10-Q for CBRE (2014)...\n",
      "Downloading 10-Q for PWR (2008)...\n",
      "Downloading 10-Q for URI (2021)...\n",
      "Downloading 10-Q for SYY (2007)...\n",
      "Downloading 10-Q for VEEV (2019)...\n",
      "Downloading 10-Q for FIS (2006)...\n",
      "Downloading 10-Q for EA (2001)...\n",
      "Downloading 10-Q for HSY (2007)...\n",
      "Downloading 10-Q for GLW (2018)...\n",
      "Downloading 10-Q for ED (2009)...\n",
      "Downloading 10-Q for PWR (2009)...\n",
      "Downloading 10-Q for SYY (2008)...\n",
      "Downloading 10-Q for FIS (2007)...\n",
      "Downloading 10-Q for EA (2002)...\n",
      "Downloading 10-Q for HSY (2008)...\n"
     ]
    },
    {
     "name": "stderr",
     "output_type": "stream",
     "text": [
      "Downloading SEC Filings:  70%|██████▉   | 349/499 [3:09:08<2:12:38, 53.05s/it]"
     ]
    },
    {
     "name": "stdout",
     "output_type": "stream",
     "text": [
      "Downloading 10-Q for TTWO (2000)...\n",
      "Downloading 10-Q for XEL (2020)...\n",
      "Downloading 10-Q for PWR (2010)...\n",
      "Downloading 10-Q for SYY (2009)...\n",
      "Downloading 10-Q for FIS (2008)...\n",
      "Downloading 10-Q for ED (2010)...\n",
      "Downloading 10-Q for DFS (2017)...\n",
      "Downloading 10-Q for EA (2003)...\n",
      "Downloading 10-Q for TTWO (2001)...\n",
      "Downloading 10-Q for KHC (2019)...\n",
      "Downloading 10-Q for GLW (2019)...\n",
      "Downloading 10-Q for HSY (2009)...\n",
      "Error occurred while downloading filing for accession number {}: {} 0000037996-11-000016 Response ended prematurely\n",
      "Downloading 10-Q for VEEV (2020)...\n",
      "Downloading 10-Q for FIS (2009)...\n",
      "Downloading 10-Q for TTWO (2002)...\n",
      "Downloading 10-Q for SYY (2010)...\n"
     ]
    },
    {
     "name": "stderr",
     "output_type": "stream",
     "text": [
      "Downloading SEC Filings:  70%|███████   | 350/499 [3:09:58<2:09:20, 52.09s/it]"
     ]
    },
    {
     "name": "stdout",
     "output_type": "stream",
     "text": [
      "Downloading 10-Q for CBRE (2015)...\n",
      "Downloading 10-Q for PWR (2011)...\n",
      "Error occurred while downloading filing for accession number {}: {} 0000202058-20-000040 Response ended prematurely\n",
      "Downloading 10-Q for LHX (2021)...\n",
      "Downloading 10-Q for IT (2000)...\n",
      "Downloading 10-Q for HSY (2010)...\n",
      "Downloading 10-Q for VLO (2020)...\n",
      "Downloading 10-Q for ED (2011)...\n",
      "Downloading 10-Q for IT (2001)...\n",
      "Downloading 10-Q for TTWO (2003)...\n",
      "Downloading 10-Q for FIS (2010)...\n",
      "Downloading 10-Q for XEL (2021)...\n",
      "Downloading 10-Q for SYY (2011)...\n",
      "Downloading 10-Q for PRU (2011)...\n",
      "Downloading 10-Q for EA (2004)...\n",
      "Downloading 10-Q for IT (2002)...\n",
      "Downloading 10-Q for VEEV (2021)...\n",
      "Downloading 10-Q for TTWO (2004)...\n",
      "Downloading 10-Q for PWR (2012)...\n",
      "Downloading 10-Q for CBRE (2016)...\n",
      "Downloading 10-Q for DFS (2018)...\n",
      "Downloading 10-Q for GLW (2020)...\n",
      "Downloading 10-Q for FIS (2011)...\n",
      "Downloading 10-Q for IT (2003)...\n",
      "Downloading 10-Q for HSY (2011)...\n",
      "Downloading 10-Q for TTWO (2005)...\n",
      "Downloading 10-Q for EA (2005)...\n",
      "Downloading 10-Q for SYY (2012)...\n",
      "Downloading 10-Q for TTWO (2006)...\n",
      "Downloading 10-Q for IT (2004)...\n",
      "Downloading 10-Q for EA (2006)...\n",
      "Downloading 10-Q for CBRE (2017)...\n",
      "Downloading 10-Q for TTWO (2007)...\n"
     ]
    },
    {
     "name": "stderr",
     "output_type": "stream",
     "text": [
      "Downloading SEC Filings:  70%|███████   | 351/499 [3:12:35<3:26:13, 83.60s/it]"
     ]
    },
    {
     "name": "stdout",
     "output_type": "stream",
     "text": [
      "Downloading 10-Q for HSY (2012)...\n",
      "Downloading 10-Q for IT (2005)...\n",
      "Downloading 10-Q for SYY (2013)...\n",
      "Downloading 10-Q for STLA (2000)...\n",
      "Downloading 10-Q for STLA (2001)...\n",
      "Downloading 10-Q for STLA (2002)...\n",
      "Downloading 10-Q for VLO (2021)...\n",
      "Downloading 10-Q for EA (2007)...\n",
      "Downloading 10-Q for STLA (2003)...\n",
      "Downloading 10-Q for ED (2012)...\n",
      "Downloading 10-Q for PWR (2013)...\n",
      "Downloading 10-Q for STLA (2004)...\n",
      "Downloading 10-Q for STLA (2005)...\n",
      "Downloading 10-Q for TTWO (2008)...\n",
      "Downloading 10-Q for STLA (2006)...\n",
      "Downloading 10-Q for IT (2006)...\n"
     ]
    },
    {
     "name": "stderr",
     "output_type": "stream",
     "text": [
      "Downloading SEC Filings:  71%|███████   | 352/499 [3:13:27<3:01:40, 74.15s/it]"
     ]
    },
    {
     "name": "stdout",
     "output_type": "stream",
     "text": [
      "Downloading 10-Q for STLA (2007)...\n",
      "Downloading 10-Q for OLCLY (2000)...\n",
      "Downloading 10-Q for STLA (2008)...\n",
      "Downloading 10-Q for FIS (2012)...\n",
      "Downloading 10-Q for OLCLY (2001)...\n",
      "Downloading 10-Q for STLA (2009)...\n",
      "Downloading 10-Q for HSY (2013)...\n",
      "Downloading 10-Q for OLCLY (2002)...\n",
      "Downloading 10-Q for STLA (2010)...\n",
      "Downloading 10-Q for OLCLY (2003)...\n",
      "Downloading 10-Q for EA (2008)...\n",
      "Downloading 10-Q for STLA (2011)...\n",
      "Downloading 10-Q for OLCLY (2004)...\n",
      "Downloading 10-Q for TTWO (2009)...\n",
      "Downloading 10-Q for STLA (2012)...\n",
      "Downloading 10-Q for OLCLY (2005)...\n",
      "Downloading 10-Q for IT (2007)...\n",
      "Downloading 10-Q for OLCLY (2006)...\n",
      "Downloading 10-Q for STLA (2013)...\n"
     ]
    },
    {
     "name": "stderr",
     "output_type": "stream",
     "text": [
      "Downloading SEC Filings:  71%|███████   | 353/499 [3:13:58<2:28:26, 61.01s/it]"
     ]
    },
    {
     "name": "stdout",
     "output_type": "stream",
     "text": [
      "Downloading 10-Q for OLCLY (2007)...\n",
      "Downloading 10-Q for STLA (2014)...\n",
      "Downloading 10-Q for OLCLY (2008)...\n"
     ]
    },
    {
     "name": "stderr",
     "output_type": "stream",
     "text": [
      "Downloading SEC Filings:  71%|███████   | 354/499 [3:14:06<1:48:54, 45.06s/it]"
     ]
    },
    {
     "name": "stdout",
     "output_type": "stream",
     "text": [
      "Downloading 10-Q for ODFL (2000)...\n",
      "Downloading 10-Q for STLA (2015)...\n",
      "Downloading 10-Q for OLCLY (2009)...\n",
      "Downloading 10-Q for OLCLY (2010)...\n",
      "Downloading 10-Q for ETR (2000)...\n",
      "Downloading 10-Q for STLA (2016)...\n",
      "Downloading 10-Q for OLCLY (2011)...\n",
      "Downloading 10-Q for STLA (2017)...\n",
      "Downloading 10-Q for EA (2009)...\n",
      "Downloading 10-Q for CBRE (2018)...\n",
      "Downloading 10-Q for KHC (2020)...\n",
      "Downloading 10-Q for OLCLY (2012)...\n",
      "Downloading 10-Q for TTWO (2010)...\n",
      "Downloading 10-Q for STLA (2018)...\n",
      "Downloading 10-Q for OLCLY (2013)...\n",
      "Downloading 10-Q for ED (2013)...\n",
      "Downloading 10-Q for IT (2008)...\n",
      "Downloading 10-Q for ODFL (2001)...\n",
      "Downloading 10-Q for GLW (2021)...\n",
      "Downloading 10-Q for OLCLY (2014)...\n",
      "Downloading 10-Q for STLA (2019)...\n",
      "Downloading 10-Q for SYY (2014)...\n",
      "Downloading 10-Q for OLCLY (2015)...\n",
      "Downloading 10-Q for STLA (2020)...\n",
      "Downloading 10-Q for HSY (2014)...\n",
      "Downloading 10-Q for OLCLY (2016)...\n",
      "Downloading 10-Q for STLA (2021)...\n",
      "Downloading 10-Q for OLCLY (2017)...\n"
     ]
    },
    {
     "name": "stderr",
     "output_type": "stream",
     "text": [
      "Downloading SEC Filings:  71%|███████   | 355/499 [3:14:50<1:47:28, 44.78s/it]"
     ]
    },
    {
     "name": "stdout",
     "output_type": "stream",
     "text": [
      "Downloading 10-Q for OLCLY (2018)...\n",
      "Downloading 10-Q for PWR (2014)...\n",
      "Downloading 10-Q for DFS (2019)...\n",
      "Downloading 10-Q for OLCLY (2019)...\n",
      "Downloading 10-Q for FIS (2013)...\n",
      "Downloading 10-Q for ETR (2001)...\n",
      "Downloading 10-Q for ODFL (2002)...\n",
      "Downloading 10-Q for OLCLY (2020)...\n",
      "Downloading 10-Q for PCG (2000)...\n",
      "Downloading 10-Q for TTWO (2011)...\n",
      "Downloading 10-Q for OLCLY (2021)...\n",
      "Downloading 10-Q for PEG (2014)...\n"
     ]
    },
    {
     "name": "stderr",
     "output_type": "stream",
     "text": [
      "Downloading SEC Filings:  71%|███████▏  | 356/499 [3:15:04<1:24:59, 35.66s/it]"
     ]
    },
    {
     "name": "stdout",
     "output_type": "stream",
     "text": [
      "Downloading 10-Q for IT (2009)...\n",
      "Downloading 10-Q for EA (2010)...\n",
      "Downloading 10-Q for ANYYY (2000)...\n",
      "Downloading 10-Q for ANYYY (2001)...\n",
      "Downloading 10-Q for ODFL (2003)...\n",
      "Downloading 10-Q for ANYYY (2002)...\n",
      "Downloading 10-Q for PCG (2001)...\n",
      "Downloading 10-Q for ANYYY (2003)...\n",
      "Downloading 10-Q for ETR (2002)...\n",
      "Downloading 10-Q for ANYYY (2004)...\n",
      "Downloading 10-Q for ANYYY (2005)...\n",
      "Downloading 10-Q for IT (2010)...\n",
      "Downloading 10-Q for ANYYY (2006)...\n",
      "Downloading 10-Q for TTWO (2012)...\n",
      "Downloading 10-Q for ANYYY (2007)...\n",
      "Downloading 10-Q for ANYYY (2008)...\n",
      "Downloading 10-Q for ODFL (2004)...\n",
      "Downloading 10-Q for CBRE (2019)...\n",
      "Downloading 10-Q for ANYYY (2009)...\n",
      "Downloading 10-Q for PCG (2002)...\n",
      "Downloading 10-Q for ANYYY (2010)...\n",
      "Downloading 10-Q for ANYYY (2011)...\n",
      "Downloading 10-Q for ANYYY (2012)...\n",
      "Downloading 10-Q for ETR (2003)...\n",
      "Downloading 10-Q for ANYYY (2013)...\n",
      "Downloading 10-Q for ANYYY (2014)...\n",
      "Downloading 10-Q for ODFL (2005)...\n",
      "Downloading 10-Q for ANYYY (2015)...\n"
     ]
    },
    {
     "name": "stderr",
     "output_type": "stream",
     "text": [
      "Downloading SEC Filings:  72%|███████▏  | 357/499 [3:15:59<1:38:23, 41.57s/it]"
     ]
    },
    {
     "name": "stdout",
     "output_type": "stream",
     "text": [
      "Downloading 10-Q for ANYYY (2016)...\n",
      "Downloading 10-Q for IT (2011)...\n",
      "Downloading 10-Q for EA (2011)...\n",
      "Downloading 10-Q for ANYYY (2017)...Downloading 10-Q for IDXX (2000)...\n",
      "\n",
      "Downloading 10-Q for ANYYY (2018)...\n",
      "Downloading 10-Q for SYY (2015)...\n",
      "Downloading 10-Q for PCG (2003)...\n",
      "Downloading 10-Q for ANYYY (2019)...\n",
      "Downloading 10-Q for ANYYY (2020)...\n",
      "Downloading 10-Q for ODFL (2006)...\n",
      "Downloading 10-Q for ANYYY (2021)...\n"
     ]
    },
    {
     "name": "stderr",
     "output_type": "stream",
     "text": [
      "Downloading SEC Filings:  72%|███████▏  | 358/499 [3:16:08<1:14:09, 31.56s/it]"
     ]
    },
    {
     "name": "stdout",
     "output_type": "stream",
     "text": [
      "Downloading 10-Q for IDXX (2001)...\n",
      "Downloading 10-Q for DDOG (2000)...\n",
      "Downloading 10-Q for HSY (2015)...\n",
      "Downloading 10-Q for ETR (2004)...\n",
      "Downloading 10-Q for DDOG (2001)...\n",
      "Downloading 10-Q for KHC (2021)...\n",
      "Downloading 10-Q for ODFL (2007)...\n",
      "Downloading 10-Q for PCG (2004)...\n",
      "Downloading 10-Q for DDOG (2002)...\n",
      "Downloading 10-Q for IDXX (2002)...\n",
      "Downloading 10-Q for DDOG (2003)...\n",
      "Downloading 10-Q for TTWO (2013)...\n",
      "Downloading 10-Q for PWR (2015)...\n",
      "Downloading 10-Q for CBRE (2020)...\n",
      "Downloading 10-Q for DDOG (2004)...\n",
      "Downloading 10-Q for IT (2012)...\n",
      "Downloading 10-Q for ODFL (2008)...\n",
      "Downloading 10-Q for DDOG (2005)...\n",
      "Downloading 10-Q for IDXX (2003)...\n",
      "Downloading 10-Q for DDOG (2006)...\n",
      "Downloading 10-Q for ETR (2005)...\n",
      "Downloading 10-Q for FIS (2014)...\n",
      "Downloading 10-Q for PCG (2005)...\n",
      "Downloading 10-Q for DDOG (2007)...\n",
      "Downloading 10-Q for EA (2012)...\n",
      "Downloading 10-Q for ODFL (2009)...\n",
      "Downloading 10-Q for DDOG (2008)...\n",
      "Downloading 10-Q for DDOG (2009)...\n",
      "Downloading 10-Q for SYY (2016)...\n",
      "Downloading 10-Q for TTWO (2014)...\n",
      "Downloading 10-Q for DDOG (2010)...\n",
      "Downloading 10-Q for ED (2014)...\n",
      "Downloading 10-Q for ODFL (2010)...\n",
      "Downloading 10-Q for IDXX (2004)...\n",
      "Downloading 10-Q for DFS (2020)...\n",
      "Downloading 10-Q for EXC (2017)...\n",
      "Downloading 10-Q for IT (2013)...\n",
      "Downloading 10-Q for HSY (2016)...\n",
      "Downloading 10-Q for DDOG (2011)...\n",
      "Downloading 10-Q for ETR (2006)...\n",
      "Downloading 10-Q for PCG (2006)...\n",
      "Downloading 10-Q for DDOG (2012)...\n",
      "Downloading 10-Q for DDOG (2013)...\n",
      "Downloading 10-Q for CBRE (2021)...\n",
      "Downloading 10-Q for PWR (2016)...\n",
      "Downloading 10-Q for DDOG (2014)...\n",
      "Downloading 10-Q for ODFL (2011)...\n",
      "Downloading 10-Q for DDOG (2015)...\n",
      "Downloading 10-Q for PCG (2007)...\n",
      "Downloading 10-Q for FIS (2015)...\n",
      "Downloading 10-Q for DDOG (2016)...\n",
      "Error occurred while downloading filing for accession number {}: {} 0000037996-11-000004 Response ended prematurely\n"
     ]
    },
    {
     "name": "stderr",
     "output_type": "stream",
     "text": [
      "Downloading SEC Filings:  72%|███████▏  | 359/499 [3:18:16<2:21:25, 60.61s/it]"
     ]
    },
    {
     "name": "stdout",
     "output_type": "stream",
     "text": [
      "Downloading 10-Q for ETR (2007)...\n",
      "Downloading 10-Q for DDOG (2017)...\n",
      "Downloading 10-Q for A (2000)...\n",
      "Downloading 10-Q for DDOG (2018)...\n",
      "Downloading 10-Q for ODFL (2012)...\n",
      "Downloading 10-Q for DDOG (2019)...\n",
      "Downloading 10-Q for PCG (2008)...\n",
      "Downloading 10-Q for A (2001)...\n",
      "Downloading 10-Q for PWR (2017)...\n",
      "Downloading 10-Q for IDXX (2005)...\n",
      "Downloading 10-Q for ODFL (2013)...\n",
      "Downloading 10-Q for EA (2013)...\n",
      "Downloading 10-Q for TTWO (2015)...\n",
      "Downloading 10-Q for DDOG (2020)...\n",
      "Downloading 10-Q for ETR (2008)...\n",
      "Downloading 10-Q for A (2002)...\n",
      "Downloading 10-Q for FIS (2016)...\n",
      "Downloading 10-Q for DFS (2021)...\n",
      "Downloading 10-Q for PCG (2009)...\n"
     ]
    },
    {
     "name": "stderr",
     "output_type": "stream",
     "text": [
      "Downloading SEC Filings:  72%|███████▏  | 360/499 [3:19:32<2:30:46, 65.08s/it]"
     ]
    },
    {
     "name": "stdout",
     "output_type": "stream",
     "text": [
      "Downloading 10-Q for IT (2014)...\n",
      "Downloading 10-Q for SYY (2017)...\n",
      "Downloading 10-Q for A (2003)...\n",
      "Downloading 10-Q for ODFL (2014)...\n",
      "Downloading 10-Q for ABEV (2000)...\n",
      "Downloading 10-Q for ABEV (2001)...\n",
      "Downloading 10-Q for F (2012)...\n",
      "Downloading 10-Q for ABEV (2002)...\n",
      "Downloading 10-Q for ABEV (2003)...\n",
      "Downloading 10-Q for PRU (2012)...\n",
      "Downloading 10-Q for ABEV (2004)...\n",
      "Downloading 10-Q for ETR (2009)...\n",
      "Downloading 10-Q for ABEV (2005)...\n",
      "Downloading 10-Q for A (2004)...\n",
      "Downloading 10-Q for ABEV (2006)...\n",
      "Downloading 10-Q for HSY (2017)...\n",
      "Downloading 10-Q for PCG (2010)...\n",
      "Downloading 10-Q for ABEV (2007)...\n",
      "Downloading 10-Q for ABEV (2008)...\n",
      "Downloading 10-Q for DDOG (2021)...\n",
      "Downloading 10-Q for ODFL (2015)...\n",
      "Downloading 10-Q for ABEV (2009)...\n",
      "Downloading 10-Q for PWR (2018)...\n",
      "Downloading 10-Q for ABEV (2010)...\n",
      "Downloading 10-Q for TTWO (2016)...\n",
      "Downloading 10-Q for ED (2015)...\n",
      "Downloading 10-Q for ABEV (2011)...\n",
      "Downloading 10-Q for FIS (2017)...\n",
      "Downloading 10-Q for IDXX (2006)...\n",
      "Downloading 10-Q for A (2005)...\n",
      "Downloading 10-Q for ABEV (2012)...\n",
      "Downloading 10-Q for ABEV (2013)...\n",
      "Downloading 10-Q for IT (2015)...\n",
      "Downloading 10-Q for SYY (2018)...\n",
      "Downloading 10-Q for ABEV (2014)...\n",
      "Downloading 10-Q for ETR (2010)...\n",
      "Downloading 10-Q for ABEV (2015)...\n",
      "Downloading 10-Q for ABEV (2016)...\n",
      "Downloading 10-Q for ODFL (2016)...\n",
      "Downloading 10-Q for ABEV (2017)...\n",
      "Downloading 10-Q for A (2006)...\n",
      "Downloading 10-Q for ABEV (2018)...\n",
      "Downloading 10-Q for ABEV (2019)...\n",
      "Downloading 10-Q for ABEV (2020)...\n",
      "Downloading 10-Q for ABEV (2021)...\n"
     ]
    },
    {
     "name": "stderr",
     "output_type": "stream",
     "text": [
      "Downloading SEC Filings:  72%|███████▏  | 361/499 [3:21:42<3:14:33, 84.59s/it]"
     ]
    },
    {
     "name": "stdout",
     "output_type": "stream",
     "text": [
      "Downloading 10-Q for HSY (2018)...\n",
      "Downloading 10-Q for TTWO (2017)...\n",
      "Downloading 10-Q for GIS (2000)...\n",
      "Downloading 10-Q for IDXX (2007)...\n",
      "Downloading 10-Q for ODFL (2017)...\n",
      "Downloading 10-Q for EA (2014)...\n",
      "Downloading 10-Q for FIS (2018)...\n",
      "Downloading 10-Q for PCG (2011)...\n"
     ]
    },
    {
     "name": "stderr",
     "output_type": "stream",
     "text": [
      "Downloading SEC Filings:  73%|███████▎  | 362/499 [3:22:16<2:38:30, 69.42s/it]"
     ]
    },
    {
     "name": "stdout",
     "output_type": "stream",
     "text": [
      "Downloading 10-Q for IT (2016)...\n",
      "Downloading 10-Q for XYZ (2000)...\n",
      "Downloading 10-Q for GIS (2001)...\n",
      "Downloading 10-Q for IDXX (2008)...\n",
      "Downloading 10-Q for XYZ (2001)...\n",
      "Downloading 10-Q for ODFL (2018)...\n",
      "Downloading 10-Q for XYZ (2002)...\n",
      "Downloading 10-Q for SYY (2019)...\n",
      "Downloading 10-Q for XYZ (2003)...\n",
      "Downloading 10-Q for TTWO (2018)...\n",
      "Downloading 10-Q for GIS (2002)...\n",
      "Downloading 10-Q for XYZ (2004)...\n",
      "Downloading 10-Q for PWR (2019)...\n",
      "Downloading 10-Q for IDXX (2009)...\n",
      "Downloading 10-Q for XYZ (2005)...\n",
      "Downloading 10-Q for XYZ (2006)...\n",
      "Downloading 10-Q for ED (2016)...\n",
      "Downloading 10-Q for XYZ (2007)...\n",
      "Downloading 10-Q for GIS (2003)...\n",
      "Downloading 10-Q for IDXX (2010)...\n",
      "Downloading 10-Q for A (2007)...\n",
      "Downloading 10-Q for FIS (2019)...\n",
      "Downloading 10-Q for XYZ (2008)...\n",
      "Downloading 10-Q for ODFL (2019)...\n",
      "Downloading 10-Q for XYZ (2009)...\n",
      "Downloading 10-Q for XYZ (2010)...\n",
      "Downloading 10-Q for GIS (2004)...\n",
      "Downloading 10-Q for ETR (2011)...\n",
      "Downloading 10-Q for XYZ (2011)...\n",
      "Downloading 10-Q for A (2008)...\n",
      "Downloading 10-Q for XYZ (2012)...\n",
      "Downloading 10-Q for EXC (2018)...\n",
      "Downloading 10-Q for HSY (2019)...\n",
      "Downloading 10-Q for XYZ (2013)...\n",
      "Downloading 10-Q for IDXX (2011)...\n",
      "Downloading 10-Q for GIS (2005)...\n",
      "Downloading 10-Q for XYZ (2014)...\n",
      "Downloading 10-Q for ODFL (2020)...\n",
      "Downloading 10-Q for A (2009)...\n",
      "Downloading 10-Q for XYZ (2015)...\n",
      "Downloading 10-Q for XYZ (2016)...\n",
      "Downloading 10-Q for TTWO (2019)...\n",
      "Downloading 10-Q for GIS (2006)...\n",
      "Downloading 10-Q for PCG (2012)...\n",
      "Downloading 10-Q for SYY (2020)...\n",
      "Downloading 10-Q for IDXX (2012)...\n",
      "Downloading 10-Q for ODFL (2021)...\n",
      "Downloading 10-Q for ED (2017)...\n",
      "Downloading 10-Q for GIS (2007)...\n"
     ]
    },
    {
     "name": "stderr",
     "output_type": "stream",
     "text": [
      "Downloading SEC Filings:  73%|███████▎  | 363/499 [3:25:20<3:55:26, 103.87s/it]"
     ]
    },
    {
     "name": "stdout",
     "output_type": "stream",
     "text": [
      "Downloading 10-Q for A (2010)...\n",
      "Downloading 10-Q for VICI (2000)...\n",
      "Downloading 10-Q for VICI (2001)...\n",
      "Downloading 10-Q for XYZ (2017)...\n",
      "Downloading 10-Q for EA (2015)...\n",
      "Downloading 10-Q for VICI (2002)...\n",
      "Downloading 10-Q for TTWO (2020)...\n",
      "Downloading 10-Q for VICI (2003)...\n"
     ]
    },
    {
     "name": "stderr",
     "output_type": "stream",
     "text": [
      "Downloading SEC Filings:  73%|███████▎  | 364/499 [3:25:44<2:59:43, 79.88s/it] "
     ]
    },
    {
     "name": "stdout",
     "output_type": "stream",
     "text": [
      "Downloading 10-Q for VICI (2004)...\n",
      "Downloading 10-Q for GIS (2008)...\n",
      "Downloading 10-Q for VICI (2005)...\n",
      "Downloading 10-Q for IMO (2000)...\n",
      "Downloading 10-Q for VICI (2006)...\n",
      "Downloading 10-Q for IMO (2001)...\n",
      "Downloading 10-Q for IDXX (2013)...\n",
      "Downloading 10-Q for VICI (2007)...\n",
      "Downloading 10-Q for IMO (2002)...\n",
      "Downloading 10-Q for VICI (2008)...\n",
      "Downloading 10-Q for A (2011)...\n",
      "Downloading 10-Q for VICI (2009)...\n",
      "Downloading 10-Q for VICI (2010)...\n",
      "Downloading 10-Q for VICI (2011)...\n",
      "Downloading 10-Q for GIS (2009)...\n",
      "Downloading 10-Q for IMO (2003)...\n",
      "Downloading 10-Q for VICI (2012)...\n",
      "Downloading 10-Q for PWR (2020)...\n",
      "Downloading 10-Q for ETR (2012)...\n",
      "Downloading 10-Q for VICI (2013)...\n",
      "Downloading 10-Q for VICI (2014)...\n",
      "Downloading 10-Q for VICI (2015)...\n",
      "Downloading 10-Q for PCG (2013)...\n",
      "Downloading 10-Q for IMO (2004)...\n",
      "Downloading 10-Q for VICI (2016)...\n",
      "Downloading 10-Q for VICI (2017)...\n",
      "Downloading 10-Q for IDXX (2014)...\n",
      "Downloading 10-Q for ED (2018)...\n",
      "Downloading 10-Q for TTWO (2021)...\n",
      "Downloading 10-Q for IMO (2005)...\n",
      "Downloading 10-Q for VICI (2018)...\n",
      "Downloading 10-Q for GIS (2010)...\n",
      "Downloading 10-Q for HSY (2020)...\n",
      "Downloading 10-Q for IMO (2006)...\n",
      "Downloading 10-Q for IMO (2007)...\n",
      "Downloading 10-Q for A (2012)...\n",
      "Downloading 10-Q for IMO (2008)...\n",
      "Downloading 10-Q for VICI (2019)...\n",
      "Downloading 10-Q for IMO (2009)...\n",
      "Downloading 10-Q for SYY (2021)...\n",
      "Downloading 10-Q for IMO (2010)...\n",
      "Downloading 10-Q for EA (2016)...\n",
      "Downloading 10-Q for PCG (2014)...\n",
      "Downloading 10-Q for ED (2019)...\n",
      "Error downloading 10-Q for GIS in 2010: HTTPSConnectionPool(host='data.sec.gov', port=443): Read timed out. (read timeout=None)\n",
      "Downloading 10-Q for GIS (2011)...\n",
      "Downloading 10-Q for PWR (2021)...\n",
      "Downloading 10-Q for IMO (2011)...\n",
      "Downloading 10-Q for IDXX (2015)...\n",
      "Downloading 10-Q for A (2013)...\n",
      "Downloading 10-Q for FIS (2020)...\n",
      "Downloading 10-Q for VICI (2020)...\n"
     ]
    },
    {
     "name": "stderr",
     "output_type": "stream",
     "text": [
      "Downloading SEC Filings:  73%|███████▎  | 365/499 [3:29:19<4:28:46, 120.35s/it]"
     ]
    },
    {
     "name": "stdout",
     "output_type": "stream",
     "text": [
      "Downloading 10-Q for IMO (2012)...\n",
      "Downloading 10-Q for ACGL (2000)...\n",
      "Downloading 10-Q for ACGL (2001)...\n",
      "Downloading 10-Q for EA (2017)...\n"
     ]
    },
    {
     "name": "stderr",
     "output_type": "stream",
     "text": [
      "Downloading SEC Filings:  73%|███████▎  | 366/499 [3:29:49<3:26:55, 93.35s/it] "
     ]
    },
    {
     "name": "stdout",
     "output_type": "stream",
     "text": [
      "Downloading 10-Q for IMO (2013)...\n",
      "Downloading 10-Q for ACGL (2002)...\n",
      "Downloading 10-Q for PEG (2015)...\n",
      "Downloading 10-Q for IDXX (2016)...\n",
      "Downloading 10-Q for VICI (2021)...\n",
      "Downloading 10-Q for PPRUY (2000)...\n",
      "Downloading 10-Q for HSY (2021)...\n",
      "Downloading 10-Q for PPRUY (2001)...\n",
      "Downloading 10-Q for PPRUY (2002)...\n",
      "Downloading 10-Q for PPRUY (2003)...\n",
      "Downloading 10-Q for PPRUY (2004)...\n",
      "Downloading 10-Q for PPRUY (2005)...\n",
      "Error occurred while downloading filing for accession number {}: {} 0000749251-16-000042 Response ended prematurely\n",
      "Downloading 10-Q for PPRUY (2006)...\n",
      "Downloading 10-Q for GIS (2012)...\n",
      "Downloading 10-Q for ACGL (2003)...\n",
      "Downloading 10-Q for PPRUY (2007)...\n",
      "Downloading 10-Q for PPRUY (2008)...\n",
      "Downloading 10-Q for PPRUY (2009)...\n",
      "Downloading 10-Q for PPRUY (2010)...\n",
      "Downloading 10-Q for PPRUY (2011)...\n",
      "Downloading 10-Q for PPRUY (2012)...\n",
      "Downloading 10-Q for IMO (2014)...\n",
      "Downloading 10-Q for PPRUY (2013)...\n",
      "Downloading 10-Q for PPRUY (2014)...\n",
      "Downloading 10-Q for ACGL (2004)...\n",
      "Downloading 10-Q for PPRUY (2015)...\n"
     ]
    },
    {
     "name": "stderr",
     "output_type": "stream",
     "text": [
      "Downloading SEC Filings:  74%|███████▎  | 367/499 [3:30:31<2:51:13, 77.83s/it]"
     ]
    },
    {
     "name": "stdout",
     "output_type": "stream",
     "text": [
      "Downloading 10-Q for PPRUY (2016)...\n",
      "Downloading 10-Q for PPRUY (2017)...\n",
      "Downloading 10-Q for PPRUY (2018)...\n",
      "Downloading 10-Q for BIDU (2000)...\n",
      "Downloading 10-Q for A (2014)...\n",
      "Downloading 10-Q for IDXX (2017)...\n",
      "Downloading 10-Q for PPRUY (2019)...\n",
      "Downloading 10-Q for BIDU (2001)...\n",
      "Downloading 10-Q for PPRUY (2020)...\n",
      "Downloading 10-Q for BIDU (2002)...\n",
      "Downloading 10-Q for PPRUY (2021)...\n",
      "Downloading 10-Q for BIDU (2003)...\n"
     ]
    },
    {
     "name": "stderr",
     "output_type": "stream",
     "text": [
      "Downloading SEC Filings:  74%|███████▎  | 368/499 [3:30:41<2:05:39, 57.56s/it]"
     ]
    },
    {
     "name": "stdout",
     "output_type": "stream",
     "text": [
      "Downloading 10-Q for ACGL (2005)...\n",
      "Downloading 10-Q for BIDU (2004)...\n",
      "Downloading 10-Q for XYZ (2018)...\n",
      "Downloading 10-Q for BIDU (2005)...\n",
      "Downloading 10-Q for BIDU (2006)...\n",
      "Downloading 10-Q for BIDU (2007)...\n",
      "Downloading 10-Q for EXR (2000)...\n"
     ]
    },
    {
     "name": "stderr",
     "output_type": "stream",
     "text": [
      "Downloading SEC Filings:  74%|███████▍  | 369/499 [3:30:59<1:39:17, 45.83s/it]"
     ]
    },
    {
     "name": "stdout",
     "output_type": "stream",
     "text": [
      "Downloading 10-Q for BIDU (2008)...\n",
      "Downloading 10-Q for EA (2018)...\n",
      "Downloading 10-Q for BIDU (2009)...\n",
      "Downloading 10-Q for EXR (2001)...\n",
      "Downloading 10-Q for ED (2020)...\n",
      "Downloading 10-Q for BRO (2000)...\n",
      "Downloading 10-Q for BIDU (2010)...\n"
     ]
    },
    {
     "name": "stderr",
     "output_type": "stream",
     "text": [
      "Downloading SEC Filings:  74%|███████▍  | 370/499 [3:31:09<1:15:33, 35.14s/it]"
     ]
    },
    {
     "name": "stdout",
     "output_type": "stream",
     "text": [
      "Downloading 10-Q for BIDU (2011)...\n",
      "Downloading 10-Q for ACGL (2006)...\n",
      "Downloading 10-Q for EXR (2002)...\n",
      "Downloading 10-Q for BIDU (2012)...\n",
      "Downloading 10-Q for DIA (2000)...\n",
      "Downloading 10-Q for IMO (2015)...\n",
      "Downloading 10-Q for GIS (2013)...\n",
      "Downloading 10-Q for BIDU (2013)...\n",
      "Downloading 10-Q for DIA (2001)...\n",
      "Downloading 10-Q for EXR (2003)...\n",
      "Downloading 10-Q for BIDU (2014)...\n",
      "Downloading 10-Q for DIA (2002)...\n",
      "Downloading 10-Q for IDXX (2018)...\n",
      "Downloading 10-Q for BIDU (2015)...\n",
      "Downloading 10-Q for BRO (2001)...\n",
      "Downloading 10-Q for DIA (2003)...\n",
      "Downloading 10-Q for BIDU (2016)...\n",
      "Downloading 10-Q for EXR (2004)...\n",
      "Downloading 10-Q for FIS (2021)...\n",
      "Downloading 10-Q for DIA (2004)...\n",
      "Downloading 10-Q for BIDU (2017)...\n",
      "Downloading 10-Q for DIA (2005)...\n",
      "Downloading 10-Q for BIDU (2018)...\n",
      "Downloading 10-Q for DIA (2006)...\n",
      "Downloading 10-Q for PRU (2013)...\n",
      "Downloading 10-Q for BIDU (2019)...\n",
      "Downloading 10-Q for DIA (2007)...\n",
      "Downloading 10-Q for ACGL (2007)...\n",
      "Downloading 10-Q for BIDU (2020)...\n",
      "Downloading 10-Q for BRO (2002)...\n",
      "Downloading 10-Q for DIA (2008)...\n",
      "Downloading 10-Q for PCG (2015)...\n",
      "Downloading 10-Q for EXR (2005)...\n",
      "Downloading 10-Q for BIDU (2021)...\n",
      "Downloading 10-Q for DIA (2009)...\n"
     ]
    },
    {
     "name": "stderr",
     "output_type": "stream",
     "text": [
      "Downloading SEC Filings:  74%|███████▍  | 371/499 [3:31:41<1:12:33, 34.01s/it]"
     ]
    },
    {
     "name": "stdout",
     "output_type": "stream",
     "text": [
      "Downloading 10-Q for DIA (2010)...\n",
      "Downloading 10-Q for DKILY (2000)...\n",
      "Downloading 10-Q for IMO (2016)...\n",
      "Error downloading 10-Q for DIA in 2010: ('Connection aborted.', RemoteDisconnected('Remote end closed connection without response'))\n",
      "Downloading 10-Q for DIA (2011)...\n",
      "Error downloading 10-Q for IMO in 2016: ('Connection aborted.', ConnectionResetError(10054, 'Varolan bir bağlantı uzaktaki bir ana bilgisayar tarafından zorla kapatıldı', None, 10054, None))\n",
      "Downloading 10-Q for IMO (2017)...\n",
      "Error downloading 10-Q for DKILY in 2000: ('Connection aborted.', ConnectionResetError(10054, 'Varolan bir bağlantı uzaktaki bir ana bilgisayar tarafından zorla kapatıldı', None, 10054, None))\n",
      "Downloading 10-Q for DKILY (2001)...\n",
      "Downloading 10-Q for BRO (2003)...\n",
      "Downloading 10-Q for EXR (2006)...\n",
      "Downloading 10-Q for DKILY (2002)...\n",
      "Downloading 10-Q for DIA (2012)...\n",
      "Downloading 10-Q for ACGL (2008)...\n",
      "Downloading 10-Q for DKILY (2003)...\n",
      "Downloading 10-Q for DIA (2013)...\n",
      "Downloading 10-Q for DKILY (2004)...\n",
      "Downloading 10-Q for DIA (2014)...\n",
      "Downloading 10-Q for DKILY (2005)...\n",
      "Downloading 10-Q for DIA (2015)...\n",
      "Downloading 10-Q for DKILY (2006)...\n",
      "Downloading 10-Q for DIA (2016)...\n",
      "Downloading 10-Q for XYZ (2019)...\n",
      "Downloading 10-Q for IDXX (2019)...\n",
      "Downloading 10-Q for DKILY (2007)...\n",
      "Downloading 10-Q for DIA (2017)...\n",
      "Downloading 10-Q for A (2015)...\n",
      "Downloading 10-Q for DKILY (2008)...\n",
      "Downloading 10-Q for EXR (2007)...\n",
      "Downloading 10-Q for DKILY (2009)...\n",
      "Downloading 10-Q for DIA (2018)...\n",
      "Downloading 10-Q for BRO (2004)...\n",
      "Downloading 10-Q for DKILY (2010)...\n",
      "Downloading 10-Q for DIA (2019)...\n",
      "Downloading 10-Q for DKILY (2011)...\n",
      "Downloading 10-Q for ACGL (2009)...\n",
      "Downloading 10-Q for DIA (2020)...\n",
      "Downloading 10-Q for DKILY (2012)...\n",
      "Downloading 10-Q for GIS (2014)...\n",
      "Downloading 10-Q for DIA (2021)...\n",
      "Downloading 10-Q for IMO (2018)...\n",
      "Downloading 10-Q for DKILY (2013)...\n"
     ]
    },
    {
     "name": "stderr",
     "output_type": "stream",
     "text": [
      "Downloading SEC Filings:  75%|███████▍  | 372/499 [3:32:41<1:28:21, 41.74s/it]"
     ]
    },
    {
     "name": "stdout",
     "output_type": "stream",
     "text": [
      "Downloading 10-Q for DKILY (2014)...\n",
      "Downloading 10-Q for DKILY (2015)...\n",
      "Downloading 10-Q for WEC (2000)...\n",
      "Downloading 10-Q for DKILY (2016)...\n",
      "Downloading 10-Q for F (2013)...\n",
      "Downloading 10-Q for EXR (2008)...\n",
      "Downloading 10-Q for BRO (2005)...\n",
      "Downloading 10-Q for PCG (2016)...\n",
      "Downloading 10-Q for DKILY (2017)...\n",
      "Downloading 10-Q for DKILY (2018)...\n",
      "Downloading 10-Q for DKILY (2019)...\n",
      "Downloading 10-Q for EA (2019)...\n",
      "Downloading 10-Q for DKILY (2020)...\n",
      "Downloading 10-Q for ACGL (2010)...\n",
      "Downloading 10-Q for PEG (2016)...\n",
      "Downloading 10-Q for DKILY (2021)...\n",
      "Downloading 10-Q for A (2016)...\n",
      "Downloading 10-Q for IMO (2019)...\n"
     ]
    },
    {
     "name": "stderr",
     "output_type": "stream",
     "text": [
      "Downloading SEC Filings:  75%|███████▍  | 373/499 [3:33:05<1:16:34, 36.46s/it]"
     ]
    },
    {
     "name": "stdout",
     "output_type": "stream",
     "text": [
      "Downloading 10-Q for WEC (2001)...\n",
      "Downloading 10-Q for IR (2000)...\n",
      "Downloading 10-Q for EXR (2009)...\n",
      "Downloading 10-Q for EXC (2019)...\n",
      "Downloading 10-Q for BRO (2006)...\n",
      "Downloading 10-Q for IR (2001)...\n",
      "Downloading 10-Q for IR (2002)...\n",
      "Downloading 10-Q for IR (2003)...\n",
      "Downloading 10-Q for ED (2021)...\n",
      "Downloading 10-Q for IR (2004)...\n",
      "Downloading 10-Q for WEC (2002)...\n",
      "Downloading 10-Q for IR (2005)...\n",
      "Downloading 10-Q for IR (2006)...\n",
      "Downloading 10-Q for PCG (2017)...\n",
      "Downloading 10-Q for EXR (2010)...\n",
      "Downloading 10-Q for IR (2007)...\n",
      "Downloading 10-Q for BRO (2007)...\n",
      "Downloading 10-Q for IR (2008)...\n",
      "Downloading 10-Q for ACGL (2011)...\n",
      "Downloading 10-Q for GIS (2015)...\n",
      "Downloading 10-Q for IR (2009)...\n",
      "Downloading 10-Q for IMO (2020)...\n",
      "Downloading 10-Q for IDXX (2020)...\n",
      "Downloading 10-Q for IT (2017)...\n",
      "Downloading 10-Q for IR (2010)...\n",
      "Downloading 10-Q for WEC (2003)...\n",
      "Downloading 10-Q for IR (2011)...\n",
      "Downloading 10-Q for IR (2012)...\n",
      "Downloading 10-Q for XYZ (2020)...\n",
      "Downloading 10-Q for IR (2013)...\n",
      "Downloading 10-Q for BRO (2008)...\n",
      "Downloading 10-Q for IR (2014)...\n",
      "Downloading 10-Q for IR (2015)...\n",
      "Downloading 10-Q for EA (2020)...\n",
      "Downloading 10-Q for IR (2016)...\n",
      "Downloading 10-Q for IR (2017)...\n",
      "Downloading 10-Q for WEC (2004)...\n",
      "Downloading 10-Q for EXR (2011)...\n",
      "Downloading 10-Q for ACGL (2012)...\n",
      "Downloading 10-Q for A (2017)...\n",
      "Downloading 10-Q for IMO (2021)...\n",
      "Downloading 10-Q for BRO (2009)...\n",
      "Downloading 10-Q for PCG (2018)...\n",
      "Downloading 10-Q for WEC (2005)...\n"
     ]
    },
    {
     "name": "stderr",
     "output_type": "stream",
     "text": [
      "Downloading SEC Filings:  75%|███████▍  | 374/499 [3:34:58<2:03:46, 59.42s/it]"
     ]
    },
    {
     "name": "stdout",
     "output_type": "stream",
     "text": [
      "Downloading 10-Q for PEG (2017)...\n",
      "Downloading 10-Q for IR (2018)...\n",
      "Downloading 10-Q for BRO (2010)...\n",
      "Downloading 10-Q for MRAAY (2000)...\n",
      "Downloading 10-Q for GIS (2016)...\n",
      "Downloading 10-Q for MRAAY (2001)...\n",
      "Downloading 10-Q for MRAAY (2002)...\n",
      "Downloading 10-Q for MRAAY (2003)...\n"
     ]
    },
    {
     "name": "stderr",
     "output_type": "stream",
     "text": [
      "Downloading SEC Filings:  75%|███████▌  | 375/499 [3:35:20<1:39:32, 48.17s/it]"
     ]
    },
    {
     "name": "stdout",
     "output_type": "stream",
     "text": [
      "Downloading 10-Q for MRAAY (2004)...\n",
      "Downloading 10-Q for MRAAY (2005)...\n",
      "Downloading 10-Q for WEC (2006)...\n",
      "Downloading 10-Q for HIG (2000)...\n",
      "Downloading 10-Q for MRAAY (2006)...\n",
      "Downloading 10-Q for MRAAY (2007)...\n",
      "Downloading 10-Q for EA (2021)...\n",
      "Downloading 10-Q for MRAAY (2008)...\n",
      "Downloading 10-Q for MRAAY (2009)...\n",
      "Downloading 10-Q for BRO (2011)...\n",
      "Downloading 10-Q for MRAAY (2010)...\n",
      "Downloading 10-Q for EXR (2012)...\n",
      "Downloading 10-Q for XYZ (2021)...\n",
      "Downloading 10-Q for MRAAY (2011)...\n",
      "Downloading 10-Q for HIG (2001)...\n",
      "Downloading 10-Q for A (2018)...\n",
      "Downloading 10-Q for MRAAY (2012)...\n",
      "Downloading 10-Q for IR (2019)...\n",
      "Downloading 10-Q for MRAAY (2013)...\n",
      "Downloading 10-Q for WEC (2007)...\n",
      "Downloading 10-Q for MRAAY (2014)...\n",
      "Downloading 10-Q for MRAAY (2015)...\n",
      "Downloading 10-Q for MRAAY (2016)...\n",
      "Downloading 10-Q for MRAAY (2017)...\n",
      "Downloading 10-Q for MRAAY (2018)...\n",
      "Downloading 10-Q for HIG (2002)...\n",
      "Downloading 10-Q for IDXX (2021)...\n",
      "Downloading 10-Q for MRAAY (2019)...\n",
      "Downloading 10-Q for MRAAY (2020)...\n",
      "Downloading 10-Q for WEC (2008)...\n",
      "Downloading 10-Q for MRAAY (2021)...\n"
     ]
    },
    {
     "name": "stderr",
     "output_type": "stream",
     "text": [
      "Downloading SEC Filings:  75%|███████▌  | 376/499 [3:36:10<1:40:08, 48.85s/it]"
     ]
    },
    {
     "name": "stdout",
     "output_type": "stream",
     "text": [
      "Downloading 10-Q for GIS (2017)...\n",
      "Downloading 10-Q for STZ (2000)...\n",
      "Downloading 10-Q for BRO (2012)...\n",
      "Downloading 10-Q for HIG (2003)...\n",
      "Downloading 10-Q for ACGL (2013)...\n",
      "Downloading 10-Q for PCG (2019)...\n"
     ]
    },
    {
     "name": "stderr",
     "output_type": "stream",
     "text": [
      "Downloading SEC Filings:  76%|███████▌  | 377/499 [3:36:28<1:20:14, 39.46s/it]"
     ]
    },
    {
     "name": "stdout",
     "output_type": "stream",
     "text": [
      "Downloading 10-Q for STZ (2001)...\n",
      "Downloading 10-Q for WIT (2000)...\n",
      "Downloading 10-Q for HIG (2004)...\n",
      "Downloading 10-Q for WIT (2001)...\n",
      "Downloading 10-Q for WIT (2002)...\n",
      "Downloading 10-Q for WIT (2003)...\n",
      "Downloading 10-Q for WIT (2004)...\n",
      "Downloading 10-Q for WIT (2005)...\n",
      "Downloading 10-Q for WIT (2006)...\n",
      "Downloading 10-Q for EXR (2013)...\n",
      "Downloading 10-Q for STZ (2002)...\n",
      "Downloading 10-Q for WIT (2007)...\n",
      "Downloading 10-Q for WIT (2008)...\n",
      "Downloading 10-Q for A (2019)...\n",
      "Downloading 10-Q for BRO (2013)...\n",
      "Downloading 10-Q for WIT (2009)...\n",
      "Downloading 10-Q for IR (2020)...\n",
      "Downloading 10-Q for HIG (2005)...\n"
     ]
    },
    {
     "name": "stderr",
     "output_type": "stream",
     "text": [
      "Downloading SEC Filings:  76%|███████▌  | 378/499 [3:36:49<1:08:33, 34.00s/it]"
     ]
    },
    {
     "name": "stdout",
     "output_type": "stream",
     "text": [
      "Downloading 10-Q for WIT (2010)...\n",
      "Downloading 10-Q for WIT (2011)...\n",
      "Downloading 10-Q for GIS (2018)...\n",
      "Downloading 10-Q for RMD (2000)...\n",
      "Downloading 10-Q for WIT (2012)...\n",
      "Downloading 10-Q for STZ (2003)...\n",
      "Downloading 10-Q for WIT (2013)...\n",
      "Downloading 10-Q for PEG (2018)...\n",
      "Downloading 10-Q for WIT (2014)...\n",
      "Downloading 10-Q for WIT (2015)...\n",
      "Downloading 10-Q for WIT (2016)...\n"
     ]
    },
    {
     "name": "stderr",
     "output_type": "stream",
     "text": [
      "Downloading SEC Filings:  76%|███████▌  | 379/499 [3:37:03<55:54, 27.95s/it]  "
     ]
    },
    {
     "name": "stdout",
     "output_type": "stream",
     "text": [
      "Downloading 10-Q for HIG (2006)...\n"
     ]
    },
    {
     "name": "stderr",
     "output_type": "stream",
     "text": [
      "Downloading SEC Filings:  76%|███████▌  | 380/499 [3:37:05<40:19, 20.33s/it]"
     ]
    },
    {
     "name": "stdout",
     "output_type": "stream",
     "text": [
      "Downloading 10-Q for ETR (2013)...\n",
      "Downloading 10-Q for RMD (2001)...\n",
      "Downloading 10-Q for WIT (2017)...\n",
      "Downloading 10-Q for GWLIF (2000)...\n",
      "Downloading 10-Q for WIT (2018)...\n",
      "Downloading 10-Q for EXC (2020)...\n",
      "Downloading 10-Q for CSGP (2000)...\n",
      "Downloading 10-Q for GWLIF (2001)...\n",
      "Downloading 10-Q for WIT (2019)...\n",
      "Downloading 10-Q for STZ (2004)...\n",
      "Downloading 10-Q for BRO (2014)...\n",
      "Downloading 10-Q for GWLIF (2002)...\n",
      "Downloading 10-Q for WIT (2020)...\n",
      "Downloading 10-Q for GWLIF (2003)...\n",
      "Downloading 10-Q for WIT (2021)...\n",
      "Downloading 10-Q for EXR (2014)...\n",
      "Downloading 10-Q for GWLIF (2004)...\n"
     ]
    },
    {
     "name": "stderr",
     "output_type": "stream",
     "text": [
      "Downloading SEC Filings:  76%|███████▋  | 381/499 [3:37:18<35:28, 18.04s/it]"
     ]
    },
    {
     "name": "stdout",
     "output_type": "stream",
     "text": [
      "Downloading 10-Q for RMD (2002)...\n",
      "Downloading 10-Q for GWLIF (2005)...\n",
      "Downloading 10-Q for F (2014)...\n",
      "Downloading 10-Q for GWLIF (2006)...\n",
      "Downloading 10-Q for HOOD (2000)...\n",
      "Downloading 10-Q for A (2020)...\n",
      "Downloading 10-Q for HIG (2007)...\n",
      "Downloading 10-Q for GWLIF (2007)...\n",
      "Downloading 10-Q for CSGP (2001)...\n",
      "Downloading 10-Q for GWLIF (2008)...\n",
      "Downloading 10-Q for HOOD (2001)...\n",
      "Downloading 10-Q for STZ (2005)...\n",
      "Downloading 10-Q for GWLIF (2009)...\n",
      "Downloading 10-Q for HOOD (2002)...\n",
      "Downloading 10-Q for GWLIF (2010)...\n",
      "Downloading 10-Q for HOOD (2003)...\n",
      "Downloading 10-Q for IR (2021)...\n",
      "Downloading 10-Q for GWLIF (2011)...\n",
      "Downloading 10-Q for RMD (2003)...\n",
      "Downloading 10-Q for HOOD (2004)...\n",
      "Downloading 10-Q for ACGL (2014)...\n",
      "Downloading 10-Q for GWLIF (2012)...\n",
      "Downloading 10-Q for HOOD (2005)...\n",
      "Downloading 10-Q for BRO (2015)...\n",
      "Downloading 10-Q for CSGP (2002)...\n",
      "Downloading 10-Q for GWLIF (2013)...\n",
      "Downloading 10-Q for HOOD (2006)...\n",
      "Downloading 10-Q for GWLIF (2014)...\n",
      "Downloading 10-Q for GIS (2019)...\n",
      "Downloading 10-Q for HOOD (2007)...\n",
      "Downloading 10-Q for GWLIF (2015)...\n",
      "Downloading 10-Q for HIG (2008)...\n",
      "Downloading 10-Q for HOOD (2008)...\n",
      "Downloading 10-Q for GWLIF (2016)...\n",
      "Downloading 10-Q for HOOD (2009)...\n",
      "Downloading 10-Q for GWLIF (2017)...\n",
      "Downloading 10-Q for RMD (2004)...\n",
      "Downloading 10-Q for STZ (2006)...\n",
      "Downloading 10-Q for HOOD (2010)...\n",
      "Downloading 10-Q for GWLIF (2018)...\n",
      "Downloading 10-Q for CSGP (2003)...\n",
      "Downloading 10-Q for GWLIF (2019)...\n",
      "Downloading 10-Q for HOOD (2011)...\n",
      "Downloading 10-Q for GWLIF (2020)...\n",
      "Downloading 10-Q for HOOD (2012)...\n",
      "Downloading 10-Q for GWLIF (2021)...\n",
      "Downloading 10-Q for HOOD (2013)...\n"
     ]
    },
    {
     "name": "stderr",
     "output_type": "stream",
     "text": [
      "Downloading SEC Filings:  77%|███████▋  | 382/499 [3:38:00<48:56, 25.10s/it]"
     ]
    },
    {
     "name": "stdout",
     "output_type": "stream",
     "text": [
      "Downloading 10-Q for HOOD (2014)...\n",
      "Downloading 10-Q for HOOD (2015)...\n",
      "Downloading 10-Q for RMD (2005)...\n",
      "Downloading 10-Q for EXR (2015)...\n",
      "Downloading 10-Q for HOOD (2016)...\n",
      "Downloading 10-Q for WTW (2000)...\n",
      "Downloading 10-Q for HIG (2009)...\n",
      "Downloading 10-Q for CSGP (2004)...\n",
      "Downloading 10-Q for STZ (2007)...\n",
      "Downloading 10-Q for HOOD (2017)...\n",
      "Downloading 10-Q for HOOD (2018)...\n",
      "Downloading 10-Q for HOOD (2019)...\n",
      "Downloading 10-Q for WTW (2001)...\n",
      "Downloading 10-Q for A (2021)...\n",
      "Downloading 10-Q for HOOD (2020)...\n",
      "Downloading 10-Q for BRO (2016)...\n",
      "Downloading 10-Q for WEC (2009)...\n",
      "Downloading 10-Q for HOOD (2021)...\n",
      "Downloading 10-Q for IT (2018)...\n",
      "Downloading 10-Q for RMD (2006)...\n",
      "Downloading 10-Q for GIS (2020)...\n",
      "Downloading 10-Q for WTW (2002)...\n",
      "Downloading 10-Q for CSGP (2005)...\n"
     ]
    },
    {
     "name": "stderr",
     "output_type": "stream",
     "text": [
      "Downloading SEC Filings:  77%|███████▋  | 383/499 [3:38:36<55:14, 28.57s/it]"
     ]
    },
    {
     "name": "stdout",
     "output_type": "stream",
     "text": [
      "Downloading 10-Q for STZ (2008)...\n",
      "Downloading 10-Q for HIG (2010)...\n",
      "Downloading 10-Q for WTW (2003)...\n",
      "Downloading 10-Q for EXR (2016)...\n",
      "Downloading 10-Q for IQV (2000)...\n",
      "Downloading 10-Q for IQV (2001)...\n",
      "Downloading 10-Q for RMD (2007)...\n",
      "Downloading 10-Q for IQV (2002)...\n",
      "Downloading 10-Q for CSGP (2006)...\n",
      "Downloading 10-Q for IQV (2003)...\n",
      "Downloading 10-Q for WEC (2010)...\n",
      "Downloading 10-Q for IQV (2004)...\n",
      "Downloading 10-Q for IQV (2005)...\n",
      "Downloading 10-Q for PCG (2020)...\n",
      "Downloading 10-Q for STZ (2009)...\n",
      "Downloading 10-Q for WTW (2004)...\n",
      "Downloading 10-Q for RMD (2008)...\n",
      "Downloading 10-Q for IQV (2006)...\n",
      "Downloading 10-Q for IQV (2007)...\n",
      "Downloading 10-Q for CSGP (2007)...\n",
      "Downloading 10-Q for ACGL (2015)...\n",
      "Downloading 10-Q for IQV (2008)...\n",
      "Downloading 10-Q for IQV (2009)...\n",
      "Downloading 10-Q for IQV (2010)...\n",
      "Downloading 10-Q for IQV (2011)...\n",
      "Downloading 10-Q for WTW (2005)...\n",
      "Downloading 10-Q for STZ (2010)...\n",
      "Downloading 10-Q for IQV (2012)...\n",
      "Downloading 10-Q for RMD (2009)...\n",
      "Downloading 10-Q for IQV (2013)...\n",
      "Downloading 10-Q for WEC (2011)...\n",
      "Downloading 10-Q for CSGP (2008)...\n"
     ]
    },
    {
     "name": "stderr",
     "output_type": "stream",
     "text": [
      "Downloading SEC Filings:  77%|███████▋  | 384/499 [3:39:25<1:06:13, 34.55s/it]"
     ]
    },
    {
     "name": "stdout",
     "output_type": "stream",
     "text": [
      "Downloading 10-Q for HIG (2011)...\n",
      "Downloading 10-Q for BRO (2017)...\n",
      "Downloading 10-Q for WPM (2000)...\n",
      "Downloading 10-Q for EXR (2017)...\n",
      "Downloading 10-Q for WPM (2001)...\n",
      "Downloading 10-Q for WPM (2002)...\n",
      "Downloading 10-Q for RMD (2010)...\n",
      "Downloading 10-Q for WTW (2006)...\n",
      "Downloading 10-Q for WPM (2003)...\n",
      "Downloading 10-Q for STZ (2011)...\n",
      "Downloading 10-Q for WPM (2004)...\n",
      "Downloading 10-Q for CSGP (2009)...\n",
      "Downloading 10-Q for WPM (2005)...\n",
      "Downloading 10-Q for GIS (2021)...\n",
      "Downloading 10-Q for WPM (2006)...\n",
      "Downloading 10-Q for PRU (2014)...\n",
      "Downloading 10-Q for IT (2019)...\n",
      "Downloading 10-Q for WPM (2007)...\n"
     ]
    },
    {
     "name": "stderr",
     "output_type": "stream",
     "text": [
      "Downloading SEC Filings:  77%|███████▋  | 385/499 [3:39:40<54:49, 28.85s/it]  "
     ]
    },
    {
     "name": "stdout",
     "output_type": "stream",
     "text": [
      "Downloading 10-Q for RMD (2011)...\n",
      "Downloading 10-Q for WPM (2008)...\n",
      "Downloading 10-Q for WTW (2007)...\n",
      "Downloading 10-Q for BSBR (2000)...\n",
      "Downloading 10-Q for WPM (2009)...\n",
      "Downloading 10-Q for IQV (2014)...\n",
      "Downloading 10-Q for CSGP (2010)...\n",
      "Downloading 10-Q for WPM (2010)...\n",
      "Downloading 10-Q for BSBR (2001)...\n",
      "Downloading 10-Q for WPM (2011)...\n",
      "Downloading 10-Q for ACGL (2016)...\n",
      "Downloading 10-Q for WPM (2012)...\n",
      "Downloading 10-Q for BSBR (2002)...\n",
      "Downloading 10-Q for PCG (2021)...\n",
      "Downloading 10-Q for WPM (2013)...\n",
      "Downloading 10-Q for WEC (2012)...\n",
      "Downloading 10-Q for WPM (2014)...\n",
      "Downloading 10-Q for EXR (2018)...\n",
      "Downloading 10-Q for STZ (2012)...\n",
      "Downloading 10-Q for BSBR (2003)...\n",
      "Downloading 10-Q for WPM (2015)...\n",
      "Downloading 10-Q for WPM (2016)...\n",
      "Downloading 10-Q for WTW (2008)...\n",
      "Downloading 10-Q for CSGP (2011)...\n",
      "Downloading 10-Q for BRO (2018)...\n",
      "Downloading 10-Q for PEG (2019)...\n",
      "Downloading 10-Q for BSBR (2004)...\n",
      "Downloading 10-Q for RMD (2012)...\n",
      "Downloading 10-Q for WPM (2017)...\n"
     ]
    },
    {
     "name": "stderr",
     "output_type": "stream",
     "text": [
      "Downloading SEC Filings:  77%|███████▋  | 386/499 [3:40:14<57:18, 30.43s/it]"
     ]
    },
    {
     "name": "stdout",
     "output_type": "stream",
     "text": [
      "Downloading 10-Q for IQV (2015)...\n",
      "Downloading 10-Q for WPM (2018)...\n",
      "Downloading 10-Q for LVS (2000)...\n",
      "Downloading 10-Q for BSBR (2005)...\n",
      "Downloading 10-Q for WPM (2019)...\n",
      "Downloading 10-Q for WPM (2020)...\n",
      "Downloading 10-Q for LVS (2001)...\n",
      "Downloading 10-Q for WPM (2021)...\n",
      "Downloading 10-Q for BSBR (2006)...\n",
      "Downloading 10-Q for HIG (2012)...\n"
     ]
    },
    {
     "name": "stderr",
     "output_type": "stream",
     "text": [
      "Downloading SEC Filings:  78%|███████▊  | 387/499 [3:40:27<47:00, 25.18s/it]"
     ]
    },
    {
     "name": "stdout",
     "output_type": "stream",
     "text": [
      "Downloading 10-Q for LVS (2002)...\n",
      "Downloading 10-Q for BSBR (2007)...\n",
      "Downloading 10-Q for WTW (2009)...\n",
      "Downloading 10-Q for LI (2000)...\n",
      "Downloading 10-Q for LVS (2003)...\n",
      "Downloading 10-Q for CSGP (2012)...\n",
      "Downloading 10-Q for LI (2001)...\n",
      "Downloading 10-Q for BSBR (2008)...\n",
      "Downloading 10-Q for LI (2002)...\n",
      "Downloading 10-Q for LI (2003)...\n",
      "Downloading 10-Q for LVS (2004)...\n",
      "Downloading 10-Q for BSBR (2009)...\n",
      "Downloading 10-Q for LI (2004)...\n",
      "Downloading 10-Q for IT (2020)...\n",
      "Downloading 10-Q for LI (2005)...\n",
      "Downloading 10-Q for BSBR (2010)...\n",
      "Downloading 10-Q for LVS (2005)...\n",
      "Downloading 10-Q for LI (2006)...\n",
      "Downloading 10-Q for WEC (2013)...\n",
      "Downloading 10-Q for LI (2007)...\n",
      "Downloading 10-Q for LI (2008)...\n",
      "Downloading 10-Q for BSBR (2011)...\n",
      "Downloading 10-Q for EXR (2019)...\n",
      "Downloading 10-Q for LI (2009)...\n",
      "Downloading 10-Q for WTW (2010)...\n",
      "Downloading 10-Q for EXC (2021)...\n",
      "Downloading 10-Q for LI (2010)...\n",
      "Downloading 10-Q for STZ (2013)...\n",
      "Downloading 10-Q for BSBR (2012)...\n",
      "Downloading 10-Q for RMD (2013)...\n",
      "Downloading 10-Q for LI (2011)...\n",
      "Downloading 10-Q for LI (2012)...\n",
      "Downloading 10-Q for BSBR (2013)...\n",
      "Downloading 10-Q for LI (2013)...\n",
      "Downloading 10-Q for LI (2014)...\n",
      "Downloading 10-Q for LVS (2006)...\n",
      "Downloading 10-Q for LI (2015)...\n",
      "Downloading 10-Q for BRO (2019)...\n",
      "Downloading 10-Q for BSBR (2014)...\n",
      "Downloading 10-Q for LI (2016)...\n",
      "Downloading 10-Q for LI (2017)...\n",
      "Downloading 10-Q for ACGL (2017)...\n",
      "Downloading 10-Q for BSBR (2015)...\n",
      "Downloading 10-Q for LI (2018)...\n",
      "Downloading 10-Q for LI (2019)...\n",
      "Downloading 10-Q for BSBR (2016)...\n",
      "Downloading 10-Q for LI (2020)...\n",
      "Downloading 10-Q for IQV (2016)...\n",
      "Downloading 10-Q for WEC (2014)...\n",
      "Downloading 10-Q for LI (2021)...\n",
      "Downloading 10-Q for RMD (2014)...\n",
      "Downloading 10-Q for WTW (2011)...\n",
      "Downloading 10-Q for LVS (2007)...\n",
      "Downloading 10-Q for IT (2021)...\n"
     ]
    },
    {
     "name": "stderr",
     "output_type": "stream",
     "text": [
      "Downloading SEC Filings:  78%|███████▊  | 388/499 [3:41:22<1:02:41, 33.88s/it]"
     ]
    },
    {
     "name": "stdout",
     "output_type": "stream",
     "text": [
      "Error downloading 10-Q for WEC in 2014: ('Connection aborted.', RemoteDisconnected('Remote end closed connection without response'))\n",
      "Downloading 10-Q for WEC (2015)...\n",
      "Error downloading 10-Q for LI in 2021: ('Connection aborted.', RemoteDisconnected('Remote end closed connection without response'))\n",
      "Error downloading 10-Q for BSBR in 2016: ('Connection aborted.', ConnectionResetError(10054, 'Varolan bir bağlantı uzaktaki bir ana bilgisayar tarafından zorla kapatıldı', None, 10054, None))\n",
      "Downloading 10-Q for BSBR (2017)...\n",
      "Error downloading 10-Q for WTW in 2011: ('Connection aborted.', ConnectionResetError(10054, 'Varolan bir bağlantı uzaktaki bir ana bilgisayar tarafından zorla kapatıldı', None, 10054, None))\n",
      "Downloading 10-Q for WTW (2012)...\n",
      "Error downloading 10-Q for RMD in 2014: ('Connection aborted.', ConnectionResetError(10054, 'Varolan bir bağlantı uzaktaki bir ana bilgisayar tarafından zorla kapatıldı', None, 10054, None))\n",
      "Downloading 10-Q for RMD (2015)...\n",
      "Downloading 10-Q for LEN (2000)...\n",
      "Downloading 10-Q for BSBR (2018)...\n",
      "Downloading 10-Q for IQV (2017)...\n",
      "Downloading 10-Q for CSGP (2013)...\n",
      "Downloading 10-Q for BSBR (2019)...\n"
     ]
    },
    {
     "name": "stderr",
     "output_type": "stream",
     "text": [
      "Downloading SEC Filings:  78%|███████▊  | 389/499 [3:41:34<50:19, 27.45s/it]  "
     ]
    },
    {
     "name": "stdout",
     "output_type": "stream",
     "text": [
      "Downloading 10-Q for EXR (2020)...\n",
      "Downloading 10-Q for HIG (2013)...\n",
      "Downloading 10-Q for BRO (2020)...\n",
      "Downloading 10-Q for BSBR (2020)...\n",
      "Downloading 10-Q for LEN (2001)...\n",
      "Downloading 10-Q for GOLD (2000)...\n",
      "Downloading 10-Q for PRU (2015)...\n",
      "Downloading 10-Q for GOLD (2001)...\n",
      "Downloading 10-Q for STZ (2014)...\n",
      "Downloading 10-Q for BSBR (2021)...\n",
      "Downloading 10-Q for GOLD (2002)...\n",
      "Downloading 10-Q for LVS (2008)...\n",
      "Downloading 10-Q for RMD (2016)...\n"
     ]
    },
    {
     "name": "stderr",
     "output_type": "stream",
     "text": [
      "Downloading SEC Filings:  78%|███████▊  | 390/499 [3:41:50<43:44, 24.07s/it]"
     ]
    },
    {
     "name": "stdout",
     "output_type": "stream",
     "text": [
      "Downloading 10-Q for GOLD (2003)...\n"
     ]
    },
    {
     "name": "stderr",
     "output_type": "stream",
     "text": [
      "Downloading SEC Filings:  78%|███████▊  | 391/499 [3:41:52<31:30, 17.50s/it]"
     ]
    },
    {
     "name": "stdout",
     "output_type": "stream",
     "text": [
      "Downloading 10-Q for GOLD (2004)...\n",
      "Downloading 10-Q for VRT (2000)...\n",
      "Downloading 10-Q for GOLD (2005)...\n",
      "Downloading 10-Q for DD (2000)...\n",
      "Downloading 10-Q for VRT (2001)...\n",
      "Downloading 10-Q for LEN (2002)...\n",
      "Downloading 10-Q for GOLD (2006)...\n",
      "Downloading 10-Q for VRT (2002)...\n",
      "Downloading 10-Q for GOLD (2007)...\n",
      "Downloading 10-Q for IQV (2018)...\n",
      "Downloading 10-Q for DD (2001)...\n",
      "Downloading 10-Q for GOLD (2008)...\n",
      "Downloading 10-Q for VRT (2003)...\n",
      "Downloading 10-Q for WEC (2016)...\n",
      "Downloading 10-Q for GOLD (2009)...\n",
      "Downloading 10-Q for EXR (2021)...\n",
      "Downloading 10-Q for VRT (2004)...\n",
      "Downloading 10-Q for DD (2002)...\n",
      "Downloading 10-Q for GOLD (2010)...\n",
      "Downloading 10-Q for VRT (2005)...\n",
      "Downloading 10-Q for GOLD (2011)...\n",
      "Downloading 10-Q for VRT (2006)...\n",
      "Downloading 10-Q for GOLD (2012)...\n",
      "Downloading 10-Q for DD (2003)...\n",
      "Downloading 10-Q for CSGP (2014)...\n",
      "Downloading 10-Q for LVS (2009)...\n",
      "Downloading 10-Q for LEN (2003)...\n",
      "Downloading 10-Q for VRT (2007)...\n",
      "Downloading 10-Q for GOLD (2013)...\n",
      "Downloading 10-Q for BRO (2021)...\n",
      "Downloading 10-Q for VRT (2008)...\n",
      "Downloading 10-Q for GOLD (2014)...\n",
      "Downloading 10-Q for DD (2004)...\n",
      "Downloading 10-Q for VRT (2009)...\n",
      "Downloading 10-Q for GOLD (2015)...\n",
      "Downloading 10-Q for VRT (2010)...\n",
      "Downloading 10-Q for GOLD (2016)...\n",
      "Downloading 10-Q for DD (2005)...\n",
      "Downloading 10-Q for VRT (2011)...\n",
      "Downloading 10-Q for GOLD (2017)...\n",
      "Downloading 10-Q for DD (2006)...\n",
      "Downloading 10-Q for VRT (2012)...\n",
      "Downloading 10-Q for GOLD (2018)...\n",
      "Downloading 10-Q for LEN (2004)...\n",
      "Downloading 10-Q for VRT (2013)...\n",
      "Downloading 10-Q for GOLD (2019)...\n",
      "Downloading 10-Q for DD (2007)...\n",
      "Downloading 10-Q for IQV (2019)...\n",
      "Downloading 10-Q for WTW (2013)...\n",
      "Downloading 10-Q for VRT (2014)...\n",
      "Downloading 10-Q for LVS (2010)...\n",
      "Downloading 10-Q for GOLD (2020)...\n",
      "Downloading 10-Q for VRT (2015)...\n",
      "Downloading 10-Q for GOLD (2021)...\n",
      "Downloading 10-Q for VRT (2016)...\n",
      "Downloading 10-Q for RMD (2017)...\n",
      "Downloading 10-Q for DD (2008)...\n"
     ]
    },
    {
     "name": "stderr",
     "output_type": "stream",
     "text": [
      "Downloading SEC Filings:  79%|███████▊  | 392/499 [3:42:33<43:30, 24.40s/it]"
     ]
    },
    {
     "name": "stdout",
     "output_type": "stream",
     "text": [
      "Downloading 10-Q for VRT (2017)...\n",
      "Downloading 10-Q for VRT (2018)...\n",
      "Downloading 10-Q for FERG (2000)...\n",
      "Downloading 10-Q for DD (2009)...\n",
      "Downloading 10-Q for FERG (2001)...\n",
      "Downloading 10-Q for FERG (2002)...\n",
      "Downloading 10-Q for LEN (2005)...\n",
      "Downloading 10-Q for DD (2010)...\n",
      "Downloading 10-Q for FERG (2003)...\n",
      "Downloading 10-Q for ACGL (2018)...\n",
      "Downloading 10-Q for FERG (2004)...\n",
      "Downloading 10-Q for CSGP (2015)...\n",
      "Downloading 10-Q for DD (2011)...\n",
      "Downloading 10-Q for FERG (2005)...\n",
      "Downloading 10-Q for FERG (2006)...\n",
      "Downloading 10-Q for VRT (2019)...\n",
      "Downloading 10-Q for DD (2012)...\n",
      "Downloading 10-Q for FERG (2007)...\n",
      "Downloading 10-Q for FERG (2008)...\n",
      "Downloading 10-Q for RMD (2018)...\n"
     ]
    },
    {
     "name": "stderr",
     "output_type": "stream",
     "text": [
      "Downloading SEC Filings:  79%|███████▉  | 393/499 [3:42:54<41:23, 23.43s/it]"
     ]
    },
    {
     "name": "stdout",
     "output_type": "stream",
     "text": [
      "Downloading 10-Q for LEN (2006)...\n",
      "Downloading 10-Q for DD (2013)...\n",
      "Downloading 10-Q for FERG (2009)...\n",
      "Downloading 10-Q for FER (2000)...\n",
      "Downloading 10-Q for FERG (2010)...\n",
      "Downloading 10-Q for IQV (2020)...\n",
      "Downloading 10-Q for FER (2001)...\n",
      "Downloading 10-Q for LVS (2011)...\n",
      "Downloading 10-Q for FERG (2011)...\n",
      "Downloading 10-Q for FER (2002)...\n",
      "Downloading 10-Q for FERG (2012)...\n",
      "Downloading 10-Q for DD (2014)...\n",
      "Downloading 10-Q for FER (2003)...\n",
      "Downloading 10-Q for FERG (2013)...\n",
      "Downloading 10-Q for STZ (2015)...\n",
      "Downloading 10-Q for FER (2004)...Downloading 10-Q for FERG (2014)...\n",
      "\n",
      "Downloading 10-Q for WEC (2017)...\n",
      "Downloading 10-Q for FERG (2015)...\n",
      "Downloading 10-Q for FER (2005)...\n",
      "Downloading 10-Q for DD (2015)...\n",
      "Downloading 10-Q for FERG (2016)...\n",
      "Downloading 10-Q for FER (2006)...\n"
     ]
    },
    {
     "name": "stderr",
     "output_type": "stream",
     "text": [
      "Downloading SEC Filings:  79%|███████▉  | 394/499 [3:43:05<34:37, 19.78s/it]"
     ]
    },
    {
     "name": "stdout",
     "output_type": "stream",
     "text": [
      "Downloading 10-Q for VRT (2020)...\n",
      "Downloading 10-Q for FER (2007)...\n",
      "Downloading 10-Q for CSGP (2016)...\n",
      "Downloading 10-Q for FERG (2017)...\n",
      "Downloading 10-Q for LEN (2007)...\n",
      "Downloading 10-Q for DD (2016)...\n",
      "Downloading 10-Q for FER (2008)...\n",
      "Downloading 10-Q for ALNY (2000)...\n",
      "Downloading 10-Q for FERG (2018)...\n",
      "Downloading 10-Q for FERG (2019)...\n",
      "Downloading 10-Q for FER (2009)...\n",
      "Downloading 10-Q for WTW (2014)...\n",
      "Downloading 10-Q for FERG (2020)...\n",
      "Downloading 10-Q for ALNY (2001)...\n",
      "Downloading 10-Q for DD (2017)...\n",
      "Downloading 10-Q for FERG (2021)...\n",
      "Downloading 10-Q for FER (2010)...\n"
     ]
    },
    {
     "name": "stderr",
     "output_type": "stream",
     "text": [
      "Downloading SEC Filings:  79%|███████▉  | 395/499 [3:43:15<28:59, 16.73s/it]"
     ]
    },
    {
     "name": "stdout",
     "output_type": "stream",
     "text": [
      "Downloading 10-Q for ALNY (2002)...\n",
      "Downloading 10-Q for FER (2011)...\n",
      "Downloading 10-Q for RMD (2019)...\n",
      "Downloading 10-Q for ALNY (2003)...\n",
      "Downloading 10-Q for HUBS (2000)...\n",
      "Downloading 10-Q for FER (2012)...\n",
      "Downloading 10-Q for LEN (2008)...\n",
      "Downloading 10-Q for FER (2013)...\n",
      "Downloading 10-Q for ALNY (2004)...\n",
      "Downloading 10-Q for HUBS (2001)...\n",
      "Downloading 10-Q for IQV (2021)...\n",
      "Downloading 10-Q for FER (2014)...\n",
      "Downloading 10-Q for PEG (2020)...\n",
      "Downloading 10-Q for WEC (2018)...\n",
      "Downloading 10-Q for FER (2015)...\n",
      "Downloading 10-Q for HUBS (2002)...\n",
      "Downloading 10-Q for FER (2016)...\n",
      "Downloading 10-Q for DD (2018)...\n",
      "Downloading 10-Q for FER (2017)...\n",
      "Downloading 10-Q for F (2015)...\n",
      "Downloading 10-Q for HUBS (2003)...\n",
      "Downloading 10-Q for FER (2018)...\n",
      "Downloading 10-Q for ALNY (2005)...\n",
      "Downloading 10-Q for FER (2019)...\n",
      "Downloading 10-Q for HUBS (2004)...\n",
      "Downloading 10-Q for LEN (2009)...\n",
      "Downloading 10-Q for FER (2020)...\n",
      "Downloading 10-Q for FER (2021)...\n",
      "Downloading 10-Q for CSGP (2017)...\n",
      "Downloading 10-Q for HUBS (2005)...\n"
     ]
    },
    {
     "name": "stderr",
     "output_type": "stream",
     "text": [
      "Downloading SEC Filings:  79%|███████▉  | 396/499 [3:43:42<33:52, 19.73s/it]"
     ]
    },
    {
     "name": "stdout",
     "output_type": "stream",
     "text": [
      "Downloading 10-Q for RMD (2020)...\n",
      "Downloading 10-Q for SLF (2000)...\n",
      "Downloading 10-Q for HUBS (2006)...\n",
      "Downloading 10-Q for ALNY (2006)...\n",
      "Downloading 10-Q for SLF (2001)...\n",
      "Downloading 10-Q for HUBS (2007)...\n",
      "Downloading 10-Q for STZ (2016)...\n",
      "Downloading 10-Q for VRT (2021)...\n",
      "Downloading 10-Q for LEN (2010)...\n",
      "Downloading 10-Q for SLF (2002)...\n",
      "Downloading 10-Q for HUBS (2008)...\n",
      "Downloading 10-Q for LVS (2012)...\n",
      "Downloading 10-Q for HUBS (2009)...\n",
      "Downloading 10-Q for SLF (2003)...\n"
     ]
    },
    {
     "name": "stderr",
     "output_type": "stream",
     "text": [
      "Downloading SEC Filings:  80%|███████▉  | 397/499 [3:43:58<31:56, 18.79s/it]"
     ]
    },
    {
     "name": "stdout",
     "output_type": "stream",
     "text": [
      "Downloading 10-Q for HUBS (2010)...\n",
      "Downloading 10-Q for SLF (2004)...\n",
      "Downloading 10-Q for WEC (2019)...\n",
      "Downloading 10-Q for ALNY (2007)...\n",
      "Downloading 10-Q for PRU (2016)...\n",
      "Downloading 10-Q for HEI (2000)...\n",
      "Downloading 10-Q for HUBS (2011)...\n",
      "Downloading 10-Q for SLF (2005)...\n",
      "Downloading 10-Q for HUBS (2012)...\n",
      "Downloading 10-Q for SLF (2006)...\n",
      "Downloading 10-Q for LEN (2011)...\n",
      "Downloading 10-Q for ACGL (2019)...\n",
      "Downloading 10-Q for HUBS (2013)...\n"
     ]
    },
    {
     "name": "stderr",
     "output_type": "stream",
     "text": [
      "Downloading SEC Filings:  80%|███████▉  | 398/499 [3:44:16<30:55, 18.37s/it]"
     ]
    },
    {
     "name": "stdout",
     "output_type": "stream",
     "text": [
      "Downloading 10-Q for SLF (2007)...\n",
      "Downloading 10-Q for HEI (2001)...\n",
      "Downloading 10-Q for RMD (2021)...\n",
      "Downloading 10-Q for HUBS (2014)...\n",
      "Downloading 10-Q for ZS (2000)...\n",
      "Downloading 10-Q for SLF (2008)...\n",
      "Downloading 10-Q for ALNY (2008)...\n",
      "Downloading 10-Q for ZS (2001)...\n",
      "Downloading 10-Q for ZS (2002)...\n",
      "Downloading 10-Q for SLF (2009)...\n",
      "Downloading 10-Q for ZS (2003)...\n",
      "Downloading 10-Q for ZS (2004)...\n",
      "Downloading 10-Q for LVS (2013)...\n",
      "Downloading 10-Q for HUBS (2015)...\n",
      "Downloading 10-Q for CSGP (2018)...\n",
      "Downloading 10-Q for HEI (2002)...\n",
      "Downloading 10-Q for SLF (2010)...\n",
      "Downloading 10-Q for ZS (2005)...\n",
      "Downloading 10-Q for ZS (2006)...\n",
      "Downloading 10-Q for SLF (2011)...\n",
      "Downloading 10-Q for ZS (2007)...\n",
      "Downloading 10-Q for ALNY (2009)...\n",
      "Downloading 10-Q for ZS (2008)...\n",
      "Downloading 10-Q for ZS (2009)...\n",
      "Downloading 10-Q for SLF (2012)...\n",
      "Downloading 10-Q for HEI (2003)...\n",
      "Downloading 10-Q for ZS (2010)...\n",
      "Downloading 10-Q for LEN (2012)...\n",
      "Downloading 10-Q for ZS (2011)...\n",
      "Downloading 10-Q for SLF (2013)...\n",
      "Downloading 10-Q for ZS (2012)...\n",
      "Downloading 10-Q for ZS (2013)...\n",
      "Downloading 10-Q for SLF (2014)...\n"
     ]
    },
    {
     "name": "stderr",
     "output_type": "stream",
     "text": [
      "Downloading SEC Filings:  80%|███████▉  | 399/499 [3:44:49<38:16, 22.96s/it]"
     ]
    },
    {
     "name": "stdout",
     "output_type": "stream",
     "text": [
      "Downloading 10-Q for DD (2019)...\n",
      "Downloading 10-Q for ZS (2014)...\n",
      "Downloading 10-Q for HEI (2004)...\n",
      "Downloading 10-Q for STZ (2017)...\n",
      "Downloading 10-Q for SLF (2015)...\n",
      "Downloading 10-Q for ZS (2015)...\n",
      "Downloading 10-Q for WEC (2020)...\n",
      "Downloading 10-Q for PEG (2021)...\n",
      "Downloading 10-Q for EBAY (2000)...\n",
      "Downloading 10-Q for ZS (2016)...\n",
      "Downloading 10-Q for SLF (2016)...\n",
      "Downloading 10-Q for ZS (2017)...\n",
      "Downloading 10-Q for CSGP (2019)...\n",
      "Downloading 10-Q for HUBS (2016)...\n",
      "Downloading 10-Q for ZS (2018)...\n",
      "Downloading 10-Q for SLF (2017)...\n",
      "Downloading 10-Q for HEI (2005)...\n",
      "Downloading 10-Q for SLF (2018)...\n",
      "Downloading 10-Q for ETR (2014)...\n",
      "Downloading 10-Q for EBAY (2001)...\n",
      "Downloading 10-Q for LVS (2014)...\n",
      "Downloading 10-Q for SLF (2019)...\n",
      "Downloading 10-Q for HEI (2006)...\n",
      "Downloading 10-Q for SLF (2020)...\n",
      "Downloading 10-Q for SLF (2021)...\n",
      "Downloading 10-Q for ALNY (2010)...\n"
     ]
    },
    {
     "name": "stderr",
     "output_type": "stream",
     "text": [
      "Downloading SEC Filings:  80%|████████  | 400/499 [3:45:19<41:22, 25.07s/it]"
     ]
    },
    {
     "name": "stdout",
     "output_type": "stream",
     "text": [
      "Downloading 10-Q for HEI (2007)...\n",
      "Downloading 10-Q for STZ (2018)...\n",
      "Downloading 10-Q for QSR (2000)...\n",
      "Downloading 10-Q for ACGL (2020)...\n",
      "Downloading 10-Q for QSR (2001)...\n",
      "Downloading 10-Q for EBAY (2002)...\n",
      "Downloading 10-Q for QSR (2002)...\n",
      "Downloading 10-Q for HEI (2008)...\n",
      "Downloading 10-Q for ZS (2019)...\n",
      "Downloading 10-Q for QSR (2003)...\n",
      "Downloading 10-Q for CSGP (2020)...\n",
      "Downloading 10-Q for QSR (2004)...\n",
      "Downloading 10-Q for ALNY (2011)...\n",
      "Downloading 10-Q for EBAY (2003)...\n",
      "Downloading 10-Q for HEI (2009)...\n",
      "Downloading 10-Q for HUBS (2017)...\n",
      "Downloading 10-Q for QSR (2005)...\n",
      "Downloading 10-Q for LEN (2013)...\n",
      "Downloading 10-Q for QSR (2006)...\n",
      "Downloading 10-Q for HIG (2014)...\n",
      "Downloading 10-Q for STZ (2019)...\n",
      "Downloading 10-Q for QSR (2007)...\n",
      "Downloading 10-Q for HEI (2010)...\n",
      "Downloading 10-Q for ZS (2020)...\n",
      "Downloading 10-Q for QSR (2008)...\n",
      "Downloading 10-Q for ALNY (2012)...\n",
      "Downloading 10-Q for EBAY (2004)...\n",
      "Downloading 10-Q for QSR (2009)...\n",
      "Downloading 10-Q for ACGL (2021)...\n",
      "Downloading 10-Q for DD (2020)...\n",
      "Downloading 10-Q for QSR (2010)...\n",
      "Downloading 10-Q for CSGP (2021)...\n",
      "Downloading 10-Q for HUBS (2018)...\n",
      "Downloading 10-Q for HEI (2011)...\n",
      "Downloading 10-Q for QSR (2011)...\n",
      "Downloading 10-Q for QSR (2012)...\n",
      "Downloading 10-Q for EBAY (2005)...\n",
      "Downloading 10-Q for STZ (2020)...\n",
      "Downloading 10-Q for PRU (2017)...\n",
      "Downloading 10-Q for QSR (2013)...\n",
      "Downloading 10-Q for ALNY (2013)...\n",
      "Downloading 10-Q for QSR (2014)...\n",
      "Downloading 10-Q for WEC (2021)...\n",
      "Downloading 10-Q for WTW (2015)...\n",
      "Downloading 10-Q for QSR (2015)...\n",
      "Downloading 10-Q for EBAY (2006)...\n",
      "Downloading 10-Q for HEI (2012)...\n",
      "Downloading 10-Q for ZS (2021)...\n",
      "Downloading 10-Q for HUBS (2019)...\n",
      "Downloading 10-Q for LVS (2015)...\n",
      "Downloading 10-Q for ETR (2015)...\n",
      "Downloading 10-Q for ALNY (2014)...\n",
      "Downloading 10-Q for QSR (2016)...\n",
      "Downloading 10-Q for EBAY (2007)...\n",
      "Downloading 10-Q for LEN (2014)...\n",
      "Downloading 10-Q for DD (2021)...\n",
      "Downloading 10-Q for HEI (2013)...\n"
     ]
    },
    {
     "name": "stderr",
     "output_type": "stream",
     "text": [
      "Downloading SEC Filings:  80%|████████  | 401/499 [3:47:10<1:23:01, 50.83s/it]"
     ]
    },
    {
     "name": "stdout",
     "output_type": "stream",
     "text": [
      "Downloading 10-Q for BEKE (2000)...\n",
      "Downloading 10-Q for EBAY (2008)...\n",
      "Downloading 10-Q for BEKE (2001)...\n",
      "Downloading 10-Q for BEKE (2002)...\n",
      "Downloading 10-Q for BEKE (2003)...\n"
     ]
    },
    {
     "name": "stderr",
     "output_type": "stream",
     "text": [
      "Downloading SEC Filings:  81%|████████  | 402/499 [3:47:22<1:03:04, 39.02s/it]"
     ]
    },
    {
     "name": "stdout",
     "output_type": "stream",
     "text": [
      "Downloading 10-Q for HIG (2015)...\n",
      "Downloading 10-Q for LVS (2016)...\n",
      "Downloading 10-Q for BEKE (2004)...\n"
     ]
    },
    {
     "name": "stderr",
     "output_type": "stream",
     "text": [
      "Downloading SEC Filings:  81%|████████  | 403/499 [3:47:25<45:04, 28.17s/it]  "
     ]
    },
    {
     "name": "stdout",
     "output_type": "stream",
     "text": [
      "Downloading 10-Q for BEKE (2005)...\n",
      "Downloading 10-Q for TPL (2000)...\n",
      "Downloading 10-Q for BEKE (2006)...\n",
      "Downloading 10-Q for AVB (2000)...\n",
      "Downloading 10-Q for BEKE (2007)...\n",
      "Downloading 10-Q for QSR (2017)...\n",
      "Downloading 10-Q for TPL (2001)...\n",
      "Downloading 10-Q for BEKE (2008)...\n",
      "Downloading 10-Q for STZ (2021)...\n",
      "Downloading 10-Q for BEKE (2009)...\n",
      "Downloading 10-Q for BEKE (2010)...\n",
      "Downloading 10-Q for ALNY (2015)...\n",
      "Downloading 10-Q for TPL (2002)...\n",
      "Downloading 10-Q for EBAY (2009)...\n",
      "Downloading 10-Q for BEKE (2011)...\n"
     ]
    },
    {
     "name": "stderr",
     "output_type": "stream",
     "text": [
      "Downloading SEC Filings:  81%|████████  | 404/499 [3:47:37<37:15, 23.54s/it]"
     ]
    },
    {
     "name": "stdout",
     "output_type": "stream",
     "text": [
      "Downloading 10-Q for BEKE (2012)...\n",
      "Downloading 10-Q for TPL (2003)...\n",
      "Downloading 10-Q for BEKE (2013)...\n",
      "Downloading 10-Q for HUM (2000)...\n",
      "Downloading 10-Q for HUBS (2020)...\n",
      "Downloading 10-Q for BEKE (2014)...\n",
      "Downloading 10-Q for TPL (2004)...\n",
      "Downloading 10-Q for AVB (2001)...\n",
      "Downloading 10-Q for BEKE (2015)...\n",
      "Downloading 10-Q for HEI (2014)...\n",
      "Downloading 10-Q for BEKE (2016)...\n",
      "Downloading 10-Q for TPL (2005)...\n",
      "Downloading 10-Q for BEKE (2017)...\n",
      "Downloading 10-Q for BEKE (2018)...\n",
      "Downloading 10-Q for TPL (2006)...\n",
      "Downloading 10-Q for BEKE (2019)...\n",
      "Downloading 10-Q for BEKE (2020)...\n",
      "Downloading 10-Q for QSR (2018)...\n",
      "Downloading 10-Q for TPL (2007)...\n",
      "Downloading 10-Q for HUM (2001)...\n",
      "Downloading 10-Q for BEKE (2021)...\n",
      "Downloading 10-Q for EBAY (2010)...\n"
     ]
    },
    {
     "name": "stderr",
     "output_type": "stream",
     "text": [
      "Downloading SEC Filings:  81%|████████  | 405/499 [3:47:56<34:39, 22.12s/it]"
     ]
    },
    {
     "name": "stdout",
     "output_type": "stream",
     "text": [
      "Downloading 10-Q for AVB (2002)...\n",
      "Downloading 10-Q for ALNY (2016)...\n",
      "Downloading 10-Q for TPL (2008)...\n",
      "Downloading 10-Q for LVS (2017)...\n",
      "Downloading 10-Q for FRFHF (2000)...\n"
     ]
    },
    {
     "name": "stderr",
     "output_type": "stream",
     "text": [
      "Downloading SEC Filings:  81%|████████▏ | 406/499 [3:48:02<26:49, 17.31s/it]"
     ]
    },
    {
     "name": "stdout",
     "output_type": "stream",
     "text": [
      "Downloading 10-Q for HUBS (2021)...\n",
      "Downloading 10-Q for TPL (2009)...\n",
      "Downloading 10-Q for FRFHF (2001)...\n"
     ]
    },
    {
     "name": "stderr",
     "output_type": "stream",
     "text": [
      "Downloading SEC Filings:  82%|████████▏ | 407/499 [3:48:06<20:24, 13.31s/it]"
     ]
    },
    {
     "name": "stdout",
     "output_type": "stream",
     "text": [
      "Downloading 10-Q for DAL (2000)...\n",
      "Downloading 10-Q for TPL (2010)...\n",
      "Downloading 10-Q for HEI (2015)...\n",
      "Downloading 10-Q for WTW (2016)...\n",
      "Downloading 10-Q for XYL (2000)...\n",
      "Downloading 10-Q for FRFHF (2002)...\n",
      "Downloading 10-Q for HUM (2002)...\n",
      "Downloading 10-Q for TPL (2011)...\n",
      "Downloading 10-Q for AVB (2003)...\n",
      "Downloading 10-Q for LEN (2015)...\n",
      "Downloading 10-Q for XYL (2001)...\n",
      "Downloading 10-Q for TPL (2012)...\n",
      "Downloading 10-Q for FRFHF (2003)...\n",
      "Downloading 10-Q for DAL (2001)...\n",
      "Downloading 10-Q for XYL (2002)...\n",
      "Downloading 10-Q for QSR (2019)...\n",
      "Downloading 10-Q for TPL (2013)...\n",
      "Downloading 10-Q for FRFHF (2004)...\n",
      "Downloading 10-Q for PRU (2018)...\n",
      "Downloading 10-Q for EBAY (2011)...\n",
      "Downloading 10-Q for XYL (2003)...\n",
      "Downloading 10-Q for TPL (2014)...\n",
      "Downloading 10-Q for FRFHF (2005)...\n",
      "Downloading 10-Q for AVB (2004)...\n",
      "Downloading 10-Q for ALNY (2017)...\n",
      "Downloading 10-Q for HUM (2003)...\n",
      "Downloading 10-Q for XYL (2004)...\n",
      "Downloading 10-Q for TPL (2015)...\n",
      "Downloading 10-Q for LVS (2018)...\n"
     ]
    },
    {
     "name": "stderr",
     "output_type": "stream",
     "text": [
      "Downloading SEC Filings:  82%|████████▏ | 408/499 [3:48:21<21:02, 13.88s/it]"
     ]
    },
    {
     "name": "stdout",
     "output_type": "stream",
     "text": [
      "Downloading 10-Q for FRFHF (2006)...\n",
      "Downloading 10-Q for XYL (2005)...\n",
      "Downloading 10-Q for DAL (2002)...\n",
      "Downloading 10-Q for HEI (2016)...\n",
      "Downloading 10-Q for TPL (2016)...\n",
      "Downloading 10-Q for FRFHF (2007)...\n",
      "Downloading 10-Q for CQP (2000)...\n"
     ]
    },
    {
     "name": "stderr",
     "output_type": "stream",
     "text": [
      "Downloading SEC Filings:  82%|████████▏ | 409/499 [3:48:28<17:40, 11.78s/it]"
     ]
    },
    {
     "name": "stdout",
     "output_type": "stream",
     "text": [
      "Downloading 10-Q for CQP (2001)...\n",
      "Downloading 10-Q for XYL (2006)...\n",
      "Downloading 10-Q for TPL (2017)...\n",
      "Downloading 10-Q for CQP (2002)...\n",
      "Downloading 10-Q for FRFHF (2008)...\n",
      "Downloading 10-Q for WAB (2000)...\n",
      "Downloading 10-Q for XYL (2007)...\n",
      "Downloading 10-Q for AVB (2005)...\n",
      "Downloading 10-Q for CQP (2003)...\n",
      "Downloading 10-Q for TPL (2018)...\n",
      "Downloading 10-Q for FRFHF (2009)...\n",
      "Downloading 10-Q for CQP (2004)...\n",
      "Downloading 10-Q for HUM (2004)...\n",
      "Downloading 10-Q for TPL (2019)...\n",
      "Downloading 10-Q for XYL (2008)...\n",
      "Downloading 10-Q for CQP (2005)...\n",
      "Downloading 10-Q for DAL (2003)...\n",
      "Downloading 10-Q for FRFHF (2010)...\n",
      "Downloading 10-Q for CQP (2006)...\n",
      "Downloading 10-Q for ALNY (2018)...\n",
      "Downloading 10-Q for TPL (2020)...\n",
      "Downloading 10-Q for XYL (2009)...\n",
      "Downloading 10-Q for CQP (2007)...\n",
      "Downloading 10-Q for WAB (2001)...\n",
      "Downloading 10-Q for FRFHF (2011)...\n",
      "Downloading 10-Q for TPL (2021)...\n",
      "Downloading 10-Q for XYL (2010)...\n",
      "Downloading 10-Q for AVB (2006)...\n",
      "Downloading 10-Q for FRFHF (2012)...\n",
      "Downloading 10-Q for HEI (2017)...\n",
      "Downloading 10-Q for EBAY (2012)...\n",
      "Downloading 10-Q for XYL (2011)...\n",
      "Downloading 10-Q for HUM (2005)...\n",
      "Downloading 10-Q for LVS (2019)...\n",
      "Downloading 10-Q for DAL (2004)...\n",
      "Downloading 10-Q for CQP (2008)...\n",
      "Downloading 10-Q for FRFHF (2013)...\n",
      "Downloading 10-Q for WAB (2002)...\n",
      "Downloading 10-Q for ETR (2016)...\n",
      "Downloading 10-Q for FRFHF (2014)...\n",
      "Downloading 10-Q for XYL (2012)...\n",
      "Downloading 10-Q for AVB (2007)...\n",
      "Downloading 10-Q for FRFHF (2015)...\n",
      "Downloading 10-Q for HIG (2016)...\n",
      "Downloading 10-Q for CQP (2009)...\n",
      "Downloading 10-Q for FRFHF (2016)...\n",
      "Downloading 10-Q for WAB (2003)...\n",
      "Downloading 10-Q for DAL (2005)...\n",
      "Downloading 10-Q for HUM (2006)...\n",
      "Downloading 10-Q for QSR (2020)...\n",
      "Downloading 10-Q for FRFHF (2017)...\n",
      "Downloading 10-Q for F (2016)...\n",
      "Downloading 10-Q for HEI (2018)...\n",
      "Downloading 10-Q for ALNY (2019)...\n",
      "Downloading 10-Q for FRFHF (2018)...\n"
     ]
    },
    {
     "name": "stderr",
     "output_type": "stream",
     "text": [
      "Downloading SEC Filings:  82%|████████▏ | 410/499 [3:49:21<35:47, 24.13s/it]"
     ]
    },
    {
     "name": "stdout",
     "output_type": "stream",
     "text": [
      "Downloading 10-Q for CQP (2010)...\n",
      "Downloading 10-Q for PRU (2019)...\n",
      "Downloading 10-Q for AVB (2008)...\n",
      "Downloading 10-Q for WTW (2017)...\n",
      "Downloading 10-Q for WAB (2004)...\n",
      "Downloading 10-Q for FRFHF (2019)...\n",
      "Downloading 10-Q for CHT (2000)...\n",
      "Downloading 10-Q for EBAY (2013)...\n",
      "Downloading 10-Q for CHT (2001)...\n",
      "Downloading 10-Q for DAL (2006)...\n",
      "Downloading 10-Q for CHT (2002)...\n",
      "Downloading 10-Q for FRFHF (2020)...\n",
      "Downloading 10-Q for HUM (2007)...\n",
      "Downloading 10-Q for CQP (2011)...\n",
      "Downloading 10-Q for CHT (2003)...\n",
      "Downloading 10-Q for AVB (2009)...\n",
      "Downloading 10-Q for WAB (2005)...\n",
      "Downloading 10-Q for FRFHF (2021)...\n",
      "Downloading 10-Q for CHT (2004)...\n",
      "Downloading 10-Q for XYL (2013)...\n",
      "Downloading 10-Q for CHT (2005)...\n",
      "Downloading 10-Q for LVS (2020)...\n"
     ]
    },
    {
     "name": "stderr",
     "output_type": "stream",
     "text": [
      "Downloading SEC Filings:  82%|████████▏ | 411/499 [3:49:39<32:38, 22.26s/it]"
     ]
    },
    {
     "name": "stdout",
     "output_type": "stream",
     "text": [
      "Downloading 10-Q for CHT (2006)...\n",
      "Downloading 10-Q for DAL (2007)...\n",
      "Downloading 10-Q for CHT (2007)...\n",
      "Downloading 10-Q for HUM (2008)...\n",
      "Downloading 10-Q for CAH (2000)...\n",
      "Downloading 10-Q for CHT (2008)...\n",
      "Downloading 10-Q for CHT (2009)...\n",
      "Downloading 10-Q for WAB (2006)...\n",
      "Downloading 10-Q for CQP (2012)...\n",
      "Downloading 10-Q for CHT (2010)...\n",
      "Downloading 10-Q for AVB (2010)...\n",
      "Downloading 10-Q for CHT (2011)...\n",
      "Downloading 10-Q for HEI (2019)...\n",
      "Downloading 10-Q for CHT (2012)...\n",
      "Downloading 10-Q for CAH (2001)...\n",
      "Downloading 10-Q for ALNY (2020)...\n",
      "Downloading 10-Q for CHT (2013)...\n",
      "Downloading 10-Q for QSR (2021)...\n",
      "Downloading 10-Q for CHT (2014)...\n",
      "Downloading 10-Q for HUM (2009)...\n",
      "Downloading 10-Q for CHT (2015)...\n",
      "Downloading 10-Q for LEN (2016)...\n",
      "Downloading 10-Q for CHT (2016)...\n",
      "Downloading 10-Q for WAB (2007)...\n",
      "Downloading 10-Q for CHT (2017)...\n",
      "Downloading 10-Q for CAH (2002)...\n",
      "Downloading 10-Q for DAL (2008)...\n",
      "Downloading 10-Q for CHT (2018)...\n",
      "Downloading 10-Q for LVS (2021)...\n",
      "Downloading 10-Q for CHT (2019)...\n",
      "Downloading 10-Q for CHT (2020)...\n",
      "Downloading 10-Q for AVB (2011)...\n",
      "Downloading 10-Q for XYL (2014)...\n",
      "Downloading 10-Q for CHT (2021)...\n"
     ]
    },
    {
     "name": "stderr",
     "output_type": "stream",
     "text": [
      "Downloading SEC Filings:  83%|████████▎ | 412/499 [3:50:11<36:33, 25.22s/it]"
     ]
    },
    {
     "name": "stdout",
     "output_type": "stream",
     "text": [
      "Downloading 10-Q for CAH (2003)...\n",
      "Downloading 10-Q for WAB (2008)...\n",
      "Downloading 10-Q for HUM (2010)...\n",
      "Downloading 10-Q for EFX (2000)...\n",
      "Downloading 10-Q for DAL (2009)...\n",
      "Downloading 10-Q for EBAY (2014)...\n",
      "Downloading 10-Q for ETR (2017)...\n",
      "Downloading 10-Q for HIG (2017)...\n",
      "Downloading 10-Q for CAH (2004)...\n",
      "Downloading 10-Q for EFX (2001)...\n",
      "Downloading 10-Q for WAB (2009)...\n"
     ]
    },
    {
     "name": "stderr",
     "output_type": "stream",
     "text": [
      "Downloading SEC Filings:  83%|████████▎ | 413/499 [3:50:33<34:53, 24.34s/it]"
     ]
    },
    {
     "name": "stdout",
     "output_type": "stream",
     "text": [
      "Downloading 10-Q for DAL (2010)...\n",
      "Downloading 10-Q for ROK (2000)...\n",
      "Downloading 10-Q for ALNY (2021)...\n",
      "Downloading 10-Q for EFX (2002)...\n",
      "Downloading 10-Q for CAH (2005)...\n",
      "Downloading 10-Q for HUM (2011)...\n",
      "Downloading 10-Q for WAB (2010)...\n",
      "Downloading 10-Q for HEI (2020)...\n",
      "Downloading 10-Q for AVB (2012)...\n",
      "Downloading 10-Q for EBAY (2015)...\n",
      "Downloading 10-Q for LEN (2017)...\n",
      "Downloading 10-Q for ROK (2001)...\n",
      "Downloading 10-Q for EFX (2003)...\n",
      "Downloading 10-Q for DAL (2011)...\n",
      "Downloading 10-Q for CAH (2006)...\n",
      "Downloading 10-Q for WAB (2011)...\n",
      "Downloading 10-Q for CQP (2013)...\n"
     ]
    },
    {
     "name": "stderr",
     "output_type": "stream",
     "text": [
      "Downloading SEC Filings:  83%|████████▎ | 414/499 [3:51:02<36:06, 25.48s/it]"
     ]
    },
    {
     "name": "stdout",
     "output_type": "stream",
     "text": [
      "Downloading 10-Q for EFX (2004)...\n",
      "Downloading 10-Q for ROK (2002)...\n",
      "Downloading 10-Q for NUE (2000)...\n",
      "Downloading 10-Q for CAH (2007)...\n"
     ]
    },
    {
     "name": "stderr",
     "output_type": "stream",
     "text": [
      "Downloading SEC Filings:  83%|████████▎ | 415/499 [3:51:09<27:54, 19.94s/it]"
     ]
    },
    {
     "name": "stdout",
     "output_type": "stream",
     "text": [
      "Downloading 10-Q for WTW (2018)...\n",
      "Downloading 10-Q for VMC (2000)...\n",
      "Downloading 10-Q for XYL (2015)...\n",
      "Downloading 10-Q for EFX (2005)...\n",
      "Downloading 10-Q for NUE (2001)...\n",
      "Downloading 10-Q for VMC (2001)...\n",
      "Downloading 10-Q for HUM (2012)...\n",
      "Downloading 10-Q for ROK (2003)...\n",
      "Downloading 10-Q for EBAY (2016)...\n",
      "Downloading 10-Q for AVB (2013)...\n",
      "Downloading 10-Q for VMC (2002)...\n",
      "Downloading 10-Q for CAH (2008)...\n",
      "Downloading 10-Q for WAB (2012)...\n",
      "Downloading 10-Q for VMC (2003)...\n",
      "Downloading 10-Q for CQP (2014)...\n",
      "Downloading 10-Q for NUE (2002)...\n",
      "Downloading 10-Q for EFX (2006)...\n",
      "Downloading 10-Q for VMC (2004)...\n",
      "Downloading 10-Q for ROK (2004)...\n",
      "Downloading 10-Q for VMC (2005)...\n",
      "Downloading 10-Q for DAL (2012)...\n",
      "Downloading 10-Q for CAH (2009)...\n",
      "Downloading 10-Q for XYL (2016)...\n",
      "Downloading 10-Q for NUE (2003)...\n",
      "Downloading 10-Q for HEI (2021)...\n",
      "Downloading 10-Q for VMC (2006)...\n",
      "Downloading 10-Q for HUM (2013)...\n",
      "Downloading 10-Q for LEN (2018)...\n",
      "Downloading 10-Q for VMC (2007)...\n",
      "Downloading 10-Q for EFX (2007)...\n",
      "Downloading 10-Q for WTW (2019)...\n",
      "Downloading 10-Q for ROK (2005)...\n",
      "Downloading 10-Q for VMC (2008)...\n",
      "Downloading 10-Q for NUE (2004)...\n",
      "Downloading 10-Q for CQP (2015)...\n",
      "Downloading 10-Q for CAH (2010)...\n",
      "Downloading 10-Q for HIG (2018)...\n",
      "Downloading 10-Q for EBAY (2017)...\n",
      "Downloading 10-Q for ETR (2018)...\n",
      "Downloading 10-Q for WAB (2013)...\n",
      "Downloading 10-Q for NUE (2005)...\n",
      "Downloading 10-Q for EFX (2008)...\n",
      "Downloading 10-Q for DAL (2013)...\n",
      "Downloading 10-Q for ROK (2006)...\n",
      "Downloading 10-Q for VMC (2009)...\n"
     ]
    },
    {
     "name": "stderr",
     "output_type": "stream",
     "text": [
      "Downloading SEC Filings:  83%|████████▎ | 416/499 [3:52:24<50:34, 36.56s/it]"
     ]
    },
    {
     "name": "stdout",
     "output_type": "stream",
     "text": [
      "Downloading 10-Q for NUE (2006)...\n",
      "Downloading 10-Q for PRU (2020)...\n",
      "Downloading 10-Q for XYL (2017)...\n",
      "Downloading 10-Q for HUM (2014)...\n",
      "Downloading 10-Q for EFX (2009)...\n",
      "Downloading 10-Q for CAH (2011)...\n",
      "Downloading 10-Q for MDY (2000)...\n",
      "Downloading 10-Q for MDY (2001)...\n",
      "Downloading 10-Q for MDY (2002)...\n",
      "Downloading 10-Q for ROK (2007)...\n",
      "Downloading 10-Q for MDY (2003)...\n",
      "Downloading 10-Q for NUE (2007)...\n",
      "Downloading 10-Q for MDY (2004)...\n",
      "Downloading 10-Q for MDY (2005)...\n",
      "Downloading 10-Q for EFX (2010)...\n",
      "Downloading 10-Q for AVB (2014)...\n",
      "Downloading 10-Q for CQP (2016)...\n",
      "Downloading 10-Q for MDY (2006)...\n",
      "Downloading 10-Q for VMC (2010)...\n",
      "Downloading 10-Q for LEN (2019)...\n",
      "Downloading 10-Q for MDY (2007)...\n",
      "Downloading 10-Q for WAB (2014)...\n",
      "Downloading 10-Q for EBAY (2018)...\n",
      "Downloading 10-Q for MDY (2008)...\n",
      "Downloading 10-Q for MDY (2009)...\n",
      "Downloading 10-Q for MDY (2010)...\n",
      "Downloading 10-Q for NUE (2008)...\n",
      "Downloading 10-Q for ROK (2008)...\n",
      "Downloading 10-Q for CAH (2012)...\n",
      "Downloading 10-Q for MDY (2011)...\n",
      "Downloading 10-Q for XYL (2018)...\n",
      "Downloading 10-Q for MDY (2012)...\n",
      "Downloading 10-Q for DAL (2014)...\n",
      "Downloading 10-Q for MDY (2013)...\n",
      "Downloading 10-Q for MDY (2014)...\n",
      "Downloading 10-Q for HUM (2015)...\n",
      "Downloading 10-Q for WTW (2020)...\n",
      "Downloading 10-Q for MDY (2015)...\n",
      "Downloading 10-Q for PRU (2021)...\n",
      "Downloading 10-Q for MDY (2016)...\n",
      "Downloading 10-Q for EFX (2011)...\n",
      "Downloading 10-Q for VMC (2011)...\n",
      "Downloading 10-Q for MDY (2017)...\n",
      "Downloading 10-Q for CQP (2017)...\n",
      "Downloading 10-Q for MDY (2018)...\n",
      "Downloading 10-Q for ROK (2009)...\n",
      "Downloading 10-Q for MDY (2019)...\n",
      "Downloading 10-Q for MDY (2020)...\n",
      "Downloading 10-Q for MDY (2021)...\n"
     ]
    },
    {
     "name": "stderr",
     "output_type": "stream",
     "text": [
      "Downloading SEC Filings:  84%|████████▎ | 417/499 [3:53:15<55:59, 40.97s/it]"
     ]
    },
    {
     "name": "stdout",
     "output_type": "stream",
     "text": [
      "Downloading 10-Q for CAH (2013)...Downloading 10-Q for EBAY (2019)...\n",
      "\n",
      "Downloading 10-Q for TW (2000)...\n",
      "Downloading 10-Q for WAB (2015)...\n",
      "Downloading 10-Q for TW (2001)...\n",
      "Downloading 10-Q for TW (2002)...\n"
     ]
    },
    {
     "name": "stderr",
     "output_type": "stream",
     "text": [
      "Downloading SEC Filings:  84%|████████▍ | 418/499 [3:53:20<40:38, 30.10s/it]"
     ]
    },
    {
     "name": "stdout",
     "output_type": "stream",
     "text": [
      "Downloading 10-Q for DAL (2015)...\n",
      "Downloading 10-Q for NUE (2009)...\n",
      "Downloading 10-Q for TW (2003)...\n",
      "Downloading 10-Q for ROK (2010)...\n",
      "Downloading 10-Q for TW (2004)...\n",
      "Downloading 10-Q for TTD (2000)...\n",
      "Downloading 10-Q for TW (2005)...\n",
      "Downloading 10-Q for AVB (2015)...\n",
      "Downloading 10-Q for VMC (2012)...\n",
      "Downloading 10-Q for EFX (2012)...\n",
      "Downloading 10-Q for TW (2006)...\n",
      "Downloading 10-Q for TTD (2001)...\n",
      "Downloading 10-Q for XYL (2019)...\n",
      "Downloading 10-Q for WTW (2021)...\n",
      "Downloading 10-Q for TW (2007)...\n",
      "Downloading 10-Q for TW (2008)...\n",
      "Downloading 10-Q for HUM (2016)...\n",
      "Downloading 10-Q for TTD (2002)...\n",
      "Downloading 10-Q for TW (2009)...\n",
      "Downloading 10-Q for TW (2010)...\n",
      "Downloading 10-Q for NUE (2010)...\n",
      "Downloading 10-Q for TTD (2003)...\n",
      "Downloading 10-Q for CAH (2014)...\n",
      "Downloading 10-Q for CQP (2018)...\n",
      "Downloading 10-Q for TW (2011)...\n",
      "Downloading 10-Q for TW (2012)...\n",
      "Downloading 10-Q for TTD (2004)...\n",
      "Downloading 10-Q for TW (2013)...\n",
      "Downloading 10-Q for DAL (2016)...\n",
      "Downloading 10-Q for TW (2014)...\n",
      "Downloading 10-Q for ROK (2011)...\n",
      "Downloading 10-Q for TTD (2005)...\n",
      "Downloading 10-Q for WAB (2016)...\n",
      "Downloading 10-Q for TW (2015)...\n",
      "Downloading 10-Q for TW (2016)...\n",
      "Downloading 10-Q for HIG (2019)...\n",
      "Downloading 10-Q for TTD (2006)...\n",
      "Downloading 10-Q for TW (2017)...\n",
      "Downloading 10-Q for EFX (2013)...\n",
      "Downloading 10-Q for AVB (2016)...\n",
      "Downloading 10-Q for TW (2018)...\n",
      "Downloading 10-Q for NUE (2011)...\n",
      "Downloading 10-Q for TTD (2007)...\n",
      "Downloading 10-Q for TW (2019)...\n",
      "Downloading 10-Q for XYL (2020)...\n",
      "Downloading 10-Q for VMC (2013)...\n",
      "Downloading 10-Q for LEN (2020)...\n",
      "Downloading 10-Q for TTD (2008)...\n",
      "Downloading 10-Q for CQP (2019)...\n",
      "Downloading 10-Q for TTD (2009)...\n",
      "Downloading 10-Q for DAL (2017)...\n",
      "Downloading 10-Q for TTD (2010)...\n",
      "Downloading 10-Q for CAH (2015)...\n",
      "Downloading 10-Q for ROK (2012)...\n",
      "Downloading 10-Q for HUM (2017)...\n",
      "Downloading 10-Q for EBAY (2020)...\n",
      "Downloading 10-Q for NUE (2012)...\n",
      "Downloading 10-Q for WAB (2017)...\n",
      "Downloading 10-Q for TTD (2011)...\n",
      "Downloading 10-Q for ETR (2019)...\n",
      "Downloading 10-Q for EFX (2014)...\n"
     ]
    },
    {
     "name": "stderr",
     "output_type": "stream",
     "text": [
      "Downloading SEC Filings:  84%|████████▍ | 419/499 [3:54:10<48:15, 36.19s/it]"
     ]
    },
    {
     "name": "stdout",
     "output_type": "stream",
     "text": [
      "Downloading 10-Q for TTD (2012)...\n",
      "Downloading 10-Q for AVB (2017)...\n",
      "Downloading 10-Q for EQT (2000)...\n",
      "Downloading 10-Q for TTD (2013)...\n",
      "Downloading 10-Q for TTD (2014)...\n",
      "Downloading 10-Q for TTD (2015)...\n",
      "Downloading 10-Q for EQT (2001)...\n",
      "Downloading 10-Q for TW (2020)...\n",
      "Downloading 10-Q for TTD (2016)...\n",
      "Downloading 10-Q for NUE (2013)...\n",
      "Downloading 10-Q for XYL (2021)...\n",
      "Downloading 10-Q for VMC (2014)...\n",
      "Downloading 10-Q for DAL (2018)...\n",
      "Downloading 10-Q for ROK (2013)...\n",
      "Downloading 10-Q for AVB (2018)...\n",
      "Downloading 10-Q for TTD (2017)...\n",
      "Downloading 10-Q for EQT (2002)...\n",
      "Downloading 10-Q for EFX (2015)...\n",
      "Downloading 10-Q for WAB (2018)...\n",
      "Downloading 10-Q for CAH (2016)...\n",
      "Downloading 10-Q for NUE (2014)...\n",
      "Downloading 10-Q for EQT (2003)...\n",
      "Downloading 10-Q for HUM (2018)...\n",
      "Downloading 10-Q for CQP (2020)...\n",
      "Downloading 10-Q for TW (2021)...\n",
      "Downloading 10-Q for AVB (2019)...\n",
      "Downloading 10-Q for ROK (2014)...\n",
      "Downloading 10-Q for TTD (2018)...\n",
      "Downloading 10-Q for EFX (2016)...\n"
     ]
    },
    {
     "name": "stderr",
     "output_type": "stream",
     "text": [
      "Downloading SEC Filings:  84%|████████▍ | 420/499 [3:54:52<49:51, 37.87s/it]"
     ]
    },
    {
     "name": "stdout",
     "output_type": "stream",
     "text": [
      "Downloading 10-Q for LEN (2021)...\n",
      "Downloading 10-Q for VTR (2000)...\n",
      "Downloading 10-Q for DAL (2019)...\n",
      "Downloading 10-Q for VMC (2015)...\n"
     ]
    },
    {
     "name": "stderr",
     "output_type": "stream",
     "text": [
      "Downloading SEC Filings:  84%|████████▍ | 421/499 [3:54:57<36:27, 28.05s/it]"
     ]
    },
    {
     "name": "stdout",
     "output_type": "stream",
     "text": [
      "Downloading 10-Q for EBAY (2021)...\n",
      "Downloading 10-Q for OWL (2000)...\n",
      "Downloading 10-Q for NUE (2015)...\n",
      "Downloading 10-Q for OWL (2001)...\n",
      "Downloading 10-Q for OWL (2002)...\n",
      "Downloading 10-Q for EQT (2004)...\n",
      "Downloading 10-Q for OWL (2003)...\n",
      "Downloading 10-Q for OWL (2004)...\n",
      "Downloading 10-Q for OWL (2005)...\n",
      "Downloading 10-Q for VTR (2001)...\n",
      "Downloading 10-Q for OWL (2006)...\n",
      "Downloading 10-Q for OWL (2007)...\n",
      "Downloading 10-Q for HIG (2020)...\n",
      "Downloading 10-Q for TTD (2019)...\n",
      "Downloading 10-Q for OWL (2008)...\n",
      "Downloading 10-Q for EFX (2017)...\n",
      "Downloading 10-Q for OWL (2009)...\n",
      "Downloading 10-Q for HUM (2019)...\n",
      "Downloading 10-Q for AVB (2020)...\n",
      "Downloading 10-Q for EQT (2005)...\n",
      "Downloading 10-Q for OWL (2010)...\n",
      "Downloading 10-Q for OWL (2011)...\n",
      "Downloading 10-Q for OWL (2012)...\n",
      "Downloading 10-Q for ROK (2015)...\n",
      "Downloading 10-Q for NUE (2016)...\n",
      "Downloading 10-Q for CAH (2017)...\n",
      "Downloading 10-Q for OWL (2013)...\n"
     ]
    },
    {
     "name": "stderr",
     "output_type": "stream",
     "text": [
      "Downloading SEC Filings:  85%|████████▍ | 422/499 [3:55:33<38:47, 30.23s/it]"
     ]
    },
    {
     "name": "stdout",
     "output_type": "stream",
     "text": [
      "Downloading 10-Q for VTR (2002)...\n",
      "Downloading 10-Q for OWL (2014)...\n",
      "Downloading 10-Q for DAL (2020)...\n",
      "Downloading 10-Q for VMC (2016)...\n",
      "Downloading 10-Q for OWL (2015)...\n",
      "Downloading 10-Q for CQP (2021)...\n",
      "Downloading 10-Q for OWL (2016)...\n"
     ]
    },
    {
     "name": "stderr",
     "output_type": "stream",
     "text": [
      "Downloading SEC Filings:  85%|████████▍ | 423/499 [3:55:40<29:35, 23.36s/it]"
     ]
    },
    {
     "name": "stdout",
     "output_type": "stream",
     "text": [
      "Downloading 10-Q for TSCO (2000)...\n",
      "Downloading 10-Q for OWL (2017)...\n",
      "Downloading 10-Q for EQT (2006)...\n",
      "Downloading 10-Q for CNC (2000)...\n",
      "Downloading 10-Q for OWL (2018)...\n",
      "Downloading 10-Q for OWL (2019)...\n",
      "Downloading 10-Q for TTD (2020)...\n",
      "Downloading 10-Q for OWL (2020)...\n",
      "Downloading 10-Q for EFX (2018)...\n",
      "Downloading 10-Q for CNC (2001)...\n",
      "Downloading 10-Q for VTR (2003)...\n",
      "Downloading 10-Q for TSCO (2001)...\n",
      "Downloading 10-Q for OWL (2021)...\n",
      "Downloading 10-Q for NUE (2017)...\n"
     ]
    },
    {
     "name": "stderr",
     "output_type": "stream",
     "text": [
      "Downloading SEC Filings:  85%|████████▍ | 424/499 [3:56:01<28:13, 22.58s/it]"
     ]
    },
    {
     "name": "stdout",
     "output_type": "stream",
     "text": [
      "Downloading 10-Q for AVB (2021)...\n",
      "Downloading 10-Q for EQT (2007)...\n",
      "Downloading 10-Q for ROK (2016)...\n",
      "Downloading 10-Q for CNC (2002)...\n",
      "Downloading 10-Q for RJF (2000)...\n"
     ]
    },
    {
     "name": "stderr",
     "output_type": "stream",
     "text": [
      "Downloading SEC Filings:  85%|████████▌ | 425/499 [3:56:08<22:23, 18.15s/it]"
     ]
    },
    {
     "name": "stdout",
     "output_type": "stream",
     "text": [
      "Downloading 10-Q for VMC (2017)...\n",
      "Downloading 10-Q for TSCO (2002)...\n",
      "Downloading 10-Q for NOK (2000)...\n",
      "Downloading 10-Q for TTD (2021)...\n",
      "Downloading 10-Q for NOK (2001)...\n",
      "Downloading 10-Q for VTR (2004)...\n",
      "Downloading 10-Q for HUM (2020)...\n",
      "Downloading 10-Q for RJF (2001)...\n",
      "Downloading 10-Q for NOK (2002)...\n",
      "Downloading 10-Q for EQT (2008)...\n",
      "Downloading 10-Q for CAH (2018)...\n"
     ]
    },
    {
     "name": "stderr",
     "output_type": "stream",
     "text": [
      "Downloading SEC Filings:  85%|████████▌ | 426/499 [3:56:35<25:08, 20.67s/it]"
     ]
    },
    {
     "name": "stdout",
     "output_type": "stream",
     "text": [
      "Downloading 10-Q for NUE (2018)...\n",
      "Downloading 10-Q for HIG (2021)...\n",
      "Downloading 10-Q for CNC (2003)...\n",
      "Downloading 10-Q for NOK (2003)...\n",
      "Downloading 10-Q for NOK (2004)...\n",
      "Downloading 10-Q for TSCO (2003)...\n",
      "Downloading 10-Q for MCHP (2000)...\n",
      "Downloading 10-Q for EFX (2019)...\n",
      "Downloading 10-Q for NOK (2005)...\n",
      "Downloading 10-Q for ROK (2017)...\n"
     ]
    },
    {
     "name": "stderr",
     "output_type": "stream",
     "text": [
      "Downloading SEC Filings:  86%|████████▌ | 427/499 [3:56:43<20:10, 16.81s/it]"
     ]
    },
    {
     "name": "stdout",
     "output_type": "stream",
     "text": [
      "Downloading 10-Q for VTR (2005)...\n",
      "Downloading 10-Q for RJF (2002)...\n",
      "Downloading 10-Q for NOK (2006)...\n",
      "Downloading 10-Q for K (2000)...\n",
      "Downloading 10-Q for CNC (2004)...\n",
      "Downloading 10-Q for NOK (2007)...\n",
      "Downloading 10-Q for TSCO (2004)...\n"
     ]
    },
    {
     "name": "stderr",
     "output_type": "stream",
     "text": [
      "Downloading SEC Filings:  86%|████████▌ | 428/499 [3:56:49<16:04, 13.58s/it]"
     ]
    },
    {
     "name": "stdout",
     "output_type": "stream",
     "text": [
      "Downloading 10-Q for EQT (2009)...\n",
      "Downloading 10-Q for NOK (2008)...\n",
      "Downloading 10-Q for MCHP (2001)...\n",
      "Downloading 10-Q for MLM (2000)...\n",
      "Downloading 10-Q for VMC (2018)...\n",
      "Downloading 10-Q for NOK (2009)...\n",
      "Downloading 10-Q for NUE (2019)...\n",
      "Downloading 10-Q for HUM (2021)...\n",
      "Downloading 10-Q for TSCO (2005)...\n",
      "Downloading 10-Q for RJF (2003)...\n",
      "Downloading 10-Q for K (2001)...\n",
      "Downloading 10-Q for NOK (2010)...\n",
      "Downloading 10-Q for VTR (2006)...\n",
      "Downloading 10-Q for DAL (2021)...\n",
      "Downloading 10-Q for CNC (2005)...\n",
      "Downloading 10-Q for MLM (2001)...\n",
      "Downloading 10-Q for ROK (2018)...\n",
      "Downloading 10-Q for NOK (2011)...\n",
      "Downloading 10-Q for MCHP (2002)...\n",
      "Downloading 10-Q for EQT (2010)...\n",
      "Downloading 10-Q for NOK (2012)...\n",
      "Downloading 10-Q for TSCO (2006)...\n",
      "Downloading 10-Q for NOK (2013)...\n",
      "Downloading 10-Q for MLM (2002)...\n",
      "Downloading 10-Q for K (2002)...\n",
      "Downloading 10-Q for RJF (2004)...\n",
      "Downloading 10-Q for VTR (2007)...\n",
      "Downloading 10-Q for NUE (2020)...\n",
      "Downloading 10-Q for NOK (2014)...\n",
      "Downloading 10-Q for CNC (2006)...\n",
      "Downloading 10-Q for TSCO (2007)...\n",
      "Downloading 10-Q for MCHP (2003)...\n",
      "Downloading 10-Q for NOK (2015)...\n",
      "Downloading 10-Q for EFX (2020)...\n",
      "Downloading 10-Q for NOK (2016)...\n",
      "Downloading 10-Q for VMC (2019)...\n",
      "Downloading 10-Q for MLM (2003)...\n",
      "Downloading 10-Q for ROK (2019)...\n",
      "Downloading 10-Q for K (2003)...\n",
      "Downloading 10-Q for NOK (2017)...\n",
      "Downloading 10-Q for EQT (2011)...\n",
      "Downloading 10-Q for RJF (2005)...\n",
      "Downloading 10-Q for VTR (2008)...\n",
      "Downloading 10-Q for CNC (2007)...\n",
      "Downloading 10-Q for TSCO (2008)...\n",
      "Downloading 10-Q for NOK (2018)...\n",
      "Downloading 10-Q for MCHP (2004)...\n"
     ]
    },
    {
     "name": "stderr",
     "output_type": "stream",
     "text": [
      "Downloading SEC Filings:  86%|████████▌ | 429/499 [3:57:40<28:59, 24.85s/it]"
     ]
    },
    {
     "name": "stdout",
     "output_type": "stream",
     "text": [
      "Downloading 10-Q for MLM (2004)...\n",
      "Downloading 10-Q for CNC (2008)...\n",
      "Downloading 10-Q for MLM (2005)...\n",
      "Downloading 10-Q for MCHP (2005)...\n",
      "Downloading 10-Q for MLM (2006)...\n",
      "Downloading 10-Q for MCHP (2006)...\n",
      "Downloading 10-Q for CNC (2009)...\n",
      "Downloading 10-Q for MLM (2007)...\n",
      "Downloading 10-Q for CNC (2010)...\n",
      "Downloading 10-Q for MCHP (2007)...\n",
      "Downloading 10-Q for MLM (2008)...\n",
      "Downloading 10-Q for MCHP (2008)...\n",
      "Downloading 10-Q for CNC (2011)...\n",
      "Downloading 10-Q for MLM (2009)...\n",
      "Downloading 10-Q for MCHP (2009)...\n",
      "Downloading 10-Q for MLM (2010)...\n",
      "Downloading 10-Q for CNC (2012)...\n",
      "Downloading 10-Q for MCHP (2010)...\n",
      "Downloading 10-Q for MLM (2011)...\n",
      "Downloading 10-Q for MCHP (2011)...\n",
      "Downloading 10-Q for MLM (2012)...\n",
      "Downloading 10-Q for CNC (2013)...\n"
     ]
    },
    {
     "name": "stderr",
     "output_type": "stream",
     "text": [
      "Downloading SEC Filings:  86%|████████▌ | 430/499 [3:58:19<33:25, 29.07s/it]"
     ]
    },
    {
     "name": "stdout",
     "output_type": "stream",
     "text": [
      "Error downloading LYV: ('Connection aborted.', RemoteDisconnected('Remote end closed connection without response'))\n",
      "Downloading 10-Q for ANSS (2000)...\n",
      "Downloading 10-Q for MLM (2013)...\n",
      "Downloading 10-Q for MCHP (2012)...\n",
      "Downloading 10-Q for ANSS (2001)...\n",
      "Downloading 10-Q for ANSS (2002)...\n",
      "Downloading 10-Q for CNC (2014)...\n",
      "Downloading 10-Q for MLM (2014)...\n",
      "Downloading 10-Q for ANSS (2003)...\n",
      "Downloading 10-Q for MCHP (2013)...\n",
      "Downloading 10-Q for ANSS (2004)...\n",
      "Downloading 10-Q for ANSS (2005)...\n",
      "Downloading 10-Q for MLM (2015)...\n",
      "Downloading 10-Q for ANSS (2006)...\n",
      "Downloading 10-Q for CNC (2015)...\n",
      "Error downloading 10-Q for NOK in 2018: ('Connection aborted.', RemoteDisconnected('Remote end closed connection without response'))\n",
      "Downloading 10-Q for NOK (2019)...\n",
      "Downloading 10-Q for ANSS (2007)...\n",
      "Downloading 10-Q for MCHP (2014)...\n",
      "Downloading 10-Q for NOK (2020)...\n",
      "Error downloading 10-Q for VTR in 2008: HTTPSConnectionPool(host='data.sec.gov', port=443): Read timed out. (read timeout=None)\n",
      "Downloading 10-Q for VTR (2009)...\n",
      "Downloading 10-Q for ANSS (2008)...\n",
      "Downloading 10-Q for NOK (2021)...\n",
      "Downloading 10-Q for CNC (2016)...\n"
     ]
    },
    {
     "name": "stderr",
     "output_type": "stream",
     "text": [
      "Downloading SEC Filings:  86%|████████▋ | 431/499 [3:58:45<31:56, 28.18s/it]"
     ]
    },
    {
     "name": "stdout",
     "output_type": "stream",
     "text": [
      "Downloading 10-Q for MLM (2016)...\n",
      "Error occurred while downloading filing for accession number {}: {} 0001362310-08-006561 HTTPSConnectionPool(host='www.sec.gov', port=443): Read timed out. (read timeout=None)\n",
      "Downloading 10-Q for MTB (2000)...\n",
      "Downloading 10-Q for ANSS (2009)...\n",
      "Downloading 10-Q for TSCO (2009)...\n",
      "Downloading 10-Q for VTR (2010)...\n",
      "Downloading 10-Q for ANSS (2010)...\n",
      "Downloading 10-Q for MCHP (2015)...\n",
      "Downloading 10-Q for TSCO (2010)...\n",
      "Downloading 10-Q for MTB (2001)...\n",
      "Downloading 10-Q for CNC (2017)...\n",
      "Downloading 10-Q for ANSS (2011)...\n",
      "Downloading 10-Q for TSCO (2011)...\n",
      "Downloading 10-Q for VTR (2011)...\n",
      "Downloading 10-Q for MTB (2002)...\n",
      "Downloading 10-Q for CNC (2018)...\n",
      "Downloading 10-Q for ANSS (2012)...\n",
      "Downloading 10-Q for MCHP (2016)...\n",
      "Downloading 10-Q for TSCO (2012)...\n",
      "Downloading 10-Q for MTB (2003)...\n",
      "Downloading 10-Q for ANSS (2013)...\n",
      "Downloading 10-Q for VTR (2012)...\n",
      "Downloading 10-Q for CNC (2019)...\n",
      "Downloading 10-Q for MCHP (2017)...\n",
      "Downloading 10-Q for TSCO (2013)...\n",
      "Downloading 10-Q for MTB (2004)...\n",
      "Downloading 10-Q for ANSS (2014)...\n",
      "Downloading 10-Q for TSCO (2014)...\n",
      "Downloading 10-Q for MCHP (2018)...\n",
      "Downloading 10-Q for MTB (2005)...\n",
      "Downloading 10-Q for CNC (2020)...\n",
      "Downloading 10-Q for ANSS (2015)...\n",
      "Downloading 10-Q for VTR (2013)...\n",
      "Downloading 10-Q for MTB (2006)...\n",
      "Downloading 10-Q for TSCO (2015)...\n",
      "Downloading 10-Q for ANSS (2016)...\n",
      "Downloading 10-Q for MCHP (2019)...\n",
      "Downloading 10-Q for CNC (2021)...\n",
      "Downloading 10-Q for MTB (2007)...\n",
      "Downloading 10-Q for MLM (2017)...\n",
      "Downloading 10-Q for VTR (2014)...\n",
      "Downloading 10-Q for ANSS (2017)...\n",
      "Downloading 10-Q for TSCO (2016)...\n",
      "Downloading 10-Q for MTB (2008)...\n",
      "Downloading 10-Q for MCHP (2020)...\n",
      "Downloading 10-Q for MLM (2018)...\n"
     ]
    },
    {
     "name": "stderr",
     "output_type": "stream",
     "text": [
      "Downloading SEC Filings:  87%|████████▋ | 432/499 [3:59:53<44:57, 40.26s/it]"
     ]
    },
    {
     "name": "stdout",
     "output_type": "stream",
     "text": [
      "Downloading 10-Q for ANSS (2018)...\n",
      "Downloading 10-Q for MTB (2009)...\n",
      "Downloading 10-Q for AWK (2000)...\n",
      "Downloading 10-Q for TSCO (2017)...\n",
      "Downloading 10-Q for AWK (2001)...\n",
      "Downloading 10-Q for AWK (2002)...\n",
      "Downloading 10-Q for AWK (2003)...\n",
      "Downloading 10-Q for ANSS (2019)...\n",
      "Downloading 10-Q for MTB (2010)...\n",
      "Downloading 10-Q for AWK (2004)...\n",
      "Downloading 10-Q for VTR (2015)...\n",
      "Downloading 10-Q for MLM (2019)...\n",
      "Downloading 10-Q for AWK (2005)...\n",
      "Downloading 10-Q for AWK (2006)...\n",
      "Downloading 10-Q for TSCO (2018)...\n",
      "Downloading 10-Q for MCHP (2021)...\n",
      "Downloading 10-Q for AWK (2007)...\n",
      "Downloading 10-Q for AWK (2008)...\n",
      "Downloading 10-Q for MTB (2011)...\n",
      "Downloading 10-Q for ANSS (2020)...\n",
      "Downloading 10-Q for MLM (2020)...\n",
      "Downloading 10-Q for AWK (2009)...\n",
      "Downloading 10-Q for TSCO (2019)...\n"
     ]
    },
    {
     "name": "stderr",
     "output_type": "stream",
     "text": [
      "Downloading SEC Filings:  87%|████████▋ | 433/499 [4:00:23<40:49, 37.11s/it]"
     ]
    },
    {
     "name": "stdout",
     "output_type": "stream",
     "text": [
      "Downloading 10-Q for FNV (2000)...\n",
      "Downloading 10-Q for VTR (2016)...\n",
      "Downloading 10-Q for AWK (2010)...\n",
      "Downloading 10-Q for FNV (2001)...\n",
      "Downloading 10-Q for FNV (2002)...\n",
      "Downloading 10-Q for FNV (2003)...\n",
      "Downloading 10-Q for ANSS (2021)...\n",
      "Downloading 10-Q for FNV (2004)...\n",
      "Downloading 10-Q for FNV (2005)...\n",
      "Downloading 10-Q for FNV (2006)...\n",
      "Downloading 10-Q for FNV (2007)...\n",
      "Downloading 10-Q for AWK (2011)...\n",
      "Downloading 10-Q for FNV (2008)...\n",
      "Downloading 10-Q for TSCO (2020)...\n",
      "Downloading 10-Q for MLM (2021)...\n",
      "Downloading 10-Q for FNV (2009)...\n",
      "Downloading 10-Q for FNV (2010)...\n",
      "Downloading 10-Q for FNV (2011)...\n",
      "Downloading 10-Q for FNV (2012)...\n",
      "Downloading 10-Q for FNV (2013)...\n",
      "Downloading 10-Q for FNV (2014)...\n",
      "Downloading 10-Q for FNV (2015)...\n",
      "Downloading 10-Q for FNV (2016)...\n",
      "Downloading 10-Q for FNV (2017)...\n",
      "Downloading 10-Q for FNV (2018)...\n",
      "Downloading 10-Q for FNV (2019)...\n",
      "Downloading 10-Q for FNV (2020)...\n",
      "Downloading 10-Q for AWK (2012)...\n",
      "Downloading 10-Q for VTR (2017)...\n",
      "Downloading 10-Q for FNV (2021)...\n",
      "Downloading 10-Q for TSCO (2021)...\n"
     ]
    },
    {
     "name": "stderr",
     "output_type": "stream",
     "text": [
      "Downloading SEC Filings:  87%|████████▋ | 435/499 [4:00:44<24:10, 22.67s/it]"
     ]
    },
    {
     "name": "stdout",
     "output_type": "stream",
     "text": [
      "Downloading 10-Q for ERIC (2000)...\n",
      "Downloading 10-Q for MPWR (2000)...\n",
      "Downloading 10-Q for ERIC (2001)...\n",
      "Downloading 10-Q for ERIC (2002)...\n",
      "Downloading 10-Q for ERIC (2003)...\n",
      "Downloading 10-Q for MPWR (2001)...\n",
      "Downloading 10-Q for ERIC (2004)...\n",
      "Downloading 10-Q for ERIC (2005)...\n",
      "Downloading 10-Q for MPWR (2002)...\n",
      "Downloading 10-Q for ERIC (2006)...\n",
      "Downloading 10-Q for ERIC (2007)...\n",
      "Downloading 10-Q for MPWR (2003)...\n",
      "Downloading 10-Q for ERIC (2008)...\n",
      "Downloading 10-Q for AWK (2013)...\n",
      "Downloading 10-Q for ERIC (2009)...\n",
      "Downloading 10-Q for MPWR (2004)...\n",
      "Downloading 10-Q for ERIC (2010)...\n",
      "Downloading 10-Q for MPWR (2005)...\n",
      "Downloading 10-Q for ERIC (2011)...\n",
      "Downloading 10-Q for ERIC (2012)...\n"
     ]
    },
    {
     "name": "stderr",
     "output_type": "stream",
     "text": [
      "Downloading SEC Filings:  87%|████████▋ | 436/499 [4:00:58<21:05, 20.09s/it]"
     ]
    },
    {
     "name": "stdout",
     "output_type": "stream",
     "text": [
      "Downloading 10-Q for ERIC (2013)...\n",
      "Downloading 10-Q for ERIC (2014)...\n",
      "Downloading 10-Q for WDS (2000)...\n",
      "Downloading 10-Q for ERIC (2015)...\n",
      "Downloading 10-Q for WDS (2001)...\n",
      "Downloading 10-Q for MPWR (2006)...\n",
      "Downloading 10-Q for WDS (2002)...\n",
      "Downloading 10-Q for ERIC (2016)...\n",
      "Downloading 10-Q for VTR (2018)...\n",
      "Downloading 10-Q for WDS (2003)...\n",
      "Downloading 10-Q for ERIC (2017)...\n",
      "Downloading 10-Q for WDS (2004)...\n",
      "Downloading 10-Q for ERIC (2018)...\n",
      "Downloading 10-Q for WDS (2005)...\n",
      "Downloading 10-Q for ERIC (2019)...\n",
      "Downloading 10-Q for WDS (2006)...\n",
      "Downloading 10-Q for ERIC (2020)...\n",
      "Downloading 10-Q for WDS (2007)...\n",
      "Downloading 10-Q for ERIC (2021)...\n",
      "Downloading 10-Q for WDS (2008)...\n"
     ]
    },
    {
     "name": "stderr",
     "output_type": "stream",
     "text": [
      "Downloading SEC Filings:  88%|████████▊ | 437/499 [4:01:09<17:44, 17.17s/it]"
     ]
    },
    {
     "name": "stdout",
     "output_type": "stream",
     "text": [
      "Downloading 10-Q for WDS (2009)...\n",
      "Downloading 10-Q for WDS (2010)...\n",
      "Downloading 10-Q for MPWR (2007)...\n",
      "Downloading 10-Q for CHD (2000)...\n",
      "Downloading 10-Q for WDS (2011)...\n",
      "Downloading 10-Q for WDS (2012)...\n",
      "Downloading 10-Q for WDS (2013)...\n",
      "Downloading 10-Q for WDS (2014)...\n",
      "Downloading 10-Q for WDS (2015)...\n",
      "Downloading 10-Q for WDS (2016)...\n",
      "Downloading 10-Q for WDS (2017)...\n",
      "Downloading 10-Q for AWK (2014)...\n",
      "Downloading 10-Q for MPWR (2008)...\n",
      "Downloading 10-Q for WDS (2018)...\n",
      "Downloading 10-Q for CHD (2001)...\n",
      "Downloading 10-Q for WDS (2019)...\n",
      "Downloading 10-Q for WDS (2020)...\n",
      "Downloading 10-Q for WDS (2021)...\n",
      "Downloading 10-Q for MTB (2012)...\n"
     ]
    },
    {
     "name": "stderr",
     "output_type": "stream",
     "text": [
      "Downloading SEC Filings:  88%|████████▊ | 438/499 [4:01:29<18:29, 18.18s/it]"
     ]
    },
    {
     "name": "stdout",
     "output_type": "stream",
     "text": [
      "Downloading 10-Q for VTR (2019)...\n",
      "Downloading 10-Q for MPWR (2009)...\n",
      "Downloading 10-Q for DXCM (2000)...\n",
      "Downloading 10-Q for CHD (2002)...\n",
      "Downloading 10-Q for DXCM (2001)...\n",
      "Downloading 10-Q for DXCM (2002)...\n",
      "Downloading 10-Q for AWK (2015)...\n",
      "Downloading 10-Q for DXCM (2003)...\n",
      "Downloading 10-Q for MPWR (2010)...\n",
      "Downloading 10-Q for CHD (2003)...\n",
      "Downloading 10-Q for DXCM (2004)...\n",
      "Downloading 10-Q for DXCM (2005)...\n",
      "Downloading 10-Q for MPWR (2011)...\n"
     ]
    },
    {
     "name": "stderr",
     "output_type": "stream",
     "text": [
      "Downloading SEC Filings:  88%|████████▊ | 439/499 [4:01:41<16:20, 16.34s/it]"
     ]
    },
    {
     "name": "stdout",
     "output_type": "stream",
     "text": [
      "Downloading 10-Q for CHD (2004)...\n",
      "Downloading 10-Q for FANUY (2000)...\n",
      "Downloading 10-Q for DXCM (2006)...\n",
      "Downloading 10-Q for FANUY (2001)...\n",
      "Downloading 10-Q for FANUY (2002)...\n",
      "Downloading 10-Q for FANUY (2003)...\n",
      "Downloading 10-Q for AWK (2016)...\n",
      "Downloading 10-Q for VTR (2020)...\n",
      "Downloading 10-Q for FANUY (2004)...\n",
      "Downloading 10-Q for FANUY (2005)...\n",
      "Downloading 10-Q for FANUY (2006)...\n",
      "Downloading 10-Q for MPWR (2012)...\n",
      "Downloading 10-Q for FANUY (2007)...\n",
      "Downloading 10-Q for MTB (2013)...\n",
      "Downloading 10-Q for DXCM (2007)...\n",
      "Downloading 10-Q for CHD (2005)...\n",
      "Downloading 10-Q for FANUY (2008)...\n",
      "Downloading 10-Q for FANUY (2009)...\n",
      "Downloading 10-Q for FANUY (2010)...\n",
      "Downloading 10-Q for FANUY (2011)...\n",
      "Downloading 10-Q for AWK (2017)...\n",
      "Downloading 10-Q for FANUY (2012)...\n",
      "Downloading 10-Q for FANUY (2013)...\n",
      "Downloading 10-Q for DXCM (2008)...\n",
      "Downloading 10-Q for FANUY (2014)...\n",
      "Downloading 10-Q for CHD (2006)...\n",
      "Downloading 10-Q for FANUY (2015)...\n",
      "Downloading 10-Q for FANUY (2016)...\n",
      "Downloading 10-Q for FANUY (2017)...\n",
      "Downloading 10-Q for FANUY (2018)...\n",
      "Downloading 10-Q for MPWR (2013)...\n",
      "Downloading 10-Q for FANUY (2019)...\n",
      "Downloading 10-Q for FANUY (2020)...\n",
      "Downloading 10-Q for DXCM (2009)...\n",
      "Downloading 10-Q for AWK (2018)...\n",
      "Downloading 10-Q for FANUY (2021)...\n"
     ]
    },
    {
     "name": "stderr",
     "output_type": "stream",
     "text": [
      "Downloading SEC Filings:  88%|████████▊ | 440/499 [4:02:04<17:54, 18.21s/it]"
     ]
    },
    {
     "name": "stdout",
     "output_type": "stream",
     "text": [
      "Downloading 10-Q for VTR (2021)...\n",
      "Downloading 10-Q for CHD (2007)...\n",
      "Downloading 10-Q for EQR (2000)...\n",
      "Downloading 10-Q for DXCM (2010)...\n",
      "Downloading 10-Q for EQR (2001)...\n",
      "Downloading 10-Q for MPWR (2014)...\n",
      "Downloading 10-Q for CHD (2008)...\n",
      "Downloading 10-Q for EQR (2002)...\n",
      "Downloading 10-Q for DXCM (2011)...\n",
      "Downloading 10-Q for MTB (2014)...\n",
      "Downloading 10-Q for AWK (2019)...\n",
      "Downloading 10-Q for CHD (2009)...\n"
     ]
    },
    {
     "name": "stderr",
     "output_type": "stream",
     "text": [
      "Downloading SEC Filings:  88%|████████▊ | 441/499 [4:02:21<17:16, 17.87s/it]"
     ]
    },
    {
     "name": "stdout",
     "output_type": "stream",
     "text": [
      "Downloading 10-Q for EQR (2003)...\n",
      "Downloading 10-Q for DTE (2000)...\n",
      "Downloading 10-Q for DXCM (2012)...\n",
      "Downloading 10-Q for MPWR (2015)...\n",
      "Downloading 10-Q for CHD (2010)...\n",
      "Downloading 10-Q for EQR (2004)...\n",
      "Downloading 10-Q for DTE (2001)...\n",
      "Downloading 10-Q for AWK (2020)...\n",
      "Downloading 10-Q for EQR (2005)...\n",
      "Downloading 10-Q for DXCM (2013)...\n",
      "Downloading 10-Q for DTE (2002)...\n",
      "Downloading 10-Q for CHD (2011)...\n",
      "Downloading 10-Q for MPWR (2016)...\n",
      "Downloading 10-Q for EQR (2006)...\n",
      "Downloading 10-Q for DTE (2003)...\n",
      "Downloading 10-Q for MTB (2015)...\n",
      "Downloading 10-Q for AWK (2021)...\n",
      "Downloading 10-Q for DXCM (2014)...\n",
      "Downloading 10-Q for EQR (2007)...\n",
      "Downloading 10-Q for CHD (2012)...\n",
      "Downloading 10-Q for DTE (2004)...\n",
      "Downloading 10-Q for EQR (2008)...\n",
      "Downloading 10-Q for MPWR (2017)...\n",
      "Downloading 10-Q for DTE (2005)...\n",
      "Downloading 10-Q for DXCM (2015)...\n",
      "Downloading 10-Q for EQR (2009)...\n"
     ]
    },
    {
     "name": "stderr",
     "output_type": "stream",
     "text": [
      "Downloading SEC Filings:  89%|████████▊ | 442/499 [4:03:03<23:57, 25.22s/it]"
     ]
    },
    {
     "name": "stdout",
     "output_type": "stream",
     "text": [
      "Downloading 10-Q for DTE (2006)...\n",
      "Downloading 10-Q for CHD (2013)...\n",
      "Downloading 10-Q for ONC (2000)...\n",
      "Downloading 10-Q for ONC (2001)...\n",
      "Downloading 10-Q for MTB (2016)...\n",
      "Downloading 10-Q for DXCM (2016)...\n",
      "Downloading 10-Q for MPWR (2018)...\n",
      "Downloading 10-Q for EQR (2010)...\n",
      "Downloading 10-Q for ONC (2002)...\n",
      "Downloading 10-Q for ONC (2003)...\n",
      "Downloading 10-Q for DTE (2007)...\n",
      "Downloading 10-Q for ONC (2004)...\n",
      "Downloading 10-Q for ONC (2005)...\n",
      "Downloading 10-Q for CHD (2014)...\n",
      "Downloading 10-Q for ONC (2006)...\n",
      "Downloading 10-Q for ONC (2007)...\n",
      "Downloading 10-Q for MPWR (2019)...\n",
      "Downloading 10-Q for DTE (2008)...\n",
      "Downloading 10-Q for ONC (2008)...\n",
      "Downloading 10-Q for DXCM (2017)...\n",
      "Downloading 10-Q for EQR (2011)...\n",
      "Downloading 10-Q for ONC (2009)...\n",
      "Downloading 10-Q for ONC (2010)...\n",
      "Downloading 10-Q for CHD (2015)...\n",
      "Downloading 10-Q for MTB (2017)...\n",
      "Downloading 10-Q for ONC (2011)...\n",
      "Downloading 10-Q for DTE (2009)...\n",
      "Downloading 10-Q for ONC (2012)...\n",
      "Downloading 10-Q for ONC (2013)...\n",
      "Downloading 10-Q for MPWR (2020)...\n",
      "Downloading 10-Q for DXCM (2018)...\n",
      "Downloading 10-Q for ONC (2014)...\n",
      "Downloading 10-Q for ONC (2015)...\n",
      "Downloading 10-Q for EQR (2012)...\n",
      "Downloading 10-Q for DTE (2010)...\n",
      "Downloading 10-Q for ONC (2016)...\n",
      "Downloading 10-Q for CHD (2016)...\n",
      "Downloading 10-Q for MPWR (2021)...\n",
      "Downloading 10-Q for MTB (2018)...\n",
      "Downloading 10-Q for DTE (2011)...\n",
      "Downloading 10-Q for DXCM (2019)...\n",
      "Downloading 10-Q for ONC (2017)...\n",
      "Downloading 10-Q for CHD (2017)...\n"
     ]
    },
    {
     "name": "stderr",
     "output_type": "stream",
     "text": [
      "Downloading SEC Filings:  89%|████████▉ | 443/499 [4:03:44<27:58, 29.97s/it]"
     ]
    },
    {
     "name": "stdout",
     "output_type": "stream",
     "text": [
      "Downloading 10-Q for EQR (2013)...\n",
      "Downloading 10-Q for NVZMY (2000)...\n",
      "Downloading 10-Q for NVZMY (2001)...\n",
      "Downloading 10-Q for NVZMY (2002)...\n",
      "Downloading 10-Q for NVZMY (2003)...\n",
      "Downloading 10-Q for ONC (2018)...\n",
      "Downloading 10-Q for NVZMY (2004)...\n",
      "Downloading 10-Q for NVZMY (2005)...\n",
      "Downloading 10-Q for MTB (2019)...\n",
      "Downloading 10-Q for CHD (2018)...\n",
      "Downloading 10-Q for DXCM (2020)...\n",
      "Downloading 10-Q for NVZMY (2006)...\n",
      "Downloading 10-Q for NVZMY (2007)...\n",
      "Downloading 10-Q for NVZMY (2008)...\n",
      "Downloading 10-Q for NVZMY (2009)...\n",
      "Downloading 10-Q for NVZMY (2010)...\n",
      "Downloading 10-Q for NVZMY (2011)...\n",
      "Downloading 10-Q for NVZMY (2012)...\n",
      "Downloading 10-Q for NVZMY (2013)...\n",
      "Downloading 10-Q for NVZMY (2014)...\n",
      "Downloading 10-Q for NVZMY (2015)...\n",
      "Downloading 10-Q for EQR (2014)...\n",
      "Downloading 10-Q for NVZMY (2016)...\n",
      "Downloading 10-Q for NVZMY (2017)...\n",
      "Downloading 10-Q for ONC (2019)...\n",
      "Downloading 10-Q for CHD (2019)...\n",
      "Downloading 10-Q for NVZMY (2018)...\n",
      "Downloading 10-Q for MTB (2020)...\n",
      "Downloading 10-Q for NVZMY (2019)...\n",
      "Downloading 10-Q for NVZMY (2020)...\n",
      "Downloading 10-Q for NVZMY (2021)...\n",
      "Downloading 10-Q for DXCM (2021)...\n"
     ]
    },
    {
     "name": "stderr",
     "output_type": "stream",
     "text": [
      "Downloading SEC Filings:  89%|████████▉ | 444/499 [4:03:58<22:57, 25.05s/it]"
     ]
    },
    {
     "name": "stdout",
     "output_type": "stream",
     "text": [
      "Downloading 10-Q for HPQ (2000)...\n",
      "Downloading 10-Q for CHD (2020)...\n",
      "Downloading 10-Q for EQR (2015)...\n",
      "Downloading 10-Q for HPQ (2001)...\n",
      "Downloading 10-Q for ONC (2020)...\n",
      "Downloading 10-Q for HPQ (2002)...\n",
      "Downloading 10-Q for MTB (2021)...\n",
      "Downloading 10-Q for CHD (2021)...\n",
      "Downloading 10-Q for HPQ (2003)...\n",
      "Downloading 10-Q for EQR (2016)...\n",
      "Downloading 10-Q for ONC (2021)...\n",
      "Downloading 10-Q for HPQ (2004)...\n"
     ]
    },
    {
     "name": "stderr",
     "output_type": "stream",
     "text": [
      "Downloading SEC Filings:  89%|████████▉ | 445/499 [4:04:20<21:43, 24.13s/it]"
     ]
    },
    {
     "name": "stdout",
     "output_type": "stream",
     "text": [
      "Downloading 10-Q for PPERY (2000)...\n",
      "Downloading 10-Q for PPERY (2001)...\n",
      "Downloading 10-Q for PPERY (2002)...\n"
     ]
    },
    {
     "name": "stderr",
     "output_type": "stream",
     "text": [
      "Downloading SEC Filings:  89%|████████▉ | 446/499 [4:04:23<15:38, 17.70s/it]"
     ]
    },
    {
     "name": "stdout",
     "output_type": "stream",
     "text": [
      "Downloading 10-Q for PPERY (2003)...\n",
      "Downloading 10-Q for PPERY (2004)...\n",
      "Downloading 10-Q for BR (2000)...\n",
      "Downloading 10-Q for DTE (2012)...\n",
      "Downloading 10-Q for PPERY (2005)...\n",
      "Downloading 10-Q for PPERY (2006)...\n"
     ]
    },
    {
     "name": "stderr",
     "output_type": "stream",
     "text": [
      "Downloading SEC Filings:  90%|████████▉ | 447/499 [4:04:25<11:19, 13.06s/it]"
     ]
    },
    {
     "name": "stdout",
     "output_type": "stream",
     "text": [
      "Downloading 10-Q for PPERY (2007)...\n",
      "Downloading 10-Q for HPQ (2005)...\n",
      "Downloading 10-Q for PPERY (2008)...\n",
      "Downloading 10-Q for BR (2001)...\n",
      "Downloading 10-Q for RKT (2000)...\n"
     ]
    },
    {
     "name": "stderr",
     "output_type": "stream",
     "text": [
      "Downloading SEC Filings:  90%|████████▉ | 448/499 [4:04:27<08:12,  9.65s/it]"
     ]
    },
    {
     "name": "stdout",
     "output_type": "stream",
     "text": [
      "Downloading 10-Q for EQR (2017)...\n",
      "Downloading 10-Q for RKT (2001)...\n",
      "Downloading 10-Q for BR (2002)...\n",
      "Downloading 10-Q for RKT (2002)...\n",
      "Downloading 10-Q for AEE (2000)...\n",
      "Downloading 10-Q for PPERY (2009)...\n",
      "Downloading 10-Q for RKT (2003)...\n",
      "Downloading 10-Q for PPERY (2010)...\n",
      "Downloading 10-Q for PPERY (2011)...\n",
      "Downloading 10-Q for RKT (2004)...\n",
      "Downloading 10-Q for PPERY (2012)...\n",
      "Downloading 10-Q for RKT (2005)...\n",
      "Downloading 10-Q for BR (2003)...\n",
      "Downloading 10-Q for HPQ (2006)...\n",
      "Downloading 10-Q for PPERY (2013)...\n",
      "Downloading 10-Q for RKT (2006)...\n",
      "Downloading 10-Q for PPERY (2014)...\n",
      "Downloading 10-Q for AEE (2001)...\n",
      "Downloading 10-Q for BR (2004)...\n",
      "Downloading 10-Q for RKT (2007)...\n",
      "Downloading 10-Q for RKT (2008)...\n",
      "Downloading 10-Q for RKT (2009)...\n",
      "Downloading 10-Q for BR (2005)...\n",
      "Downloading 10-Q for RKT (2010)...\n",
      "Downloading 10-Q for PPERY (2015)...\n",
      "Downloading 10-Q for RKT (2011)...\n",
      "Downloading 10-Q for PPERY (2016)...\n",
      "Downloading 10-Q for BR (2006)...\n",
      "Downloading 10-Q for DTE (2013)...\n",
      "Downloading 10-Q for AEE (2002)...\n",
      "Downloading 10-Q for BR (2007)...\n",
      "Downloading 10-Q for PPERY (2017)...\n",
      "Downloading 10-Q for RKT (2012)...\n",
      "Downloading 10-Q for PPERY (2018)...\n",
      "Downloading 10-Q for HPQ (2007)...\n",
      "Downloading 10-Q for EQR (2018)...\n",
      "Downloading 10-Q for AEE (2003)...\n",
      "Downloading 10-Q for RKT (2013)...\n",
      "Downloading 10-Q for BR (2008)...\n",
      "Downloading 10-Q for RKT (2014)...\n",
      "Downloading 10-Q for PPERY (2019)...\n",
      "Downloading 10-Q for RKT (2015)...\n",
      "Downloading 10-Q for BR (2009)...\n",
      "Downloading 10-Q for PPERY (2020)...\n",
      "Downloading 10-Q for RKT (2016)...\n",
      "Downloading 10-Q for PPERY (2021)...\n",
      "Downloading 10-Q for RKT (2017)...\n"
     ]
    },
    {
     "name": "stderr",
     "output_type": "stream",
     "text": [
      "Downloading SEC Filings:  90%|████████▉ | 449/499 [4:04:40<08:55, 10.71s/it]"
     ]
    },
    {
     "name": "stdout",
     "output_type": "stream",
     "text": [
      "Downloading 10-Q for AEE (2004)...\n",
      "Downloading 10-Q for MTD (2000)...\n",
      "Downloading 10-Q for BR (2010)...\n",
      "Downloading 10-Q for RKT (2018)...\n",
      "Downloading 10-Q for HPQ (2008)...\n",
      "Downloading 10-Q for RKT (2019)...\n",
      "Downloading 10-Q for DTE (2014)...\n",
      "Downloading 10-Q for RKT (2020)...\n",
      "Downloading 10-Q for MTD (2001)...\n",
      "Downloading 10-Q for AEE (2005)...\n",
      "Downloading 10-Q for EQR (2019)...\n",
      "Downloading 10-Q for BR (2011)...\n",
      "Downloading 10-Q for MTD (2002)...\n",
      "Downloading 10-Q for AEE (2006)...\n",
      "Downloading 10-Q for BR (2012)...\n",
      "Downloading 10-Q for RKT (2021)...\n",
      "Downloading 10-Q for HPQ (2009)...\n",
      "Downloading 10-Q for DTE (2015)...\n",
      "Downloading 10-Q for AEE (2007)...\n",
      "Downloading 10-Q for MTD (2003)...\n",
      "Downloading 10-Q for EQR (2020)...\n",
      "Downloading 10-Q for BR (2013)...\n",
      "Downloading 10-Q for HPQ (2010)...\n",
      "Downloading 10-Q for MTD (2004)...\n",
      "Downloading 10-Q for AEE (2008)...\n",
      "Downloading 10-Q for MTD (2005)...\n",
      "Downloading 10-Q for BR (2014)...\n",
      "Downloading 10-Q for EQR (2021)...\n"
     ]
    },
    {
     "name": "stderr",
     "output_type": "stream",
     "text": [
      "Downloading SEC Filings:  90%|█████████ | 450/499 [4:05:09<13:19, 16.31s/it]"
     ]
    },
    {
     "name": "stdout",
     "output_type": "stream",
     "text": [
      "Downloading 10-Q for AEE (2009)...\n",
      "Downloading 10-Q for IP (2000)...\n",
      "Downloading 10-Q for HPQ (2011)...\n",
      "Downloading 10-Q for DTE (2016)...\n",
      "Downloading 10-Q for MTD (2006)...\n",
      "Downloading 10-Q for BR (2015)...\n"
     ]
    },
    {
     "name": "stderr",
     "output_type": "stream",
     "text": [
      "Downloading SEC Filings:  90%|█████████ | 451/499 [4:05:19<11:36, 14.50s/it]"
     ]
    },
    {
     "name": "stdout",
     "output_type": "stream",
     "text": [
      "Downloading 10-Q for IP (2001)...\n",
      "Downloading 10-Q for AEE (2010)...\n",
      "Downloading 10-Q for MTD (2007)...\n",
      "Downloading 10-Q for HPQ (2012)...\n",
      "Downloading 10-Q for KEYS (2000)...\n",
      "Downloading 10-Q for KEYS (2001)...\n",
      "Downloading 10-Q for DTE (2017)...\n",
      "Downloading 10-Q for KEYS (2002)...\n",
      "Downloading 10-Q for BR (2016)...\n",
      "Downloading 10-Q for KEYS (2003)...\n",
      "Downloading 10-Q for IP (2002)...\n",
      "Downloading 10-Q for MTD (2008)...\n",
      "Downloading 10-Q for KEYS (2004)...\n",
      "Downloading 10-Q for KEYS (2005)...\n",
      "Downloading 10-Q for KEYS (2006)...\n",
      "Downloading 10-Q for KEYS (2007)...\n",
      "Downloading 10-Q for KEYS (2008)...\n",
      "Downloading 10-Q for KEYS (2009)...\n",
      "Downloading 10-Q for MTD (2009)...\n",
      "Downloading 10-Q for KEYS (2010)...\n",
      "Downloading 10-Q for BR (2017)...\n",
      "Downloading 10-Q for KEYS (2011)...\n",
      "Downloading 10-Q for IP (2003)...\n",
      "Downloading 10-Q for KEYS (2012)...\n",
      "Downloading 10-Q for KEYS (2013)...\n",
      "Downloading 10-Q for KEYS (2014)...\n",
      "Downloading 10-Q for KEYS (2015)...\n",
      "Downloading 10-Q for MTD (2010)...\n",
      "Downloading 10-Q for BR (2018)...\n",
      "Downloading 10-Q for IP (2004)...\n",
      "Downloading 10-Q for DTE (2018)...\n",
      "Downloading 10-Q for AEE (2011)...\n",
      "Downloading 10-Q for HPQ (2013)...\n",
      "Downloading 10-Q for KEYS (2016)...\n",
      "Downloading 10-Q for MTD (2011)...\n",
      "Downloading 10-Q for BR (2019)...\n",
      "Downloading 10-Q for AEE (2012)...\n",
      "Downloading 10-Q for IP (2005)...\n",
      "Downloading 10-Q for MTD (2012)...\n",
      "Downloading 10-Q for DTE (2019)...\n",
      "Downloading 10-Q for IP (2006)...\n",
      "Downloading 10-Q for BR (2020)...\n",
      "Downloading 10-Q for MTD (2013)...\n",
      "Downloading 10-Q for AEE (2013)...\n",
      "Downloading 10-Q for IP (2007)...\n",
      "Downloading 10-Q for HPQ (2014)...\n",
      "Downloading 10-Q for MTD (2014)...\n",
      "Downloading 10-Q for BR (2021)...\n",
      "Downloading 10-Q for DTE (2020)...\n",
      "Downloading 10-Q for IP (2008)...\n",
      "Downloading 10-Q for KEYS (2017)...\n",
      "Downloading 10-Q for AEE (2014)...\n"
     ]
    },
    {
     "name": "stderr",
     "output_type": "stream",
     "text": [
      "Downloading SEC Filings:  91%|█████████ | 452/499 [4:06:09<19:30, 24.90s/it]"
     ]
    },
    {
     "name": "stdout",
     "output_type": "stream",
     "text": [
      "Downloading 10-Q for IP (2009)...\n",
      "Downloading 10-Q for MTD (2015)...\n",
      "Downloading 10-Q for MT (2000)...\n",
      "Downloading 10-Q for HPQ (2015)...\n",
      "Downloading 10-Q for DTE (2021)...\n",
      "Downloading 10-Q for MT (2001)...\n",
      "Downloading 10-Q for MT (2002)...\n",
      "Downloading 10-Q for KEYS (2018)...\n",
      "Downloading 10-Q for MT (2003)...\n",
      "Downloading 10-Q for IP (2010)...\n",
      "Downloading 10-Q for MT (2004)...\n",
      "Downloading 10-Q for MTD (2016)...\n",
      "Downloading 10-Q for MT (2005)...\n",
      "Downloading 10-Q for AEE (2015)...\n",
      "Downloading 10-Q for MT (2006)...\n",
      "Downloading 10-Q for MT (2007)...\n",
      "Downloading 10-Q for KEYS (2019)...\n",
      "Downloading 10-Q for MT (2008)...\n",
      "Downloading 10-Q for MT (2009)...\n",
      "Downloading 10-Q for HPQ (2016)...\n"
     ]
    },
    {
     "name": "stderr",
     "output_type": "stream",
     "text": [
      "Downloading SEC Filings:  91%|█████████ | 453/499 [4:06:20<16:04, 20.96s/it]"
     ]
    },
    {
     "name": "stdout",
     "output_type": "stream",
     "text": [
      "Downloading 10-Q for MT (2010)...\n",
      "Downloading 10-Q for TEF (2000)...\n",
      "Downloading 10-Q for IP (2011)...\n",
      "Downloading 10-Q for MTD (2017)...\n",
      "Downloading 10-Q for MT (2011)...\n",
      "Downloading 10-Q for TEF (2001)...\n",
      "Downloading 10-Q for MT (2012)...\n",
      "Downloading 10-Q for AEE (2016)...\n",
      "Downloading 10-Q for TEF (2002)...\n",
      "Downloading 10-Q for KEYS (2020)...\n",
      "Downloading 10-Q for MT (2013)...\n",
      "Downloading 10-Q for TEF (2003)...\n",
      "Downloading 10-Q for MT (2014)...\n",
      "Downloading 10-Q for TEF (2004)...\n",
      "Downloading 10-Q for MT (2015)...\n",
      "Downloading 10-Q for TEF (2005)...\n",
      "Downloading 10-Q for HPQ (2017)...\n",
      "Downloading 10-Q for MT (2016)...\n",
      "Downloading 10-Q for MTD (2018)...\n",
      "Downloading 10-Q for TEF (2006)...\n",
      "Downloading 10-Q for MT (2017)...\n",
      "Downloading 10-Q for IP (2012)...\n",
      "Downloading 10-Q for TEF (2007)...\n",
      "Downloading 10-Q for KEYS (2021)...\n",
      "Downloading 10-Q for MT (2018)...\n",
      "Downloading 10-Q for AEE (2017)...\n",
      "Downloading 10-Q for TEF (2008)...\n",
      "Downloading 10-Q for MT (2019)...\n",
      "Downloading 10-Q for TEF (2009)...\n",
      "Downloading 10-Q for MT (2020)...\n",
      "Downloading 10-Q for TEF (2010)...\n",
      "Downloading 10-Q for MT (2021)...\n",
      "Downloading 10-Q for TEF (2011)...\n"
     ]
    },
    {
     "name": "stderr",
     "output_type": "stream",
     "text": [
      "Downloading SEC Filings:  91%|█████████ | 455/499 [4:06:34<09:42, 13.24s/it]"
     ]
    },
    {
     "name": "stdout",
     "output_type": "stream",
     "text": [
      "Downloading 10-Q for NTDTY (2000)...\n",
      "Downloading 10-Q for TEF (2012)...\n",
      "Downloading 10-Q for IP (2013)...\n",
      "Downloading 10-Q for NTDTY (2001)...\n",
      "Downloading 10-Q for AEE (2018)...\n",
      "Downloading 10-Q for NTDTY (2002)...\n",
      "Downloading 10-Q for HPQ (2018)...\n",
      "Downloading 10-Q for MTD (2019)...\n",
      "Downloading 10-Q for TEF (2013)...\n",
      "Downloading 10-Q for DOW (2000)...\n",
      "Downloading 10-Q for NTDTY (2003)...\n",
      "Downloading 10-Q for DOW (2001)...\n",
      "Downloading 10-Q for NTDTY (2004)...\n",
      "Downloading 10-Q for TEF (2014)...\n",
      "Downloading 10-Q for DOW (2002)...\n",
      "Downloading 10-Q for NTDTY (2005)...\n",
      "Downloading 10-Q for NTDTY (2006)...\n",
      "Downloading 10-Q for DOW (2003)...\n",
      "Downloading 10-Q for TEF (2015)...\n",
      "Downloading 10-Q for NTDTY (2007)...\n",
      "Downloading 10-Q for DOW (2004)...\n",
      "Downloading 10-Q for NTDTY (2008)...\n",
      "Downloading 10-Q for DOW (2005)...\n",
      "Downloading 10-Q for NTDTY (2009)...\n",
      "Downloading 10-Q for DOW (2006)...\n",
      "Downloading 10-Q for TEF (2016)...\n",
      "Downloading 10-Q for NTDTY (2010)...\n",
      "Downloading 10-Q for DOW (2007)...\n",
      "Downloading 10-Q for NTDTY (2011)...\n",
      "Downloading 10-Q for DOW (2008)...\n",
      "Downloading 10-Q for AEE (2019)...\n",
      "Downloading 10-Q for TEF (2017)...\n",
      "Downloading 10-Q for NTDTY (2012)...\n",
      "Downloading 10-Q for DOW (2009)...\n",
      "Downloading 10-Q for MTD (2020)...\n",
      "Downloading 10-Q for NTDTY (2013)...\n",
      "Downloading 10-Q for DOW (2010)...\n",
      "Downloading 10-Q for TEF (2018)...\n",
      "Downloading 10-Q for NTDTY (2014)...\n",
      "Downloading 10-Q for HPQ (2019)...\n",
      "Downloading 10-Q for DOW (2011)...\n",
      "Downloading 10-Q for NTDTY (2015)...\n",
      "Downloading 10-Q for DOW (2012)...\n",
      "Downloading 10-Q for TEF (2019)...\n",
      "Downloading 10-Q for NTDTY (2016)...\n",
      "Downloading 10-Q for DOW (2013)...\n",
      "Downloading 10-Q for NTDTY (2017)...\n",
      "Downloading 10-Q for DOW (2014)...\n",
      "Downloading 10-Q for NTDTY (2018)...\n",
      "Downloading 10-Q for DOW (2015)...\n",
      "Downloading 10-Q for IP (2014)...\n",
      "Downloading 10-Q for NTDTY (2019)...\n",
      "Downloading 10-Q for DOW (2016)...\n",
      "Downloading 10-Q for NTDTY (2020)...\n",
      "Downloading 10-Q for TEF (2020)...\n",
      "Downloading 10-Q for DOW (2017)...\n",
      "Downloading 10-Q for AEE (2020)...\n",
      "Downloading 10-Q for NTDTY (2021)...\n",
      "Downloading 10-Q for MTD (2021)...\n",
      "Downloading 10-Q for DOW (2018)...\n"
     ]
    },
    {
     "name": "stderr",
     "output_type": "stream",
     "text": [
      "Downloading SEC Filings:  91%|█████████▏| 456/499 [4:06:46<09:15, 12.92s/it]"
     ]
    },
    {
     "name": "stdout",
     "output_type": "stream",
     "text": [
      "Downloading 10-Q for DOW (2019)...\n",
      "Downloading 10-Q for TEF (2021)...\n",
      "Downloading 10-Q for PPG (2000)...\n"
     ]
    },
    {
     "name": "stderr",
     "output_type": "stream",
     "text": [
      "Downloading SEC Filings:  92%|█████████▏| 457/499 [4:06:48<06:43,  9.62s/it]"
     ]
    },
    {
     "name": "stdout",
     "output_type": "stream",
     "text": [
      "Downloading 10-Q for PUBGY (2000)...\n",
      "Downloading 10-Q for PUBGY (2001)...\n",
      "Downloading 10-Q for PUBGY (2002)...\n",
      "Downloading 10-Q for HPQ (2020)...\n",
      "Downloading 10-Q for PUBGY (2003)...\n",
      "Downloading 10-Q for PUBGY (2004)...\n",
      "Downloading 10-Q for PPG (2001)...\n"
     ]
    },
    {
     "name": "stderr",
     "output_type": "stream",
     "text": [
      "Downloading SEC Filings:  92%|█████████▏| 458/499 [4:06:52<05:23,  7.89s/it]"
     ]
    },
    {
     "name": "stdout",
     "output_type": "stream",
     "text": [
      "Downloading 10-Q for PUBGY (2005)...\n",
      "Downloading 10-Q for CCL (2000)...\n",
      "Downloading 10-Q for PUBGY (2006)...\n",
      "Downloading 10-Q for PUBGY (2007)...\n",
      "Downloading 10-Q for PUBGY (2008)...\n",
      "Downloading 10-Q for AEE (2021)...\n",
      "Downloading 10-Q for PUBGY (2009)...\n",
      "Downloading 10-Q for DOW (2020)...\n",
      "Downloading 10-Q for CCL (2001)...\n",
      "Downloading 10-Q for PUBGY (2010)...\n",
      "Downloading 10-Q for IP (2015)...\n",
      "Downloading 10-Q for PPG (2002)...\n",
      "Downloading 10-Q for PUBGY (2011)...\n",
      "Downloading 10-Q for PUBGY (2012)...\n",
      "Downloading 10-Q for PUBGY (2013)...\n",
      "Downloading 10-Q for PUBGY (2014)...\n",
      "Downloading 10-Q for PUBGY (2015)...\n",
      "Downloading 10-Q for CCL (2002)...\n",
      "Downloading 10-Q for HPQ (2021)...\n",
      "Downloading 10-Q for PUBGY (2016)...\n",
      "Downloading 10-Q for PUBGY (2017)...\n",
      "Downloading 10-Q for PUBGY (2018)...\n",
      "Downloading 10-Q for PPG (2003)...\n",
      "Downloading 10-Q for PUBGY (2019)...\n",
      "Downloading 10-Q for PUBGY (2020)...\n",
      "Downloading 10-Q for PUBGY (2021)...\n"
     ]
    },
    {
     "name": "stderr",
     "output_type": "stream",
     "text": [
      "Downloading SEC Filings:  92%|█████████▏| 459/499 [4:07:03<05:46,  8.67s/it]"
     ]
    },
    {
     "name": "stdout",
     "output_type": "stream",
     "text": [
      "Downloading 10-Q for CCL (2003)...\n"
     ]
    },
    {
     "name": "stderr",
     "output_type": "stream",
     "text": [
      "Downloading SEC Filings:  92%|█████████▏| 460/499 [4:07:03<03:59,  6.14s/it]"
     ]
    },
    {
     "name": "stdout",
     "output_type": "stream",
     "text": [
      "Downloading 10-Q for WBD (2000)...\n",
      "Downloading 10-Q for IP (2016)...\n",
      "Downloading 10-Q for PUK (2000)...\n",
      "Downloading 10-Q for WBD (2001)...\n",
      "Downloading 10-Q for PUK (2001)...\n",
      "Downloading 10-Q for PPG (2004)...\n",
      "Downloading 10-Q for WBD (2002)...\n",
      "Downloading 10-Q for PUK (2002)...\n"
     ]
    },
    {
     "name": "stderr",
     "output_type": "stream",
     "text": [
      "Downloading SEC Filings:  92%|█████████▏| 461/499 [4:07:08<03:43,  5.89s/it]"
     ]
    },
    {
     "name": "stdout",
     "output_type": "stream",
     "text": [
      "Downloading 10-Q for WBD (2003)...\n",
      "Downloading 10-Q for FTV (2000)...\n",
      "Downloading 10-Q for PUK (2003)...\n",
      "Downloading 10-Q for DOW (2021)...\n",
      "Downloading 10-Q for WBD (2004)...\n",
      "Downloading 10-Q for FTV (2001)...\n",
      "Downloading 10-Q for PUK (2004)...\n",
      "Downloading 10-Q for PPG (2005)...\n",
      "Downloading 10-Q for WBD (2005)...\n",
      "Downloading 10-Q for FTV (2002)...\n",
      "Downloading 10-Q for PUK (2005)...\n",
      "Downloading 10-Q for WBD (2006)...\n",
      "Downloading 10-Q for FTV (2003)...\n",
      "Downloading 10-Q for PUK (2006)...\n",
      "Downloading 10-Q for WBD (2007)...\n",
      "Downloading 10-Q for FTV (2004)...\n",
      "Downloading 10-Q for IP (2017)...\n",
      "Downloading 10-Q for PPG (2006)...\n",
      "Downloading 10-Q for WBD (2008)...\n",
      "Downloading 10-Q for PUK (2007)...\n",
      "Downloading 10-Q for FTV (2005)...\n",
      "Downloading 10-Q for PUK (2008)...\n",
      "Downloading 10-Q for CCL (2004)...\n",
      "Downloading 10-Q for FTV (2006)...\n",
      "Downloading 10-Q for WBD (2009)...\n"
     ]
    },
    {
     "name": "stderr",
     "output_type": "stream",
     "text": [
      "Downloading SEC Filings:  93%|█████████▎| 462/499 [4:07:17<04:07,  6.70s/it]"
     ]
    },
    {
     "name": "stdout",
     "output_type": "stream",
     "text": [
      "Downloading 10-Q for PUK (2009)...\n",
      "Downloading 10-Q for PPL (2000)...\n",
      "Downloading 10-Q for PPG (2007)...\n",
      "Downloading 10-Q for PUK (2010)...\n",
      "Downloading 10-Q for PUK (2011)...\n",
      "Downloading 10-Q for FTV (2007)...\n",
      "Downloading 10-Q for CCL (2005)...\n",
      "Downloading 10-Q for PUK (2012)...\n",
      "Downloading 10-Q for PPL (2001)...\n",
      "Downloading 10-Q for FTV (2008)...\n",
      "Downloading 10-Q for IP (2018)...\n",
      "Downloading 10-Q for WBD (2010)...\n",
      "Downloading 10-Q for PUK (2013)...\n",
      "Downloading 10-Q for PPG (2008)...\n",
      "Downloading 10-Q for FTV (2009)...\n",
      "Downloading 10-Q for PUK (2014)...\n",
      "Downloading 10-Q for FTV (2010)...\n",
      "Downloading 10-Q for PUK (2015)...\n",
      "Downloading 10-Q for FTV (2011)...\n",
      "Downloading 10-Q for CCL (2006)...\n",
      "Downloading 10-Q for FTV (2012)...\n",
      "Downloading 10-Q for PUK (2016)...\n",
      "Downloading 10-Q for PPG (2009)...\n",
      "Downloading 10-Q for FTV (2013)...\n",
      "Downloading 10-Q for PUK (2017)...\n",
      "Downloading 10-Q for PPL (2002)...\n",
      "Downloading 10-Q for WBD (2011)...\n",
      "Downloading 10-Q for FTV (2014)...\n",
      "Downloading 10-Q for IP (2019)...\n",
      "Downloading 10-Q for CCL (2007)...\n",
      "Downloading 10-Q for PUK (2018)...\n",
      "Downloading 10-Q for FTV (2015)...\n",
      "Downloading 10-Q for PUK (2019)...\n",
      "Downloading 10-Q for FTV (2016)...\n",
      "Downloading 10-Q for PPG (2010)...\n",
      "Downloading 10-Q for PPL (2003)...\n",
      "Downloading 10-Q for CCL (2008)...\n",
      "Downloading 10-Q for PUK (2020)...\n",
      "Downloading 10-Q for WBD (2012)...\n",
      "Downloading 10-Q for PUK (2021)...\n"
     ]
    },
    {
     "name": "stderr",
     "output_type": "stream",
     "text": [
      "Downloading SEC Filings:  93%|█████████▎| 463/499 [4:07:38<06:33, 10.93s/it]"
     ]
    },
    {
     "name": "stdout",
     "output_type": "stream",
     "text": [
      "Downloading 10-Q for CCL (2009)...\n",
      "Downloading 10-Q for DIDIY (2000)...\n",
      "Downloading 10-Q for DIDIY (2001)...\n",
      "Downloading 10-Q for IP (2020)...\n",
      "Downloading 10-Q for PPL (2004)...\n",
      "Downloading 10-Q for DIDIY (2002)...\n",
      "Downloading 10-Q for DIDIY (2003)...\n",
      "Downloading 10-Q for FTV (2017)...\n",
      "Downloading 10-Q for DIDIY (2004)...\n",
      "Downloading 10-Q for DIDIY (2005)...\n",
      "Downloading 10-Q for CCL (2010)...\n",
      "Downloading 10-Q for DIDIY (2006)...\n",
      "Downloading 10-Q for WBD (2013)...\n",
      "Downloading 10-Q for DIDIY (2007)...\n",
      "Downloading 10-Q for PPG (2011)...\n",
      "Downloading 10-Q for DIDIY (2008)...\n",
      "Downloading 10-Q for DIDIY (2009)...\n",
      "Downloading 10-Q for DIDIY (2010)...\n",
      "Downloading 10-Q for DIDIY (2011)...\n",
      "Downloading 10-Q for PPL (2005)...\n",
      "Downloading 10-Q for DIDIY (2012)...\n",
      "Downloading 10-Q for DIDIY (2013)...\n",
      "Downloading 10-Q for DIDIY (2014)...\n",
      "Downloading 10-Q for FTV (2018)...\n",
      "Downloading 10-Q for DIDIY (2015)...\n",
      "Downloading 10-Q for DIDIY (2016)...\n",
      "Downloading 10-Q for CCL (2011)...\n",
      "Downloading 10-Q for DIDIY (2017)...\n",
      "Downloading 10-Q for DIDIY (2018)...\n",
      "Downloading 10-Q for DIDIY (2019)...\n",
      "Downloading 10-Q for DIDIY (2020)...\n",
      "Downloading 10-Q for PPG (2012)...\n",
      "Downloading 10-Q for DIDIY (2021)...\n",
      "Downloading 10-Q for IP (2021)...\n"
     ]
    },
    {
     "name": "stderr",
     "output_type": "stream",
     "text": [
      "Downloading SEC Filings:  93%|█████████▎| 464/499 [4:07:49<06:29, 11.12s/it]"
     ]
    },
    {
     "name": "stdout",
     "output_type": "stream",
     "text": [
      "Downloading 10-Q for PPL (2006)...\n",
      "Downloading 10-Q for XPEV (2000)...\n",
      "Downloading 10-Q for WBD (2014)...\n",
      "Downloading 10-Q for XPEV (2001)...\n",
      "Downloading 10-Q for FTV (2019)...\n",
      "Downloading 10-Q for CCL (2012)...\n",
      "Downloading 10-Q for XPEV (2002)...\n",
      "Downloading 10-Q for XPEV (2003)...\n",
      "Downloading 10-Q for XPEV (2004)...\n",
      "Downloading 10-Q for XPEV (2005)...\n",
      "Downloading 10-Q for XPEV (2006)...\n",
      "Downloading 10-Q for XPEV (2007)...\n",
      "Downloading 10-Q for PPL (2007)...\n",
      "Downloading 10-Q for XPEV (2008)...\n",
      "Downloading 10-Q for XPEV (2009)...\n",
      "Downloading 10-Q for XPEV (2010)...\n",
      "Downloading 10-Q for XPEV (2011)...\n",
      "Downloading 10-Q for XPEV (2012)...\n",
      "Downloading 10-Q for PPG (2013)...\n"
     ]
    },
    {
     "name": "stderr",
     "output_type": "stream",
     "text": [
      "Downloading SEC Filings:  93%|█████████▎| 465/499 [4:07:57<05:49, 10.27s/it]"
     ]
    },
    {
     "name": "stdout",
     "output_type": "stream",
     "text": [
      "Downloading 10-Q for XPEV (2013)...\n",
      "Downloading 10-Q for FTV (2020)...\n",
      "Downloading 10-Q for CCL (2013)...\n",
      "Downloading 10-Q for XPEV (2014)...\n",
      "Downloading 10-Q for SAXPY (2000)...\n",
      "Downloading 10-Q for SAXPY (2001)...\n",
      "Downloading 10-Q for SAXPY (2002)...\n",
      "Downloading 10-Q for XPEV (2015)...\n",
      "Downloading 10-Q for SAXPY (2003)...\n",
      "Downloading 10-Q for XPEV (2016)...\n",
      "Downloading 10-Q for PPL (2008)...\n",
      "Downloading 10-Q for SAXPY (2004)...\n",
      "Downloading 10-Q for XPEV (2017)...\n",
      "Downloading 10-Q for SAXPY (2005)...\n",
      "Downloading 10-Q for XPEV (2018)...\n",
      "Downloading 10-Q for SAXPY (2006)...\n",
      "Downloading 10-Q for XPEV (2019)...\n",
      "Downloading 10-Q for SAXPY (2007)...\n",
      "Downloading 10-Q for XPEV (2020)...\n",
      "Downloading 10-Q for SAXPY (2008)...\n",
      "Downloading 10-Q for XPEV (2021)...\n"
     ]
    },
    {
     "name": "stderr",
     "output_type": "stream",
     "text": [
      "Downloading SEC Filings:  93%|█████████▎| 466/499 [4:08:04<05:05,  9.25s/it]"
     ]
    },
    {
     "name": "stdout",
     "output_type": "stream",
     "text": [
      "Downloading 10-Q for SAXPY (2009)...\n",
      "Downloading 10-Q for SAXPY (2010)...\n",
      "Downloading 10-Q for ROL (2000)...\n",
      "Downloading 10-Q for CCL (2014)...\n",
      "Downloading 10-Q for SAXPY (2011)...\n",
      "Downloading 10-Q for WBD (2015)...\n",
      "Downloading 10-Q for SAXPY (2012)...\n",
      "Downloading 10-Q for SAXPY (2013)...\n",
      "Downloading 10-Q for FTV (2021)...\n",
      "Downloading 10-Q for PPL (2009)...\n",
      "Downloading 10-Q for SAXPY (2014)...\n",
      "Downloading 10-Q for PPG (2014)...\n",
      "Downloading 10-Q for SAXPY (2015)...\n",
      "Downloading 10-Q for SAXPY (2016)...\n",
      "Downloading 10-Q for ROL (2001)...\n",
      "Downloading 10-Q for SAXPY (2017)...\n",
      "Downloading 10-Q for SAXPY (2018)...\n",
      "Downloading 10-Q for SAXPY (2019)...\n",
      "Downloading 10-Q for SAXPY (2020)...\n",
      "Downloading 10-Q for CCL (2015)...\n",
      "Downloading 10-Q for SAXPY (2021)...\n"
     ]
    },
    {
     "name": "stderr",
     "output_type": "stream",
     "text": [
      "Downloading SEC Filings:  94%|█████████▎| 467/499 [4:08:13<04:51,  9.11s/it]"
     ]
    },
    {
     "name": "stdout",
     "output_type": "stream",
     "text": [
      "Downloading 10-Q for ROL (2002)...\n",
      "Downloading 10-Q for PHG (2000)...\n",
      "Downloading 10-Q for WBD (2016)...\n",
      "Downloading 10-Q for PPL (2010)...\n"
     ]
    },
    {
     "name": "stderr",
     "output_type": "stream",
     "text": [
      "Downloading SEC Filings:  94%|█████████▍| 468/499 [4:08:14<03:30,  6.77s/it]"
     ]
    },
    {
     "name": "stdout",
     "output_type": "stream",
     "text": [
      "Downloading 10-Q for PHG (2001)...\n",
      "Downloading 10-Q for PHG (2002)...\n",
      "Downloading 10-Q for NTR (2000)...\n",
      "Downloading 10-Q for ROL (2003)...\n",
      "Downloading 10-Q for NTR (2001)...\n",
      "Downloading 10-Q for PHG (2003)...\n",
      "Downloading 10-Q for NTR (2002)...\n",
      "Downloading 10-Q for PHG (2004)...\n",
      "Downloading 10-Q for NTR (2003)...\n",
      "Downloading 10-Q for PHG (2005)...\n",
      "Downloading 10-Q for PPG (2015)...\n",
      "Downloading 10-Q for NTR (2004)...\n",
      "Downloading 10-Q for PHG (2006)...\n",
      "Downloading 10-Q for NTR (2005)...\n",
      "Downloading 10-Q for PHG (2007)...\n",
      "Downloading 10-Q for ROL (2004)...\n",
      "Downloading 10-Q for NTR (2006)...\n",
      "Downloading 10-Q for PHG (2008)...\n",
      "Downloading 10-Q for NTR (2007)...\n",
      "Downloading 10-Q for CCL (2016)...\n",
      "Downloading 10-Q for PHG (2009)...\n",
      "Downloading 10-Q for NTR (2008)...\n",
      "Downloading 10-Q for PHG (2010)...\n",
      "Downloading 10-Q for NTR (2009)...\n",
      "Downloading 10-Q for NTR (2010)...\n",
      "Downloading 10-Q for PHG (2011)...\n",
      "Downloading 10-Q for NTR (2011)...\n",
      "Downloading 10-Q for PHG (2012)...\n",
      "Downloading 10-Q for NTR (2012)...\n",
      "Downloading 10-Q for ROL (2005)...\n",
      "Downloading 10-Q for PHG (2013)...\n",
      "Downloading 10-Q for NTR (2013)...\n",
      "Downloading 10-Q for WBD (2017)...\n",
      "Downloading 10-Q for PHG (2014)...\n",
      "Downloading 10-Q for NTR (2014)...\n",
      "Downloading 10-Q for NTR (2015)...\n",
      "Downloading 10-Q for PHG (2015)...\n",
      "Downloading 10-Q for PPG (2016)...\n",
      "Downloading 10-Q for NTR (2016)...\n",
      "Downloading 10-Q for PHG (2016)...\n",
      "Downloading 10-Q for NTR (2017)...\n",
      "Downloading 10-Q for PHG (2017)...\n",
      "Downloading 10-Q for NTR (2018)...\n",
      "Downloading 10-Q for PHG (2018)...\n",
      "Downloading 10-Q for ROL (2006)...\n",
      "Downloading 10-Q for CCL (2017)...\n",
      "Downloading 10-Q for NTR (2019)...\n",
      "Downloading 10-Q for PPL (2011)...\n",
      "Downloading 10-Q for PHG (2019)...\n",
      "Downloading 10-Q for NTR (2020)...\n",
      "Downloading 10-Q for NTR (2021)...\n",
      "Downloading 10-Q for PHG (2020)...\n"
     ]
    },
    {
     "name": "stderr",
     "output_type": "stream",
     "text": [
      "Downloading SEC Filings:  94%|█████████▍| 469/499 [4:08:28<04:25,  8.85s/it]"
     ]
    },
    {
     "name": "stdout",
     "output_type": "stream",
     "text": [
      "Downloading 10-Q for PHG (2021)...\n",
      "Downloading 10-Q for EL (2000)...\n"
     ]
    },
    {
     "name": "stderr",
     "output_type": "stream",
     "text": [
      "Downloading SEC Filings:  94%|█████████▍| 470/499 [4:08:29<03:06,  6.44s/it]"
     ]
    },
    {
     "name": "stdout",
     "output_type": "stream",
     "text": [
      "Downloading 10-Q for WBD (2018)...\n",
      "Downloading 10-Q for ROL (2007)...\n",
      "Downloading 10-Q for PPG (2017)...\n",
      "Downloading 10-Q for UAL (2000)...\n",
      "Downloading 10-Q for CCL (2018)...\n",
      "Downloading 10-Q for ROL (2008)...\n",
      "Downloading 10-Q for EL (2001)...\n",
      "Downloading 10-Q for UAL (2001)...\n",
      "Downloading 10-Q for ROL (2009)...\n",
      "Downloading 10-Q for UAL (2002)...\n",
      "Downloading 10-Q for EL (2002)...\n",
      "Downloading 10-Q for CCL (2019)...\n",
      "Downloading 10-Q for PPG (2018)...\n",
      "Downloading 10-Q for ROL (2010)...\n",
      "Downloading 10-Q for UAL (2003)...\n",
      "Downloading 10-Q for EL (2003)...\n",
      "Downloading 10-Q for WBD (2019)...\n",
      "Downloading 10-Q for ROL (2011)...\n",
      "Downloading 10-Q for PPG (2019)...\n",
      "Downloading 10-Q for UAL (2004)...\n",
      "Downloading 10-Q for EL (2004)...\n",
      "Downloading 10-Q for PPL (2012)...\n",
      "Downloading 10-Q for CCL (2020)...\n",
      "Downloading 10-Q for UAL (2005)...\n",
      "Downloading 10-Q for EL (2005)...\n",
      "Downloading 10-Q for ROL (2012)...\n",
      "Downloading 10-Q for WBD (2020)...\n",
      "Downloading 10-Q for UAL (2006)...\n",
      "Downloading 10-Q for PPG (2020)...\n",
      "Downloading 10-Q for EL (2006)...\n",
      "Downloading 10-Q for CCL (2021)...\n",
      "Downloading 10-Q for UAL (2007)...\n",
      "Downloading 10-Q for PPL (2013)...\n",
      "Downloading 10-Q for ROL (2013)...\n",
      "Downloading 10-Q for WBD (2021)...\n",
      "Downloading 10-Q for PPG (2021)...\n",
      "Downloading 10-Q for EL (2007)...\n",
      "Downloading 10-Q for UAL (2008)...\n"
     ]
    },
    {
     "name": "stderr",
     "output_type": "stream",
     "text": [
      "Downloading SEC Filings:  94%|█████████▍| 471/499 [4:09:08<07:38, 16.37s/it]"
     ]
    },
    {
     "name": "stdout",
     "output_type": "stream",
     "text": [
      "Downloading 10-Q for FUJIY (2000)...\n",
      "Downloading 10-Q for FUJIY (2001)...\n",
      "Downloading 10-Q for EL (2008)...\n",
      "Downloading 10-Q for FUJIY (2002)...\n",
      "Downloading 10-Q for UAL (2009)...\n",
      "Downloading 10-Q for ROL (2014)...\n",
      "Downloading 10-Q for FUJIY (2003)...\n"
     ]
    },
    {
     "name": "stderr",
     "output_type": "stream",
     "text": [
      "Downloading SEC Filings:  95%|█████████▍| 472/499 [4:09:12<05:40, 12.60s/it]"
     ]
    },
    {
     "name": "stdout",
     "output_type": "stream",
     "text": [
      "Downloading 10-Q for FUJIY (2004)...\n",
      "Downloading 10-Q for FUJIY (2005)...\n",
      "Downloading 10-Q for DOV (2000)...\n"
     ]
    },
    {
     "name": "stderr",
     "output_type": "stream",
     "text": [
      "Downloading SEC Filings:  95%|█████████▍| 473/499 [4:09:15<04:11,  9.69s/it]"
     ]
    },
    {
     "name": "stdout",
     "output_type": "stream",
     "text": [
      "Downloading 10-Q for FUJIY (2006)...\n",
      "Downloading 10-Q for FUJIY (2007)...\n",
      "Downloading 10-Q for FUJIY (2008)...\n",
      "Downloading 10-Q for YAHOY (2000)...\n",
      "Downloading 10-Q for FUJIY (2009)...\n",
      "Downloading 10-Q for YAHOY (2001)...\n",
      "Downloading 10-Q for FUJIY (2010)...\n",
      "Downloading 10-Q for UAL (2010)...\n",
      "Downloading 10-Q for EL (2009)...\n",
      "Downloading 10-Q for YAHOY (2002)...\n",
      "Downloading 10-Q for FUJIY (2011)...\n",
      "Downloading 10-Q for ROL (2015)...\n",
      "Downloading 10-Q for YAHOY (2003)...\n",
      "Downloading 10-Q for FUJIY (2012)...\n",
      "Downloading 10-Q for YAHOY (2004)...\n",
      "Downloading 10-Q for FUJIY (2013)...\n",
      "Downloading 10-Q for DOV (2001)...\n",
      "Downloading 10-Q for YAHOY (2005)...\n",
      "Downloading 10-Q for FUJIY (2014)...\n",
      "Downloading 10-Q for YAHOY (2006)...\n",
      "Downloading 10-Q for FUJIY (2015)...\n",
      "Downloading 10-Q for YAHOY (2007)...\n",
      "Downloading 10-Q for PPL (2014)...\n",
      "Downloading 10-Q for FUJIY (2016)...\n",
      "Downloading 10-Q for UAL (2011)...\n",
      "Downloading 10-Q for YAHOY (2008)...\n",
      "Downloading 10-Q for FUJIY (2017)...\n",
      "Downloading 10-Q for EL (2010)...\n",
      "Downloading 10-Q for YAHOY (2009)...\n",
      "Downloading 10-Q for FUJIY (2018)...\n",
      "Downloading 10-Q for DOV (2002)...\n",
      "Downloading 10-Q for YAHOY (2010)...\n",
      "Downloading 10-Q for FUJIY (2019)...\n",
      "Downloading 10-Q for ROL (2016)...\n",
      "Downloading 10-Q for YAHOY (2011)...\n",
      "Downloading 10-Q for FUJIY (2020)...\n",
      "Downloading 10-Q for YAHOY (2012)...\n",
      "Downloading 10-Q for FUJIY (2021)...\n",
      "Downloading 10-Q for YAHOY (2013)...\n"
     ]
    },
    {
     "name": "stderr",
     "output_type": "stream",
     "text": [
      "Downloading SEC Filings:  95%|█████████▍| 474/499 [4:09:25<04:01,  9.67s/it]"
     ]
    },
    {
     "name": "stdout",
     "output_type": "stream",
     "text": [
      "Downloading 10-Q for YAHOY (2014)...\n",
      "Downloading 10-Q for DOV (2003)...\n",
      "Downloading 10-Q for YAHOY (2015)...\n",
      "Downloading 10-Q for RYAAY (2000)...\n",
      "Downloading 10-Q for YAHOY (2016)...\n",
      "Downloading 10-Q for YAHOY (2017)...\n",
      "Downloading 10-Q for UAL (2012)...\n",
      "Downloading 10-Q for RYAAY (2001)...\n",
      "Downloading 10-Q for YAHOY (2018)...\n",
      "Downloading 10-Q for ROL (2017)...\n",
      "Downloading 10-Q for DOV (2004)...\n",
      "Downloading 10-Q for YAHOY (2019)...\n",
      "Downloading 10-Q for EL (2011)...\n",
      "Downloading 10-Q for YAHOY (2020)...\n",
      "Downloading 10-Q for RYAAY (2002)...\n",
      "Downloading 10-Q for YAHOY (2021)...\n"
     ]
    },
    {
     "name": "stderr",
     "output_type": "stream",
     "text": [
      "Downloading SEC Filings:  95%|█████████▌| 475/499 [4:09:29<03:14,  8.12s/it]"
     ]
    },
    {
     "name": "stdout",
     "output_type": "stream",
     "text": [
      "Downloading 10-Q for RYAAY (2003)...\n",
      "Downloading 10-Q for IRM (2000)...\n",
      "Downloading 10-Q for DOV (2005)...\n",
      "Downloading 10-Q for RYAAY (2004)...\n",
      "Downloading 10-Q for ROL (2018)...\n",
      "Downloading 10-Q for RYAAY (2005)...\n",
      "Downloading 10-Q for DOV (2006)...\n",
      "Downloading 10-Q for PPL (2015)...\n",
      "Downloading 10-Q for UAL (2013)...\n",
      "Downloading 10-Q for IRM (2001)...\n",
      "Downloading 10-Q for RYAAY (2006)...\n",
      "Downloading 10-Q for EL (2012)...\n",
      "Downloading 10-Q for RYAAY (2007)...\n",
      "Downloading 10-Q for DOV (2007)...\n",
      "Downloading 10-Q for ROL (2019)...\n",
      "Downloading 10-Q for RYAAY (2008)...\n",
      "Downloading 10-Q for IRM (2002)...\n",
      "Downloading 10-Q for RYAAY (2009)...\n",
      "Downloading 10-Q for UAL (2014)...\n",
      "Downloading 10-Q for DOV (2008)...\n",
      "Downloading 10-Q for RYAAY (2010)...\n",
      "Downloading 10-Q for IRM (2003)...\n",
      "Downloading 10-Q for EL (2013)...\n",
      "Downloading 10-Q for RYAAY (2011)...\n",
      "Downloading 10-Q for DOV (2009)...\n",
      "Downloading 10-Q for RYAAY (2012)...\n",
      "Downloading 10-Q for ROL (2020)...\n",
      "Downloading 10-Q for RYAAY (2013)...\n",
      "Downloading 10-Q for IRM (2004)...\n",
      "Downloading 10-Q for UAL (2015)...\n",
      "Downloading 10-Q for RYAAY (2014)...\n",
      "Downloading 10-Q for DOV (2010)...\n",
      "Downloading 10-Q for RYAAY (2015)...\n",
      "Downloading 10-Q for RYAAY (2016)...\n",
      "Downloading 10-Q for EL (2014)...\n",
      "Downloading 10-Q for IRM (2005)...\n",
      "Downloading 10-Q for ROL (2021)...\n",
      "Downloading 10-Q for DOV (2011)...\n",
      "Downloading 10-Q for RYAAY (2017)...\n",
      "Downloading 10-Q for UAL (2016)...\n",
      "Downloading 10-Q for RYAAY (2018)...\n",
      "Downloading 10-Q for RYAAY (2019)...\n",
      "Downloading 10-Q for IRM (2006)...\n",
      "Downloading 10-Q for RYAAY (2020)...\n",
      "Downloading 10-Q for DOV (2012)...\n"
     ]
    },
    {
     "name": "stderr",
     "output_type": "stream",
     "text": [
      "Downloading SEC Filings:  95%|█████████▌| 476/499 [4:09:50<04:34, 11.95s/it]"
     ]
    },
    {
     "name": "stdout",
     "output_type": "stream",
     "text": [
      "Downloading 10-Q for PPL (2016)...\n",
      "Downloading 10-Q for RYAAY (2021)...\n"
     ]
    },
    {
     "name": "stderr",
     "output_type": "stream",
     "text": [
      "Downloading SEC Filings:  96%|█████████▌| 477/499 [4:09:51<03:09,  8.59s/it]"
     ]
    },
    {
     "name": "stdout",
     "output_type": "stream",
     "text": [
      "Downloading 10-Q for STT (2000)...\n",
      "Downloading 10-Q for UAL (2017)...\n",
      "Downloading 10-Q for IRM (2007)...\n",
      "Downloading 10-Q for EL (2015)...\n",
      "Downloading 10-Q for DSCSY (2000)...\n",
      "Downloading 10-Q for DSCSY (2001)...\n",
      "Downloading 10-Q for DSCSY (2002)...\n",
      "Downloading 10-Q for DSCSY (2003)...\n",
      "Downloading 10-Q for DSCSY (2004)...\n",
      "Downloading 10-Q for DSCSY (2005)...\n",
      "Downloading 10-Q for DSCSY (2006)...\n",
      "Downloading 10-Q for DOV (2013)...\n",
      "Downloading 10-Q for IRM (2008)...\n",
      "Downloading 10-Q for DSCSY (2007)...\n",
      "Downloading 10-Q for STT (2001)...\n",
      "Downloading 10-Q for UAL (2018)...\n",
      "Downloading 10-Q for DSCSY (2008)...\n",
      "Downloading 10-Q for DSCSY (2009)...\n",
      "Downloading 10-Q for PPL (2017)...\n",
      "Downloading 10-Q for DSCSY (2010)...\n",
      "Downloading 10-Q for EL (2016)...\n",
      "Downloading 10-Q for DSCSY (2011)...\n",
      "Downloading 10-Q for DSCSY (2012)...\n",
      "Downloading 10-Q for DSCSY (2013)...\n",
      "Downloading 10-Q for DSCSY (2014)...\n",
      "Downloading 10-Q for DSCSY (2015)...\n",
      "Downloading 10-Q for IRM (2009)...\n",
      "Downloading 10-Q for DSCSY (2016)...\n",
      "Downloading 10-Q for DSCSY (2017)...\n",
      "Downloading 10-Q for DOV (2014)...\n",
      "Downloading 10-Q for DSCSY (2018)...\n",
      "Downloading 10-Q for STT (2002)...\n",
      "Downloading 10-Q for DSCSY (2019)...\n",
      "Downloading 10-Q for DSCSY (2020)...\n",
      "Downloading 10-Q for DSCSY (2021)...\n",
      "Downloading 10-Q for UAL (2019)...\n"
     ]
    },
    {
     "name": "stderr",
     "output_type": "stream",
     "text": [
      "Downloading SEC Filings:  96%|█████████▌| 478/499 [4:10:02<03:18,  9.46s/it]"
     ]
    },
    {
     "name": "stdout",
     "output_type": "stream",
     "text": [
      "Downloading 10-Q for EL (2017)...\n",
      "Downloading 10-Q for CHKP (2000)...\n",
      "Downloading 10-Q for IRM (2010)...\n",
      "Downloading 10-Q for CHKP (2001)...\n",
      "Downloading 10-Q for PPL (2018)...\n",
      "Downloading 10-Q for CHKP (2002)...\n",
      "Downloading 10-Q for CHKP (2003)...\n",
      "Downloading 10-Q for CHKP (2004)...\n",
      "Downloading 10-Q for STT (2003)...\n",
      "Downloading 10-Q for CHKP (2005)...\n",
      "Downloading 10-Q for CHKP (2006)...\n",
      "Downloading 10-Q for DOV (2015)...\n",
      "Downloading 10-Q for CHKP (2007)...\n",
      "Downloading 10-Q for UAL (2020)...\n",
      "Downloading 10-Q for CHKP (2008)...\n",
      "Downloading 10-Q for CHKP (2009)...\n",
      "Downloading 10-Q for CHKP (2010)...\n",
      "Downloading 10-Q for CHKP (2011)...\n",
      "Downloading 10-Q for CHKP (2012)...\n",
      "Downloading 10-Q for CHKP (2013)...\n",
      "Downloading 10-Q for IRM (2011)...\n",
      "Downloading 10-Q for EL (2018)...\n",
      "Downloading 10-Q for CHKP (2014)...\n",
      "Downloading 10-Q for STT (2004)...\n",
      "Downloading 10-Q for CHKP (2015)...\n",
      "Downloading 10-Q for CHKP (2016)...\n",
      "Downloading 10-Q for DOV (2016)...\n",
      "Downloading 10-Q for CHKP (2017)...\n",
      "Downloading 10-Q for CHKP (2018)...\n",
      "Downloading 10-Q for CHKP (2019)...\n",
      "Downloading 10-Q for PPL (2019)...\n",
      "Downloading 10-Q for CHKP (2020)...\n",
      "Downloading 10-Q for CHKP (2021)...\n"
     ]
    },
    {
     "name": "stderr",
     "output_type": "stream",
     "text": [
      "Downloading SEC Filings:  96%|█████████▌| 479/499 [4:10:14<03:24, 10.21s/it]"
     ]
    },
    {
     "name": "stdout",
     "output_type": "stream",
     "text": [
      "Downloading 10-Q for UAL (2021)...\n",
      "Downloading 10-Q for GDDY (2000)...\n",
      "Downloading 10-Q for GDDY (2001)...\n",
      "Downloading 10-Q for STT (2005)...\n",
      "Downloading 10-Q for DOV (2017)...\n",
      "Downloading 10-Q for GDDY (2002)...\n",
      "Downloading 10-Q for IRM (2012)...\n",
      "Downloading 10-Q for EL (2019)...\n",
      "Downloading 10-Q for GDDY (2003)...\n",
      "Downloading 10-Q for GDDY (2004)...\n",
      "Downloading 10-Q for GDDY (2005)...\n",
      "Downloading 10-Q for DOV (2018)...\n"
     ]
    },
    {
     "name": "stderr",
     "output_type": "stream",
     "text": [
      "Downloading SEC Filings:  96%|█████████▌| 480/499 [4:10:22<03:01,  9.55s/it]"
     ]
    },
    {
     "name": "stdout",
     "output_type": "stream",
     "text": [
      "Downloading 10-Q for GDDY (2006)...\n",
      "Downloading 10-Q for GDDY (2007)...\n",
      "Downloading 10-Q for STT (2006)...\n",
      "Downloading 10-Q for GDDY (2008)...\n",
      "Downloading 10-Q for GDDY (2009)...\n",
      "Downloading 10-Q for PPL (2020)...\n",
      "Downloading 10-Q for GDDY (2010)...\n",
      "Downloading 10-Q for EL (2020)...\n",
      "Downloading 10-Q for IRM (2013)...\n",
      "Downloading 10-Q for GDDY (2011)...\n",
      "Downloading 10-Q for DOV (2019)...\n",
      "Downloading 10-Q for GDDY (2012)...\n",
      "Downloading 10-Q for GDDY (2013)...\n",
      "Downloading 10-Q for STT (2007)...\n",
      "Downloading 10-Q for GDDY (2014)...\n",
      "Downloading 10-Q for GDDY (2015)...\n",
      "Downloading 10-Q for DOV (2020)...\n",
      "Downloading 10-Q for STT (2008)...\n",
      "Downloading 10-Q for EL (2021)...\n",
      "Downloading 10-Q for GDDY (2016)...\n",
      "Downloading 10-Q for IRM (2014)...\n",
      "Downloading 10-Q for STT (2009)...\n",
      "Downloading 10-Q for DOV (2021)...\n",
      "Downloading 10-Q for GDDY (2017)...\n",
      "Downloading 10-Q for IRM (2015)...\n"
     ]
    },
    {
     "name": "stderr",
     "output_type": "stream",
     "text": [
      "Downloading SEC Filings:  96%|█████████▋| 481/499 [4:10:58<05:12, 17.35s/it]"
     ]
    },
    {
     "name": "stdout",
     "output_type": "stream",
     "text": [
      "Downloading 10-Q for STT (2010)...\n"
     ]
    },
    {
     "name": "stderr",
     "output_type": "stream",
     "text": [
      "Downloading SEC Filings:  97%|█████████▋| 482/499 [4:10:59<03:33, 12.56s/it]"
     ]
    },
    {
     "name": "stdout",
     "output_type": "stream",
     "text": [
      "Downloading 10-Q for GDDY (2018)...\n",
      "Downloading 10-Q for IRM (2016)...\n",
      "Downloading 10-Q for STT (2011)...\n",
      "Downloading 10-Q for GDDY (2019)...\n",
      "Downloading 10-Q for IRM (2017)...\n",
      "Downloading 10-Q for STT (2012)...\n",
      "Downloading 10-Q for GDDY (2020)...\n",
      "Downloading 10-Q for IRM (2018)...\n",
      "Downloading 10-Q for PPL (2021)...\n",
      "Downloading 10-Q for GDDY (2021)...\n",
      "Downloading 10-Q for STT (2013)...\n",
      "Downloading 10-Q for IRM (2019)...\n"
     ]
    },
    {
     "name": "stderr",
     "output_type": "stream",
     "text": [
      "Downloading SEC Filings:  97%|█████████▋| 483/499 [4:11:40<05:34, 20.91s/it]"
     ]
    },
    {
     "name": "stdout",
     "output_type": "stream",
     "text": [
      "Downloading 10-Q for IRM (2020)...\n",
      "Downloading 10-Q for STT (2014)...\n"
     ]
    },
    {
     "name": "stderr",
     "output_type": "stream",
     "text": [
      "Downloading SEC Filings:  97%|█████████▋| 484/499 [4:11:47<04:14, 16.95s/it]"
     ]
    },
    {
     "name": "stdout",
     "output_type": "stream",
     "text": [
      "Downloading 10-Q for IRM (2021)...\n",
      "Downloading 10-Q for STT (2015)...\n"
     ]
    },
    {
     "name": "stderr",
     "output_type": "stream",
     "text": [
      "Downloading SEC Filings:  97%|█████████▋| 485/499 [4:12:01<03:42, 15.93s/it]"
     ]
    },
    {
     "name": "stdout",
     "output_type": "stream",
     "text": [
      "Downloading 10-Q for STT (2016)...\n",
      "Downloading 10-Q for STT (2017)...\n",
      "Downloading 10-Q for STT (2018)...\n",
      "Downloading 10-Q for STT (2019)...\n",
      "Downloading 10-Q for STT (2020)...\n",
      "Downloading 10-Q for STT (2021)...\n"
     ]
    },
    {
     "name": "stderr",
     "output_type": "stream",
     "text": [
      "Downloading SEC Filings:  97%|█████████▋| 486/499 [4:15:48<17:11, 79.32s/it]"
     ]
    }
   ],
   "source": [
    "import pandas as pd\n",
    "from tqdm import tqdm\n",
    "from concurrent.futures import ThreadPoolExecutor, as_completed\n",
    "from sec_edgar_downloader import Downloader\n",
    "\n",
    "# Load tickers from CSV\n",
    "file_path = \"companies.csv\"  # Update this path if needed\n",
    "tickers_df = pd.read_csv(file_path, header=None)\n",
    "tickers_df = tickers_df.head(500)\n",
    "tickers = tickers_df.iloc[1:, 1].tolist()  # Extract tickers (ignoring header)\n",
    "\n",
    "# Define forms and years to download\n",
    "years = range(2000, 2022)  # Adjust as needed\n",
    "forms = [\"10-Q\"]  # Forms to download\n",
    "\n",
    "# Function to download filings for each company\n",
    "def download_filings(cik, ticker):\n",
    "    email_address = \"sude.tiras@sabanciuniv.edu\"  # Replace with your email address\n",
    "    dl = Downloader(DOWNLOAD_DIR, email_address)\n",
    "    for form in forms:\n",
    "        for year in years:\n",
    "            try:\n",
    "                print(f\"Downloading {form} for {ticker} ({year})...\")\n",
    "                dl.get(form, cik, after=f\"{year}-01-01\", before=f\"{year}-12-31\")\n",
    "            except Exception as e:\n",
    "                print(f\"Error downloading {form} for {ticker} in {year}: {e}\")\n",
    "\n",
    "# Multi-threaded download\n",
    "def main():\n",
    "    max_threads = 20  # Adjust for SEC rate limits\n",
    "    with ThreadPoolExecutor(max_workers=max_threads) as executor:\n",
    "        futures = {executor.submit(download_filings, ticker, ticker): ticker for ticker in tickers}\n",
    "\n",
    "        for future in tqdm(as_completed(futures), total=len(futures), desc=\"Downloading SEC Filings\"):\n",
    "            ticker = futures[future]\n",
    "            try:\n",
    "                future.result()  # Ensure exceptions are caught\n",
    "            except Exception as e:\n",
    "                print(f\"Error downloading {ticker}: {e}\")\n",
    "\n",
    "    print(\"Download complete!\")\n",
    "\n",
    "if __name__ == \"__main__\":\n",
    "    main()\n"
   ]
  }
 ],
 "metadata": {
  "kernelspec": {
   "display_name": "pythonenv",
   "language": "python",
   "name": "python3"
  },
  "language_info": {
   "codemirror_mode": {
    "name": "ipython",
    "version": 3
   },
   "file_extension": ".py",
   "mimetype": "text/x-python",
   "name": "python",
   "nbconvert_exporter": "python",
   "pygments_lexer": "ipython3",
   "version": "3.12.9"
  }
 },
 "nbformat": 4,
 "nbformat_minor": 2
}
