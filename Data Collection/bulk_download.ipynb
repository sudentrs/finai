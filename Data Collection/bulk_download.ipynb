{
 "cells": [
  {
   "cell_type": "code",
   "execution_count": 1,
   "metadata": {},
   "outputs": [],
   "source": [
    "import os\n",
    "import time\n",
    "import pandas as pd\n",
    "from concurrent.futures import ThreadPoolExecutor, as_completed\n",
    "from tqdm import tqdm\n",
    "from sec_edgar_downloader import Downloader"
   ]
  },
  {
   "cell_type": "code",
   "execution_count": 2,
   "metadata": {},
   "outputs": [],
   "source": [
    "# Constants\n",
    "#HEADERS = {\"User-Agent\": \"Sude sude.tiras@sabanciuniv.edu\"}  # Replace with your details\n",
    "DOWNLOAD_DIR = \"10Q_filings\"\n",
    "YEARS = list(range(2020, 2026))  # 2015 to 2025\n",
    "CSV_FILE = \"companies.csv\"  # Update path if needed"
   ]
  },
  {
   "cell_type": "code",
   "execution_count": 3,
   "metadata": {},
   "outputs": [],
   "source": [
    "# Load the company list from CSV\n",
    "def load_companies(csv_file):\n",
    "    \"\"\"Reads the CSV file and extracts CIK, Ticker, and Company Name\"\"\"\n",
    "    df = pd.read_csv(csv_file, dtype={'CIK': str})  # Ensure CIK remains a string\n",
    "    df['CIK'] = df['CIK'].astype(str).str.zfill(10)  # Ensure 10-digit format\n",
    "\n",
    "    df = df.head(500)  # Limit to the first 500 rows\n",
    "    return df[['CIK', 'Ticker', 'Company Name']].dropna()"
   ]
  },
  {
   "cell_type": "code",
   "execution_count": 4,
   "metadata": {},
   "outputs": [
    {
     "name": "stdout",
     "output_type": "stream",
     "text": [
      "            CIK Ticker                           Company Name\n",
      "0    0000320193   AAPL                             Apple Inc.\n",
      "1    0000789019   MSFT                         MICROSOFT CORP\n",
      "2    0001045810   NVDA                            NVIDIA CORP\n",
      "3    0001018724   AMZN                         AMAZON COM INC\n",
      "4    0001652044  GOOGL                          Alphabet Inc.\n",
      "..          ...    ...                                    ...\n",
      "495  0000093751    STT                      STATE STREET CORP\n",
      "496  0001671750  DSCSY                  Disco Corporation/ADR\n",
      "497  0001015922   CHKP  CHECK POINT SOFTWARE TECHNOLOGIES LTD\n",
      "498  0001609711   GDDY                           GoDaddy Inc.\n",
      "499  0001125259    CUK                           CARNIVAL PLC\n",
      "\n",
      "[500 rows x 3 columns]\n"
     ]
    }
   ],
   "source": [
    "print(load_companies(CSV_FILE))"
   ]
  },
  {
   "cell_type": "code",
   "execution_count": 5,
   "metadata": {},
   "outputs": [],
   "source": [
    "# Function to sanitize company names for file saving\n",
    "def sanitize_filename(name):\n",
    "    \"\"\"Removes special characters and spaces from company names for file naming\"\"\"\n",
    "    return \"\".join(c for c in name if c.isalnum() or c in (\" \", \"_\")).replace(\" \", \"_\")"
   ]
  },
  {
   "cell_type": "code",
   "execution_count": null,
   "metadata": {},
   "outputs": [],
   "source": [
    "# Function to download all 10-Q filings for a given year\n",
    "def download_10q_filings(cik, ticker, company_name, year):\n",
    "    \"\"\"Downloads all available 10-Q filings for a given company and year\"\"\"\n",
    "    try:\n",
    "        email_address = \"sude.tiras@sabanciuniv.edu\"  # Replace with your email address\n",
    "        dl = Downloader(DOWNLOAD_DIR, email_address)\n",
    "        \n",
    "        # Create a company-specific directory\n",
    "        sanitized_name = sanitize_filename(company_name)\n",
    "        company_dir = os.path.join(DOWNLOAD_DIR, sanitized_name)\n",
    "        os.makedirs(company_dir, exist_ok=True)\n",
    "        \n",
    "        # Download all available 10-Q filings\n",
    "        filings = dl.get(\"10-Q\", cik, after=f\"{year}-01-01\", before=f\"{year}-12-31\")\n",
    "\n",
    "\n",
    "        if isinstance(filings, int) or not filings:\n",
    "            # If no 10-Qs are found, try fetching 10-Ks\n",
    "            filings = dl.get(\"10-K\", cik, after=f\"{year}-01-01\", before=f\"{year}-12-31\")\n",
    "\n",
    "        # Move files to the company-specific directory\n",
    "        for i, filing_path in enumerate(filings, start=1):\n",
    "            new_filename = os.path.join(company_dir, f\"{sanitized_name}_10Q_{year}_Q{i}.txt\")\n",
    "            os.rename(filing_path, new_filename)\n",
    "\n",
    "        return f\"Downloaded {len(filings)} 10-Q filings for {company_name} ({ticker}) in {year}\"\n",
    "\n",
    "    except Exception as e:\n",
    "        return f\"Failed {company_name} ({ticker}) {year}: {str(e)}\""
   ]
  },
  {
   "cell_type": "code",
   "execution_count": null,
   "metadata": {},
   "outputs": [
    {
     "name": "stderr",
     "output_type": "stream",
     "text": [
      "  0%|          | 1/3000 [00:03<3:02:04,  3.64s/it]"
     ]
    },
    {
     "name": "stdout",
     "output_type": "stream",
     "text": [
      "No 10-Q or 10-K filings found for Apple Inc. (AAPL) in 2020\n"
     ]
    },
    {
     "name": "stderr",
     "output_type": "stream",
     "text": [
      "  0%|          | 2/3000 [00:07<2:54:20,  3.49s/it]"
     ]
    },
    {
     "name": "stdout",
     "output_type": "stream",
     "text": [
      "No 10-Q or 10-K filings found for Apple Inc. (AAPL) in 2021\n"
     ]
    },
    {
     "name": "stderr",
     "output_type": "stream",
     "text": [
      "  0%|          | 2/3000 [00:10<4:14:27,  5.09s/it]\n"
     ]
    }
   ],
   "source": [
    "# Main function to download all 10-Qs\n",
    "def main():\n",
    "    companies = load_companies(CSV_FILE)\n",
    "    \n",
    "    with ThreadPoolExecutor(max_workers=1) as executor:  # Multi-threaded downloading\n",
    "        future_to_company = {}\n",
    "        for _, row in companies.iterrows():\n",
    "            cik, ticker, company_name = row['CIK'], row['Ticker'], row['Company Name']\n",
    "            for year in YEARS:\n",
    "                future = executor.submit(download_10q_filings, cik, ticker, company_name, year)\n",
    "                future_to_company[future] = (company_name, ticker, year)\n",
    "\n",
    "        # Progress bar\n",
    "        for future in tqdm(as_completed(future_to_company), total=len(future_to_company)):\n",
    "            company_name, ticker, year = future_to_company[future]\n",
    "            try:\n",
    "                result = future.result()\n",
    "                print(result)\n",
    "            except Exception as e:\n",
    "                print(f\"Error downloading {company_name} ({ticker}) {year}: {e}\")\n",
    "\n",
    "if __name__ == \"__main__\":\n",
    "    main()\n"
   ]
  },
  {
   "cell_type": "code",
   "execution_count": null,
   "metadata": {},
   "outputs": [
    {
     "name": "stdout",
     "output_type": "stream",
     "text": [
      "🔍 Checking 10-Q filings for Apple Inc. (AAPL) in 2015...\n",
      "🔍 Checking 10-Q filings for Apple Inc. (AAPL) in 2019...\n",
      "🔍 Checking 10-Q filings for Apple Inc. (AAPL) in 2016...\n",
      "🔍 Checking 10-Q filings for Apple Inc. (AAPL) in 2018...\n",
      "🔍 Checking 10-Q filings for Apple Inc. (AAPL) in 2017...\n",
      "✅ Successfully downloaded 3 filings for Apple Inc. in 2015\n",
      "✅ Successfully downloaded 3 filings for Apple Inc. in 2016\n",
      "✅ Successfully downloaded 3 filings for Apple Inc. in 2018\n",
      "✅ Successfully downloaded 3 filings for Apple Inc. in 2019\n",
      "✅ Successfully downloaded 3 filings for Apple Inc. in 2017\n",
      "🔍 Checking 10-Q filings for Apple Inc. (AAPL) in 2021...\n",
      "🔍 Checking 10-Q filings for Apple Inc. (AAPL) in 2020...\n"
     ]
    },
    {
     "name": "stderr",
     "output_type": "stream",
     "text": [
      "  0%|          | 0/106909 [00:00<?, ?it/s]"
     ]
    },
    {
     "name": "stdout",
     "output_type": "stream",
     "text": [
      "None\n",
      "None\n",
      "None\n",
      "None\n",
      "None\n",
      "🔍 Checking 10-Q filings for Apple Inc. (AAPL) in 2022...\n",
      "🔍 Checking 10-Q filings for Apple Inc. (AAPL) in 2023...\n",
      "🔍 Checking 10-Q filings for Apple Inc. (AAPL) in 2024...\n"
     ]
    },
    {
     "name": "stderr",
     "output_type": "stream",
     "text": [
      "  0%|          | 6/106909 [00:00<4:40:35,  6.35it/s]"
     ]
    },
    {
     "name": "stdout",
     "output_type": "stream",
     "text": [
      "✅ Successfully downloaded 3 filings for Apple Inc. in 2020\n",
      "None\n",
      "✅ Successfully downloaded 3 filings for Apple Inc. in 2021\n",
      "None\n"
     ]
    },
    {
     "name": "stderr",
     "output_type": "stream",
     "text": [
      "  0%|          | 8/106909 [00:01<4:41:09,  6.34it/s]"
     ]
    },
    {
     "name": "stdout",
     "output_type": "stream",
     "text": [
      "✅ Successfully downloaded 3 filings for Apple Inc. in 2022\n",
      "None\n",
      "✅ Successfully downloaded 3 filings for Apple Inc. in 2024\n",
      "None\n",
      "🔍 Checking 10-Q filings for Apple Inc. (AAPL) in 2025...\n",
      "🔍 Checking 10-Q filings for MICROSOFT CORP (MSFT) in 2015...\n"
     ]
    },
    {
     "name": "stderr",
     "output_type": "stream",
     "text": [
      "  0%|          | 10/106909 [00:01<4:13:41,  7.02it/s]"
     ]
    },
    {
     "name": "stdout",
     "output_type": "stream",
     "text": [
      "✅ Successfully downloaded 3 filings for Apple Inc. in 2023\n",
      "None\n",
      "🔍 Checking 10-Q filings for MICROSOFT CORP (MSFT) in 2016...\n",
      "🔍 Checking 10-Q filings for MICROSOFT CORP (MSFT) in 2017...\n",
      "🔍 Checking 10-Q filings for MICROSOFT CORP (MSFT) in 2018...\n"
     ]
    },
    {
     "name": "stderr",
     "output_type": "stream",
     "text": [
      "  0%|          | 11/106909 [00:02<9:34:00,  3.10it/s]"
     ]
    },
    {
     "name": "stdout",
     "output_type": "stream",
     "text": [
      "✅ Successfully downloaded 1 filings for Apple Inc. in 2025\n",
      "None\n"
     ]
    },
    {
     "name": "stderr",
     "output_type": "stream",
     "text": [
      "  0%|          | 12/106909 [00:03<10:43:56,  2.77it/s]"
     ]
    },
    {
     "name": "stdout",
     "output_type": "stream",
     "text": [
      "🔍 Checking 10-Q filings for MICROSOFT CORP (MSFT) in 2019...\n",
      "✅ Successfully downloaded 3 filings for MICROSOFT CORP in 2015\n",
      "None\n"
     ]
    },
    {
     "name": "stderr",
     "output_type": "stream",
     "text": [
      "  0%|          | 14/106909 [00:03<8:51:40,  3.35it/s] "
     ]
    },
    {
     "name": "stdout",
     "output_type": "stream",
     "text": [
      "✅ Successfully downloaded 3 filings for MICROSOFT CORP in 2016\n",
      "None\n",
      "🔍 Checking 10-Q filings for MICROSOFT CORP (MSFT) in 2020...\n",
      "✅ Successfully downloaded 3 filings for MICROSOFT CORP in 2017\n",
      "None\n"
     ]
    },
    {
     "name": "stderr",
     "output_type": "stream",
     "text": [
      "  0%|          | 15/106909 [00:03<7:47:35,  3.81it/s]"
     ]
    },
    {
     "name": "stdout",
     "output_type": "stream",
     "text": [
      "✅ Successfully downloaded 3 filings for MICROSOFT CORP in 2018\n",
      "None\n",
      "🔍 Checking 10-Q filings for MICROSOFT CORP (MSFT) in 2021...\n",
      "🔍 Checking 10-Q filings for MICROSOFT CORP (MSFT) in 2023...\n",
      "🔍 Checking 10-Q filings for MICROSOFT CORP (MSFT) in 2022...\n"
     ]
    },
    {
     "name": "stderr",
     "output_type": "stream",
     "text": [
      "  0%|          | 16/106909 [00:04<14:15:53,  2.08it/s]"
     ]
    },
    {
     "name": "stdout",
     "output_type": "stream",
     "text": [
      "✅ Successfully downloaded 3 filings for MICROSOFT CORP in 2019\n",
      "None\n"
     ]
    },
    {
     "name": "stderr",
     "output_type": "stream",
     "text": [
      "  0%|          | 17/106909 [00:05<13:47:44,  2.15it/s]"
     ]
    },
    {
     "name": "stdout",
     "output_type": "stream",
     "text": [
      "✅ Successfully downloaded 3 filings for MICROSOFT CORP in 2020\n",
      "None\n",
      "🔍 Checking 10-Q filings for MICROSOFT CORP (MSFT) in 2024...\n"
     ]
    },
    {
     "name": "stderr",
     "output_type": "stream",
     "text": [
      "  0%|          | 18/106909 [00:05<12:05:47,  2.45it/s]"
     ]
    },
    {
     "name": "stdout",
     "output_type": "stream",
     "text": [
      "✅ Successfully downloaded 3 filings for MICROSOFT CORP in 2021\n",
      "None\n",
      "🔍 Checking 10-Q filings for MICROSOFT CORP (MSFT) in 2025...\n"
     ]
    },
    {
     "name": "stderr",
     "output_type": "stream",
     "text": [
      "  0%|          | 19/106909 [00:05<12:18:53,  2.41it/s]"
     ]
    },
    {
     "name": "stdout",
     "output_type": "stream",
     "text": [
      "✅ Successfully downloaded 3 filings for MICROSOFT CORP in 2023\n",
      "✅ Successfully downloaded 3 filings for MICROSOFT CORP in 2022\n",
      "None\n",
      "None\n",
      "🔍 Checking 10-Q filings for NVIDIA CORP (NVDA) in 2015...\n",
      "🔍 Checking 10-Q filings for NVIDIA CORP (NVDA) in 2016...\n",
      "🔍 Checking 10-Q filings for NVIDIA CORP (NVDA) in 2017...\n"
     ]
    },
    {
     "name": "stderr",
     "output_type": "stream",
     "text": [
      "  0%|          | 22/106909 [00:07<11:18:13,  2.63it/s]"
     ]
    },
    {
     "name": "stdout",
     "output_type": "stream",
     "text": [
      "✅ Successfully downloaded 3 filings for MICROSOFT CORP in 2024\n",
      "None\n",
      "✅ Successfully downloaded 3 filings for NVIDIA CORP in 2015\n",
      "None\n"
     ]
    },
    {
     "name": "stderr",
     "output_type": "stream",
     "text": [
      "  0%|          | 25/106909 [00:07<7:06:19,  4.18it/s] "
     ]
    },
    {
     "name": "stdout",
     "output_type": "stream",
     "text": [
      "✅ Successfully downloaded 1 filings for MICROSOFT CORP in 2025\n",
      "None\n",
      "🔍 Checking 10-Q filings for NVIDIA CORP (NVDA) in 2018...\n",
      "✅ Successfully downloaded 3 filings for NVIDIA CORP in 2016\n",
      "None\n",
      "✅ Successfully downloaded 3 filings for NVIDIA CORP in 2017\n",
      "None\n",
      "🔍 Checking 10-Q filings for NVIDIA CORP (NVDA) in 2019...\n",
      "🔍 Checking 10-Q filings for NVIDIA CORP (NVDA) in 2020...\n",
      "🔍 Checking 10-Q filings for NVIDIA CORP (NVDA) in 2021...\n",
      "🔍 Checking 10-Q filings for NVIDIA CORP (NVDA) in 2022...\n"
     ]
    },
    {
     "name": "stderr",
     "output_type": "stream",
     "text": [
      "  0%|          | 26/106909 [00:08<12:24:27,  2.39it/s]"
     ]
    },
    {
     "name": "stdout",
     "output_type": "stream",
     "text": [
      "✅ Successfully downloaded 3 filings for NVIDIA CORP in 2018\n",
      "None\n"
     ]
    },
    {
     "name": "stderr",
     "output_type": "stream",
     "text": [
      "  0%|          | 27/106909 [00:08<11:24:20,  2.60it/s]"
     ]
    },
    {
     "name": "stdout",
     "output_type": "stream",
     "text": [
      "✅ Successfully downloaded 3 filings for NVIDIA CORP in 2019\n",
      "None\n",
      "🔍 Checking 10-Q filings for NVIDIA CORP (NVDA) in 2023...\n"
     ]
    },
    {
     "name": "stderr",
     "output_type": "stream",
     "text": [
      "  0%|          | 28/106909 [00:09<11:10:55,  2.66it/s]"
     ]
    },
    {
     "name": "stdout",
     "output_type": "stream",
     "text": [
      "✅ Successfully downloaded 3 filings for NVIDIA CORP in 2020\n",
      "None\n",
      "🔍 Checking 10-Q filings for NVIDIA CORP (NVDA) in 2024...\n"
     ]
    },
    {
     "name": "stderr",
     "output_type": "stream",
     "text": [
      "  0%|          | 29/106909 [00:09<10:02:15,  2.96it/s]"
     ]
    },
    {
     "name": "stdout",
     "output_type": "stream",
     "text": [
      "✅ Successfully downloaded 3 filings for NVIDIA CORP in 2022\n",
      "None\n",
      "✅ Successfully downloaded 3 filings for NVIDIA CORP in 2021\n",
      "None\n",
      "🔍 Checking 10-Q filings for NVIDIA CORP (NVDA) in 2025...\n",
      "🔍 Checking 10-Q filings for AMAZON COM INC (AMZN) in 2016...\n",
      "🔍 Checking 10-Q filings for AMAZON COM INC (AMZN) in 2015...\n"
     ]
    },
    {
     "name": "stderr",
     "output_type": "stream",
     "text": [
      "  0%|          | 31/106909 [00:10<11:09:00,  2.66it/s]"
     ]
    },
    {
     "name": "stdout",
     "output_type": "stream",
     "text": [
      "✅ Successfully downloaded 3 filings for NVIDIA CORP in 2023\n",
      "None\n"
     ]
    },
    {
     "name": "stderr",
     "output_type": "stream",
     "text": [
      "  0%|          | 32/106909 [00:10<11:37:25,  2.55it/s]"
     ]
    },
    {
     "name": "stdout",
     "output_type": "stream",
     "text": [
      "✅ Successfully downloaded 3 filings for NVIDIA CORP in 2024\n",
      "None\n",
      "🔍 Checking 10-Q filings for AMAZON COM INC (AMZN) in 2017...\n"
     ]
    },
    {
     "name": "stderr",
     "output_type": "stream",
     "text": [
      "  0%|          | 33/106909 [00:11<11:19:07,  2.62it/s]"
     ]
    },
    {
     "name": "stdout",
     "output_type": "stream",
     "text": [
      "✅ Successfully downloaded 0 filings for NVIDIA CORP in 2025\n",
      "None\n",
      "🔍 Checking 10-Q filings for AMAZON COM INC (AMZN) in 2018...\n",
      "🔍 Checking 10-Q filings for AMAZON COM INC (AMZN) in 2019...\n"
     ]
    },
    {
     "name": "stderr",
     "output_type": "stream",
     "text": [
      "  0%|          | 34/106909 [00:14<35:00:39,  1.18s/it]"
     ]
    },
    {
     "name": "stdout",
     "output_type": "stream",
     "text": [
      "✅ Successfully downloaded 3 filings for AMAZON COM INC in 2015\n",
      "None\n"
     ]
    },
    {
     "name": "stderr",
     "output_type": "stream",
     "text": [
      "  0%|          | 35/106909 [00:14<29:12:14,  1.02it/s]"
     ]
    },
    {
     "name": "stdout",
     "output_type": "stream",
     "text": [
      "✅ Successfully downloaded 3 filings for AMAZON COM INC in 2016\n",
      "None\n",
      "🔍 Checking 10-Q filings for AMAZON COM INC (AMZN) in 2020...\n"
     ]
    },
    {
     "name": "stderr",
     "output_type": "stream",
     "text": [
      "  0%|          | 36/106909 [00:15<26:17:34,  1.13it/s]"
     ]
    },
    {
     "name": "stdout",
     "output_type": "stream",
     "text": [
      "✅ Successfully downloaded 3 filings for AMAZON COM INC in 2017\n",
      "None\n",
      "🔍 Checking 10-Q filings for AMAZON COM INC (AMZN) in 2021...\n"
     ]
    },
    {
     "name": "stderr",
     "output_type": "stream",
     "text": [
      "  0%|          | 37/106909 [00:16<23:42:57,  1.25it/s]"
     ]
    },
    {
     "name": "stdout",
     "output_type": "stream",
     "text": [
      "✅ Successfully downloaded 3 filings for AMAZON COM INC in 2018\n",
      "None\n",
      "🔍 Checking 10-Q filings for AMAZON COM INC (AMZN) in 2022...\n"
     ]
    },
    {
     "name": "stderr",
     "output_type": "stream",
     "text": [
      "  0%|          | 39/106909 [00:16<15:20:52,  1.93it/s]"
     ]
    },
    {
     "name": "stdout",
     "output_type": "stream",
     "text": [
      "✅ Successfully downloaded 3 filings for AMAZON COM INC in 2019\n",
      "None\n",
      "✅ Successfully downloaded 3 filings for AMAZON COM INC in 2020\n",
      "None\n"
     ]
    },
    {
     "name": "stderr",
     "output_type": "stream",
     "text": [
      "  0%|          | 40/106909 [00:16<13:07:25,  2.26it/s]"
     ]
    },
    {
     "name": "stdout",
     "output_type": "stream",
     "text": [
      "🔍 Checking 10-Q filings for AMAZON COM INC (AMZN) in 2023...\n",
      "✅ Successfully downloaded 3 filings for AMAZON COM INC in 2021\n",
      "None\n",
      "🔍 Checking 10-Q filings for AMAZON COM INC (AMZN) in 2024...\n",
      "🔍 Checking 10-Q filings for AMAZON COM INC (AMZN) in 2025...\n"
     ]
    },
    {
     "name": "stderr",
     "output_type": "stream",
     "text": [
      "  0%|          | 41/106909 [00:17<12:54:17,  2.30it/s]"
     ]
    },
    {
     "name": "stdout",
     "output_type": "stream",
     "text": [
      "🔍 Checking 10-Q filings for Alphabet Inc. (GOOGL) in 2015...\n",
      "✅ Successfully downloaded 3 filings for AMAZON COM INC in 2022\n",
      "None\n"
     ]
    },
    {
     "name": "stderr",
     "output_type": "stream",
     "text": [
      "  0%|          | 42/106909 [00:17<12:55:34,  2.30it/s]"
     ]
    },
    {
     "name": "stdout",
     "output_type": "stream",
     "text": [
      "✅ Successfully downloaded 3 filings for AMAZON COM INC in 2023\n",
      "None\n",
      "🔍 Checking 10-Q filings for Alphabet Inc. (GOOGL) in 2016...\n"
     ]
    },
    {
     "name": "stderr",
     "output_type": "stream",
     "text": [
      "  0%|          | 44/106909 [00:18<9:06:15,  3.26it/s] "
     ]
    },
    {
     "name": "stdout",
     "output_type": "stream",
     "text": [
      "✅ Successfully downloaded 3 filings for AMAZON COM INC in 2024\n",
      "None\n",
      "✅ Successfully downloaded 0 filings for AMAZON COM INC in 2025\n",
      "None\n",
      "🔍 Checking 10-Q filings for Alphabet Inc. (GOOGL) in 2017...\n",
      "🔍 Checking 10-Q filings for Alphabet Inc. (GOOGL) in 2018...\n",
      "🔍 Checking 10-Q filings for Alphabet Inc. (GOOGL) in 2019...\n"
     ]
    },
    {
     "name": "stderr",
     "output_type": "stream",
     "text": [
      "  0%|          | 45/106909 [00:19<16:09:51,  1.84it/s]"
     ]
    },
    {
     "name": "stdout",
     "output_type": "stream",
     "text": [
      "✅ Successfully downloaded 1 filings for Alphabet Inc. in 2015\n",
      "None\n",
      "🔍 Checking 10-Q filings for Alphabet Inc. (GOOGL) in 2020...\n"
     ]
    },
    {
     "name": "stderr",
     "output_type": "stream",
     "text": [
      "  0%|          | 46/106909 [00:21<30:09:48,  1.02s/it]"
     ]
    },
    {
     "name": "stdout",
     "output_type": "stream",
     "text": [
      "✅ Successfully downloaded 3 filings for Alphabet Inc. in 2020\n",
      "None\n",
      "🔍 Checking 10-Q filings for Alphabet Inc. (GOOGL) in 2021...\n"
     ]
    },
    {
     "name": "stderr",
     "output_type": "stream",
     "text": [
      "  0%|          | 47/106909 [00:23<41:38:30,  1.40s/it]"
     ]
    },
    {
     "name": "stdout",
     "output_type": "stream",
     "text": [
      "✅ Successfully downloaded 3 filings for Alphabet Inc. in 2021\n",
      "None\n",
      "✅ Successfully downloaded 3 filings for Alphabet Inc. in 2017\n",
      "None\n",
      "✅ Successfully downloaded 3 filings for Alphabet Inc. in 2016\n",
      "None\n"
     ]
    },
    {
     "name": "stderr",
     "output_type": "stream",
     "text": [
      "  0%|          | 50/106909 [00:24<21:26:17,  1.38it/s]"
     ]
    },
    {
     "name": "stdout",
     "output_type": "stream",
     "text": [
      "✅ Successfully downloaded 3 filings for Alphabet Inc. in 2018\n",
      "None\n"
     ]
    },
    {
     "name": "stderr",
     "output_type": "stream",
     "text": [
      "  0%|          | 51/106909 [00:24<19:03:06,  1.56it/s]"
     ]
    },
    {
     "name": "stdout",
     "output_type": "stream",
     "text": [
      "🔍 Checking 10-Q filings for Alphabet Inc. (GOOGL) in 2022...\n",
      "✅ Successfully downloaded 3 filings for Alphabet Inc. in 2019\n",
      "None\n",
      "🔍 Checking 10-Q filings for Alphabet Inc. (GOOGL) in 2024...\n",
      "🔍 Checking 10-Q filings for Alphabet Inc. (GOOGL) in 2023...\n",
      "🔍 Checking 10-Q filings for Alphabet Inc. (GOOGL) in 2025...\n",
      "🔍 Checking 10-Q filings for Meta Platforms, Inc. (META) in 2015...\n"
     ]
    },
    {
     "name": "stderr",
     "output_type": "stream",
     "text": [
      "  0%|          | 52/106909 [00:25<21:01:56,  1.41it/s]"
     ]
    },
    {
     "name": "stdout",
     "output_type": "stream",
     "text": [
      "✅ Successfully downloaded 3 filings for Alphabet Inc. in 2024\n",
      "None\n",
      "✅ Successfully downloaded 3 filings for Alphabet Inc. in 2022\n",
      "None\n",
      "✅ Successfully downloaded 3 filings for Alphabet Inc. in 2023\n",
      "None\n"
     ]
    },
    {
     "name": "stderr",
     "output_type": "stream",
     "text": [
      "  0%|          | 55/106909 [00:25<12:06:44,  2.45it/s]"
     ]
    },
    {
     "name": "stdout",
     "output_type": "stream",
     "text": [
      "✅ Successfully downloaded 0 filings for Alphabet Inc. in 2025\n",
      "None\n",
      "🔍 Checking 10-Q filings for Meta Platforms, Inc. (META) in 2016...\n",
      "🔍 Checking 10-Q filings for Meta Platforms, Inc. (META) in 2017...\n",
      "🔍 Checking 10-Q filings for Meta Platforms, Inc. (META) in 2018...\n",
      "🔍 Checking 10-Q filings for Meta Platforms, Inc. (META) in 2019...\n"
     ]
    },
    {
     "name": "stderr",
     "output_type": "stream",
     "text": [
      "  0%|          | 56/106909 [00:32<48:26:25,  1.63s/it]"
     ]
    },
    {
     "name": "stdout",
     "output_type": "stream",
     "text": [
      "✅ Successfully downloaded 3 filings for Meta Platforms, Inc. in 2019\n",
      "None\n"
     ]
    },
    {
     "name": "stderr",
     "output_type": "stream",
     "text": [
      "  0%|          | 57/106909 [00:33<44:19:13,  1.49s/it]"
     ]
    },
    {
     "name": "stdout",
     "output_type": "stream",
     "text": [
      "✅ Successfully downloaded 3 filings for Meta Platforms, Inc. in 2017✅ Successfully downloaded 3 filings for Meta Platforms, Inc. in 2018\n",
      "None\n",
      "\n",
      "None\n",
      "🔍 Checking 10-Q filings for Meta Platforms, Inc. (META) in 2020...\n"
     ]
    },
    {
     "name": "stderr",
     "output_type": "stream",
     "text": [
      "  0%|          | 59/106909 [00:33<29:26:42,  1.01it/s]"
     ]
    },
    {
     "name": "stdout",
     "output_type": "stream",
     "text": [
      "✅ Successfully downloaded 3 filings for Meta Platforms, Inc. in 2016\n",
      "None\n",
      "🔍 Checking 10-Q filings for Meta Platforms, Inc. (META) in 2022...\n",
      "🔍 Checking 10-Q filings for Meta Platforms, Inc. (META) in 2021...\n",
      "🔍 Checking 10-Q filings for Meta Platforms, Inc. (META) in 2023...\n"
     ]
    },
    {
     "name": "stderr",
     "output_type": "stream",
     "text": [
      "  0%|          | 61/106909 [00:35<24:04:52,  1.23it/s]"
     ]
    },
    {
     "name": "stdout",
     "output_type": "stream",
     "text": [
      "✅ Successfully downloaded 3 filings for Meta Platforms, Inc. in 2015\n",
      "None\n",
      "✅ Successfully downloaded 3 filings for Meta Platforms, Inc. in 2020\n",
      "None\n"
     ]
    },
    {
     "name": "stderr",
     "output_type": "stream",
     "text": [
      "  0%|          | 62/106909 [00:35<19:52:12,  1.49it/s]"
     ]
    },
    {
     "name": "stdout",
     "output_type": "stream",
     "text": [
      "✅ Successfully downloaded 3 filings for Meta Platforms, Inc. in 2022\n",
      "None\n",
      "🔍 Checking 10-Q filings for Meta Platforms, Inc. (META) in 2024...\n"
     ]
    },
    {
     "name": "stderr",
     "output_type": "stream",
     "text": [
      "  0%|          | 63/106909 [00:35<17:01:18,  1.74it/s]"
     ]
    },
    {
     "name": "stdout",
     "output_type": "stream",
     "text": [
      "🔍 Checking 10-Q filings for Meta Platforms, Inc. (META) in 2025...\n",
      "✅ Successfully downloaded 3 filings for Meta Platforms, Inc. in 2023\n",
      "None\n",
      "✅ Successfully downloaded 3 filings for Meta Platforms, Inc. in 2021\n",
      "None\n",
      "🔍 Checking 10-Q filings for BERKSHIRE HATHAWAY INC (BRK-B) in 2015...\n",
      "🔍 Checking 10-Q filings for BERKSHIRE HATHAWAY INC (BRK-B) in 2016...\n",
      "🔍 Checking 10-Q filings for BERKSHIRE HATHAWAY INC (BRK-B) in 2017...\n"
     ]
    },
    {
     "name": "stderr",
     "output_type": "stream",
     "text": [
      "  0%|          | 66/106909 [00:37<15:55:20,  1.86it/s]"
     ]
    },
    {
     "name": "stdout",
     "output_type": "stream",
     "text": [
      "✅ Successfully downloaded 3 filings for Meta Platforms, Inc. in 2024\n",
      "None\n",
      "✅ Successfully downloaded 0 filings for Meta Platforms, Inc. in 2025\n",
      "None\n",
      "🔍 Checking 10-Q filings for BERKSHIRE HATHAWAY INC (BRK-B) in 2018...\n",
      "🔍 Checking 10-Q filings for BERKSHIRE HATHAWAY INC (BRK-B) in 2019...\n"
     ]
    },
    {
     "name": "stderr",
     "output_type": "stream",
     "text": [
      "  0%|          | 67/106909 [00:40<34:13:28,  1.15s/it]"
     ]
    },
    {
     "name": "stdout",
     "output_type": "stream",
     "text": [
      "✅ Successfully downloaded 3 filings for BERKSHIRE HATHAWAY INC in 2015\n",
      "None\n",
      "✅ Successfully downloaded 3 filings for BERKSHIRE HATHAWAY INC in 2016\n",
      "None\n"
     ]
    },
    {
     "name": "stderr",
     "output_type": "stream",
     "text": [
      "  0%|          | 69/106909 [00:40<23:16:55,  1.27it/s]"
     ]
    },
    {
     "name": "stdout",
     "output_type": "stream",
     "text": [
      "✅ Successfully downloaded 3 filings for BERKSHIRE HATHAWAY INC in 2017\n",
      "None\n",
      "🔍 Checking 10-Q filings for BERKSHIRE HATHAWAY INC (BRK-B) in 2021...\n",
      "🔍 Checking 10-Q filings for BERKSHIRE HATHAWAY INC (BRK-B) in 2020...\n",
      "🔍 Checking 10-Q filings for BERKSHIRE HATHAWAY INC (BRK-B) in 2022...\n"
     ]
    },
    {
     "name": "stderr",
     "output_type": "stream",
     "text": [
      "  0%|          | 71/106909 [00:42<20:12:51,  1.47it/s]"
     ]
    },
    {
     "name": "stdout",
     "output_type": "stream",
     "text": [
      "✅ Successfully downloaded 3 filings for BERKSHIRE HATHAWAY INC in 2021\n",
      "None\n",
      "✅ Successfully downloaded 3 filings for BERKSHIRE HATHAWAY INC in 2020\n",
      "None\n",
      "✅ Successfully downloaded 3 filings for BERKSHIRE HATHAWAY INC in 2018\n",
      "None\n"
     ]
    },
    {
     "name": "stderr",
     "output_type": "stream",
     "text": [
      "  0%|          | 73/106909 [00:42<14:46:41,  2.01it/s]"
     ]
    },
    {
     "name": "stdout",
     "output_type": "stream",
     "text": [
      "✅ Successfully downloaded 3 filings for BERKSHIRE HATHAWAY INC in 2022\n",
      "None\n",
      "🔍 Checking 10-Q filings for BERKSHIRE HATHAWAY INC (BRK-B) in 2023...\n",
      "🔍 Checking 10-Q filings for BERKSHIRE HATHAWAY INC (BRK-B) in 2024...\n",
      "🔍 Checking 10-Q filings for BERKSHIRE HATHAWAY INC (BRK-B) in 2025...\n",
      "🔍 Checking 10-Q filings for Broadcom Inc. (AVGO) in 2015...\n"
     ]
    },
    {
     "name": "stderr",
     "output_type": "stream",
     "text": [
      "  0%|          | 75/106909 [00:43<14:41:30,  2.02it/s]"
     ]
    },
    {
     "name": "stdout",
     "output_type": "stream",
     "text": [
      "✅ Successfully downloaded 3 filings for BERKSHIRE HATHAWAY INC in 2023\n",
      "None\n",
      "✅ Successfully downloaded 0 filings for Broadcom Inc. in 2015\n",
      "None\n"
     ]
    },
    {
     "name": "stderr",
     "output_type": "stream",
     "text": [
      "  0%|          | 78/106909 [00:43<7:58:44,  3.72it/s] "
     ]
    },
    {
     "name": "stdout",
     "output_type": "stream",
     "text": [
      "✅ Successfully downloaded 3 filings for BERKSHIRE HATHAWAY INC in 2024\n",
      "None\n",
      "✅ Successfully downloaded 0 filings for BERKSHIRE HATHAWAY INC in 2025\n",
      "None\n",
      "✅ Successfully downloaded 3 filings for BERKSHIRE HATHAWAY INC in 2019\n",
      "None\n",
      "🔍 Checking 10-Q filings for Broadcom Inc. (AVGO) in 2016...\n",
      "🔍 Checking 10-Q filings for Broadcom Inc. (AVGO) in 2017...\n",
      "🔍 Checking 10-Q filings for Broadcom Inc. (AVGO) in 2018...\n",
      "🔍 Checking 10-Q filings for Broadcom Inc. (AVGO) in 2019...\n",
      "🔍 Checking 10-Q filings for Broadcom Inc. (AVGO) in 2020...\n"
     ]
    },
    {
     "name": "stderr",
     "output_type": "stream",
     "text": [
      "  0%|          | 79/106909 [00:44<10:27:34,  2.84it/s]"
     ]
    },
    {
     "name": "stdout",
     "output_type": "stream",
     "text": [
      "✅ Successfully downloaded 0 filings for Broadcom Inc. in 2016\n",
      "None\n",
      "✅ Successfully downloaded 0 filings for Broadcom Inc. in 2017\n",
      "None\n"
     ]
    },
    {
     "name": "stderr",
     "output_type": "stream",
     "text": [
      "  0%|          | 81/106909 [00:45<10:07:03,  2.93it/s]"
     ]
    },
    {
     "name": "stdout",
     "output_type": "stream",
     "text": [
      "🔍 Checking 10-Q filings for Broadcom Inc. (AVGO) in 2021...\n",
      "✅ Successfully downloaded 3 filings for Broadcom Inc. in 2020\n",
      "None\n",
      "🔍 Checking 10-Q filings for Broadcom Inc. (AVGO) in 2022...\n"
     ]
    },
    {
     "name": "stderr",
     "output_type": "stream",
     "text": [
      "  0%|          | 82/106909 [00:45<10:05:30,  2.94it/s]"
     ]
    },
    {
     "name": "stdout",
     "output_type": "stream",
     "text": [
      "✅ Successfully downloaded 3 filings for Broadcom Inc. in 2021\n",
      "None\n"
     ]
    },
    {
     "name": "stderr",
     "output_type": "stream",
     "text": [
      "  0%|          | 83/106909 [00:46<10:22:36,  2.86it/s]"
     ]
    },
    {
     "name": "stdout",
     "output_type": "stream",
     "text": [
      "✅ Successfully downloaded 3 filings for Broadcom Inc. in 2022\n",
      "None\n",
      "🔍 Checking 10-Q filings for Broadcom Inc. (AVGO) in 2023...\n"
     ]
    },
    {
     "name": "stderr",
     "output_type": "stream",
     "text": [
      "  0%|          | 84/106909 [00:46<12:39:55,  2.34it/s]"
     ]
    },
    {
     "name": "stdout",
     "output_type": "stream",
     "text": [
      "🔍 Checking 10-Q filings for Broadcom Inc. (AVGO) in 2024...\n",
      "✅ Successfully downloaded 3 filings for Broadcom Inc. in 2023\n",
      "None\n",
      "🔍 Checking 10-Q filings for Broadcom Inc. (AVGO) in 2025...\n"
     ]
    },
    {
     "name": "stderr",
     "output_type": "stream",
     "text": [
      "  0%|          | 85/106909 [00:47<13:06:00,  2.27it/s]"
     ]
    },
    {
     "name": "stdout",
     "output_type": "stream",
     "text": [
      "✅ Successfully downloaded 3 filings for Broadcom Inc. in 2024\n",
      "None\n"
     ]
    },
    {
     "name": "stderr",
     "output_type": "stream",
     "text": [
      "  0%|          | 86/106909 [00:47<13:53:34,  2.14it/s]"
     ]
    },
    {
     "name": "stdout",
     "output_type": "stream",
     "text": [
      "🔍 Checking 10-Q filings for TAIWAN SEMICONDUCTOR MANUFACTURING CO LTD (TSM) in 2015...\n",
      "✅ Successfully downloaded 1 filings for Broadcom Inc. in 2025\n",
      "None\n"
     ]
    },
    {
     "name": "stderr",
     "output_type": "stream",
     "text": [
      "  0%|          | 87/106909 [00:48<14:27:51,  2.05it/s]"
     ]
    },
    {
     "name": "stdout",
     "output_type": "stream",
     "text": [
      "✅ Successfully downloaded 2 filings for Broadcom Inc. in 2018\n",
      "None\n",
      "🔍 Checking 10-Q filings for TAIWAN SEMICONDUCTOR MANUFACTURING CO LTD (TSM) in 2016...\n",
      "🔍 Checking 10-Q filings for TAIWAN SEMICONDUCTOR MANUFACTURING CO LTD (TSM) in 2017...\n"
     ]
    },
    {
     "name": "stderr",
     "output_type": "stream",
     "text": [
      "  0%|          | 88/106909 [00:48<15:32:44,  1.91it/s]"
     ]
    },
    {
     "name": "stdout",
     "output_type": "stream",
     "text": [
      "🔍 Checking 10-Q filings for TAIWAN SEMICONDUCTOR MANUFACTURING CO LTD (TSM) in 2018...\n",
      "✅ Successfully downloaded 0 filings for TAIWAN SEMICONDUCTOR MANUFACTURING CO LTD in 2015\n",
      "None\n"
     ]
    },
    {
     "name": "stderr",
     "output_type": "stream",
     "text": [
      "  0%|          | 89/106909 [00:49<13:58:42,  2.12it/s]"
     ]
    },
    {
     "name": "stdout",
     "output_type": "stream",
     "text": [
      "✅ Successfully downloaded 0 filings for TAIWAN SEMICONDUCTOR MANUFACTURING CO LTD in 2016\n",
      "None\n"
     ]
    },
    {
     "name": "stderr",
     "output_type": "stream",
     "text": [
      "  0%|          | 90/106909 [00:49<13:20:01,  2.23it/s]"
     ]
    },
    {
     "name": "stdout",
     "output_type": "stream",
     "text": [
      "🔍 Checking 10-Q filings for TAIWAN SEMICONDUCTOR MANUFACTURING CO LTD (TSM) in 2019...\n",
      "✅ Successfully downloaded 0 filings for TAIWAN SEMICONDUCTOR MANUFACTURING CO LTD in 2017\n",
      "None\n"
     ]
    },
    {
     "name": "stderr",
     "output_type": "stream",
     "text": [
      "  0%|          | 91/106909 [00:49<11:34:50,  2.56it/s]"
     ]
    },
    {
     "name": "stdout",
     "output_type": "stream",
     "text": [
      "✅ Successfully downloaded 0 filings for TAIWAN SEMICONDUCTOR MANUFACTURING CO LTD in 2018\n",
      "None\n",
      "✅ Successfully downloaded 3 filings for Broadcom Inc. in 2019\n",
      "None\n",
      "🔍 Checking 10-Q filings for TAIWAN SEMICONDUCTOR MANUFACTURING CO LTD (TSM) in 2020...\n",
      "🔍 Checking 10-Q filings for TAIWAN SEMICONDUCTOR MANUFACTURING CO LTD (TSM) in 2021...\n",
      "🔍 Checking 10-Q filings for TAIWAN SEMICONDUCTOR MANUFACTURING CO LTD (TSM) in 2023...\n",
      "🔍 Checking 10-Q filings for TAIWAN SEMICONDUCTOR MANUFACTURING CO LTD (TSM) in 2022...\n"
     ]
    },
    {
     "name": "stderr",
     "output_type": "stream",
     "text": [
      "  0%|          | 93/106909 [00:50<10:50:11,  2.74it/s]"
     ]
    },
    {
     "name": "stdout",
     "output_type": "stream",
     "text": [
      "✅ Successfully downloaded 0 filings for TAIWAN SEMICONDUCTOR MANUFACTURING CO LTD in 2019\n",
      "None\n"
     ]
    },
    {
     "name": "stderr",
     "output_type": "stream",
     "text": [
      "  0%|          | 94/106909 [00:50<10:58:40,  2.70it/s]"
     ]
    },
    {
     "name": "stdout",
     "output_type": "stream",
     "text": [
      "✅ Successfully downloaded 0 filings for TAIWAN SEMICONDUCTOR MANUFACTURING CO LTD in 2020\n",
      "None\n",
      "🔍 Checking 10-Q filings for TAIWAN SEMICONDUCTOR MANUFACTURING CO LTD (TSM) in 2024...\n"
     ]
    },
    {
     "name": "stderr",
     "output_type": "stream",
     "text": [
      "  0%|          | 95/106909 [00:51<10:28:36,  2.83it/s]"
     ]
    },
    {
     "name": "stdout",
     "output_type": "stream",
     "text": [
      "✅ Successfully downloaded 0 filings for TAIWAN SEMICONDUCTOR MANUFACTURING CO LTD in 2021\n",
      "None\n",
      "✅ Successfully downloaded 0 filings for TAIWAN SEMICONDUCTOR MANUFACTURING CO LTD in 2023\n",
      "None\n"
     ]
    },
    {
     "name": "stderr",
     "output_type": "stream",
     "text": [
      "  0%|          | 96/106909 [00:51<15:57:49,  1.86it/s]"
     ]
    },
    {
     "name": "stdout",
     "output_type": "stream",
     "text": [
      "🔍 Checking 10-Q filings for TAIWAN SEMICONDUCTOR MANUFACTURING CO LTD (TSM) in 2025...\n",
      "✅ Successfully downloaded 0 filings for TAIWAN SEMICONDUCTOR MANUFACTURING CO LTD in 2022\n"
     ]
    },
    {
     "name": "stderr",
     "output_type": "stream",
     "text": [
      "\n"
     ]
    },
    {
     "name": "stdout",
     "output_type": "stream",
     "text": [
      "🔍 Checking 10-Q filings for Tesla, Inc. (TSLA) in 2015...\n",
      "🔍 Checking 10-Q filings for Tesla, Inc. (TSLA) in 2016...\n",
      "🔍 Checking 10-Q filings for Tesla, Inc. (TSLA) in 2017...\n",
      "✅ Successfully downloaded 0 filings for TAIWAN SEMICONDUCTOR MANUFACTURING CO LTD in 2024\n",
      "✅ Successfully downloaded 0 filings for TAIWAN SEMICONDUCTOR MANUFACTURING CO LTD in 2025\n",
      "🔍 Checking 10-Q filings for Tesla, Inc. (TSLA) in 2018...\n",
      "🔍 Checking 10-Q filings for Tesla, Inc. (TSLA) in 2019...\n",
      "✅ Successfully downloaded 3 filings for Tesla, Inc. in 2015\n",
      "✅ Successfully downloaded 3 filings for Tesla, Inc. in 2016\n",
      "🔍 Checking 10-Q filings for Tesla, Inc. (TSLA) in 2020...\n",
      "✅ Successfully downloaded 3 filings for Tesla, Inc. in 2018\n",
      "🔍 Checking 10-Q filings for Tesla, Inc. (TSLA) in 2021...\n",
      "✅ Successfully downloaded 3 filings for Tesla, Inc. in 2017\n",
      "🔍 Checking 10-Q filings for Tesla, Inc. (TSLA) in 2022...\n",
      "✅ Successfully downloaded 3 filings for Tesla, Inc. in 2019\n",
      "✅ Successfully downloaded 3 filings for Tesla, Inc. in 2020\n",
      "🔍 Checking 10-Q filings for Tesla, Inc. (TSLA) in 2023...\n",
      "🔍 Checking 10-Q filings for Tesla, Inc. (TSLA) in 2024...\n",
      "✅ Successfully downloaded 3 filings for Tesla, Inc. in 2021🔍 Checking 10-Q filings for Tesla, Inc. (TSLA) in 2025...\n",
      "\n",
      "✅ Successfully downloaded 3 filings for Tesla, Inc. in 2022\n",
      "🔍 Checking 10-Q filings for ELI LILLY & Co (LLY) in 2016...\n",
      "🔍 Checking 10-Q filings for ELI LILLY & Co (LLY) in 2015...\n",
      "✅ Successfully downloaded 3 filings for Tesla, Inc. in 2023\n",
      "✅ Successfully downloaded 3 filings for Tesla, Inc. in 2024\n",
      "✅ Successfully downloaded 0 filings for Tesla, Inc. in 2025\n",
      "🔍 Checking 10-Q filings for ELI LILLY & Co (LLY) in 2017...\n",
      "🔍 Checking 10-Q filings for ELI LILLY & Co (LLY) in 2018...\n",
      "🔍 Checking 10-Q filings for ELI LILLY & Co (LLY) in 2019...\n"
     ]
    }
   ],
   "source": [
    "import os\n",
    "import time\n",
    "import pandas as pd\n",
    "from concurrent.futures import ThreadPoolExecutor, as_completed\n",
    "from tqdm import tqdm\n",
    "from sec_edgar_downloader import Downloader\n",
    "\n",
    "# Constants\n",
    "HEADERS = {\"User-Agent\": \"sude.tiras@sabanciuniv.edu\"}  # Update with your details\n",
    "DOWNLOAD_DIR = \"10Q_filings\"\n",
    "YEARS = list(range(2015, 2026))  # Download filings for 2015-2025\n",
    "CSV_FILE = \"companies.csv\"  # Update with correct path\n",
    "\n",
    "# Load company CIKs from CSV\n",
    "def load_companies(csv_file):\n",
    "    df = pd.read_csv(csv_file, dtype={'CIK': str})  # Ensure CIKs are strings\n",
    "    df['CIK'] = df['CIK'].str.zfill(10)  # Ensure CIKs are 10-digit zero-padded\n",
    "    return df[['CIK', 'Ticker', 'Company Name']].dropna()\n",
    "\n",
    "# Sanitize company names for file storage\n",
    "def sanitize_name(name):\n",
    "    return \"\".join(c for c in name if c.isalnum() or c in (\" \", \"_\")).replace(\" \", \"_\")\n",
    "\n",
    "def download_filings(cik, ticker, company_name, year):\n",
    "    try:\n",
    "        dl = Downloader(DOWNLOAD_DIR, \"sude.tiras@sabanciuniv.edu\")\n",
    "        print(f\"🔍 Checking 10-Q filings for {company_name} ({ticker}) in {year}...\")\n",
    "\n",
    "        # Try fetching 10-Qs first\n",
    "        filings = dl.get(\"10-Q\", cik, after=f\"{year}-01-01\", before=f\"{year}-12-31\")\n",
    "\n",
    "        if isinstance(filings, int):\n",
    "            print(f\"✅ Successfully downloaded {filings} filings for {company_name} in {year}\")\n",
    "        else:\n",
    "            print(f\"❌ No filings found for {company_name} in {year}\")\n",
    "    \n",
    "    except Exception as e:\n",
    "        print(f\"❌ Error downloading {company_name} ({ticker}) {year}: {e}\")\n",
    "\n",
    "\n",
    "\n",
    "\"\"\"\n",
    "# Download all 10-Q filings for a company in a given year\n",
    "def download_filings(cik, ticker, company_name, year):\n",
    "    try:\n",
    "        dl = Downloader(DOWNLOAD_DIR, \"hitiras@hotmail.com\")\n",
    "        folder = os.path.join(DOWNLOAD_DIR, sanitize_name(company_name))\n",
    "        os.makedirs(folder, exist_ok=True)\n",
    "\n",
    "        # Try fetching 10-Qs first\n",
    "        filings = dl.get(\"10-Q\", cik, after=f\"{year}-01-01\", before=f\"{year}-12-31\")\n",
    "\n",
    "        # If no 10-Qs, attempt to fetch 10-K as a backup\n",
    "        if not filings or isinstance(filings, int):\n",
    "            filings = dl.get(\"10-K\", cik, after=f\"{year}-01-01\", before=f\"{year}-12-31\")\n",
    "            if not filings or isinstance(filings, int):\n",
    "                return f\"No filings found for {company_name} ({ticker}) in {year}\"\n",
    "\n",
    "        # Rename and store files\n",
    "        for i, filing in enumerate(filings, start=1):\n",
    "            new_filename = os.path.join(folder, f\"{sanitize_name(company_name)}_{year}_Q{i}.txt\")\n",
    "            os.rename(filing, new_filename)\n",
    "\n",
    "        return f\"Downloaded {len(filings)} filings for {company_name} ({ticker}) in {year}\"\n",
    "    \n",
    "    except Exception as e:\n",
    "        return f\"Error downloading {company_name} ({ticker}) {year}: {e}\"\n",
    "\"\"\"\n",
    "# Main function to manage downloads\n",
    "def main():\n",
    "    companies = load_companies(CSV_FILE)\n",
    "    \n",
    "    with ThreadPoolExecutor(max_workers=5) as executor:  # Control request rate\n",
    "        futures = {\n",
    "            executor.submit(download_filings, row['CIK'], row['Ticker'], row['Company Name'], year): \n",
    "            (row['Company Name'], row['Ticker'], year)\n",
    "            for _, row in companies.iterrows()\n",
    "            for year in YEARS\n",
    "        }\n",
    "\n",
    "        for future in tqdm(as_completed(futures), total=len(futures)):\n",
    "            company_name, ticker, year = futures[future]\n",
    "            try:\n",
    "                print(future.result())\n",
    "            except Exception as e:\n",
    "                print(f\"Error downloading {company_name} ({ticker}) {year}: {e}\")\n",
    "\n",
    "if __name__ == \"__main__\":\n",
    "    main()\n"
   ]
  },
  {
   "cell_type": "code",
   "execution_count": 2,
   "metadata": {},
   "outputs": [
    {
     "name": "stdout",
     "output_type": "stream",
     "text": [
      "✅ Successfully downloaded 3 filings.\n"
     ]
    }
   ],
   "source": [
    "from sec_edgar_downloader import Downloader\n",
    "import os\n",
    "\n",
    "dl = Downloader(\"test_downloads\", \"your.email@example.com\")  \n",
    "cik = \"0000320193\"  # Apple CIK\n",
    "\n",
    "# Download 10-Q filings for Apple in 2023\n",
    "num_files = dl.get(\"10-Q\", cik, after=\"2023-01-01\", before=\"2023-12-31\")\n",
    "\n",
    "# Check if downloads happened\n",
    "if isinstance(num_files, int) and num_files > 0:\n",
    "    print(f\"✅ Successfully downloaded {num_files} filings.\")\n",
    "else:\n",
    "    print(\"❌ No filings downloaded. Check sec-edgar-downloader.\")\n"
   ]
  },
  {
   "cell_type": "code",
   "execution_count": 3,
   "metadata": {},
   "outputs": [
    {
     "name": "stdout",
     "output_type": "stream",
     "text": [
      "❌ No files found in expected location.\n"
     ]
    }
   ],
   "source": [
    "import os\n",
    "\n",
    "# Find the actual save location inside \"test_downloads\"\n",
    "download_folder = \"test_downloads/sec-edgar-filings/0000320193/10-Q\"\n",
    "\n",
    "if os.path.exists(download_folder):\n",
    "    print(f\"✅ Files are stored in: {download_folder}\")\n",
    "    print(\"Downloaded files:\", os.listdir(download_folder))\n",
    "else:\n",
    "    print(\"❌ No files found in expected location.\")\n"
   ]
  },
  {
   "cell_type": "code",
   "execution_count": 4,
   "metadata": {},
   "outputs": [
    {
     "name": "stdout",
     "output_type": "stream",
     "text": [
      "❌ test_downloads/ directory does not exist.\n"
     ]
    }
   ],
   "source": [
    "import os\n",
    "\n",
    "root_folder = \"test_downloads\"\n",
    "\n",
    "if os.path.exists(root_folder):\n",
    "    print(f\"📂 Folders inside {root_folder}:\")\n",
    "    print(os.listdir(root_folder))\n",
    "else:\n",
    "    print(\"❌ test_downloads/ directory does not exist.\")\n"
   ]
  },
  {
   "cell_type": "code",
   "execution_count": 7,
   "metadata": {},
   "outputs": [
    {
     "name": "stdout",
     "output_type": "stream",
     "text": [
      "✅ sec-edgar-downloader is saving files in: test_downloads/sec-edgar-filings/0000320193/10-Q\n"
     ]
    }
   ],
   "source": [
    "from sec_edgar_downloader import Downloader\n",
    "\n",
    "dl = Downloader(\"test_downloads\", \"your.email@example.com\")\n",
    "\n",
    "# Print the actual save directory\n",
    "print(f\"✅ sec-edgar-downloader is saving files in: {download_folder}\")\n"
   ]
  },
  {
   "cell_type": "code",
   "execution_count": 5,
   "metadata": {},
   "outputs": [],
   "source": [
    "import os\n",
    "\n",
    "for root, dirs, files in os.walk(\"test_downloads\"):\n",
    "    for file in files:\n",
    "        if \"10-Q\" in file:\n",
    "            print(f\"✅ Found: {os.path.join(root, file)}\")\n"
   ]
  },
  {
   "cell_type": "code",
   "execution_count": 1,
   "metadata": {},
   "outputs": [
    {
     "name": "stdout",
     "output_type": "stream",
     "text": [
      "5.0.3\n"
     ]
    }
   ],
   "source": [
    "import sec_edgar_downloader\n",
    "print(sec_edgar_downloader.__version__)\n"
   ]
  },
  {
   "cell_type": "code",
   "execution_count": 3,
   "metadata": {},
   "outputs": [
    {
     "name": "stdout",
     "output_type": "stream",
     "text": [
      "✅ Successfully downloaded 3 10-Q filings.\n"
     ]
    }
   ],
   "source": [
    "from sec_edgar_downloader import Downloader\n",
    "\n",
    "# Provide an email address as required by SEC\n",
    "dl = Downloader(\"test_downloads\", \"sude.tiras@sabanciuniv.edu\")  \n",
    "\n",
    "# Apple's CIK\n",
    "cik = \"0000320193\"  \n",
    "\n",
    "# Attempt to download 10-Q for 2023\n",
    "filings = dl.get(\"10-Q\", cik, after=\"2023-01-01\", before=\"2023-12-31\")\n",
    "\n",
    "if isinstance(filings, int):\n",
    "    print(f\"✅ Successfully downloaded {filings} 10-Q filings.\")\n",
    "else:\n",
    "    print(\"❌ No filings downloaded. Check sec-edgar-downloader.\")\n"
   ]
  },
  {
   "cell_type": "code",
   "execution_count": 2,
   "metadata": {},
   "outputs": [
    {
     "name": "stdout",
     "output_type": "stream",
     "text": [
      "✅ 10-Q Filings Found:\n",
      "- 10-Q filed on 2025-01-31\n",
      "- 10-Q filed on 2024-08-02\n",
      "- 10-Q filed on 2024-05-03\n",
      "- 10-Q filed on 2024-02-02\n",
      "- 10-Q filed on 2023-08-04\n",
      "- 10-Q filed on 2023-05-05\n",
      "- 10-Q filed on 2023-02-03\n",
      "- 10-Q filed on 2022-07-29\n",
      "- 10-Q filed on 2022-04-29\n",
      "- 10-Q filed on 2022-01-28\n",
      "- 10-Q filed on 2021-07-28\n",
      "- 10-Q filed on 2021-04-29\n",
      "- 10-Q filed on 2021-01-28\n",
      "- 10-Q filed on 2020-07-31\n",
      "- 10-Q filed on 2020-05-01\n",
      "- 10-Q filed on 2020-01-29\n",
      "- 10-Q filed on 2019-07-31\n",
      "- 10-Q filed on 2019-05-01\n",
      "- 10-Q filed on 2019-01-30\n",
      "- 10-Q filed on 2018-08-01\n",
      "- 10-Q filed on 2018-05-02\n",
      "- 10-Q filed on 2018-02-02\n",
      "- 10-Q filed on 2017-08-02\n",
      "- 10-Q filed on 2017-05-03\n",
      "- 10-Q filed on 2017-02-01\n",
      "- 10-Q filed on 2016-07-27\n",
      "- 10-Q filed on 2016-04-27\n",
      "- 10-Q filed on 2016-01-27\n",
      "- 10-Q filed on 2015-07-22\n",
      "- 10-Q filed on 2015-04-28\n",
      "- 10-Q filed on 2015-01-28\n",
      "- 10-Q filed on 2014-07-23\n"
     ]
    }
   ],
   "source": [
    "import requests\n",
    "\n",
    "cik = \"0000320193\"  # Apple Inc.\n",
    "headers = {\"User-Agent\": \"your.email@example.com\"}\n",
    "url = f\"https://data.sec.gov/submissions/CIK{cik}.json\"\n",
    "\n",
    "response = requests.get(url, headers=headers)\n",
    "if response.status_code == 200:\n",
    "    data = response.json()\n",
    "    filings = data.get(\"filings\", {}).get(\"recent\", {})\n",
    "    \n",
    "    # Check if 10-Qs exist\n",
    "    form_types = filings.get(\"form\", [])\n",
    "    filing_dates = filings.get(\"filingDate\", [])\n",
    "\n",
    "    # Filter for 10-Q forms\n",
    "    ten_qs = [(date, form) for date, form in zip(filing_dates, form_types) if form == \"10-Q\"]\n",
    "    \n",
    "    if ten_qs:\n",
    "        print(\"✅ 10-Q Filings Found:\")\n",
    "        for date, form in ten_qs:\n",
    "            print(f\"- {form} filed on {date}\")\n",
    "    else:\n",
    "        print(\"❌ No 10-Q filings found in SEC's API response.\")\n",
    "else:\n",
    "    print(\"❌ Failed to fetch SEC data.\")\n"
   ]
  },
  {
   "cell_type": "code",
   "execution_count": 3,
   "metadata": {},
   "outputs": [
    {
     "name": "stdout",
     "output_type": "stream",
     "text": [
      "✅ Files downloaded in: 10Q_filings\\Apple_Inc\n",
      "Downloaded files: []\n"
     ]
    }
   ],
   "source": [
    "import os\n",
    "\n",
    "download_dir = \"10Q_filings\"  # Update if different\n",
    "company_name = \"Apple_Inc\"  # Adjust if needed\n",
    "\n",
    "company_folder = os.path.join(download_dir, company_name)\n",
    "if os.path.exists(company_folder):\n",
    "    print(f\"✅ Files downloaded in: {company_folder}\")\n",
    "    print(\"Downloaded files:\", os.listdir(company_folder))\n",
    "else:\n",
    "    print(\"❌ No files found. Check sec-edgar-downloader settings.\")\n"
   ]
  }
 ],
 "metadata": {
  "kernelspec": {
   "display_name": "pythonenv",
   "language": "python",
   "name": "python3"
  },
  "language_info": {
   "codemirror_mode": {
    "name": "ipython",
    "version": 3
   },
   "file_extension": ".py",
   "mimetype": "text/x-python",
   "name": "python",
   "nbconvert_exporter": "python",
   "pygments_lexer": "ipython3",
   "version": "3.12.9"
  }
 },
 "nbformat": 4,
 "nbformat_minor": 2
}
